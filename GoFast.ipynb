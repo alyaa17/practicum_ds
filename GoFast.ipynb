{
 "cells": [
  {
   "cell_type": "markdown",
   "id": "63c842c6",
   "metadata": {},
   "source": [
    "# GoFast"
   ]
  },
  {
   "cell_type": "markdown",
   "id": "e629f8fe",
   "metadata": {},
   "source": [
    "Вы аналитик популярного сервиса аренды самокатов GoFast. Вам передали данные о некоторых пользователях из нескольких городов, а также об их поездках. Проанализируйте данные и проверьте некоторые гипотезы, которые могут помочь бизнесу вырасти.\n",
    "\n",
    "Чтобы совершать поездки по городу, пользователи сервиса GoFast пользуются мобильным приложением. Сервисом можно пользоваться:\n",
    "\n",
    "__Без подписки__\n",
    "* абонентская плата отсутствует;\n",
    "* стоимость одной минуты поездки — 8 рублей;\n",
    "* стоимость старта (начала поездки) — 50 рублей;\n",
    "\n",
    "__С подпиской Ultra__\n",
    "* абонентская плата — 199 рублей в месяц;\n",
    "* стоимость одной минуты поездки — 6 рублей;\n",
    "* стоимость старта — бесплатно."
   ]
  },
  {
   "cell_type": "markdown",
   "id": "f91a8736",
   "metadata": {},
   "source": [
    " __Цель исследования__ - проанализировать развитие сервиса GoFast и помочь бизнесу вырасти. Для этого подсчитаем выручку компании и проверим несколько гипотез:\n",
    "* Тратят ли пользователи с подпиской больше времени на поездки? \n",
    "* Расстояние одной поездки в 3130 метров — оптимальное с точки зрения износа самоката. \n",
    "* Обновление серверов снизит количество обращений в техподдержку.\n"
   ]
  },
  {
   "cell_type": "markdown",
   "id": "01468ff6",
   "metadata": {},
   "source": [
    "__Ход исследования__:\n",
    "1. Загрузка и предобработка данных;\n",
    "2. Визуализация полученной информации;\n",
    "3. Подсчет и проверка гипотез. \n",
    "    "
   ]
  },
  {
   "cell_type": "code",
   "execution_count": 1,
   "id": "72576667",
   "metadata": {},
   "outputs": [],
   "source": [
    "import pandas as pd\n",
    "import matplotlib.pyplot as plt\n",
    "from math import ceil\n",
    "from scipy import stats as st\n",
    "import numpy as np"
   ]
  },
  {
   "cell_type": "markdown",
   "id": "c42cbe00",
   "metadata": {},
   "source": [
    "## Шаг 1. Загрузка данных"
   ]
  },
  {
   "cell_type": "code",
   "execution_count": 2,
   "id": "eff9f206",
   "metadata": {},
   "outputs": [],
   "source": [
    "users = pd.read_csv('datasets/users_go.csv')\n",
    "rides = pd.read_csv('datasets/rides_go.csv')\n",
    "subscriptions = pd.read_csv('datasets/subscriptions_go.csv')"
   ]
  },
  {
   "cell_type": "code",
   "execution_count": 3,
   "id": "859811cb",
   "metadata": {},
   "outputs": [
    {
     "data": {
      "text/html": [
       "<div>\n",
       "<style scoped>\n",
       "    .dataframe tbody tr th:only-of-type {\n",
       "        vertical-align: middle;\n",
       "    }\n",
       "\n",
       "    .dataframe tbody tr th {\n",
       "        vertical-align: top;\n",
       "    }\n",
       "\n",
       "    .dataframe thead th {\n",
       "        text-align: right;\n",
       "    }\n",
       "</style>\n",
       "<table border=\"1\" class=\"dataframe\">\n",
       "  <thead>\n",
       "    <tr style=\"text-align: right;\">\n",
       "      <th></th>\n",
       "      <th>user_id</th>\n",
       "      <th>name</th>\n",
       "      <th>age</th>\n",
       "      <th>city</th>\n",
       "      <th>subscription_type</th>\n",
       "    </tr>\n",
       "  </thead>\n",
       "  <tbody>\n",
       "    <tr>\n",
       "      <th>0</th>\n",
       "      <td>1</td>\n",
       "      <td>Кира</td>\n",
       "      <td>22</td>\n",
       "      <td>Тюмень</td>\n",
       "      <td>ultra</td>\n",
       "    </tr>\n",
       "    <tr>\n",
       "      <th>1</th>\n",
       "      <td>2</td>\n",
       "      <td>Станислав</td>\n",
       "      <td>31</td>\n",
       "      <td>Омск</td>\n",
       "      <td>ultra</td>\n",
       "    </tr>\n",
       "    <tr>\n",
       "      <th>2</th>\n",
       "      <td>3</td>\n",
       "      <td>Алексей</td>\n",
       "      <td>20</td>\n",
       "      <td>Москва</td>\n",
       "      <td>ultra</td>\n",
       "    </tr>\n",
       "    <tr>\n",
       "      <th>3</th>\n",
       "      <td>4</td>\n",
       "      <td>Константин</td>\n",
       "      <td>26</td>\n",
       "      <td>Ростов-на-Дону</td>\n",
       "      <td>ultra</td>\n",
       "    </tr>\n",
       "    <tr>\n",
       "      <th>4</th>\n",
       "      <td>5</td>\n",
       "      <td>Адель</td>\n",
       "      <td>28</td>\n",
       "      <td>Омск</td>\n",
       "      <td>ultra</td>\n",
       "    </tr>\n",
       "  </tbody>\n",
       "</table>\n",
       "</div>"
      ],
      "text/plain": [
       "   user_id        name  age            city subscription_type\n",
       "0        1        Кира   22          Тюмень             ultra\n",
       "1        2   Станислав   31            Омск             ultra\n",
       "2        3     Алексей   20          Москва             ultra\n",
       "3        4  Константин   26  Ростов-на-Дону             ultra\n",
       "4        5       Адель   28            Омск             ultra"
      ]
     },
     "execution_count": 3,
     "metadata": {},
     "output_type": "execute_result"
    }
   ],
   "source": [
    "users.head()"
   ]
  },
  {
   "cell_type": "markdown",
   "id": "e6214383",
   "metadata": {},
   "source": [
    "В этой таблице находятся основные данные о каждом пользователе - id, имя, возраст и город проживания. Так же указан тип подписки. "
   ]
  },
  {
   "cell_type": "code",
   "execution_count": 4,
   "id": "cb8e9650",
   "metadata": {},
   "outputs": [
    {
     "data": {
      "text/html": [
       "<div>\n",
       "<style scoped>\n",
       "    .dataframe tbody tr th:only-of-type {\n",
       "        vertical-align: middle;\n",
       "    }\n",
       "\n",
       "    .dataframe tbody tr th {\n",
       "        vertical-align: top;\n",
       "    }\n",
       "\n",
       "    .dataframe thead th {\n",
       "        text-align: right;\n",
       "    }\n",
       "</style>\n",
       "<table border=\"1\" class=\"dataframe\">\n",
       "  <thead>\n",
       "    <tr style=\"text-align: right;\">\n",
       "      <th></th>\n",
       "      <th>user_id</th>\n",
       "      <th>distance</th>\n",
       "      <th>duration</th>\n",
       "      <th>date</th>\n",
       "    </tr>\n",
       "  </thead>\n",
       "  <tbody>\n",
       "    <tr>\n",
       "      <th>0</th>\n",
       "      <td>1</td>\n",
       "      <td>4409.919140</td>\n",
       "      <td>25.599769</td>\n",
       "      <td>2021-01-01</td>\n",
       "    </tr>\n",
       "    <tr>\n",
       "      <th>1</th>\n",
       "      <td>1</td>\n",
       "      <td>2617.592153</td>\n",
       "      <td>15.816871</td>\n",
       "      <td>2021-01-18</td>\n",
       "    </tr>\n",
       "    <tr>\n",
       "      <th>2</th>\n",
       "      <td>1</td>\n",
       "      <td>754.159807</td>\n",
       "      <td>6.232113</td>\n",
       "      <td>2021-04-20</td>\n",
       "    </tr>\n",
       "    <tr>\n",
       "      <th>3</th>\n",
       "      <td>1</td>\n",
       "      <td>2694.783254</td>\n",
       "      <td>18.511000</td>\n",
       "      <td>2021-08-11</td>\n",
       "    </tr>\n",
       "    <tr>\n",
       "      <th>4</th>\n",
       "      <td>1</td>\n",
       "      <td>4028.687306</td>\n",
       "      <td>26.265803</td>\n",
       "      <td>2021-08-28</td>\n",
       "    </tr>\n",
       "  </tbody>\n",
       "</table>\n",
       "</div>"
      ],
      "text/plain": [
       "   user_id     distance   duration        date\n",
       "0        1  4409.919140  25.599769  2021-01-01\n",
       "1        1  2617.592153  15.816871  2021-01-18\n",
       "2        1   754.159807   6.232113  2021-04-20\n",
       "3        1  2694.783254  18.511000  2021-08-11\n",
       "4        1  4028.687306  26.265803  2021-08-28"
      ]
     },
     "execution_count": 4,
     "metadata": {},
     "output_type": "execute_result"
    }
   ],
   "source": [
    "rides.head()"
   ]
  },
  {
   "cell_type": "markdown",
   "id": "1e1d5ae6",
   "metadata": {},
   "source": [
    "Здесь дана информация об активности пользователей (совершеннах поездках):\n",
    "* distance - расстояние, которое пользователь проехал в текущей сессии;\n",
    "* duration - продолжительность сессии (в минутах);\n",
    "* date - дата совершения поездки.\n",
    "\n",
    "Так же видим, что таблицы users и rides содержат один общий столбец - id пользователя."
   ]
  },
  {
   "cell_type": "code",
   "execution_count": 5,
   "id": "c63caf79",
   "metadata": {},
   "outputs": [
    {
     "data": {
      "text/html": [
       "<div>\n",
       "<style scoped>\n",
       "    .dataframe tbody tr th:only-of-type {\n",
       "        vertical-align: middle;\n",
       "    }\n",
       "\n",
       "    .dataframe tbody tr th {\n",
       "        vertical-align: top;\n",
       "    }\n",
       "\n",
       "    .dataframe thead th {\n",
       "        text-align: right;\n",
       "    }\n",
       "</style>\n",
       "<table border=\"1\" class=\"dataframe\">\n",
       "  <thead>\n",
       "    <tr style=\"text-align: right;\">\n",
       "      <th></th>\n",
       "      <th>subscription_type</th>\n",
       "      <th>minute_price</th>\n",
       "      <th>start_ride_price</th>\n",
       "      <th>subscription_fee</th>\n",
       "    </tr>\n",
       "  </thead>\n",
       "  <tbody>\n",
       "    <tr>\n",
       "      <th>0</th>\n",
       "      <td>free</td>\n",
       "      <td>8</td>\n",
       "      <td>50</td>\n",
       "      <td>0</td>\n",
       "    </tr>\n",
       "    <tr>\n",
       "      <th>1</th>\n",
       "      <td>ultra</td>\n",
       "      <td>6</td>\n",
       "      <td>0</td>\n",
       "      <td>199</td>\n",
       "    </tr>\n",
       "  </tbody>\n",
       "</table>\n",
       "</div>"
      ],
      "text/plain": [
       "  subscription_type  minute_price  start_ride_price  subscription_fee\n",
       "0              free             8                50                 0\n",
       "1             ultra             6                 0               199"
      ]
     },
     "execution_count": 5,
     "metadata": {},
     "output_type": "execute_result"
    }
   ],
   "source": [
    "subscriptions.head()"
   ]
  },
  {
   "cell_type": "markdown",
   "id": "d59158c2",
   "metadata": {},
   "source": [
    "В таблице subscriptions всего две строки - информация о каждом типе подписки. "
   ]
  },
  {
   "cell_type": "markdown",
   "id": "2a12e0fd",
   "metadata": {},
   "source": [
    "Таким образом, имеем данные о пользователях, их поездках (использовании сервиса) и подписках. "
   ]
  },
  {
   "cell_type": "markdown",
   "id": "e95ebca7",
   "metadata": {},
   "source": [
    "## Шаг 2. Предобработка данных"
   ]
  },
  {
   "cell_type": "markdown",
   "id": "8f9079d5",
   "metadata": {},
   "source": [
    "Выведем столбец с датами поездок из rides. "
   ]
  },
  {
   "cell_type": "code",
   "execution_count": 6,
   "id": "39548bd1",
   "metadata": {},
   "outputs": [
    {
     "data": {
      "text/plain": [
       "0    2021-01-01\n",
       "1    2021-01-18\n",
       "2    2021-04-20\n",
       "3    2021-08-11\n",
       "4    2021-08-28\n",
       "Name: date, dtype: object"
      ]
     },
     "execution_count": 6,
     "metadata": {},
     "output_type": "execute_result"
    }
   ],
   "source": [
    "rides['date'].head()"
   ]
  },
  {
   "cell_type": "markdown",
   "id": "3cf3c180",
   "metadata": {},
   "source": [
    "Приведем его к типу datetime64:"
   ]
  },
  {
   "cell_type": "code",
   "execution_count": 7,
   "id": "af6d202c",
   "metadata": {},
   "outputs": [],
   "source": [
    "rides['date'] = pd.to_datetime(rides['date'], format='%Y-%m-%d')"
   ]
  },
  {
   "cell_type": "code",
   "execution_count": 8,
   "id": "3825a53e",
   "metadata": {},
   "outputs": [
    {
     "data": {
      "text/plain": [
       "0   2021-01-01\n",
       "1   2021-01-18\n",
       "2   2021-04-20\n",
       "3   2021-08-11\n",
       "4   2021-08-28\n",
       "Name: date, dtype: datetime64[ns]"
      ]
     },
     "execution_count": 8,
     "metadata": {},
     "output_type": "execute_result"
    }
   ],
   "source": [
    "rides['date'].head()"
   ]
  },
  {
   "cell_type": "markdown",
   "id": "0f170e8a",
   "metadata": {},
   "source": [
    "Создадим отдельный столбец с месяцем:"
   ]
  },
  {
   "cell_type": "code",
   "execution_count": 9,
   "id": "74c51431",
   "metadata": {},
   "outputs": [],
   "source": [
    "rides['month'] = pd.to_datetime(rides['date']).dt.month"
   ]
  },
  {
   "cell_type": "code",
   "execution_count": 10,
   "id": "d2eb173a",
   "metadata": {},
   "outputs": [
    {
     "data": {
      "text/html": [
       "<div>\n",
       "<style scoped>\n",
       "    .dataframe tbody tr th:only-of-type {\n",
       "        vertical-align: middle;\n",
       "    }\n",
       "\n",
       "    .dataframe tbody tr th {\n",
       "        vertical-align: top;\n",
       "    }\n",
       "\n",
       "    .dataframe thead th {\n",
       "        text-align: right;\n",
       "    }\n",
       "</style>\n",
       "<table border=\"1\" class=\"dataframe\">\n",
       "  <thead>\n",
       "    <tr style=\"text-align: right;\">\n",
       "      <th></th>\n",
       "      <th>user_id</th>\n",
       "      <th>distance</th>\n",
       "      <th>duration</th>\n",
       "      <th>date</th>\n",
       "      <th>month</th>\n",
       "    </tr>\n",
       "  </thead>\n",
       "  <tbody>\n",
       "    <tr>\n",
       "      <th>0</th>\n",
       "      <td>1</td>\n",
       "      <td>4409.919140</td>\n",
       "      <td>25.599769</td>\n",
       "      <td>2021-01-01</td>\n",
       "      <td>1</td>\n",
       "    </tr>\n",
       "    <tr>\n",
       "      <th>1</th>\n",
       "      <td>1</td>\n",
       "      <td>2617.592153</td>\n",
       "      <td>15.816871</td>\n",
       "      <td>2021-01-18</td>\n",
       "      <td>1</td>\n",
       "    </tr>\n",
       "    <tr>\n",
       "      <th>2</th>\n",
       "      <td>1</td>\n",
       "      <td>754.159807</td>\n",
       "      <td>6.232113</td>\n",
       "      <td>2021-04-20</td>\n",
       "      <td>4</td>\n",
       "    </tr>\n",
       "    <tr>\n",
       "      <th>3</th>\n",
       "      <td>1</td>\n",
       "      <td>2694.783254</td>\n",
       "      <td>18.511000</td>\n",
       "      <td>2021-08-11</td>\n",
       "      <td>8</td>\n",
       "    </tr>\n",
       "    <tr>\n",
       "      <th>4</th>\n",
       "      <td>1</td>\n",
       "      <td>4028.687306</td>\n",
       "      <td>26.265803</td>\n",
       "      <td>2021-08-28</td>\n",
       "      <td>8</td>\n",
       "    </tr>\n",
       "  </tbody>\n",
       "</table>\n",
       "</div>"
      ],
      "text/plain": [
       "   user_id     distance   duration       date  month\n",
       "0        1  4409.919140  25.599769 2021-01-01      1\n",
       "1        1  2617.592153  15.816871 2021-01-18      1\n",
       "2        1   754.159807   6.232113 2021-04-20      4\n",
       "3        1  2694.783254  18.511000 2021-08-11      8\n",
       "4        1  4028.687306  26.265803 2021-08-28      8"
      ]
     },
     "execution_count": 10,
     "metadata": {},
     "output_type": "execute_result"
    }
   ],
   "source": [
    "rides.head()"
   ]
  },
  {
   "cell_type": "markdown",
   "id": "e7a11bad",
   "metadata": {},
   "source": [
    "Проверим датафреймы users и rides на наличие пропущенных значений и дубликатов:"
   ]
  },
  {
   "cell_type": "code",
   "execution_count": 11,
   "id": "b4520bfb",
   "metadata": {},
   "outputs": [
    {
     "name": "stdout",
     "output_type": "stream",
     "text": [
      "<class 'pandas.core.frame.DataFrame'>\n",
      "RangeIndex: 1565 entries, 0 to 1564\n",
      "Data columns (total 5 columns):\n",
      " #   Column             Non-Null Count  Dtype \n",
      "---  ------             --------------  ----- \n",
      " 0   user_id            1565 non-null   int64 \n",
      " 1   name               1565 non-null   object\n",
      " 2   age                1565 non-null   int64 \n",
      " 3   city               1565 non-null   object\n",
      " 4   subscription_type  1565 non-null   object\n",
      "dtypes: int64(2), object(3)\n",
      "memory usage: 61.3+ KB\n"
     ]
    }
   ],
   "source": [
    "users.info()"
   ]
  },
  {
   "cell_type": "code",
   "execution_count": 12,
   "id": "3d03a404",
   "metadata": {},
   "outputs": [
    {
     "data": {
      "text/plain": [
       "user_id              0\n",
       "name                 0\n",
       "age                  0\n",
       "city                 0\n",
       "subscription_type    0\n",
       "dtype: int64"
      ]
     },
     "execution_count": 12,
     "metadata": {},
     "output_type": "execute_result"
    }
   ],
   "source": [
    "users.isna().sum()"
   ]
  },
  {
   "cell_type": "code",
   "execution_count": 13,
   "id": "76b66d41",
   "metadata": {},
   "outputs": [
    {
     "data": {
      "text/plain": [
       "1534"
      ]
     },
     "execution_count": 13,
     "metadata": {},
     "output_type": "execute_result"
    }
   ],
   "source": [
    "len(users['user_id'].unique())"
   ]
  },
  {
   "cell_type": "markdown",
   "id": "219afb2c",
   "metadata": {},
   "source": [
    "Видим, что в столбце user_id 1534 уникальных значения тогда, как в самом столбце их 1565. Так как id пользователя должен быть уникальным значением, удалим строки с дубликатами. Их 31 - следовательно, на общем анализе не отразится."
   ]
  },
  {
   "cell_type": "code",
   "execution_count": 14,
   "id": "cb4fad61",
   "metadata": {},
   "outputs": [],
   "source": [
    "users.columns = users.columns.str.strip()"
   ]
  },
  {
   "cell_type": "code",
   "execution_count": 15,
   "id": "df5fefbb",
   "metadata": {},
   "outputs": [],
   "source": [
    "users = users.sort_values('user_id')\n",
    "users = users.drop_duplicates(subset='user_id')"
   ]
  },
  {
   "cell_type": "code",
   "execution_count": 16,
   "id": "8e194be7",
   "metadata": {},
   "outputs": [
    {
     "name": "stdout",
     "output_type": "stream",
     "text": [
      "<class 'pandas.core.frame.DataFrame'>\n",
      "Index: 1534 entries, 0 to 1533\n",
      "Data columns (total 5 columns):\n",
      " #   Column             Non-Null Count  Dtype \n",
      "---  ------             --------------  ----- \n",
      " 0   user_id            1534 non-null   int64 \n",
      " 1   name               1534 non-null   object\n",
      " 2   age                1534 non-null   int64 \n",
      " 3   city               1534 non-null   object\n",
      " 4   subscription_type  1534 non-null   object\n",
      "dtypes: int64(2), object(3)\n",
      "memory usage: 71.9+ KB\n"
     ]
    }
   ],
   "source": [
    "users.info()"
   ]
  },
  {
   "cell_type": "code",
   "execution_count": 17,
   "id": "943b2e49",
   "metadata": {},
   "outputs": [
    {
     "name": "stdout",
     "output_type": "stream",
     "text": [
      "<class 'pandas.core.frame.DataFrame'>\n",
      "RangeIndex: 18068 entries, 0 to 18067\n",
      "Data columns (total 5 columns):\n",
      " #   Column    Non-Null Count  Dtype         \n",
      "---  ------    --------------  -----         \n",
      " 0   user_id   18068 non-null  int64         \n",
      " 1   distance  18068 non-null  float64       \n",
      " 2   duration  18068 non-null  float64       \n",
      " 3   date      18068 non-null  datetime64[ns]\n",
      " 4   month     18068 non-null  int32         \n",
      "dtypes: datetime64[ns](1), float64(2), int32(1), int64(1)\n",
      "memory usage: 635.3 KB\n"
     ]
    }
   ],
   "source": [
    "rides.info()"
   ]
  },
  {
   "cell_type": "code",
   "execution_count": 18,
   "id": "84afa5f6",
   "metadata": {},
   "outputs": [
    {
     "data": {
      "text/plain": [
       "user_id     0\n",
       "distance    0\n",
       "duration    0\n",
       "date        0\n",
       "month       0\n",
       "dtype: int64"
      ]
     },
     "execution_count": 18,
     "metadata": {},
     "output_type": "execute_result"
    }
   ],
   "source": [
    "rides.isna().sum()"
   ]
  },
  {
   "cell_type": "markdown",
   "id": "f30aa420",
   "metadata": {},
   "source": [
    "Пропусков нет"
   ]
  },
  {
   "cell_type": "code",
   "execution_count": 19,
   "id": "65a96b11",
   "metadata": {},
   "outputs": [
    {
     "data": {
      "text/html": [
       "<div>\n",
       "<style scoped>\n",
       "    .dataframe tbody tr th:only-of-type {\n",
       "        vertical-align: middle;\n",
       "    }\n",
       "\n",
       "    .dataframe tbody tr th {\n",
       "        vertical-align: top;\n",
       "    }\n",
       "\n",
       "    .dataframe thead th {\n",
       "        text-align: right;\n",
       "    }\n",
       "</style>\n",
       "<table border=\"1\" class=\"dataframe\">\n",
       "  <thead>\n",
       "    <tr style=\"text-align: right;\">\n",
       "      <th></th>\n",
       "      <th>user_id</th>\n",
       "      <th>distance</th>\n",
       "      <th>duration</th>\n",
       "      <th>date</th>\n",
       "      <th>month</th>\n",
       "    </tr>\n",
       "  </thead>\n",
       "  <tbody>\n",
       "    <tr>\n",
       "      <th>0</th>\n",
       "      <td>1</td>\n",
       "      <td>4409.919140</td>\n",
       "      <td>25.599769</td>\n",
       "      <td>2021-01-01</td>\n",
       "      <td>1</td>\n",
       "    </tr>\n",
       "    <tr>\n",
       "      <th>1</th>\n",
       "      <td>1</td>\n",
       "      <td>2617.592153</td>\n",
       "      <td>15.816871</td>\n",
       "      <td>2021-01-18</td>\n",
       "      <td>1</td>\n",
       "    </tr>\n",
       "    <tr>\n",
       "      <th>2</th>\n",
       "      <td>1</td>\n",
       "      <td>754.159807</td>\n",
       "      <td>6.232113</td>\n",
       "      <td>2021-04-20</td>\n",
       "      <td>4</td>\n",
       "    </tr>\n",
       "    <tr>\n",
       "      <th>3</th>\n",
       "      <td>1</td>\n",
       "      <td>2694.783254</td>\n",
       "      <td>18.511000</td>\n",
       "      <td>2021-08-11</td>\n",
       "      <td>8</td>\n",
       "    </tr>\n",
       "    <tr>\n",
       "      <th>4</th>\n",
       "      <td>1</td>\n",
       "      <td>4028.687306</td>\n",
       "      <td>26.265803</td>\n",
       "      <td>2021-08-28</td>\n",
       "      <td>8</td>\n",
       "    </tr>\n",
       "  </tbody>\n",
       "</table>\n",
       "</div>"
      ],
      "text/plain": [
       "   user_id     distance   duration       date  month\n",
       "0        1  4409.919140  25.599769 2021-01-01      1\n",
       "1        1  2617.592153  15.816871 2021-01-18      1\n",
       "2        1   754.159807   6.232113 2021-04-20      4\n",
       "3        1  2694.783254  18.511000 2021-08-11      8\n",
       "4        1  4028.687306  26.265803 2021-08-28      8"
      ]
     },
     "execution_count": 19,
     "metadata": {},
     "output_type": "execute_result"
    }
   ],
   "source": [
    "rides.head()"
   ]
  },
  {
   "cell_type": "code",
   "execution_count": 20,
   "id": "482770ec",
   "metadata": {},
   "outputs": [
    {
     "data": {
      "text/plain": [
       "1534"
      ]
     },
     "execution_count": 20,
     "metadata": {},
     "output_type": "execute_result"
    }
   ],
   "source": [
    "len(rides['user_id'].unique()) \n",
    "# здесь user_id могут иметь дубликаты, так как пользователи могут иметь несколько поездок"
   ]
  },
  {
   "cell_type": "markdown",
   "id": "60aa8d9d",
   "metadata": {},
   "source": [
    "На данном этапе поменяли тип данных в столбце даты в rides, сделали новый столбец с месяцем, удалили дубликаты в users и проверили датафреймы на наличие пропусков."
   ]
  },
  {
   "cell_type": "markdown",
   "id": "212593c7",
   "metadata": {},
   "source": [
    "## Шаг 3. Исследовательский анализ данных"
   ]
  },
  {
   "cell_type": "markdown",
   "id": "09e5c27c",
   "metadata": {},
   "source": [
    "#### len(users['city'].unique())"
   ]
  },
  {
   "cell_type": "code",
   "execution_count": 21,
   "id": "54fd0c03",
   "metadata": {},
   "outputs": [
    {
     "data": {
      "text/plain": [
       "city\n",
       "Пятигорск         219\n",
       "Екатеринбург      204\n",
       "Ростов-на-Дону    198\n",
       "Краснодар         193\n",
       "Сочи              189\n",
       "Омск              183\n",
       "Тюмень            180\n",
       "Москва            168\n",
       "Name: count, dtype: int64"
      ]
     },
     "execution_count": 21,
     "metadata": {},
     "output_type": "execute_result"
    }
   ],
   "source": [
    "city_table = users['city'].value_counts()\n",
    "city_table"
   ]
  },
  {
   "cell_type": "code",
   "execution_count": 22,
   "id": "f1dce69b",
   "metadata": {},
   "outputs": [
    {
     "data": {
      "image/png": "[encoded data removed]",
      "text/plain": [
       "<Figure size 640x480 with 1 Axes>"
      ]
     },
     "metadata": {},
     "output_type": "display_data"
    }
   ],
   "source": [
    "city_table.plot(kind='bar', color='green')\n",
    "plt.title(label='Частота встречаемости городов')\n",
    "plt.xlabel('Город')\n",
    "plt.ylabel('Частота')\n",
    "plt.show()"
   ]
  },
  {
   "cell_type": "markdown",
   "id": "0faeb7f2",
   "metadata": {},
   "source": [
    "Наиболее часто сервис GoFast используется в Пятигорске, Екатеринбурге, Ростове-на-Дону. Реже всего в Москве. "
   ]
  },
  {
   "cell_type": "code",
   "execution_count": 23,
   "id": "70fc4955",
   "metadata": {},
   "outputs": [
    {
     "data": {
      "text/plain": [
       "без подписки    835\n",
       "с подпиской     699\n",
       "Name: count, dtype: int64"
      ]
     },
     "execution_count": 23,
     "metadata": {},
     "output_type": "execute_result"
    }
   ],
   "source": [
    "subscription_type_table = users['subscription_type'].value_counts()\n",
    "subscription_type_table.index = ['без подписки', 'с подпиской']\n",
    "subscription_type_table"
   ]
  },
  {
   "cell_type": "code",
   "execution_count": 24,
   "id": "c5390f91",
   "metadata": {},
   "outputs": [
    {
     "data": {
      "image/png": "[encoded data removed]",
      "text/plain": [
       "<Figure size 640x480 with 1 Axes>"
      ]
     },
     "metadata": {},
     "output_type": "display_data"
    }
   ],
   "source": [
    "subscription_type_table.plot(kind='pie')\n",
    "plt.show()"
   ]
  },
  {
   "cell_type": "markdown",
   "id": "53a0f92a",
   "metadata": {},
   "source": [
    "Пользователей без подписки почти на 150 больше. При этом с подпиской тоже достаточно много. "
   ]
  },
  {
   "cell_type": "code",
   "execution_count": 25,
   "id": "f5729ee8",
   "metadata": {},
   "outputs": [
    {
     "data": {
      "image/png": "[encoded data removed]",
      "text/plain": [
       "<Figure size 640x480 with 1 Axes>"
      ]
     },
     "metadata": {},
     "output_type": "display_data"
    }
   ],
   "source": [
    "users_table = users['age'].value_counts()\n",
    "users_table.plot(kind='bar', color='magenta')\n",
    "plt.xlabel('Возраст')\n",
    "plt.ylabel('Частота')\n",
    "plt.show()"
   ]
  },
  {
   "cell_type": "markdown",
   "id": "7f11694c",
   "metadata": {},
   "source": [
    "Наиболее часто пользуются сервисом люди от 20 до 30 лет, редко - те, кому более 35 лет. "
   ]
  },
  {
   "cell_type": "code",
   "execution_count": 26,
   "id": "b8e874e6",
   "metadata": {},
   "outputs": [
    {
     "data": {
      "text/html": [
       "<div>\n",
       "<style scoped>\n",
       "    .dataframe tbody tr th:only-of-type {\n",
       "        vertical-align: middle;\n",
       "    }\n",
       "\n",
       "    .dataframe tbody tr th {\n",
       "        vertical-align: top;\n",
       "    }\n",
       "\n",
       "    .dataframe thead th {\n",
       "        text-align: right;\n",
       "    }\n",
       "</style>\n",
       "<table border=\"1\" class=\"dataframe\">\n",
       "  <thead>\n",
       "    <tr style=\"text-align: right;\">\n",
       "      <th></th>\n",
       "      <th>user_id</th>\n",
       "      <th>distance</th>\n",
       "      <th>duration</th>\n",
       "      <th>date</th>\n",
       "      <th>month</th>\n",
       "    </tr>\n",
       "  </thead>\n",
       "  <tbody>\n",
       "    <tr>\n",
       "      <th>0</th>\n",
       "      <td>1</td>\n",
       "      <td>4409.919140</td>\n",
       "      <td>25.599769</td>\n",
       "      <td>2021-01-01</td>\n",
       "      <td>1</td>\n",
       "    </tr>\n",
       "    <tr>\n",
       "      <th>1</th>\n",
       "      <td>1</td>\n",
       "      <td>2617.592153</td>\n",
       "      <td>15.816871</td>\n",
       "      <td>2021-01-18</td>\n",
       "      <td>1</td>\n",
       "    </tr>\n",
       "    <tr>\n",
       "      <th>2</th>\n",
       "      <td>1</td>\n",
       "      <td>754.159807</td>\n",
       "      <td>6.232113</td>\n",
       "      <td>2021-04-20</td>\n",
       "      <td>4</td>\n",
       "    </tr>\n",
       "    <tr>\n",
       "      <th>3</th>\n",
       "      <td>1</td>\n",
       "      <td>2694.783254</td>\n",
       "      <td>18.511000</td>\n",
       "      <td>2021-08-11</td>\n",
       "      <td>8</td>\n",
       "    </tr>\n",
       "    <tr>\n",
       "      <th>4</th>\n",
       "      <td>1</td>\n",
       "      <td>4028.687306</td>\n",
       "      <td>26.265803</td>\n",
       "      <td>2021-08-28</td>\n",
       "      <td>8</td>\n",
       "    </tr>\n",
       "  </tbody>\n",
       "</table>\n",
       "</div>"
      ],
      "text/plain": [
       "   user_id     distance   duration       date  month\n",
       "0        1  4409.919140  25.599769 2021-01-01      1\n",
       "1        1  2617.592153  15.816871 2021-01-18      1\n",
       "2        1   754.159807   6.232113 2021-04-20      4\n",
       "3        1  2694.783254  18.511000 2021-08-11      8\n",
       "4        1  4028.687306  26.265803 2021-08-28      8"
      ]
     },
     "execution_count": 26,
     "metadata": {},
     "output_type": "execute_result"
    }
   ],
   "source": [
    "rides.head()"
   ]
  },
  {
   "cell_type": "code",
   "execution_count": 27,
   "id": "28a97283",
   "metadata": {},
   "outputs": [
    {
     "data": {
      "text/plain": [
       "(0.855682925681208, 7211.007744598519)"
      ]
     },
     "execution_count": 27,
     "metadata": {},
     "output_type": "execute_result"
    }
   ],
   "source": [
    "min(rides['distance']), max(rides['distance'])"
   ]
  },
  {
   "cell_type": "code",
   "execution_count": 28,
   "id": "8d6cfe1c",
   "metadata": {},
   "outputs": [
    {
     "data": {
      "text/plain": [
       "<Axes: >"
      ]
     },
     "execution_count": 28,
     "metadata": {},
     "output_type": "execute_result"
    },
    {
     "data": {
      "image/png": "[encoded data removed]",
      "text/plain": [
       "<Figure size 640x480 with 1 Axes>"
      ]
     },
     "metadata": {},
     "output_type": "display_data"
    }
   ],
   "source": [
    "rides['distance'].hist(bins=50, color='orange')"
   ]
  },
  {
   "cell_type": "markdown",
   "id": "21a64566",
   "metadata": {},
   "source": [
    "Расстояние поездки как правило попадает в диапазон 2-4 км. "
   ]
  },
  {
   "cell_type": "code",
   "execution_count": 29,
   "id": "040e8dbf",
   "metadata": {},
   "outputs": [
    {
     "data": {
      "text/plain": [
       "(0.5, 40.82396261922424)"
      ]
     },
     "execution_count": 29,
     "metadata": {},
     "output_type": "execute_result"
    }
   ],
   "source": [
    "min(rides['duration']), max(rides['duration'])"
   ]
  },
  {
   "cell_type": "code",
   "execution_count": 30,
   "id": "562dacf7",
   "metadata": {},
   "outputs": [
    {
     "data": {
      "text/plain": [
       "<Axes: >"
      ]
     },
     "execution_count": 30,
     "metadata": {},
     "output_type": "execute_result"
    },
    {
     "data": {
      "image/png": "[encoded data removed]",
      "text/plain": [
       "<Figure size 640x480 with 1 Axes>"
      ]
     },
     "metadata": {},
     "output_type": "display_data"
    }
   ],
   "source": [
    "rides['duration'].hist(bins=50, color='orange')"
   ]
  },
  {
   "cell_type": "markdown",
   "id": "2906d8eb",
   "metadata": {},
   "source": [
    "На гистрограмме видим, что есть пик в маленьких значениях, поездки длительностью меньше минуты - это могут быть аномалии или короткие поездки. Так как минимальная дистанция 855 метров, а минимальное время - полминуты, можем сделать вывод, что это аномалии данных, которые стоит удалить. Удалим значения меньше 2-х минут, так как примерно за это время можно проехать 850 метров. "
   ]
  },
  {
   "cell_type": "code",
   "execution_count": 31,
   "id": "56b49c4b",
   "metadata": {},
   "outputs": [
    {
     "data": {
      "text/plain": [
       "<Axes: >"
      ]
     },
     "execution_count": 31,
     "metadata": {},
     "output_type": "execute_result"
    },
    {
     "data": {
      "image/png": "[encoded data removed]",
      "text/plain": [
       "<Figure size 640x480 with 1 Axes>"
      ]
     },
     "metadata": {},
     "output_type": "display_data"
    }
   ],
   "source": [
    "rides = rides[rides['duration'] > 2]\n",
    "rides['duration'].hist(bins=50, color='orange')"
   ]
  },
  {
   "cell_type": "markdown",
   "id": "59b08491",
   "metadata": {},
   "source": [
    "Продолжительность поездок представляет собой нормальное распределение. Наиболее частая продолжительность - от 15 до 20 минут."
   ]
  },
  {
   "cell_type": "markdown",
   "id": "4ef51331",
   "metadata": {},
   "source": [
    "## Шаг 4. Объединение данных"
   ]
  },
  {
   "cell_type": "markdown",
   "id": "e71bc3be",
   "metadata": {},
   "source": [
    "Объединим users и rides по общему столбцу 'user_id'. Далее объединим эту таблицу с subscriptions по типу подписки (столбец subscription_type)"
   ]
  },
  {
   "cell_type": "markdown",
   "id": "37b7a5a8",
   "metadata": {},
   "source": [
    "users.info()\n",
    "print()\n",
    "rides.info()"
   ]
  },
  {
   "cell_type": "markdown",
   "id": "b48473c7",
   "metadata": {},
   "source": [
    "В таблице rides 17973 записи - поездки, каждая из которых принадлежит одному из пользователей таблицы users. Значит, в итоговой таблице должно оказаться 17973 строк. "
   ]
  },
  {
   "cell_type": "code",
   "execution_count": 32,
   "id": "6bf288b5",
   "metadata": {},
   "outputs": [],
   "source": [
    "users = users.merge(rides, on='user_id')"
   ]
  },
  {
   "cell_type": "code",
   "execution_count": 33,
   "id": "7f474138",
   "metadata": {},
   "outputs": [
    {
     "name": "stdout",
     "output_type": "stream",
     "text": [
      "<class 'pandas.core.frame.DataFrame'>\n",
      "RangeIndex: 17973 entries, 0 to 17972\n",
      "Data columns (total 9 columns):\n",
      " #   Column             Non-Null Count  Dtype         \n",
      "---  ------             --------------  -----         \n",
      " 0   user_id            17973 non-null  int64         \n",
      " 1   name               17973 non-null  object        \n",
      " 2   age                17973 non-null  int64         \n",
      " 3   city               17973 non-null  object        \n",
      " 4   subscription_type  17973 non-null  object        \n",
      " 5   distance           17973 non-null  float64       \n",
      " 6   duration           17973 non-null  float64       \n",
      " 7   date               17973 non-null  datetime64[ns]\n",
      " 8   month              17973 non-null  int32         \n",
      "dtypes: datetime64[ns](1), float64(2), int32(1), int64(2), object(3)\n",
      "memory usage: 1.2+ MB\n"
     ]
    }
   ],
   "source": [
    "users.info()"
   ]
  },
  {
   "cell_type": "markdown",
   "id": "efdf4829",
   "metadata": {},
   "source": [
    "Проверили - все получилось верно. "
   ]
  },
  {
   "cell_type": "code",
   "execution_count": 34,
   "id": "8d071d87",
   "metadata": {},
   "outputs": [
    {
     "data": {
      "text/html": [
       "<div>\n",
       "<style scoped>\n",
       "    .dataframe tbody tr th:only-of-type {\n",
       "        vertical-align: middle;\n",
       "    }\n",
       "\n",
       "    .dataframe tbody tr th {\n",
       "        vertical-align: top;\n",
       "    }\n",
       "\n",
       "    .dataframe thead th {\n",
       "        text-align: right;\n",
       "    }\n",
       "</style>\n",
       "<table border=\"1\" class=\"dataframe\">\n",
       "  <thead>\n",
       "    <tr style=\"text-align: right;\">\n",
       "      <th></th>\n",
       "      <th>subscription_type</th>\n",
       "      <th>minute_price</th>\n",
       "      <th>start_ride_price</th>\n",
       "      <th>subscription_fee</th>\n",
       "    </tr>\n",
       "  </thead>\n",
       "  <tbody>\n",
       "    <tr>\n",
       "      <th>0</th>\n",
       "      <td>free</td>\n",
       "      <td>8</td>\n",
       "      <td>50</td>\n",
       "      <td>0</td>\n",
       "    </tr>\n",
       "    <tr>\n",
       "      <th>1</th>\n",
       "      <td>ultra</td>\n",
       "      <td>6</td>\n",
       "      <td>0</td>\n",
       "      <td>199</td>\n",
       "    </tr>\n",
       "  </tbody>\n",
       "</table>\n",
       "</div>"
      ],
      "text/plain": [
       "  subscription_type  minute_price  start_ride_price  subscription_fee\n",
       "0              free             8                50                 0\n",
       "1             ultra             6                 0               199"
      ]
     },
     "execution_count": 34,
     "metadata": {},
     "output_type": "execute_result"
    }
   ],
   "source": [
    "subscriptions"
   ]
  },
  {
   "cell_type": "code",
   "execution_count": 35,
   "id": "e18d731c",
   "metadata": {},
   "outputs": [
    {
     "name": "stdout",
     "output_type": "stream",
     "text": [
      "<class 'pandas.core.frame.DataFrame'>\n",
      "RangeIndex: 17973 entries, 0 to 17972\n",
      "Data columns (total 12 columns):\n",
      " #   Column             Non-Null Count  Dtype         \n",
      "---  ------             --------------  -----         \n",
      " 0   user_id            17973 non-null  int64         \n",
      " 1   name               17973 non-null  object        \n",
      " 2   age                17973 non-null  int64         \n",
      " 3   city               17973 non-null  object        \n",
      " 4   subscription_type  17973 non-null  object        \n",
      " 5   distance           17973 non-null  float64       \n",
      " 6   duration           17973 non-null  float64       \n",
      " 7   date               17973 non-null  datetime64[ns]\n",
      " 8   month              17973 non-null  int32         \n",
      " 9   minute_price       17973 non-null  int64         \n",
      " 10  start_ride_price   17973 non-null  int64         \n",
      " 11  subscription_fee   17973 non-null  int64         \n",
      "dtypes: datetime64[ns](1), float64(2), int32(1), int64(5), object(3)\n",
      "memory usage: 1.6+ MB\n"
     ]
    }
   ],
   "source": [
    "users = users.merge(subscriptions, on='subscription_type')\n",
    "users.info()"
   ]
  },
  {
   "cell_type": "markdown",
   "id": "c7d365f9",
   "metadata": {},
   "source": [
    "Каждому пользователю соответствует один тип подписки - количество записей осталось прежним. "
   ]
  },
  {
   "cell_type": "markdown",
   "id": "d32b1f82",
   "metadata": {},
   "source": [
    "Итог:"
   ]
  },
  {
   "cell_type": "code",
   "execution_count": 36,
   "id": "6cc92f62",
   "metadata": {},
   "outputs": [
    {
     "data": {
      "text/html": [
       "<div>\n",
       "<style scoped>\n",
       "    .dataframe tbody tr th:only-of-type {\n",
       "        vertical-align: middle;\n",
       "    }\n",
       "\n",
       "    .dataframe tbody tr th {\n",
       "        vertical-align: top;\n",
       "    }\n",
       "\n",
       "    .dataframe thead th {\n",
       "        text-align: right;\n",
       "    }\n",
       "</style>\n",
       "<table border=\"1\" class=\"dataframe\">\n",
       "  <thead>\n",
       "    <tr style=\"text-align: right;\">\n",
       "      <th></th>\n",
       "      <th>user_id</th>\n",
       "      <th>name</th>\n",
       "      <th>age</th>\n",
       "      <th>city</th>\n",
       "      <th>subscription_type</th>\n",
       "      <th>distance</th>\n",
       "      <th>duration</th>\n",
       "      <th>date</th>\n",
       "      <th>month</th>\n",
       "      <th>minute_price</th>\n",
       "      <th>start_ride_price</th>\n",
       "      <th>subscription_fee</th>\n",
       "    </tr>\n",
       "  </thead>\n",
       "  <tbody>\n",
       "    <tr>\n",
       "      <th>0</th>\n",
       "      <td>1</td>\n",
       "      <td>Кира</td>\n",
       "      <td>22</td>\n",
       "      <td>Тюмень</td>\n",
       "      <td>ultra</td>\n",
       "      <td>4409.919140</td>\n",
       "      <td>25.599769</td>\n",
       "      <td>2021-01-01</td>\n",
       "      <td>1</td>\n",
       "      <td>6</td>\n",
       "      <td>0</td>\n",
       "      <td>199</td>\n",
       "    </tr>\n",
       "    <tr>\n",
       "      <th>1</th>\n",
       "      <td>1</td>\n",
       "      <td>Кира</td>\n",
       "      <td>22</td>\n",
       "      <td>Тюмень</td>\n",
       "      <td>ultra</td>\n",
       "      <td>2617.592153</td>\n",
       "      <td>15.816871</td>\n",
       "      <td>2021-01-18</td>\n",
       "      <td>1</td>\n",
       "      <td>6</td>\n",
       "      <td>0</td>\n",
       "      <td>199</td>\n",
       "    </tr>\n",
       "    <tr>\n",
       "      <th>2</th>\n",
       "      <td>1</td>\n",
       "      <td>Кира</td>\n",
       "      <td>22</td>\n",
       "      <td>Тюмень</td>\n",
       "      <td>ultra</td>\n",
       "      <td>754.159807</td>\n",
       "      <td>6.232113</td>\n",
       "      <td>2021-04-20</td>\n",
       "      <td>4</td>\n",
       "      <td>6</td>\n",
       "      <td>0</td>\n",
       "      <td>199</td>\n",
       "    </tr>\n",
       "    <tr>\n",
       "      <th>3</th>\n",
       "      <td>1</td>\n",
       "      <td>Кира</td>\n",
       "      <td>22</td>\n",
       "      <td>Тюмень</td>\n",
       "      <td>ultra</td>\n",
       "      <td>2694.783254</td>\n",
       "      <td>18.511000</td>\n",
       "      <td>2021-08-11</td>\n",
       "      <td>8</td>\n",
       "      <td>6</td>\n",
       "      <td>0</td>\n",
       "      <td>199</td>\n",
       "    </tr>\n",
       "    <tr>\n",
       "      <th>4</th>\n",
       "      <td>1</td>\n",
       "      <td>Кира</td>\n",
       "      <td>22</td>\n",
       "      <td>Тюмень</td>\n",
       "      <td>ultra</td>\n",
       "      <td>4028.687306</td>\n",
       "      <td>26.265803</td>\n",
       "      <td>2021-08-28</td>\n",
       "      <td>8</td>\n",
       "      <td>6</td>\n",
       "      <td>0</td>\n",
       "      <td>199</td>\n",
       "    </tr>\n",
       "    <tr>\n",
       "      <th>5</th>\n",
       "      <td>1</td>\n",
       "      <td>Кира</td>\n",
       "      <td>22</td>\n",
       "      <td>Тюмень</td>\n",
       "      <td>ultra</td>\n",
       "      <td>2770.890808</td>\n",
       "      <td>16.650138</td>\n",
       "      <td>2021-10-09</td>\n",
       "      <td>10</td>\n",
       "      <td>6</td>\n",
       "      <td>0</td>\n",
       "      <td>199</td>\n",
       "    </tr>\n",
       "    <tr>\n",
       "      <th>6</th>\n",
       "      <td>1</td>\n",
       "      <td>Кира</td>\n",
       "      <td>22</td>\n",
       "      <td>Тюмень</td>\n",
       "      <td>ultra</td>\n",
       "      <td>3039.020292</td>\n",
       "      <td>14.927879</td>\n",
       "      <td>2021-10-19</td>\n",
       "      <td>10</td>\n",
       "      <td>6</td>\n",
       "      <td>0</td>\n",
       "      <td>199</td>\n",
       "    </tr>\n",
       "    <tr>\n",
       "      <th>7</th>\n",
       "      <td>1</td>\n",
       "      <td>Кира</td>\n",
       "      <td>22</td>\n",
       "      <td>Тюмень</td>\n",
       "      <td>ultra</td>\n",
       "      <td>2842.118050</td>\n",
       "      <td>23.117468</td>\n",
       "      <td>2021-11-06</td>\n",
       "      <td>11</td>\n",
       "      <td>6</td>\n",
       "      <td>0</td>\n",
       "      <td>199</td>\n",
       "    </tr>\n",
       "    <tr>\n",
       "      <th>8</th>\n",
       "      <td>1</td>\n",
       "      <td>Кира</td>\n",
       "      <td>22</td>\n",
       "      <td>Тюмень</td>\n",
       "      <td>ultra</td>\n",
       "      <td>3412.690668</td>\n",
       "      <td>15.238072</td>\n",
       "      <td>2021-11-14</td>\n",
       "      <td>11</td>\n",
       "      <td>6</td>\n",
       "      <td>0</td>\n",
       "      <td>199</td>\n",
       "    </tr>\n",
       "    <tr>\n",
       "      <th>9</th>\n",
       "      <td>1</td>\n",
       "      <td>Кира</td>\n",
       "      <td>22</td>\n",
       "      <td>Тюмень</td>\n",
       "      <td>ultra</td>\n",
       "      <td>748.690645</td>\n",
       "      <td>15.041884</td>\n",
       "      <td>2021-11-22</td>\n",
       "      <td>11</td>\n",
       "      <td>6</td>\n",
       "      <td>0</td>\n",
       "      <td>199</td>\n",
       "    </tr>\n",
       "  </tbody>\n",
       "</table>\n",
       "</div>"
      ],
      "text/plain": [
       "   user_id  name  age    city subscription_type     distance   duration  \\\n",
       "0        1  Кира   22  Тюмень             ultra  4409.919140  25.599769   \n",
       "1        1  Кира   22  Тюмень             ultra  2617.592153  15.816871   \n",
       "2        1  Кира   22  Тюмень             ultra   754.159807   6.232113   \n",
       "3        1  Кира   22  Тюмень             ultra  2694.783254  18.511000   \n",
       "4        1  Кира   22  Тюмень             ultra  4028.687306  26.265803   \n",
       "5        1  Кира   22  Тюмень             ultra  2770.890808  16.650138   \n",
       "6        1  Кира   22  Тюмень             ultra  3039.020292  14.927879   \n",
       "7        1  Кира   22  Тюмень             ultra  2842.118050  23.117468   \n",
       "8        1  Кира   22  Тюмень             ultra  3412.690668  15.238072   \n",
       "9        1  Кира   22  Тюмень             ultra   748.690645  15.041884   \n",
       "\n",
       "        date  month  minute_price  start_ride_price  subscription_fee  \n",
       "0 2021-01-01      1             6                 0               199  \n",
       "1 2021-01-18      1             6                 0               199  \n",
       "2 2021-04-20      4             6                 0               199  \n",
       "3 2021-08-11      8             6                 0               199  \n",
       "4 2021-08-28      8             6                 0               199  \n",
       "5 2021-10-09     10             6                 0               199  \n",
       "6 2021-10-19     10             6                 0               199  \n",
       "7 2021-11-06     11             6                 0               199  \n",
       "8 2021-11-14     11             6                 0               199  \n",
       "9 2021-11-22     11             6                 0               199  "
      ]
     },
     "execution_count": 36,
     "metadata": {},
     "output_type": "execute_result"
    }
   ],
   "source": [
    "users.head(10)"
   ]
  },
  {
   "cell_type": "code",
   "execution_count": 37,
   "id": "7bf824e2",
   "metadata": {},
   "outputs": [
    {
     "data": {
      "text/plain": [
       "user_id              0\n",
       "name                 0\n",
       "age                  0\n",
       "city                 0\n",
       "subscription_type    0\n",
       "distance             0\n",
       "duration             0\n",
       "date                 0\n",
       "month                0\n",
       "minute_price         0\n",
       "start_ride_price     0\n",
       "subscription_fee     0\n",
       "dtype: int64"
      ]
     },
     "execution_count": 37,
     "metadata": {},
     "output_type": "execute_result"
    }
   ],
   "source": [
    "users.isna().sum()"
   ]
  },
  {
   "cell_type": "markdown",
   "id": "391cc6e6",
   "metadata": {},
   "source": [
    "Пропуски не возникли, количество записей (размер таблицы) соответствует ожиданию. "
   ]
  },
  {
   "cell_type": "markdown",
   "id": "df95ef84",
   "metadata": {},
   "source": [
    "Сделаем отдельную таблицу с данными о пользователях, у которых нет подписки:"
   ]
  },
  {
   "cell_type": "code",
   "execution_count": 38,
   "id": "61a1875c",
   "metadata": {},
   "outputs": [
    {
     "data": {
      "text/html": [
       "<div>\n",
       "<style scoped>\n",
       "    .dataframe tbody tr th:only-of-type {\n",
       "        vertical-align: middle;\n",
       "    }\n",
       "\n",
       "    .dataframe tbody tr th {\n",
       "        vertical-align: top;\n",
       "    }\n",
       "\n",
       "    .dataframe thead th {\n",
       "        text-align: right;\n",
       "    }\n",
       "</style>\n",
       "<table border=\"1\" class=\"dataframe\">\n",
       "  <thead>\n",
       "    <tr style=\"text-align: right;\">\n",
       "      <th></th>\n",
       "      <th>user_id</th>\n",
       "      <th>name</th>\n",
       "      <th>age</th>\n",
       "      <th>city</th>\n",
       "      <th>subscription_type</th>\n",
       "      <th>distance</th>\n",
       "      <th>duration</th>\n",
       "      <th>date</th>\n",
       "      <th>month</th>\n",
       "      <th>minute_price</th>\n",
       "      <th>start_ride_price</th>\n",
       "      <th>subscription_fee</th>\n",
       "    </tr>\n",
       "  </thead>\n",
       "  <tbody>\n",
       "    <tr>\n",
       "      <th>6500</th>\n",
       "      <td>700</td>\n",
       "      <td>Айдар</td>\n",
       "      <td>22</td>\n",
       "      <td>Омск</td>\n",
       "      <td>free</td>\n",
       "      <td>2515.690719</td>\n",
       "      <td>14.944286</td>\n",
       "      <td>2021-01-02</td>\n",
       "      <td>1</td>\n",
       "      <td>8</td>\n",
       "      <td>50</td>\n",
       "      <td>0</td>\n",
       "    </tr>\n",
       "    <tr>\n",
       "      <th>6501</th>\n",
       "      <td>700</td>\n",
       "      <td>Айдар</td>\n",
       "      <td>22</td>\n",
       "      <td>Омск</td>\n",
       "      <td>free</td>\n",
       "      <td>846.932642</td>\n",
       "      <td>16.234663</td>\n",
       "      <td>2021-02-01</td>\n",
       "      <td>2</td>\n",
       "      <td>8</td>\n",
       "      <td>50</td>\n",
       "      <td>0</td>\n",
       "    </tr>\n",
       "    <tr>\n",
       "      <th>6502</th>\n",
       "      <td>700</td>\n",
       "      <td>Айдар</td>\n",
       "      <td>22</td>\n",
       "      <td>Омск</td>\n",
       "      <td>free</td>\n",
       "      <td>4004.434142</td>\n",
       "      <td>20.016628</td>\n",
       "      <td>2021-02-04</td>\n",
       "      <td>2</td>\n",
       "      <td>8</td>\n",
       "      <td>50</td>\n",
       "      <td>0</td>\n",
       "    </tr>\n",
       "    <tr>\n",
       "      <th>6503</th>\n",
       "      <td>700</td>\n",
       "      <td>Айдар</td>\n",
       "      <td>22</td>\n",
       "      <td>Омск</td>\n",
       "      <td>free</td>\n",
       "      <td>1205.911290</td>\n",
       "      <td>9.782872</td>\n",
       "      <td>2021-02-10</td>\n",
       "      <td>2</td>\n",
       "      <td>8</td>\n",
       "      <td>50</td>\n",
       "      <td>0</td>\n",
       "    </tr>\n",
       "    <tr>\n",
       "      <th>6504</th>\n",
       "      <td>700</td>\n",
       "      <td>Айдар</td>\n",
       "      <td>22</td>\n",
       "      <td>Омск</td>\n",
       "      <td>free</td>\n",
       "      <td>3047.379435</td>\n",
       "      <td>17.427673</td>\n",
       "      <td>2021-02-14</td>\n",
       "      <td>2</td>\n",
       "      <td>8</td>\n",
       "      <td>50</td>\n",
       "      <td>0</td>\n",
       "    </tr>\n",
       "  </tbody>\n",
       "</table>\n",
       "</div>"
      ],
      "text/plain": [
       "      user_id   name  age  city subscription_type     distance   duration  \\\n",
       "6500      700  Айдар   22  Омск              free  2515.690719  14.944286   \n",
       "6501      700  Айдар   22  Омск              free   846.932642  16.234663   \n",
       "6502      700  Айдар   22  Омск              free  4004.434142  20.016628   \n",
       "6503      700  Айдар   22  Омск              free  1205.911290   9.782872   \n",
       "6504      700  Айдар   22  Омск              free  3047.379435  17.427673   \n",
       "\n",
       "           date  month  minute_price  start_ride_price  subscription_fee  \n",
       "6500 2021-01-02      1             8                50                 0  \n",
       "6501 2021-02-01      2             8                50                 0  \n",
       "6502 2021-02-04      2             8                50                 0  \n",
       "6503 2021-02-10      2             8                50                 0  \n",
       "6504 2021-02-14      2             8                50                 0  "
      ]
     },
     "execution_count": 38,
     "metadata": {},
     "output_type": "execute_result"
    }
   ],
   "source": [
    "users_free = users[users['subscription_type'] == 'free']\n",
    "users_free.head()"
   ]
  },
  {
   "cell_type": "code",
   "execution_count": 39,
   "id": "95d943f7",
   "metadata": {},
   "outputs": [
    {
     "data": {
      "image/png": "[encoded data removed]",
      "text/plain": [
       "<Figure size 640x480 with 1 Axes>"
      ]
     },
     "metadata": {},
     "output_type": "display_data"
    }
   ],
   "source": [
    "users_free['distance'].hist(bins=50, color='green')\n",
    "plt.title(label='Дистанция поездки пользователей без подписки')\n",
    "plt.xlabel('Расстояние')\n",
    "plt.ylabel('Частота')\n",
    "plt.show()"
   ]
  },
  {
   "cell_type": "code",
   "execution_count": 40,
   "id": "8491180a",
   "metadata": {},
   "outputs": [
    {
     "data": {
      "image/png": "[encoded data removed]",
      "text/plain": [
       "<Figure size 640x480 with 1 Axes>"
      ]
     },
     "metadata": {},
     "output_type": "display_data"
    }
   ],
   "source": [
    "users_free['duration'].hist(bins=50, color='green')\n",
    "plt.title(label='Длительность поездки пользователей без подписки')\n",
    "plt.xlabel('Длительность')\n",
    "plt.ylabel('Частота')\n",
    "plt.show()"
   ]
  },
  {
   "cell_type": "code",
   "execution_count": 41,
   "id": "6c247107",
   "metadata": {},
   "outputs": [
    {
     "data": {
      "text/html": [
       "<div>\n",
       "<style scoped>\n",
       "    .dataframe tbody tr th:only-of-type {\n",
       "        vertical-align: middle;\n",
       "    }\n",
       "\n",
       "    .dataframe tbody tr th {\n",
       "        vertical-align: top;\n",
       "    }\n",
       "\n",
       "    .dataframe thead th {\n",
       "        text-align: right;\n",
       "    }\n",
       "</style>\n",
       "<table border=\"1\" class=\"dataframe\">\n",
       "  <thead>\n",
       "    <tr style=\"text-align: right;\">\n",
       "      <th></th>\n",
       "      <th>user_id</th>\n",
       "      <th>age</th>\n",
       "      <th>distance</th>\n",
       "      <th>duration</th>\n",
       "      <th>date</th>\n",
       "      <th>month</th>\n",
       "      <th>minute_price</th>\n",
       "      <th>start_ride_price</th>\n",
       "      <th>subscription_fee</th>\n",
       "    </tr>\n",
       "  </thead>\n",
       "  <tbody>\n",
       "    <tr>\n",
       "      <th>count</th>\n",
       "      <td>11473.000000</td>\n",
       "      <td>11473.000000</td>\n",
       "      <td>11473.000000</td>\n",
       "      <td>11473.000000</td>\n",
       "      <td>11473</td>\n",
       "      <td>11473.000000</td>\n",
       "      <td>11473.0</td>\n",
       "      <td>11473.0</td>\n",
       "      <td>11473.0</td>\n",
       "    </tr>\n",
       "    <tr>\n",
       "      <th>mean</th>\n",
       "      <td>1120.761701</td>\n",
       "      <td>24.888782</td>\n",
       "      <td>3028.374239</td>\n",
       "      <td>17.530771</td>\n",
       "      <td>2021-07-01 21:50:58.415409920</td>\n",
       "      <td>6.523316</td>\n",
       "      <td>8.0</td>\n",
       "      <td>50.0</td>\n",
       "      <td>0.0</td>\n",
       "    </tr>\n",
       "    <tr>\n",
       "      <th>min</th>\n",
       "      <td>700.000000</td>\n",
       "      <td>12.000000</td>\n",
       "      <td>0.855683</td>\n",
       "      <td>2.035632</td>\n",
       "      <td>2021-01-01 00:00:00</td>\n",
       "      <td>1.000000</td>\n",
       "      <td>8.0</td>\n",
       "      <td>50.0</td>\n",
       "      <td>0.0</td>\n",
       "    </tr>\n",
       "    <tr>\n",
       "      <th>25%</th>\n",
       "      <td>915.000000</td>\n",
       "      <td>22.000000</td>\n",
       "      <td>2360.878149</td>\n",
       "      <td>13.085688</td>\n",
       "      <td>2021-04-02 00:00:00</td>\n",
       "      <td>4.000000</td>\n",
       "      <td>8.0</td>\n",
       "      <td>50.0</td>\n",
       "      <td>0.0</td>\n",
       "    </tr>\n",
       "    <tr>\n",
       "      <th>50%</th>\n",
       "      <td>1123.000000</td>\n",
       "      <td>25.000000</td>\n",
       "      <td>3102.083025</td>\n",
       "      <td>17.383807</td>\n",
       "      <td>2021-07-01 00:00:00</td>\n",
       "      <td>7.000000</td>\n",
       "      <td>8.0</td>\n",
       "      <td>50.0</td>\n",
       "      <td>0.0</td>\n",
       "    </tr>\n",
       "    <tr>\n",
       "      <th>75%</th>\n",
       "      <td>1329.000000</td>\n",
       "      <td>28.000000</td>\n",
       "      <td>3883.979311</td>\n",
       "      <td>21.638038</td>\n",
       "      <td>2021-09-30 00:00:00</td>\n",
       "      <td>9.000000</td>\n",
       "      <td>8.0</td>\n",
       "      <td>50.0</td>\n",
       "      <td>0.0</td>\n",
       "    </tr>\n",
       "    <tr>\n",
       "      <th>max</th>\n",
       "      <td>1534.000000</td>\n",
       "      <td>43.000000</td>\n",
       "      <td>7066.003772</td>\n",
       "      <td>34.948498</td>\n",
       "      <td>2021-12-30 00:00:00</td>\n",
       "      <td>12.000000</td>\n",
       "      <td>8.0</td>\n",
       "      <td>50.0</td>\n",
       "      <td>0.0</td>\n",
       "    </tr>\n",
       "    <tr>\n",
       "      <th>std</th>\n",
       "      <td>241.138659</td>\n",
       "      <td>4.482066</td>\n",
       "      <td>1235.541051</td>\n",
       "      <td>6.162609</td>\n",
       "      <td>NaN</td>\n",
       "      <td>3.447707</td>\n",
       "      <td>0.0</td>\n",
       "      <td>0.0</td>\n",
       "      <td>0.0</td>\n",
       "    </tr>\n",
       "  </tbody>\n",
       "</table>\n",
       "</div>"
      ],
      "text/plain": [
       "            user_id           age      distance      duration  \\\n",
       "count  11473.000000  11473.000000  11473.000000  11473.000000   \n",
       "mean    1120.761701     24.888782   3028.374239     17.530771   \n",
       "min      700.000000     12.000000      0.855683      2.035632   \n",
       "25%      915.000000     22.000000   2360.878149     13.085688   \n",
       "50%     1123.000000     25.000000   3102.083025     17.383807   \n",
       "75%     1329.000000     28.000000   3883.979311     21.638038   \n",
       "max     1534.000000     43.000000   7066.003772     34.948498   \n",
       "std      241.138659      4.482066   1235.541051      6.162609   \n",
       "\n",
       "                                date         month  minute_price  \\\n",
       "count                          11473  11473.000000       11473.0   \n",
       "mean   2021-07-01 21:50:58.415409920      6.523316           8.0   \n",
       "min              2021-01-01 00:00:00      1.000000           8.0   \n",
       "25%              2021-04-02 00:00:00      4.000000           8.0   \n",
       "50%              2021-07-01 00:00:00      7.000000           8.0   \n",
       "75%              2021-09-30 00:00:00      9.000000           8.0   \n",
       "max              2021-12-30 00:00:00     12.000000           8.0   \n",
       "std                              NaN      3.447707           0.0   \n",
       "\n",
       "       start_ride_price  subscription_fee  \n",
       "count           11473.0           11473.0  \n",
       "mean               50.0               0.0  \n",
       "min                50.0               0.0  \n",
       "25%                50.0               0.0  \n",
       "50%                50.0               0.0  \n",
       "75%                50.0               0.0  \n",
       "max                50.0               0.0  \n",
       "std                 0.0               0.0  "
      ]
     },
     "execution_count": 41,
     "metadata": {},
     "output_type": "execute_result"
    }
   ],
   "source": [
    "users_free.describe()"
   ]
  },
  {
   "cell_type": "markdown",
   "id": "4d2e292d",
   "metadata": {},
   "source": [
    "В столбце с дистанцией видим два пика - в 2500 м и 3500 м. Средняя дистанция - 3 км. Наиболее частое время поездки - около 17 минут. Большая часть значений лежит примерно в том же диапазоне, что и в общей таблице."
   ]
  },
  {
   "cell_type": "code",
   "execution_count": 42,
   "id": "ec7f3dc3",
   "metadata": {},
   "outputs": [
    {
     "data": {
      "text/html": [
       "<div>\n",
       "<style scoped>\n",
       "    .dataframe tbody tr th:only-of-type {\n",
       "        vertical-align: middle;\n",
       "    }\n",
       "\n",
       "    .dataframe tbody tr th {\n",
       "        vertical-align: top;\n",
       "    }\n",
       "\n",
       "    .dataframe thead th {\n",
       "        text-align: right;\n",
       "    }\n",
       "</style>\n",
       "<table border=\"1\" class=\"dataframe\">\n",
       "  <thead>\n",
       "    <tr style=\"text-align: right;\">\n",
       "      <th></th>\n",
       "      <th>user_id</th>\n",
       "      <th>name</th>\n",
       "      <th>age</th>\n",
       "      <th>city</th>\n",
       "      <th>subscription_type</th>\n",
       "      <th>distance</th>\n",
       "      <th>duration</th>\n",
       "      <th>date</th>\n",
       "      <th>month</th>\n",
       "      <th>minute_price</th>\n",
       "      <th>start_ride_price</th>\n",
       "      <th>subscription_fee</th>\n",
       "    </tr>\n",
       "  </thead>\n",
       "  <tbody>\n",
       "    <tr>\n",
       "      <th>0</th>\n",
       "      <td>1</td>\n",
       "      <td>Кира</td>\n",
       "      <td>22</td>\n",
       "      <td>Тюмень</td>\n",
       "      <td>ultra</td>\n",
       "      <td>4409.919140</td>\n",
       "      <td>25.599769</td>\n",
       "      <td>2021-01-01</td>\n",
       "      <td>1</td>\n",
       "      <td>6</td>\n",
       "      <td>0</td>\n",
       "      <td>199</td>\n",
       "    </tr>\n",
       "    <tr>\n",
       "      <th>1</th>\n",
       "      <td>1</td>\n",
       "      <td>Кира</td>\n",
       "      <td>22</td>\n",
       "      <td>Тюмень</td>\n",
       "      <td>ultra</td>\n",
       "      <td>2617.592153</td>\n",
       "      <td>15.816871</td>\n",
       "      <td>2021-01-18</td>\n",
       "      <td>1</td>\n",
       "      <td>6</td>\n",
       "      <td>0</td>\n",
       "      <td>199</td>\n",
       "    </tr>\n",
       "    <tr>\n",
       "      <th>2</th>\n",
       "      <td>1</td>\n",
       "      <td>Кира</td>\n",
       "      <td>22</td>\n",
       "      <td>Тюмень</td>\n",
       "      <td>ultra</td>\n",
       "      <td>754.159807</td>\n",
       "      <td>6.232113</td>\n",
       "      <td>2021-04-20</td>\n",
       "      <td>4</td>\n",
       "      <td>6</td>\n",
       "      <td>0</td>\n",
       "      <td>199</td>\n",
       "    </tr>\n",
       "    <tr>\n",
       "      <th>3</th>\n",
       "      <td>1</td>\n",
       "      <td>Кира</td>\n",
       "      <td>22</td>\n",
       "      <td>Тюмень</td>\n",
       "      <td>ultra</td>\n",
       "      <td>2694.783254</td>\n",
       "      <td>18.511000</td>\n",
       "      <td>2021-08-11</td>\n",
       "      <td>8</td>\n",
       "      <td>6</td>\n",
       "      <td>0</td>\n",
       "      <td>199</td>\n",
       "    </tr>\n",
       "    <tr>\n",
       "      <th>4</th>\n",
       "      <td>1</td>\n",
       "      <td>Кира</td>\n",
       "      <td>22</td>\n",
       "      <td>Тюмень</td>\n",
       "      <td>ultra</td>\n",
       "      <td>4028.687306</td>\n",
       "      <td>26.265803</td>\n",
       "      <td>2021-08-28</td>\n",
       "      <td>8</td>\n",
       "      <td>6</td>\n",
       "      <td>0</td>\n",
       "      <td>199</td>\n",
       "    </tr>\n",
       "  </tbody>\n",
       "</table>\n",
       "</div>"
      ],
      "text/plain": [
       "   user_id  name  age    city subscription_type     distance   duration  \\\n",
       "0        1  Кира   22  Тюмень             ultra  4409.919140  25.599769   \n",
       "1        1  Кира   22  Тюмень             ultra  2617.592153  15.816871   \n",
       "2        1  Кира   22  Тюмень             ultra   754.159807   6.232113   \n",
       "3        1  Кира   22  Тюмень             ultra  2694.783254  18.511000   \n",
       "4        1  Кира   22  Тюмень             ultra  4028.687306  26.265803   \n",
       "\n",
       "        date  month  minute_price  start_ride_price  subscription_fee  \n",
       "0 2021-01-01      1             6                 0               199  \n",
       "1 2021-01-18      1             6                 0               199  \n",
       "2 2021-04-20      4             6                 0               199  \n",
       "3 2021-08-11      8             6                 0               199  \n",
       "4 2021-08-28      8             6                 0               199  "
      ]
     },
     "execution_count": 42,
     "metadata": {},
     "output_type": "execute_result"
    }
   ],
   "source": [
    "users_ultra = users[users['subscription_type'] == 'ultra']\n",
    "users_ultra.head()"
   ]
  },
  {
   "cell_type": "code",
   "execution_count": 43,
   "id": "04f1fa21",
   "metadata": {},
   "outputs": [
    {
     "data": {
      "text/plain": [
       "Text(0, 0.5, 'Частота')"
      ]
     },
     "execution_count": 43,
     "metadata": {},
     "output_type": "execute_result"
    },
    {
     "data": {
      "image/png": "[encoded data removed]",
      "text/plain": [
       "<Figure size 640x480 with 1 Axes>"
      ]
     },
     "metadata": {},
     "output_type": "display_data"
    }
   ],
   "source": [
    "users_ultra['distance'].hist(bins=50, color='green')\n",
    "plt.title(label='Дистанция поездки пользователей с подписк')\n",
    "plt.xlabel('Расстояние')\n",
    "plt.ylabel('Частота')"
   ]
  },
  {
   "cell_type": "code",
   "execution_count": 44,
   "id": "1af3230c",
   "metadata": {},
   "outputs": [
    {
     "data": {
      "image/png": "[encoded data removed]",
      "text/plain": [
       "<Figure size 640x480 with 1 Axes>"
      ]
     },
     "metadata": {},
     "output_type": "display_data"
    }
   ],
   "source": [
    "users_ultra['duration'].hist(bins=50, color='green')\n",
    "plt.title(label='Длительность поездки пользователей с подпиской')\n",
    "plt.xlabel('Длительность')\n",
    "plt.ylabel('Частота')\n",
    "plt.show()"
   ]
  },
  {
   "cell_type": "code",
   "execution_count": 45,
   "id": "67ec4ef5",
   "metadata": {},
   "outputs": [
    {
     "data": {
      "text/html": [
       "<div>\n",
       "<style scoped>\n",
       "    .dataframe tbody tr th:only-of-type {\n",
       "        vertical-align: middle;\n",
       "    }\n",
       "\n",
       "    .dataframe tbody tr th {\n",
       "        vertical-align: top;\n",
       "    }\n",
       "\n",
       "    .dataframe thead th {\n",
       "        text-align: right;\n",
       "    }\n",
       "</style>\n",
       "<table border=\"1\" class=\"dataframe\">\n",
       "  <thead>\n",
       "    <tr style=\"text-align: right;\">\n",
       "      <th></th>\n",
       "      <th>user_id</th>\n",
       "      <th>age</th>\n",
       "      <th>distance</th>\n",
       "      <th>duration</th>\n",
       "      <th>date</th>\n",
       "      <th>month</th>\n",
       "      <th>minute_price</th>\n",
       "      <th>start_ride_price</th>\n",
       "      <th>subscription_fee</th>\n",
       "    </tr>\n",
       "  </thead>\n",
       "  <tbody>\n",
       "    <tr>\n",
       "      <th>count</th>\n",
       "      <td>6500.000000</td>\n",
       "      <td>6500.000000</td>\n",
       "      <td>6500.000000</td>\n",
       "      <td>6500.000000</td>\n",
       "      <td>6500</td>\n",
       "      <td>6500.000000</td>\n",
       "      <td>6500.0</td>\n",
       "      <td>6500.0</td>\n",
       "      <td>6500.0</td>\n",
       "    </tr>\n",
       "    <tr>\n",
       "      <th>mean</th>\n",
       "      <td>348.725385</td>\n",
       "      <td>24.892615</td>\n",
       "      <td>3115.445388</td>\n",
       "      <td>18.541985</td>\n",
       "      <td>2021-06-28 21:31:34.153846016</td>\n",
       "      <td>6.422308</td>\n",
       "      <td>6.0</td>\n",
       "      <td>0.0</td>\n",
       "      <td>199.0</td>\n",
       "    </tr>\n",
       "    <tr>\n",
       "      <th>min</th>\n",
       "      <td>1.000000</td>\n",
       "      <td>12.000000</td>\n",
       "      <td>244.210438</td>\n",
       "      <td>3.760353</td>\n",
       "      <td>2021-01-01 00:00:00</td>\n",
       "      <td>1.000000</td>\n",
       "      <td>6.0</td>\n",
       "      <td>0.0</td>\n",
       "      <td>199.0</td>\n",
       "    </tr>\n",
       "    <tr>\n",
       "      <th>25%</th>\n",
       "      <td>175.000000</td>\n",
       "      <td>22.000000</td>\n",
       "      <td>2785.444017</td>\n",
       "      <td>14.524654</td>\n",
       "      <td>2021-04-01 00:00:00</td>\n",
       "      <td>4.000000</td>\n",
       "      <td>6.0</td>\n",
       "      <td>0.0</td>\n",
       "      <td>199.0</td>\n",
       "    </tr>\n",
       "    <tr>\n",
       "      <th>50%</th>\n",
       "      <td>351.000000</td>\n",
       "      <td>25.000000</td>\n",
       "      <td>3148.637229</td>\n",
       "      <td>18.178153</td>\n",
       "      <td>2021-06-27 00:00:00</td>\n",
       "      <td>6.000000</td>\n",
       "      <td>6.0</td>\n",
       "      <td>0.0</td>\n",
       "      <td>199.0</td>\n",
       "    </tr>\n",
       "    <tr>\n",
       "      <th>75%</th>\n",
       "      <td>525.000000</td>\n",
       "      <td>28.000000</td>\n",
       "      <td>3560.574425</td>\n",
       "      <td>21.884129</td>\n",
       "      <td>2021-09-25 00:00:00</td>\n",
       "      <td>9.000000</td>\n",
       "      <td>6.0</td>\n",
       "      <td>0.0</td>\n",
       "      <td>199.0</td>\n",
       "    </tr>\n",
       "    <tr>\n",
       "      <th>max</th>\n",
       "      <td>699.000000</td>\n",
       "      <td>38.000000</td>\n",
       "      <td>5699.769662</td>\n",
       "      <td>40.823963</td>\n",
       "      <td>2021-12-30 00:00:00</td>\n",
       "      <td>12.000000</td>\n",
       "      <td>6.0</td>\n",
       "      <td>0.0</td>\n",
       "      <td>199.0</td>\n",
       "    </tr>\n",
       "    <tr>\n",
       "      <th>std</th>\n",
       "      <td>201.099339</td>\n",
       "      <td>4.757208</td>\n",
       "      <td>836.895330</td>\n",
       "      <td>5.572048</td>\n",
       "      <td>NaN</td>\n",
       "      <td>3.414616</td>\n",
       "      <td>0.0</td>\n",
       "      <td>0.0</td>\n",
       "      <td>0.0</td>\n",
       "    </tr>\n",
       "  </tbody>\n",
       "</table>\n",
       "</div>"
      ],
      "text/plain": [
       "           user_id          age     distance     duration  \\\n",
       "count  6500.000000  6500.000000  6500.000000  6500.000000   \n",
       "mean    348.725385    24.892615  3115.445388    18.541985   \n",
       "min       1.000000    12.000000   244.210438     3.760353   \n",
       "25%     175.000000    22.000000  2785.444017    14.524654   \n",
       "50%     351.000000    25.000000  3148.637229    18.178153   \n",
       "75%     525.000000    28.000000  3560.574425    21.884129   \n",
       "max     699.000000    38.000000  5699.769662    40.823963   \n",
       "std     201.099339     4.757208   836.895330     5.572048   \n",
       "\n",
       "                                date        month  minute_price  \\\n",
       "count                           6500  6500.000000        6500.0   \n",
       "mean   2021-06-28 21:31:34.153846016     6.422308           6.0   \n",
       "min              2021-01-01 00:00:00     1.000000           6.0   \n",
       "25%              2021-04-01 00:00:00     4.000000           6.0   \n",
       "50%              2021-06-27 00:00:00     6.000000           6.0   \n",
       "75%              2021-09-25 00:00:00     9.000000           6.0   \n",
       "max              2021-12-30 00:00:00    12.000000           6.0   \n",
       "std                              NaN     3.414616           0.0   \n",
       "\n",
       "       start_ride_price  subscription_fee  \n",
       "count            6500.0            6500.0  \n",
       "mean                0.0             199.0  \n",
       "min                 0.0             199.0  \n",
       "25%                 0.0             199.0  \n",
       "50%                 0.0             199.0  \n",
       "75%                 0.0             199.0  \n",
       "max                 0.0             199.0  \n",
       "std                 0.0               0.0  "
      ]
     },
     "execution_count": 45,
     "metadata": {},
     "output_type": "execute_result"
    }
   ],
   "source": [
    "users_ultra.describe()"
   ]
  },
  {
   "cell_type": "markdown",
   "id": "778d6b73",
   "metadata": {},
   "source": [
    "В таблице пользователей с подпиской дистанция имеет меньшее стандартное отклонение. Большинство значений лежит в диапазоне 2500 - 3500 м. Значений с дистанцией менее 2 км очень мало. Большинсво значений времени поездки так же находится в диапазоне 10 - 25 мин, как и в общей таблице. Однако гистограмма имеет меньший разброс значений, чем у пользователей без подписки. "
   ]
  },
  {
   "cell_type": "markdown",
   "id": "67881f9b",
   "metadata": {},
   "source": [
    "Вывод: статистики поездок пользователей с подпиской и без почти не отличаются. Дистанция пользователей без подписки по всем показателям примерно совпадает с пользователями с подпиской, однако имеет большее стандартное отклонение. Интересно, что максимальная дистанция пользователей без подписки на 1 км больше. Время поездок пользователей с подпиской по показателям обычно на 1-2 мин больше. Максимальное время поездки пользователя с подпиской на 6 мин больше пользователя без нее. Пользователи с подпиской имеют меньшее стандартное отклонение, как и в случае с дистанцией. "
   ]
  },
  {
   "cell_type": "markdown",
   "id": "402d620f",
   "metadata": {},
   "source": [
    "## Шаг 5. Подсчёт выручки"
   ]
  },
  {
   "cell_type": "code",
   "execution_count": 46,
   "id": "53049e0a",
   "metadata": {},
   "outputs": [
    {
     "data": {
      "text/html": [
       "<div>\n",
       "<style scoped>\n",
       "    .dataframe tbody tr th:only-of-type {\n",
       "        vertical-align: middle;\n",
       "    }\n",
       "\n",
       "    .dataframe tbody tr th {\n",
       "        vertical-align: top;\n",
       "    }\n",
       "\n",
       "    .dataframe thead th {\n",
       "        text-align: right;\n",
       "    }\n",
       "</style>\n",
       "<table border=\"1\" class=\"dataframe\">\n",
       "  <thead>\n",
       "    <tr style=\"text-align: right;\">\n",
       "      <th></th>\n",
       "      <th>user_id</th>\n",
       "      <th>name</th>\n",
       "      <th>age</th>\n",
       "      <th>city</th>\n",
       "      <th>subscription_type</th>\n",
       "      <th>distance</th>\n",
       "      <th>duration</th>\n",
       "      <th>date</th>\n",
       "      <th>month</th>\n",
       "      <th>minute_price</th>\n",
       "      <th>start_ride_price</th>\n",
       "      <th>subscription_fee</th>\n",
       "    </tr>\n",
       "  </thead>\n",
       "  <tbody>\n",
       "    <tr>\n",
       "      <th>0</th>\n",
       "      <td>1</td>\n",
       "      <td>Кира</td>\n",
       "      <td>22</td>\n",
       "      <td>Тюмень</td>\n",
       "      <td>ultra</td>\n",
       "      <td>4409.919140</td>\n",
       "      <td>25.599769</td>\n",
       "      <td>2021-01-01</td>\n",
       "      <td>1</td>\n",
       "      <td>6</td>\n",
       "      <td>0</td>\n",
       "      <td>199</td>\n",
       "    </tr>\n",
       "    <tr>\n",
       "      <th>1</th>\n",
       "      <td>1</td>\n",
       "      <td>Кира</td>\n",
       "      <td>22</td>\n",
       "      <td>Тюмень</td>\n",
       "      <td>ultra</td>\n",
       "      <td>2617.592153</td>\n",
       "      <td>15.816871</td>\n",
       "      <td>2021-01-18</td>\n",
       "      <td>1</td>\n",
       "      <td>6</td>\n",
       "      <td>0</td>\n",
       "      <td>199</td>\n",
       "    </tr>\n",
       "    <tr>\n",
       "      <th>2</th>\n",
       "      <td>1</td>\n",
       "      <td>Кира</td>\n",
       "      <td>22</td>\n",
       "      <td>Тюмень</td>\n",
       "      <td>ultra</td>\n",
       "      <td>754.159807</td>\n",
       "      <td>6.232113</td>\n",
       "      <td>2021-04-20</td>\n",
       "      <td>4</td>\n",
       "      <td>6</td>\n",
       "      <td>0</td>\n",
       "      <td>199</td>\n",
       "    </tr>\n",
       "    <tr>\n",
       "      <th>3</th>\n",
       "      <td>1</td>\n",
       "      <td>Кира</td>\n",
       "      <td>22</td>\n",
       "      <td>Тюмень</td>\n",
       "      <td>ultra</td>\n",
       "      <td>2694.783254</td>\n",
       "      <td>18.511000</td>\n",
       "      <td>2021-08-11</td>\n",
       "      <td>8</td>\n",
       "      <td>6</td>\n",
       "      <td>0</td>\n",
       "      <td>199</td>\n",
       "    </tr>\n",
       "    <tr>\n",
       "      <th>4</th>\n",
       "      <td>1</td>\n",
       "      <td>Кира</td>\n",
       "      <td>22</td>\n",
       "      <td>Тюмень</td>\n",
       "      <td>ultra</td>\n",
       "      <td>4028.687306</td>\n",
       "      <td>26.265803</td>\n",
       "      <td>2021-08-28</td>\n",
       "      <td>8</td>\n",
       "      <td>6</td>\n",
       "      <td>0</td>\n",
       "      <td>199</td>\n",
       "    </tr>\n",
       "    <tr>\n",
       "      <th>...</th>\n",
       "      <td>...</td>\n",
       "      <td>...</td>\n",
       "      <td>...</td>\n",
       "      <td>...</td>\n",
       "      <td>...</td>\n",
       "      <td>...</td>\n",
       "      <td>...</td>\n",
       "      <td>...</td>\n",
       "      <td>...</td>\n",
       "      <td>...</td>\n",
       "      <td>...</td>\n",
       "      <td>...</td>\n",
       "    </tr>\n",
       "    <tr>\n",
       "      <th>17968</th>\n",
       "      <td>1534</td>\n",
       "      <td>Альберт</td>\n",
       "      <td>25</td>\n",
       "      <td>Краснодар</td>\n",
       "      <td>free</td>\n",
       "      <td>3781.098080</td>\n",
       "      <td>19.822962</td>\n",
       "      <td>2021-11-04</td>\n",
       "      <td>11</td>\n",
       "      <td>8</td>\n",
       "      <td>50</td>\n",
       "      <td>0</td>\n",
       "    </tr>\n",
       "    <tr>\n",
       "      <th>17969</th>\n",
       "      <td>1534</td>\n",
       "      <td>Альберт</td>\n",
       "      <td>25</td>\n",
       "      <td>Краснодар</td>\n",
       "      <td>free</td>\n",
       "      <td>2840.423057</td>\n",
       "      <td>21.409799</td>\n",
       "      <td>2021-11-16</td>\n",
       "      <td>11</td>\n",
       "      <td>8</td>\n",
       "      <td>50</td>\n",
       "      <td>0</td>\n",
       "    </tr>\n",
       "    <tr>\n",
       "      <th>17970</th>\n",
       "      <td>1534</td>\n",
       "      <td>Альберт</td>\n",
       "      <td>25</td>\n",
       "      <td>Краснодар</td>\n",
       "      <td>free</td>\n",
       "      <td>3826.185507</td>\n",
       "      <td>18.435051</td>\n",
       "      <td>2021-11-18</td>\n",
       "      <td>11</td>\n",
       "      <td>8</td>\n",
       "      <td>50</td>\n",
       "      <td>0</td>\n",
       "    </tr>\n",
       "    <tr>\n",
       "      <th>17971</th>\n",
       "      <td>1534</td>\n",
       "      <td>Альберт</td>\n",
       "      <td>25</td>\n",
       "      <td>Краснодар</td>\n",
       "      <td>free</td>\n",
       "      <td>2902.308661</td>\n",
       "      <td>16.674362</td>\n",
       "      <td>2021-11-27</td>\n",
       "      <td>11</td>\n",
       "      <td>8</td>\n",
       "      <td>50</td>\n",
       "      <td>0</td>\n",
       "    </tr>\n",
       "    <tr>\n",
       "      <th>17972</th>\n",
       "      <td>1534</td>\n",
       "      <td>Альберт</td>\n",
       "      <td>25</td>\n",
       "      <td>Краснодар</td>\n",
       "      <td>free</td>\n",
       "      <td>2371.711192</td>\n",
       "      <td>15.893917</td>\n",
       "      <td>2021-12-29</td>\n",
       "      <td>12</td>\n",
       "      <td>8</td>\n",
       "      <td>50</td>\n",
       "      <td>0</td>\n",
       "    </tr>\n",
       "  </tbody>\n",
       "</table>\n",
       "<p>17973 rows × 12 columns</p>\n",
       "</div>"
      ],
      "text/plain": [
       "       user_id     name  age       city subscription_type     distance  \\\n",
       "0            1     Кира   22     Тюмень             ultra  4409.919140   \n",
       "1            1     Кира   22     Тюмень             ultra  2617.592153   \n",
       "2            1     Кира   22     Тюмень             ultra   754.159807   \n",
       "3            1     Кира   22     Тюмень             ultra  2694.783254   \n",
       "4            1     Кира   22     Тюмень             ultra  4028.687306   \n",
       "...        ...      ...  ...        ...               ...          ...   \n",
       "17968     1534  Альберт   25  Краснодар              free  3781.098080   \n",
       "17969     1534  Альберт   25  Краснодар              free  2840.423057   \n",
       "17970     1534  Альберт   25  Краснодар              free  3826.185507   \n",
       "17971     1534  Альберт   25  Краснодар              free  2902.308661   \n",
       "17972     1534  Альберт   25  Краснодар              free  2371.711192   \n",
       "\n",
       "        duration       date  month  minute_price  start_ride_price  \\\n",
       "0      25.599769 2021-01-01      1             6                 0   \n",
       "1      15.816871 2021-01-18      1             6                 0   \n",
       "2       6.232113 2021-04-20      4             6                 0   \n",
       "3      18.511000 2021-08-11      8             6                 0   \n",
       "4      26.265803 2021-08-28      8             6                 0   \n",
       "...          ...        ...    ...           ...               ...   \n",
       "17968  19.822962 2021-11-04     11             8                50   \n",
       "17969  21.409799 2021-11-16     11             8                50   \n",
       "17970  18.435051 2021-11-18     11             8                50   \n",
       "17971  16.674362 2021-11-27     11             8                50   \n",
       "17972  15.893917 2021-12-29     12             8                50   \n",
       "\n",
       "       subscription_fee  \n",
       "0                   199  \n",
       "1                   199  \n",
       "2                   199  \n",
       "3                   199  \n",
       "4                   199  \n",
       "...                 ...  \n",
       "17968                 0  \n",
       "17969                 0  \n",
       "17970                 0  \n",
       "17971                 0  \n",
       "17972                 0  \n",
       "\n",
       "[17973 rows x 12 columns]"
      ]
     },
     "execution_count": 46,
     "metadata": {},
     "output_type": "execute_result"
    }
   ],
   "source": [
    "users"
   ]
  },
  {
   "cell_type": "code",
   "execution_count": 47,
   "id": "403a7aec",
   "metadata": {},
   "outputs": [
    {
     "data": {
      "text/html": [
       "<div>\n",
       "<style scoped>\n",
       "    .dataframe tbody tr th:only-of-type {\n",
       "        vertical-align: middle;\n",
       "    }\n",
       "\n",
       "    .dataframe tbody tr th {\n",
       "        vertical-align: top;\n",
       "    }\n",
       "\n",
       "    .dataframe thead th {\n",
       "        text-align: right;\n",
       "    }\n",
       "</style>\n",
       "<table border=\"1\" class=\"dataframe\">\n",
       "  <thead>\n",
       "    <tr style=\"text-align: right;\">\n",
       "      <th></th>\n",
       "      <th>user_id</th>\n",
       "      <th>name</th>\n",
       "      <th>age</th>\n",
       "      <th>city</th>\n",
       "      <th>subscription_type</th>\n",
       "      <th>distance</th>\n",
       "      <th>duration</th>\n",
       "      <th>date</th>\n",
       "      <th>month</th>\n",
       "      <th>minute_price</th>\n",
       "      <th>start_ride_price</th>\n",
       "      <th>subscription_fee</th>\n",
       "    </tr>\n",
       "  </thead>\n",
       "  <tbody>\n",
       "    <tr>\n",
       "      <th>0</th>\n",
       "      <td>1</td>\n",
       "      <td>Кира</td>\n",
       "      <td>22</td>\n",
       "      <td>Тюмень</td>\n",
       "      <td>ultra</td>\n",
       "      <td>4409.919140</td>\n",
       "      <td>26.0</td>\n",
       "      <td>2021-01-01</td>\n",
       "      <td>1</td>\n",
       "      <td>6</td>\n",
       "      <td>0</td>\n",
       "      <td>199</td>\n",
       "    </tr>\n",
       "    <tr>\n",
       "      <th>1</th>\n",
       "      <td>1</td>\n",
       "      <td>Кира</td>\n",
       "      <td>22</td>\n",
       "      <td>Тюмень</td>\n",
       "      <td>ultra</td>\n",
       "      <td>2617.592153</td>\n",
       "      <td>16.0</td>\n",
       "      <td>2021-01-18</td>\n",
       "      <td>1</td>\n",
       "      <td>6</td>\n",
       "      <td>0</td>\n",
       "      <td>199</td>\n",
       "    </tr>\n",
       "    <tr>\n",
       "      <th>2</th>\n",
       "      <td>1</td>\n",
       "      <td>Кира</td>\n",
       "      <td>22</td>\n",
       "      <td>Тюмень</td>\n",
       "      <td>ultra</td>\n",
       "      <td>754.159807</td>\n",
       "      <td>7.0</td>\n",
       "      <td>2021-04-20</td>\n",
       "      <td>4</td>\n",
       "      <td>6</td>\n",
       "      <td>0</td>\n",
       "      <td>199</td>\n",
       "    </tr>\n",
       "    <tr>\n",
       "      <th>3</th>\n",
       "      <td>1</td>\n",
       "      <td>Кира</td>\n",
       "      <td>22</td>\n",
       "      <td>Тюмень</td>\n",
       "      <td>ultra</td>\n",
       "      <td>2694.783254</td>\n",
       "      <td>19.0</td>\n",
       "      <td>2021-08-11</td>\n",
       "      <td>8</td>\n",
       "      <td>6</td>\n",
       "      <td>0</td>\n",
       "      <td>199</td>\n",
       "    </tr>\n",
       "    <tr>\n",
       "      <th>4</th>\n",
       "      <td>1</td>\n",
       "      <td>Кира</td>\n",
       "      <td>22</td>\n",
       "      <td>Тюмень</td>\n",
       "      <td>ultra</td>\n",
       "      <td>4028.687306</td>\n",
       "      <td>27.0</td>\n",
       "      <td>2021-08-28</td>\n",
       "      <td>8</td>\n",
       "      <td>6</td>\n",
       "      <td>0</td>\n",
       "      <td>199</td>\n",
       "    </tr>\n",
       "    <tr>\n",
       "      <th>...</th>\n",
       "      <td>...</td>\n",
       "      <td>...</td>\n",
       "      <td>...</td>\n",
       "      <td>...</td>\n",
       "      <td>...</td>\n",
       "      <td>...</td>\n",
       "      <td>...</td>\n",
       "      <td>...</td>\n",
       "      <td>...</td>\n",
       "      <td>...</td>\n",
       "      <td>...</td>\n",
       "      <td>...</td>\n",
       "    </tr>\n",
       "    <tr>\n",
       "      <th>17968</th>\n",
       "      <td>1534</td>\n",
       "      <td>Альберт</td>\n",
       "      <td>25</td>\n",
       "      <td>Краснодар</td>\n",
       "      <td>free</td>\n",
       "      <td>3781.098080</td>\n",
       "      <td>20.0</td>\n",
       "      <td>2021-11-04</td>\n",
       "      <td>11</td>\n",
       "      <td>8</td>\n",
       "      <td>50</td>\n",
       "      <td>0</td>\n",
       "    </tr>\n",
       "    <tr>\n",
       "      <th>17969</th>\n",
       "      <td>1534</td>\n",
       "      <td>Альберт</td>\n",
       "      <td>25</td>\n",
       "      <td>Краснодар</td>\n",
       "      <td>free</td>\n",
       "      <td>2840.423057</td>\n",
       "      <td>22.0</td>\n",
       "      <td>2021-11-16</td>\n",
       "      <td>11</td>\n",
       "      <td>8</td>\n",
       "      <td>50</td>\n",
       "      <td>0</td>\n",
       "    </tr>\n",
       "    <tr>\n",
       "      <th>17970</th>\n",
       "      <td>1534</td>\n",
       "      <td>Альберт</td>\n",
       "      <td>25</td>\n",
       "      <td>Краснодар</td>\n",
       "      <td>free</td>\n",
       "      <td>3826.185507</td>\n",
       "      <td>19.0</td>\n",
       "      <td>2021-11-18</td>\n",
       "      <td>11</td>\n",
       "      <td>8</td>\n",
       "      <td>50</td>\n",
       "      <td>0</td>\n",
       "    </tr>\n",
       "    <tr>\n",
       "      <th>17971</th>\n",
       "      <td>1534</td>\n",
       "      <td>Альберт</td>\n",
       "      <td>25</td>\n",
       "      <td>Краснодар</td>\n",
       "      <td>free</td>\n",
       "      <td>2902.308661</td>\n",
       "      <td>17.0</td>\n",
       "      <td>2021-11-27</td>\n",
       "      <td>11</td>\n",
       "      <td>8</td>\n",
       "      <td>50</td>\n",
       "      <td>0</td>\n",
       "    </tr>\n",
       "    <tr>\n",
       "      <th>17972</th>\n",
       "      <td>1534</td>\n",
       "      <td>Альберт</td>\n",
       "      <td>25</td>\n",
       "      <td>Краснодар</td>\n",
       "      <td>free</td>\n",
       "      <td>2371.711192</td>\n",
       "      <td>16.0</td>\n",
       "      <td>2021-12-29</td>\n",
       "      <td>12</td>\n",
       "      <td>8</td>\n",
       "      <td>50</td>\n",
       "      <td>0</td>\n",
       "    </tr>\n",
       "  </tbody>\n",
       "</table>\n",
       "<p>17973 rows × 12 columns</p>\n",
       "</div>"
      ],
      "text/plain": [
       "       user_id     name  age       city subscription_type     distance  \\\n",
       "0            1     Кира   22     Тюмень             ultra  4409.919140   \n",
       "1            1     Кира   22     Тюмень             ultra  2617.592153   \n",
       "2            1     Кира   22     Тюмень             ultra   754.159807   \n",
       "3            1     Кира   22     Тюмень             ultra  2694.783254   \n",
       "4            1     Кира   22     Тюмень             ultra  4028.687306   \n",
       "...        ...      ...  ...        ...               ...          ...   \n",
       "17968     1534  Альберт   25  Краснодар              free  3781.098080   \n",
       "17969     1534  Альберт   25  Краснодар              free  2840.423057   \n",
       "17970     1534  Альберт   25  Краснодар              free  3826.185507   \n",
       "17971     1534  Альберт   25  Краснодар              free  2902.308661   \n",
       "17972     1534  Альберт   25  Краснодар              free  2371.711192   \n",
       "\n",
       "       duration       date  month  minute_price  start_ride_price  \\\n",
       "0          26.0 2021-01-01      1             6                 0   \n",
       "1          16.0 2021-01-18      1             6                 0   \n",
       "2           7.0 2021-04-20      4             6                 0   \n",
       "3          19.0 2021-08-11      8             6                 0   \n",
       "4          27.0 2021-08-28      8             6                 0   \n",
       "...         ...        ...    ...           ...               ...   \n",
       "17968      20.0 2021-11-04     11             8                50   \n",
       "17969      22.0 2021-11-16     11             8                50   \n",
       "17970      19.0 2021-11-18     11             8                50   \n",
       "17971      17.0 2021-11-27     11             8                50   \n",
       "17972      16.0 2021-12-29     12             8                50   \n",
       "\n",
       "       subscription_fee  \n",
       "0                   199  \n",
       "1                   199  \n",
       "2                   199  \n",
       "3                   199  \n",
       "4                   199  \n",
       "...                 ...  \n",
       "17968                 0  \n",
       "17969                 0  \n",
       "17970                 0  \n",
       "17971                 0  \n",
       "17972                 0  \n",
       "\n",
       "[17973 rows x 12 columns]"
      ]
     },
     "execution_count": 47,
     "metadata": {},
     "output_type": "execute_result"
    }
   ],
   "source": [
    "users['duration'] = np.ceil(users['duration']) \n",
    "users"
   ]
  },
  {
   "cell_type": "markdown",
   "id": "fea68b04",
   "metadata": {},
   "source": [
    "Создадим датафрейм с суммарным расстоянием, количеством поездок и суммарным временем для каждого пользователя за каждый месяц:"
   ]
  },
  {
   "cell_type": "code",
   "execution_count": 48,
   "id": "f0af1f92",
   "metadata": {},
   "outputs": [],
   "source": [
    "users_month = users.pivot_table(index=['user_id', 'month'], values=['distance', 'duration'], aggfunc=['sum', 'count'])\n",
    "users_month.columns = ['total_distance', 'total_duration', 'rides_count', 'rides_count_copy']\n",
    "users_month = users_month.drop(columns='rides_count_copy') \n",
    "users_month = users_month.reset_index()"
   ]
  },
  {
   "cell_type": "code",
   "execution_count": 49,
   "id": "e0eea85d",
   "metadata": {},
   "outputs": [],
   "source": [
    "def subscription_add(row):\n",
    "    data = users[(users['user_id'] == row['user_id']) & (users['month'] == row['month'])]\n",
    "    subscription_type = data.iloc[0]['subscription_type']\n",
    "    return subscription_type\n",
    "\n",
    "users_month['subscription_type'] = users_month.apply(subscription_add, axis=1)"
   ]
  },
  {
   "cell_type": "code",
   "execution_count": 50,
   "id": "35db1118",
   "metadata": {},
   "outputs": [
    {
     "data": {
      "text/html": [
       "<div>\n",
       "<style scoped>\n",
       "    .dataframe tbody tr th:only-of-type {\n",
       "        vertical-align: middle;\n",
       "    }\n",
       "\n",
       "    .dataframe tbody tr th {\n",
       "        vertical-align: top;\n",
       "    }\n",
       "\n",
       "    .dataframe thead th {\n",
       "        text-align: right;\n",
       "    }\n",
       "</style>\n",
       "<table border=\"1\" class=\"dataframe\">\n",
       "  <thead>\n",
       "    <tr style=\"text-align: right;\">\n",
       "      <th></th>\n",
       "      <th>user_id</th>\n",
       "      <th>month</th>\n",
       "      <th>total_distance</th>\n",
       "      <th>total_duration</th>\n",
       "      <th>rides_count</th>\n",
       "      <th>subscription_type</th>\n",
       "    </tr>\n",
       "  </thead>\n",
       "  <tbody>\n",
       "    <tr>\n",
       "      <th>0</th>\n",
       "      <td>1</td>\n",
       "      <td>1</td>\n",
       "      <td>7027.511294</td>\n",
       "      <td>42.0</td>\n",
       "      <td>2</td>\n",
       "      <td>ultra</td>\n",
       "    </tr>\n",
       "    <tr>\n",
       "      <th>1</th>\n",
       "      <td>1</td>\n",
       "      <td>4</td>\n",
       "      <td>754.159807</td>\n",
       "      <td>7.0</td>\n",
       "      <td>1</td>\n",
       "      <td>ultra</td>\n",
       "    </tr>\n",
       "    <tr>\n",
       "      <th>2</th>\n",
       "      <td>1</td>\n",
       "      <td>8</td>\n",
       "      <td>6723.470560</td>\n",
       "      <td>46.0</td>\n",
       "      <td>2</td>\n",
       "      <td>ultra</td>\n",
       "    </tr>\n",
       "    <tr>\n",
       "      <th>3</th>\n",
       "      <td>1</td>\n",
       "      <td>10</td>\n",
       "      <td>5809.911100</td>\n",
       "      <td>32.0</td>\n",
       "      <td>2</td>\n",
       "      <td>ultra</td>\n",
       "    </tr>\n",
       "    <tr>\n",
       "      <th>4</th>\n",
       "      <td>1</td>\n",
       "      <td>11</td>\n",
       "      <td>7003.499363</td>\n",
       "      <td>56.0</td>\n",
       "      <td>3</td>\n",
       "      <td>ultra</td>\n",
       "    </tr>\n",
       "  </tbody>\n",
       "</table>\n",
       "</div>"
      ],
      "text/plain": [
       "   user_id  month  total_distance  total_duration  rides_count  \\\n",
       "0        1      1     7027.511294            42.0            2   \n",
       "1        1      4      754.159807             7.0            1   \n",
       "2        1      8     6723.470560            46.0            2   \n",
       "3        1     10     5809.911100            32.0            2   \n",
       "4        1     11     7003.499363            56.0            3   \n",
       "\n",
       "  subscription_type  \n",
       "0             ultra  \n",
       "1             ultra  \n",
       "2             ultra  \n",
       "3             ultra  \n",
       "4             ultra  "
      ]
     },
     "execution_count": 50,
     "metadata": {},
     "output_type": "execute_result"
    }
   ],
   "source": [
    "users_month.head()"
   ]
  },
  {
   "cell_type": "markdown",
   "id": "4ba8ad38",
   "metadata": {},
   "source": [
    "Рассчитаем выручку от пользователей с подпиской и без и добавим в новый столбец revenue:"
   ]
  },
  {
   "cell_type": "code",
   "execution_count": 51,
   "id": "282d1a55",
   "metadata": {},
   "outputs": [],
   "source": [
    "users_month['revenue'] = None"
   ]
  },
  {
   "cell_type": "code",
   "execution_count": 52,
   "id": "4e9269c9",
   "metadata": {},
   "outputs": [],
   "source": [
    "def revenue(row):\n",
    "    if row['subscription_type'] == 'free':\n",
    "        revenue_from_user = row['total_duration'] * 8 + row['rides_count'] * 50\n",
    "    else:\n",
    "        revenue_from_user = row['total_duration'] * 6 + 199\n",
    "    return revenue_from_user\n",
    "\n",
    "users_month['revenue'] = users_month.apply(revenue, axis=1)\n",
    "users_month['revenue'] = users_month['revenue'].astype(int)"
   ]
  },
  {
   "cell_type": "code",
   "execution_count": 53,
   "id": "91d52033",
   "metadata": {},
   "outputs": [
    {
     "data": {
      "text/html": [
       "<div>\n",
       "<style scoped>\n",
       "    .dataframe tbody tr th:only-of-type {\n",
       "        vertical-align: middle;\n",
       "    }\n",
       "\n",
       "    .dataframe tbody tr th {\n",
       "        vertical-align: top;\n",
       "    }\n",
       "\n",
       "    .dataframe thead th {\n",
       "        text-align: right;\n",
       "    }\n",
       "</style>\n",
       "<table border=\"1\" class=\"dataframe\">\n",
       "  <thead>\n",
       "    <tr style=\"text-align: right;\">\n",
       "      <th></th>\n",
       "      <th>user_id</th>\n",
       "      <th>month</th>\n",
       "      <th>total_distance</th>\n",
       "      <th>total_duration</th>\n",
       "      <th>rides_count</th>\n",
       "      <th>subscription_type</th>\n",
       "      <th>revenue</th>\n",
       "    </tr>\n",
       "  </thead>\n",
       "  <tbody>\n",
       "    <tr>\n",
       "      <th>0</th>\n",
       "      <td>1</td>\n",
       "      <td>1</td>\n",
       "      <td>7027.511294</td>\n",
       "      <td>42.0</td>\n",
       "      <td>2</td>\n",
       "      <td>ultra</td>\n",
       "      <td>451</td>\n",
       "    </tr>\n",
       "    <tr>\n",
       "      <th>1</th>\n",
       "      <td>1</td>\n",
       "      <td>4</td>\n",
       "      <td>754.159807</td>\n",
       "      <td>7.0</td>\n",
       "      <td>1</td>\n",
       "      <td>ultra</td>\n",
       "      <td>241</td>\n",
       "    </tr>\n",
       "    <tr>\n",
       "      <th>2</th>\n",
       "      <td>1</td>\n",
       "      <td>8</td>\n",
       "      <td>6723.470560</td>\n",
       "      <td>46.0</td>\n",
       "      <td>2</td>\n",
       "      <td>ultra</td>\n",
       "      <td>475</td>\n",
       "    </tr>\n",
       "    <tr>\n",
       "      <th>3</th>\n",
       "      <td>1</td>\n",
       "      <td>10</td>\n",
       "      <td>5809.911100</td>\n",
       "      <td>32.0</td>\n",
       "      <td>2</td>\n",
       "      <td>ultra</td>\n",
       "      <td>391</td>\n",
       "    </tr>\n",
       "    <tr>\n",
       "      <th>4</th>\n",
       "      <td>1</td>\n",
       "      <td>11</td>\n",
       "      <td>7003.499363</td>\n",
       "      <td>56.0</td>\n",
       "      <td>3</td>\n",
       "      <td>ultra</td>\n",
       "      <td>535</td>\n",
       "    </tr>\n",
       "    <tr>\n",
       "      <th>5</th>\n",
       "      <td>1</td>\n",
       "      <td>12</td>\n",
       "      <td>6751.629942</td>\n",
       "      <td>28.0</td>\n",
       "      <td>2</td>\n",
       "      <td>ultra</td>\n",
       "      <td>367</td>\n",
       "    </tr>\n",
       "    <tr>\n",
       "      <th>6</th>\n",
       "      <td>2</td>\n",
       "      <td>3</td>\n",
       "      <td>10187.723006</td>\n",
       "      <td>63.0</td>\n",
       "      <td>3</td>\n",
       "      <td>ultra</td>\n",
       "      <td>577</td>\n",
       "    </tr>\n",
       "    <tr>\n",
       "      <th>7</th>\n",
       "      <td>2</td>\n",
       "      <td>4</td>\n",
       "      <td>6164.381824</td>\n",
       "      <td>40.0</td>\n",
       "      <td>2</td>\n",
       "      <td>ultra</td>\n",
       "      <td>439</td>\n",
       "    </tr>\n",
       "    <tr>\n",
       "      <th>8</th>\n",
       "      <td>2</td>\n",
       "      <td>6</td>\n",
       "      <td>3255.338202</td>\n",
       "      <td>14.0</td>\n",
       "      <td>1</td>\n",
       "      <td>ultra</td>\n",
       "      <td>283</td>\n",
       "    </tr>\n",
       "    <tr>\n",
       "      <th>9</th>\n",
       "      <td>2</td>\n",
       "      <td>7</td>\n",
       "      <td>6780.722964</td>\n",
       "      <td>48.0</td>\n",
       "      <td>2</td>\n",
       "      <td>ultra</td>\n",
       "      <td>487</td>\n",
       "    </tr>\n",
       "    <tr>\n",
       "      <th>10</th>\n",
       "      <td>2</td>\n",
       "      <td>8</td>\n",
       "      <td>923.007439</td>\n",
       "      <td>7.0</td>\n",
       "      <td>1</td>\n",
       "      <td>ultra</td>\n",
       "      <td>241</td>\n",
       "    </tr>\n",
       "    <tr>\n",
       "      <th>11</th>\n",
       "      <td>2</td>\n",
       "      <td>10</td>\n",
       "      <td>2824.636598</td>\n",
       "      <td>19.0</td>\n",
       "      <td>1</td>\n",
       "      <td>ultra</td>\n",
       "      <td>313</td>\n",
       "    </tr>\n",
       "    <tr>\n",
       "      <th>12</th>\n",
       "      <td>2</td>\n",
       "      <td>12</td>\n",
       "      <td>3828.248580</td>\n",
       "      <td>12.0</td>\n",
       "      <td>1</td>\n",
       "      <td>ultra</td>\n",
       "      <td>271</td>\n",
       "    </tr>\n",
       "    <tr>\n",
       "      <th>13</th>\n",
       "      <td>3</td>\n",
       "      <td>1</td>\n",
       "      <td>3061.777147</td>\n",
       "      <td>13.0</td>\n",
       "      <td>1</td>\n",
       "      <td>ultra</td>\n",
       "      <td>277</td>\n",
       "    </tr>\n",
       "    <tr>\n",
       "      <th>14</th>\n",
       "      <td>3</td>\n",
       "      <td>2</td>\n",
       "      <td>5421.152016</td>\n",
       "      <td>39.0</td>\n",
       "      <td>2</td>\n",
       "      <td>ultra</td>\n",
       "      <td>433</td>\n",
       "    </tr>\n",
       "    <tr>\n",
       "      <th>15</th>\n",
       "      <td>3</td>\n",
       "      <td>4</td>\n",
       "      <td>2956.651632</td>\n",
       "      <td>21.0</td>\n",
       "      <td>1</td>\n",
       "      <td>ultra</td>\n",
       "      <td>325</td>\n",
       "    </tr>\n",
       "    <tr>\n",
       "      <th>16</th>\n",
       "      <td>3</td>\n",
       "      <td>5</td>\n",
       "      <td>9064.026918</td>\n",
       "      <td>63.0</td>\n",
       "      <td>3</td>\n",
       "      <td>ultra</td>\n",
       "      <td>577</td>\n",
       "    </tr>\n",
       "    <tr>\n",
       "      <th>17</th>\n",
       "      <td>3</td>\n",
       "      <td>7</td>\n",
       "      <td>10919.595403</td>\n",
       "      <td>67.0</td>\n",
       "      <td>3</td>\n",
       "      <td>ultra</td>\n",
       "      <td>601</td>\n",
       "    </tr>\n",
       "    <tr>\n",
       "      <th>18</th>\n",
       "      <td>3</td>\n",
       "      <td>9</td>\n",
       "      <td>2891.012822</td>\n",
       "      <td>23.0</td>\n",
       "      <td>1</td>\n",
       "      <td>ultra</td>\n",
       "      <td>337</td>\n",
       "    </tr>\n",
       "    <tr>\n",
       "      <th>19</th>\n",
       "      <td>3</td>\n",
       "      <td>12</td>\n",
       "      <td>2593.381928</td>\n",
       "      <td>13.0</td>\n",
       "      <td>1</td>\n",
       "      <td>ultra</td>\n",
       "      <td>277</td>\n",
       "    </tr>\n",
       "  </tbody>\n",
       "</table>\n",
       "</div>"
      ],
      "text/plain": [
       "    user_id  month  total_distance  total_duration  rides_count  \\\n",
       "0         1      1     7027.511294            42.0            2   \n",
       "1         1      4      754.159807             7.0            1   \n",
       "2         1      8     6723.470560            46.0            2   \n",
       "3         1     10     5809.911100            32.0            2   \n",
       "4         1     11     7003.499363            56.0            3   \n",
       "5         1     12     6751.629942            28.0            2   \n",
       "6         2      3    10187.723006            63.0            3   \n",
       "7         2      4     6164.381824            40.0            2   \n",
       "8         2      6     3255.338202            14.0            1   \n",
       "9         2      7     6780.722964            48.0            2   \n",
       "10        2      8      923.007439             7.0            1   \n",
       "11        2     10     2824.636598            19.0            1   \n",
       "12        2     12     3828.248580            12.0            1   \n",
       "13        3      1     3061.777147            13.0            1   \n",
       "14        3      2     5421.152016            39.0            2   \n",
       "15        3      4     2956.651632            21.0            1   \n",
       "16        3      5     9064.026918            63.0            3   \n",
       "17        3      7    10919.595403            67.0            3   \n",
       "18        3      9     2891.012822            23.0            1   \n",
       "19        3     12     2593.381928            13.0            1   \n",
       "\n",
       "   subscription_type  revenue  \n",
       "0              ultra      451  \n",
       "1              ultra      241  \n",
       "2              ultra      475  \n",
       "3              ultra      391  \n",
       "4              ultra      535  \n",
       "5              ultra      367  \n",
       "6              ultra      577  \n",
       "7              ultra      439  \n",
       "8              ultra      283  \n",
       "9              ultra      487  \n",
       "10             ultra      241  \n",
       "11             ultra      313  \n",
       "12             ultra      271  \n",
       "13             ultra      277  \n",
       "14             ultra      433  \n",
       "15             ultra      325  \n",
       "16             ultra      577  \n",
       "17             ultra      601  \n",
       "18             ultra      337  \n",
       "19             ultra      277  "
      ]
     },
     "execution_count": 53,
     "metadata": {},
     "output_type": "execute_result"
    }
   ],
   "source": [
    "users_month.head(20)"
   ]
  },
  {
   "cell_type": "markdown",
   "id": "bca114f0",
   "metadata": {},
   "source": [
    "На данном этапе мы рассчитали помесячную выручку, которую принёс каждый пользователь. "
   ]
  },
  {
   "cell_type": "markdown",
   "id": "7cd1c291",
   "metadata": {},
   "source": [
    "## Шаг 6. Проверка гипотез"
   ]
  },
  {
   "cell_type": "markdown",
   "id": "6ea2af1d",
   "metadata": {},
   "source": [
    "__Гипотеза: тратят ли пользователи с подпиской больше времени на поездки?__"
   ]
  },
  {
   "cell_type": "code",
   "execution_count": 54,
   "id": "d4469eee",
   "metadata": {},
   "outputs": [
    {
     "data": {
      "text/plain": [
       "11473"
      ]
     },
     "execution_count": 54,
     "metadata": {},
     "output_type": "execute_result"
    }
   ],
   "source": [
    "len(list(users_free['duration']))"
   ]
  },
  {
   "cell_type": "code",
   "execution_count": 55,
   "id": "fc1b0ea7",
   "metadata": {},
   "outputs": [
    {
     "data": {
      "text/plain": [
       "6500"
      ]
     },
     "execution_count": 55,
     "metadata": {},
     "output_type": "execute_result"
    }
   ],
   "source": [
    "len(list(users_ultra['duration']))"
   ]
  },
  {
   "cell_type": "code",
   "execution_count": 56,
   "id": "89f806d9",
   "metadata": {},
   "outputs": [
    {
     "name": "stdout",
     "output_type": "stream",
     "text": [
      "p-значение: 4.704468074453899e-28\n",
      "Отвергаем нулевую гипотезу\n"
     ]
    }
   ],
   "source": [
    "users_free_duration = list(users_free['duration'])\n",
    "users_ultra_duration  = list(users_ultra['duration'])\n",
    "\n",
    "alpha = 0.05\n",
    "results = st.ttest_ind(users_ultra_duration, users_free_duration, alternative='greater')\n",
    "\n",
    "print('p-значение:', results.pvalue)\n",
    "if results.pvalue < alpha:\n",
    "    print('Отвергаем нулевую гипотезу')\n",
    "else:\n",
    "    print('Не получилось отвергнуть нулевую гипотезу')"
   ]
  },
  {
   "cell_type": "markdown",
   "id": "e7264106",
   "metadata": {},
   "source": [
    "Возьмем длительность поездок пользователей с подпиской и без. Уровень статистической значимости принят за 0.05. Гипотеза является односторонней, так как нужно установить больше ли пользователи с подпиской трятят времени на поездки, чем пользователи без подписки. Значение pvalue получилось меньше уровня статистической значимости, следовательно можем отвергуть гипотезу -  пользователи с подпиской не тратят больше времени, чем пользователи без подписки, на поездки."
   ]
  },
  {
   "cell_type": "markdown",
   "id": "da698ce0",
   "metadata": {},
   "source": [
    "Нулевая гипотеза: пользователи с подпиской тратят больше времени на поездки\n",
    "\n",
    "Альтернативная гипотеза: пользователи с подпиской не тратят больше времени на поездки (пользователи с подпиской тратят столько же или меньше времени на поездки)"
   ]
  },
  {
   "cell_type": "markdown",
   "id": "e7f01148",
   "metadata": {},
   "source": [
    "__Гипотеза: среднее расстояние, которое проезжают пользователи с подпиской за одну поездку, не превышает 3130 метров.__"
   ]
  },
  {
   "cell_type": "code",
   "execution_count": 57,
   "id": "c6193bd6",
   "metadata": {},
   "outputs": [
    {
     "data": {
      "text/html": [
       "<div>\n",
       "<style scoped>\n",
       "    .dataframe tbody tr th:only-of-type {\n",
       "        vertical-align: middle;\n",
       "    }\n",
       "\n",
       "    .dataframe tbody tr th {\n",
       "        vertical-align: top;\n",
       "    }\n",
       "\n",
       "    .dataframe thead th {\n",
       "        text-align: right;\n",
       "    }\n",
       "</style>\n",
       "<table border=\"1\" class=\"dataframe\">\n",
       "  <thead>\n",
       "    <tr style=\"text-align: right;\">\n",
       "      <th></th>\n",
       "      <th>user_id</th>\n",
       "      <th>age</th>\n",
       "      <th>distance</th>\n",
       "      <th>duration</th>\n",
       "      <th>date</th>\n",
       "      <th>month</th>\n",
       "      <th>minute_price</th>\n",
       "      <th>start_ride_price</th>\n",
       "      <th>subscription_fee</th>\n",
       "    </tr>\n",
       "  </thead>\n",
       "  <tbody>\n",
       "    <tr>\n",
       "      <th>count</th>\n",
       "      <td>6500.000000</td>\n",
       "      <td>6500.000000</td>\n",
       "      <td>6500.000000</td>\n",
       "      <td>6500.000000</td>\n",
       "      <td>6500</td>\n",
       "      <td>6500.000000</td>\n",
       "      <td>6500.0</td>\n",
       "      <td>6500.0</td>\n",
       "      <td>6500.0</td>\n",
       "    </tr>\n",
       "    <tr>\n",
       "      <th>mean</th>\n",
       "      <td>348.725385</td>\n",
       "      <td>24.892615</td>\n",
       "      <td>3115.445388</td>\n",
       "      <td>18.541985</td>\n",
       "      <td>2021-06-28 21:31:34.153846016</td>\n",
       "      <td>6.422308</td>\n",
       "      <td>6.0</td>\n",
       "      <td>0.0</td>\n",
       "      <td>199.0</td>\n",
       "    </tr>\n",
       "    <tr>\n",
       "      <th>min</th>\n",
       "      <td>1.000000</td>\n",
       "      <td>12.000000</td>\n",
       "      <td>244.210438</td>\n",
       "      <td>3.760353</td>\n",
       "      <td>2021-01-01 00:00:00</td>\n",
       "      <td>1.000000</td>\n",
       "      <td>6.0</td>\n",
       "      <td>0.0</td>\n",
       "      <td>199.0</td>\n",
       "    </tr>\n",
       "    <tr>\n",
       "      <th>25%</th>\n",
       "      <td>175.000000</td>\n",
       "      <td>22.000000</td>\n",
       "      <td>2785.444017</td>\n",
       "      <td>14.524654</td>\n",
       "      <td>2021-04-01 00:00:00</td>\n",
       "      <td>4.000000</td>\n",
       "      <td>6.0</td>\n",
       "      <td>0.0</td>\n",
       "      <td>199.0</td>\n",
       "    </tr>\n",
       "    <tr>\n",
       "      <th>50%</th>\n",
       "      <td>351.000000</td>\n",
       "      <td>25.000000</td>\n",
       "      <td>3148.637229</td>\n",
       "      <td>18.178153</td>\n",
       "      <td>2021-06-27 00:00:00</td>\n",
       "      <td>6.000000</td>\n",
       "      <td>6.0</td>\n",
       "      <td>0.0</td>\n",
       "      <td>199.0</td>\n",
       "    </tr>\n",
       "    <tr>\n",
       "      <th>75%</th>\n",
       "      <td>525.000000</td>\n",
       "      <td>28.000000</td>\n",
       "      <td>3560.574425</td>\n",
       "      <td>21.884129</td>\n",
       "      <td>2021-09-25 00:00:00</td>\n",
       "      <td>9.000000</td>\n",
       "      <td>6.0</td>\n",
       "      <td>0.0</td>\n",
       "      <td>199.0</td>\n",
       "    </tr>\n",
       "    <tr>\n",
       "      <th>max</th>\n",
       "      <td>699.000000</td>\n",
       "      <td>38.000000</td>\n",
       "      <td>5699.769662</td>\n",
       "      <td>40.823963</td>\n",
       "      <td>2021-12-30 00:00:00</td>\n",
       "      <td>12.000000</td>\n",
       "      <td>6.0</td>\n",
       "      <td>0.0</td>\n",
       "      <td>199.0</td>\n",
       "    </tr>\n",
       "    <tr>\n",
       "      <th>std</th>\n",
       "      <td>201.099339</td>\n",
       "      <td>4.757208</td>\n",
       "      <td>836.895330</td>\n",
       "      <td>5.572048</td>\n",
       "      <td>NaN</td>\n",
       "      <td>3.414616</td>\n",
       "      <td>0.0</td>\n",
       "      <td>0.0</td>\n",
       "      <td>0.0</td>\n",
       "    </tr>\n",
       "  </tbody>\n",
       "</table>\n",
       "</div>"
      ],
      "text/plain": [
       "           user_id          age     distance     duration  \\\n",
       "count  6500.000000  6500.000000  6500.000000  6500.000000   \n",
       "mean    348.725385    24.892615  3115.445388    18.541985   \n",
       "min       1.000000    12.000000   244.210438     3.760353   \n",
       "25%     175.000000    22.000000  2785.444017    14.524654   \n",
       "50%     351.000000    25.000000  3148.637229    18.178153   \n",
       "75%     525.000000    28.000000  3560.574425    21.884129   \n",
       "max     699.000000    38.000000  5699.769662    40.823963   \n",
       "std     201.099339     4.757208   836.895330     5.572048   \n",
       "\n",
       "                                date        month  minute_price  \\\n",
       "count                           6500  6500.000000        6500.0   \n",
       "mean   2021-06-28 21:31:34.153846016     6.422308           6.0   \n",
       "min              2021-01-01 00:00:00     1.000000           6.0   \n",
       "25%              2021-04-01 00:00:00     4.000000           6.0   \n",
       "50%              2021-06-27 00:00:00     6.000000           6.0   \n",
       "75%              2021-09-25 00:00:00     9.000000           6.0   \n",
       "max              2021-12-30 00:00:00    12.000000           6.0   \n",
       "std                              NaN     3.414616           0.0   \n",
       "\n",
       "       start_ride_price  subscription_fee  \n",
       "count            6500.0            6500.0  \n",
       "mean                0.0             199.0  \n",
       "min                 0.0             199.0  \n",
       "25%                 0.0             199.0  \n",
       "50%                 0.0             199.0  \n",
       "75%                 0.0             199.0  \n",
       "max                 0.0             199.0  \n",
       "std                 0.0               0.0  "
      ]
     },
     "execution_count": 57,
     "metadata": {},
     "output_type": "execute_result"
    }
   ],
   "source": [
    "users_ultra.describe()"
   ]
  },
  {
   "cell_type": "code",
   "execution_count": 58,
   "id": "5d9dc094",
   "metadata": {},
   "outputs": [
    {
     "name": "stdout",
     "output_type": "stream",
     "text": [
      "p-значение: 0.08046311521502147\n",
      "Не отвергаем нулевую гипотезу\n"
     ]
    }
   ],
   "source": [
    "dist = list(users_ultra['distance'])\n",
    "value = 3130\n",
    "\n",
    "alpha = 0.05\n",
    "\n",
    "results = st.ttest_1samp(dist, value, alternative='less')\n",
    "\n",
    "print('p-значение:', results.pvalue)\n",
    "\n",
    "if (results.pvalue < alpha):\n",
    "    print('Отвергаем нулевую гипотезу')\n",
    "else:\n",
    "    print('Не отвергаем нулевую гипотезу') "
   ]
  },
  {
   "cell_type": "markdown",
   "id": "eb954302",
   "metadata": {},
   "source": [
    "Возьмем столбец 'distance' из таблицы пользователей с подпиской и уровень статистической значимости 5%. Значение pvalue получилось больше alpha. Значит, среднее расстояние, которое проезжают пользователи с подпиской за одну поездку не превышает 3130 метров - гипотезу опровергнуть не удалось. "
   ]
  },
  {
   "cell_type": "markdown",
   "id": "ff6dde23",
   "metadata": {},
   "source": [
    "Нулевая гипотеза: среднее расстояние, которое проезжают пользователи с подпиской за одну поездку, не превышает 3130 метров\n",
    "Альтернативная гипотеза: среднее расстояние, которое проезжают пользователи с подпиской за одну поездку, равна или превышает 3130 метров"
   ]
  },
  {
   "cell_type": "markdown",
   "id": "d2d176d6",
   "metadata": {},
   "source": [
    "__Гипотеза: будет ли помесячная выручка от пользователей с подпиской по месяцам выше, чем выручка от пользователей без подписки?__"
   ]
  },
  {
   "cell_type": "code",
   "execution_count": 59,
   "id": "85b81bdd",
   "metadata": {},
   "outputs": [
    {
     "data": {
      "text/html": [
       "<div>\n",
       "<style scoped>\n",
       "    .dataframe tbody tr th:only-of-type {\n",
       "        vertical-align: middle;\n",
       "    }\n",
       "\n",
       "    .dataframe tbody tr th {\n",
       "        vertical-align: top;\n",
       "    }\n",
       "\n",
       "    .dataframe thead th {\n",
       "        text-align: right;\n",
       "    }\n",
       "</style>\n",
       "<table border=\"1\" class=\"dataframe\">\n",
       "  <thead>\n",
       "    <tr style=\"text-align: right;\">\n",
       "      <th></th>\n",
       "      <th>user_id</th>\n",
       "      <th>month</th>\n",
       "      <th>total_distance</th>\n",
       "      <th>total_duration</th>\n",
       "      <th>rides_count</th>\n",
       "      <th>subscription_type</th>\n",
       "      <th>revenue</th>\n",
       "    </tr>\n",
       "  </thead>\n",
       "  <tbody>\n",
       "    <tr>\n",
       "      <th>0</th>\n",
       "      <td>1</td>\n",
       "      <td>1</td>\n",
       "      <td>7027.511294</td>\n",
       "      <td>42.0</td>\n",
       "      <td>2</td>\n",
       "      <td>ultra</td>\n",
       "      <td>451</td>\n",
       "    </tr>\n",
       "    <tr>\n",
       "      <th>1</th>\n",
       "      <td>1</td>\n",
       "      <td>4</td>\n",
       "      <td>754.159807</td>\n",
       "      <td>7.0</td>\n",
       "      <td>1</td>\n",
       "      <td>ultra</td>\n",
       "      <td>241</td>\n",
       "    </tr>\n",
       "    <tr>\n",
       "      <th>2</th>\n",
       "      <td>1</td>\n",
       "      <td>8</td>\n",
       "      <td>6723.470560</td>\n",
       "      <td>46.0</td>\n",
       "      <td>2</td>\n",
       "      <td>ultra</td>\n",
       "      <td>475</td>\n",
       "    </tr>\n",
       "    <tr>\n",
       "      <th>3</th>\n",
       "      <td>1</td>\n",
       "      <td>10</td>\n",
       "      <td>5809.911100</td>\n",
       "      <td>32.0</td>\n",
       "      <td>2</td>\n",
       "      <td>ultra</td>\n",
       "      <td>391</td>\n",
       "    </tr>\n",
       "    <tr>\n",
       "      <th>4</th>\n",
       "      <td>1</td>\n",
       "      <td>11</td>\n",
       "      <td>7003.499363</td>\n",
       "      <td>56.0</td>\n",
       "      <td>3</td>\n",
       "      <td>ultra</td>\n",
       "      <td>535</td>\n",
       "    </tr>\n",
       "  </tbody>\n",
       "</table>\n",
       "</div>"
      ],
      "text/plain": [
       "   user_id  month  total_distance  total_duration  rides_count  \\\n",
       "0        1      1     7027.511294            42.0            2   \n",
       "1        1      4      754.159807             7.0            1   \n",
       "2        1      8     6723.470560            46.0            2   \n",
       "3        1     10     5809.911100            32.0            2   \n",
       "4        1     11     7003.499363            56.0            3   \n",
       "\n",
       "  subscription_type  revenue  \n",
       "0             ultra      451  \n",
       "1             ultra      241  \n",
       "2             ultra      475  \n",
       "3             ultra      391  \n",
       "4             ultra      535  "
      ]
     },
     "execution_count": 59,
     "metadata": {},
     "output_type": "execute_result"
    }
   ],
   "source": [
    "users_month.head()"
   ]
  },
  {
   "cell_type": "markdown",
   "id": "550f74c2",
   "metadata": {},
   "source": [
    "Создадим отдельно таблицы с выручкой пользователей с подпиской и без:"
   ]
  },
  {
   "cell_type": "code",
   "execution_count": 60,
   "id": "8f76c5d1",
   "metadata": {},
   "outputs": [
    {
     "data": {
      "text/html": [
       "<div>\n",
       "<style scoped>\n",
       "    .dataframe tbody tr th:only-of-type {\n",
       "        vertical-align: middle;\n",
       "    }\n",
       "\n",
       "    .dataframe tbody tr th {\n",
       "        vertical-align: top;\n",
       "    }\n",
       "\n",
       "    .dataframe thead th {\n",
       "        text-align: right;\n",
       "    }\n",
       "</style>\n",
       "<table border=\"1\" class=\"dataframe\">\n",
       "  <thead>\n",
       "    <tr style=\"text-align: right;\">\n",
       "      <th></th>\n",
       "      <th>user_id</th>\n",
       "      <th>month</th>\n",
       "      <th>total_distance</th>\n",
       "      <th>total_duration</th>\n",
       "      <th>rides_count</th>\n",
       "      <th>subscription_type</th>\n",
       "      <th>revenue</th>\n",
       "    </tr>\n",
       "  </thead>\n",
       "  <tbody>\n",
       "    <tr>\n",
       "      <th>0</th>\n",
       "      <td>1</td>\n",
       "      <td>1</td>\n",
       "      <td>7027.511294</td>\n",
       "      <td>42.0</td>\n",
       "      <td>2</td>\n",
       "      <td>ultra</td>\n",
       "      <td>451</td>\n",
       "    </tr>\n",
       "    <tr>\n",
       "      <th>1</th>\n",
       "      <td>1</td>\n",
       "      <td>4</td>\n",
       "      <td>754.159807</td>\n",
       "      <td>7.0</td>\n",
       "      <td>1</td>\n",
       "      <td>ultra</td>\n",
       "      <td>241</td>\n",
       "    </tr>\n",
       "    <tr>\n",
       "      <th>2</th>\n",
       "      <td>1</td>\n",
       "      <td>8</td>\n",
       "      <td>6723.470560</td>\n",
       "      <td>46.0</td>\n",
       "      <td>2</td>\n",
       "      <td>ultra</td>\n",
       "      <td>475</td>\n",
       "    </tr>\n",
       "    <tr>\n",
       "      <th>3</th>\n",
       "      <td>1</td>\n",
       "      <td>10</td>\n",
       "      <td>5809.911100</td>\n",
       "      <td>32.0</td>\n",
       "      <td>2</td>\n",
       "      <td>ultra</td>\n",
       "      <td>391</td>\n",
       "    </tr>\n",
       "    <tr>\n",
       "      <th>4</th>\n",
       "      <td>1</td>\n",
       "      <td>11</td>\n",
       "      <td>7003.499363</td>\n",
       "      <td>56.0</td>\n",
       "      <td>3</td>\n",
       "      <td>ultra</td>\n",
       "      <td>535</td>\n",
       "    </tr>\n",
       "  </tbody>\n",
       "</table>\n",
       "</div>"
      ],
      "text/plain": [
       "   user_id  month  total_distance  total_duration  rides_count  \\\n",
       "0        1      1     7027.511294            42.0            2   \n",
       "1        1      4      754.159807             7.0            1   \n",
       "2        1      8     6723.470560            46.0            2   \n",
       "3        1     10     5809.911100            32.0            2   \n",
       "4        1     11     7003.499363            56.0            3   \n",
       "\n",
       "  subscription_type  revenue  \n",
       "0             ultra      451  \n",
       "1             ultra      241  \n",
       "2             ultra      475  \n",
       "3             ultra      391  \n",
       "4             ultra      535  "
      ]
     },
     "execution_count": 60,
     "metadata": {},
     "output_type": "execute_result"
    }
   ],
   "source": [
    "revenue_ultra = users_month[users_month['subscription_type'] == 'ultra']\n",
    "revenue_ultra.head()"
   ]
  },
  {
   "cell_type": "code",
   "execution_count": 61,
   "id": "0c266f28",
   "metadata": {},
   "outputs": [
    {
     "data": {
      "text/html": [
       "<div>\n",
       "<style scoped>\n",
       "    .dataframe tbody tr th:only-of-type {\n",
       "        vertical-align: middle;\n",
       "    }\n",
       "\n",
       "    .dataframe tbody tr th {\n",
       "        vertical-align: top;\n",
       "    }\n",
       "\n",
       "    .dataframe thead th {\n",
       "        text-align: right;\n",
       "    }\n",
       "</style>\n",
       "<table border=\"1\" class=\"dataframe\">\n",
       "  <thead>\n",
       "    <tr style=\"text-align: right;\">\n",
       "      <th></th>\n",
       "      <th>user_id</th>\n",
       "      <th>month</th>\n",
       "      <th>total_distance</th>\n",
       "      <th>total_duration</th>\n",
       "      <th>rides_count</th>\n",
       "      <th>subscription_type</th>\n",
       "      <th>revenue</th>\n",
       "    </tr>\n",
       "  </thead>\n",
       "  <tbody>\n",
       "    <tr>\n",
       "      <th>4533</th>\n",
       "      <td>700</td>\n",
       "      <td>1</td>\n",
       "      <td>2515.690719</td>\n",
       "      <td>15.0</td>\n",
       "      <td>1</td>\n",
       "      <td>free</td>\n",
       "      <td>170</td>\n",
       "    </tr>\n",
       "    <tr>\n",
       "      <th>4534</th>\n",
       "      <td>700</td>\n",
       "      <td>2</td>\n",
       "      <td>13446.659764</td>\n",
       "      <td>89.0</td>\n",
       "      <td>5</td>\n",
       "      <td>free</td>\n",
       "      <td>962</td>\n",
       "    </tr>\n",
       "    <tr>\n",
       "      <th>4535</th>\n",
       "      <td>700</td>\n",
       "      <td>3</td>\n",
       "      <td>3798.334905</td>\n",
       "      <td>19.0</td>\n",
       "      <td>1</td>\n",
       "      <td>free</td>\n",
       "      <td>202</td>\n",
       "    </tr>\n",
       "    <tr>\n",
       "      <th>4536</th>\n",
       "      <td>700</td>\n",
       "      <td>4</td>\n",
       "      <td>2984.551206</td>\n",
       "      <td>16.0</td>\n",
       "      <td>1</td>\n",
       "      <td>free</td>\n",
       "      <td>178</td>\n",
       "    </tr>\n",
       "    <tr>\n",
       "      <th>4537</th>\n",
       "      <td>700</td>\n",
       "      <td>6</td>\n",
       "      <td>5927.650988</td>\n",
       "      <td>29.0</td>\n",
       "      <td>2</td>\n",
       "      <td>free</td>\n",
       "      <td>332</td>\n",
       "    </tr>\n",
       "  </tbody>\n",
       "</table>\n",
       "</div>"
      ],
      "text/plain": [
       "      user_id  month  total_distance  total_duration  rides_count  \\\n",
       "4533      700      1     2515.690719            15.0            1   \n",
       "4534      700      2    13446.659764            89.0            5   \n",
       "4535      700      3     3798.334905            19.0            1   \n",
       "4536      700      4     2984.551206            16.0            1   \n",
       "4537      700      6     5927.650988            29.0            2   \n",
       "\n",
       "     subscription_type  revenue  \n",
       "4533              free      170  \n",
       "4534              free      962  \n",
       "4535              free      202  \n",
       "4536              free      178  \n",
       "4537              free      332  "
      ]
     },
     "execution_count": 61,
     "metadata": {},
     "output_type": "execute_result"
    }
   ],
   "source": [
    "revenue_free = users_month[users_month['subscription_type'] == 'free']\n",
    "revenue_free.head()"
   ]
  },
  {
   "cell_type": "code",
   "execution_count": 62,
   "id": "ff059b34",
   "metadata": {},
   "outputs": [
    {
     "data": {
      "text/plain": [
       "(6767, 4533)"
      ]
     },
     "execution_count": 62,
     "metadata": {},
     "output_type": "execute_result"
    }
   ],
   "source": [
    "len(revenue_free), len(revenue_ultra)"
   ]
  },
  {
   "cell_type": "code",
   "execution_count": 63,
   "id": "4e6ae4b9",
   "metadata": {},
   "outputs": [
    {
     "name": "stdout",
     "output_type": "stream",
     "text": [
      "p-значение: 2.0314113674863288e-30\n",
      "Отвергаем нулевую гипотезу\n"
     ]
    }
   ],
   "source": [
    "users_free_revenue = list(revenue_free['revenue'])\n",
    "users_ultra_revenue  = list(revenue_ultra['revenue'])\n",
    "\n",
    "alpha = 0.01\n",
    "results = st.ttest_ind(users_ultra_revenue, users_free_revenue, alternative='greater')\n",
    "\n",
    "print('p-значение:', results.pvalue)\n",
    "if results.pvalue < alpha:\n",
    "    print('Отвергаем нулевую гипотезу')\n",
    "else:\n",
    "    print('Не получилось отвергнуть нулевую гипотезу')"
   ]
  },
  {
   "cell_type": "markdown",
   "id": "f8c17659",
   "metadata": {},
   "source": [
    "Данные - выручки от отдельных пользователей за определенный месяц. Уровень статистической значимости примем за 0.01. Получим pvalue, который меньше 0.01.\n",
    "\n",
    "Таким образом, отвергли гипотезу о том, что помесячная выручка от пользователей с подпиской по месяцам выше, чем выручка от пользователей без подписки."
   ]
  },
  {
   "cell_type": "markdown",
   "id": "f05c6141",
   "metadata": {},
   "source": [
    "Нулевая гипотеза: помесячная выручка от пользователей с подпиской по месяцам выше, чем выручка от пользователей без подписки\n",
    "\n",
    "Альтернативная гипотеза: помесячная выручка от пользователей с подпиской по месяцам не выше, то есть меньше или равна выручке выручке от пользователей без подписки"
   ]
  },
  {
   "cell_type": "markdown",
   "id": "e92fc410",
   "metadata": {},
   "source": [
    "__Техническая команда сервиса обновила сервера, с которыми взаимодействует мобильное приложение. Она надеется, что из-за этого количество обращений в техподдержку значимо снизилось. Некоторый файл содержит для каждого пользователя данные о количестве обращений до обновления и после него. Какой тест вам понадобился бы для проверки этой гипотезы?__\n",
    "\n",
    "Нужно сравнить данные о количестве обращений до и после и они являются зависимыми друг от друга выборками. Чтобы проверить гипотезу о равенстве среднего генеральной совокупности для зависимых (парных) выборок в Python, следует использовать метод scipy.stats.ttest_rel().\n",
    "\n",
    "Нулевая гипотеза: количество обращений в поддержку значительно снизилось из-за обновления серверов. \n",
    "\n",
    "Альтернативная гипотеза: количество обращений в поддержку не снизилось значительно из-за обновления серверов. "
   ]
  },
  {
   "cell_type": "markdown",
   "id": "0d1b29b7",
   "metadata": {},
   "source": [
    "## Итоги исследования"
   ]
  },
  {
   "cell_type": "markdown",
   "id": "af1eda52",
   "metadata": {},
   "source": [
    "В ходе работы проанализировали данные сервиса __GoFast__:\n",
    "* рассмотрели соотношение пользователей с подпиской и без подписки;\n",
    "* рассчитали частоту встречаемости городов и возраста пользователей сервиса;\n",
    "* визуализировали информацию о расстоянии и времени поездок для пользователей обеих категорий;\n",
    "* сравнили данные пользователей с подпиской и без;\n",
    "* рассмотрели особенности расстояния и продолжительности поездок;\n",
    "* подсчитали выручку от пользователей с подпиской и без за каждый месяц.\n",
    "\n",
    "Проверили гипотезы:\n",
    "* не удалось отвергнуть гипотезу о том, что пользователи с подпиской тратят больше времени на поездки;\n",
    "* установили, что что среднее расстояние, которое проезжают пользователи с подпиской за одну поездку, не превышает 3130 метров;\n",
    "* отвергли гипотезу о том, что помесячная выручка от пользователей с подпиской по месяцам выше, чем выручка от пользователей без подписки."
   ]
  }
 ],
 "metadata": {
  "ExecuteTimeLog": [
   {
    "duration": 6,
    "start_time": "2024-03-02T11:12:15.031Z"
   },
   {
    "duration": 80,
    "start_time": "2024-03-02T11:13:43.191Z"
   },
   {
    "duration": 70,
    "start_time": "2024-03-02T11:16:17.928Z"
   },
   {
    "duration": 78,
    "start_time": "2024-03-02T11:24:24.093Z"
   },
   {
    "duration": 513,
    "start_time": "2024-03-02T11:29:13.199Z"
   },
   {
    "duration": 3,
    "start_time": "2024-03-02T11:30:01.510Z"
   },
   {
    "duration": 188,
    "start_time": "2024-03-02T11:31:20.224Z"
   },
   {
    "duration": 15,
    "start_time": "2024-03-02T11:31:42.686Z"
   },
   {
    "duration": 10,
    "start_time": "2024-03-02T11:34:58.414Z"
   },
   {
    "duration": 68,
    "start_time": "2024-03-02T11:38:25.699Z"
   },
   {
    "duration": 9,
    "start_time": "2024-03-02T11:38:32.328Z"
   },
   {
    "duration": 2,
    "start_time": "2024-03-02T11:44:02.208Z"
   },
   {
    "duration": 5,
    "start_time": "2024-03-02T11:48:33.914Z"
   },
   {
    "duration": 7,
    "start_time": "2024-03-02T11:49:09.245Z"
   },
   {
    "duration": 7,
    "start_time": "2024-03-02T11:50:26.055Z"
   },
   {
    "duration": 6,
    "start_time": "2024-03-02T11:50:31.286Z"
   },
   {
    "duration": 51,
    "start_time": "2024-03-02T11:50:43.173Z"
   },
   {
    "duration": 5,
    "start_time": "2024-03-02T11:50:43.334Z"
   },
   {
    "duration": 4,
    "start_time": "2024-03-02T11:50:52.282Z"
   },
   {
    "duration": 6,
    "start_time": "2024-03-02T11:50:58.231Z"
   },
   {
    "duration": 4,
    "start_time": "2024-03-02T11:51:33.340Z"
   },
   {
    "duration": 13,
    "start_time": "2024-03-02T11:51:38.216Z"
   },
   {
    "duration": 6,
    "start_time": "2024-03-02T11:51:42.693Z"
   },
   {
    "duration": 5,
    "start_time": "2024-03-02T11:51:46.232Z"
   },
   {
    "duration": 10,
    "start_time": "2024-03-02T11:53:22.390Z"
   },
   {
    "duration": 7,
    "start_time": "2024-03-02T11:54:06.509Z"
   },
   {
    "duration": 19,
    "start_time": "2024-03-02T11:54:23.654Z"
   },
   {
    "duration": 454,
    "start_time": "2024-03-02T11:54:39.481Z"
   },
   {
    "duration": 69,
    "start_time": "2024-03-02T11:54:39.936Z"
   },
   {
    "duration": 16,
    "start_time": "2024-03-02T11:54:40.007Z"
   },
   {
    "duration": 17,
    "start_time": "2024-03-02T11:54:40.024Z"
   },
   {
    "duration": 31,
    "start_time": "2024-03-02T11:54:40.043Z"
   },
   {
    "duration": 22,
    "start_time": "2024-03-02T11:54:40.076Z"
   },
   {
    "duration": 11,
    "start_time": "2024-03-02T11:54:40.100Z"
   },
   {
    "duration": 7,
    "start_time": "2024-03-02T11:54:40.113Z"
   },
   {
    "duration": 131,
    "start_time": "2024-03-02T11:54:40.122Z"
   },
   {
    "duration": 23,
    "start_time": "2024-03-02T11:54:50.572Z"
   },
   {
    "duration": 9,
    "start_time": "2024-03-02T11:54:57.847Z"
   },
   {
    "duration": 12,
    "start_time": "2024-03-02T11:55:23.503Z"
   },
   {
    "duration": 67,
    "start_time": "2024-03-02T11:56:02.861Z"
   },
   {
    "duration": 118,
    "start_time": "2024-03-02T11:56:07.827Z"
   },
   {
    "duration": 10,
    "start_time": "2024-03-02T11:56:18.056Z"
   },
   {
    "duration": 12,
    "start_time": "2024-03-02T11:57:14.100Z"
   },
   {
    "duration": 10,
    "start_time": "2024-03-02T11:57:18.968Z"
   },
   {
    "duration": 11,
    "start_time": "2024-03-02T11:57:31.506Z"
   },
   {
    "duration": 8,
    "start_time": "2024-03-02T11:57:59.550Z"
   },
   {
    "duration": 20,
    "start_time": "2024-03-02T11:58:29.755Z"
   },
   {
    "duration": 11,
    "start_time": "2024-03-02T11:58:38.486Z"
   },
   {
    "duration": 14,
    "start_time": "2024-03-02T11:58:43.518Z"
   },
   {
    "duration": 8,
    "start_time": "2024-03-02T11:58:51.453Z"
   },
   {
    "duration": 6,
    "start_time": "2024-03-02T11:59:02.764Z"
   },
   {
    "duration": 7,
    "start_time": "2024-03-02T11:59:21.200Z"
   },
   {
    "duration": 6,
    "start_time": "2024-03-02T11:59:25.394Z"
   },
   {
    "duration": 8,
    "start_time": "2024-03-02T11:59:38.132Z"
   },
   {
    "duration": 8,
    "start_time": "2024-03-02T12:00:07.861Z"
   },
   {
    "duration": 9,
    "start_time": "2024-03-02T12:00:24.941Z"
   },
   {
    "duration": 15,
    "start_time": "2024-03-02T12:01:06.175Z"
   },
   {
    "duration": 8,
    "start_time": "2024-03-02T12:01:25.039Z"
   },
   {
    "duration": 1312,
    "start_time": "2024-03-02T12:01:33.932Z"
   },
   {
    "duration": 8,
    "start_time": "2024-03-02T12:01:39.691Z"
   },
   {
    "duration": 5,
    "start_time": "2024-03-02T12:03:00.701Z"
   },
   {
    "duration": 6,
    "start_time": "2024-03-02T12:03:08.015Z"
   },
   {
    "duration": 5,
    "start_time": "2024-03-02T12:03:13.114Z"
   },
   {
    "duration": 6,
    "start_time": "2024-03-02T12:03:16.747Z"
   },
   {
    "duration": 8,
    "start_time": "2024-03-02T12:03:35.445Z"
   },
   {
    "duration": 7,
    "start_time": "2024-03-02T12:03:39.207Z"
   },
   {
    "duration": 5,
    "start_time": "2024-03-02T12:03:42.912Z"
   },
   {
    "duration": 4,
    "start_time": "2024-03-02T12:03:48.234Z"
   },
   {
    "duration": 4,
    "start_time": "2024-03-02T12:04:50.394Z"
   },
   {
    "duration": 9,
    "start_time": "2024-03-02T12:05:31.135Z"
   },
   {
    "duration": 6,
    "start_time": "2024-03-02T12:09:16.008Z"
   },
   {
    "duration": 5,
    "start_time": "2024-03-02T12:09:32.347Z"
   },
   {
    "duration": 394,
    "start_time": "2024-03-02T12:09:42.663Z"
   },
   {
    "duration": 69,
    "start_time": "2024-03-02T12:09:43.060Z"
   },
   {
    "duration": 15,
    "start_time": "2024-03-02T12:09:43.131Z"
   },
   {
    "duration": 8,
    "start_time": "2024-03-02T12:09:43.148Z"
   },
   {
    "duration": 7,
    "start_time": "2024-03-02T12:09:43.158Z"
   },
   {
    "duration": 5,
    "start_time": "2024-03-02T12:09:43.167Z"
   },
   {
    "duration": 11,
    "start_time": "2024-03-02T12:09:43.173Z"
   },
   {
    "duration": 5,
    "start_time": "2024-03-02T12:09:43.185Z"
   },
   {
    "duration": 83,
    "start_time": "2024-03-02T12:09:43.192Z"
   },
   {
    "duration": 9,
    "start_time": "2024-03-02T12:09:43.276Z"
   },
   {
    "duration": 24,
    "start_time": "2024-03-02T12:09:43.287Z"
   },
   {
    "duration": 13,
    "start_time": "2024-03-02T12:09:43.312Z"
   },
   {
    "duration": 4,
    "start_time": "2024-03-02T12:09:43.327Z"
   },
   {
    "duration": 19,
    "start_time": "2024-03-02T12:09:43.333Z"
   },
   {
    "duration": 11,
    "start_time": "2024-03-02T12:09:59.246Z"
   },
   {
    "duration": 10,
    "start_time": "2024-03-02T12:10:38.985Z"
   },
   {
    "duration": 11,
    "start_time": "2024-03-02T12:11:36.779Z"
   },
   {
    "duration": 462,
    "start_time": "2024-03-02T12:11:43.501Z"
   },
   {
    "duration": 68,
    "start_time": "2024-03-02T12:11:43.965Z"
   },
   {
    "duration": 15,
    "start_time": "2024-03-02T12:11:44.035Z"
   },
   {
    "duration": 9,
    "start_time": "2024-03-02T12:11:44.052Z"
   },
   {
    "duration": 9,
    "start_time": "2024-03-02T12:11:44.062Z"
   },
   {
    "duration": 16,
    "start_time": "2024-03-02T12:11:44.072Z"
   },
   {
    "duration": 24,
    "start_time": "2024-03-02T12:11:44.090Z"
   },
   {
    "duration": 5,
    "start_time": "2024-03-02T12:11:44.115Z"
   },
   {
    "duration": 57,
    "start_time": "2024-03-02T12:11:44.123Z"
   },
   {
    "duration": 9,
    "start_time": "2024-03-02T12:11:44.182Z"
   },
   {
    "duration": 12,
    "start_time": "2024-03-02T12:11:44.193Z"
   },
   {
    "duration": 12,
    "start_time": "2024-03-02T12:11:44.224Z"
   },
   {
    "duration": 28,
    "start_time": "2024-03-02T12:11:44.238Z"
   },
   {
    "duration": 36,
    "start_time": "2024-03-02T12:11:44.268Z"
   },
   {
    "duration": 11,
    "start_time": "2024-03-02T12:13:13.123Z"
   },
   {
    "duration": 11,
    "start_time": "2024-03-02T12:18:21.111Z"
   },
   {
    "duration": 10,
    "start_time": "2024-03-02T12:18:39.810Z"
   },
   {
    "duration": 9,
    "start_time": "2024-03-02T12:18:49.556Z"
   },
   {
    "duration": 10,
    "start_time": "2024-03-02T12:19:34.334Z"
   },
   {
    "duration": 5,
    "start_time": "2024-03-02T12:19:42.337Z"
   },
   {
    "duration": 8,
    "start_time": "2024-03-02T12:19:44.743Z"
   },
   {
    "duration": 3,
    "start_time": "2024-03-02T12:19:49.733Z"
   },
   {
    "duration": 15,
    "start_time": "2024-03-02T12:19:50.695Z"
   },
   {
    "duration": 69,
    "start_time": "2024-03-02T12:20:13.238Z"
   },
   {
    "duration": 8,
    "start_time": "2024-03-02T12:20:44.811Z"
   },
   {
    "duration": 14,
    "start_time": "2024-03-02T12:20:46.958Z"
   },
   {
    "duration": 7,
    "start_time": "2024-03-02T12:21:42.370Z"
   },
   {
    "duration": 7,
    "start_time": "2024-03-02T12:22:05.363Z"
   },
   {
    "duration": 7,
    "start_time": "2024-03-02T12:22:16.546Z"
   },
   {
    "duration": 436,
    "start_time": "2024-03-02T12:22:28.722Z"
   },
   {
    "duration": 68,
    "start_time": "2024-03-02T12:22:29.160Z"
   },
   {
    "duration": 16,
    "start_time": "2024-03-02T12:22:29.230Z"
   },
   {
    "duration": 9,
    "start_time": "2024-03-02T12:22:29.248Z"
   },
   {
    "duration": 8,
    "start_time": "2024-03-02T12:22:29.258Z"
   },
   {
    "duration": 8,
    "start_time": "2024-03-02T12:22:29.268Z"
   },
   {
    "duration": 8,
    "start_time": "2024-03-02T12:22:29.278Z"
   },
   {
    "duration": 35,
    "start_time": "2024-03-02T12:22:29.288Z"
   },
   {
    "duration": 55,
    "start_time": "2024-03-02T12:22:29.325Z"
   },
   {
    "duration": 9,
    "start_time": "2024-03-02T12:22:29.383Z"
   },
   {
    "duration": 30,
    "start_time": "2024-03-02T12:22:29.394Z"
   },
   {
    "duration": 21,
    "start_time": "2024-03-02T12:22:29.426Z"
   },
   {
    "duration": 22,
    "start_time": "2024-03-02T12:22:29.449Z"
   },
   {
    "duration": 12,
    "start_time": "2024-03-02T12:22:29.473Z"
   },
   {
    "duration": 92,
    "start_time": "2024-03-02T12:22:29.487Z"
   },
   {
    "duration": 0,
    "start_time": "2024-03-02T12:22:29.580Z"
   },
   {
    "duration": 3,
    "start_time": "2024-03-02T12:22:42.791Z"
   },
   {
    "duration": 14,
    "start_time": "2024-03-02T12:22:46.113Z"
   },
   {
    "duration": 14,
    "start_time": "2024-03-02T12:22:52.122Z"
   },
   {
    "duration": 12,
    "start_time": "2024-03-02T12:23:00.348Z"
   },
   {
    "duration": 13,
    "start_time": "2024-03-02T12:23:16.929Z"
   },
   {
    "duration": 452,
    "start_time": "2024-03-02T12:29:49.103Z"
   },
   {
    "duration": 71,
    "start_time": "2024-03-02T12:29:49.559Z"
   },
   {
    "duration": 15,
    "start_time": "2024-03-02T12:29:49.632Z"
   },
   {
    "duration": 38,
    "start_time": "2024-03-02T12:29:49.649Z"
   },
   {
    "duration": 32,
    "start_time": "2024-03-02T12:29:49.689Z"
   },
   {
    "duration": 19,
    "start_time": "2024-03-02T12:29:49.722Z"
   },
   {
    "duration": 28,
    "start_time": "2024-03-02T12:29:49.742Z"
   },
   {
    "duration": 29,
    "start_time": "2024-03-02T12:29:49.772Z"
   },
   {
    "duration": 59,
    "start_time": "2024-03-02T12:29:49.802Z"
   },
   {
    "duration": 19,
    "start_time": "2024-03-02T12:29:49.864Z"
   },
   {
    "duration": 17,
    "start_time": "2024-03-02T12:29:49.884Z"
   },
   {
    "duration": 24,
    "start_time": "2024-03-02T12:29:49.903Z"
   },
   {
    "duration": 16,
    "start_time": "2024-03-02T12:29:49.929Z"
   },
   {
    "duration": 17,
    "start_time": "2024-03-02T12:29:49.946Z"
   },
   {
    "duration": 43,
    "start_time": "2024-03-02T12:29:49.965Z"
   },
   {
    "duration": 75,
    "start_time": "2024-03-02T12:29:50.010Z"
   },
   {
    "duration": 0,
    "start_time": "2024-03-02T12:29:50.087Z"
   },
   {
    "duration": 7,
    "start_time": "2024-03-02T12:31:02.701Z"
   },
   {
    "duration": 76,
    "start_time": "2024-03-02T12:31:18.774Z"
   },
   {
    "duration": 3,
    "start_time": "2024-03-02T12:31:28.182Z"
   },
   {
    "duration": 440,
    "start_time": "2024-03-02T12:31:36.940Z"
   },
   {
    "duration": 77,
    "start_time": "2024-03-02T12:31:37.382Z"
   },
   {
    "duration": 2,
    "start_time": "2024-03-02T12:31:37.461Z"
   },
   {
    "duration": 23,
    "start_time": "2024-03-02T12:31:37.466Z"
   },
   {
    "duration": 12,
    "start_time": "2024-03-02T12:31:37.491Z"
   },
   {
    "duration": 49,
    "start_time": "2024-03-02T12:31:37.505Z"
   },
   {
    "duration": 7,
    "start_time": "2024-03-02T12:31:37.556Z"
   },
   {
    "duration": 20,
    "start_time": "2024-03-02T12:31:37.566Z"
   },
   {
    "duration": 11,
    "start_time": "2024-03-02T12:31:37.588Z"
   },
   {
    "duration": 72,
    "start_time": "2024-03-02T12:31:37.602Z"
   },
   {
    "duration": 9,
    "start_time": "2024-03-02T12:31:37.675Z"
   },
   {
    "duration": 16,
    "start_time": "2024-03-02T12:31:37.685Z"
   },
   {
    "duration": 6,
    "start_time": "2024-03-02T12:31:37.703Z"
   },
   {
    "duration": 4,
    "start_time": "2024-03-02T12:31:37.710Z"
   },
   {
    "duration": 3,
    "start_time": "2024-03-02T12:31:37.723Z"
   },
   {
    "duration": 26,
    "start_time": "2024-03-02T12:31:37.728Z"
   },
   {
    "duration": 93,
    "start_time": "2024-03-02T12:31:37.756Z"
   },
   {
    "duration": 0,
    "start_time": "2024-03-02T12:31:37.851Z"
   },
   {
    "duration": 427,
    "start_time": "2024-03-02T12:33:18.595Z"
   },
   {
    "duration": 70,
    "start_time": "2024-03-02T12:33:19.027Z"
   },
   {
    "duration": 15,
    "start_time": "2024-03-02T12:33:19.098Z"
   },
   {
    "duration": 8,
    "start_time": "2024-03-02T12:33:19.116Z"
   },
   {
    "duration": 15,
    "start_time": "2024-03-02T12:33:19.126Z"
   },
   {
    "duration": 30,
    "start_time": "2024-03-02T12:33:19.143Z"
   },
   {
    "duration": 8,
    "start_time": "2024-03-02T12:33:19.174Z"
   },
   {
    "duration": 7,
    "start_time": "2024-03-02T12:33:19.183Z"
   },
   {
    "duration": 64,
    "start_time": "2024-03-02T12:33:19.192Z"
   },
   {
    "duration": 16,
    "start_time": "2024-03-02T12:33:19.258Z"
   },
   {
    "duration": 38,
    "start_time": "2024-03-02T12:33:19.275Z"
   },
   {
    "duration": 7,
    "start_time": "2024-03-02T12:33:19.315Z"
   },
   {
    "duration": 6,
    "start_time": "2024-03-02T12:33:19.327Z"
   },
   {
    "duration": 13,
    "start_time": "2024-03-02T12:33:19.335Z"
   },
   {
    "duration": 22,
    "start_time": "2024-03-02T12:33:19.349Z"
   },
   {
    "duration": 93,
    "start_time": "2024-03-02T12:33:19.372Z"
   },
   {
    "duration": 0,
    "start_time": "2024-03-02T12:33:19.466Z"
   },
   {
    "duration": 13,
    "start_time": "2024-03-02T12:34:09.597Z"
   },
   {
    "duration": 95,
    "start_time": "2024-03-02T12:34:33.058Z"
   },
   {
    "duration": 9,
    "start_time": "2024-03-02T12:34:35.204Z"
   },
   {
    "duration": 8,
    "start_time": "2024-03-02T12:37:27.114Z"
   },
   {
    "duration": 8,
    "start_time": "2024-03-02T12:38:21.289Z"
   },
   {
    "duration": 7,
    "start_time": "2024-03-02T12:38:56.941Z"
   },
   {
    "duration": 7,
    "start_time": "2024-03-02T12:39:01.728Z"
   },
   {
    "duration": 84,
    "start_time": "2024-03-02T12:39:29.723Z"
   },
   {
    "duration": 404,
    "start_time": "2024-03-02T12:39:36.150Z"
   },
   {
    "duration": 72,
    "start_time": "2024-03-02T12:39:36.556Z"
   },
   {
    "duration": 14,
    "start_time": "2024-03-02T12:39:36.630Z"
   },
   {
    "duration": 15,
    "start_time": "2024-03-02T12:39:36.645Z"
   },
   {
    "duration": 10,
    "start_time": "2024-03-02T12:39:36.663Z"
   },
   {
    "duration": 1239,
    "start_time": "2024-03-02T12:39:36.674Z"
   },
   {
    "duration": 0,
    "start_time": "2024-03-02T12:39:37.915Z"
   },
   {
    "duration": 0,
    "start_time": "2024-03-02T12:39:37.916Z"
   },
   {
    "duration": 0,
    "start_time": "2024-03-02T12:39:37.918Z"
   },
   {
    "duration": 0,
    "start_time": "2024-03-02T12:39:37.919Z"
   },
   {
    "duration": 0,
    "start_time": "2024-03-02T12:39:37.921Z"
   },
   {
    "duration": 0,
    "start_time": "2024-03-02T12:39:37.922Z"
   },
   {
    "duration": 0,
    "start_time": "2024-03-02T12:39:37.923Z"
   },
   {
    "duration": 0,
    "start_time": "2024-03-02T12:39:37.924Z"
   },
   {
    "duration": 0,
    "start_time": "2024-03-02T12:39:37.924Z"
   },
   {
    "duration": 0,
    "start_time": "2024-03-02T12:39:37.925Z"
   },
   {
    "duration": 0,
    "start_time": "2024-03-02T12:39:37.927Z"
   },
   {
    "duration": 0,
    "start_time": "2024-03-02T12:39:37.928Z"
   },
   {
    "duration": 69,
    "start_time": "2024-03-02T12:40:23.492Z"
   },
   {
    "duration": 450,
    "start_time": "2024-03-02T12:40:28.394Z"
   },
   {
    "duration": 68,
    "start_time": "2024-03-02T12:40:28.846Z"
   },
   {
    "duration": 16,
    "start_time": "2024-03-02T12:40:28.916Z"
   },
   {
    "duration": 16,
    "start_time": "2024-03-02T12:40:28.935Z"
   },
   {
    "duration": 30,
    "start_time": "2024-03-02T12:40:28.952Z"
   },
   {
    "duration": 7,
    "start_time": "2024-03-02T12:40:28.984Z"
   },
   {
    "duration": 10,
    "start_time": "2024-03-02T12:40:28.993Z"
   },
   {
    "duration": 6,
    "start_time": "2024-03-02T12:40:29.005Z"
   },
   {
    "duration": 70,
    "start_time": "2024-03-02T12:40:29.012Z"
   },
   {
    "duration": 16,
    "start_time": "2024-03-02T12:40:29.085Z"
   },
   {
    "duration": 26,
    "start_time": "2024-03-02T12:40:29.103Z"
   },
   {
    "duration": 7,
    "start_time": "2024-03-02T12:40:29.131Z"
   },
   {
    "duration": 5,
    "start_time": "2024-03-02T12:40:29.140Z"
   },
   {
    "duration": 14,
    "start_time": "2024-03-02T12:40:29.146Z"
   },
   {
    "duration": 16,
    "start_time": "2024-03-02T12:40:29.162Z"
   },
   {
    "duration": 11,
    "start_time": "2024-03-02T12:40:29.179Z"
   },
   {
    "duration": 34,
    "start_time": "2024-03-02T12:40:29.192Z"
   },
   {
    "duration": 18,
    "start_time": "2024-03-02T12:40:29.229Z"
   },
   {
    "duration": 5,
    "start_time": "2024-03-02T12:44:13.334Z"
   },
   {
    "duration": 11,
    "start_time": "2024-03-02T12:44:24.024Z"
   },
   {
    "duration": 4,
    "start_time": "2024-03-02T12:44:41.743Z"
   },
   {
    "duration": 6,
    "start_time": "2024-03-02T12:44:51.234Z"
   },
   {
    "duration": 12,
    "start_time": "2024-03-02T12:44:51.470Z"
   },
   {
    "duration": 415,
    "start_time": "2024-03-02T12:45:00.066Z"
   },
   {
    "duration": 69,
    "start_time": "2024-03-02T12:45:00.483Z"
   },
   {
    "duration": 165,
    "start_time": "2024-03-02T12:45:00.553Z"
   },
   {
    "duration": 421,
    "start_time": "2024-03-02T12:45:00.720Z"
   },
   {
    "duration": 145,
    "start_time": "2024-03-02T12:45:01.143Z"
   },
   {
    "duration": 128,
    "start_time": "2024-03-02T12:45:01.290Z"
   },
   {
    "duration": 62,
    "start_time": "2024-03-02T12:45:01.420Z"
   },
   {
    "duration": 63,
    "start_time": "2024-03-02T12:45:01.483Z"
   },
   {
    "duration": 141,
    "start_time": "2024-03-02T12:45:01.548Z"
   },
   {
    "duration": 66,
    "start_time": "2024-03-02T12:45:01.692Z"
   },
   {
    "duration": 116,
    "start_time": "2024-03-02T12:45:01.760Z"
   },
   {
    "duration": 122,
    "start_time": "2024-03-02T12:45:01.878Z"
   },
   {
    "duration": 143,
    "start_time": "2024-03-02T12:45:02.002Z"
   },
   {
    "duration": 50,
    "start_time": "2024-03-02T12:45:02.146Z"
   },
   {
    "duration": 80,
    "start_time": "2024-03-02T12:45:02.198Z"
   },
   {
    "duration": 76,
    "start_time": "2024-03-02T12:45:02.279Z"
   },
   {
    "duration": 12,
    "start_time": "2024-03-02T12:45:53.498Z"
   },
   {
    "duration": 8,
    "start_time": "2024-03-02T12:46:02.218Z"
   },
   {
    "duration": 7,
    "start_time": "2024-03-02T12:46:06.577Z"
   },
   {
    "duration": 10,
    "start_time": "2024-03-02T12:46:16.204Z"
   },
   {
    "duration": 9,
    "start_time": "2024-03-02T12:47:12.106Z"
   },
   {
    "duration": 66,
    "start_time": "2024-03-02T12:47:39.246Z"
   },
   {
    "duration": 7,
    "start_time": "2024-03-02T12:47:43.344Z"
   },
   {
    "duration": 12,
    "start_time": "2024-03-02T12:47:54.300Z"
   },
   {
    "duration": 6,
    "start_time": "2024-03-02T12:48:07.563Z"
   },
   {
    "duration": 5,
    "start_time": "2024-03-02T12:48:18.886Z"
   },
   {
    "duration": 5,
    "start_time": "2024-03-02T12:50:36.489Z"
   },
   {
    "duration": 14,
    "start_time": "2024-03-02T13:19:13.306Z"
   },
   {
    "duration": 6,
    "start_time": "2024-03-02T13:19:20.913Z"
   },
   {
    "duration": 471,
    "start_time": "2024-03-02T13:19:42.900Z"
   },
   {
    "duration": 10,
    "start_time": "2024-03-02T13:19:54.924Z"
   },
   {
    "duration": 159,
    "start_time": "2024-03-02T13:20:59.629Z"
   },
   {
    "duration": 171,
    "start_time": "2024-03-02T13:22:49.270Z"
   },
   {
    "duration": 141,
    "start_time": "2024-03-02T13:23:35.313Z"
   },
   {
    "duration": 325,
    "start_time": "2024-03-02T13:23:49.645Z"
   },
   {
    "duration": 569,
    "start_time": "2024-03-02T13:23:55.226Z"
   },
   {
    "duration": 5,
    "start_time": "2024-03-02T13:24:10.990Z"
   },
   {
    "duration": 5,
    "start_time": "2024-03-02T13:24:15.847Z"
   },
   {
    "duration": 129,
    "start_time": "2024-03-02T13:24:18.729Z"
   },
   {
    "duration": 137,
    "start_time": "2024-03-02T13:24:25.594Z"
   },
   {
    "duration": 170,
    "start_time": "2024-03-02T13:25:49.407Z"
   },
   {
    "duration": 158,
    "start_time": "2024-03-02T13:25:53.468Z"
   },
   {
    "duration": 8,
    "start_time": "2024-03-02T13:26:26.239Z"
   },
   {
    "duration": 7,
    "start_time": "2024-03-02T13:26:38.686Z"
   },
   {
    "duration": 223,
    "start_time": "2024-03-02T13:26:42.505Z"
   },
   {
    "duration": 203,
    "start_time": "2024-03-02T13:27:02.215Z"
   },
   {
    "duration": 4,
    "start_time": "2024-03-02T13:27:24.745Z"
   },
   {
    "duration": 154,
    "start_time": "2024-03-02T13:27:25.969Z"
   },
   {
    "duration": 9,
    "start_time": "2024-03-02T13:31:09.442Z"
   },
   {
    "duration": 8,
    "start_time": "2024-03-02T13:31:16.267Z"
   },
   {
    "duration": 7,
    "start_time": "2024-03-02T13:31:40.950Z"
   },
   {
    "duration": 8,
    "start_time": "2024-03-02T13:31:49.065Z"
   },
   {
    "duration": 8,
    "start_time": "2024-03-02T13:32:19.444Z"
   },
   {
    "duration": 10,
    "start_time": "2024-03-02T13:33:49.938Z"
   },
   {
    "duration": 8,
    "start_time": "2024-03-02T13:34:11.171Z"
   },
   {
    "duration": 17,
    "start_time": "2024-03-02T13:34:35.274Z"
   },
   {
    "duration": 657,
    "start_time": "2024-03-02T13:35:17.454Z"
   },
   {
    "duration": 69,
    "start_time": "2024-03-02T13:35:18.114Z"
   },
   {
    "duration": 13,
    "start_time": "2024-03-02T13:35:18.185Z"
   },
   {
    "duration": 10,
    "start_time": "2024-03-02T13:35:18.202Z"
   },
   {
    "duration": 8,
    "start_time": "2024-03-02T13:35:18.214Z"
   },
   {
    "duration": 6,
    "start_time": "2024-03-02T13:35:18.224Z"
   },
   {
    "duration": 9,
    "start_time": "2024-03-02T13:35:18.232Z"
   },
   {
    "duration": 12,
    "start_time": "2024-03-02T13:35:18.242Z"
   },
   {
    "duration": 16,
    "start_time": "2024-03-02T13:35:18.256Z"
   },
   {
    "duration": 10,
    "start_time": "2024-03-02T13:35:18.276Z"
   },
   {
    "duration": 40,
    "start_time": "2024-03-02T13:35:18.287Z"
   },
   {
    "duration": 9,
    "start_time": "2024-03-02T13:35:18.329Z"
   },
   {
    "duration": 8,
    "start_time": "2024-03-02T13:35:18.340Z"
   },
   {
    "duration": 6,
    "start_time": "2024-03-02T13:35:18.350Z"
   },
   {
    "duration": 7,
    "start_time": "2024-03-02T13:35:18.358Z"
   },
   {
    "duration": 14,
    "start_time": "2024-03-02T13:35:18.366Z"
   },
   {
    "duration": 18,
    "start_time": "2024-03-02T13:35:18.382Z"
   },
   {
    "duration": 26,
    "start_time": "2024-03-02T13:35:18.401Z"
   },
   {
    "duration": 8,
    "start_time": "2024-03-02T13:35:18.429Z"
   },
   {
    "duration": 7,
    "start_time": "2024-03-02T13:35:18.439Z"
   },
   {
    "duration": 6,
    "start_time": "2024-03-02T13:35:18.447Z"
   },
   {
    "duration": 198,
    "start_time": "2024-03-02T13:35:18.455Z"
   },
   {
    "duration": 19953,
    "start_time": "2024-03-02T13:35:18.655Z"
   },
   {
    "duration": 13,
    "start_time": "2024-03-02T13:35:38.610Z"
   },
   {
    "duration": 20042,
    "start_time": "2024-03-02T13:35:38.626Z"
   },
   {
    "duration": 10,
    "start_time": "2024-03-02T13:35:58.671Z"
   },
   {
    "duration": 89,
    "start_time": "2024-03-02T13:36:02.768Z"
   },
   {
    "duration": 13,
    "start_time": "2024-03-02T13:36:08.725Z"
   },
   {
    "duration": 14,
    "start_time": "2024-03-02T13:37:04.617Z"
   },
   {
    "duration": 36,
    "start_time": "2024-03-02T13:37:07.355Z"
   },
   {
    "duration": 19,
    "start_time": "2024-03-02T13:37:14.956Z"
   },
   {
    "duration": 35,
    "start_time": "2024-03-02T13:37:19.828Z"
   },
   {
    "duration": 10,
    "start_time": "2024-03-02T13:37:37.225Z"
   },
   {
    "duration": 8,
    "start_time": "2024-03-02T13:38:00.754Z"
   },
   {
    "duration": 11,
    "start_time": "2024-03-02T13:38:02.806Z"
   },
   {
    "duration": 8,
    "start_time": "2024-03-02T13:38:09.711Z"
   },
   {
    "duration": 3,
    "start_time": "2024-03-02T13:38:10.261Z"
   },
   {
    "duration": 4,
    "start_time": "2024-03-02T13:38:22.277Z"
   },
   {
    "duration": 6,
    "start_time": "2024-03-02T13:38:23.351Z"
   },
   {
    "duration": 137,
    "start_time": "2024-03-02T13:38:25.866Z"
   },
   {
    "duration": 131,
    "start_time": "2024-03-02T13:38:33.773Z"
   },
   {
    "duration": 141,
    "start_time": "2024-03-02T13:38:51.657Z"
   },
   {
    "duration": 7,
    "start_time": "2024-03-02T13:39:07.342Z"
   },
   {
    "duration": 154,
    "start_time": "2024-03-02T13:39:07.467Z"
   },
   {
    "duration": 8,
    "start_time": "2024-03-02T13:39:28.859Z"
   },
   {
    "duration": 6,
    "start_time": "2024-03-02T13:39:32.323Z"
   },
   {
    "duration": 405,
    "start_time": "2024-03-02T13:39:32.452Z"
   },
   {
    "duration": 6,
    "start_time": "2024-03-02T13:39:55.897Z"
   },
   {
    "duration": 8,
    "start_time": "2024-03-02T13:40:48.059Z"
   },
   {
    "duration": 9,
    "start_time": "2024-03-02T13:41:14.686Z"
   },
   {
    "duration": 6,
    "start_time": "2024-03-02T13:41:39.380Z"
   },
   {
    "duration": 131,
    "start_time": "2024-03-02T13:41:53.991Z"
   },
   {
    "duration": 118,
    "start_time": "2024-03-02T13:42:05.043Z"
   },
   {
    "duration": 108,
    "start_time": "2024-03-02T13:42:31.507Z"
   },
   {
    "duration": 118,
    "start_time": "2024-03-02T13:43:29.526Z"
   },
   {
    "duration": 120,
    "start_time": "2024-03-02T13:43:40.610Z"
   },
   {
    "duration": 113,
    "start_time": "2024-03-02T13:44:20.993Z"
   },
   {
    "duration": 111,
    "start_time": "2024-03-02T13:44:35.894Z"
   },
   {
    "duration": 5,
    "start_time": "2024-03-02T13:44:50.777Z"
   },
   {
    "duration": 1145,
    "start_time": "2024-03-02T13:45:15.188Z"
   },
   {
    "duration": 5,
    "start_time": "2024-03-02T13:45:16.499Z"
   },
   {
    "duration": 9,
    "start_time": "2024-03-02T13:45:29.113Z"
   },
   {
    "duration": 115,
    "start_time": "2024-03-02T13:45:49.214Z"
   },
   {
    "duration": 7,
    "start_time": "2024-03-02T13:45:55.851Z"
   },
   {
    "duration": 4,
    "start_time": "2024-03-02T13:45:59.456Z"
   },
   {
    "duration": 3,
    "start_time": "2024-03-02T13:46:52.963Z"
   },
   {
    "duration": 5,
    "start_time": "2024-03-02T13:46:58.881Z"
   },
   {
    "duration": 119,
    "start_time": "2024-03-02T13:47:16.629Z"
   },
   {
    "duration": 122,
    "start_time": "2024-03-02T13:47:33.117Z"
   },
   {
    "duration": 13,
    "start_time": "2024-03-02T13:48:07.662Z"
   },
   {
    "duration": 3,
    "start_time": "2024-03-02T13:48:25.072Z"
   },
   {
    "duration": 311,
    "start_time": "2024-03-02T13:48:36.634Z"
   },
   {
    "duration": 266,
    "start_time": "2024-03-02T13:49:44.746Z"
   },
   {
    "duration": 234,
    "start_time": "2024-03-02T13:49:53.496Z"
   },
   {
    "duration": 15,
    "start_time": "2024-03-02T13:50:22.080Z"
   },
   {
    "duration": 250,
    "start_time": "2024-03-02T13:52:39.009Z"
   },
   {
    "duration": 119,
    "start_time": "2024-03-02T13:53:09.097Z"
   },
   {
    "duration": 96,
    "start_time": "2024-03-02T13:53:15.377Z"
   },
   {
    "duration": 7,
    "start_time": "2024-03-02T13:53:36.250Z"
   },
   {
    "duration": 1106,
    "start_time": "2024-03-02T13:54:07.700Z"
   },
   {
    "duration": 15,
    "start_time": "2024-03-02T13:54:15.583Z"
   },
   {
    "duration": 11,
    "start_time": "2024-03-02T13:54:22.098Z"
   },
   {
    "duration": 9,
    "start_time": "2024-03-02T13:54:29.322Z"
   },
   {
    "duration": 75,
    "start_time": "2024-03-02T13:55:11.328Z"
   },
   {
    "duration": 5,
    "start_time": "2024-03-02T13:55:38.909Z"
   },
   {
    "duration": 4,
    "start_time": "2024-03-02T13:55:47.357Z"
   },
   {
    "duration": 6,
    "start_time": "2024-03-02T13:56:00.922Z"
   },
   {
    "duration": 5,
    "start_time": "2024-03-02T13:56:05.646Z"
   },
   {
    "duration": 6,
    "start_time": "2024-03-02T13:56:13.243Z"
   },
   {
    "duration": 8,
    "start_time": "2024-03-02T13:56:29.805Z"
   },
   {
    "duration": 71,
    "start_time": "2024-03-02T13:57:57.101Z"
   },
   {
    "duration": 11,
    "start_time": "2024-03-02T14:00:44.825Z"
   },
   {
    "duration": 504,
    "start_time": "2024-03-02T14:00:54.553Z"
   },
   {
    "duration": 289,
    "start_time": "2024-03-02T14:01:09.214Z"
   },
   {
    "duration": 67,
    "start_time": "2024-03-02T14:02:11.944Z"
   },
   {
    "duration": 128,
    "start_time": "2024-03-02T14:02:15.890Z"
   },
   {
    "duration": 698,
    "start_time": "2024-03-02T14:04:13.801Z"
   },
   {
    "duration": 69,
    "start_time": "2024-03-02T14:04:14.501Z"
   },
   {
    "duration": 13,
    "start_time": "2024-03-02T14:04:14.571Z"
   },
   {
    "duration": 9,
    "start_time": "2024-03-02T14:04:14.587Z"
   },
   {
    "duration": 8,
    "start_time": "2024-03-02T14:04:14.597Z"
   },
   {
    "duration": 23,
    "start_time": "2024-03-02T14:04:14.607Z"
   },
   {
    "duration": 9,
    "start_time": "2024-03-02T14:04:14.632Z"
   },
   {
    "duration": 5,
    "start_time": "2024-03-02T14:04:14.643Z"
   },
   {
    "duration": 21,
    "start_time": "2024-03-02T14:04:14.649Z"
   },
   {
    "duration": 16,
    "start_time": "2024-03-02T14:04:14.672Z"
   },
   {
    "duration": 13,
    "start_time": "2024-03-02T14:04:14.690Z"
   },
   {
    "duration": 27,
    "start_time": "2024-03-02T14:04:14.705Z"
   },
   {
    "duration": 23,
    "start_time": "2024-03-02T14:04:14.733Z"
   },
   {
    "duration": 25,
    "start_time": "2024-03-02T14:04:14.758Z"
   },
   {
    "duration": 9,
    "start_time": "2024-03-02T14:04:14.786Z"
   },
   {
    "duration": 16,
    "start_time": "2024-03-02T14:04:14.797Z"
   },
   {
    "duration": 14,
    "start_time": "2024-03-02T14:04:14.815Z"
   },
   {
    "duration": 8,
    "start_time": "2024-03-02T14:04:14.831Z"
   },
   {
    "duration": 23,
    "start_time": "2024-03-02T14:04:14.841Z"
   },
   {
    "duration": 11,
    "start_time": "2024-03-02T14:04:14.866Z"
   },
   {
    "duration": 15,
    "start_time": "2024-03-02T14:04:14.878Z"
   },
   {
    "duration": 20,
    "start_time": "2024-03-02T14:04:14.894Z"
   },
   {
    "duration": 191,
    "start_time": "2024-03-02T14:04:14.916Z"
   },
   {
    "duration": 14,
    "start_time": "2024-03-02T14:04:15.109Z"
   },
   {
    "duration": 146,
    "start_time": "2024-03-02T14:04:15.125Z"
   },
   {
    "duration": 267,
    "start_time": "2024-03-02T14:04:15.273Z"
   },
   {
    "duration": 9,
    "start_time": "2024-03-02T14:04:15.542Z"
   },
   {
    "duration": 29,
    "start_time": "2024-03-02T14:04:15.554Z"
   },
   {
    "duration": 18,
    "start_time": "2024-03-02T14:04:15.585Z"
   },
   {
    "duration": 213,
    "start_time": "2024-03-02T14:04:15.605Z"
   },
   {
    "duration": 700,
    "start_time": "2024-03-02T14:05:53.116Z"
   },
   {
    "duration": 68,
    "start_time": "2024-03-02T14:05:53.818Z"
   },
   {
    "duration": 12,
    "start_time": "2024-03-02T14:05:53.887Z"
   },
   {
    "duration": 8,
    "start_time": "2024-03-02T14:05:53.901Z"
   },
   {
    "duration": 7,
    "start_time": "2024-03-02T14:05:53.911Z"
   },
   {
    "duration": 7,
    "start_time": "2024-03-02T14:05:53.920Z"
   },
   {
    "duration": 7,
    "start_time": "2024-03-02T14:05:53.928Z"
   },
   {
    "duration": 6,
    "start_time": "2024-03-02T14:05:53.937Z"
   },
   {
    "duration": 16,
    "start_time": "2024-03-02T14:05:53.945Z"
   },
   {
    "duration": 19,
    "start_time": "2024-03-02T14:05:53.963Z"
   },
   {
    "duration": 14,
    "start_time": "2024-03-02T14:05:53.983Z"
   },
   {
    "duration": 8,
    "start_time": "2024-03-02T14:05:53.998Z"
   },
   {
    "duration": 5,
    "start_time": "2024-03-02T14:05:54.022Z"
   },
   {
    "duration": 3,
    "start_time": "2024-03-02T14:05:54.030Z"
   },
   {
    "duration": 7,
    "start_time": "2024-03-02T14:05:54.034Z"
   },
   {
    "duration": 10,
    "start_time": "2024-03-02T14:05:54.042Z"
   },
   {
    "duration": 10,
    "start_time": "2024-03-02T14:05:54.053Z"
   },
   {
    "duration": 6,
    "start_time": "2024-03-02T14:05:54.065Z"
   },
   {
    "duration": 14,
    "start_time": "2024-03-02T14:05:54.073Z"
   },
   {
    "duration": 6,
    "start_time": "2024-03-02T14:05:54.122Z"
   },
   {
    "duration": 5,
    "start_time": "2024-03-02T14:05:54.129Z"
   },
   {
    "duration": 6,
    "start_time": "2024-03-02T14:05:54.136Z"
   },
   {
    "duration": 171,
    "start_time": "2024-03-02T14:05:54.144Z"
   },
   {
    "duration": 10,
    "start_time": "2024-03-02T14:05:54.317Z"
   },
   {
    "duration": 120,
    "start_time": "2024-03-02T14:05:54.329Z"
   },
   {
    "duration": 248,
    "start_time": "2024-03-02T14:05:54.450Z"
   },
   {
    "duration": 9,
    "start_time": "2024-03-02T14:05:54.700Z"
   },
   {
    "duration": 19,
    "start_time": "2024-03-02T14:05:54.711Z"
   },
   {
    "duration": 279,
    "start_time": "2024-03-02T14:05:54.732Z"
   },
   {
    "duration": 0,
    "start_time": "2024-03-02T14:05:55.013Z"
   },
   {
    "duration": 246,
    "start_time": "2024-03-02T14:06:24.111Z"
   },
   {
    "duration": 258,
    "start_time": "2024-03-02T14:06:31.291Z"
   },
   {
    "duration": 145,
    "start_time": "2024-03-02T14:07:15.199Z"
   },
   {
    "duration": 8,
    "start_time": "2024-03-02T14:07:56.396Z"
   },
   {
    "duration": 710,
    "start_time": "2024-03-02T14:09:17.115Z"
   },
   {
    "duration": 70,
    "start_time": "2024-03-02T14:09:17.827Z"
   },
   {
    "duration": 13,
    "start_time": "2024-03-02T14:09:17.898Z"
   },
   {
    "duration": 27,
    "start_time": "2024-03-02T14:09:17.912Z"
   },
   {
    "duration": 12,
    "start_time": "2024-03-02T14:09:17.941Z"
   },
   {
    "duration": 5,
    "start_time": "2024-03-02T14:09:17.955Z"
   },
   {
    "duration": 12,
    "start_time": "2024-03-02T14:09:17.962Z"
   },
   {
    "duration": 11,
    "start_time": "2024-03-02T14:09:17.976Z"
   },
   {
    "duration": 19,
    "start_time": "2024-03-02T14:09:17.988Z"
   },
   {
    "duration": 9,
    "start_time": "2024-03-02T14:09:18.009Z"
   },
   {
    "duration": 19,
    "start_time": "2024-03-02T14:09:18.023Z"
   },
   {
    "duration": 14,
    "start_time": "2024-03-02T14:09:18.043Z"
   },
   {
    "duration": 6,
    "start_time": "2024-03-02T14:09:18.058Z"
   },
   {
    "duration": 6,
    "start_time": "2024-03-02T14:09:18.067Z"
   },
   {
    "duration": 12,
    "start_time": "2024-03-02T14:09:18.075Z"
   },
   {
    "duration": 10,
    "start_time": "2024-03-02T14:09:18.089Z"
   },
   {
    "duration": 24,
    "start_time": "2024-03-02T14:09:18.101Z"
   },
   {
    "duration": 6,
    "start_time": "2024-03-02T14:09:18.127Z"
   },
   {
    "duration": 17,
    "start_time": "2024-03-02T14:09:18.135Z"
   },
   {
    "duration": 9,
    "start_time": "2024-03-02T14:09:18.153Z"
   },
   {
    "duration": 7,
    "start_time": "2024-03-02T14:09:18.163Z"
   },
   {
    "duration": 11,
    "start_time": "2024-03-02T14:09:18.171Z"
   },
   {
    "duration": 175,
    "start_time": "2024-03-02T14:09:18.183Z"
   },
   {
    "duration": 9,
    "start_time": "2024-03-02T14:09:18.359Z"
   },
   {
    "duration": 126,
    "start_time": "2024-03-02T14:09:18.369Z"
   },
   {
    "duration": 258,
    "start_time": "2024-03-02T14:09:18.497Z"
   },
   {
    "duration": 9,
    "start_time": "2024-03-02T14:09:18.757Z"
   },
   {
    "duration": 12,
    "start_time": "2024-03-02T14:09:18.768Z"
   },
   {
    "duration": 703,
    "start_time": "2024-03-02T14:10:44.707Z"
   },
   {
    "duration": 69,
    "start_time": "2024-03-02T14:10:45.412Z"
   },
   {
    "duration": 13,
    "start_time": "2024-03-02T14:10:45.483Z"
   },
   {
    "duration": 22,
    "start_time": "2024-03-02T14:10:45.498Z"
   },
   {
    "duration": 100,
    "start_time": "2024-03-02T14:10:45.522Z"
   },
   {
    "duration": 60,
    "start_time": "2024-03-02T14:10:45.624Z"
   },
   {
    "duration": 13,
    "start_time": "2024-03-02T14:10:45.686Z"
   },
   {
    "duration": 10,
    "start_time": "2024-03-02T14:10:45.701Z"
   },
   {
    "duration": 30,
    "start_time": "2024-03-02T14:10:45.712Z"
   },
   {
    "duration": 10,
    "start_time": "2024-03-02T14:10:45.745Z"
   },
   {
    "duration": 15,
    "start_time": "2024-03-02T14:10:45.757Z"
   },
   {
    "duration": 8,
    "start_time": "2024-03-02T14:10:45.774Z"
   },
   {
    "duration": 11,
    "start_time": "2024-03-02T14:10:45.783Z"
   },
   {
    "duration": 20,
    "start_time": "2024-03-02T14:10:45.795Z"
   },
   {
    "duration": 16,
    "start_time": "2024-03-02T14:10:45.816Z"
   },
   {
    "duration": 19,
    "start_time": "2024-03-02T14:10:45.833Z"
   },
   {
    "duration": 16,
    "start_time": "2024-03-02T14:10:45.854Z"
   },
   {
    "duration": 16,
    "start_time": "2024-03-02T14:10:45.872Z"
   },
   {
    "duration": 25,
    "start_time": "2024-03-02T14:10:45.889Z"
   },
   {
    "duration": 13,
    "start_time": "2024-03-02T14:10:45.915Z"
   },
   {
    "duration": 16,
    "start_time": "2024-03-02T14:10:45.929Z"
   },
   {
    "duration": 8,
    "start_time": "2024-03-02T14:10:45.947Z"
   },
   {
    "duration": 173,
    "start_time": "2024-03-02T14:10:45.957Z"
   },
   {
    "duration": 9,
    "start_time": "2024-03-02T14:10:46.132Z"
   },
   {
    "duration": 135,
    "start_time": "2024-03-02T14:10:46.142Z"
   },
   {
    "duration": 257,
    "start_time": "2024-03-02T14:10:46.279Z"
   },
   {
    "duration": 11,
    "start_time": "2024-03-02T14:10:46.537Z"
   },
   {
    "duration": 11,
    "start_time": "2024-03-02T14:10:46.551Z"
   },
   {
    "duration": 35,
    "start_time": "2024-03-02T14:10:46.564Z"
   },
   {
    "duration": 2,
    "start_time": "2024-03-02T14:10:46.602Z"
   },
   {
    "duration": 718,
    "start_time": "2024-03-02T14:11:04.313Z"
   },
   {
    "duration": 70,
    "start_time": "2024-03-02T14:11:05.032Z"
   },
   {
    "duration": 12,
    "start_time": "2024-03-02T14:11:05.105Z"
   },
   {
    "duration": 9,
    "start_time": "2024-03-02T14:11:05.119Z"
   },
   {
    "duration": 10,
    "start_time": "2024-03-02T14:11:05.130Z"
   },
   {
    "duration": 7,
    "start_time": "2024-03-02T14:11:05.142Z"
   },
   {
    "duration": 12,
    "start_time": "2024-03-02T14:11:05.150Z"
   },
   {
    "duration": 6,
    "start_time": "2024-03-02T14:11:05.164Z"
   },
   {
    "duration": 23,
    "start_time": "2024-03-02T14:11:05.172Z"
   },
   {
    "duration": 31,
    "start_time": "2024-03-02T14:11:05.198Z"
   },
   {
    "duration": 12,
    "start_time": "2024-03-02T14:11:05.230Z"
   },
   {
    "duration": 8,
    "start_time": "2024-03-02T14:11:05.243Z"
   },
   {
    "duration": 5,
    "start_time": "2024-03-02T14:11:05.252Z"
   },
   {
    "duration": 4,
    "start_time": "2024-03-02T14:11:05.259Z"
   },
   {
    "duration": 14,
    "start_time": "2024-03-02T14:11:05.264Z"
   },
   {
    "duration": 31,
    "start_time": "2024-03-02T14:11:05.279Z"
   },
   {
    "duration": 19,
    "start_time": "2024-03-02T14:11:05.312Z"
   },
   {
    "duration": 11,
    "start_time": "2024-03-02T14:11:05.333Z"
   },
   {
    "duration": 18,
    "start_time": "2024-03-02T14:11:05.345Z"
   },
   {
    "duration": 21,
    "start_time": "2024-03-02T14:11:05.366Z"
   },
   {
    "duration": 12,
    "start_time": "2024-03-02T14:11:05.389Z"
   },
   {
    "duration": 14,
    "start_time": "2024-03-02T14:11:05.403Z"
   },
   {
    "duration": 175,
    "start_time": "2024-03-02T14:11:05.418Z"
   },
   {
    "duration": 9,
    "start_time": "2024-03-02T14:11:05.595Z"
   },
   {
    "duration": 133,
    "start_time": "2024-03-02T14:11:05.606Z"
   },
   {
    "duration": 254,
    "start_time": "2024-03-02T14:11:05.741Z"
   },
   {
    "duration": 10,
    "start_time": "2024-03-02T14:11:05.997Z"
   },
   {
    "duration": 14,
    "start_time": "2024-03-02T14:11:06.010Z"
   },
   {
    "duration": 713,
    "start_time": "2024-03-02T14:12:12.867Z"
   },
   {
    "duration": 84,
    "start_time": "2024-03-02T14:12:13.582Z"
   },
   {
    "duration": 12,
    "start_time": "2024-03-02T14:12:13.668Z"
   },
   {
    "duration": 14,
    "start_time": "2024-03-02T14:12:13.682Z"
   },
   {
    "duration": 11,
    "start_time": "2024-03-02T14:12:13.698Z"
   },
   {
    "duration": 14,
    "start_time": "2024-03-02T14:12:13.711Z"
   },
   {
    "duration": 14,
    "start_time": "2024-03-02T14:12:13.727Z"
   },
   {
    "duration": 7,
    "start_time": "2024-03-02T14:12:13.743Z"
   },
   {
    "duration": 25,
    "start_time": "2024-03-02T14:12:13.752Z"
   },
   {
    "duration": 10,
    "start_time": "2024-03-02T14:12:13.778Z"
   },
   {
    "duration": 16,
    "start_time": "2024-03-02T14:12:13.789Z"
   },
   {
    "duration": 21,
    "start_time": "2024-03-02T14:12:13.807Z"
   },
   {
    "duration": 20,
    "start_time": "2024-03-02T14:12:13.829Z"
   },
   {
    "duration": 10,
    "start_time": "2024-03-02T14:12:13.852Z"
   },
   {
    "duration": 11,
    "start_time": "2024-03-02T14:12:13.864Z"
   },
   {
    "duration": 25,
    "start_time": "2024-03-02T14:12:13.876Z"
   },
   {
    "duration": 14,
    "start_time": "2024-03-02T14:12:13.903Z"
   },
   {
    "duration": 13,
    "start_time": "2024-03-02T14:12:13.919Z"
   },
   {
    "duration": 10,
    "start_time": "2024-03-02T14:12:13.933Z"
   },
   {
    "duration": 7,
    "start_time": "2024-03-02T14:12:13.944Z"
   },
   {
    "duration": 5,
    "start_time": "2024-03-02T14:12:13.952Z"
   },
   {
    "duration": 10,
    "start_time": "2024-03-02T14:12:13.959Z"
   },
   {
    "duration": 176,
    "start_time": "2024-03-02T14:12:13.970Z"
   },
   {
    "duration": 9,
    "start_time": "2024-03-02T14:12:14.147Z"
   },
   {
    "duration": 132,
    "start_time": "2024-03-02T14:12:14.158Z"
   },
   {
    "duration": 265,
    "start_time": "2024-03-02T14:12:14.292Z"
   },
   {
    "duration": 9,
    "start_time": "2024-03-02T14:12:14.559Z"
   },
   {
    "duration": 8,
    "start_time": "2024-03-02T14:12:14.570Z"
   },
   {
    "duration": 232,
    "start_time": "2024-03-02T14:12:14.580Z"
   },
   {
    "duration": 9,
    "start_time": "2024-03-02T14:12:14.813Z"
   },
   {
    "duration": 159,
    "start_time": "2024-03-02T14:12:25.374Z"
   },
   {
    "duration": 157,
    "start_time": "2024-03-02T14:12:36.938Z"
   },
   {
    "duration": 149,
    "start_time": "2024-03-02T14:12:41.274Z"
   },
   {
    "duration": 151,
    "start_time": "2024-03-02T14:13:36.773Z"
   },
   {
    "duration": 169,
    "start_time": "2024-03-02T14:14:11.414Z"
   },
   {
    "duration": 158,
    "start_time": "2024-03-02T14:14:27.275Z"
   },
   {
    "duration": 179,
    "start_time": "2024-03-02T14:14:47.868Z"
   },
   {
    "duration": 172,
    "start_time": "2024-03-02T14:14:52.066Z"
   },
   {
    "duration": 214,
    "start_time": "2024-03-02T14:14:54.202Z"
   },
   {
    "duration": 199,
    "start_time": "2024-03-02T14:14:57.496Z"
   },
   {
    "duration": 288,
    "start_time": "2024-03-02T14:16:04.567Z"
   },
   {
    "duration": 190,
    "start_time": "2024-03-02T14:16:15.871Z"
   },
   {
    "duration": 192,
    "start_time": "2024-03-02T14:16:23.113Z"
   },
   {
    "duration": 248,
    "start_time": "2024-03-02T14:16:39.524Z"
   },
   {
    "duration": 192,
    "start_time": "2024-03-02T14:16:48.694Z"
   },
   {
    "duration": 209,
    "start_time": "2024-03-02T14:16:55.356Z"
   },
   {
    "duration": 7,
    "start_time": "2024-03-02T14:17:06.259Z"
   },
   {
    "duration": 187,
    "start_time": "2024-03-02T14:17:06.642Z"
   },
   {
    "duration": 116,
    "start_time": "2024-03-02T14:19:40.387Z"
   },
   {
    "duration": 6,
    "start_time": "2024-03-02T14:19:45.453Z"
   },
   {
    "duration": 127,
    "start_time": "2024-03-02T14:19:46.055Z"
   },
   {
    "duration": 73,
    "start_time": "2024-03-02T14:48:51.556Z"
   },
   {
    "duration": 10,
    "start_time": "2024-03-02T14:49:05.266Z"
   },
   {
    "duration": 7,
    "start_time": "2024-03-02T14:49:09.332Z"
   },
   {
    "duration": 210,
    "start_time": "2024-03-02T14:49:09.517Z"
   },
   {
    "duration": 370,
    "start_time": "2024-03-02T14:49:43.945Z"
   },
   {
    "duration": 200,
    "start_time": "2024-03-02T14:49:46.947Z"
   },
   {
    "duration": 85,
    "start_time": "2024-03-02T16:17:09.602Z"
   },
   {
    "duration": 666,
    "start_time": "2024-03-02T16:17:18.741Z"
   },
   {
    "duration": 72,
    "start_time": "2024-03-02T16:17:19.413Z"
   },
   {
    "duration": 17,
    "start_time": "2024-03-02T16:17:19.487Z"
   },
   {
    "duration": 9,
    "start_time": "2024-03-02T16:17:19.506Z"
   },
   {
    "duration": 19,
    "start_time": "2024-03-02T16:17:19.518Z"
   },
   {
    "duration": 19,
    "start_time": "2024-03-02T16:17:19.540Z"
   },
   {
    "duration": 12,
    "start_time": "2024-03-02T16:17:19.561Z"
   },
   {
    "duration": 7,
    "start_time": "2024-03-02T16:17:19.575Z"
   },
   {
    "duration": 30,
    "start_time": "2024-03-02T16:17:19.584Z"
   },
   {
    "duration": 15,
    "start_time": "2024-03-02T16:17:19.615Z"
   },
   {
    "duration": 21,
    "start_time": "2024-03-02T16:17:19.632Z"
   },
   {
    "duration": 9,
    "start_time": "2024-03-02T16:17:19.655Z"
   },
   {
    "duration": 25,
    "start_time": "2024-03-02T16:17:19.666Z"
   },
   {
    "duration": 7,
    "start_time": "2024-03-02T16:17:19.694Z"
   },
   {
    "duration": 9,
    "start_time": "2024-03-02T16:17:19.702Z"
   },
   {
    "duration": 12,
    "start_time": "2024-03-02T16:17:19.713Z"
   },
   {
    "duration": 11,
    "start_time": "2024-03-02T16:17:19.727Z"
   },
   {
    "duration": 6,
    "start_time": "2024-03-02T16:17:19.740Z"
   },
   {
    "duration": 8,
    "start_time": "2024-03-02T16:17:19.748Z"
   },
   {
    "duration": 15,
    "start_time": "2024-03-02T16:17:19.758Z"
   },
   {
    "duration": 8,
    "start_time": "2024-03-02T16:17:19.774Z"
   },
   {
    "duration": 6,
    "start_time": "2024-03-02T16:17:19.783Z"
   },
   {
    "duration": 176,
    "start_time": "2024-03-02T16:17:19.791Z"
   },
   {
    "duration": 6,
    "start_time": "2024-03-02T16:17:19.968Z"
   },
   {
    "duration": 129,
    "start_time": "2024-03-02T16:17:19.976Z"
   },
   {
    "duration": 267,
    "start_time": "2024-03-02T16:17:20.107Z"
   },
   {
    "duration": 9,
    "start_time": "2024-03-02T16:17:20.376Z"
   },
   {
    "duration": 10,
    "start_time": "2024-03-02T16:17:20.387Z"
   },
   {
    "duration": 268,
    "start_time": "2024-03-02T16:17:20.399Z"
   },
   {
    "duration": 8,
    "start_time": "2024-03-02T16:17:20.669Z"
   },
   {
    "duration": 221,
    "start_time": "2024-03-02T16:17:20.678Z"
   },
   {
    "duration": 87,
    "start_time": "2024-03-02T16:17:20.900Z"
   },
   {
    "duration": 25,
    "start_time": "2024-03-02T16:17:30.231Z"
   },
   {
    "duration": 7,
    "start_time": "2024-03-02T16:19:00.419Z"
   },
   {
    "duration": 17,
    "start_time": "2024-03-02T16:19:25.169Z"
   },
   {
    "duration": 18,
    "start_time": "2024-03-02T16:19:27.238Z"
   },
   {
    "duration": 10,
    "start_time": "2024-03-02T16:19:38.323Z"
   },
   {
    "duration": 10,
    "start_time": "2024-03-02T16:19:41.989Z"
   },
   {
    "duration": 21,
    "start_time": "2024-03-02T16:19:47.249Z"
   },
   {
    "duration": 8,
    "start_time": "2024-03-02T16:20:03.698Z"
   },
   {
    "duration": 6,
    "start_time": "2024-03-02T16:20:05.571Z"
   },
   {
    "duration": 57,
    "start_time": "2024-03-02T16:20:24.759Z"
   },
   {
    "duration": 7,
    "start_time": "2024-03-02T16:20:24.933Z"
   },
   {
    "duration": 68,
    "start_time": "2024-03-02T16:20:25.084Z"
   },
   {
    "duration": 24,
    "start_time": "2024-03-02T16:20:25.267Z"
   },
   {
    "duration": 18,
    "start_time": "2024-03-02T16:20:31.922Z"
   },
   {
    "duration": 65,
    "start_time": "2024-03-02T16:21:42.283Z"
   },
   {
    "duration": 676,
    "start_time": "2024-03-02T16:21:50.483Z"
   },
   {
    "duration": 70,
    "start_time": "2024-03-02T16:21:51.162Z"
   },
   {
    "duration": 13,
    "start_time": "2024-03-02T16:21:51.234Z"
   },
   {
    "duration": 17,
    "start_time": "2024-03-02T16:21:51.249Z"
   },
   {
    "duration": 17,
    "start_time": "2024-03-02T16:21:51.268Z"
   },
   {
    "duration": 6,
    "start_time": "2024-03-02T16:21:51.287Z"
   },
   {
    "duration": 12,
    "start_time": "2024-03-02T16:21:51.295Z"
   },
   {
    "duration": 12,
    "start_time": "2024-03-02T16:21:51.309Z"
   },
   {
    "duration": 37,
    "start_time": "2024-03-02T16:21:51.323Z"
   },
   {
    "duration": 13,
    "start_time": "2024-03-02T16:21:51.362Z"
   },
   {
    "duration": 37,
    "start_time": "2024-03-02T16:21:51.376Z"
   },
   {
    "duration": 16,
    "start_time": "2024-03-02T16:21:51.415Z"
   },
   {
    "duration": 32,
    "start_time": "2024-03-02T16:21:51.432Z"
   },
   {
    "duration": 9,
    "start_time": "2024-03-02T16:21:51.466Z"
   },
   {
    "duration": 14,
    "start_time": "2024-03-02T16:21:51.476Z"
   },
   {
    "duration": 15,
    "start_time": "2024-03-02T16:21:51.492Z"
   },
   {
    "duration": 15,
    "start_time": "2024-03-02T16:21:51.509Z"
   },
   {
    "duration": 7,
    "start_time": "2024-03-02T16:21:51.526Z"
   },
   {
    "duration": 9,
    "start_time": "2024-03-02T16:21:51.534Z"
   },
   {
    "duration": 7,
    "start_time": "2024-03-02T16:21:51.546Z"
   },
   {
    "duration": 9,
    "start_time": "2024-03-02T16:21:51.555Z"
   },
   {
    "duration": 7,
    "start_time": "2024-03-02T16:21:51.566Z"
   },
   {
    "duration": 177,
    "start_time": "2024-03-02T16:21:51.575Z"
   },
   {
    "duration": 7,
    "start_time": "2024-03-02T16:21:51.753Z"
   },
   {
    "duration": 136,
    "start_time": "2024-03-02T16:21:51.762Z"
   },
   {
    "duration": 261,
    "start_time": "2024-03-02T16:21:51.900Z"
   },
   {
    "duration": 9,
    "start_time": "2024-03-02T16:21:52.163Z"
   },
   {
    "duration": 7,
    "start_time": "2024-03-02T16:21:52.176Z"
   },
   {
    "duration": 267,
    "start_time": "2024-03-02T16:21:52.185Z"
   },
   {
    "duration": 7,
    "start_time": "2024-03-02T16:21:52.453Z"
   },
   {
    "duration": 212,
    "start_time": "2024-03-02T16:21:52.462Z"
   },
   {
    "duration": 10,
    "start_time": "2024-03-02T16:21:52.676Z"
   },
   {
    "duration": 7,
    "start_time": "2024-03-02T16:21:52.688Z"
   },
   {
    "duration": 35,
    "start_time": "2024-03-02T16:21:52.696Z"
   },
   {
    "duration": 18,
    "start_time": "2024-03-02T16:21:52.733Z"
   },
   {
    "duration": 80,
    "start_time": "2024-03-02T16:21:52.753Z"
   },
   {
    "duration": 7,
    "start_time": "2024-03-02T16:22:35.892Z"
   },
   {
    "duration": 11,
    "start_time": "2024-03-02T16:22:41.935Z"
   },
   {
    "duration": 8,
    "start_time": "2024-03-02T16:22:55.055Z"
   },
   {
    "duration": 21,
    "start_time": "2024-03-02T16:22:59.261Z"
   },
   {
    "duration": 16,
    "start_time": "2024-03-02T16:23:13.001Z"
   },
   {
    "duration": 16,
    "start_time": "2024-03-02T16:23:32.454Z"
   },
   {
    "duration": 205,
    "start_time": "2024-03-02T16:24:50.538Z"
   },
   {
    "duration": 189,
    "start_time": "2024-03-02T16:25:16.762Z"
   },
   {
    "duration": 194,
    "start_time": "2024-03-02T16:25:36.786Z"
   },
   {
    "duration": 207,
    "start_time": "2024-03-02T16:25:50.585Z"
   },
   {
    "duration": 12,
    "start_time": "2024-03-02T16:26:19.261Z"
   },
   {
    "duration": 6,
    "start_time": "2024-03-02T16:26:53.440Z"
   },
   {
    "duration": 11,
    "start_time": "2024-03-02T16:27:08.002Z"
   },
   {
    "duration": 32,
    "start_time": "2024-03-02T16:27:44.688Z"
   },
   {
    "duration": 34,
    "start_time": "2024-03-02T16:28:12.429Z"
   },
   {
    "duration": 72,
    "start_time": "2024-03-02T16:31:05.051Z"
   },
   {
    "duration": 183,
    "start_time": "2024-03-02T16:46:40.182Z"
   },
   {
    "duration": 13,
    "start_time": "2024-03-02T17:11:53.137Z"
   },
   {
    "duration": 684,
    "start_time": "2024-03-02T17:12:08.251Z"
   },
   {
    "duration": 69,
    "start_time": "2024-03-02T17:12:08.937Z"
   },
   {
    "duration": 12,
    "start_time": "2024-03-02T17:12:09.007Z"
   },
   {
    "duration": 14,
    "start_time": "2024-03-02T17:12:09.021Z"
   },
   {
    "duration": 10,
    "start_time": "2024-03-02T17:12:09.037Z"
   },
   {
    "duration": 8,
    "start_time": "2024-03-02T17:12:09.049Z"
   },
   {
    "duration": 7,
    "start_time": "2024-03-02T17:12:09.058Z"
   },
   {
    "duration": 5,
    "start_time": "2024-03-02T17:12:09.067Z"
   },
   {
    "duration": 19,
    "start_time": "2024-03-02T17:12:09.073Z"
   },
   {
    "duration": 29,
    "start_time": "2024-03-02T17:12:09.095Z"
   },
   {
    "duration": 11,
    "start_time": "2024-03-02T17:12:09.126Z"
   },
   {
    "duration": 14,
    "start_time": "2024-03-02T17:12:09.139Z"
   },
   {
    "duration": 4,
    "start_time": "2024-03-02T17:12:09.155Z"
   },
   {
    "duration": 4,
    "start_time": "2024-03-02T17:12:09.161Z"
   },
   {
    "duration": 7,
    "start_time": "2024-03-02T17:12:09.166Z"
   },
   {
    "duration": 10,
    "start_time": "2024-03-02T17:12:09.174Z"
   },
   {
    "duration": 40,
    "start_time": "2024-03-02T17:12:09.186Z"
   },
   {
    "duration": 6,
    "start_time": "2024-03-02T17:12:09.228Z"
   },
   {
    "duration": 10,
    "start_time": "2024-03-02T17:12:09.236Z"
   },
   {
    "duration": 6,
    "start_time": "2024-03-02T17:12:09.248Z"
   },
   {
    "duration": 10,
    "start_time": "2024-03-02T17:12:09.256Z"
   },
   {
    "duration": 10,
    "start_time": "2024-03-02T17:12:09.268Z"
   },
   {
    "duration": 192,
    "start_time": "2024-03-02T17:12:09.280Z"
   },
   {
    "duration": 7,
    "start_time": "2024-03-02T17:12:09.474Z"
   },
   {
    "duration": 134,
    "start_time": "2024-03-02T17:12:09.483Z"
   },
   {
    "duration": 247,
    "start_time": "2024-03-02T17:12:09.623Z"
   },
   {
    "duration": 10,
    "start_time": "2024-03-02T17:12:09.872Z"
   },
   {
    "duration": 8,
    "start_time": "2024-03-02T17:12:09.886Z"
   },
   {
    "duration": 271,
    "start_time": "2024-03-02T17:12:09.896Z"
   },
   {
    "duration": 7,
    "start_time": "2024-03-02T17:12:10.169Z"
   },
   {
    "duration": 231,
    "start_time": "2024-03-02T17:12:10.178Z"
   },
   {
    "duration": 13,
    "start_time": "2024-03-02T17:12:10.410Z"
   },
   {
    "duration": 20,
    "start_time": "2024-03-02T17:12:10.424Z"
   },
   {
    "duration": 21,
    "start_time": "2024-03-02T17:12:10.446Z"
   },
   {
    "duration": 15,
    "start_time": "2024-03-02T17:12:10.468Z"
   },
   {
    "duration": 24,
    "start_time": "2024-03-02T17:12:10.485Z"
   },
   {
    "duration": 222,
    "start_time": "2024-03-02T17:12:10.510Z"
   },
   {
    "duration": 207,
    "start_time": "2024-03-02T17:12:10.733Z"
   },
   {
    "duration": 34,
    "start_time": "2024-03-02T17:12:10.941Z"
   },
   {
    "duration": 15,
    "start_time": "2024-03-02T17:12:10.977Z"
   },
   {
    "duration": 207,
    "start_time": "2024-03-02T17:12:10.994Z"
   },
   {
    "duration": 211,
    "start_time": "2024-03-02T17:12:11.203Z"
   },
   {
    "duration": 39,
    "start_time": "2024-03-02T17:12:11.415Z"
   },
   {
    "duration": 12,
    "start_time": "2024-03-02T17:12:11.456Z"
   },
   {
    "duration": 22,
    "start_time": "2024-03-02T17:12:30.737Z"
   },
   {
    "duration": 73,
    "start_time": "2024-03-02T17:18:04.157Z"
   },
   {
    "duration": 16,
    "start_time": "2024-03-02T17:18:11.789Z"
   },
   {
    "duration": 22,
    "start_time": "2024-03-02T17:18:17.608Z"
   },
   {
    "duration": 46,
    "start_time": "2024-03-02T17:18:42.362Z"
   },
   {
    "duration": 35,
    "start_time": "2024-03-02T17:18:51.516Z"
   },
   {
    "duration": 30,
    "start_time": "2024-03-02T17:20:18.420Z"
   },
   {
    "duration": 33,
    "start_time": "2024-03-02T17:20:44.548Z"
   },
   {
    "duration": 51,
    "start_time": "2024-03-02T17:20:47.828Z"
   },
   {
    "duration": 32,
    "start_time": "2024-03-02T17:21:02.856Z"
   },
   {
    "duration": 1158,
    "start_time": "2024-03-02T17:22:11.353Z"
   },
   {
    "duration": 1209,
    "start_time": "2024-03-02T17:22:17.763Z"
   },
   {
    "duration": 35,
    "start_time": "2024-03-02T17:24:10.168Z"
   },
   {
    "duration": 29,
    "start_time": "2024-03-02T17:24:14.716Z"
   },
   {
    "duration": 33,
    "start_time": "2024-03-02T19:32:04.688Z"
   },
   {
    "duration": 38,
    "start_time": "2024-03-02T19:32:33.742Z"
   },
   {
    "duration": 352,
    "start_time": "2024-03-02T19:32:56.333Z"
   },
   {
    "duration": 44,
    "start_time": "2024-03-02T19:33:06.694Z"
   },
   {
    "duration": 76,
    "start_time": "2024-03-02T19:36:31.186Z"
   },
   {
    "duration": 3,
    "start_time": "2024-03-02T19:38:24.011Z"
   },
   {
    "duration": 835,
    "start_time": "2024-03-02T19:38:41.601Z"
   },
   {
    "duration": 1102,
    "start_time": "2024-03-02T19:40:23.338Z"
   },
   {
    "duration": 3,
    "start_time": "2024-03-02T19:41:42.767Z"
   },
   {
    "duration": 1057,
    "start_time": "2024-03-02T19:41:43.045Z"
   },
   {
    "duration": 815,
    "start_time": "2024-03-02T19:42:03.085Z"
   },
   {
    "duration": 3,
    "start_time": "2024-03-02T19:42:04.476Z"
   },
   {
    "duration": 924,
    "start_time": "2024-03-02T19:42:04.744Z"
   },
   {
    "duration": 3,
    "start_time": "2024-03-02T19:42:40.263Z"
   },
   {
    "duration": 808,
    "start_time": "2024-03-02T19:42:41.175Z"
   },
   {
    "duration": 1159,
    "start_time": "2024-03-02T19:43:51.175Z"
   },
   {
    "duration": 4,
    "start_time": "2024-03-02T19:43:53.212Z"
   },
   {
    "duration": 1209,
    "start_time": "2024-03-02T19:43:53.352Z"
   },
   {
    "duration": 3,
    "start_time": "2024-03-02T19:43:57.048Z"
   },
   {
    "duration": 822,
    "start_time": "2024-03-02T19:43:57.247Z"
   },
   {
    "duration": 3,
    "start_time": "2024-03-02T19:44:30.514Z"
   },
   {
    "duration": 1170,
    "start_time": "2024-03-02T19:44:30.742Z"
   },
   {
    "duration": 778,
    "start_time": "2024-03-02T19:46:44.714Z"
   },
   {
    "duration": 79,
    "start_time": "2024-03-02T19:46:45.494Z"
   },
   {
    "duration": 14,
    "start_time": "2024-03-02T19:46:45.575Z"
   },
   {
    "duration": 17,
    "start_time": "2024-03-02T19:46:45.592Z"
   },
   {
    "duration": 25,
    "start_time": "2024-03-02T19:46:45.611Z"
   },
   {
    "duration": 34,
    "start_time": "2024-03-02T19:46:45.638Z"
   },
   {
    "duration": 44,
    "start_time": "2024-03-02T19:46:45.674Z"
   },
   {
    "duration": 32,
    "start_time": "2024-03-02T19:46:45.719Z"
   },
   {
    "duration": 48,
    "start_time": "2024-03-02T19:46:45.752Z"
   },
   {
    "duration": 34,
    "start_time": "2024-03-02T19:46:45.803Z"
   },
   {
    "duration": 20,
    "start_time": "2024-03-02T19:46:45.839Z"
   },
   {
    "duration": 36,
    "start_time": "2024-03-02T19:46:45.861Z"
   },
   {
    "duration": 40,
    "start_time": "2024-03-02T19:46:45.898Z"
   },
   {
    "duration": 13,
    "start_time": "2024-03-02T19:46:45.939Z"
   },
   {
    "duration": 36,
    "start_time": "2024-03-02T19:46:45.954Z"
   },
   {
    "duration": 28,
    "start_time": "2024-03-02T19:46:45.992Z"
   },
   {
    "duration": 43,
    "start_time": "2024-03-02T19:46:46.022Z"
   },
   {
    "duration": 37,
    "start_time": "2024-03-02T19:46:46.067Z"
   },
   {
    "duration": 48,
    "start_time": "2024-03-02T19:46:46.106Z"
   },
   {
    "duration": 41,
    "start_time": "2024-03-02T19:46:46.155Z"
   },
   {
    "duration": 26,
    "start_time": "2024-03-02T19:46:46.198Z"
   },
   {
    "duration": 17,
    "start_time": "2024-03-02T19:46:46.226Z"
   },
   {
    "duration": 190,
    "start_time": "2024-03-02T19:46:46.246Z"
   },
   {
    "duration": 8,
    "start_time": "2024-03-02T19:46:46.439Z"
   },
   {
    "duration": 140,
    "start_time": "2024-03-02T19:46:46.449Z"
   },
   {
    "duration": 265,
    "start_time": "2024-03-02T19:46:46.591Z"
   },
   {
    "duration": 10,
    "start_time": "2024-03-02T19:46:46.857Z"
   },
   {
    "duration": 31,
    "start_time": "2024-03-02T19:46:46.870Z"
   },
   {
    "duration": 287,
    "start_time": "2024-03-02T19:46:46.902Z"
   },
   {
    "duration": 7,
    "start_time": "2024-03-02T19:46:47.191Z"
   },
   {
    "duration": 229,
    "start_time": "2024-03-02T19:46:47.200Z"
   },
   {
    "duration": 15,
    "start_time": "2024-03-02T19:46:47.439Z"
   },
   {
    "duration": 9,
    "start_time": "2024-03-02T19:46:47.457Z"
   },
   {
    "duration": 12,
    "start_time": "2024-03-02T19:46:47.467Z"
   },
   {
    "duration": 15,
    "start_time": "2024-03-02T19:46:47.481Z"
   },
   {
    "duration": 59,
    "start_time": "2024-03-02T19:46:47.499Z"
   },
   {
    "duration": 223,
    "start_time": "2024-03-02T19:46:47.559Z"
   },
   {
    "duration": 232,
    "start_time": "2024-03-02T19:46:47.783Z"
   },
   {
    "duration": 41,
    "start_time": "2024-03-02T19:46:48.017Z"
   },
   {
    "duration": 15,
    "start_time": "2024-03-02T19:46:48.060Z"
   },
   {
    "duration": 216,
    "start_time": "2024-03-02T19:46:48.077Z"
   },
   {
    "duration": 220,
    "start_time": "2024-03-02T19:46:48.295Z"
   },
   {
    "duration": 39,
    "start_time": "2024-03-02T19:46:48.517Z"
   },
   {
    "duration": 19,
    "start_time": "2024-03-02T19:46:48.558Z"
   },
   {
    "duration": 66,
    "start_time": "2024-03-02T19:46:48.579Z"
   },
   {
    "duration": 5,
    "start_time": "2024-03-02T19:46:48.647Z"
   },
   {
    "duration": 1263,
    "start_time": "2024-03-02T19:46:48.654Z"
   },
   {
    "duration": 18,
    "start_time": "2024-03-02T19:46:56.425Z"
   },
   {
    "duration": 1199,
    "start_time": "2024-03-02T19:46:58.697Z"
   },
   {
    "duration": 4,
    "start_time": "2024-03-02T19:47:01.192Z"
   },
   {
    "duration": 1107,
    "start_time": "2024-03-02T19:47:01.465Z"
   },
   {
    "duration": 1120,
    "start_time": "2024-03-02T19:47:46.434Z"
   },
   {
    "duration": 1083,
    "start_time": "2024-03-02T19:48:22.320Z"
   },
   {
    "duration": 1681,
    "start_time": "2024-03-02T19:48:37.563Z"
   },
   {
    "duration": 96,
    "start_time": "2024-03-02T19:49:15.490Z"
   },
   {
    "duration": 16,
    "start_time": "2024-03-02T19:49:37.475Z"
   },
   {
    "duration": 10,
    "start_time": "2024-03-02T19:49:47.411Z"
   },
   {
    "duration": 17,
    "start_time": "2024-03-02T19:50:04.256Z"
   },
   {
    "duration": 15,
    "start_time": "2024-03-02T19:50:06.202Z"
   },
   {
    "duration": 86,
    "start_time": "2024-03-02T19:50:11.278Z"
   },
   {
    "duration": 83,
    "start_time": "2024-03-02T19:51:04.379Z"
   },
   {
    "duration": 11,
    "start_time": "2024-03-02T19:51:05.675Z"
   },
   {
    "duration": 1144,
    "start_time": "2024-03-02T19:54:06.823Z"
   },
   {
    "duration": 0,
    "start_time": "2024-03-02T19:54:07.968Z"
   },
   {
    "duration": 118,
    "start_time": "2024-03-02T19:54:27.024Z"
   },
   {
    "duration": 11,
    "start_time": "2024-03-02T19:54:27.593Z"
   },
   {
    "duration": 93,
    "start_time": "2024-03-02T19:55:37.315Z"
   },
   {
    "duration": 19,
    "start_time": "2024-03-02T19:55:38.363Z"
   },
   {
    "duration": 59,
    "start_time": "2024-03-02T19:55:56.585Z"
   },
   {
    "duration": 70,
    "start_time": "2024-03-02T19:56:46.478Z"
   },
   {
    "duration": 41,
    "start_time": "2024-03-02T19:56:48.442Z"
   },
   {
    "duration": 5,
    "start_time": "2024-03-02T19:57:01.270Z"
   },
   {
    "duration": 6,
    "start_time": "2024-03-02T19:59:31.230Z"
   },
   {
    "duration": 36,
    "start_time": "2024-03-02T19:59:32.563Z"
   },
   {
    "duration": 23,
    "start_time": "2024-03-02T19:59:34.526Z"
   },
   {
    "duration": 6,
    "start_time": "2024-03-02T19:59:35.199Z"
   },
   {
    "duration": 56,
    "start_time": "2024-03-02T19:59:36.020Z"
   },
   {
    "duration": 22,
    "start_time": "2024-03-02T20:00:02.228Z"
   },
   {
    "duration": 1292,
    "start_time": "2024-03-02T20:00:14.531Z"
   },
   {
    "duration": 4,
    "start_time": "2024-03-02T20:00:36.953Z"
   },
   {
    "duration": 52,
    "start_time": "2024-03-02T20:00:39.458Z"
   },
   {
    "duration": 7,
    "start_time": "2024-03-02T20:00:57.951Z"
   },
   {
    "duration": 8,
    "start_time": "2024-03-02T20:00:59.051Z"
   },
   {
    "duration": 10,
    "start_time": "2024-03-02T20:01:07.238Z"
   },
   {
    "duration": 11,
    "start_time": "2024-03-02T20:01:07.997Z"
   },
   {
    "duration": 696,
    "start_time": "2024-03-02T20:01:16.160Z"
   },
   {
    "duration": 80,
    "start_time": "2024-03-02T20:01:16.858Z"
   },
   {
    "duration": 13,
    "start_time": "2024-03-02T20:01:16.940Z"
   },
   {
    "duration": 24,
    "start_time": "2024-03-02T20:01:16.955Z"
   },
   {
    "duration": 55,
    "start_time": "2024-03-02T20:01:16.980Z"
   },
   {
    "duration": 24,
    "start_time": "2024-03-02T20:01:17.037Z"
   },
   {
    "duration": 49,
    "start_time": "2024-03-02T20:01:17.063Z"
   },
   {
    "duration": 32,
    "start_time": "2024-03-02T20:01:17.113Z"
   },
   {
    "duration": 50,
    "start_time": "2024-03-02T20:01:17.147Z"
   },
   {
    "duration": 9,
    "start_time": "2024-03-02T20:01:17.201Z"
   },
   {
    "duration": 31,
    "start_time": "2024-03-02T20:01:17.212Z"
   },
   {
    "duration": 7,
    "start_time": "2024-03-02T20:01:17.245Z"
   },
   {
    "duration": 41,
    "start_time": "2024-03-02T20:01:17.254Z"
   },
   {
    "duration": 18,
    "start_time": "2024-03-02T20:01:17.297Z"
   },
   {
    "duration": 27,
    "start_time": "2024-03-02T20:01:17.317Z"
   },
   {
    "duration": 16,
    "start_time": "2024-03-02T20:01:17.346Z"
   },
   {
    "duration": 54,
    "start_time": "2024-03-02T20:01:17.364Z"
   },
   {
    "duration": 21,
    "start_time": "2024-03-02T20:01:17.421Z"
   },
   {
    "duration": 12,
    "start_time": "2024-03-02T20:01:17.444Z"
   },
   {
    "duration": 19,
    "start_time": "2024-03-02T20:01:17.457Z"
   },
   {
    "duration": 10,
    "start_time": "2024-03-02T20:01:17.478Z"
   },
   {
    "duration": 21,
    "start_time": "2024-03-02T20:01:17.490Z"
   },
   {
    "duration": 195,
    "start_time": "2024-03-02T20:01:17.513Z"
   },
   {
    "duration": 7,
    "start_time": "2024-03-02T20:01:17.709Z"
   },
   {
    "duration": 148,
    "start_time": "2024-03-02T20:01:17.717Z"
   },
   {
    "duration": 273,
    "start_time": "2024-03-02T20:01:17.866Z"
   },
   {
    "duration": 10,
    "start_time": "2024-03-02T20:01:18.140Z"
   },
   {
    "duration": 28,
    "start_time": "2024-03-02T20:01:18.155Z"
   },
   {
    "duration": 296,
    "start_time": "2024-03-02T20:01:18.184Z"
   },
   {
    "duration": 7,
    "start_time": "2024-03-02T20:01:18.482Z"
   },
   {
    "duration": 243,
    "start_time": "2024-03-02T20:01:18.491Z"
   },
   {
    "duration": 16,
    "start_time": "2024-03-02T20:01:18.736Z"
   },
   {
    "duration": 8,
    "start_time": "2024-03-02T20:01:18.754Z"
   },
   {
    "duration": 23,
    "start_time": "2024-03-02T20:01:18.763Z"
   },
   {
    "duration": 21,
    "start_time": "2024-03-02T20:01:18.788Z"
   },
   {
    "duration": 40,
    "start_time": "2024-03-02T20:01:18.811Z"
   },
   {
    "duration": 240,
    "start_time": "2024-03-02T20:01:18.853Z"
   },
   {
    "duration": 206,
    "start_time": "2024-03-02T20:01:19.094Z"
   },
   {
    "duration": 54,
    "start_time": "2024-03-02T20:01:19.301Z"
   },
   {
    "duration": 14,
    "start_time": "2024-03-02T20:01:19.357Z"
   },
   {
    "duration": 215,
    "start_time": "2024-03-02T20:01:19.373Z"
   },
   {
    "duration": 217,
    "start_time": "2024-03-02T20:01:19.590Z"
   },
   {
    "duration": 49,
    "start_time": "2024-03-02T20:01:19.808Z"
   },
   {
    "duration": 19,
    "start_time": "2024-03-02T20:01:19.859Z"
   },
   {
    "duration": 56,
    "start_time": "2024-03-02T20:01:19.880Z"
   },
   {
    "duration": 6,
    "start_time": "2024-03-02T20:01:19.938Z"
   },
   {
    "duration": 20,
    "start_time": "2024-03-02T20:01:19.946Z"
   },
   {
    "duration": 5,
    "start_time": "2024-03-02T20:01:30.367Z"
   },
   {
    "duration": 4,
    "start_time": "2024-03-02T20:01:32.396Z"
   },
   {
    "duration": 14,
    "start_time": "2024-03-02T20:01:33.177Z"
   },
   {
    "duration": 706,
    "start_time": "2024-03-02T20:01:39.334Z"
   },
   {
    "duration": 69,
    "start_time": "2024-03-02T20:01:40.043Z"
   },
   {
    "duration": 17,
    "start_time": "2024-03-02T20:01:40.114Z"
   },
   {
    "duration": 15,
    "start_time": "2024-03-02T20:01:40.134Z"
   },
   {
    "duration": 21,
    "start_time": "2024-03-02T20:01:40.151Z"
   },
   {
    "duration": 7,
    "start_time": "2024-03-02T20:01:40.174Z"
   },
   {
    "duration": 9,
    "start_time": "2024-03-02T20:01:40.183Z"
   },
   {
    "duration": 8,
    "start_time": "2024-03-02T20:01:40.194Z"
   },
   {
    "duration": 45,
    "start_time": "2024-03-02T20:01:40.203Z"
   },
   {
    "duration": 13,
    "start_time": "2024-03-02T20:01:40.251Z"
   },
   {
    "duration": 14,
    "start_time": "2024-03-02T20:01:40.266Z"
   },
   {
    "duration": 10,
    "start_time": "2024-03-02T20:01:40.281Z"
   },
   {
    "duration": 7,
    "start_time": "2024-03-02T20:01:40.293Z"
   },
   {
    "duration": 28,
    "start_time": "2024-03-02T20:01:40.302Z"
   },
   {
    "duration": 11,
    "start_time": "2024-03-02T20:01:40.337Z"
   },
   {
    "duration": 12,
    "start_time": "2024-03-02T20:01:40.350Z"
   },
   {
    "duration": 11,
    "start_time": "2024-03-02T20:01:40.364Z"
   },
   {
    "duration": 6,
    "start_time": "2024-03-02T20:01:40.377Z"
   },
   {
    "duration": 41,
    "start_time": "2024-03-02T20:01:40.385Z"
   },
   {
    "duration": 16,
    "start_time": "2024-03-02T20:01:40.428Z"
   },
   {
    "duration": 9,
    "start_time": "2024-03-02T20:01:40.454Z"
   },
   {
    "duration": 7,
    "start_time": "2024-03-02T20:01:40.465Z"
   },
   {
    "duration": 174,
    "start_time": "2024-03-02T20:01:40.474Z"
   },
   {
    "duration": 7,
    "start_time": "2024-03-02T20:01:40.650Z"
   },
   {
    "duration": 185,
    "start_time": "2024-03-02T20:01:40.659Z"
   },
   {
    "duration": 265,
    "start_time": "2024-03-02T20:01:40.845Z"
   },
   {
    "duration": 17,
    "start_time": "2024-03-02T20:01:41.111Z"
   },
   {
    "duration": 19,
    "start_time": "2024-03-02T20:01:41.132Z"
   },
   {
    "duration": 261,
    "start_time": "2024-03-02T20:01:41.153Z"
   },
   {
    "duration": 16,
    "start_time": "2024-03-02T20:01:41.416Z"
   },
   {
    "duration": 212,
    "start_time": "2024-03-02T20:01:41.438Z"
   },
   {
    "duration": 15,
    "start_time": "2024-03-02T20:01:41.651Z"
   },
   {
    "duration": 10,
    "start_time": "2024-03-02T20:01:41.668Z"
   },
   {
    "duration": 12,
    "start_time": "2024-03-02T20:01:41.680Z"
   },
   {
    "duration": 50,
    "start_time": "2024-03-02T20:01:41.694Z"
   },
   {
    "duration": 20,
    "start_time": "2024-03-02T20:01:41.746Z"
   },
   {
    "duration": 243,
    "start_time": "2024-03-02T20:01:41.768Z"
   },
   {
    "duration": 209,
    "start_time": "2024-03-02T20:01:42.012Z"
   },
   {
    "duration": 39,
    "start_time": "2024-03-02T20:01:42.222Z"
   },
   {
    "duration": 15,
    "start_time": "2024-03-02T20:01:42.263Z"
   },
   {
    "duration": 235,
    "start_time": "2024-03-02T20:01:42.280Z"
   },
   {
    "duration": 217,
    "start_time": "2024-03-02T20:01:42.516Z"
   },
   {
    "duration": 35,
    "start_time": "2024-03-02T20:01:42.734Z"
   },
   {
    "duration": 20,
    "start_time": "2024-03-02T20:01:42.771Z"
   },
   {
    "duration": 59,
    "start_time": "2024-03-02T20:01:42.792Z"
   },
   {
    "duration": 6,
    "start_time": "2024-03-02T20:01:42.852Z"
   },
   {
    "duration": 11,
    "start_time": "2024-03-02T20:01:42.859Z"
   },
   {
    "duration": 708,
    "start_time": "2024-03-02T20:03:29.699Z"
   },
   {
    "duration": 73,
    "start_time": "2024-03-02T20:03:30.409Z"
   },
   {
    "duration": 14,
    "start_time": "2024-03-02T20:03:30.484Z"
   },
   {
    "duration": 100,
    "start_time": "2024-03-02T20:03:30.500Z"
   },
   {
    "duration": 63,
    "start_time": "2024-03-02T20:03:30.602Z"
   },
   {
    "duration": 76,
    "start_time": "2024-03-02T20:03:30.667Z"
   },
   {
    "duration": 67,
    "start_time": "2024-03-02T20:03:30.745Z"
   },
   {
    "duration": 65,
    "start_time": "2024-03-02T20:03:30.814Z"
   },
   {
    "duration": 108,
    "start_time": "2024-03-02T20:03:30.881Z"
   },
   {
    "duration": 150,
    "start_time": "2024-03-02T20:03:30.993Z"
   },
   {
    "duration": 73,
    "start_time": "2024-03-02T20:03:31.145Z"
   },
   {
    "duration": 77,
    "start_time": "2024-03-02T20:03:31.220Z"
   },
   {
    "duration": 80,
    "start_time": "2024-03-02T20:03:31.299Z"
   },
   {
    "duration": 56,
    "start_time": "2024-03-02T20:03:31.380Z"
   },
   {
    "duration": 24,
    "start_time": "2024-03-02T20:03:31.439Z"
   },
   {
    "duration": 75,
    "start_time": "2024-03-02T20:03:31.465Z"
   },
   {
    "duration": 48,
    "start_time": "2024-03-02T20:03:31.542Z"
   },
   {
    "duration": 50,
    "start_time": "2024-03-02T20:03:31.591Z"
   },
   {
    "duration": 34,
    "start_time": "2024-03-02T20:03:31.643Z"
   },
   {
    "duration": 29,
    "start_time": "2024-03-02T20:03:31.679Z"
   },
   {
    "duration": 39,
    "start_time": "2024-03-02T20:03:31.710Z"
   },
   {
    "duration": 34,
    "start_time": "2024-03-02T20:03:31.751Z"
   },
   {
    "duration": 193,
    "start_time": "2024-03-02T20:03:31.787Z"
   },
   {
    "duration": 7,
    "start_time": "2024-03-02T20:03:31.981Z"
   },
   {
    "duration": 215,
    "start_time": "2024-03-02T20:03:31.990Z"
   },
   {
    "duration": 301,
    "start_time": "2024-03-02T20:03:32.210Z"
   },
   {
    "duration": 23,
    "start_time": "2024-03-02T20:03:32.513Z"
   },
   {
    "duration": 21,
    "start_time": "2024-03-02T20:03:32.540Z"
   },
   {
    "duration": 278,
    "start_time": "2024-03-02T20:03:32.562Z"
   },
   {
    "duration": 7,
    "start_time": "2024-03-02T20:03:32.841Z"
   },
   {
    "duration": 228,
    "start_time": "2024-03-02T20:03:32.851Z"
   },
   {
    "duration": 11,
    "start_time": "2024-03-02T20:03:33.081Z"
   },
   {
    "duration": 17,
    "start_time": "2024-03-02T20:03:33.094Z"
   },
   {
    "duration": 27,
    "start_time": "2024-03-02T20:03:33.112Z"
   },
   {
    "duration": 15,
    "start_time": "2024-03-02T20:03:33.141Z"
   },
   {
    "duration": 38,
    "start_time": "2024-03-02T20:03:33.159Z"
   },
   {
    "duration": 243,
    "start_time": "2024-03-02T20:03:33.199Z"
   },
   {
    "duration": 237,
    "start_time": "2024-03-02T20:03:33.444Z"
   },
   {
    "duration": 57,
    "start_time": "2024-03-02T20:03:33.683Z"
   },
   {
    "duration": 22,
    "start_time": "2024-03-02T20:03:33.742Z"
   },
   {
    "duration": 210,
    "start_time": "2024-03-02T20:03:33.765Z"
   },
   {
    "duration": 221,
    "start_time": "2024-03-02T20:03:33.976Z"
   },
   {
    "duration": 49,
    "start_time": "2024-03-02T20:03:34.198Z"
   },
   {
    "duration": 20,
    "start_time": "2024-03-02T20:03:34.248Z"
   },
   {
    "duration": 55,
    "start_time": "2024-03-02T20:03:34.270Z"
   },
   {
    "duration": 104,
    "start_time": "2024-03-02T20:03:34.327Z"
   },
   {
    "duration": 0,
    "start_time": "2024-03-02T20:03:34.433Z"
   },
   {
    "duration": 8,
    "start_time": "2024-03-02T20:04:00.366Z"
   },
   {
    "duration": 1816,
    "start_time": "2024-03-02T20:05:19.556Z"
   },
   {
    "duration": 690,
    "start_time": "2024-03-02T20:05:26.976Z"
   },
   {
    "duration": 71,
    "start_time": "2024-03-02T20:05:27.668Z"
   },
   {
    "duration": 14,
    "start_time": "2024-03-02T20:05:27.741Z"
   },
   {
    "duration": 26,
    "start_time": "2024-03-02T20:05:27.757Z"
   },
   {
    "duration": 9,
    "start_time": "2024-03-02T20:05:27.785Z"
   },
   {
    "duration": 8,
    "start_time": "2024-03-02T20:05:27.796Z"
   },
   {
    "duration": 10,
    "start_time": "2024-03-02T20:05:27.806Z"
   },
   {
    "duration": 17,
    "start_time": "2024-03-02T20:05:27.818Z"
   },
   {
    "duration": 16,
    "start_time": "2024-03-02T20:05:27.839Z"
   },
   {
    "duration": 18,
    "start_time": "2024-03-02T20:05:27.857Z"
   },
   {
    "duration": 12,
    "start_time": "2024-03-02T20:05:27.877Z"
   },
   {
    "duration": 7,
    "start_time": "2024-03-02T20:05:27.890Z"
   },
   {
    "duration": 5,
    "start_time": "2024-03-02T20:05:27.899Z"
   },
   {
    "duration": 27,
    "start_time": "2024-03-02T20:05:27.906Z"
   },
   {
    "duration": 20,
    "start_time": "2024-03-02T20:05:27.935Z"
   },
   {
    "duration": 19,
    "start_time": "2024-03-02T20:05:27.957Z"
   },
   {
    "duration": 12,
    "start_time": "2024-03-02T20:05:27.978Z"
   },
   {
    "duration": 6,
    "start_time": "2024-03-02T20:05:27.992Z"
   },
   {
    "duration": 10,
    "start_time": "2024-03-02T20:05:28.000Z"
   },
   {
    "duration": 25,
    "start_time": "2024-03-02T20:05:28.011Z"
   },
   {
    "duration": 5,
    "start_time": "2024-03-02T20:05:28.038Z"
   },
   {
    "duration": 7,
    "start_time": "2024-03-02T20:05:28.044Z"
   },
   {
    "duration": 192,
    "start_time": "2024-03-02T20:05:28.052Z"
   },
   {
    "duration": 7,
    "start_time": "2024-03-02T20:05:28.246Z"
   },
   {
    "duration": 160,
    "start_time": "2024-03-02T20:05:28.255Z"
   },
   {
    "duration": 288,
    "start_time": "2024-03-02T20:05:28.417Z"
   },
   {
    "duration": 18,
    "start_time": "2024-03-02T20:05:28.707Z"
   },
   {
    "duration": 12,
    "start_time": "2024-03-02T20:05:28.729Z"
   },
   {
    "duration": 264,
    "start_time": "2024-03-02T20:05:28.743Z"
   },
   {
    "duration": 16,
    "start_time": "2024-03-02T20:05:29.008Z"
   },
   {
    "duration": 215,
    "start_time": "2024-03-02T20:05:29.037Z"
   },
   {
    "duration": 10,
    "start_time": "2024-03-02T20:05:29.254Z"
   },
   {
    "duration": 12,
    "start_time": "2024-03-02T20:05:29.266Z"
   },
   {
    "duration": 12,
    "start_time": "2024-03-02T20:05:29.280Z"
   },
   {
    "duration": 45,
    "start_time": "2024-03-02T20:05:29.294Z"
   },
   {
    "duration": 26,
    "start_time": "2024-03-02T20:05:29.341Z"
   },
   {
    "duration": 236,
    "start_time": "2024-03-02T20:05:29.369Z"
   },
   {
    "duration": 230,
    "start_time": "2024-03-02T20:05:29.607Z"
   },
   {
    "duration": 35,
    "start_time": "2024-03-02T20:05:29.840Z"
   },
   {
    "duration": 15,
    "start_time": "2024-03-02T20:05:29.878Z"
   },
   {
    "duration": 215,
    "start_time": "2024-03-02T20:05:29.895Z"
   },
   {
    "duration": 237,
    "start_time": "2024-03-02T20:05:30.111Z"
   },
   {
    "duration": 32,
    "start_time": "2024-03-02T20:05:30.350Z"
   },
   {
    "duration": 60,
    "start_time": "2024-03-02T20:05:30.383Z"
   },
   {
    "duration": 103,
    "start_time": "2024-03-02T20:05:30.445Z"
   },
   {
    "duration": 2025,
    "start_time": "2024-03-02T20:05:30.550Z"
   },
   {
    "duration": 0,
    "start_time": "2024-03-02T20:05:32.577Z"
   },
   {
    "duration": 26,
    "start_time": "2024-03-02T20:05:49.109Z"
   },
   {
    "duration": 3,
    "start_time": "2024-03-02T20:06:49.988Z"
   },
   {
    "duration": 672,
    "start_time": "2024-03-02T20:06:55.228Z"
   },
   {
    "duration": 68,
    "start_time": "2024-03-02T20:06:55.902Z"
   },
   {
    "duration": 12,
    "start_time": "2024-03-02T20:06:55.972Z"
   },
   {
    "duration": 9,
    "start_time": "2024-03-02T20:06:55.986Z"
   },
   {
    "duration": 25,
    "start_time": "2024-03-02T20:06:55.997Z"
   },
   {
    "duration": 18,
    "start_time": "2024-03-02T20:06:56.024Z"
   },
   {
    "duration": 21,
    "start_time": "2024-03-02T20:06:56.043Z"
   },
   {
    "duration": 10,
    "start_time": "2024-03-02T20:06:56.065Z"
   },
   {
    "duration": 21,
    "start_time": "2024-03-02T20:06:56.077Z"
   },
   {
    "duration": 9,
    "start_time": "2024-03-02T20:06:56.101Z"
   },
   {
    "duration": 20,
    "start_time": "2024-03-02T20:06:56.112Z"
   },
   {
    "duration": 17,
    "start_time": "2024-03-02T20:06:56.134Z"
   },
   {
    "duration": 8,
    "start_time": "2024-03-02T20:06:56.153Z"
   },
   {
    "duration": 6,
    "start_time": "2024-03-02T20:06:56.162Z"
   },
   {
    "duration": 19,
    "start_time": "2024-03-02T20:06:56.169Z"
   },
   {
    "duration": 23,
    "start_time": "2024-03-02T20:06:56.190Z"
   },
   {
    "duration": 33,
    "start_time": "2024-03-02T20:06:56.215Z"
   },
   {
    "duration": 6,
    "start_time": "2024-03-02T20:06:56.250Z"
   },
   {
    "duration": 14,
    "start_time": "2024-03-02T20:06:56.258Z"
   },
   {
    "duration": 10,
    "start_time": "2024-03-02T20:06:56.273Z"
   },
   {
    "duration": 21,
    "start_time": "2024-03-02T20:06:56.285Z"
   },
   {
    "duration": 7,
    "start_time": "2024-03-02T20:06:56.308Z"
   },
   {
    "duration": 154,
    "start_time": "2024-03-02T20:06:56.317Z"
   },
   {
    "duration": 7,
    "start_time": "2024-03-02T20:06:56.473Z"
   },
   {
    "duration": 127,
    "start_time": "2024-03-02T20:06:56.481Z"
   },
   {
    "duration": 262,
    "start_time": "2024-03-02T20:06:56.610Z"
   },
   {
    "duration": 10,
    "start_time": "2024-03-02T20:06:56.873Z"
   },
   {
    "duration": 7,
    "start_time": "2024-03-02T20:06:56.889Z"
   },
   {
    "duration": 265,
    "start_time": "2024-03-02T20:06:56.897Z"
   },
   {
    "duration": 7,
    "start_time": "2024-03-02T20:06:57.163Z"
   },
   {
    "duration": 206,
    "start_time": "2024-03-02T20:06:57.172Z"
   },
   {
    "duration": 11,
    "start_time": "2024-03-02T20:06:57.380Z"
   },
   {
    "duration": 7,
    "start_time": "2024-03-02T20:06:57.392Z"
   },
   {
    "duration": 35,
    "start_time": "2024-03-02T20:06:57.401Z"
   },
   {
    "duration": 15,
    "start_time": "2024-03-02T20:06:57.438Z"
   },
   {
    "duration": 21,
    "start_time": "2024-03-02T20:06:57.455Z"
   },
   {
    "duration": 223,
    "start_time": "2024-03-02T20:06:57.478Z"
   },
   {
    "duration": 191,
    "start_time": "2024-03-02T20:06:57.703Z"
   },
   {
    "duration": 47,
    "start_time": "2024-03-02T20:06:57.896Z"
   },
   {
    "duration": 16,
    "start_time": "2024-03-02T20:06:57.945Z"
   },
   {
    "duration": 195,
    "start_time": "2024-03-02T20:06:57.963Z"
   },
   {
    "duration": 206,
    "start_time": "2024-03-02T20:06:58.161Z"
   },
   {
    "duration": 32,
    "start_time": "2024-03-02T20:06:58.369Z"
   },
   {
    "duration": 37,
    "start_time": "2024-03-02T20:06:58.403Z"
   },
   {
    "duration": 42,
    "start_time": "2024-03-02T20:06:58.442Z"
   },
   {
    "duration": 109,
    "start_time": "2024-03-02T20:06:58.486Z"
   },
   {
    "duration": 0,
    "start_time": "2024-03-02T20:06:58.597Z"
   },
   {
    "duration": 1099,
    "start_time": "2024-03-02T20:08:05.747Z"
   },
   {
    "duration": 657,
    "start_time": "2024-03-02T20:08:36.539Z"
   },
   {
    "duration": 74,
    "start_time": "2024-03-02T20:08:37.198Z"
   },
   {
    "duration": 16,
    "start_time": "2024-03-02T20:08:37.275Z"
   },
   {
    "duration": 9,
    "start_time": "2024-03-02T20:08:37.294Z"
   },
   {
    "duration": 9,
    "start_time": "2024-03-02T20:08:37.304Z"
   },
   {
    "duration": 10,
    "start_time": "2024-03-02T20:08:37.314Z"
   },
   {
    "duration": 8,
    "start_time": "2024-03-02T20:08:37.326Z"
   },
   {
    "duration": 5,
    "start_time": "2024-03-02T20:08:37.335Z"
   },
   {
    "duration": 16,
    "start_time": "2024-03-02T20:08:37.342Z"
   },
   {
    "duration": 12,
    "start_time": "2024-03-02T20:08:37.362Z"
   },
   {
    "duration": 28,
    "start_time": "2024-03-02T20:08:37.376Z"
   },
   {
    "duration": 6,
    "start_time": "2024-03-02T20:08:37.423Z"
   },
   {
    "duration": 5,
    "start_time": "2024-03-02T20:08:37.431Z"
   },
   {
    "duration": 4,
    "start_time": "2024-03-02T20:08:37.438Z"
   },
   {
    "duration": 7,
    "start_time": "2024-03-02T20:08:37.443Z"
   },
   {
    "duration": 11,
    "start_time": "2024-03-02T20:08:37.451Z"
   },
   {
    "duration": 14,
    "start_time": "2024-03-02T20:08:37.463Z"
   },
   {
    "duration": 5,
    "start_time": "2024-03-02T20:08:37.479Z"
   },
   {
    "duration": 13,
    "start_time": "2024-03-02T20:08:37.526Z"
   },
   {
    "duration": 17,
    "start_time": "2024-03-02T20:08:37.541Z"
   },
   {
    "duration": 10,
    "start_time": "2024-03-02T20:08:37.560Z"
   },
   {
    "duration": 7,
    "start_time": "2024-03-02T20:08:37.572Z"
   },
   {
    "duration": 169,
    "start_time": "2024-03-02T20:08:37.580Z"
   },
   {
    "duration": 7,
    "start_time": "2024-03-02T20:08:37.751Z"
   },
   {
    "duration": 124,
    "start_time": "2024-03-02T20:08:37.760Z"
   },
   {
    "duration": 255,
    "start_time": "2024-03-02T20:08:37.886Z"
   },
   {
    "duration": 9,
    "start_time": "2024-03-02T20:08:38.143Z"
   },
   {
    "duration": 12,
    "start_time": "2024-03-02T20:08:38.157Z"
   },
   {
    "duration": 262,
    "start_time": "2024-03-02T20:08:38.171Z"
   },
   {
    "duration": 8,
    "start_time": "2024-03-02T20:08:38.435Z"
   },
   {
    "duration": 210,
    "start_time": "2024-03-02T20:08:38.445Z"
   },
   {
    "duration": 12,
    "start_time": "2024-03-02T20:08:38.657Z"
   },
   {
    "duration": 7,
    "start_time": "2024-03-02T20:08:38.671Z"
   },
   {
    "duration": 12,
    "start_time": "2024-03-02T20:08:38.681Z"
   },
   {
    "duration": 39,
    "start_time": "2024-03-02T20:08:38.695Z"
   },
   {
    "duration": 35,
    "start_time": "2024-03-02T20:08:38.736Z"
   },
   {
    "duration": 199,
    "start_time": "2024-03-02T20:08:38.773Z"
   },
   {
    "duration": 193,
    "start_time": "2024-03-02T20:08:38.974Z"
   },
   {
    "duration": 32,
    "start_time": "2024-03-02T20:08:39.169Z"
   },
   {
    "duration": 25,
    "start_time": "2024-03-02T20:08:39.203Z"
   },
   {
    "duration": 191,
    "start_time": "2024-03-02T20:08:39.230Z"
   },
   {
    "duration": 207,
    "start_time": "2024-03-02T20:08:39.423Z"
   },
   {
    "duration": 31,
    "start_time": "2024-03-02T20:08:39.632Z"
   },
   {
    "duration": 17,
    "start_time": "2024-03-02T20:08:39.664Z"
   },
   {
    "duration": 53,
    "start_time": "2024-03-02T20:08:39.683Z"
   },
   {
    "duration": 1202,
    "start_time": "2024-03-02T20:08:39.738Z"
   },
   {
    "duration": 0,
    "start_time": "2024-03-02T20:08:40.942Z"
   },
   {
    "duration": 1365,
    "start_time": "2024-03-02T20:09:14.509Z"
   },
   {
    "duration": 1127,
    "start_time": "2024-03-02T20:09:26.194Z"
   },
   {
    "duration": 1112,
    "start_time": "2024-03-02T20:09:32.228Z"
   },
   {
    "duration": 7,
    "start_time": "2024-03-02T20:09:38.775Z"
   },
   {
    "duration": 10,
    "start_time": "2024-03-02T20:09:55.128Z"
   },
   {
    "duration": 706,
    "start_time": "2024-03-02T20:11:13.741Z"
   },
   {
    "duration": 69,
    "start_time": "2024-03-02T20:11:14.450Z"
   },
   {
    "duration": 19,
    "start_time": "2024-03-02T20:11:14.521Z"
   },
   {
    "duration": 16,
    "start_time": "2024-03-02T20:11:14.542Z"
   },
   {
    "duration": 22,
    "start_time": "2024-03-02T20:11:14.560Z"
   },
   {
    "duration": 9,
    "start_time": "2024-03-02T20:11:14.584Z"
   },
   {
    "duration": 32,
    "start_time": "2024-03-02T20:11:14.595Z"
   },
   {
    "duration": 33,
    "start_time": "2024-03-02T20:11:14.630Z"
   },
   {
    "duration": 22,
    "start_time": "2024-03-02T20:11:14.665Z"
   },
   {
    "duration": 21,
    "start_time": "2024-03-02T20:11:14.691Z"
   },
   {
    "duration": 17,
    "start_time": "2024-03-02T20:11:14.714Z"
   },
   {
    "duration": 7,
    "start_time": "2024-03-02T20:11:14.733Z"
   },
   {
    "duration": 6,
    "start_time": "2024-03-02T20:11:14.741Z"
   },
   {
    "duration": 5,
    "start_time": "2024-03-02T20:11:14.748Z"
   },
   {
    "duration": 7,
    "start_time": "2024-03-02T20:11:14.755Z"
   },
   {
    "duration": 11,
    "start_time": "2024-03-02T20:11:14.764Z"
   },
   {
    "duration": 48,
    "start_time": "2024-03-02T20:11:14.776Z"
   },
   {
    "duration": 8,
    "start_time": "2024-03-02T20:11:14.826Z"
   },
   {
    "duration": 11,
    "start_time": "2024-03-02T20:11:14.837Z"
   },
   {
    "duration": 5,
    "start_time": "2024-03-02T20:11:14.849Z"
   },
   {
    "duration": 5,
    "start_time": "2024-03-02T20:11:14.856Z"
   },
   {
    "duration": 7,
    "start_time": "2024-03-02T20:11:14.862Z"
   },
   {
    "duration": 201,
    "start_time": "2024-03-02T20:11:14.871Z"
   },
   {
    "duration": 6,
    "start_time": "2024-03-02T20:11:15.074Z"
   },
   {
    "duration": 131,
    "start_time": "2024-03-02T20:11:15.082Z"
   },
   {
    "duration": 260,
    "start_time": "2024-03-02T20:11:15.215Z"
   },
   {
    "duration": 10,
    "start_time": "2024-03-02T20:11:15.477Z"
   },
   {
    "duration": 32,
    "start_time": "2024-03-02T20:11:15.491Z"
   },
   {
    "duration": 289,
    "start_time": "2024-03-02T20:11:15.524Z"
   },
   {
    "duration": 14,
    "start_time": "2024-03-02T20:11:15.815Z"
   },
   {
    "duration": 201,
    "start_time": "2024-03-02T20:11:15.830Z"
   },
   {
    "duration": 11,
    "start_time": "2024-03-02T20:11:16.033Z"
   },
   {
    "duration": 7,
    "start_time": "2024-03-02T20:11:16.045Z"
   },
   {
    "duration": 10,
    "start_time": "2024-03-02T20:11:16.053Z"
   },
   {
    "duration": 14,
    "start_time": "2024-03-02T20:11:16.065Z"
   },
   {
    "duration": 48,
    "start_time": "2024-03-02T20:11:16.081Z"
   },
   {
    "duration": 208,
    "start_time": "2024-03-02T20:11:16.131Z"
   },
   {
    "duration": 199,
    "start_time": "2024-03-02T20:11:16.340Z"
   },
   {
    "duration": 34,
    "start_time": "2024-03-02T20:11:16.540Z"
   },
   {
    "duration": 15,
    "start_time": "2024-03-02T20:11:16.576Z"
   },
   {
    "duration": 213,
    "start_time": "2024-03-02T20:11:16.592Z"
   },
   {
    "duration": 232,
    "start_time": "2024-03-02T20:11:16.807Z"
   },
   {
    "duration": 33,
    "start_time": "2024-03-02T20:11:17.042Z"
   },
   {
    "duration": 20,
    "start_time": "2024-03-02T20:11:17.077Z"
   },
   {
    "duration": 33,
    "start_time": "2024-03-02T20:11:17.122Z"
   },
   {
    "duration": 4,
    "start_time": "2024-03-02T20:11:17.156Z"
   },
   {
    "duration": 11,
    "start_time": "2024-03-02T20:11:17.162Z"
   },
   {
    "duration": 11,
    "start_time": "2024-03-02T20:11:17.175Z"
   },
   {
    "duration": 682,
    "start_time": "2024-03-02T21:16:43.501Z"
   },
   {
    "duration": 70,
    "start_time": "2024-03-02T21:16:44.185Z"
   },
   {
    "duration": 12,
    "start_time": "2024-03-02T21:16:44.256Z"
   },
   {
    "duration": 8,
    "start_time": "2024-03-02T21:16:44.271Z"
   },
   {
    "duration": 7,
    "start_time": "2024-03-02T21:16:44.280Z"
   },
   {
    "duration": 6,
    "start_time": "2024-03-02T21:16:44.288Z"
   },
   {
    "duration": 12,
    "start_time": "2024-03-02T21:16:44.295Z"
   },
   {
    "duration": 15,
    "start_time": "2024-03-02T21:16:44.309Z"
   },
   {
    "duration": 17,
    "start_time": "2024-03-02T21:16:44.326Z"
   },
   {
    "duration": 9,
    "start_time": "2024-03-02T21:16:44.346Z"
   },
   {
    "duration": 11,
    "start_time": "2024-03-02T21:16:44.356Z"
   },
   {
    "duration": 10,
    "start_time": "2024-03-02T21:16:44.369Z"
   },
   {
    "duration": 8,
    "start_time": "2024-03-02T21:16:44.380Z"
   },
   {
    "duration": 34,
    "start_time": "2024-03-02T21:16:44.389Z"
   },
   {
    "duration": 5,
    "start_time": "2024-03-02T21:16:44.425Z"
   },
   {
    "duration": 10,
    "start_time": "2024-03-02T21:16:44.432Z"
   },
   {
    "duration": 10,
    "start_time": "2024-03-02T21:16:44.443Z"
   },
   {
    "duration": 5,
    "start_time": "2024-03-02T21:16:44.455Z"
   },
   {
    "duration": 9,
    "start_time": "2024-03-02T21:16:44.462Z"
   },
   {
    "duration": 5,
    "start_time": "2024-03-02T21:16:44.472Z"
   },
   {
    "duration": 45,
    "start_time": "2024-03-02T21:16:44.479Z"
   },
   {
    "duration": 6,
    "start_time": "2024-03-02T21:16:44.526Z"
   },
   {
    "duration": 164,
    "start_time": "2024-03-02T21:16:44.534Z"
   },
   {
    "duration": 6,
    "start_time": "2024-03-02T21:16:44.700Z"
   },
   {
    "duration": 133,
    "start_time": "2024-03-02T21:16:44.709Z"
   },
   {
    "duration": 273,
    "start_time": "2024-03-02T21:16:44.844Z"
   },
   {
    "duration": 12,
    "start_time": "2024-03-02T21:16:45.118Z"
   },
   {
    "duration": 23,
    "start_time": "2024-03-02T21:16:45.133Z"
   },
   {
    "duration": 234,
    "start_time": "2024-03-02T21:16:45.158Z"
   },
   {
    "duration": 7,
    "start_time": "2024-03-02T21:16:45.393Z"
   },
   {
    "duration": 205,
    "start_time": "2024-03-02T21:16:45.401Z"
   },
   {
    "duration": 16,
    "start_time": "2024-03-02T21:16:45.608Z"
   },
   {
    "duration": 9,
    "start_time": "2024-03-02T21:16:45.625Z"
   },
   {
    "duration": 27,
    "start_time": "2024-03-02T21:16:45.636Z"
   },
   {
    "duration": 28,
    "start_time": "2024-03-02T21:16:45.664Z"
   },
   {
    "duration": 40,
    "start_time": "2024-03-02T21:16:45.693Z"
   },
   {
    "duration": 206,
    "start_time": "2024-03-02T21:16:45.735Z"
   },
   {
    "duration": 201,
    "start_time": "2024-03-02T21:16:45.942Z"
   },
   {
    "duration": 33,
    "start_time": "2024-03-02T21:16:46.145Z"
   },
   {
    "duration": 14,
    "start_time": "2024-03-02T21:16:46.179Z"
   },
   {
    "duration": 199,
    "start_time": "2024-03-02T21:16:46.195Z"
   },
   {
    "duration": 215,
    "start_time": "2024-03-02T21:16:46.396Z"
   },
   {
    "duration": 38,
    "start_time": "2024-03-02T21:16:46.613Z"
   },
   {
    "duration": 17,
    "start_time": "2024-03-02T21:16:46.653Z"
   },
   {
    "duration": 52,
    "start_time": "2024-03-02T21:16:46.672Z"
   },
   {
    "duration": 30145,
    "start_time": "2024-03-02T21:16:46.726Z"
   },
   {
    "duration": 9,
    "start_time": "2024-03-02T21:17:16.872Z"
   },
   {
    "duration": 687,
    "start_time": "2024-03-02T21:18:13.115Z"
   },
   {
    "duration": 70,
    "start_time": "2024-03-02T21:18:13.803Z"
   },
   {
    "duration": 12,
    "start_time": "2024-03-02T21:18:13.875Z"
   },
   {
    "duration": 13,
    "start_time": "2024-03-02T21:18:13.890Z"
   },
   {
    "duration": 9,
    "start_time": "2024-03-02T21:18:13.906Z"
   },
   {
    "duration": 16,
    "start_time": "2024-03-02T21:18:13.917Z"
   },
   {
    "duration": 9,
    "start_time": "2024-03-02T21:18:13.935Z"
   },
   {
    "duration": 5,
    "start_time": "2024-03-02T21:18:13.946Z"
   },
   {
    "duration": 16,
    "start_time": "2024-03-02T21:18:13.953Z"
   },
   {
    "duration": 16,
    "start_time": "2024-03-02T21:18:13.973Z"
   },
   {
    "duration": 12,
    "start_time": "2024-03-02T21:18:13.991Z"
   },
   {
    "duration": 23,
    "start_time": "2024-03-02T21:18:14.005Z"
   },
   {
    "duration": 4,
    "start_time": "2024-03-02T21:18:14.030Z"
   },
   {
    "duration": 4,
    "start_time": "2024-03-02T21:18:14.036Z"
   },
   {
    "duration": 12,
    "start_time": "2024-03-02T21:18:14.042Z"
   },
   {
    "duration": 23,
    "start_time": "2024-03-02T21:18:14.056Z"
   },
   {
    "duration": 9,
    "start_time": "2024-03-02T21:18:14.081Z"
   },
   {
    "duration": 32,
    "start_time": "2024-03-02T21:18:14.092Z"
   },
   {
    "duration": 43,
    "start_time": "2024-03-02T21:18:14.126Z"
   },
   {
    "duration": 7,
    "start_time": "2024-03-02T21:18:14.171Z"
   },
   {
    "duration": 7,
    "start_time": "2024-03-02T21:18:14.180Z"
   },
   {
    "duration": 7,
    "start_time": "2024-03-02T21:18:14.189Z"
   },
   {
    "duration": 154,
    "start_time": "2024-03-02T21:18:14.198Z"
   },
   {
    "duration": 7,
    "start_time": "2024-03-02T21:18:14.353Z"
   },
   {
    "duration": 127,
    "start_time": "2024-03-02T21:18:14.361Z"
   },
   {
    "duration": 248,
    "start_time": "2024-03-02T21:18:14.490Z"
   },
   {
    "duration": 9,
    "start_time": "2024-03-02T21:18:14.739Z"
   },
   {
    "duration": 6,
    "start_time": "2024-03-02T21:18:14.752Z"
   },
   {
    "duration": 297,
    "start_time": "2024-03-02T21:18:14.760Z"
   },
   {
    "duration": 7,
    "start_time": "2024-03-02T21:18:15.059Z"
   },
   {
    "duration": 215,
    "start_time": "2024-03-02T21:18:15.067Z"
   },
   {
    "duration": 11,
    "start_time": "2024-03-02T21:18:15.283Z"
   },
   {
    "duration": 16,
    "start_time": "2024-03-02T21:18:15.295Z"
   },
   {
    "duration": 33,
    "start_time": "2024-03-02T21:18:15.312Z"
   },
   {
    "duration": 34,
    "start_time": "2024-03-02T21:18:15.347Z"
   },
   {
    "duration": 25,
    "start_time": "2024-03-02T21:18:15.383Z"
   },
   {
    "duration": 226,
    "start_time": "2024-03-02T21:18:15.410Z"
   },
   {
    "duration": 196,
    "start_time": "2024-03-02T21:18:15.637Z"
   },
   {
    "duration": 35,
    "start_time": "2024-03-02T21:18:15.835Z"
   },
   {
    "duration": 15,
    "start_time": "2024-03-02T21:18:15.872Z"
   },
   {
    "duration": 212,
    "start_time": "2024-03-02T21:18:15.889Z"
   },
   {
    "duration": 206,
    "start_time": "2024-03-02T21:18:16.103Z"
   },
   {
    "duration": 40,
    "start_time": "2024-03-02T21:18:16.310Z"
   },
   {
    "duration": 19,
    "start_time": "2024-03-02T21:18:16.351Z"
   },
   {
    "duration": 52,
    "start_time": "2024-03-02T21:18:16.372Z"
   },
   {
    "duration": 30030,
    "start_time": "2024-03-02T21:18:16.426Z"
   },
   {
    "duration": 35,
    "start_time": "2024-03-02T21:18:46.472Z"
   },
   {
    "duration": 74,
    "start_time": "2024-03-02T21:19:02.456Z"
   },
   {
    "duration": 7,
    "start_time": "2024-03-02T21:19:06.653Z"
   },
   {
    "duration": 4,
    "start_time": "2024-03-02T21:19:14.388Z"
   },
   {
    "duration": 3,
    "start_time": "2024-03-02T21:19:18.782Z"
   },
   {
    "duration": 28449,
    "start_time": "2024-03-02T21:19:57.161Z"
   },
   {
    "duration": 23513,
    "start_time": "2024-03-02T21:21:07.736Z"
   },
   {
    "duration": 81,
    "start_time": "2024-03-02T21:21:54.746Z"
   },
   {
    "duration": 22284,
    "start_time": "2024-03-02T21:22:47.724Z"
   },
   {
    "duration": 22,
    "start_time": "2024-03-02T21:23:10.010Z"
   },
   {
    "duration": 13,
    "start_time": "2024-03-02T21:24:54.960Z"
   },
   {
    "duration": 18,
    "start_time": "2024-03-02T21:25:35.104Z"
   },
   {
    "duration": 94,
    "start_time": "2024-03-02T21:25:41.410Z"
   },
   {
    "duration": 73,
    "start_time": "2024-03-02T21:25:43.985Z"
   },
   {
    "duration": 690,
    "start_time": "2024-03-02T21:26:00.830Z"
   },
   {
    "duration": 77,
    "start_time": "2024-03-02T21:26:01.521Z"
   },
   {
    "duration": 11,
    "start_time": "2024-03-02T21:26:01.600Z"
   },
   {
    "duration": 63,
    "start_time": "2024-03-02T21:26:01.613Z"
   },
   {
    "duration": 44,
    "start_time": "2024-03-02T21:26:01.677Z"
   },
   {
    "duration": 60,
    "start_time": "2024-03-02T21:26:01.723Z"
   },
   {
    "duration": 54,
    "start_time": "2024-03-02T21:26:01.784Z"
   },
   {
    "duration": 41,
    "start_time": "2024-03-02T21:26:01.840Z"
   },
   {
    "duration": 95,
    "start_time": "2024-03-02T21:26:01.883Z"
   },
   {
    "duration": 57,
    "start_time": "2024-03-02T21:26:01.981Z"
   },
   {
    "duration": 74,
    "start_time": "2024-03-02T21:26:02.040Z"
   },
   {
    "duration": 66,
    "start_time": "2024-03-02T21:26:02.117Z"
   },
   {
    "duration": 30,
    "start_time": "2024-03-02T21:26:02.185Z"
   },
   {
    "duration": 23,
    "start_time": "2024-03-02T21:26:02.217Z"
   },
   {
    "duration": 25,
    "start_time": "2024-03-02T21:26:02.243Z"
   },
   {
    "duration": 29,
    "start_time": "2024-03-02T21:26:02.270Z"
   },
   {
    "duration": 35,
    "start_time": "2024-03-02T21:26:02.301Z"
   },
   {
    "duration": 65,
    "start_time": "2024-03-02T21:26:02.339Z"
   },
   {
    "duration": 84,
    "start_time": "2024-03-02T21:26:02.405Z"
   },
   {
    "duration": 78,
    "start_time": "2024-03-02T21:26:02.490Z"
   },
   {
    "duration": 64,
    "start_time": "2024-03-02T21:26:02.570Z"
   },
   {
    "duration": 41,
    "start_time": "2024-03-02T21:26:02.636Z"
   },
   {
    "duration": 157,
    "start_time": "2024-03-02T21:26:02.679Z"
   },
   {
    "duration": 6,
    "start_time": "2024-03-02T21:26:02.838Z"
   },
   {
    "duration": 128,
    "start_time": "2024-03-02T21:26:02.846Z"
   },
   {
    "duration": 255,
    "start_time": "2024-03-02T21:26:02.976Z"
   },
   {
    "duration": 9,
    "start_time": "2024-03-02T21:26:03.233Z"
   },
   {
    "duration": 8,
    "start_time": "2024-03-02T21:26:03.245Z"
   },
   {
    "duration": 268,
    "start_time": "2024-03-02T21:26:03.255Z"
   },
   {
    "duration": 7,
    "start_time": "2024-03-02T21:26:03.525Z"
   },
   {
    "duration": 208,
    "start_time": "2024-03-02T21:26:03.534Z"
   },
   {
    "duration": 10,
    "start_time": "2024-03-02T21:26:03.743Z"
   },
   {
    "duration": 7,
    "start_time": "2024-03-02T21:26:03.755Z"
   },
   {
    "duration": 14,
    "start_time": "2024-03-02T21:26:03.764Z"
   },
   {
    "duration": 13,
    "start_time": "2024-03-02T21:26:03.780Z"
   },
   {
    "duration": 40,
    "start_time": "2024-03-02T21:26:03.794Z"
   },
   {
    "duration": 209,
    "start_time": "2024-03-02T21:26:03.836Z"
   },
   {
    "duration": 189,
    "start_time": "2024-03-02T21:26:04.047Z"
   },
   {
    "duration": 32,
    "start_time": "2024-03-02T21:26:04.238Z"
   },
   {
    "duration": 14,
    "start_time": "2024-03-02T21:26:04.271Z"
   },
   {
    "duration": 189,
    "start_time": "2024-03-02T21:26:04.287Z"
   },
   {
    "duration": 200,
    "start_time": "2024-03-02T21:26:04.478Z"
   },
   {
    "duration": 52,
    "start_time": "2024-03-02T21:26:04.679Z"
   },
   {
    "duration": 25,
    "start_time": "2024-03-02T21:26:04.733Z"
   },
   {
    "duration": 33,
    "start_time": "2024-03-02T21:26:04.759Z"
   },
   {
    "duration": 4,
    "start_time": "2024-03-02T21:26:04.794Z"
   },
   {
    "duration": 22058,
    "start_time": "2024-03-02T21:26:04.799Z"
   },
   {
    "duration": 11,
    "start_time": "2024-03-02T21:26:26.860Z"
   },
   {
    "duration": 665,
    "start_time": "2024-03-02T21:27:34.641Z"
   },
   {
    "duration": 68,
    "start_time": "2024-03-02T21:27:35.308Z"
   },
   {
    "duration": 12,
    "start_time": "2024-03-02T21:27:35.378Z"
   },
   {
    "duration": 9,
    "start_time": "2024-03-02T21:27:35.392Z"
   },
   {
    "duration": 20,
    "start_time": "2024-03-02T21:27:35.403Z"
   },
   {
    "duration": 12,
    "start_time": "2024-03-02T21:27:35.425Z"
   },
   {
    "duration": 19,
    "start_time": "2024-03-02T21:27:35.439Z"
   },
   {
    "duration": 10,
    "start_time": "2024-03-02T21:27:35.459Z"
   },
   {
    "duration": 31,
    "start_time": "2024-03-02T21:27:35.470Z"
   },
   {
    "duration": 44,
    "start_time": "2024-03-02T21:27:35.504Z"
   },
   {
    "duration": 31,
    "start_time": "2024-03-02T21:27:35.550Z"
   },
   {
    "duration": 41,
    "start_time": "2024-03-02T21:27:35.583Z"
   },
   {
    "duration": 17,
    "start_time": "2024-03-02T21:27:35.626Z"
   },
   {
    "duration": 25,
    "start_time": "2024-03-02T21:27:35.645Z"
   },
   {
    "duration": 30,
    "start_time": "2024-03-02T21:27:35.671Z"
   },
   {
    "duration": 12,
    "start_time": "2024-03-02T21:27:35.703Z"
   },
   {
    "duration": 27,
    "start_time": "2024-03-02T21:27:35.717Z"
   },
   {
    "duration": 40,
    "start_time": "2024-03-02T21:27:35.746Z"
   },
   {
    "duration": 15,
    "start_time": "2024-03-02T21:27:35.787Z"
   },
   {
    "duration": 12,
    "start_time": "2024-03-02T21:27:35.804Z"
   },
   {
    "duration": 5,
    "start_time": "2024-03-02T21:27:35.817Z"
   },
   {
    "duration": 26,
    "start_time": "2024-03-02T21:27:35.824Z"
   },
   {
    "duration": 159,
    "start_time": "2024-03-02T21:27:35.852Z"
   },
   {
    "duration": 12,
    "start_time": "2024-03-02T21:27:36.012Z"
   },
   {
    "duration": 121,
    "start_time": "2024-03-02T21:27:36.026Z"
   },
   {
    "duration": 266,
    "start_time": "2024-03-02T21:27:36.149Z"
   },
   {
    "duration": 12,
    "start_time": "2024-03-02T21:27:36.417Z"
   },
   {
    "duration": 7,
    "start_time": "2024-03-02T21:27:36.433Z"
   },
   {
    "duration": 249,
    "start_time": "2024-03-02T21:27:36.442Z"
   },
   {
    "duration": 7,
    "start_time": "2024-03-02T21:27:36.693Z"
   },
   {
    "duration": 199,
    "start_time": "2024-03-02T21:27:36.701Z"
   },
   {
    "duration": 10,
    "start_time": "2024-03-02T21:27:36.901Z"
   },
   {
    "duration": 12,
    "start_time": "2024-03-02T21:27:36.912Z"
   },
   {
    "duration": 19,
    "start_time": "2024-03-02T21:27:36.925Z"
   },
   {
    "duration": 17,
    "start_time": "2024-03-02T21:27:36.946Z"
   },
   {
    "duration": 24,
    "start_time": "2024-03-02T21:27:36.964Z"
   },
   {
    "duration": 196,
    "start_time": "2024-03-02T21:27:36.989Z"
   },
   {
    "duration": 197,
    "start_time": "2024-03-02T21:27:37.187Z"
   },
   {
    "duration": 40,
    "start_time": "2024-03-02T21:27:37.385Z"
   },
   {
    "duration": 15,
    "start_time": "2024-03-02T21:27:37.426Z"
   },
   {
    "duration": 223,
    "start_time": "2024-03-02T21:27:37.443Z"
   },
   {
    "duration": 215,
    "start_time": "2024-03-02T21:27:37.669Z"
   },
   {
    "duration": 39,
    "start_time": "2024-03-02T21:27:37.885Z"
   },
   {
    "duration": 19,
    "start_time": "2024-03-02T21:27:37.925Z"
   },
   {
    "duration": 34,
    "start_time": "2024-03-02T21:27:37.946Z"
   },
   {
    "duration": 3,
    "start_time": "2024-03-02T21:27:37.982Z"
   },
   {
    "duration": 19572,
    "start_time": "2024-03-02T21:27:37.987Z"
   },
   {
    "duration": 11,
    "start_time": "2024-03-02T21:27:57.561Z"
   },
   {
    "duration": 20027,
    "start_time": "2024-03-02T21:30:35.338Z"
   },
   {
    "duration": 12,
    "start_time": "2024-03-02T21:30:55.366Z"
   },
   {
    "duration": 658,
    "start_time": "2024-03-02T21:31:01.240Z"
   },
   {
    "duration": 70,
    "start_time": "2024-03-02T21:31:01.900Z"
   },
   {
    "duration": 14,
    "start_time": "2024-03-02T21:31:01.972Z"
   },
   {
    "duration": 58,
    "start_time": "2024-03-02T21:31:01.989Z"
   },
   {
    "duration": 195,
    "start_time": "2024-03-02T21:31:02.049Z"
   },
   {
    "duration": 169,
    "start_time": "2024-03-02T21:31:02.245Z"
   },
   {
    "duration": 179,
    "start_time": "2024-03-02T21:31:02.416Z"
   },
   {
    "duration": 112,
    "start_time": "2024-03-02T21:31:02.597Z"
   },
   {
    "duration": 83,
    "start_time": "2024-03-02T21:31:02.711Z"
   },
   {
    "duration": 77,
    "start_time": "2024-03-02T21:31:02.797Z"
   },
   {
    "duration": 39,
    "start_time": "2024-03-02T21:31:02.876Z"
   },
   {
    "duration": 57,
    "start_time": "2024-03-02T21:31:02.917Z"
   },
   {
    "duration": 144,
    "start_time": "2024-03-02T21:31:02.976Z"
   },
   {
    "duration": 325,
    "start_time": "2024-03-02T21:31:03.122Z"
   },
   {
    "duration": 96,
    "start_time": "2024-03-02T21:31:03.449Z"
   },
   {
    "duration": 24,
    "start_time": "2024-03-02T21:31:03.546Z"
   },
   {
    "duration": 27,
    "start_time": "2024-03-02T21:31:03.572Z"
   },
   {
    "duration": 34,
    "start_time": "2024-03-02T21:31:03.601Z"
   },
   {
    "duration": 9,
    "start_time": "2024-03-02T21:31:03.637Z"
   },
   {
    "duration": 4,
    "start_time": "2024-03-02T21:31:03.648Z"
   },
   {
    "duration": 6,
    "start_time": "2024-03-02T21:31:03.654Z"
   },
   {
    "duration": 24,
    "start_time": "2024-03-02T21:31:03.661Z"
   },
   {
    "duration": 156,
    "start_time": "2024-03-02T21:31:03.686Z"
   },
   {
    "duration": 7,
    "start_time": "2024-03-02T21:31:03.843Z"
   },
   {
    "duration": 127,
    "start_time": "2024-03-02T21:31:03.851Z"
   },
   {
    "duration": 249,
    "start_time": "2024-03-02T21:31:03.979Z"
   },
   {
    "duration": 9,
    "start_time": "2024-03-02T21:31:04.230Z"
   },
   {
    "duration": 7,
    "start_time": "2024-03-02T21:31:04.242Z"
   },
   {
    "duration": 280,
    "start_time": "2024-03-02T21:31:04.251Z"
   },
   {
    "duration": 6,
    "start_time": "2024-03-02T21:31:04.533Z"
   },
   {
    "duration": 224,
    "start_time": "2024-03-02T21:31:04.541Z"
   },
   {
    "duration": 10,
    "start_time": "2024-03-02T21:31:04.767Z"
   },
   {
    "duration": 9,
    "start_time": "2024-03-02T21:31:04.779Z"
   },
   {
    "duration": 17,
    "start_time": "2024-03-02T21:31:04.790Z"
   },
   {
    "duration": 26,
    "start_time": "2024-03-02T21:31:04.808Z"
   },
   {
    "duration": 25,
    "start_time": "2024-03-02T21:31:04.835Z"
   },
   {
    "duration": 215,
    "start_time": "2024-03-02T21:31:04.862Z"
   },
   {
    "duration": 197,
    "start_time": "2024-03-02T21:31:05.079Z"
   },
   {
    "duration": 33,
    "start_time": "2024-03-02T21:31:05.278Z"
   },
   {
    "duration": 16,
    "start_time": "2024-03-02T21:31:05.323Z"
   },
   {
    "duration": 205,
    "start_time": "2024-03-02T21:31:05.341Z"
   },
   {
    "duration": 206,
    "start_time": "2024-03-02T21:31:05.548Z"
   },
   {
    "duration": 43,
    "start_time": "2024-03-02T21:31:05.757Z"
   },
   {
    "duration": 42,
    "start_time": "2024-03-02T21:31:05.802Z"
   },
   {
    "duration": 33,
    "start_time": "2024-03-02T21:31:05.846Z"
   },
   {
    "duration": 3,
    "start_time": "2024-03-02T21:31:05.881Z"
   },
   {
    "duration": 19696,
    "start_time": "2024-03-02T21:31:05.886Z"
   },
   {
    "duration": 12,
    "start_time": "2024-03-02T21:31:25.583Z"
   },
   {
    "duration": 65,
    "start_time": "2024-03-02T21:33:08.941Z"
   },
   {
    "duration": 10,
    "start_time": "2024-03-02T21:33:10.121Z"
   },
   {
    "duration": 21735,
    "start_time": "2024-03-02T21:33:21.869Z"
   },
   {
    "duration": 5,
    "start_time": "2024-03-02T21:53:48.919Z"
   },
   {
    "duration": 4,
    "start_time": "2024-03-02T21:53:50.468Z"
   },
   {
    "duration": 77,
    "start_time": "2024-03-02T21:53:51.059Z"
   },
   {
    "duration": 11,
    "start_time": "2024-03-02T21:54:18.497Z"
   },
   {
    "duration": 658,
    "start_time": "2024-03-02T21:55:22.552Z"
   },
   {
    "duration": 67,
    "start_time": "2024-03-02T21:55:23.211Z"
   },
   {
    "duration": 12,
    "start_time": "2024-03-02T21:55:23.280Z"
   },
   {
    "duration": 8,
    "start_time": "2024-03-02T21:55:23.294Z"
   },
   {
    "duration": 13,
    "start_time": "2024-03-02T21:55:23.303Z"
   },
   {
    "duration": 11,
    "start_time": "2024-03-02T21:55:23.318Z"
   },
   {
    "duration": 19,
    "start_time": "2024-03-02T21:55:23.331Z"
   },
   {
    "duration": 10,
    "start_time": "2024-03-02T21:55:23.352Z"
   },
   {
    "duration": 40,
    "start_time": "2024-03-02T21:55:23.364Z"
   },
   {
    "duration": 9,
    "start_time": "2024-03-02T21:55:23.406Z"
   },
   {
    "duration": 15,
    "start_time": "2024-03-02T21:55:23.416Z"
   },
   {
    "duration": 9,
    "start_time": "2024-03-02T21:55:23.432Z"
   },
   {
    "duration": 4,
    "start_time": "2024-03-02T21:55:23.442Z"
   },
   {
    "duration": 6,
    "start_time": "2024-03-02T21:55:23.448Z"
   },
   {
    "duration": 6,
    "start_time": "2024-03-02T21:55:23.455Z"
   },
   {
    "duration": 16,
    "start_time": "2024-03-02T21:55:23.463Z"
   },
   {
    "duration": 21,
    "start_time": "2024-03-02T21:55:23.480Z"
   },
   {
    "duration": 21,
    "start_time": "2024-03-02T21:55:23.503Z"
   },
   {
    "duration": 9,
    "start_time": "2024-03-02T21:55:23.526Z"
   },
   {
    "duration": 5,
    "start_time": "2024-03-02T21:55:23.536Z"
   },
   {
    "duration": 4,
    "start_time": "2024-03-02T21:55:23.543Z"
   },
   {
    "duration": 17,
    "start_time": "2024-03-02T21:55:23.548Z"
   },
   {
    "duration": 172,
    "start_time": "2024-03-02T21:55:23.567Z"
   },
   {
    "duration": 7,
    "start_time": "2024-03-02T21:55:23.740Z"
   },
   {
    "duration": 126,
    "start_time": "2024-03-02T21:55:23.748Z"
   },
   {
    "duration": 255,
    "start_time": "2024-03-02T21:55:23.876Z"
   },
   {
    "duration": 12,
    "start_time": "2024-03-02T21:55:24.133Z"
   },
   {
    "duration": 8,
    "start_time": "2024-03-02T21:55:24.149Z"
   },
   {
    "duration": 260,
    "start_time": "2024-03-02T21:55:24.158Z"
   },
   {
    "duration": 14,
    "start_time": "2024-03-02T21:55:24.419Z"
   },
   {
    "duration": 203,
    "start_time": "2024-03-02T21:55:24.435Z"
   },
   {
    "duration": 10,
    "start_time": "2024-03-02T21:55:24.640Z"
   },
   {
    "duration": 7,
    "start_time": "2024-03-02T21:55:24.651Z"
   },
   {
    "duration": 11,
    "start_time": "2024-03-02T21:55:24.659Z"
   },
   {
    "duration": 13,
    "start_time": "2024-03-02T21:55:24.672Z"
   },
   {
    "duration": 44,
    "start_time": "2024-03-02T21:55:24.687Z"
   },
   {
    "duration": 216,
    "start_time": "2024-03-02T21:55:24.733Z"
   },
   {
    "duration": 206,
    "start_time": "2024-03-02T21:55:24.951Z"
   },
   {
    "duration": 33,
    "start_time": "2024-03-02T21:55:25.158Z"
   },
   {
    "duration": 33,
    "start_time": "2024-03-02T21:55:25.193Z"
   },
   {
    "duration": 190,
    "start_time": "2024-03-02T21:55:25.227Z"
   },
   {
    "duration": 214,
    "start_time": "2024-03-02T21:55:25.419Z"
   },
   {
    "duration": 31,
    "start_time": "2024-03-02T21:55:25.635Z"
   },
   {
    "duration": 18,
    "start_time": "2024-03-02T21:55:25.668Z"
   },
   {
    "duration": 51,
    "start_time": "2024-03-02T21:55:25.688Z"
   },
   {
    "duration": 4,
    "start_time": "2024-03-02T21:55:25.741Z"
   },
   {
    "duration": 14823,
    "start_time": "2024-03-02T21:55:25.747Z"
   },
   {
    "duration": 10,
    "start_time": "2024-03-02T21:55:40.571Z"
   },
   {
    "duration": 5,
    "start_time": "2024-03-02T21:59:10.135Z"
   },
   {
    "duration": 696,
    "start_time": "2024-03-02T21:59:20.031Z"
   },
   {
    "duration": 73,
    "start_time": "2024-03-02T21:59:20.729Z"
   },
   {
    "duration": 13,
    "start_time": "2024-03-02T21:59:20.804Z"
   },
   {
    "duration": 10,
    "start_time": "2024-03-02T21:59:20.820Z"
   },
   {
    "duration": 21,
    "start_time": "2024-03-02T21:59:20.832Z"
   },
   {
    "duration": 14,
    "start_time": "2024-03-02T21:59:20.855Z"
   },
   {
    "duration": 10,
    "start_time": "2024-03-02T21:59:20.870Z"
   },
   {
    "duration": 6,
    "start_time": "2024-03-02T21:59:20.881Z"
   },
   {
    "duration": 17,
    "start_time": "2024-03-02T21:59:20.888Z"
   },
   {
    "duration": 20,
    "start_time": "2024-03-02T21:59:20.908Z"
   },
   {
    "duration": 11,
    "start_time": "2024-03-02T21:59:20.929Z"
   },
   {
    "duration": 6,
    "start_time": "2024-03-02T21:59:20.942Z"
   },
   {
    "duration": 8,
    "start_time": "2024-03-02T21:59:20.950Z"
   },
   {
    "duration": 12,
    "start_time": "2024-03-02T21:59:20.959Z"
   },
   {
    "duration": 7,
    "start_time": "2024-03-02T21:59:20.973Z"
   },
   {
    "duration": 15,
    "start_time": "2024-03-02T21:59:20.982Z"
   },
   {
    "duration": 28,
    "start_time": "2024-03-02T21:59:20.999Z"
   },
   {
    "duration": 5,
    "start_time": "2024-03-02T21:59:21.029Z"
   },
   {
    "duration": 9,
    "start_time": "2024-03-02T21:59:21.036Z"
   },
   {
    "duration": 9,
    "start_time": "2024-03-02T21:59:21.046Z"
   },
   {
    "duration": 6,
    "start_time": "2024-03-02T21:59:21.056Z"
   },
   {
    "duration": 8,
    "start_time": "2024-03-02T21:59:21.063Z"
   },
   {
    "duration": 178,
    "start_time": "2024-03-02T21:59:21.073Z"
   },
   {
    "duration": 6,
    "start_time": "2024-03-02T21:59:21.253Z"
   },
   {
    "duration": 128,
    "start_time": "2024-03-02T21:59:21.260Z"
   },
   {
    "duration": 272,
    "start_time": "2024-03-02T21:59:21.390Z"
   },
   {
    "duration": 9,
    "start_time": "2024-03-02T21:59:21.664Z"
   },
   {
    "duration": 11,
    "start_time": "2024-03-02T21:59:21.676Z"
   },
   {
    "duration": 250,
    "start_time": "2024-03-02T21:59:21.688Z"
   },
   {
    "duration": 7,
    "start_time": "2024-03-02T21:59:21.940Z"
   },
   {
    "duration": 197,
    "start_time": "2024-03-02T21:59:21.949Z"
   },
   {
    "duration": 10,
    "start_time": "2024-03-02T21:59:22.147Z"
   },
   {
    "duration": 7,
    "start_time": "2024-03-02T21:59:22.159Z"
   },
   {
    "duration": 20,
    "start_time": "2024-03-02T21:59:22.168Z"
   },
   {
    "duration": 21,
    "start_time": "2024-03-02T21:59:22.190Z"
   },
   {
    "duration": 26,
    "start_time": "2024-03-02T21:59:22.213Z"
   },
   {
    "duration": 195,
    "start_time": "2024-03-02T21:59:22.241Z"
   },
   {
    "duration": 197,
    "start_time": "2024-03-02T21:59:22.438Z"
   },
   {
    "duration": 34,
    "start_time": "2024-03-02T21:59:22.636Z"
   },
   {
    "duration": 14,
    "start_time": "2024-03-02T21:59:22.672Z"
   },
   {
    "duration": 216,
    "start_time": "2024-03-02T21:59:22.688Z"
   },
   {
    "duration": 213,
    "start_time": "2024-03-02T21:59:22.906Z"
   },
   {
    "duration": 31,
    "start_time": "2024-03-02T21:59:23.123Z"
   },
   {
    "duration": 17,
    "start_time": "2024-03-02T21:59:23.156Z"
   },
   {
    "duration": 52,
    "start_time": "2024-03-02T21:59:23.175Z"
   },
   {
    "duration": 5,
    "start_time": "2024-03-02T21:59:23.228Z"
   },
   {
    "duration": 15768,
    "start_time": "2024-03-02T21:59:23.235Z"
   },
   {
    "duration": 10,
    "start_time": "2024-03-02T21:59:39.005Z"
   },
   {
    "duration": 15351,
    "start_time": "2024-03-02T22:00:09.906Z"
   },
   {
    "duration": 12,
    "start_time": "2024-03-02T22:00:25.259Z"
   },
   {
    "duration": 717,
    "start_time": "2024-03-02T22:29:54.213Z"
   },
   {
    "duration": 197,
    "start_time": "2024-03-02T22:29:54.932Z"
   },
   {
    "duration": 13,
    "start_time": "2024-03-02T22:29:55.131Z"
   },
   {
    "duration": 9,
    "start_time": "2024-03-02T22:29:55.146Z"
   },
   {
    "duration": 9,
    "start_time": "2024-03-02T22:29:55.156Z"
   },
   {
    "duration": 6,
    "start_time": "2024-03-02T22:29:55.167Z"
   },
   {
    "duration": 8,
    "start_time": "2024-03-02T22:29:55.174Z"
   },
   {
    "duration": 40,
    "start_time": "2024-03-02T22:29:55.184Z"
   },
   {
    "duration": 18,
    "start_time": "2024-03-02T22:29:55.226Z"
   },
   {
    "duration": 12,
    "start_time": "2024-03-02T22:29:55.247Z"
   },
   {
    "duration": 16,
    "start_time": "2024-03-02T22:29:55.261Z"
   },
   {
    "duration": 9,
    "start_time": "2024-03-02T22:29:55.278Z"
   },
   {
    "duration": 29,
    "start_time": "2024-03-02T22:29:55.289Z"
   },
   {
    "duration": 12,
    "start_time": "2024-03-02T22:29:55.319Z"
   },
   {
    "duration": 8,
    "start_time": "2024-03-02T22:29:55.332Z"
   },
   {
    "duration": 11,
    "start_time": "2024-03-02T22:29:55.342Z"
   },
   {
    "duration": 10,
    "start_time": "2024-03-02T22:29:55.354Z"
   },
   {
    "duration": 5,
    "start_time": "2024-03-02T22:29:55.366Z"
   },
   {
    "duration": 27,
    "start_time": "2024-03-02T22:29:55.373Z"
   },
   {
    "duration": 27,
    "start_time": "2024-03-02T22:29:55.402Z"
   },
   {
    "duration": 15,
    "start_time": "2024-03-02T22:29:55.431Z"
   },
   {
    "duration": 11,
    "start_time": "2024-03-02T22:29:55.447Z"
   },
   {
    "duration": 151,
    "start_time": "2024-03-02T22:29:55.460Z"
   },
   {
    "duration": 13,
    "start_time": "2024-03-02T22:29:55.613Z"
   },
   {
    "duration": 138,
    "start_time": "2024-03-02T22:29:55.628Z"
   },
   {
    "duration": 252,
    "start_time": "2024-03-02T22:29:55.768Z"
   },
   {
    "duration": 10,
    "start_time": "2024-03-02T22:29:56.022Z"
   },
   {
    "duration": 8,
    "start_time": "2024-03-02T22:29:56.037Z"
   },
   {
    "duration": 259,
    "start_time": "2024-03-02T22:29:56.047Z"
   },
   {
    "duration": 16,
    "start_time": "2024-03-02T22:29:56.308Z"
   },
   {
    "duration": 211,
    "start_time": "2024-03-02T22:29:56.326Z"
   },
   {
    "duration": 12,
    "start_time": "2024-03-02T22:29:56.540Z"
   },
   {
    "duration": 31,
    "start_time": "2024-03-02T22:29:56.553Z"
   },
   {
    "duration": 61,
    "start_time": "2024-03-02T22:29:56.586Z"
   },
   {
    "duration": 27,
    "start_time": "2024-03-02T22:29:56.648Z"
   },
   {
    "duration": 37,
    "start_time": "2024-03-02T22:29:56.677Z"
   },
   {
    "duration": 202,
    "start_time": "2024-03-02T22:29:56.716Z"
   },
   {
    "duration": 201,
    "start_time": "2024-03-02T22:29:56.922Z"
   },
   {
    "duration": 32,
    "start_time": "2024-03-02T22:29:57.124Z"
   },
   {
    "duration": 14,
    "start_time": "2024-03-02T22:29:57.158Z"
   },
   {
    "duration": 203,
    "start_time": "2024-03-02T22:29:57.173Z"
   },
   {
    "duration": 221,
    "start_time": "2024-03-02T22:29:57.378Z"
   },
   {
    "duration": 44,
    "start_time": "2024-03-02T22:29:57.601Z"
   },
   {
    "duration": 18,
    "start_time": "2024-03-02T22:29:57.647Z"
   },
   {
    "duration": 56,
    "start_time": "2024-03-02T22:29:57.667Z"
   },
   {
    "duration": 6,
    "start_time": "2024-03-02T22:29:57.725Z"
   },
   {
    "duration": 668,
    "start_time": "2024-03-02T22:43:15.652Z"
   },
   {
    "duration": 188,
    "start_time": "2024-03-02T22:43:16.323Z"
   },
   {
    "duration": 12,
    "start_time": "2024-03-02T22:43:16.512Z"
   },
   {
    "duration": 8,
    "start_time": "2024-03-02T22:43:16.834Z"
   },
   {
    "duration": 8,
    "start_time": "2024-03-02T22:43:17.190Z"
   },
   {
    "duration": 5,
    "start_time": "2024-03-02T22:43:18.097Z"
   },
   {
    "duration": 7,
    "start_time": "2024-03-02T22:43:18.460Z"
   },
   {
    "duration": 5,
    "start_time": "2024-03-02T22:43:18.674Z"
   },
   {
    "duration": 15,
    "start_time": "2024-03-02T22:43:19.050Z"
   },
   {
    "duration": 9,
    "start_time": "2024-03-02T22:43:19.252Z"
   },
   {
    "duration": 11,
    "start_time": "2024-03-02T22:43:19.617Z"
   },
   {
    "duration": 8,
    "start_time": "2024-03-02T22:43:19.819Z"
   },
   {
    "duration": 4,
    "start_time": "2024-03-02T22:43:20.006Z"
   },
   {
    "duration": 4,
    "start_time": "2024-03-02T22:43:20.420Z"
   },
   {
    "duration": 6,
    "start_time": "2024-03-02T22:43:20.601Z"
   },
   {
    "duration": 11,
    "start_time": "2024-03-02T22:43:20.798Z"
   },
   {
    "duration": 14,
    "start_time": "2024-03-02T22:43:20.982Z"
   },
   {
    "duration": 8,
    "start_time": "2024-03-02T22:43:21.170Z"
   },
   {
    "duration": 9,
    "start_time": "2024-03-02T22:43:21.539Z"
   },
   {
    "duration": 5,
    "start_time": "2024-03-02T22:43:21.724Z"
   },
   {
    "duration": 4,
    "start_time": "2024-03-02T22:43:22.622Z"
   },
   {
    "duration": 5,
    "start_time": "2024-03-02T22:43:23.120Z"
   },
   {
    "duration": 165,
    "start_time": "2024-03-02T22:43:23.205Z"
   },
   {
    "duration": 7,
    "start_time": "2024-03-02T22:43:23.372Z"
   },
   {
    "duration": 121,
    "start_time": "2024-03-02T22:43:23.454Z"
   },
   {
    "duration": 273,
    "start_time": "2024-03-02T22:43:23.616Z"
   },
   {
    "duration": 10,
    "start_time": "2024-03-02T22:43:23.890Z"
   },
   {
    "duration": 8,
    "start_time": "2024-03-02T22:43:23.922Z"
   },
   {
    "duration": 252,
    "start_time": "2024-03-02T22:43:23.994Z"
   },
   {
    "duration": 7,
    "start_time": "2024-03-02T22:43:24.248Z"
   },
   {
    "duration": 211,
    "start_time": "2024-03-02T22:43:24.256Z"
   },
   {
    "duration": 10,
    "start_time": "2024-03-02T22:43:25.090Z"
   },
   {
    "duration": 8,
    "start_time": "2024-03-02T22:43:25.303Z"
   },
   {
    "duration": 13,
    "start_time": "2024-03-02T22:43:25.458Z"
   },
   {
    "duration": 18,
    "start_time": "2024-03-02T22:43:25.788Z"
   },
   {
    "duration": 17,
    "start_time": "2024-03-02T22:43:26.120Z"
   },
   {
    "duration": 186,
    "start_time": "2024-03-02T22:43:26.269Z"
   },
   {
    "duration": 214,
    "start_time": "2024-03-02T22:43:26.463Z"
   },
   {
    "duration": 37,
    "start_time": "2024-03-02T22:43:26.721Z"
   },
   {
    "duration": 16,
    "start_time": "2024-03-02T22:43:27.115Z"
   },
   {
    "duration": 174,
    "start_time": "2024-03-02T22:43:27.290Z"
   },
   {
    "duration": 206,
    "start_time": "2024-03-02T22:43:27.507Z"
   },
   {
    "duration": 35,
    "start_time": "2024-03-02T22:43:27.715Z"
   },
   {
    "duration": 18,
    "start_time": "2024-03-02T22:43:28.951Z"
   },
   {
    "duration": 32,
    "start_time": "2024-03-02T22:43:36.786Z"
   },
   {
    "duration": 5,
    "start_time": "2024-03-02T22:43:37.125Z"
   },
   {
    "duration": 51,
    "start_time": "2024-03-02T22:45:14.008Z"
   },
   {
    "duration": 6,
    "start_time": "2024-03-02T22:45:31.799Z"
   },
   {
    "duration": 639,
    "start_time": "2024-03-02T22:47:47.061Z"
   },
   {
    "duration": 187,
    "start_time": "2024-03-02T22:47:47.702Z"
   },
   {
    "duration": 11,
    "start_time": "2024-03-02T22:47:47.891Z"
   },
   {
    "duration": 8,
    "start_time": "2024-03-02T22:47:47.904Z"
   },
   {
    "duration": 11,
    "start_time": "2024-03-02T22:47:47.913Z"
   },
   {
    "duration": 7,
    "start_time": "2024-03-02T22:47:47.926Z"
   },
   {
    "duration": 7,
    "start_time": "2024-03-02T22:47:47.935Z"
   },
   {
    "duration": 5,
    "start_time": "2024-03-02T22:47:47.944Z"
   },
   {
    "duration": 19,
    "start_time": "2024-03-02T22:47:47.950Z"
   },
   {
    "duration": 10,
    "start_time": "2024-03-02T22:47:47.971Z"
   },
   {
    "duration": 45,
    "start_time": "2024-03-02T22:47:47.983Z"
   },
   {
    "duration": 12,
    "start_time": "2024-03-02T22:47:48.029Z"
   },
   {
    "duration": 17,
    "start_time": "2024-03-02T22:47:48.043Z"
   },
   {
    "duration": 6,
    "start_time": "2024-03-02T22:47:48.062Z"
   },
   {
    "duration": 10,
    "start_time": "2024-03-02T22:47:48.070Z"
   },
   {
    "duration": 45,
    "start_time": "2024-03-02T22:47:48.082Z"
   },
   {
    "duration": 26,
    "start_time": "2024-03-02T22:47:48.128Z"
   },
   {
    "duration": 36,
    "start_time": "2024-03-02T22:47:48.155Z"
   },
   {
    "duration": 9,
    "start_time": "2024-03-02T22:47:48.192Z"
   },
   {
    "duration": 13,
    "start_time": "2024-03-02T22:47:48.203Z"
   },
   {
    "duration": 4,
    "start_time": "2024-03-02T22:47:48.218Z"
   },
   {
    "duration": 9,
    "start_time": "2024-03-02T22:47:48.224Z"
   },
   {
    "duration": 173,
    "start_time": "2024-03-02T22:47:48.234Z"
   },
   {
    "duration": 6,
    "start_time": "2024-03-02T22:47:48.409Z"
   },
   {
    "duration": 117,
    "start_time": "2024-03-02T22:47:48.423Z"
   },
   {
    "duration": 252,
    "start_time": "2024-03-02T22:47:48.542Z"
   },
   {
    "duration": 9,
    "start_time": "2024-03-02T22:47:48.796Z"
   },
   {
    "duration": 7,
    "start_time": "2024-03-02T22:47:48.822Z"
   },
   {
    "duration": 266,
    "start_time": "2024-03-02T22:47:48.831Z"
   },
   {
    "duration": 9,
    "start_time": "2024-03-02T22:47:49.099Z"
   },
   {
    "duration": 198,
    "start_time": "2024-03-02T22:47:49.123Z"
   },
   {
    "duration": 10,
    "start_time": "2024-03-02T22:47:49.323Z"
   },
   {
    "duration": 12,
    "start_time": "2024-03-02T22:47:49.335Z"
   },
   {
    "duration": 51,
    "start_time": "2024-03-02T22:47:49.349Z"
   },
   {
    "duration": 24,
    "start_time": "2024-03-02T22:47:49.402Z"
   },
   {
    "duration": 22,
    "start_time": "2024-03-02T22:47:49.428Z"
   },
   {
    "duration": 206,
    "start_time": "2024-03-02T22:47:49.452Z"
   },
   {
    "duration": 197,
    "start_time": "2024-03-02T22:47:49.660Z"
   },
   {
    "duration": 32,
    "start_time": "2024-03-02T22:47:49.859Z"
   },
   {
    "duration": 32,
    "start_time": "2024-03-02T22:47:49.893Z"
   },
   {
    "duration": 193,
    "start_time": "2024-03-02T22:47:49.927Z"
   },
   {
    "duration": 202,
    "start_time": "2024-03-02T22:47:50.122Z"
   },
   {
    "duration": 31,
    "start_time": "2024-03-02T22:47:50.325Z"
   },
   {
    "duration": 17,
    "start_time": "2024-03-02T22:47:50.358Z"
   },
   {
    "duration": 58,
    "start_time": "2024-03-02T22:47:50.376Z"
   },
   {
    "duration": 6,
    "start_time": "2024-03-02T22:47:50.435Z"
   },
   {
    "duration": 88,
    "start_time": "2024-03-02T22:53:35.839Z"
   },
   {
    "duration": 45,
    "start_time": "2024-03-02T22:54:39.110Z"
   },
   {
    "duration": 702,
    "start_time": "2024-03-02T22:54:48.592Z"
   },
   {
    "duration": 187,
    "start_time": "2024-03-02T22:54:49.296Z"
   },
   {
    "duration": 13,
    "start_time": "2024-03-02T22:54:49.485Z"
   },
   {
    "duration": 17,
    "start_time": "2024-03-02T22:54:49.501Z"
   },
   {
    "duration": 43,
    "start_time": "2024-03-02T22:54:49.519Z"
   },
   {
    "duration": 7,
    "start_time": "2024-03-02T22:54:49.564Z"
   },
   {
    "duration": 15,
    "start_time": "2024-03-02T22:54:49.572Z"
   },
   {
    "duration": 24,
    "start_time": "2024-03-02T22:54:49.588Z"
   },
   {
    "duration": 32,
    "start_time": "2024-03-02T22:54:49.614Z"
   },
   {
    "duration": 12,
    "start_time": "2024-03-02T22:54:49.649Z"
   },
   {
    "duration": 17,
    "start_time": "2024-03-02T22:54:49.663Z"
   },
   {
    "duration": 11,
    "start_time": "2024-03-02T22:54:49.682Z"
   },
   {
    "duration": 5,
    "start_time": "2024-03-02T22:54:49.694Z"
   },
   {
    "duration": 3,
    "start_time": "2024-03-02T22:54:49.701Z"
   },
   {
    "duration": 17,
    "start_time": "2024-03-02T22:54:49.706Z"
   },
   {
    "duration": 11,
    "start_time": "2024-03-02T22:54:49.724Z"
   },
   {
    "duration": 13,
    "start_time": "2024-03-02T22:54:49.737Z"
   },
   {
    "duration": 5,
    "start_time": "2024-03-02T22:54:49.752Z"
   },
   {
    "duration": 9,
    "start_time": "2024-03-02T22:54:49.758Z"
   },
   {
    "duration": 5,
    "start_time": "2024-03-02T22:54:49.769Z"
   },
   {
    "duration": 49,
    "start_time": "2024-03-02T22:54:49.775Z"
   },
   {
    "duration": 6,
    "start_time": "2024-03-02T22:54:49.825Z"
   },
   {
    "duration": 160,
    "start_time": "2024-03-02T22:54:49.833Z"
   },
   {
    "duration": 6,
    "start_time": "2024-03-02T22:54:49.995Z"
   },
   {
    "duration": 133,
    "start_time": "2024-03-02T22:54:50.003Z"
   },
   {
    "duration": 256,
    "start_time": "2024-03-02T22:54:50.138Z"
   },
   {
    "duration": 10,
    "start_time": "2024-03-02T22:54:50.395Z"
   },
   {
    "duration": 20,
    "start_time": "2024-03-02T22:54:50.408Z"
   },
   {
    "duration": 259,
    "start_time": "2024-03-02T22:54:50.429Z"
   },
   {
    "duration": 7,
    "start_time": "2024-03-02T22:54:50.690Z"
   },
   {
    "duration": 212,
    "start_time": "2024-03-02T22:54:50.699Z"
   },
   {
    "duration": 11,
    "start_time": "2024-03-02T22:54:50.912Z"
   },
   {
    "duration": 30,
    "start_time": "2024-03-02T22:54:50.925Z"
   },
   {
    "duration": 29,
    "start_time": "2024-03-02T22:54:50.956Z"
   },
   {
    "duration": 19,
    "start_time": "2024-03-02T22:54:50.987Z"
   },
   {
    "duration": 33,
    "start_time": "2024-03-02T22:54:51.007Z"
   },
   {
    "duration": 209,
    "start_time": "2024-03-02T22:54:51.042Z"
   },
   {
    "duration": 196,
    "start_time": "2024-03-02T22:54:51.252Z"
   },
   {
    "duration": 34,
    "start_time": "2024-03-02T22:54:51.449Z"
   },
   {
    "duration": 18,
    "start_time": "2024-03-02T22:54:51.484Z"
   },
   {
    "duration": 184,
    "start_time": "2024-03-02T22:54:51.526Z"
   },
   {
    "duration": 216,
    "start_time": "2024-03-02T22:54:51.712Z"
   },
   {
    "duration": 32,
    "start_time": "2024-03-02T22:54:51.929Z"
   },
   {
    "duration": 20,
    "start_time": "2024-03-02T22:54:51.963Z"
   },
   {
    "duration": 66,
    "start_time": "2024-03-02T22:54:51.984Z"
   },
   {
    "duration": 6,
    "start_time": "2024-03-02T22:54:52.052Z"
   },
   {
    "duration": 1218,
    "start_time": "2024-03-02T22:54:52.060Z"
   },
   {
    "duration": 0,
    "start_time": "2024-03-02T22:54:53.279Z"
   },
   {
    "duration": 1223,
    "start_time": "2024-03-02T22:55:15.229Z"
   },
   {
    "duration": 24,
    "start_time": "2024-03-02T22:55:51.328Z"
   },
   {
    "duration": 23,
    "start_time": "2024-03-02T22:56:19.033Z"
   },
   {
    "duration": 20,
    "start_time": "2024-03-02T22:56:45.003Z"
   },
   {
    "duration": 22,
    "start_time": "2024-03-02T22:57:27.874Z"
   },
   {
    "duration": 20,
    "start_time": "2024-03-02T22:58:09.360Z"
   },
   {
    "duration": 20,
    "start_time": "2024-03-02T22:58:15.065Z"
   },
   {
    "duration": 671,
    "start_time": "2024-03-02T22:58:40.618Z"
   },
   {
    "duration": 68,
    "start_time": "2024-03-02T22:58:41.291Z"
   },
   {
    "duration": 12,
    "start_time": "2024-03-02T22:58:41.361Z"
   },
   {
    "duration": 22,
    "start_time": "2024-03-02T22:58:41.375Z"
   },
   {
    "duration": 42,
    "start_time": "2024-03-02T22:58:41.399Z"
   },
   {
    "duration": 8,
    "start_time": "2024-03-02T22:58:41.443Z"
   },
   {
    "duration": 9,
    "start_time": "2024-03-02T22:58:41.452Z"
   },
   {
    "duration": 9,
    "start_time": "2024-03-02T22:58:41.463Z"
   },
   {
    "duration": 20,
    "start_time": "2024-03-02T22:58:41.473Z"
   },
   {
    "duration": 9,
    "start_time": "2024-03-02T22:58:41.496Z"
   },
   {
    "duration": 11,
    "start_time": "2024-03-02T22:58:41.524Z"
   },
   {
    "duration": 11,
    "start_time": "2024-03-02T22:58:41.537Z"
   },
   {
    "duration": 9,
    "start_time": "2024-03-02T22:58:41.550Z"
   },
   {
    "duration": 6,
    "start_time": "2024-03-02T22:58:41.561Z"
   },
   {
    "duration": 11,
    "start_time": "2024-03-02T22:58:41.569Z"
   },
   {
    "duration": 43,
    "start_time": "2024-03-02T22:58:41.581Z"
   },
   {
    "duration": 14,
    "start_time": "2024-03-02T22:58:41.625Z"
   },
   {
    "duration": 7,
    "start_time": "2024-03-02T22:58:41.641Z"
   },
   {
    "duration": 10,
    "start_time": "2024-03-02T22:58:41.649Z"
   },
   {
    "duration": 20,
    "start_time": "2024-03-02T22:58:41.661Z"
   },
   {
    "duration": 5,
    "start_time": "2024-03-02T22:58:41.683Z"
   },
   {
    "duration": 37,
    "start_time": "2024-03-02T22:58:41.689Z"
   },
   {
    "duration": 169,
    "start_time": "2024-03-02T22:58:41.728Z"
   },
   {
    "duration": 6,
    "start_time": "2024-03-02T22:58:41.899Z"
   },
   {
    "duration": 123,
    "start_time": "2024-03-02T22:58:41.923Z"
   },
   {
    "duration": 260,
    "start_time": "2024-03-02T22:58:42.047Z"
   },
   {
    "duration": 17,
    "start_time": "2024-03-02T22:58:42.308Z"
   },
   {
    "duration": 8,
    "start_time": "2024-03-02T22:58:42.328Z"
   },
   {
    "duration": 255,
    "start_time": "2024-03-02T22:58:42.337Z"
   },
   {
    "duration": 6,
    "start_time": "2024-03-02T22:58:42.594Z"
   },
   {
    "duration": 206,
    "start_time": "2024-03-02T22:58:42.602Z"
   },
   {
    "duration": 19,
    "start_time": "2024-03-02T22:58:42.810Z"
   },
   {
    "duration": 7,
    "start_time": "2024-03-02T22:58:42.831Z"
   },
   {
    "duration": 13,
    "start_time": "2024-03-02T22:58:42.839Z"
   },
   {
    "duration": 13,
    "start_time": "2024-03-02T22:58:42.854Z"
   },
   {
    "duration": 27,
    "start_time": "2024-03-02T22:58:42.869Z"
   },
   {
    "duration": 234,
    "start_time": "2024-03-02T22:58:42.898Z"
   },
   {
    "duration": 196,
    "start_time": "2024-03-02T22:58:43.133Z"
   },
   {
    "duration": 33,
    "start_time": "2024-03-02T22:58:43.331Z"
   },
   {
    "duration": 14,
    "start_time": "2024-03-02T22:58:43.366Z"
   },
   {
    "duration": 225,
    "start_time": "2024-03-02T22:58:43.381Z"
   },
   {
    "duration": 207,
    "start_time": "2024-03-02T22:58:43.608Z"
   },
   {
    "duration": 32,
    "start_time": "2024-03-02T22:58:43.823Z"
   },
   {
    "duration": 18,
    "start_time": "2024-03-02T22:58:43.857Z"
   },
   {
    "duration": 57,
    "start_time": "2024-03-02T22:58:43.877Z"
   },
   {
    "duration": 4,
    "start_time": "2024-03-02T22:58:43.936Z"
   },
   {
    "duration": 10129,
    "start_time": "2024-03-02T22:58:43.942Z"
   },
   {
    "duration": 10,
    "start_time": "2024-03-02T22:58:54.073Z"
   },
   {
    "duration": 2,
    "start_time": "2024-03-02T23:07:27.151Z"
   },
   {
    "duration": 2,
    "start_time": "2024-03-02T23:07:53.067Z"
   },
   {
    "duration": 2,
    "start_time": "2024-03-02T23:07:55.542Z"
   },
   {
    "duration": 11,
    "start_time": "2024-03-02T23:10:28.678Z"
   },
   {
    "duration": 77,
    "start_time": "2024-03-02T23:13:38.440Z"
   },
   {
    "duration": 8,
    "start_time": "2024-03-02T23:13:53.272Z"
   },
   {
    "duration": 498,
    "start_time": "2024-03-02T23:52:27.237Z"
   },
   {
    "duration": 13,
    "start_time": "2024-03-02T23:53:43.830Z"
   },
   {
    "duration": 6,
    "start_time": "2024-03-02T23:55:06.094Z"
   },
   {
    "duration": 6,
    "start_time": "2024-03-02T23:55:50.526Z"
   },
   {
    "duration": 6,
    "start_time": "2024-03-02T23:55:56.078Z"
   },
   {
    "duration": 8,
    "start_time": "2024-03-02T23:56:43.951Z"
   },
   {
    "duration": 26,
    "start_time": "2024-03-02T23:56:58.320Z"
   },
   {
    "duration": 8,
    "start_time": "2024-03-02T23:57:12.864Z"
   },
   {
    "duration": 9,
    "start_time": "2024-03-02T23:57:16.039Z"
   },
   {
    "duration": 9,
    "start_time": "2024-03-02T23:57:25.289Z"
   },
   {
    "duration": 9,
    "start_time": "2024-03-03T00:03:37.377Z"
   },
   {
    "duration": 5,
    "start_time": "2024-03-03T00:03:59.923Z"
   },
   {
    "duration": 4,
    "start_time": "2024-03-03T00:04:03.406Z"
   },
   {
    "duration": 3,
    "start_time": "2024-03-03T00:04:39.320Z"
   },
   {
    "duration": 5,
    "start_time": "2024-03-03T00:04:44.747Z"
   },
   {
    "duration": 5,
    "start_time": "2024-03-03T00:04:55.033Z"
   },
   {
    "duration": 7,
    "start_time": "2024-03-03T00:06:36.750Z"
   },
   {
    "duration": 6,
    "start_time": "2024-03-03T00:10:42.752Z"
   },
   {
    "duration": 9,
    "start_time": "2024-03-03T00:10:45.929Z"
   },
   {
    "duration": 7,
    "start_time": "2024-03-03T00:21:40.822Z"
   },
   {
    "duration": 7,
    "start_time": "2024-03-03T00:21:45.978Z"
   },
   {
    "duration": 87,
    "start_time": "2024-03-03T00:21:49.052Z"
   },
   {
    "duration": 12,
    "start_time": "2024-03-03T00:21:50.967Z"
   },
   {
    "duration": 30,
    "start_time": "2024-03-03T00:22:12.292Z"
   },
   {
    "duration": 11,
    "start_time": "2024-03-03T00:37:17.685Z"
   },
   {
    "duration": 9,
    "start_time": "2024-03-03T00:37:46.783Z"
   },
   {
    "duration": 9,
    "start_time": "2024-03-03T00:37:51.110Z"
   },
   {
    "duration": 46,
    "start_time": "2024-03-03T00:39:14.997Z"
   },
   {
    "duration": 8,
    "start_time": "2024-03-03T00:39:17.669Z"
   },
   {
    "duration": 12,
    "start_time": "2024-03-03T00:39:24.231Z"
   },
   {
    "duration": 24,
    "start_time": "2024-03-03T00:42:52.305Z"
   },
   {
    "duration": 4,
    "start_time": "2024-03-03T00:43:24.488Z"
   },
   {
    "duration": 1284,
    "start_time": "2024-03-03T00:44:04.621Z"
   },
   {
    "duration": 4,
    "start_time": "2024-03-03T00:44:23.420Z"
   },
   {
    "duration": 25,
    "start_time": "2024-03-03T00:44:27.345Z"
   },
   {
    "duration": 1174,
    "start_time": "2024-03-03T00:44:38.446Z"
   },
   {
    "duration": 69,
    "start_time": "2024-03-03T00:44:39.623Z"
   },
   {
    "duration": 13,
    "start_time": "2024-03-03T00:44:39.694Z"
   },
   {
    "duration": 17,
    "start_time": "2024-03-03T00:44:39.709Z"
   },
   {
    "duration": 16,
    "start_time": "2024-03-03T00:44:39.728Z"
   },
   {
    "duration": 10,
    "start_time": "2024-03-03T00:44:39.746Z"
   },
   {
    "duration": 9,
    "start_time": "2024-03-03T00:44:39.758Z"
   },
   {
    "duration": 8,
    "start_time": "2024-03-03T00:44:39.768Z"
   },
   {
    "duration": 23,
    "start_time": "2024-03-03T00:44:39.777Z"
   },
   {
    "duration": 20,
    "start_time": "2024-03-03T00:44:39.803Z"
   },
   {
    "duration": 34,
    "start_time": "2024-03-03T00:44:39.825Z"
   },
   {
    "duration": 14,
    "start_time": "2024-03-03T00:44:39.861Z"
   },
   {
    "duration": 6,
    "start_time": "2024-03-03T00:44:39.877Z"
   },
   {
    "duration": 19,
    "start_time": "2024-03-03T00:44:39.884Z"
   },
   {
    "duration": 10,
    "start_time": "2024-03-03T00:44:39.905Z"
   },
   {
    "duration": 10,
    "start_time": "2024-03-03T00:44:39.917Z"
   },
   {
    "duration": 17,
    "start_time": "2024-03-03T00:44:39.929Z"
   },
   {
    "duration": 6,
    "start_time": "2024-03-03T00:44:39.948Z"
   },
   {
    "duration": 24,
    "start_time": "2024-03-03T00:44:39.955Z"
   },
   {
    "duration": 15,
    "start_time": "2024-03-03T00:44:39.980Z"
   },
   {
    "duration": 31,
    "start_time": "2024-03-03T00:44:39.997Z"
   },
   {
    "duration": 36,
    "start_time": "2024-03-03T00:44:40.030Z"
   },
   {
    "duration": 184,
    "start_time": "2024-03-03T00:44:40.068Z"
   },
   {
    "duration": 6,
    "start_time": "2024-03-03T00:44:40.254Z"
   },
   {
    "duration": 130,
    "start_time": "2024-03-03T00:44:40.262Z"
   },
   {
    "duration": 254,
    "start_time": "2024-03-03T00:44:40.393Z"
   },
   {
    "duration": 10,
    "start_time": "2024-03-03T00:44:40.649Z"
   },
   {
    "duration": 18,
    "start_time": "2024-03-03T00:44:40.663Z"
   },
   {
    "duration": 224,
    "start_time": "2024-03-03T00:44:40.682Z"
   },
   {
    "duration": 16,
    "start_time": "2024-03-03T00:44:40.908Z"
   },
   {
    "duration": 211,
    "start_time": "2024-03-03T00:44:40.926Z"
   },
   {
    "duration": 12,
    "start_time": "2024-03-03T00:44:41.139Z"
   },
   {
    "duration": 7,
    "start_time": "2024-03-03T00:44:41.153Z"
   },
   {
    "duration": 26,
    "start_time": "2024-03-03T00:44:41.162Z"
   },
   {
    "duration": 21,
    "start_time": "2024-03-03T00:44:41.190Z"
   },
   {
    "duration": 28,
    "start_time": "2024-03-03T00:44:41.213Z"
   },
   {
    "duration": 204,
    "start_time": "2024-03-03T00:44:41.243Z"
   },
   {
    "duration": 266,
    "start_time": "2024-03-03T00:44:41.449Z"
   },
   {
    "duration": 37,
    "start_time": "2024-03-03T00:44:41.717Z"
   },
   {
    "duration": 15,
    "start_time": "2024-03-03T00:44:41.756Z"
   },
   {
    "duration": 190,
    "start_time": "2024-03-03T00:44:41.773Z"
   },
   {
    "duration": 202,
    "start_time": "2024-03-03T00:44:41.965Z"
   },
   {
    "duration": 35,
    "start_time": "2024-03-03T00:44:42.170Z"
   },
   {
    "duration": 33,
    "start_time": "2024-03-03T00:44:42.207Z"
   },
   {
    "duration": 48,
    "start_time": "2024-03-03T00:44:42.242Z"
   },
   {
    "duration": 10576,
    "start_time": "2024-03-03T00:44:42.291Z"
   },
   {
    "duration": 4,
    "start_time": "2024-03-03T00:44:52.868Z"
   },
   {
    "duration": 10172,
    "start_time": "2024-03-03T00:44:52.873Z"
   },
   {
    "duration": 12,
    "start_time": "2024-03-03T00:45:03.047Z"
   },
   {
    "duration": 62,
    "start_time": "2024-03-03T00:45:03.061Z"
   },
   {
    "duration": 36,
    "start_time": "2024-03-03T00:45:03.124Z"
   },
   {
    "duration": 57,
    "start_time": "2024-03-03T00:45:03.161Z"
   },
   {
    "duration": 210,
    "start_time": "2024-03-03T00:45:03.220Z"
   },
   {
    "duration": 101,
    "start_time": "2024-03-03T00:45:03.431Z"
   },
   {
    "duration": 0,
    "start_time": "2024-03-03T00:45:03.534Z"
   },
   {
    "duration": 12,
    "start_time": "2024-03-03T00:45:05.292Z"
   },
   {
    "duration": 14,
    "start_time": "2024-03-03T00:45:20.695Z"
   },
   {
    "duration": 108,
    "start_time": "2024-03-03T00:45:35.243Z"
   },
   {
    "duration": 13,
    "start_time": "2024-03-03T00:45:39.215Z"
   },
   {
    "duration": 4,
    "start_time": "2024-03-03T00:45:57.220Z"
   },
   {
    "duration": 10225,
    "start_time": "2024-03-03T00:45:57.807Z"
   },
   {
    "duration": 9,
    "start_time": "2024-03-03T00:46:08.111Z"
   },
   {
    "duration": 4,
    "start_time": "2024-03-03T00:47:13.358Z"
   },
   {
    "duration": 10042,
    "start_time": "2024-03-03T00:47:13.516Z"
   },
   {
    "duration": 25,
    "start_time": "2024-03-03T00:47:23.597Z"
   },
   {
    "duration": 123,
    "start_time": "2024-03-03T00:47:51.163Z"
   },
   {
    "duration": 11,
    "start_time": "2024-03-03T00:47:51.651Z"
   },
   {
    "duration": 1154,
    "start_time": "2024-03-03T00:48:10.236Z"
   },
   {
    "duration": 70,
    "start_time": "2024-03-03T00:48:11.391Z"
   },
   {
    "duration": 13,
    "start_time": "2024-03-03T00:48:11.463Z"
   },
   {
    "duration": 8,
    "start_time": "2024-03-03T00:48:11.478Z"
   },
   {
    "duration": 14,
    "start_time": "2024-03-03T00:48:11.489Z"
   },
   {
    "duration": 28,
    "start_time": "2024-03-03T00:48:11.505Z"
   },
   {
    "duration": 10,
    "start_time": "2024-03-03T00:48:11.534Z"
   },
   {
    "duration": 5,
    "start_time": "2024-03-03T00:48:11.546Z"
   },
   {
    "duration": 23,
    "start_time": "2024-03-03T00:48:11.553Z"
   },
   {
    "duration": 12,
    "start_time": "2024-03-03T00:48:11.579Z"
   },
   {
    "duration": 18,
    "start_time": "2024-03-03T00:48:11.593Z"
   },
   {
    "duration": 18,
    "start_time": "2024-03-03T00:48:11.612Z"
   },
   {
    "duration": 6,
    "start_time": "2024-03-03T00:48:11.631Z"
   },
   {
    "duration": 3,
    "start_time": "2024-03-03T00:48:11.640Z"
   },
   {
    "duration": 20,
    "start_time": "2024-03-03T00:48:11.644Z"
   },
   {
    "duration": 33,
    "start_time": "2024-03-03T00:48:11.666Z"
   },
   {
    "duration": 63,
    "start_time": "2024-03-03T00:48:11.701Z"
   },
   {
    "duration": 26,
    "start_time": "2024-03-03T00:48:11.766Z"
   },
   {
    "duration": 24,
    "start_time": "2024-03-03T00:48:11.793Z"
   },
   {
    "duration": 31,
    "start_time": "2024-03-03T00:48:11.819Z"
   },
   {
    "duration": 22,
    "start_time": "2024-03-03T00:48:11.851Z"
   },
   {
    "duration": 9,
    "start_time": "2024-03-03T00:48:11.874Z"
   },
   {
    "duration": 150,
    "start_time": "2024-03-03T00:48:11.885Z"
   },
   {
    "duration": 6,
    "start_time": "2024-03-03T00:48:12.037Z"
   },
   {
    "duration": 125,
    "start_time": "2024-03-03T00:48:12.045Z"
   },
   {
    "duration": 250,
    "start_time": "2024-03-03T00:48:12.172Z"
   },
   {
    "duration": 9,
    "start_time": "2024-03-03T00:48:12.424Z"
   },
   {
    "duration": 17,
    "start_time": "2024-03-03T00:48:12.435Z"
   },
   {
    "duration": 194,
    "start_time": "2024-03-03T00:48:12.453Z"
   },
   {
    "duration": 6,
    "start_time": "2024-03-03T00:48:12.649Z"
   },
   {
    "duration": 204,
    "start_time": "2024-03-03T00:48:12.656Z"
   },
   {
    "duration": 11,
    "start_time": "2024-03-03T00:48:12.862Z"
   },
   {
    "duration": 20,
    "start_time": "2024-03-03T00:48:12.874Z"
   },
   {
    "duration": 27,
    "start_time": "2024-03-03T00:48:12.895Z"
   },
   {
    "duration": 16,
    "start_time": "2024-03-03T00:48:12.924Z"
   },
   {
    "duration": 42,
    "start_time": "2024-03-03T00:48:12.943Z"
   },
   {
    "duration": 199,
    "start_time": "2024-03-03T00:48:12.987Z"
   },
   {
    "duration": 262,
    "start_time": "2024-03-03T00:48:13.187Z"
   },
   {
    "duration": 34,
    "start_time": "2024-03-03T00:48:13.451Z"
   },
   {
    "duration": 37,
    "start_time": "2024-03-03T00:48:13.486Z"
   },
   {
    "duration": 190,
    "start_time": "2024-03-03T00:48:13.527Z"
   },
   {
    "duration": 204,
    "start_time": "2024-03-03T00:48:13.719Z"
   },
   {
    "duration": 32,
    "start_time": "2024-03-03T00:48:13.925Z"
   },
   {
    "duration": 18,
    "start_time": "2024-03-03T00:48:13.958Z"
   },
   {
    "duration": 47,
    "start_time": "2024-03-03T00:48:13.977Z"
   },
   {
    "duration": 10508,
    "start_time": "2024-03-03T00:48:14.025Z"
   },
   {
    "duration": 10,
    "start_time": "2024-03-03T00:48:24.535Z"
   },
   {
    "duration": 6,
    "start_time": "2024-03-03T00:48:24.547Z"
   },
   {
    "duration": 142,
    "start_time": "2024-03-03T00:48:24.554Z"
   },
   {
    "duration": 13,
    "start_time": "2024-03-03T00:48:24.697Z"
   },
   {
    "duration": 18,
    "start_time": "2024-03-03T00:48:24.711Z"
   },
   {
    "duration": 7,
    "start_time": "2024-03-03T00:48:24.730Z"
   },
   {
    "duration": 7,
    "start_time": "2024-03-03T00:48:24.738Z"
   },
   {
    "duration": 46,
    "start_time": "2024-03-03T00:48:24.746Z"
   },
   {
    "duration": 105,
    "start_time": "2024-03-03T00:48:24.794Z"
   },
   {
    "duration": 0,
    "start_time": "2024-03-03T00:48:24.901Z"
   },
   {
    "duration": 31,
    "start_time": "2024-03-03T00:50:54.732Z"
   },
   {
    "duration": 15,
    "start_time": "2024-03-03T00:51:10.591Z"
   },
   {
    "duration": 5,
    "start_time": "2024-03-03T00:51:28.339Z"
   },
   {
    "duration": 15,
    "start_time": "2024-03-03T00:51:34.106Z"
   },
   {
    "duration": 12,
    "start_time": "2024-03-03T00:51:39.474Z"
   },
   {
    "duration": 11,
    "start_time": "2024-03-03T00:52:22.252Z"
   },
   {
    "duration": 84,
    "start_time": "2024-03-03T00:58:11.040Z"
   },
   {
    "duration": 4,
    "start_time": "2024-03-03T00:59:39.185Z"
   },
   {
    "duration": 4,
    "start_time": "2024-03-03T00:59:47.794Z"
   },
   {
    "duration": 7,
    "start_time": "2024-03-03T01:00:45.590Z"
   },
   {
    "duration": 6,
    "start_time": "2024-03-03T01:04:44.378Z"
   },
   {
    "duration": 3,
    "start_time": "2024-03-03T01:29:35.167Z"
   },
   {
    "duration": 51,
    "start_time": "2024-03-03T13:21:33.830Z"
   },
   {
    "duration": 1387,
    "start_time": "2024-03-03T13:21:43.404Z"
   },
   {
    "duration": 293,
    "start_time": "2024-03-03T13:21:44.793Z"
   },
   {
    "duration": 14,
    "start_time": "2024-03-03T13:21:45.088Z"
   },
   {
    "duration": 225,
    "start_time": "2024-03-03T13:21:45.104Z"
   },
   {
    "duration": 61,
    "start_time": "2024-03-03T13:21:45.331Z"
   },
   {
    "duration": 33,
    "start_time": "2024-03-03T13:21:45.395Z"
   },
   {
    "duration": 34,
    "start_time": "2024-03-03T13:21:45.430Z"
   },
   {
    "duration": 22,
    "start_time": "2024-03-03T13:21:45.466Z"
   },
   {
    "duration": 31,
    "start_time": "2024-03-03T13:21:45.489Z"
   },
   {
    "duration": 20,
    "start_time": "2024-03-03T13:21:45.523Z"
   },
   {
    "duration": 39,
    "start_time": "2024-03-03T13:21:45.544Z"
   },
   {
    "duration": 14,
    "start_time": "2024-03-03T13:21:45.584Z"
   },
   {
    "duration": 20,
    "start_time": "2024-03-03T13:21:45.599Z"
   },
   {
    "duration": 11,
    "start_time": "2024-03-03T13:21:45.621Z"
   },
   {
    "duration": 18,
    "start_time": "2024-03-03T13:21:45.634Z"
   },
   {
    "duration": 13,
    "start_time": "2024-03-03T13:21:45.654Z"
   },
   {
    "duration": 15,
    "start_time": "2024-03-03T13:21:45.669Z"
   },
   {
    "duration": 6,
    "start_time": "2024-03-03T13:21:45.686Z"
   },
   {
    "duration": 9,
    "start_time": "2024-03-03T13:21:45.693Z"
   },
   {
    "duration": 7,
    "start_time": "2024-03-03T13:21:45.703Z"
   },
   {
    "duration": 15,
    "start_time": "2024-03-03T13:21:45.712Z"
   },
   {
    "duration": 11,
    "start_time": "2024-03-03T13:21:45.728Z"
   },
   {
    "duration": 175,
    "start_time": "2024-03-03T13:21:45.741Z"
   },
   {
    "duration": 6,
    "start_time": "2024-03-03T13:21:45.919Z"
   },
   {
    "duration": 240,
    "start_time": "2024-03-03T13:21:45.926Z"
   },
   {
    "duration": 0,
    "start_time": "2024-03-03T13:21:46.168Z"
   },
   {
    "duration": 0,
    "start_time": "2024-03-03T13:21:46.170Z"
   },
   {
    "duration": 0,
    "start_time": "2024-03-03T13:21:46.171Z"
   },
   {
    "duration": 0,
    "start_time": "2024-03-03T13:21:46.172Z"
   },
   {
    "duration": 0,
    "start_time": "2024-03-03T13:21:46.173Z"
   },
   {
    "duration": 0,
    "start_time": "2024-03-03T13:21:46.174Z"
   },
   {
    "duration": 0,
    "start_time": "2024-03-03T13:21:46.175Z"
   },
   {
    "duration": 0,
    "start_time": "2024-03-03T13:21:46.191Z"
   },
   {
    "duration": 0,
    "start_time": "2024-03-03T13:21:46.193Z"
   },
   {
    "duration": 0,
    "start_time": "2024-03-03T13:21:46.194Z"
   },
   {
    "duration": 0,
    "start_time": "2024-03-03T13:21:46.195Z"
   },
   {
    "duration": 0,
    "start_time": "2024-03-03T13:21:46.196Z"
   },
   {
    "duration": 0,
    "start_time": "2024-03-03T13:21:46.197Z"
   },
   {
    "duration": 0,
    "start_time": "2024-03-03T13:21:46.198Z"
   },
   {
    "duration": 0,
    "start_time": "2024-03-03T13:21:46.199Z"
   },
   {
    "duration": 0,
    "start_time": "2024-03-03T13:21:46.201Z"
   },
   {
    "duration": 0,
    "start_time": "2024-03-03T13:21:46.202Z"
   },
   {
    "duration": 0,
    "start_time": "2024-03-03T13:21:46.202Z"
   },
   {
    "duration": 0,
    "start_time": "2024-03-03T13:21:46.204Z"
   },
   {
    "duration": 0,
    "start_time": "2024-03-03T13:21:46.205Z"
   },
   {
    "duration": 0,
    "start_time": "2024-03-03T13:21:46.206Z"
   },
   {
    "duration": 0,
    "start_time": "2024-03-03T13:21:46.207Z"
   },
   {
    "duration": 0,
    "start_time": "2024-03-03T13:21:46.208Z"
   },
   {
    "duration": 0,
    "start_time": "2024-03-03T13:21:46.209Z"
   },
   {
    "duration": 0,
    "start_time": "2024-03-03T13:21:46.209Z"
   },
   {
    "duration": 0,
    "start_time": "2024-03-03T13:21:46.210Z"
   },
   {
    "duration": 0,
    "start_time": "2024-03-03T13:21:46.211Z"
   },
   {
    "duration": 0,
    "start_time": "2024-03-03T13:21:46.212Z"
   },
   {
    "duration": 0,
    "start_time": "2024-03-03T13:21:46.213Z"
   },
   {
    "duration": 0,
    "start_time": "2024-03-03T13:21:46.214Z"
   },
   {
    "duration": 0,
    "start_time": "2024-03-03T13:21:46.216Z"
   },
   {
    "duration": 0,
    "start_time": "2024-03-03T13:21:46.217Z"
   },
   {
    "duration": 0,
    "start_time": "2024-03-03T13:21:46.218Z"
   },
   {
    "duration": 0,
    "start_time": "2024-03-03T13:21:46.219Z"
   },
   {
    "duration": 69,
    "start_time": "2024-03-03T13:22:42.430Z"
   },
   {
    "duration": 132,
    "start_time": "2024-03-03T13:23:15.199Z"
   },
   {
    "duration": 70,
    "start_time": "2024-03-03T13:23:18.231Z"
   },
   {
    "duration": 254,
    "start_time": "2024-03-03T13:23:25.769Z"
   },
   {
    "duration": 9,
    "start_time": "2024-03-03T13:24:12.084Z"
   },
   {
    "duration": 7,
    "start_time": "2024-03-03T13:24:12.250Z"
   },
   {
    "duration": 191,
    "start_time": "2024-03-03T13:24:12.448Z"
   },
   {
    "duration": 7,
    "start_time": "2024-03-03T13:24:22.273Z"
   },
   {
    "duration": 263,
    "start_time": "2024-03-03T13:24:22.446Z"
   },
   {
    "duration": 10,
    "start_time": "2024-03-03T13:25:02.833Z"
   },
   {
    "duration": 9,
    "start_time": "2024-03-03T13:25:03.470Z"
   },
   {
    "duration": 9,
    "start_time": "2024-03-03T13:25:03.694Z"
   },
   {
    "duration": 14,
    "start_time": "2024-03-03T13:25:04.807Z"
   },
   {
    "duration": 18,
    "start_time": "2024-03-03T13:25:24.678Z"
   },
   {
    "duration": 186,
    "start_time": "2024-03-03T13:25:25.023Z"
   },
   {
    "duration": 18,
    "start_time": "2024-03-03T13:25:45.808Z"
   },
   {
    "duration": 206,
    "start_time": "2024-03-03T13:25:45.947Z"
   },
   {
    "duration": 205,
    "start_time": "2024-03-03T13:25:46.276Z"
   },
   {
    "duration": 35,
    "start_time": "2024-03-03T13:25:46.492Z"
   },
   {
    "duration": 15,
    "start_time": "2024-03-03T13:25:46.751Z"
   },
   {
    "duration": 178,
    "start_time": "2024-03-03T13:25:46.900Z"
   },
   {
    "duration": 212,
    "start_time": "2024-03-03T13:25:47.079Z"
   },
   {
    "duration": 32,
    "start_time": "2024-03-03T13:25:48.038Z"
   },
   {
    "duration": 1157,
    "start_time": "2024-03-03T13:25:55.617Z"
   },
   {
    "duration": 68,
    "start_time": "2024-03-03T13:25:56.777Z"
   },
   {
    "duration": 13,
    "start_time": "2024-03-03T13:25:56.847Z"
   },
   {
    "duration": 9,
    "start_time": "2024-03-03T13:25:56.863Z"
   },
   {
    "duration": 17,
    "start_time": "2024-03-03T13:25:56.873Z"
   },
   {
    "duration": 15,
    "start_time": "2024-03-03T13:25:56.891Z"
   },
   {
    "duration": 10,
    "start_time": "2024-03-03T13:25:56.908Z"
   },
   {
    "duration": 6,
    "start_time": "2024-03-03T13:25:56.920Z"
   },
   {
    "duration": 19,
    "start_time": "2024-03-03T13:25:56.927Z"
   },
   {
    "duration": 9,
    "start_time": "2024-03-03T13:25:56.950Z"
   },
   {
    "duration": 34,
    "start_time": "2024-03-03T13:25:56.961Z"
   },
   {
    "duration": 33,
    "start_time": "2024-03-03T13:25:56.997Z"
   },
   {
    "duration": 8,
    "start_time": "2024-03-03T13:25:57.032Z"
   },
   {
    "duration": 12,
    "start_time": "2024-03-03T13:25:57.042Z"
   },
   {
    "duration": 8,
    "start_time": "2024-03-03T13:25:57.056Z"
   },
   {
    "duration": 16,
    "start_time": "2024-03-03T13:25:57.066Z"
   },
   {
    "duration": 17,
    "start_time": "2024-03-03T13:25:57.084Z"
   },
   {
    "duration": 8,
    "start_time": "2024-03-03T13:25:57.103Z"
   },
   {
    "duration": 10,
    "start_time": "2024-03-03T13:25:57.113Z"
   },
   {
    "duration": 12,
    "start_time": "2024-03-03T13:25:57.125Z"
   },
   {
    "duration": 14,
    "start_time": "2024-03-03T13:25:57.139Z"
   },
   {
    "duration": 13,
    "start_time": "2024-03-03T13:25:57.155Z"
   },
   {
    "duration": 170,
    "start_time": "2024-03-03T13:25:57.169Z"
   },
   {
    "duration": 7,
    "start_time": "2024-03-03T13:25:57.341Z"
   },
   {
    "duration": 93,
    "start_time": "2024-03-03T13:25:57.350Z"
   },
   {
    "duration": 270,
    "start_time": "2024-03-03T13:25:57.445Z"
   },
   {
    "duration": 10,
    "start_time": "2024-03-03T13:25:57.717Z"
   },
   {
    "duration": 20,
    "start_time": "2024-03-03T13:25:57.732Z"
   },
   {
    "duration": 233,
    "start_time": "2024-03-03T13:25:57.754Z"
   },
   {
    "duration": 7,
    "start_time": "2024-03-03T13:25:57.992Z"
   },
   {
    "duration": 213,
    "start_time": "2024-03-03T13:25:58.001Z"
   },
   {
    "duration": 11,
    "start_time": "2024-03-03T13:25:58.216Z"
   },
   {
    "duration": 7,
    "start_time": "2024-03-03T13:25:58.229Z"
   },
   {
    "duration": 10,
    "start_time": "2024-03-03T13:25:58.238Z"
   },
   {
    "duration": 20,
    "start_time": "2024-03-03T13:25:58.249Z"
   },
   {
    "duration": 17,
    "start_time": "2024-03-03T13:25:58.291Z"
   },
   {
    "duration": 203,
    "start_time": "2024-03-03T13:25:58.310Z"
   },
   {
    "duration": 251,
    "start_time": "2024-03-03T13:25:58.514Z"
   },
   {
    "duration": 43,
    "start_time": "2024-03-03T13:25:58.767Z"
   },
   {
    "duration": 15,
    "start_time": "2024-03-03T13:25:58.811Z"
   },
   {
    "duration": 192,
    "start_time": "2024-03-03T13:25:58.828Z"
   },
   {
    "duration": 205,
    "start_time": "2024-03-03T13:25:59.022Z"
   },
   {
    "duration": 32,
    "start_time": "2024-03-03T13:25:59.229Z"
   },
   {
    "duration": 37,
    "start_time": "2024-03-03T13:25:59.263Z"
   },
   {
    "duration": 34,
    "start_time": "2024-03-03T13:25:59.302Z"
   },
   {
    "duration": 11044,
    "start_time": "2024-03-03T13:25:59.338Z"
   },
   {
    "duration": 9,
    "start_time": "2024-03-03T13:26:10.384Z"
   },
   {
    "duration": 16,
    "start_time": "2024-03-03T13:26:10.394Z"
   },
   {
    "duration": 127,
    "start_time": "2024-03-03T13:26:10.412Z"
   },
   {
    "duration": 12,
    "start_time": "2024-03-03T13:26:10.541Z"
   },
   {
    "duration": 13,
    "start_time": "2024-03-03T13:26:10.554Z"
   },
   {
    "duration": 11,
    "start_time": "2024-03-03T13:26:10.569Z"
   },
   {
    "duration": 13,
    "start_time": "2024-03-03T13:26:10.582Z"
   },
   {
    "duration": 46,
    "start_time": "2024-03-03T13:26:10.596Z"
   },
   {
    "duration": 9,
    "start_time": "2024-03-03T13:26:10.644Z"
   },
   {
    "duration": 19,
    "start_time": "2024-03-03T13:26:10.655Z"
   },
   {
    "duration": 21,
    "start_time": "2024-03-03T13:26:10.676Z"
   },
   {
    "duration": 4,
    "start_time": "2024-03-03T13:26:10.699Z"
   },
   {
    "duration": 9,
    "start_time": "2024-03-03T13:26:10.705Z"
   },
   {
    "duration": 1153,
    "start_time": "2024-03-03T13:47:28.543Z"
   },
   {
    "duration": 69,
    "start_time": "2024-03-03T13:47:29.698Z"
   },
   {
    "duration": 13,
    "start_time": "2024-03-03T13:47:29.769Z"
   },
   {
    "duration": 10,
    "start_time": "2024-03-03T13:47:29.784Z"
   },
   {
    "duration": 10,
    "start_time": "2024-03-03T13:47:29.797Z"
   },
   {
    "duration": 16,
    "start_time": "2024-03-03T13:47:29.808Z"
   },
   {
    "duration": 13,
    "start_time": "2024-03-03T13:47:29.826Z"
   },
   {
    "duration": 6,
    "start_time": "2024-03-03T13:47:29.841Z"
   },
   {
    "duration": 19,
    "start_time": "2024-03-03T13:47:29.849Z"
   },
   {
    "duration": 28,
    "start_time": "2024-03-03T13:47:29.869Z"
   },
   {
    "duration": 11,
    "start_time": "2024-03-03T13:47:29.899Z"
   },
   {
    "duration": 7,
    "start_time": "2024-03-03T13:47:29.912Z"
   },
   {
    "duration": 6,
    "start_time": "2024-03-03T13:47:29.921Z"
   },
   {
    "duration": 7,
    "start_time": "2024-03-03T13:47:29.930Z"
   },
   {
    "duration": 11,
    "start_time": "2024-03-03T13:47:29.938Z"
   },
   {
    "duration": 11,
    "start_time": "2024-03-03T13:47:29.950Z"
   },
   {
    "duration": 44,
    "start_time": "2024-03-03T13:47:29.962Z"
   },
   {
    "duration": 8,
    "start_time": "2024-03-03T13:47:30.009Z"
   },
   {
    "duration": 79,
    "start_time": "2024-03-03T13:47:30.019Z"
   },
   {
    "duration": 275,
    "start_time": "2024-03-03T13:47:30.100Z"
   },
   {
    "duration": 48,
    "start_time": "2024-03-03T13:47:30.377Z"
   },
   {
    "duration": 62,
    "start_time": "2024-03-03T13:47:30.427Z"
   },
   {
    "duration": 228,
    "start_time": "2024-03-03T13:47:30.491Z"
   },
   {
    "duration": 7,
    "start_time": "2024-03-03T13:47:30.721Z"
   },
   {
    "duration": 178,
    "start_time": "2024-03-03T13:47:30.729Z"
   },
   {
    "duration": 315,
    "start_time": "2024-03-03T13:47:30.909Z"
   },
   {
    "duration": 12,
    "start_time": "2024-03-03T13:47:31.226Z"
   },
   {
    "duration": 81,
    "start_time": "2024-03-03T13:47:31.240Z"
   },
   {
    "duration": 341,
    "start_time": "2024-03-03T13:47:31.323Z"
   },
   {
    "duration": 8,
    "start_time": "2024-03-03T13:47:31.666Z"
   },
   {
    "duration": 357,
    "start_time": "2024-03-03T13:47:31.676Z"
   },
   {
    "duration": 188,
    "start_time": "2024-03-03T13:47:32.035Z"
   },
   {
    "duration": 85,
    "start_time": "2024-03-03T13:47:32.225Z"
   },
   {
    "duration": 18,
    "start_time": "2024-03-03T13:47:32.311Z"
   },
   {
    "duration": 20,
    "start_time": "2024-03-03T13:47:32.330Z"
   },
   {
    "duration": 19,
    "start_time": "2024-03-03T13:47:32.351Z"
   },
   {
    "duration": 198,
    "start_time": "2024-03-03T13:47:32.371Z"
   },
   {
    "duration": 288,
    "start_time": "2024-03-03T13:47:32.571Z"
   },
   {
    "duration": 44,
    "start_time": "2024-03-03T13:47:32.861Z"
   },
   {
    "duration": 15,
    "start_time": "2024-03-03T13:47:32.907Z"
   },
   {
    "duration": 200,
    "start_time": "2024-03-03T13:47:32.926Z"
   },
   {
    "duration": 217,
    "start_time": "2024-03-03T13:47:33.127Z"
   },
   {
    "duration": 33,
    "start_time": "2024-03-03T13:47:33.346Z"
   },
   {
    "duration": 20,
    "start_time": "2024-03-03T13:47:33.391Z"
   },
   {
    "duration": 25,
    "start_time": "2024-03-03T13:47:33.412Z"
   },
   {
    "duration": 11145,
    "start_time": "2024-03-03T13:47:33.439Z"
   },
   {
    "duration": 9,
    "start_time": "2024-03-03T13:47:44.586Z"
   },
   {
    "duration": 29,
    "start_time": "2024-03-03T13:47:44.597Z"
   },
   {
    "duration": 164,
    "start_time": "2024-03-03T13:47:44.627Z"
   },
   {
    "duration": 11,
    "start_time": "2024-03-03T13:47:44.793Z"
   },
   {
    "duration": 20,
    "start_time": "2024-03-03T13:47:44.805Z"
   },
   {
    "duration": 14,
    "start_time": "2024-03-03T13:47:44.826Z"
   },
   {
    "duration": 18,
    "start_time": "2024-03-03T13:47:44.841Z"
   },
   {
    "duration": 55,
    "start_time": "2024-03-03T13:47:44.860Z"
   },
   {
    "duration": 9,
    "start_time": "2024-03-03T13:47:44.917Z"
   },
   {
    "duration": 22,
    "start_time": "2024-03-03T13:47:44.927Z"
   },
   {
    "duration": 19,
    "start_time": "2024-03-03T13:47:44.951Z"
   },
   {
    "duration": 13,
    "start_time": "2024-03-03T13:47:44.971Z"
   },
   {
    "duration": 22,
    "start_time": "2024-03-03T13:47:44.985Z"
   },
   {
    "duration": 7,
    "start_time": "2024-03-03T14:34:25.427Z"
   },
   {
    "duration": 192,
    "start_time": "2024-03-03T14:34:33.663Z"
   },
   {
    "duration": 195,
    "start_time": "2024-03-03T14:34:42.893Z"
   },
   {
    "duration": 20,
    "start_time": "2024-03-03T14:35:57.049Z"
   },
   {
    "duration": 10,
    "start_time": "2024-03-03T14:36:00.759Z"
   },
   {
    "duration": 15,
    "start_time": "2024-03-03T14:37:24.203Z"
   },
   {
    "duration": 17,
    "start_time": "2024-03-03T14:37:31.735Z"
   },
   {
    "duration": 22,
    "start_time": "2024-03-03T14:37:45.492Z"
   },
   {
    "duration": 19,
    "start_time": "2024-03-03T14:37:49.572Z"
   },
   {
    "duration": 19,
    "start_time": "2024-03-03T14:37:51.713Z"
   },
   {
    "duration": 21,
    "start_time": "2024-03-03T14:37:57.810Z"
   },
   {
    "duration": 1145,
    "start_time": "2024-03-03T14:38:13.135Z"
   },
   {
    "duration": 68,
    "start_time": "2024-03-03T14:38:14.282Z"
   },
   {
    "duration": 13,
    "start_time": "2024-03-03T14:38:14.355Z"
   },
   {
    "duration": 9,
    "start_time": "2024-03-03T14:38:14.370Z"
   },
   {
    "duration": 9,
    "start_time": "2024-03-03T14:38:14.381Z"
   },
   {
    "duration": 10,
    "start_time": "2024-03-03T14:38:14.391Z"
   },
   {
    "duration": 9,
    "start_time": "2024-03-03T14:38:14.403Z"
   },
   {
    "duration": 7,
    "start_time": "2024-03-03T14:38:14.413Z"
   },
   {
    "duration": 16,
    "start_time": "2024-03-03T14:38:14.423Z"
   },
   {
    "duration": 10,
    "start_time": "2024-03-03T14:38:14.440Z"
   },
   {
    "duration": 15,
    "start_time": "2024-03-03T14:38:14.452Z"
   },
   {
    "duration": 31,
    "start_time": "2024-03-03T14:38:14.469Z"
   },
   {
    "duration": 13,
    "start_time": "2024-03-03T14:38:14.502Z"
   },
   {
    "duration": 13,
    "start_time": "2024-03-03T14:38:14.517Z"
   },
   {
    "duration": 8,
    "start_time": "2024-03-03T14:38:14.532Z"
   },
   {
    "duration": 24,
    "start_time": "2024-03-03T14:38:14.541Z"
   },
   {
    "duration": 34,
    "start_time": "2024-03-03T14:38:14.567Z"
   },
   {
    "duration": 20,
    "start_time": "2024-03-03T14:38:14.603Z"
   },
   {
    "duration": 12,
    "start_time": "2024-03-03T14:38:14.625Z"
   },
   {
    "duration": 16,
    "start_time": "2024-03-03T14:38:14.639Z"
   },
   {
    "duration": 8,
    "start_time": "2024-03-03T14:38:14.658Z"
   },
   {
    "duration": 8,
    "start_time": "2024-03-03T14:38:14.668Z"
   },
   {
    "duration": 187,
    "start_time": "2024-03-03T14:38:14.677Z"
   },
   {
    "duration": 8,
    "start_time": "2024-03-03T14:38:14.866Z"
   },
   {
    "duration": 88,
    "start_time": "2024-03-03T14:38:14.875Z"
   },
   {
    "duration": 261,
    "start_time": "2024-03-03T14:38:14.965Z"
   },
   {
    "duration": 10,
    "start_time": "2024-03-03T14:38:15.230Z"
   },
   {
    "duration": 63,
    "start_time": "2024-03-03T14:38:15.242Z"
   },
   {
    "duration": 270,
    "start_time": "2024-03-03T14:38:15.307Z"
   },
   {
    "duration": 13,
    "start_time": "2024-03-03T14:38:15.579Z"
   },
   {
    "duration": 221,
    "start_time": "2024-03-03T14:38:15.594Z"
   },
   {
    "duration": 213,
    "start_time": "2024-03-03T14:38:15.817Z"
   },
   {
    "duration": 20,
    "start_time": "2024-03-03T14:38:16.032Z"
   },
   {
    "duration": 10,
    "start_time": "2024-03-03T14:38:16.054Z"
   },
   {
    "duration": 39,
    "start_time": "2024-03-03T14:38:16.066Z"
   },
   {
    "duration": 8,
    "start_time": "2024-03-03T14:38:16.107Z"
   },
   {
    "duration": 12,
    "start_time": "2024-03-03T14:38:16.116Z"
   },
   {
    "duration": 15,
    "start_time": "2024-03-03T14:38:16.130Z"
   },
   {
    "duration": 12,
    "start_time": "2024-03-03T14:38:16.147Z"
   },
   {
    "duration": 18,
    "start_time": "2024-03-03T14:38:16.191Z"
   },
   {
    "duration": 287,
    "start_time": "2024-03-03T14:38:16.211Z"
   },
   {
    "duration": 203,
    "start_time": "2024-03-03T14:38:16.500Z"
   },
   {
    "duration": 34,
    "start_time": "2024-03-03T14:38:16.705Z"
   },
   {
    "duration": 15,
    "start_time": "2024-03-03T14:38:16.741Z"
   },
   {
    "duration": 203,
    "start_time": "2024-03-03T14:38:16.758Z"
   },
   {
    "duration": 215,
    "start_time": "2024-03-03T14:38:16.963Z"
   },
   {
    "duration": 40,
    "start_time": "2024-03-03T14:38:17.180Z"
   },
   {
    "duration": 19,
    "start_time": "2024-03-03T14:38:17.222Z"
   },
   {
    "duration": 67,
    "start_time": "2024-03-03T14:38:17.243Z"
   },
   {
    "duration": 11020,
    "start_time": "2024-03-03T14:38:17.312Z"
   },
   {
    "duration": 10,
    "start_time": "2024-03-03T14:38:28.334Z"
   },
   {
    "duration": 4,
    "start_time": "2024-03-03T14:38:28.346Z"
   },
   {
    "duration": 141,
    "start_time": "2024-03-03T14:38:28.352Z"
   },
   {
    "duration": 11,
    "start_time": "2024-03-03T14:38:28.495Z"
   },
   {
    "duration": 7,
    "start_time": "2024-03-03T14:38:28.507Z"
   },
   {
    "duration": 9,
    "start_time": "2024-03-03T14:38:28.515Z"
   },
   {
    "duration": 23,
    "start_time": "2024-03-03T14:38:28.526Z"
   },
   {
    "duration": 70,
    "start_time": "2024-03-03T14:38:28.551Z"
   },
   {
    "duration": 10,
    "start_time": "2024-03-03T14:38:28.623Z"
   },
   {
    "duration": 13,
    "start_time": "2024-03-03T14:38:28.634Z"
   },
   {
    "duration": 19,
    "start_time": "2024-03-03T14:38:28.649Z"
   },
   {
    "duration": 23,
    "start_time": "2024-03-03T14:38:28.669Z"
   },
   {
    "duration": 7,
    "start_time": "2024-03-03T14:38:28.693Z"
   },
   {
    "duration": 64,
    "start_time": "2024-03-03T14:42:55.435Z"
   },
   {
    "duration": 49,
    "start_time": "2024-03-03T14:42:55.691Z"
   },
   {
    "duration": 7,
    "start_time": "2024-03-03T14:43:07.705Z"
   },
   {
    "duration": 64,
    "start_time": "2024-03-03T14:43:07.912Z"
   },
   {
    "duration": 18,
    "start_time": "2024-03-03T14:43:08.281Z"
   },
   {
    "duration": 43,
    "start_time": "2024-03-03T14:43:08.472Z"
   },
   {
    "duration": 1205,
    "start_time": "2024-03-03T14:43:22.759Z"
   },
   {
    "duration": 69,
    "start_time": "2024-03-03T14:43:23.966Z"
   },
   {
    "duration": 12,
    "start_time": "2024-03-03T14:43:24.036Z"
   },
   {
    "duration": 26,
    "start_time": "2024-03-03T14:43:24.050Z"
   },
   {
    "duration": 18,
    "start_time": "2024-03-03T14:43:24.078Z"
   },
   {
    "duration": 5,
    "start_time": "2024-03-03T14:43:24.098Z"
   },
   {
    "duration": 21,
    "start_time": "2024-03-03T14:43:24.105Z"
   },
   {
    "duration": 5,
    "start_time": "2024-03-03T14:43:24.128Z"
   },
   {
    "duration": 17,
    "start_time": "2024-03-03T14:43:24.134Z"
   },
   {
    "duration": 13,
    "start_time": "2024-03-03T14:43:24.152Z"
   },
   {
    "duration": 13,
    "start_time": "2024-03-03T14:43:24.166Z"
   },
   {
    "duration": 23,
    "start_time": "2024-03-03T14:43:24.181Z"
   },
   {
    "duration": 22,
    "start_time": "2024-03-03T14:43:24.206Z"
   },
   {
    "duration": 30,
    "start_time": "2024-03-03T14:43:24.230Z"
   },
   {
    "duration": 10,
    "start_time": "2024-03-03T14:43:24.262Z"
   },
   {
    "duration": 13,
    "start_time": "2024-03-03T14:43:24.274Z"
   },
   {
    "duration": 11,
    "start_time": "2024-03-03T14:43:24.288Z"
   },
   {
    "duration": 6,
    "start_time": "2024-03-03T14:43:24.300Z"
   },
   {
    "duration": 42,
    "start_time": "2024-03-03T14:43:24.307Z"
   },
   {
    "duration": 12,
    "start_time": "2024-03-03T14:43:24.350Z"
   },
   {
    "duration": 5,
    "start_time": "2024-03-03T14:43:24.363Z"
   },
   {
    "duration": 7,
    "start_time": "2024-03-03T14:43:24.369Z"
   },
   {
    "duration": 168,
    "start_time": "2024-03-03T14:43:24.378Z"
   },
   {
    "duration": 6,
    "start_time": "2024-03-03T14:43:24.548Z"
   },
   {
    "duration": 84,
    "start_time": "2024-03-03T14:43:24.555Z"
   },
   {
    "duration": 260,
    "start_time": "2024-03-03T14:43:24.641Z"
   },
   {
    "duration": 9,
    "start_time": "2024-03-03T14:43:24.903Z"
   },
   {
    "duration": 27,
    "start_time": "2024-03-03T14:43:24.913Z"
   },
   {
    "duration": 226,
    "start_time": "2024-03-03T14:43:24.942Z"
   },
   {
    "duration": 7,
    "start_time": "2024-03-03T14:43:25.169Z"
   },
   {
    "duration": 214,
    "start_time": "2024-03-03T14:43:25.178Z"
   },
   {
    "duration": 199,
    "start_time": "2024-03-03T14:43:25.394Z"
   },
   {
    "duration": 18,
    "start_time": "2024-03-03T14:43:25.595Z"
   },
   {
    "duration": 20,
    "start_time": "2024-03-03T14:43:25.615Z"
   },
   {
    "duration": 14,
    "start_time": "2024-03-03T14:43:25.637Z"
   },
   {
    "duration": 9,
    "start_time": "2024-03-03T14:43:25.653Z"
   },
   {
    "duration": 33,
    "start_time": "2024-03-03T14:43:25.664Z"
   },
   {
    "duration": 15,
    "start_time": "2024-03-03T14:43:25.699Z"
   },
   {
    "duration": 22,
    "start_time": "2024-03-03T14:43:25.716Z"
   },
   {
    "duration": 19,
    "start_time": "2024-03-03T14:43:25.739Z"
   },
   {
    "duration": 312,
    "start_time": "2024-03-03T14:43:25.762Z"
   },
   {
    "duration": 204,
    "start_time": "2024-03-03T14:43:26.075Z"
   },
   {
    "duration": 38,
    "start_time": "2024-03-03T14:43:26.280Z"
   },
   {
    "duration": 15,
    "start_time": "2024-03-03T14:43:26.320Z"
   },
   {
    "duration": 200,
    "start_time": "2024-03-03T14:43:26.337Z"
   },
   {
    "duration": 216,
    "start_time": "2024-03-03T14:43:26.538Z"
   },
   {
    "duration": 43,
    "start_time": "2024-03-03T14:43:26.756Z"
   },
   {
    "duration": 18,
    "start_time": "2024-03-03T14:43:26.801Z"
   },
   {
    "duration": 25,
    "start_time": "2024-03-03T14:43:26.821Z"
   },
   {
    "duration": 11151,
    "start_time": "2024-03-03T14:43:26.847Z"
   },
   {
    "duration": 10,
    "start_time": "2024-03-03T14:43:38.000Z"
   },
   {
    "duration": 18,
    "start_time": "2024-03-03T14:43:38.012Z"
   },
   {
    "duration": 152,
    "start_time": "2024-03-03T14:43:38.032Z"
   },
   {
    "duration": 13,
    "start_time": "2024-03-03T14:43:38.186Z"
   },
   {
    "duration": 11,
    "start_time": "2024-03-03T14:43:38.201Z"
   },
   {
    "duration": 8,
    "start_time": "2024-03-03T14:43:38.213Z"
   },
   {
    "duration": 16,
    "start_time": "2024-03-03T14:43:38.223Z"
   },
   {
    "duration": 52,
    "start_time": "2024-03-03T14:43:38.241Z"
   },
   {
    "duration": 9,
    "start_time": "2024-03-03T14:43:38.295Z"
   },
   {
    "duration": 14,
    "start_time": "2024-03-03T14:43:38.306Z"
   },
   {
    "duration": 12,
    "start_time": "2024-03-03T14:43:38.322Z"
   },
   {
    "duration": 4,
    "start_time": "2024-03-03T14:43:38.336Z"
   },
   {
    "duration": 11,
    "start_time": "2024-03-03T14:43:38.342Z"
   },
   {
    "duration": 91,
    "start_time": "2024-03-03T14:44:13.255Z"
   },
   {
    "duration": 91,
    "start_time": "2024-03-03T14:44:41.867Z"
   },
   {
    "duration": 90,
    "start_time": "2024-03-03T14:44:49.581Z"
   },
   {
    "duration": 16,
    "start_time": "2024-03-03T14:45:00.500Z"
   },
   {
    "duration": 20,
    "start_time": "2024-03-03T14:45:30.676Z"
   },
   {
    "duration": 15,
    "start_time": "2024-03-03T14:45:36.134Z"
   },
   {
    "duration": 13,
    "start_time": "2024-03-03T14:45:42.063Z"
   },
   {
    "duration": 15,
    "start_time": "2024-03-03T14:45:50.777Z"
   },
   {
    "duration": 23,
    "start_time": "2024-03-03T14:46:53.234Z"
   },
   {
    "duration": 207,
    "start_time": "2024-03-03T14:54:37.144Z"
   },
   {
    "duration": 209,
    "start_time": "2024-03-03T14:55:09.600Z"
   },
   {
    "duration": 206,
    "start_time": "2024-03-03T14:55:15.381Z"
   },
   {
    "duration": 198,
    "start_time": "2024-03-03T14:55:23.554Z"
   },
   {
    "duration": 193,
    "start_time": "2024-03-03T14:55:56.441Z"
   },
   {
    "duration": 309,
    "start_time": "2024-03-03T14:56:02.483Z"
   },
   {
    "duration": 216,
    "start_time": "2024-03-03T14:56:40.920Z"
   },
   {
    "duration": 225,
    "start_time": "2024-03-03T14:56:52.576Z"
   },
   {
    "duration": 109,
    "start_time": "2024-03-03T15:03:23.084Z"
   },
   {
    "duration": 12,
    "start_time": "2024-03-03T15:03:42.152Z"
   },
   {
    "duration": 8,
    "start_time": "2024-03-03T15:12:40.238Z"
   },
   {
    "duration": 1263,
    "start_time": "2024-03-03T15:12:51.602Z"
   },
   {
    "duration": 70,
    "start_time": "2024-03-03T15:12:52.867Z"
   },
   {
    "duration": 12,
    "start_time": "2024-03-03T15:12:52.938Z"
   },
   {
    "duration": 8,
    "start_time": "2024-03-03T15:12:52.952Z"
   },
   {
    "duration": 15,
    "start_time": "2024-03-03T15:12:52.962Z"
   },
   {
    "duration": 7,
    "start_time": "2024-03-03T15:12:52.978Z"
   },
   {
    "duration": 10,
    "start_time": "2024-03-03T15:12:52.987Z"
   },
   {
    "duration": 8,
    "start_time": "2024-03-03T15:12:52.998Z"
   },
   {
    "duration": 17,
    "start_time": "2024-03-03T15:12:53.008Z"
   },
   {
    "duration": 11,
    "start_time": "2024-03-03T15:12:53.026Z"
   },
   {
    "duration": 20,
    "start_time": "2024-03-03T15:12:53.039Z"
   },
   {
    "duration": 36,
    "start_time": "2024-03-03T15:12:53.061Z"
   },
   {
    "duration": 11,
    "start_time": "2024-03-03T15:12:53.099Z"
   },
   {
    "duration": 3,
    "start_time": "2024-03-03T15:12:53.115Z"
   },
   {
    "duration": 10,
    "start_time": "2024-03-03T15:12:53.119Z"
   },
   {
    "duration": 17,
    "start_time": "2024-03-03T15:12:53.131Z"
   },
   {
    "duration": 43,
    "start_time": "2024-03-03T15:12:53.149Z"
   },
   {
    "duration": 7,
    "start_time": "2024-03-03T15:12:53.194Z"
   },
   {
    "duration": 16,
    "start_time": "2024-03-03T15:12:53.202Z"
   },
   {
    "duration": 22,
    "start_time": "2024-03-03T15:12:53.219Z"
   },
   {
    "duration": 8,
    "start_time": "2024-03-03T15:12:53.243Z"
   },
   {
    "duration": 179,
    "start_time": "2024-03-03T15:12:53.252Z"
   },
   {
    "duration": 6,
    "start_time": "2024-03-03T15:12:53.433Z"
   },
   {
    "duration": 105,
    "start_time": "2024-03-03T15:12:53.441Z"
   },
   {
    "duration": 262,
    "start_time": "2024-03-03T15:12:53.548Z"
   },
   {
    "duration": 9,
    "start_time": "2024-03-03T15:12:53.812Z"
   },
   {
    "duration": 29,
    "start_time": "2024-03-03T15:12:53.823Z"
   },
   {
    "duration": 238,
    "start_time": "2024-03-03T15:12:53.854Z"
   },
   {
    "duration": 9,
    "start_time": "2024-03-03T15:12:54.093Z"
   },
   {
    "duration": 218,
    "start_time": "2024-03-03T15:12:54.104Z"
   },
   {
    "duration": 204,
    "start_time": "2024-03-03T15:12:54.324Z"
   },
   {
    "duration": 11,
    "start_time": "2024-03-03T15:12:54.529Z"
   },
   {
    "duration": 15,
    "start_time": "2024-03-03T15:12:54.542Z"
   },
   {
    "duration": 28,
    "start_time": "2024-03-03T15:12:54.558Z"
   },
   {
    "duration": 28,
    "start_time": "2024-03-03T15:12:54.587Z"
   },
   {
    "duration": 14,
    "start_time": "2024-03-03T15:12:54.617Z"
   },
   {
    "duration": 20,
    "start_time": "2024-03-03T15:12:54.633Z"
   },
   {
    "duration": 38,
    "start_time": "2024-03-03T15:12:54.655Z"
   },
   {
    "duration": 288,
    "start_time": "2024-03-03T15:12:54.695Z"
   },
   {
    "duration": 210,
    "start_time": "2024-03-03T15:12:54.985Z"
   },
   {
    "duration": 45,
    "start_time": "2024-03-03T15:12:55.199Z"
   },
   {
    "duration": 16,
    "start_time": "2024-03-03T15:12:55.247Z"
   },
   {
    "duration": 240,
    "start_time": "2024-03-03T15:12:55.265Z"
   },
   {
    "duration": 225,
    "start_time": "2024-03-03T15:12:55.507Z"
   },
   {
    "duration": 35,
    "start_time": "2024-03-03T15:12:55.734Z"
   },
   {
    "duration": 20,
    "start_time": "2024-03-03T15:12:55.791Z"
   },
   {
    "duration": 114,
    "start_time": "2024-03-03T15:12:55.813Z"
   },
   {
    "duration": 0,
    "start_time": "2024-03-03T15:12:55.929Z"
   },
   {
    "duration": 0,
    "start_time": "2024-03-03T15:12:55.931Z"
   },
   {
    "duration": 0,
    "start_time": "2024-03-03T15:12:55.932Z"
   },
   {
    "duration": 0,
    "start_time": "2024-03-03T15:12:55.934Z"
   },
   {
    "duration": 0,
    "start_time": "2024-03-03T15:12:55.935Z"
   },
   {
    "duration": 0,
    "start_time": "2024-03-03T15:12:55.937Z"
   },
   {
    "duration": 0,
    "start_time": "2024-03-03T15:12:55.938Z"
   },
   {
    "duration": 0,
    "start_time": "2024-03-03T15:12:55.939Z"
   },
   {
    "duration": 0,
    "start_time": "2024-03-03T15:12:55.941Z"
   },
   {
    "duration": 0,
    "start_time": "2024-03-03T15:12:55.942Z"
   },
   {
    "duration": 0,
    "start_time": "2024-03-03T15:12:55.943Z"
   },
   {
    "duration": 0,
    "start_time": "2024-03-03T15:12:55.944Z"
   },
   {
    "duration": 0,
    "start_time": "2024-03-03T15:12:55.946Z"
   },
   {
    "duration": 0,
    "start_time": "2024-03-03T15:12:55.947Z"
   },
   {
    "duration": 0,
    "start_time": "2024-03-03T15:12:55.949Z"
   },
   {
    "duration": 1212,
    "start_time": "2024-03-03T15:13:14.279Z"
   },
   {
    "duration": 71,
    "start_time": "2024-03-03T15:13:15.493Z"
   },
   {
    "duration": 12,
    "start_time": "2024-03-03T15:13:15.566Z"
   },
   {
    "duration": 27,
    "start_time": "2024-03-03T15:13:15.580Z"
   },
   {
    "duration": 39,
    "start_time": "2024-03-03T15:13:15.609Z"
   },
   {
    "duration": 71,
    "start_time": "2024-03-03T15:13:15.650Z"
   },
   {
    "duration": 59,
    "start_time": "2024-03-03T15:13:15.723Z"
   },
   {
    "duration": 61,
    "start_time": "2024-03-03T15:13:15.783Z"
   },
   {
    "duration": 49,
    "start_time": "2024-03-03T15:13:15.846Z"
   },
   {
    "duration": 31,
    "start_time": "2024-03-03T15:13:15.897Z"
   },
   {
    "duration": 31,
    "start_time": "2024-03-03T15:13:15.929Z"
   },
   {
    "duration": 16,
    "start_time": "2024-03-03T15:13:15.962Z"
   },
   {
    "duration": 23,
    "start_time": "2024-03-03T15:13:15.979Z"
   },
   {
    "duration": 22,
    "start_time": "2024-03-03T15:13:16.005Z"
   },
   {
    "duration": 12,
    "start_time": "2024-03-03T15:13:16.029Z"
   },
   {
    "duration": 31,
    "start_time": "2024-03-03T15:13:16.043Z"
   },
   {
    "duration": 30,
    "start_time": "2024-03-03T15:13:16.076Z"
   },
   {
    "duration": 17,
    "start_time": "2024-03-03T15:13:16.108Z"
   },
   {
    "duration": 13,
    "start_time": "2024-03-03T15:13:16.127Z"
   },
   {
    "duration": 31,
    "start_time": "2024-03-03T15:13:16.142Z"
   },
   {
    "duration": 25,
    "start_time": "2024-03-03T15:13:16.174Z"
   },
   {
    "duration": 173,
    "start_time": "2024-03-03T15:13:16.201Z"
   },
   {
    "duration": 5,
    "start_time": "2024-03-03T15:13:16.376Z"
   },
   {
    "duration": 114,
    "start_time": "2024-03-03T15:13:16.383Z"
   },
   {
    "duration": 264,
    "start_time": "2024-03-03T15:13:16.498Z"
   },
   {
    "duration": 10,
    "start_time": "2024-03-03T15:13:16.764Z"
   },
   {
    "duration": 19,
    "start_time": "2024-03-03T15:13:16.791Z"
   },
   {
    "duration": 226,
    "start_time": "2024-03-03T15:13:16.812Z"
   },
   {
    "duration": 8,
    "start_time": "2024-03-03T15:13:17.039Z"
   },
   {
    "duration": 221,
    "start_time": "2024-03-03T15:13:17.048Z"
   },
   {
    "duration": 214,
    "start_time": "2024-03-03T15:13:17.271Z"
   },
   {
    "duration": 10,
    "start_time": "2024-03-03T15:13:17.491Z"
   },
   {
    "duration": 30,
    "start_time": "2024-03-03T15:13:17.502Z"
   },
   {
    "duration": 11,
    "start_time": "2024-03-03T15:13:17.534Z"
   },
   {
    "duration": 34,
    "start_time": "2024-03-03T15:13:17.546Z"
   },
   {
    "duration": 33,
    "start_time": "2024-03-03T15:13:17.582Z"
   },
   {
    "duration": 27,
    "start_time": "2024-03-03T15:13:17.617Z"
   },
   {
    "duration": 24,
    "start_time": "2024-03-03T15:13:17.645Z"
   },
   {
    "duration": 287,
    "start_time": "2024-03-03T15:13:17.671Z"
   },
   {
    "duration": 215,
    "start_time": "2024-03-03T15:13:17.960Z"
   },
   {
    "duration": 39,
    "start_time": "2024-03-03T15:13:18.179Z"
   },
   {
    "duration": 14,
    "start_time": "2024-03-03T15:13:18.220Z"
   },
   {
    "duration": 222,
    "start_time": "2024-03-03T15:13:18.236Z"
   },
   {
    "duration": 227,
    "start_time": "2024-03-03T15:13:18.460Z"
   },
   {
    "duration": 32,
    "start_time": "2024-03-03T15:13:18.691Z"
   },
   {
    "duration": 20,
    "start_time": "2024-03-03T15:13:18.725Z"
   },
   {
    "duration": 124,
    "start_time": "2024-03-03T15:13:18.746Z"
   },
   {
    "duration": 0,
    "start_time": "2024-03-03T15:13:18.872Z"
   },
   {
    "duration": 0,
    "start_time": "2024-03-03T15:13:18.873Z"
   },
   {
    "duration": 0,
    "start_time": "2024-03-03T15:13:18.874Z"
   },
   {
    "duration": 0,
    "start_time": "2024-03-03T15:13:18.891Z"
   },
   {
    "duration": 0,
    "start_time": "2024-03-03T15:13:18.892Z"
   },
   {
    "duration": 0,
    "start_time": "2024-03-03T15:13:18.893Z"
   },
   {
    "duration": 0,
    "start_time": "2024-03-03T15:13:18.894Z"
   },
   {
    "duration": 0,
    "start_time": "2024-03-03T15:13:18.895Z"
   },
   {
    "duration": 0,
    "start_time": "2024-03-03T15:13:18.896Z"
   },
   {
    "duration": 0,
    "start_time": "2024-03-03T15:13:18.897Z"
   },
   {
    "duration": 0,
    "start_time": "2024-03-03T15:13:18.898Z"
   },
   {
    "duration": 0,
    "start_time": "2024-03-03T15:13:18.899Z"
   },
   {
    "duration": 0,
    "start_time": "2024-03-03T15:13:18.900Z"
   },
   {
    "duration": 0,
    "start_time": "2024-03-03T15:13:18.901Z"
   },
   {
    "duration": 0,
    "start_time": "2024-03-03T15:13:18.901Z"
   },
   {
    "duration": 1186,
    "start_time": "2024-03-03T15:13:47.090Z"
   },
   {
    "duration": 69,
    "start_time": "2024-03-03T15:13:48.278Z"
   },
   {
    "duration": 14,
    "start_time": "2024-03-03T15:13:48.349Z"
   },
   {
    "duration": 28,
    "start_time": "2024-03-03T15:13:48.366Z"
   },
   {
    "duration": 44,
    "start_time": "2024-03-03T15:13:48.396Z"
   },
   {
    "duration": 14,
    "start_time": "2024-03-03T15:13:48.443Z"
   },
   {
    "duration": 41,
    "start_time": "2024-03-03T15:13:48.459Z"
   },
   {
    "duration": 37,
    "start_time": "2024-03-03T15:13:48.502Z"
   },
   {
    "duration": 34,
    "start_time": "2024-03-03T15:13:48.541Z"
   },
   {
    "duration": 37,
    "start_time": "2024-03-03T15:13:48.578Z"
   },
   {
    "duration": 28,
    "start_time": "2024-03-03T15:13:48.617Z"
   },
   {
    "duration": 38,
    "start_time": "2024-03-03T15:13:48.647Z"
   },
   {
    "duration": 48,
    "start_time": "2024-03-03T15:13:48.687Z"
   },
   {
    "duration": 61,
    "start_time": "2024-03-03T15:13:48.736Z"
   },
   {
    "duration": 23,
    "start_time": "2024-03-03T15:13:48.798Z"
   },
   {
    "duration": 37,
    "start_time": "2024-03-03T15:13:48.823Z"
   },
   {
    "duration": 51,
    "start_time": "2024-03-03T15:13:48.861Z"
   },
   {
    "duration": 26,
    "start_time": "2024-03-03T15:13:48.914Z"
   },
   {
    "duration": 31,
    "start_time": "2024-03-03T15:13:48.942Z"
   },
   {
    "duration": 29,
    "start_time": "2024-03-03T15:13:48.975Z"
   },
   {
    "duration": 21,
    "start_time": "2024-03-03T15:13:49.006Z"
   },
   {
    "duration": 191,
    "start_time": "2024-03-03T15:13:49.029Z"
   },
   {
    "duration": 6,
    "start_time": "2024-03-03T15:13:49.221Z"
   },
   {
    "duration": 126,
    "start_time": "2024-03-03T15:13:49.229Z"
   },
   {
    "duration": 260,
    "start_time": "2024-03-03T15:13:49.357Z"
   },
   {
    "duration": 10,
    "start_time": "2024-03-03T15:13:49.618Z"
   },
   {
    "duration": 13,
    "start_time": "2024-03-03T15:13:49.629Z"
   },
   {
    "duration": 253,
    "start_time": "2024-03-03T15:13:49.647Z"
   },
   {
    "duration": 8,
    "start_time": "2024-03-03T15:13:49.902Z"
   },
   {
    "duration": 225,
    "start_time": "2024-03-03T15:13:49.911Z"
   },
   {
    "duration": 200,
    "start_time": "2024-03-03T15:13:50.138Z"
   },
   {
    "duration": 11,
    "start_time": "2024-03-03T15:13:50.339Z"
   },
   {
    "duration": 31,
    "start_time": "2024-03-03T15:13:50.352Z"
   },
   {
    "duration": 8,
    "start_time": "2024-03-03T15:13:50.384Z"
   },
   {
    "duration": 26,
    "start_time": "2024-03-03T15:13:50.394Z"
   },
   {
    "duration": 14,
    "start_time": "2024-03-03T15:13:50.422Z"
   },
   {
    "duration": 44,
    "start_time": "2024-03-03T15:13:50.438Z"
   },
   {
    "duration": 66,
    "start_time": "2024-03-03T15:13:50.483Z"
   },
   {
    "duration": 307,
    "start_time": "2024-03-03T15:13:50.550Z"
   },
   {
    "duration": 227,
    "start_time": "2024-03-03T15:13:50.859Z"
   },
   {
    "duration": 35,
    "start_time": "2024-03-03T15:13:51.091Z"
   },
   {
    "duration": 20,
    "start_time": "2024-03-03T15:13:51.128Z"
   },
   {
    "duration": 264,
    "start_time": "2024-03-03T15:13:51.149Z"
   },
   {
    "duration": 230,
    "start_time": "2024-03-03T15:13:51.415Z"
   },
   {
    "duration": 33,
    "start_time": "2024-03-03T15:13:51.647Z"
   },
   {
    "duration": 20,
    "start_time": "2024-03-03T15:13:51.692Z"
   },
   {
    "duration": 121,
    "start_time": "2024-03-03T15:13:51.713Z"
   },
   {
    "duration": 1,
    "start_time": "2024-03-03T15:13:51.835Z"
   },
   {
    "duration": 0,
    "start_time": "2024-03-03T15:13:51.837Z"
   },
   {
    "duration": 0,
    "start_time": "2024-03-03T15:13:51.838Z"
   },
   {
    "duration": 0,
    "start_time": "2024-03-03T15:13:51.840Z"
   },
   {
    "duration": 0,
    "start_time": "2024-03-03T15:13:51.841Z"
   },
   {
    "duration": 0,
    "start_time": "2024-03-03T15:13:51.842Z"
   },
   {
    "duration": 0,
    "start_time": "2024-03-03T15:13:51.843Z"
   },
   {
    "duration": 0,
    "start_time": "2024-03-03T15:13:51.844Z"
   },
   {
    "duration": 0,
    "start_time": "2024-03-03T15:13:51.846Z"
   },
   {
    "duration": 0,
    "start_time": "2024-03-03T15:13:51.847Z"
   },
   {
    "duration": 0,
    "start_time": "2024-03-03T15:13:51.848Z"
   },
   {
    "duration": 0,
    "start_time": "2024-03-03T15:13:51.849Z"
   },
   {
    "duration": 0,
    "start_time": "2024-03-03T15:13:51.851Z"
   },
   {
    "duration": 0,
    "start_time": "2024-03-03T15:13:51.852Z"
   },
   {
    "duration": 0,
    "start_time": "2024-03-03T15:13:51.853Z"
   },
   {
    "duration": 3,
    "start_time": "2024-03-03T15:14:03.962Z"
   },
   {
    "duration": 4,
    "start_time": "2024-03-03T15:14:24.713Z"
   },
   {
    "duration": 26,
    "start_time": "2024-03-03T15:14:31.426Z"
   },
   {
    "duration": 11497,
    "start_time": "2024-03-03T15:14:31.946Z"
   },
   {
    "duration": 18,
    "start_time": "2024-03-03T15:15:09.107Z"
   },
   {
    "duration": 4,
    "start_time": "2024-03-03T15:15:30.611Z"
   },
   {
    "duration": 1224,
    "start_time": "2024-03-03T15:15:39.559Z"
   },
   {
    "duration": 69,
    "start_time": "2024-03-03T15:15:40.785Z"
   },
   {
    "duration": 17,
    "start_time": "2024-03-03T15:15:40.856Z"
   },
   {
    "duration": 27,
    "start_time": "2024-03-03T15:15:40.875Z"
   },
   {
    "duration": 28,
    "start_time": "2024-03-03T15:15:40.904Z"
   },
   {
    "duration": 75,
    "start_time": "2024-03-03T15:15:40.934Z"
   },
   {
    "duration": 19,
    "start_time": "2024-03-03T15:15:41.011Z"
   },
   {
    "duration": 14,
    "start_time": "2024-03-03T15:15:41.032Z"
   },
   {
    "duration": 73,
    "start_time": "2024-03-03T15:15:41.047Z"
   },
   {
    "duration": 16,
    "start_time": "2024-03-03T15:15:41.123Z"
   },
   {
    "duration": 33,
    "start_time": "2024-03-03T15:15:41.141Z"
   },
   {
    "duration": 16,
    "start_time": "2024-03-03T15:15:41.176Z"
   },
   {
    "duration": 19,
    "start_time": "2024-03-03T15:15:41.194Z"
   },
   {
    "duration": 14,
    "start_time": "2024-03-03T15:15:41.215Z"
   },
   {
    "duration": 12,
    "start_time": "2024-03-03T15:15:41.231Z"
   },
   {
    "duration": 23,
    "start_time": "2024-03-03T15:15:41.245Z"
   },
   {
    "duration": 32,
    "start_time": "2024-03-03T15:15:41.270Z"
   },
   {
    "duration": 26,
    "start_time": "2024-03-03T15:15:41.303Z"
   },
   {
    "duration": 13,
    "start_time": "2024-03-03T15:15:41.331Z"
   },
   {
    "duration": 11,
    "start_time": "2024-03-03T15:15:41.345Z"
   },
   {
    "duration": 12,
    "start_time": "2024-03-03T15:15:41.357Z"
   },
   {
    "duration": 173,
    "start_time": "2024-03-03T15:15:41.371Z"
   },
   {
    "duration": 6,
    "start_time": "2024-03-03T15:15:41.546Z"
   },
   {
    "duration": 113,
    "start_time": "2024-03-03T15:15:41.554Z"
   },
   {
    "duration": 264,
    "start_time": "2024-03-03T15:15:41.668Z"
   },
   {
    "duration": 10,
    "start_time": "2024-03-03T15:15:41.934Z"
   },
   {
    "duration": 26,
    "start_time": "2024-03-03T15:15:41.945Z"
   },
   {
    "duration": 215,
    "start_time": "2024-03-03T15:15:41.976Z"
   },
   {
    "duration": 7,
    "start_time": "2024-03-03T15:15:42.193Z"
   },
   {
    "duration": 225,
    "start_time": "2024-03-03T15:15:42.202Z"
   },
   {
    "duration": 197,
    "start_time": "2024-03-03T15:15:42.429Z"
   },
   {
    "duration": 12,
    "start_time": "2024-03-03T15:15:42.628Z"
   },
   {
    "duration": 27,
    "start_time": "2024-03-03T15:15:42.642Z"
   },
   {
    "duration": 25,
    "start_time": "2024-03-03T15:15:42.671Z"
   },
   {
    "duration": 22,
    "start_time": "2024-03-03T15:15:42.698Z"
   },
   {
    "duration": 14,
    "start_time": "2024-03-03T15:15:42.722Z"
   },
   {
    "duration": 20,
    "start_time": "2024-03-03T15:15:42.738Z"
   },
   {
    "duration": 40,
    "start_time": "2024-03-03T15:15:42.759Z"
   },
   {
    "duration": 293,
    "start_time": "2024-03-03T15:15:42.801Z"
   },
   {
    "duration": 211,
    "start_time": "2024-03-03T15:15:43.095Z"
   },
   {
    "duration": 34,
    "start_time": "2024-03-03T15:15:43.307Z"
   },
   {
    "duration": 15,
    "start_time": "2024-03-03T15:15:43.343Z"
   },
   {
    "duration": 242,
    "start_time": "2024-03-03T15:15:43.360Z"
   },
   {
    "duration": 230,
    "start_time": "2024-03-03T15:15:43.603Z"
   },
   {
    "duration": 34,
    "start_time": "2024-03-03T15:15:43.834Z"
   },
   {
    "duration": 38,
    "start_time": "2024-03-03T15:15:43.869Z"
   },
   {
    "duration": 22,
    "start_time": "2024-03-03T15:15:43.910Z"
   },
   {
    "duration": 38,
    "start_time": "2024-03-03T15:15:43.933Z"
   },
   {
    "duration": 11361,
    "start_time": "2024-03-03T15:15:43.972Z"
   },
   {
    "duration": 13,
    "start_time": "2024-03-03T15:15:55.335Z"
   },
   {
    "duration": 17,
    "start_time": "2024-03-03T15:15:55.351Z"
   },
   {
    "duration": 145,
    "start_time": "2024-03-03T15:15:55.370Z"
   },
   {
    "duration": 20,
    "start_time": "2024-03-03T15:15:55.516Z"
   },
   {
    "duration": 13,
    "start_time": "2024-03-03T15:15:55.537Z"
   },
   {
    "duration": 12,
    "start_time": "2024-03-03T15:15:55.551Z"
   },
   {
    "duration": 29,
    "start_time": "2024-03-03T15:15:55.564Z"
   },
   {
    "duration": 22,
    "start_time": "2024-03-03T15:15:55.594Z"
   },
   {
    "duration": 37,
    "start_time": "2024-03-03T15:15:55.617Z"
   },
   {
    "duration": 10,
    "start_time": "2024-03-03T15:15:55.655Z"
   },
   {
    "duration": 29,
    "start_time": "2024-03-03T15:15:55.667Z"
   },
   {
    "duration": 11,
    "start_time": "2024-03-03T15:15:55.698Z"
   },
   {
    "duration": 5,
    "start_time": "2024-03-03T15:15:55.711Z"
   },
   {
    "duration": 7,
    "start_time": "2024-03-03T15:15:55.717Z"
   },
   {
    "duration": 20,
    "start_time": "2024-03-03T15:16:31.920Z"
   },
   {
    "duration": 22,
    "start_time": "2024-03-03T15:27:00.435Z"
   },
   {
    "duration": 10,
    "start_time": "2024-03-03T15:28:42.860Z"
   },
   {
    "duration": 26,
    "start_time": "2024-03-03T15:29:34.017Z"
   },
   {
    "duration": 1242,
    "start_time": "2024-03-03T15:30:20.893Z"
   },
   {
    "duration": 69,
    "start_time": "2024-03-03T15:30:22.137Z"
   },
   {
    "duration": 14,
    "start_time": "2024-03-03T15:30:22.207Z"
   },
   {
    "duration": 9,
    "start_time": "2024-03-03T15:30:22.223Z"
   },
   {
    "duration": 10,
    "start_time": "2024-03-03T15:30:22.233Z"
   },
   {
    "duration": 7,
    "start_time": "2024-03-03T15:30:22.245Z"
   },
   {
    "duration": 11,
    "start_time": "2024-03-03T15:30:22.253Z"
   },
   {
    "duration": 30,
    "start_time": "2024-03-03T15:30:22.266Z"
   },
   {
    "duration": 65,
    "start_time": "2024-03-03T15:30:22.297Z"
   },
   {
    "duration": 33,
    "start_time": "2024-03-03T15:30:22.364Z"
   },
   {
    "duration": 32,
    "start_time": "2024-03-03T15:30:22.399Z"
   },
   {
    "duration": 25,
    "start_time": "2024-03-03T15:30:22.433Z"
   },
   {
    "duration": 24,
    "start_time": "2024-03-03T15:30:22.460Z"
   },
   {
    "duration": 18,
    "start_time": "2024-03-03T15:30:22.485Z"
   },
   {
    "duration": 10,
    "start_time": "2024-03-03T15:30:22.505Z"
   },
   {
    "duration": 16,
    "start_time": "2024-03-03T15:30:22.517Z"
   },
   {
    "duration": 25,
    "start_time": "2024-03-03T15:30:22.535Z"
   },
   {
    "duration": 8,
    "start_time": "2024-03-03T15:30:22.561Z"
   },
   {
    "duration": 22,
    "start_time": "2024-03-03T15:30:22.570Z"
   },
   {
    "duration": 5,
    "start_time": "2024-03-03T15:30:22.593Z"
   },
   {
    "duration": 7,
    "start_time": "2024-03-03T15:30:22.599Z"
   },
   {
    "duration": 183,
    "start_time": "2024-03-03T15:30:22.607Z"
   },
   {
    "duration": 7,
    "start_time": "2024-03-03T15:30:22.792Z"
   },
   {
    "duration": 74,
    "start_time": "2024-03-03T15:30:22.800Z"
   },
   {
    "duration": 266,
    "start_time": "2024-03-03T15:30:22.892Z"
   },
   {
    "duration": 11,
    "start_time": "2024-03-03T15:30:23.159Z"
   },
   {
    "duration": 26,
    "start_time": "2024-03-03T15:30:23.171Z"
   },
   {
    "duration": 222,
    "start_time": "2024-03-03T15:30:23.203Z"
   },
   {
    "duration": 7,
    "start_time": "2024-03-03T15:30:23.426Z"
   },
   {
    "duration": 220,
    "start_time": "2024-03-03T15:30:23.435Z"
   },
   {
    "duration": 206,
    "start_time": "2024-03-03T15:30:23.657Z"
   },
   {
    "duration": 10,
    "start_time": "2024-03-03T15:30:23.865Z"
   },
   {
    "duration": 24,
    "start_time": "2024-03-03T15:30:23.876Z"
   },
   {
    "duration": 7,
    "start_time": "2024-03-03T15:30:23.902Z"
   },
   {
    "duration": 29,
    "start_time": "2024-03-03T15:30:23.910Z"
   },
   {
    "duration": 15,
    "start_time": "2024-03-03T15:30:23.940Z"
   },
   {
    "duration": 11,
    "start_time": "2024-03-03T15:30:23.992Z"
   },
   {
    "duration": 20,
    "start_time": "2024-03-03T15:30:24.005Z"
   },
   {
    "duration": 318,
    "start_time": "2024-03-03T15:30:24.027Z"
   },
   {
    "duration": 219,
    "start_time": "2024-03-03T15:30:24.347Z"
   },
   {
    "duration": 49,
    "start_time": "2024-03-03T15:30:24.568Z"
   },
   {
    "duration": 16,
    "start_time": "2024-03-03T15:30:24.619Z"
   },
   {
    "duration": 216,
    "start_time": "2024-03-03T15:30:24.636Z"
   },
   {
    "duration": 217,
    "start_time": "2024-03-03T15:30:24.853Z"
   },
   {
    "duration": 45,
    "start_time": "2024-03-03T15:30:25.072Z"
   },
   {
    "duration": 18,
    "start_time": "2024-03-03T15:30:25.119Z"
   },
   {
    "duration": 19,
    "start_time": "2024-03-03T15:30:25.139Z"
   },
   {
    "duration": 43,
    "start_time": "2024-03-03T15:30:25.166Z"
   },
   {
    "duration": 11253,
    "start_time": "2024-03-03T15:30:25.211Z"
   },
   {
    "duration": 9,
    "start_time": "2024-03-03T15:30:36.465Z"
   },
   {
    "duration": 3,
    "start_time": "2024-03-03T15:30:36.476Z"
   },
   {
    "duration": 142,
    "start_time": "2024-03-03T15:30:36.481Z"
   },
   {
    "duration": 18,
    "start_time": "2024-03-03T15:30:36.625Z"
   },
   {
    "duration": 14,
    "start_time": "2024-03-03T15:30:36.645Z"
   },
   {
    "duration": 31,
    "start_time": "2024-03-03T15:30:36.661Z"
   },
   {
    "duration": 5,
    "start_time": "2024-03-03T15:30:36.694Z"
   },
   {
    "duration": 12,
    "start_time": "2024-03-03T15:30:36.700Z"
   },
   {
    "duration": 35,
    "start_time": "2024-03-03T15:30:36.714Z"
   },
   {
    "duration": 12,
    "start_time": "2024-03-03T15:30:36.751Z"
   },
   {
    "duration": 39,
    "start_time": "2024-03-03T15:30:36.764Z"
   },
   {
    "duration": 31,
    "start_time": "2024-03-03T15:30:36.805Z"
   },
   {
    "duration": 5,
    "start_time": "2024-03-03T15:30:36.838Z"
   },
   {
    "duration": 8,
    "start_time": "2024-03-03T15:30:36.844Z"
   },
   {
    "duration": 128,
    "start_time": "2024-03-03T15:35:23.071Z"
   },
   {
    "duration": 128,
    "start_time": "2024-03-03T15:35:34.162Z"
   },
   {
    "duration": 14,
    "start_time": "2024-03-03T15:35:35.332Z"
   },
   {
    "duration": 1157,
    "start_time": "2024-03-03T15:36:08.343Z"
   },
   {
    "duration": 70,
    "start_time": "2024-03-03T15:36:09.507Z"
   },
   {
    "duration": 13,
    "start_time": "2024-03-03T15:36:09.581Z"
   },
   {
    "duration": 13,
    "start_time": "2024-03-03T15:36:09.596Z"
   },
   {
    "duration": 8,
    "start_time": "2024-03-03T15:36:09.611Z"
   },
   {
    "duration": 9,
    "start_time": "2024-03-03T15:36:09.620Z"
   },
   {
    "duration": 14,
    "start_time": "2024-03-03T15:36:09.631Z"
   },
   {
    "duration": 12,
    "start_time": "2024-03-03T15:36:09.647Z"
   },
   {
    "duration": 59,
    "start_time": "2024-03-03T15:36:09.660Z"
   },
   {
    "duration": 13,
    "start_time": "2024-03-03T15:36:09.721Z"
   },
   {
    "duration": 20,
    "start_time": "2024-03-03T15:36:09.735Z"
   },
   {
    "duration": 9,
    "start_time": "2024-03-03T15:36:09.757Z"
   },
   {
    "duration": 7,
    "start_time": "2024-03-03T15:36:09.792Z"
   },
   {
    "duration": 14,
    "start_time": "2024-03-03T15:36:09.805Z"
   },
   {
    "duration": 11,
    "start_time": "2024-03-03T15:36:09.821Z"
   },
   {
    "duration": 40,
    "start_time": "2024-03-03T15:36:09.834Z"
   },
   {
    "duration": 34,
    "start_time": "2024-03-03T15:36:09.876Z"
   },
   {
    "duration": 16,
    "start_time": "2024-03-03T15:36:09.911Z"
   },
   {
    "duration": 10,
    "start_time": "2024-03-03T15:36:09.928Z"
   },
   {
    "duration": 6,
    "start_time": "2024-03-03T15:36:09.939Z"
   },
   {
    "duration": 7,
    "start_time": "2024-03-03T15:36:09.946Z"
   },
   {
    "duration": 211,
    "start_time": "2024-03-03T15:36:09.955Z"
   },
   {
    "duration": 6,
    "start_time": "2024-03-03T15:36:10.168Z"
   },
   {
    "duration": 126,
    "start_time": "2024-03-03T15:36:10.176Z"
   },
   {
    "duration": 271,
    "start_time": "2024-03-03T15:36:10.305Z"
   },
   {
    "duration": 10,
    "start_time": "2024-03-03T15:36:10.578Z"
   },
   {
    "duration": 20,
    "start_time": "2024-03-03T15:36:10.589Z"
   },
   {
    "duration": 234,
    "start_time": "2024-03-03T15:36:10.611Z"
   },
   {
    "duration": 7,
    "start_time": "2024-03-03T15:36:10.846Z"
   },
   {
    "duration": 257,
    "start_time": "2024-03-03T15:36:10.855Z"
   },
   {
    "duration": 229,
    "start_time": "2024-03-03T15:36:11.114Z"
   },
   {
    "duration": 11,
    "start_time": "2024-03-03T15:36:11.345Z"
   },
   {
    "duration": 14,
    "start_time": "2024-03-03T15:36:11.357Z"
   },
   {
    "duration": 29,
    "start_time": "2024-03-03T15:36:11.373Z"
   },
   {
    "duration": 23,
    "start_time": "2024-03-03T15:36:11.405Z"
   },
   {
    "duration": 14,
    "start_time": "2024-03-03T15:36:11.430Z"
   },
   {
    "duration": 13,
    "start_time": "2024-03-03T15:36:11.446Z"
   },
   {
    "duration": 24,
    "start_time": "2024-03-03T15:36:11.493Z"
   },
   {
    "duration": 312,
    "start_time": "2024-03-03T15:36:11.518Z"
   },
   {
    "duration": 228,
    "start_time": "2024-03-03T15:36:11.832Z"
   },
   {
    "duration": 46,
    "start_time": "2024-03-03T15:36:12.065Z"
   },
   {
    "duration": 15,
    "start_time": "2024-03-03T15:36:12.113Z"
   },
   {
    "duration": 240,
    "start_time": "2024-03-03T15:36:12.130Z"
   },
   {
    "duration": 267,
    "start_time": "2024-03-03T15:36:12.371Z"
   },
   {
    "duration": 37,
    "start_time": "2024-03-03T15:36:12.640Z"
   },
   {
    "duration": 38,
    "start_time": "2024-03-03T15:36:12.678Z"
   },
   {
    "duration": 18,
    "start_time": "2024-03-03T15:36:12.718Z"
   },
   {
    "duration": 27,
    "start_time": "2024-03-03T15:36:12.738Z"
   },
   {
    "duration": 12294,
    "start_time": "2024-03-03T15:36:12.767Z"
   },
   {
    "duration": 10,
    "start_time": "2024-03-03T15:36:25.063Z"
   },
   {
    "duration": 36,
    "start_time": "2024-03-03T15:36:25.075Z"
   },
   {
    "duration": 161,
    "start_time": "2024-03-03T15:36:25.113Z"
   },
   {
    "duration": 15,
    "start_time": "2024-03-03T15:36:25.276Z"
   },
   {
    "duration": 13,
    "start_time": "2024-03-03T15:36:25.294Z"
   },
   {
    "duration": 44,
    "start_time": "2024-03-03T15:36:25.309Z"
   },
   {
    "duration": 18,
    "start_time": "2024-03-03T15:36:25.355Z"
   },
   {
    "duration": 69,
    "start_time": "2024-03-03T15:36:25.375Z"
   },
   {
    "duration": 11,
    "start_time": "2024-03-03T15:36:25.445Z"
   },
   {
    "duration": 40,
    "start_time": "2024-03-03T15:36:25.458Z"
   },
   {
    "duration": 14,
    "start_time": "2024-03-03T15:36:25.500Z"
   },
   {
    "duration": 5,
    "start_time": "2024-03-03T15:36:25.516Z"
   },
   {
    "duration": 29,
    "start_time": "2024-03-03T15:36:25.522Z"
   },
   {
    "duration": 96,
    "start_time": "2024-03-03T16:09:55.123Z"
   },
   {
    "duration": 7,
    "start_time": "2024-03-03T16:12:10.567Z"
   },
   {
    "duration": 7,
    "start_time": "2024-03-03T16:51:37.026Z"
   },
   {
    "duration": 1233,
    "start_time": "2024-03-03T16:51:53.067Z"
   },
   {
    "duration": 69,
    "start_time": "2024-03-03T16:51:54.303Z"
   },
   {
    "duration": 13,
    "start_time": "2024-03-03T16:51:54.373Z"
   },
   {
    "duration": 13,
    "start_time": "2024-03-03T16:51:54.388Z"
   },
   {
    "duration": 9,
    "start_time": "2024-03-03T16:51:54.404Z"
   },
   {
    "duration": 11,
    "start_time": "2024-03-03T16:51:54.415Z"
   },
   {
    "duration": 8,
    "start_time": "2024-03-03T16:51:54.428Z"
   },
   {
    "duration": 6,
    "start_time": "2024-03-03T16:51:54.438Z"
   },
   {
    "duration": 18,
    "start_time": "2024-03-03T16:51:54.446Z"
   },
   {
    "duration": 34,
    "start_time": "2024-03-03T16:51:54.467Z"
   },
   {
    "duration": 15,
    "start_time": "2024-03-03T16:51:54.502Z"
   },
   {
    "duration": 33,
    "start_time": "2024-03-03T16:51:54.519Z"
   },
   {
    "duration": 13,
    "start_time": "2024-03-03T16:51:54.554Z"
   },
   {
    "duration": 10,
    "start_time": "2024-03-03T16:51:54.568Z"
   },
   {
    "duration": 8,
    "start_time": "2024-03-03T16:51:54.579Z"
   },
   {
    "duration": 14,
    "start_time": "2024-03-03T16:51:54.588Z"
   },
   {
    "duration": 32,
    "start_time": "2024-03-03T16:51:54.604Z"
   },
   {
    "duration": 13,
    "start_time": "2024-03-03T16:51:54.638Z"
   },
   {
    "duration": 13,
    "start_time": "2024-03-03T16:51:54.653Z"
   },
   {
    "duration": 7,
    "start_time": "2024-03-03T16:51:54.668Z"
   },
   {
    "duration": 7,
    "start_time": "2024-03-03T16:51:54.677Z"
   },
   {
    "duration": 173,
    "start_time": "2024-03-03T16:51:54.686Z"
   },
   {
    "duration": 6,
    "start_time": "2024-03-03T16:51:54.860Z"
   },
   {
    "duration": 90,
    "start_time": "2024-03-03T16:51:54.868Z"
   },
   {
    "duration": 269,
    "start_time": "2024-03-03T16:51:54.959Z"
   },
   {
    "duration": 10,
    "start_time": "2024-03-03T16:51:55.229Z"
   },
   {
    "duration": 7,
    "start_time": "2024-03-03T16:51:55.240Z"
   },
   {
    "duration": 226,
    "start_time": "2024-03-03T16:51:55.251Z"
   },
   {
    "duration": 14,
    "start_time": "2024-03-03T16:51:55.479Z"
   },
   {
    "duration": 209,
    "start_time": "2024-03-03T16:51:55.495Z"
   },
   {
    "duration": 196,
    "start_time": "2024-03-03T16:51:55.706Z"
   },
   {
    "duration": 11,
    "start_time": "2024-03-03T16:51:55.904Z"
   },
   {
    "duration": 23,
    "start_time": "2024-03-03T16:51:55.917Z"
   },
   {
    "duration": 9,
    "start_time": "2024-03-03T16:51:55.942Z"
   },
   {
    "duration": 64,
    "start_time": "2024-03-03T16:51:55.953Z"
   },
   {
    "duration": 13,
    "start_time": "2024-03-03T16:51:56.020Z"
   },
   {
    "duration": 28,
    "start_time": "2024-03-03T16:51:56.035Z"
   },
   {
    "duration": 26,
    "start_time": "2024-03-03T16:51:56.065Z"
   },
   {
    "duration": 305,
    "start_time": "2024-03-03T16:51:56.092Z"
   },
   {
    "duration": 236,
    "start_time": "2024-03-03T16:51:56.399Z"
   },
   {
    "duration": 35,
    "start_time": "2024-03-03T16:51:56.637Z"
   },
   {
    "duration": 37,
    "start_time": "2024-03-03T16:51:56.674Z"
   },
   {
    "duration": 235,
    "start_time": "2024-03-03T16:51:56.714Z"
   },
   {
    "duration": 219,
    "start_time": "2024-03-03T16:51:56.950Z"
   },
   {
    "duration": 37,
    "start_time": "2024-03-03T16:51:57.171Z"
   },
   {
    "duration": 20,
    "start_time": "2024-03-03T16:51:57.210Z"
   },
   {
    "duration": 19,
    "start_time": "2024-03-03T16:51:57.231Z"
   },
   {
    "duration": 53,
    "start_time": "2024-03-03T16:51:57.252Z"
   },
   {
    "duration": 11948,
    "start_time": "2024-03-03T16:51:57.307Z"
   },
   {
    "duration": 9,
    "start_time": "2024-03-03T16:52:09.257Z"
   },
   {
    "duration": 4,
    "start_time": "2024-03-03T16:52:09.267Z"
   },
   {
    "duration": 137,
    "start_time": "2024-03-03T16:52:09.273Z"
   },
   {
    "duration": 13,
    "start_time": "2024-03-03T16:52:09.411Z"
   },
   {
    "duration": 6,
    "start_time": "2024-03-03T16:52:09.426Z"
   },
   {
    "duration": 4,
    "start_time": "2024-03-03T16:52:09.434Z"
   },
   {
    "duration": 10,
    "start_time": "2024-03-03T16:52:09.440Z"
   },
   {
    "duration": 64,
    "start_time": "2024-03-03T16:52:09.452Z"
   },
   {
    "duration": 7,
    "start_time": "2024-03-03T16:52:09.517Z"
   },
   {
    "duration": 17,
    "start_time": "2024-03-03T16:52:09.525Z"
   },
   {
    "duration": 17,
    "start_time": "2024-03-03T16:52:09.544Z"
   },
   {
    "duration": 16,
    "start_time": "2024-03-03T16:52:09.563Z"
   },
   {
    "duration": 5,
    "start_time": "2024-03-03T16:52:09.591Z"
   },
   {
    "duration": 16,
    "start_time": "2024-03-03T16:52:09.598Z"
   },
   {
    "duration": 7,
    "start_time": "2024-03-03T16:56:36.881Z"
   }
  ],
  "kernelspec": {
   "display_name": "Python 3 (ipykernel)",
   "language": "python",
   "name": "python3"
  },
  "language_info": {
   "codemirror_mode": {
    "name": "ipython",
    "version": 3
   },
   "file_extension": ".py",
   "mimetype": "text/x-python",
   "name": "python",
   "nbconvert_exporter": "python",
   "pygments_lexer": "ipython3",
   "version": "3.11.4"
  },
  "toc": {
   "base_numbering": 1,
   "nav_menu": {},
   "number_sections": true,
   "sideBar": true,
   "skip_h1_title": true,
   "title_cell": "Table of Contents",
   "title_sidebar": "Contents",
   "toc_cell": false,
   "toc_position": {},
   "toc_section_display": true,
   "toc_window_display": false
  }
 },
 "nbformat": 4,
 "nbformat_minor": 5
}
