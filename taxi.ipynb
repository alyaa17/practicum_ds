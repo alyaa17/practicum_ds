{
 "cells": [
  {
   "cell_type": "markdown",
   "metadata": {},
   "source": [
    "#  Прогнозирование заказов такси"
   ]
  },
  {
   "cell_type": "markdown",
   "metadata": {},
   "source": [
    "Компания «Чётенькое такси» собрала исторические данные о заказах такси в аэропортах. Чтобы привлекать больше водителей в период пиковой нагрузки, нужно спрогнозировать количество заказов такси на следующий час. Постройте модель для такого предсказания.\n",
    "\n",
    "Значение метрики *RMSE* на тестовой выборке должно быть не больше 48.\n",
    "\n",
    "План:\n",
    "\n",
    "1. Загрузить данные и выполнить их ресемплирование по одному часу.\n",
    "2. Проанализировать данные.\n",
    "3. Обучить разные модели с различными гиперпараметрами. Сделать тестовую выборку размером 10% от исходных данных.\n",
    "4. Проверить данные на тестовой выборке и сделать выводы.\n",
    "\n",
    "\n",
    "Данные лежат в файле `taxi.csv`. Количество заказов находится в столбце `num_orders` (от англ. *number of orders*, «число заказов»)."
   ]
  },
  {
   "cell_type": "markdown",
   "metadata": {},
   "source": [
    "## Импорт библиотек"
   ]
  },
  {
   "cell_type": "code",
   "execution_count": 1,
   "metadata": {},
   "outputs": [],
   "source": [
    "import warnings\n",
    "warnings.filterwarnings('ignore')"
   ]
  },
  {
   "cell_type": "code",
   "execution_count": 4,
   "metadata": {},
   "outputs": [
    {
     "ename": "OSError",
     "evalue": "dlopen(/Library/Frameworks/Python.framework/Versions/3.12/lib/python3.12/site-packages/lightgbm/lib/lib_lightgbm.dylib, 0x0006): Library not loaded: @rpath/libomp.dylib\n  Referenced from: <D3923ACB-D836-32D3-A031-CF91999FDAFC> /Library/Frameworks/Python.framework/Versions/3.12/lib/python3.12/site-packages/lightgbm/lib/lib_lightgbm.dylib\n  Reason: tried: '/opt/homebrew/opt/libomp/lib/libomp.dylib' (no such file), '/System/Volumes/Preboot/Cryptexes/OS/opt/homebrew/opt/libomp/lib/libomp.dylib' (no such file), '/opt/local/lib/libomp/libomp.dylib' (no such file), '/System/Volumes/Preboot/Cryptexes/OS/opt/local/lib/libomp/libomp.dylib' (no such file), '/opt/homebrew/opt/libomp/lib/libomp.dylib' (no such file), '/System/Volumes/Preboot/Cryptexes/OS/opt/homebrew/opt/libomp/lib/libomp.dylib' (no such file), '/opt/local/lib/libomp/libomp.dylib' (no such file), '/System/Volumes/Preboot/Cryptexes/OS/opt/local/lib/libomp/libomp.dylib' (no such file)",
     "output_type": "error",
     "traceback": [
      "\u001b[0;31m---------------------------------------------------------------------------\u001b[0m",
      "\u001b[0;31mOSError\u001b[0m                                   Traceback (most recent call last)",
      "Cell \u001b[0;32mIn[4], line 14\u001b[0m\n\u001b[1;32m     12\u001b[0m \u001b[38;5;28;01mfrom\u001b[39;00m \u001b[38;5;21;01msklearn\u001b[39;00m\u001b[38;5;21;01m.\u001b[39;00m\u001b[38;5;21;01mensemble\u001b[39;00m \u001b[38;5;28;01mimport\u001b[39;00m RandomForestRegressor\n\u001b[1;32m     13\u001b[0m \u001b[38;5;28;01mfrom\u001b[39;00m \u001b[38;5;21;01mcatboost\u001b[39;00m \u001b[38;5;28;01mimport\u001b[39;00m CatBoostRegressor\n\u001b[0;32m---> 14\u001b[0m \u001b[38;5;28;01mimport\u001b[39;00m \u001b[38;5;21;01mlightgbm\u001b[39;00m \u001b[38;5;28;01mas\u001b[39;00m \u001b[38;5;21;01mlgb\u001b[39;00m\n\u001b[1;32m     16\u001b[0m \u001b[38;5;28;01mfrom\u001b[39;00m \u001b[38;5;21;01msklearn\u001b[39;00m\u001b[38;5;21;01m.\u001b[39;00m\u001b[38;5;21;01mmetrics\u001b[39;00m \u001b[38;5;28;01mimport\u001b[39;00m mean_squared_error\n",
      "File \u001b[0;32m/Library/Frameworks/Python.framework/Versions/3.12/lib/python3.12/site-packages/lightgbm/__init__.py:9\u001b[0m\n\u001b[1;32m      2\u001b[0m \u001b[38;5;124;03m\"\"\"LightGBM, Light Gradient Boosting Machine.\u001b[39;00m\n\u001b[1;32m      3\u001b[0m \n\u001b[1;32m      4\u001b[0m \u001b[38;5;124;03mContributors: https://github.com/microsoft/LightGBM/graphs/contributors.\u001b[39;00m\n\u001b[1;32m      5\u001b[0m \u001b[38;5;124;03m\"\"\"\u001b[39;00m\n\u001b[1;32m      7\u001b[0m \u001b[38;5;28;01mfrom\u001b[39;00m \u001b[38;5;21;01mpathlib\u001b[39;00m \u001b[38;5;28;01mimport\u001b[39;00m Path\n\u001b[0;32m----> 9\u001b[0m \u001b[38;5;28;01mfrom\u001b[39;00m \u001b[38;5;21;01m.\u001b[39;00m\u001b[38;5;21;01mbasic\u001b[39;00m \u001b[38;5;28;01mimport\u001b[39;00m Booster, Dataset, Sequence, register_logger\n\u001b[1;32m     10\u001b[0m \u001b[38;5;28;01mfrom\u001b[39;00m \u001b[38;5;21;01m.\u001b[39;00m\u001b[38;5;21;01mcallback\u001b[39;00m \u001b[38;5;28;01mimport\u001b[39;00m EarlyStopException, early_stopping, log_evaluation, record_evaluation, reset_parameter\n\u001b[1;32m     11\u001b[0m \u001b[38;5;28;01mfrom\u001b[39;00m \u001b[38;5;21;01m.\u001b[39;00m\u001b[38;5;21;01mengine\u001b[39;00m \u001b[38;5;28;01mimport\u001b[39;00m CVBooster, cv, train\n",
      "File \u001b[0;32m/Library/Frameworks/Python.framework/Versions/3.12/lib/python3.12/site-packages/lightgbm/basic.py:281\u001b[0m\n\u001b[1;32m    279\u001b[0m     _LIB \u001b[38;5;241m=\u001b[39m Mock(ctypes\u001b[38;5;241m.\u001b[39mCDLL)  \u001b[38;5;66;03m# type: ignore\u001b[39;00m\n\u001b[1;32m    280\u001b[0m \u001b[38;5;28;01melse\u001b[39;00m:\n\u001b[0;32m--> 281\u001b[0m     _LIB \u001b[38;5;241m=\u001b[39m \u001b[43m_load_lib\u001b[49m\u001b[43m(\u001b[49m\u001b[43m)\u001b[49m\n\u001b[1;32m    284\u001b[0m _NUMERIC_TYPES \u001b[38;5;241m=\u001b[39m (\u001b[38;5;28mint\u001b[39m, \u001b[38;5;28mfloat\u001b[39m, \u001b[38;5;28mbool\u001b[39m)\n\u001b[1;32m    287\u001b[0m \u001b[38;5;28;01mdef\u001b[39;00m \u001b[38;5;21m_safe_call\u001b[39m(ret: \u001b[38;5;28mint\u001b[39m) \u001b[38;5;241m-\u001b[39m\u001b[38;5;241m>\u001b[39m \u001b[38;5;28;01mNone\u001b[39;00m:\n",
      "File \u001b[0;32m/Library/Frameworks/Python.framework/Versions/3.12/lib/python3.12/site-packages/lightgbm/basic.py:265\u001b[0m, in \u001b[0;36m_load_lib\u001b[0;34m()\u001b[0m\n\u001b[1;32m    263\u001b[0m \u001b[38;5;250m\u001b[39m\u001b[38;5;124;03m\"\"\"Load LightGBM library.\"\"\"\u001b[39;00m\n\u001b[1;32m    264\u001b[0m lib_path \u001b[38;5;241m=\u001b[39m find_lib_path()\n\u001b[0;32m--> 265\u001b[0m lib \u001b[38;5;241m=\u001b[39m \u001b[43mctypes\u001b[49m\u001b[38;5;241;43m.\u001b[39;49m\u001b[43mcdll\u001b[49m\u001b[38;5;241;43m.\u001b[39;49m\u001b[43mLoadLibrary\u001b[49m\u001b[43m(\u001b[49m\u001b[43mlib_path\u001b[49m\u001b[43m[\u001b[49m\u001b[38;5;241;43m0\u001b[39;49m\u001b[43m]\u001b[49m\u001b[43m)\u001b[49m\n\u001b[1;32m    266\u001b[0m lib\u001b[38;5;241m.\u001b[39mLGBM_GetLastError\u001b[38;5;241m.\u001b[39mrestype \u001b[38;5;241m=\u001b[39m ctypes\u001b[38;5;241m.\u001b[39mc_char_p\n\u001b[1;32m    267\u001b[0m callback \u001b[38;5;241m=\u001b[39m ctypes\u001b[38;5;241m.\u001b[39mCFUNCTYPE(\u001b[38;5;28;01mNone\u001b[39;00m, ctypes\u001b[38;5;241m.\u001b[39mc_char_p)\n",
      "File \u001b[0;32m/Library/Frameworks/Python.framework/Versions/3.12/lib/python3.12/ctypes/__init__.py:460\u001b[0m, in \u001b[0;36mLibraryLoader.LoadLibrary\u001b[0;34m(self, name)\u001b[0m\n\u001b[1;32m    459\u001b[0m \u001b[38;5;28;01mdef\u001b[39;00m \u001b[38;5;21mLoadLibrary\u001b[39m(\u001b[38;5;28mself\u001b[39m, name):\n\u001b[0;32m--> 460\u001b[0m     \u001b[38;5;28;01mreturn\u001b[39;00m \u001b[38;5;28;43mself\u001b[39;49m\u001b[38;5;241;43m.\u001b[39;49m\u001b[43m_dlltype\u001b[49m\u001b[43m(\u001b[49m\u001b[43mname\u001b[49m\u001b[43m)\u001b[49m\n",
      "File \u001b[0;32m/Library/Frameworks/Python.framework/Versions/3.12/lib/python3.12/ctypes/__init__.py:379\u001b[0m, in \u001b[0;36mCDLL.__init__\u001b[0;34m(self, name, mode, handle, use_errno, use_last_error, winmode)\u001b[0m\n\u001b[1;32m    376\u001b[0m \u001b[38;5;28mself\u001b[39m\u001b[38;5;241m.\u001b[39m_FuncPtr \u001b[38;5;241m=\u001b[39m _FuncPtr\n\u001b[1;32m    378\u001b[0m \u001b[38;5;28;01mif\u001b[39;00m handle \u001b[38;5;129;01mis\u001b[39;00m \u001b[38;5;28;01mNone\u001b[39;00m:\n\u001b[0;32m--> 379\u001b[0m     \u001b[38;5;28mself\u001b[39m\u001b[38;5;241m.\u001b[39m_handle \u001b[38;5;241m=\u001b[39m \u001b[43m_dlopen\u001b[49m\u001b[43m(\u001b[49m\u001b[38;5;28;43mself\u001b[39;49m\u001b[38;5;241;43m.\u001b[39;49m\u001b[43m_name\u001b[49m\u001b[43m,\u001b[49m\u001b[43m \u001b[49m\u001b[43mmode\u001b[49m\u001b[43m)\u001b[49m\n\u001b[1;32m    380\u001b[0m \u001b[38;5;28;01melse\u001b[39;00m:\n\u001b[1;32m    381\u001b[0m     \u001b[38;5;28mself\u001b[39m\u001b[38;5;241m.\u001b[39m_handle \u001b[38;5;241m=\u001b[39m handle\n",
      "\u001b[0;31mOSError\u001b[0m: dlopen(/Library/Frameworks/Python.framework/Versions/3.12/lib/python3.12/site-packages/lightgbm/lib/lib_lightgbm.dylib, 0x0006): Library not loaded: @rpath/libomp.dylib\n  Referenced from: <D3923ACB-D836-32D3-A031-CF91999FDAFC> /Library/Frameworks/Python.framework/Versions/3.12/lib/python3.12/site-packages/lightgbm/lib/lib_lightgbm.dylib\n  Reason: tried: '/opt/homebrew/opt/libomp/lib/libomp.dylib' (no such file), '/System/Volumes/Preboot/Cryptexes/OS/opt/homebrew/opt/libomp/lib/libomp.dylib' (no such file), '/opt/local/lib/libomp/libomp.dylib' (no such file), '/System/Volumes/Preboot/Cryptexes/OS/opt/local/lib/libomp/libomp.dylib' (no such file), '/opt/homebrew/opt/libomp/lib/libomp.dylib' (no such file), '/System/Volumes/Preboot/Cryptexes/OS/opt/homebrew/opt/libomp/lib/libomp.dylib' (no such file), '/opt/local/lib/libomp/libomp.dylib' (no such file), '/System/Volumes/Preboot/Cryptexes/OS/opt/local/lib/libomp/libomp.dylib' (no such file)"
     ]
    }
   ],
   "source": [
    "import pandas as pd\n",
    "import numpy as np\n",
    "import seaborn as sns\n",
    "import matplotlib.pyplot as plt\n",
    "\n",
    "from statsmodels.tsa.seasonal import seasonal_decompose\n",
    "from statsmodels.tsa.stattools import adfuller\n",
    "\n",
    "from sklearn.model_selection import train_test_split, GridSearchCV, TimeSeriesSplit\n",
    "\n",
    "from sklearn.linear_model import LinearRegression\n",
    "from sklearn.ensemble import RandomForestRegressor\n",
    "from catboost import CatBoostRegressor\n",
    "import lightgbm as lgb\n",
    "\n",
    "from sklearn.metrics import mean_squared_error"
   ]
  },
  {
   "cell_type": "markdown",
   "metadata": {},
   "source": [
    "## Подготовка"
   ]
  },
  {
   "cell_type": "code",
   "execution_count": null,
   "metadata": {
    "scrolled": true
   },
   "outputs": [
    {
     "data": {
      "text/html": [
       "<div>\n",
       "<style scoped>\n",
       "    .dataframe tbody tr th:only-of-type {\n",
       "        vertical-align: middle;\n",
       "    }\n",
       "\n",
       "    .dataframe tbody tr th {\n",
       "        vertical-align: top;\n",
       "    }\n",
       "\n",
       "    .dataframe thead th {\n",
       "        text-align: right;\n",
       "    }\n",
       "</style>\n",
       "<table border=\"1\" class=\"dataframe\">\n",
       "  <thead>\n",
       "    <tr style=\"text-align: right;\">\n",
       "      <th></th>\n",
       "      <th>num_orders</th>\n",
       "    </tr>\n",
       "    <tr>\n",
       "      <th>datetime</th>\n",
       "      <th></th>\n",
       "    </tr>\n",
       "  </thead>\n",
       "  <tbody>\n",
       "    <tr>\n",
       "      <th>2018-03-01 00:00:00</th>\n",
       "      <td>9</td>\n",
       "    </tr>\n",
       "    <tr>\n",
       "      <th>2018-03-01 00:10:00</th>\n",
       "      <td>14</td>\n",
       "    </tr>\n",
       "    <tr>\n",
       "      <th>2018-03-01 00:20:00</th>\n",
       "      <td>28</td>\n",
       "    </tr>\n",
       "    <tr>\n",
       "      <th>2018-03-01 00:30:00</th>\n",
       "      <td>20</td>\n",
       "    </tr>\n",
       "    <tr>\n",
       "      <th>2018-03-01 00:40:00</th>\n",
       "      <td>32</td>\n",
       "    </tr>\n",
       "  </tbody>\n",
       "</table>\n",
       "</div>"
      ],
      "text/plain": [
       "                     num_orders\n",
       "datetime                       \n",
       "2018-03-01 00:00:00           9\n",
       "2018-03-01 00:10:00          14\n",
       "2018-03-01 00:20:00          28\n",
       "2018-03-01 00:30:00          20\n",
       "2018-03-01 00:40:00          32"
      ]
     },
     "execution_count": 3,
     "metadata": {},
     "output_type": "execute_result"
    }
   ],
   "source": [
    "data = pd.read_csv('/datasets/taxi.csv',  parse_dates=['datetime'], index_col='datetime')\n",
    "data.sort_index(inplace=True)\n",
    "data.head()"
   ]
  },
  {
   "cell_type": "markdown",
   "metadata": {},
   "source": [
    "__Описание данных:__\n",
    "* datetime - время заказа\n",
    "* num_orders - число заказов"
   ]
  },
  {
   "cell_type": "markdown",
   "metadata": {},
   "source": [
    "Сделаем ресемплирование по одному часу."
   ]
  },
  {
   "cell_type": "code",
   "execution_count": null,
   "metadata": {},
   "outputs": [],
   "source": [
    "data = data.resample('1H').sum()"
   ]
  },
  {
   "cell_type": "code",
   "execution_count": null,
   "metadata": {
    "scrolled": true
   },
   "outputs": [
    {
     "data": {
      "text/html": [
       "<div>\n",
       "<style scoped>\n",
       "    .dataframe tbody tr th:only-of-type {\n",
       "        vertical-align: middle;\n",
       "    }\n",
       "\n",
       "    .dataframe tbody tr th {\n",
       "        vertical-align: top;\n",
       "    }\n",
       "\n",
       "    .dataframe thead th {\n",
       "        text-align: right;\n",
       "    }\n",
       "</style>\n",
       "<table border=\"1\" class=\"dataframe\">\n",
       "  <thead>\n",
       "    <tr style=\"text-align: right;\">\n",
       "      <th></th>\n",
       "      <th>num_orders</th>\n",
       "    </tr>\n",
       "    <tr>\n",
       "      <th>datetime</th>\n",
       "      <th></th>\n",
       "    </tr>\n",
       "  </thead>\n",
       "  <tbody>\n",
       "    <tr>\n",
       "      <th>2018-03-01 00:00:00</th>\n",
       "      <td>124</td>\n",
       "    </tr>\n",
       "    <tr>\n",
       "      <th>2018-03-01 01:00:00</th>\n",
       "      <td>85</td>\n",
       "    </tr>\n",
       "    <tr>\n",
       "      <th>2018-03-01 02:00:00</th>\n",
       "      <td>71</td>\n",
       "    </tr>\n",
       "    <tr>\n",
       "      <th>2018-03-01 03:00:00</th>\n",
       "      <td>66</td>\n",
       "    </tr>\n",
       "    <tr>\n",
       "      <th>2018-03-01 04:00:00</th>\n",
       "      <td>43</td>\n",
       "    </tr>\n",
       "  </tbody>\n",
       "</table>\n",
       "</div>"
      ],
      "text/plain": [
       "                     num_orders\n",
       "datetime                       \n",
       "2018-03-01 00:00:00         124\n",
       "2018-03-01 01:00:00          85\n",
       "2018-03-01 02:00:00          71\n",
       "2018-03-01 03:00:00          66\n",
       "2018-03-01 04:00:00          43"
      ]
     },
     "execution_count": 5,
     "metadata": {},
     "output_type": "execute_result"
    }
   ],
   "source": [
    "data.head()"
   ]
  },
  {
   "cell_type": "markdown",
   "metadata": {},
   "source": [
    "## Анализ"
   ]
  },
  {
   "cell_type": "code",
   "execution_count": null,
   "metadata": {},
   "outputs": [],
   "source": [
    "data['mean'] = data['num_orders'].shift(fill_value=0).rolling(35).mean()\n",
    "data['std'] = data['num_orders'].shift(fill_value=0).rolling(35).std()"
   ]
  },
  {
   "cell_type": "code",
   "execution_count": null,
   "metadata": {
    "scrolled": true
   },
   "outputs": [
    {
     "data": {
      "text/plain": [
       "<AxesSubplot:xlabel='datetime'>"
      ]
     },
     "execution_count": 7,
     "metadata": {},
     "output_type": "execute_result"
    },
    {
     "data": {
      "image/png": "[encoded data removed]",
      "text/plain": [
       "<Figure size 864x432 with 1 Axes>"
      ]
     },
     "metadata": {
      "needs_background": "light"
     },
     "output_type": "display_data"
    }
   ],
   "source": [
    "data.plot(figsize=(12, 6), color=['blue', 'limegreen', 'red'])"
   ]
  },
  {
   "cell_type": "markdown",
   "metadata": {},
   "source": [
    "### Тест Дики — Фуллера"
   ]
  },
  {
   "cell_type": "code",
   "execution_count": null,
   "metadata": {
    "scrolled": true
   },
   "outputs": [
    {
     "name": "stdout",
     "output_type": "stream",
     "text": [
      "ADF Statistic: -3.0689242890279558\n",
      "p-value: 0.028940051402612906\n",
      "Critical Values: {'1%': -3.431842162413052, '5%': -2.8621993540813637, '10%': -2.567120978470452}\n",
      "Ряд не стационарен\n"
     ]
    }
   ],
   "source": [
    "test = adfuller(data['num_orders'])\n",
    "print('ADF Statistic:', test[0])\n",
    "print('p-value:', test[1])\n",
    "print('Critical Values:', test[4])\n",
    "\n",
    "if test[0] < test[4]['1%']:\n",
    "    print('Ряд стационарен')\n",
    "else:\n",
    "    print('Ряд не стационарен')"
   ]
  },
  {
   "cell_type": "markdown",
   "metadata": {},
   "source": [
    "### Разложение временного ряда на тренд, сезонность и остатки"
   ]
  },
  {
   "cell_type": "code",
   "execution_count": null,
   "metadata": {},
   "outputs": [],
   "source": [
    "data = data.fillna(data['num_orders'].mean())"
   ]
  },
  {
   "cell_type": "code",
   "execution_count": null,
   "metadata": {},
   "outputs": [
    {
     "data": {
      "image/png": "[encoded data removed]",
      "text/plain": [
       "<Figure size 720x864 with 3 Axes>"
      ]
     },
     "metadata": {
      "needs_background": "light"
     },
     "output_type": "display_data"
    }
   ],
   "source": [
    "decomposed = seasonal_decompose(data['num_orders'], model='additive')\n",
    "\n",
    "fig, ax = plt.subplots(nrows=3, ncols=1, figsize=(10, 12))\n",
    "\n",
    "ax[0].plot(decomposed.trend, label='Trend', color='blue')\n",
    "ax[0].set_title('Trend')\n",
    "ax[0].legend()\n",
    "\n",
    "ax[1].plot(decomposed.seasonal, label='Seasonality', color='limegreen')\n",
    "ax[1].set_title('Seasonality')\n",
    "ax[1].legend()\n",
    "\n",
    "ax[2].plot(decomposed.resid, label='Residuals', color='red')\n",
    "ax[2].set_title('Residuals')\n",
    "ax[2].legend()\n",
    "\n",
    "plt.tight_layout()\n",
    "plt.show()"
   ]
  },
  {
   "cell_type": "markdown",
   "metadata": {},
   "source": [
    "На графике тренда видим постепенное увеличение. Это говорит о росте спроса на такси. Сезонность имеет равномерное распределение, значит, явных паттернов не наблюдается. Остатки колеблются вокруг нуля, это указывает на то, что модель тренда и сезонности хорошо описывает данные. В конце графика остатков наблюдаются колебания, это может говорить об изменении данных в последние периоды, что может повлиять на итоговое качество модели"
   ]
  },
  {
   "cell_type": "code",
   "execution_count": null,
   "metadata": {},
   "outputs": [],
   "source": [
    "daily_data = data.resample('D').mean()"
   ]
  },
  {
   "cell_type": "markdown",
   "metadata": {},
   "source": [
    "### Анализ недельной сезонности"
   ]
  },
  {
   "cell_type": "code",
   "execution_count": null,
   "metadata": {},
   "outputs": [
    {
     "data": {
      "image/png": "[encoded data removed]",
      "text/plain": [
       "<Figure size 720x864 with 3 Axes>"
      ]
     },
     "metadata": {
      "needs_background": "light"
     },
     "output_type": "display_data"
    }
   ],
   "source": [
    "decomposed = seasonal_decompose(daily_data['num_orders'], model='additive')\n",
    "\n",
    "fig, ax = plt.subplots(nrows=3, ncols=1, figsize=(10, 12))\n",
    "\n",
    "ax[0].plot(decomposed.trend, label='Trend', color='blue')\n",
    "ax[0].set_title('Trend')\n",
    "ax[0].legend()\n",
    "\n",
    "ax[1].plot(decomposed.seasonal, label='Seasonality', color='limegreen')\n",
    "ax[1].set_title('Seasonality')\n",
    "ax[1].legend()\n",
    "\n",
    "ax[2].plot(decomposed.resid, label='Residuals', color='red')\n",
    "ax[2].set_title('Residuals')\n",
    "ax[2].legend()\n",
    "\n",
    "plt.tight_layout()\n",
    "plt.show()"
   ]
  },
  {
   "cell_type": "markdown",
   "metadata": {},
   "source": [
    "Наблюдается рост спроса на такси с каждым днем. На графике сезонности видим несколько колебаний в течение одного дня. Это может говорить о часовых колебаниях: в определенные часы дня количество заказов сильно варьируется. "
   ]
  },
  {
   "cell_type": "markdown",
   "metadata": {},
   "source": [
    "### Новые признаки"
   ]
  },
  {
   "cell_type": "code",
   "execution_count": null,
   "metadata": {},
   "outputs": [],
   "source": [
    "data = data.drop(['mean', 'std'], axis=1)"
   ]
  },
  {
   "cell_type": "code",
   "execution_count": null,
   "metadata": {},
   "outputs": [],
   "source": [
    "data['year'] = data.index.year\n",
    "data['month'] = data.index.month\n",
    "data['day'] = data.index.day\n",
    "data['hour'] = data.index.hour\n",
    "data['day_of_week'] = data.index.dayofweek"
   ]
  },
  {
   "cell_type": "code",
   "execution_count": null,
   "metadata": {},
   "outputs": [],
   "source": [
    "for lag in range(1, 11):\n",
    "        data['lag_{}'.format(lag)] = data['num_orders'].shift(lag)"
   ]
  },
  {
   "cell_type": "code",
   "execution_count": null,
   "metadata": {},
   "outputs": [],
   "source": [
    "data.dropna(inplace=True)"
   ]
  },
  {
   "cell_type": "code",
   "execution_count": null,
   "metadata": {},
   "outputs": [
    {
     "data": {
      "text/plain": [
       "array([2018])"
      ]
     },
     "execution_count": 17,
     "metadata": {},
     "output_type": "execute_result"
    }
   ],
   "source": [
    "data['year'].unique()"
   ]
  },
  {
   "cell_type": "code",
   "execution_count": null,
   "metadata": {},
   "outputs": [],
   "source": [
    "data = data.drop('year', axis=1)"
   ]
  },
  {
   "cell_type": "code",
   "execution_count": null,
   "metadata": {},
   "outputs": [
    {
     "data": {
      "image/png": "[encoded data removed]",
      "text/plain": [
       "<Figure size 864x432 with 1 Axes>"
      ]
     },
     "metadata": {
      "needs_background": "light"
     },
     "output_type": "display_data"
    }
   ],
   "source": [
    "monthly_aggregation = data.groupby('month')['num_orders'].sum()\n",
    "\n",
    "plt.figure(figsize=(12, 6))\n",
    "plt.plot(monthly_aggregation.index.astype(str), monthly_aggregation, color='limegreen', marker='o')\n",
    "\n",
    "plt.xlabel('Month')\n",
    "plt.ylabel('Number of Orders')\n",
    "plt.title('Total Number of Orders by Month')\n",
    "\n",
    "plt.xticks()\n",
    "plt.grid(True)\n",
    "\n",
    "plt.tight_layout()\n",
    "plt.show()"
   ]
  },
  {
   "cell_type": "markdown",
   "metadata": {},
   "source": [
    "Наблюдается рост спроса каждый месяц. Признак является неинформативным"
   ]
  },
  {
   "cell_type": "code",
   "execution_count": null,
   "metadata": {},
   "outputs": [],
   "source": [
    "data = data.drop('month', axis=1)"
   ]
  },
  {
   "cell_type": "code",
   "execution_count": null,
   "metadata": {},
   "outputs": [
    {
     "data": {
      "image/png": "[encoded data removed]",
      "text/plain": [
       "<Figure size 864x432 with 1 Axes>"
      ]
     },
     "metadata": {
      "needs_background": "light"
     },
     "output_type": "display_data"
    }
   ],
   "source": [
    "daily_aggregation = data.groupby('day')['num_orders'].sum()\n",
    "\n",
    "plt.figure(figsize=(12, 6))\n",
    "plt.plot(daily_aggregation.index, daily_aggregation, color='limegreen', marker='o')\n",
    "\n",
    "plt.xlabel('Day')\n",
    "plt.ylabel('Number of Orders')\n",
    "plt.title('Total Number of Orders by Day')\n",
    "plt.xticks()\n",
    "plt.grid(True)\n",
    "\n",
    "plt.tight_layout()\n",
    "plt.show()"
   ]
  },
  {
   "cell_type": "markdown",
   "metadata": {},
   "source": [
    "Видим постепенный рост количества заказов, как и в графике по месяцам, он обусловлен общим ростом спроса"
   ]
  },
  {
   "cell_type": "code",
   "execution_count": null,
   "metadata": {},
   "outputs": [
    {
     "data": {
      "image/png": "[encoded data removed]",
      "text/plain": [
       "<Figure size 864x432 with 1 Axes>"
      ]
     },
     "metadata": {
      "needs_background": "light"
     },
     "output_type": "display_data"
    }
   ],
   "source": [
    "hourly_aggregation = data.groupby('hour')['num_orders'].sum()\n",
    "\n",
    "plt.figure(figsize=(12, 6))\n",
    "plt.plot(hourly_aggregation.index, hourly_aggregation, color='limegreen', marker='o')\n",
    "\n",
    "plt.xlabel('Hour of Day')\n",
    "plt.ylabel('Number of Orders')\n",
    "plt.title('Total Number of Orders by Hour')\n",
    "plt.xticks(range(24)) \n",
    "plt.grid(True)\n",
    "\n",
    "plt.tight_layout()\n",
    "plt.show()"
   ]
  },
  {
   "cell_type": "markdown",
   "metadata": {},
   "source": [
    "Наибольший спрос в вечернее и ночное время. Пики активности - 00:00, 2:00, 16:00"
   ]
  },
  {
   "cell_type": "code",
   "execution_count": null,
   "metadata": {},
   "outputs": [
    {
     "data": {
      "image/png": "[encoded data removed]",
      "text/plain": [
       "<Figure size 864x432 with 1 Axes>"
      ]
     },
     "metadata": {
      "needs_background": "light"
     },
     "output_type": "display_data"
    }
   ],
   "source": [
    "weekday_aggregation = data.groupby('day_of_week')['num_orders'].sum()\n",
    "\n",
    "plt.figure(figsize=(12, 6))\n",
    "plt.plot(weekday_aggregation.index, weekday_aggregation, color='limegreen', marker='o')\n",
    "\n",
    "plt.xlabel('Day of Week')\n",
    "plt.ylabel('Number of Orders')\n",
    "plt.title('Total Number of Orders by Day of Week')\n",
    "plt.xticks(ticks=range(7), labels=['Mon', 'Tue', 'Wed', 'Thu', 'Fri', 'Sat', 'Sun'])\n",
    "plt.grid(True)\n",
    "\n",
    "plt.tight_layout()\n",
    "plt.show()"
   ]
  },
  {
   "cell_type": "markdown",
   "metadata": {},
   "source": [
    "Наибольшая активность наблюдается в пятницу, а наименьшая во вторник"
   ]
  },
  {
   "cell_type": "code",
   "execution_count": null,
   "metadata": {},
   "outputs": [
    {
     "data": {
      "image/png": "[encoded data removed]",
      "text/plain": [
       "<Figure size 720x576 with 2 Axes>"
      ]
     },
     "metadata": {
      "needs_background": "light"
     },
     "output_type": "display_data"
    }
   ],
   "source": [
    "correlation_matrix = data.corr(method='spearman')\n",
    "\n",
    "plt.figure(figsize=(10, 8))\n",
    "sns.heatmap(correlation_matrix, annot=True, cmap='viridis', vmin=-1, vmax=1, fmt='.2f', linewidths=0.5)\n",
    "plt.title('Correlation Matrix')\n",
    "plt.show()\n"
   ]
  },
  {
   "cell_type": "markdown",
   "metadata": {},
   "source": [
    "## Обучение"
   ]
  },
  {
   "cell_type": "code",
   "execution_count": null,
   "metadata": {},
   "outputs": [
    {
     "data": {
      "text/html": [
       "<div>\n",
       "<style scoped>\n",
       "    .dataframe tbody tr th:only-of-type {\n",
       "        vertical-align: middle;\n",
       "    }\n",
       "\n",
       "    .dataframe tbody tr th {\n",
       "        vertical-align: top;\n",
       "    }\n",
       "\n",
       "    .dataframe thead th {\n",
       "        text-align: right;\n",
       "    }\n",
       "</style>\n",
       "<table border=\"1\" class=\"dataframe\">\n",
       "  <thead>\n",
       "    <tr style=\"text-align: right;\">\n",
       "      <th></th>\n",
       "      <th>num_orders</th>\n",
       "      <th>day</th>\n",
       "      <th>hour</th>\n",
       "      <th>day_of_week</th>\n",
       "      <th>lag_1</th>\n",
       "      <th>lag_2</th>\n",
       "      <th>lag_3</th>\n",
       "      <th>lag_4</th>\n",
       "      <th>lag_5</th>\n",
       "      <th>lag_6</th>\n",
       "      <th>lag_7</th>\n",
       "      <th>lag_8</th>\n",
       "      <th>lag_9</th>\n",
       "      <th>lag_10</th>\n",
       "    </tr>\n",
       "    <tr>\n",
       "      <th>datetime</th>\n",
       "      <th></th>\n",
       "      <th></th>\n",
       "      <th></th>\n",
       "      <th></th>\n",
       "      <th></th>\n",
       "      <th></th>\n",
       "      <th></th>\n",
       "      <th></th>\n",
       "      <th></th>\n",
       "      <th></th>\n",
       "      <th></th>\n",
       "      <th></th>\n",
       "      <th></th>\n",
       "      <th></th>\n",
       "    </tr>\n",
       "  </thead>\n",
       "  <tbody>\n",
       "    <tr>\n",
       "      <th>2018-03-01 10:00:00</th>\n",
       "      <td>64</td>\n",
       "      <td>1</td>\n",
       "      <td>10</td>\n",
       "      <td>3</td>\n",
       "      <td>69.0</td>\n",
       "      <td>34.0</td>\n",
       "      <td>15.0</td>\n",
       "      <td>12.0</td>\n",
       "      <td>6.0</td>\n",
       "      <td>43.0</td>\n",
       "      <td>66.0</td>\n",
       "      <td>71.0</td>\n",
       "      <td>85.0</td>\n",
       "      <td>124.0</td>\n",
       "    </tr>\n",
       "    <tr>\n",
       "      <th>2018-03-01 11:00:00</th>\n",
       "      <td>96</td>\n",
       "      <td>1</td>\n",
       "      <td>11</td>\n",
       "      <td>3</td>\n",
       "      <td>64.0</td>\n",
       "      <td>69.0</td>\n",
       "      <td>34.0</td>\n",
       "      <td>15.0</td>\n",
       "      <td>12.0</td>\n",
       "      <td>6.0</td>\n",
       "      <td>43.0</td>\n",
       "      <td>66.0</td>\n",
       "      <td>71.0</td>\n",
       "      <td>85.0</td>\n",
       "    </tr>\n",
       "    <tr>\n",
       "      <th>2018-03-01 12:00:00</th>\n",
       "      <td>30</td>\n",
       "      <td>1</td>\n",
       "      <td>12</td>\n",
       "      <td>3</td>\n",
       "      <td>96.0</td>\n",
       "      <td>64.0</td>\n",
       "      <td>69.0</td>\n",
       "      <td>34.0</td>\n",
       "      <td>15.0</td>\n",
       "      <td>12.0</td>\n",
       "      <td>6.0</td>\n",
       "      <td>43.0</td>\n",
       "      <td>66.0</td>\n",
       "      <td>71.0</td>\n",
       "    </tr>\n",
       "    <tr>\n",
       "      <th>2018-03-01 13:00:00</th>\n",
       "      <td>32</td>\n",
       "      <td>1</td>\n",
       "      <td>13</td>\n",
       "      <td>3</td>\n",
       "      <td>30.0</td>\n",
       "      <td>96.0</td>\n",
       "      <td>64.0</td>\n",
       "      <td>69.0</td>\n",
       "      <td>34.0</td>\n",
       "      <td>15.0</td>\n",
       "      <td>12.0</td>\n",
       "      <td>6.0</td>\n",
       "      <td>43.0</td>\n",
       "      <td>66.0</td>\n",
       "    </tr>\n",
       "    <tr>\n",
       "      <th>2018-03-01 14:00:00</th>\n",
       "      <td>48</td>\n",
       "      <td>1</td>\n",
       "      <td>14</td>\n",
       "      <td>3</td>\n",
       "      <td>32.0</td>\n",
       "      <td>30.0</td>\n",
       "      <td>96.0</td>\n",
       "      <td>64.0</td>\n",
       "      <td>69.0</td>\n",
       "      <td>34.0</td>\n",
       "      <td>15.0</td>\n",
       "      <td>12.0</td>\n",
       "      <td>6.0</td>\n",
       "      <td>43.0</td>\n",
       "    </tr>\n",
       "  </tbody>\n",
       "</table>\n",
       "</div>"
      ],
      "text/plain": [
       "                     num_orders  day  hour  day_of_week  lag_1  lag_2  lag_3  \\\n",
       "datetime                                                                       \n",
       "2018-03-01 10:00:00          64    1    10            3   69.0   34.0   15.0   \n",
       "2018-03-01 11:00:00          96    1    11            3   64.0   69.0   34.0   \n",
       "2018-03-01 12:00:00          30    1    12            3   96.0   64.0   69.0   \n",
       "2018-03-01 13:00:00          32    1    13            3   30.0   96.0   64.0   \n",
       "2018-03-01 14:00:00          48    1    14            3   32.0   30.0   96.0   \n",
       "\n",
       "                     lag_4  lag_5  lag_6  lag_7  lag_8  lag_9  lag_10  \n",
       "datetime                                                               \n",
       "2018-03-01 10:00:00   12.0    6.0   43.0   66.0   71.0   85.0   124.0  \n",
       "2018-03-01 11:00:00   15.0   12.0    6.0   43.0   66.0   71.0    85.0  \n",
       "2018-03-01 12:00:00   34.0   15.0   12.0    6.0   43.0   66.0    71.0  \n",
       "2018-03-01 13:00:00   69.0   34.0   15.0   12.0    6.0   43.0    66.0  \n",
       "2018-03-01 14:00:00   64.0   69.0   34.0   15.0   12.0    6.0    43.0  "
      ]
     },
     "execution_count": 25,
     "metadata": {},
     "output_type": "execute_result"
    }
   ],
   "source": [
    "data.head()"
   ]
  },
  {
   "cell_type": "code",
   "execution_count": null,
   "metadata": {},
   "outputs": [],
   "source": [
    "train, test = train_test_split(data, test_size=0.1, shuffle=False)\n",
    "\n",
    "X_train = train.drop('num_orders', axis=1)\n",
    "y_train = train['num_orders']\n",
    "X_test = test.drop('num_orders', axis=1)\n",
    "y_test = test['num_orders']"
   ]
  },
  {
   "cell_type": "code",
   "execution_count": null,
   "metadata": {},
   "outputs": [
    {
     "data": {
      "text/plain": [
       "(Timestamp('2018-08-13 14:00:00', freq='H'),\n",
       " Timestamp('2018-08-13 15:00:00', freq='H'))"
      ]
     },
     "execution_count": 27,
     "metadata": {},
     "output_type": "execute_result"
    }
   ],
   "source": [
    "train.index[-1], test.index[0]"
   ]
  },
  {
   "cell_type": "markdown",
   "metadata": {},
   "source": [
    "### Random Forest"
   ]
  },
  {
   "cell_type": "code",
   "execution_count": null,
   "metadata": {},
   "outputs": [],
   "source": [
    "param_grid = {\n",
    "    'n_estimators': [50, 100],\n",
    "    'max_depth': [5, 10, 20],\n",
    "    'min_samples_leaf': [1, 2, 4]\n",
    "}\n",
    "\n",
    "rf_model = RandomForestRegressor(random_state=42)\n",
    "tscv = TimeSeriesSplit(n_splits=5)\n",
    "grid_search = GridSearchCV(estimator=rf_model, param_grid=param_grid, cv=tscv, scoring='neg_mean_squared_error')"
   ]
  },
  {
   "cell_type": "code",
   "execution_count": null,
   "metadata": {},
   "outputs": [
    {
     "name": "stdout",
     "output_type": "stream",
     "text": [
      "CPU times: user 53.1 s, sys: 218 ms, total: 53.3 s\n",
      "Wall time: 53.4 s\n"
     ]
    },
    {
     "data": {
      "text/plain": [
       "GridSearchCV(cv=TimeSeriesSplit(gap=0, max_train_size=None, n_splits=5, test_size=None),\n",
       "             estimator=RandomForestRegressor(random_state=42),\n",
       "             param_grid={'max_depth': [5, 10, 20],\n",
       "                         'min_samples_leaf': [1, 2, 4],\n",
       "                         'n_estimators': [50, 100]},\n",
       "             scoring='neg_mean_squared_error')"
      ]
     },
     "execution_count": 29,
     "metadata": {},
     "output_type": "execute_result"
    }
   ],
   "source": [
    "%%time\n",
    "grid_search.fit(X_train, y_train)"
   ]
  },
  {
   "cell_type": "code",
   "execution_count": null,
   "metadata": {},
   "outputs": [
    {
     "data": {
      "text/plain": [
       "RandomForestRegressor(max_depth=20, min_samples_leaf=2, random_state=42)"
      ]
     },
     "execution_count": 30,
     "metadata": {},
     "output_type": "execute_result"
    }
   ],
   "source": [
    "rf_model = grid_search.best_estimator_\n",
    "rf_model"
   ]
  },
  {
   "cell_type": "code",
   "execution_count": null,
   "metadata": {},
   "outputs": [
    {
     "data": {
      "text/plain": [
       "26.236554955280152"
      ]
     },
     "execution_count": 31,
     "metadata": {},
     "output_type": "execute_result"
    }
   ],
   "source": [
    "np.sqrt(-grid_search.best_score_)"
   ]
  },
  {
   "cell_type": "markdown",
   "metadata": {},
   "source": [
    "### CatBoost"
   ]
  },
  {
   "cell_type": "code",
   "execution_count": null,
   "metadata": {},
   "outputs": [],
   "source": [
    "Cat_model = CatBoostRegressor(loss_function=\"RMSE\", logging_level='Silent') \n",
    "\n",
    "param_grid = {\n",
    "    'learning_rate': [0.01, 0.1, 0.2, 0.4],\n",
    "    'depth': [4, 6, 8],\n",
    "    'iterations': [50, 100]\n",
    "}\n",
    "\n",
    "grid_search = GridSearchCV(estimator=Cat_model, param_grid=param_grid, scoring='neg_root_mean_squared_error', cv=tscv, n_jobs=-1, verbose=0)"
   ]
  },
  {
   "cell_type": "code",
   "execution_count": null,
   "metadata": {},
   "outputs": [
    {
     "name": "stdout",
     "output_type": "stream",
     "text": [
      "CPU times: user 24.5 s, sys: 857 ms, total: 25.4 s\n",
      "Wall time: 1min 22s\n"
     ]
    },
    {
     "data": {
      "text/plain": [
       "GridSearchCV(cv=TimeSeriesSplit(gap=0, max_train_size=None, n_splits=5, test_size=None),\n",
       "             estimator=<catboost.core.CatBoostRegressor object at 0x7fb692297bb0>,\n",
       "             n_jobs=-1,\n",
       "             param_grid={'depth': [4, 6, 8], 'iterations': [50, 100],\n",
       "                         'learning_rate': [0.01, 0.1, 0.2, 0.4]},\n",
       "             scoring='neg_root_mean_squared_error')"
      ]
     },
     "execution_count": 33,
     "metadata": {},
     "output_type": "execute_result"
    }
   ],
   "source": [
    "%%time\n",
    "grid_search.fit(X_train, y_train)"
   ]
  },
  {
   "cell_type": "code",
   "execution_count": null,
   "metadata": {},
   "outputs": [
    {
     "data": {
      "text/plain": [
       "{'depth': 4, 'iterations': 100, 'learning_rate': 0.2}"
      ]
     },
     "execution_count": 34,
     "metadata": {},
     "output_type": "execute_result"
    }
   ],
   "source": [
    "Cat_model = grid_search.best_estimator_\n",
    "grid_search.best_params_"
   ]
  },
  {
   "cell_type": "code",
   "execution_count": null,
   "metadata": {},
   "outputs": [
    {
     "data": {
      "text/plain": [
       "25.95452926479832"
      ]
     },
     "execution_count": 35,
     "metadata": {},
     "output_type": "execute_result"
    }
   ],
   "source": [
    "-grid_search.best_score_"
   ]
  },
  {
   "cell_type": "markdown",
   "metadata": {},
   "source": [
    "### LightGBM "
   ]
  },
  {
   "cell_type": "code",
   "execution_count": null,
   "metadata": {},
   "outputs": [],
   "source": [
    "lgb_model = lgb.LGBMRegressor(objective='rmse')\n",
    "\n",
    "param_grid = {\n",
    "    'learning_rate': [0.01, 0.1, 0.2, 0.4],\n",
    "    'num_leaves': [5, 10],\n",
    "    'max_depth': [5, 10, 15, 20]\n",
    "}\n",
    "\n",
    "grid_search = GridSearchCV(estimator=lgb_model, param_grid=param_grid, scoring='neg_root_mean_squared_error', cv=tscv, n_jobs=-1, verbose=1)"
   ]
  },
  {
   "cell_type": "code",
   "execution_count": null,
   "metadata": {},
   "outputs": [
    {
     "name": "stdout",
     "output_type": "stream",
     "text": [
      "Fitting 5 folds for each of 32 candidates, totalling 160 fits\n",
      "CPU times: user 54.8 s, sys: 426 ms, total: 55.3 s\n",
      "Wall time: 55.8 s\n"
     ]
    },
    {
     "data": {
      "text/plain": [
       "GridSearchCV(cv=TimeSeriesSplit(gap=0, max_train_size=None, n_splits=5, test_size=None),\n",
       "             estimator=LGBMRegressor(objective='rmse'), n_jobs=-1,\n",
       "             param_grid={'learning_rate': [0.01, 0.1, 0.2, 0.4],\n",
       "                         'max_depth': [5, 10, 15, 20], 'num_leaves': [5, 10]},\n",
       "             scoring='neg_root_mean_squared_error', verbose=1)"
      ]
     },
     "execution_count": 37,
     "metadata": {},
     "output_type": "execute_result"
    }
   ],
   "source": [
    "%%time\n",
    "grid_search.fit(X_train, y_train)"
   ]
  },
  {
   "cell_type": "code",
   "execution_count": null,
   "metadata": {},
   "outputs": [
    {
     "data": {
      "text/plain": [
       "LGBMRegressor(max_depth=5, num_leaves=10, objective='rmse')"
      ]
     },
     "execution_count": 38,
     "metadata": {},
     "output_type": "execute_result"
    }
   ],
   "source": [
    "lgb_model = grid_search.best_estimator_\n",
    "lgb_model"
   ]
  },
  {
   "cell_type": "code",
   "execution_count": null,
   "metadata": {},
   "outputs": [
    {
     "data": {
      "text/plain": [
       "25.95298538624088"
      ]
     },
     "execution_count": 39,
     "metadata": {},
     "output_type": "execute_result"
    }
   ],
   "source": [
    "-grid_search.best_score_"
   ]
  },
  {
   "cell_type": "markdown",
   "metadata": {},
   "source": [
    "### Выбор лучшей модели"
   ]
  },
  {
   "cell_type": "markdown",
   "metadata": {},
   "source": [
    "* Быстрее всего параметры были подобраны для CatBoost\n",
    "* Лучшая метрика на тренировочной выборке - 26, модель - LightGBM\n",
    "\n",
    "__ИТОГ__:\n",
    "\n",
    "Лучшая модель - __LightGBM__ с гиперпараметрами: max_depth=20, min_samples_leaf=4"
   ]
  },
  {
   "cell_type": "markdown",
   "metadata": {},
   "source": [
    "## Тестирование"
   ]
  },
  {
   "cell_type": "code",
   "execution_count": null,
   "metadata": {},
   "outputs": [
    {
     "name": "stdout",
     "output_type": "stream",
     "text": [
      "Модель: Random Forest. Метрика: 44.16239193334917\n"
     ]
    }
   ],
   "source": [
    "y_pred = lgb_model.predict(X_test)\n",
    "rmse = mean_squared_error(y_test, y_pred, squared=False)\n",
    "print(f'Модель: Random Forest. Метрика: {rmse}')"
   ]
  },
  {
   "cell_type": "code",
   "execution_count": null,
   "metadata": {},
   "outputs": [
    {
     "data": {
      "image/png": "[encoded data removed]",
      "text/plain": [
       "<Figure size 864x432 with 1 Axes>"
      ]
     },
     "metadata": {
      "needs_background": "light"
     },
     "output_type": "display_data"
    }
   ],
   "source": [
    "plt.figure(figsize=(12, 6))\n",
    "\n",
    "plt.plot(y_test.index, y_test, label='Actual', color='red')\n",
    "plt.plot(y_test.index, y_pred, label='Predicted', color='limegreen')\n",
    "\n",
    "plt.xlabel('Date')\n",
    "plt.ylabel('Number of Orders')\n",
    "plt.title('Actual vs Predicted Number of Orders')\n",
    "plt.legend()\n",
    "plt.grid(True)\n",
    "\n",
    "plt.tight_layout()\n",
    "plt.show()"
   ]
  },
  {
   "cell_type": "markdown",
   "metadata": {},
   "source": [
    "__ВЫВОД__:\n",
    "\n",
    "По графику видно, что хуже всего модель предсказывает пиковые значения спроса и количество заказов в конце временного интервала"
   ]
  }
 ],
 "metadata": {
  "ExecuteTimeLog": [
   {
    "duration": 8,
    "start_time": "2024-08-29T19:53:35.091Z"
   },
   {
    "duration": 422,
    "start_time": "2024-08-29T19:53:46.564Z"
   },
   {
    "duration": 103,
    "start_time": "2024-08-29T19:54:01.587Z"
   },
   {
    "duration": 54,
    "start_time": "2024-08-29T20:01:19.859Z"
   },
   {
    "duration": 10,
    "start_time": "2024-08-29T20:06:22.369Z"
   },
   {
    "duration": 4,
    "start_time": "2024-08-29T20:06:32.211Z"
   },
   {
    "duration": 9,
    "start_time": "2024-08-29T20:06:35.320Z"
   },
   {
    "duration": 68,
    "start_time": "2024-08-29T20:07:27.662Z"
   },
   {
    "duration": 8,
    "start_time": "2024-08-29T20:07:36.599Z"
   },
   {
    "duration": 456,
    "start_time": "2024-08-29T20:07:36.608Z"
   },
   {
    "duration": 53,
    "start_time": "2024-08-29T20:07:37.066Z"
   },
   {
    "duration": 8,
    "start_time": "2024-08-29T20:07:37.121Z"
   },
   {
    "duration": 30,
    "start_time": "2024-08-29T20:07:37.130Z"
   },
   {
    "duration": 73,
    "start_time": "2024-08-29T20:07:56.603Z"
   },
   {
    "duration": 8,
    "start_time": "2024-08-29T20:09:31.703Z"
   },
   {
    "duration": 398,
    "start_time": "2024-08-29T20:09:31.713Z"
   },
   {
    "duration": 56,
    "start_time": "2024-08-29T20:09:32.113Z"
   },
   {
    "duration": 80,
    "start_time": "2024-08-29T20:09:32.171Z"
   },
   {
    "duration": 0,
    "start_time": "2024-08-29T20:09:32.253Z"
   },
   {
    "duration": 11,
    "start_time": "2024-08-29T20:14:51.680Z"
   },
   {
    "duration": 5,
    "start_time": "2024-08-29T20:14:52.969Z"
   },
   {
    "duration": 4,
    "start_time": "2024-08-29T20:15:38.751Z"
   },
   {
    "duration": 9,
    "start_time": "2024-08-29T20:15:44.507Z"
   },
   {
    "duration": 8,
    "start_time": "2024-08-29T20:17:29.482Z"
   },
   {
    "duration": 8,
    "start_time": "2024-08-29T20:17:30.050Z"
   },
   {
    "duration": 3,
    "start_time": "2024-08-29T20:19:48.364Z"
   },
   {
    "duration": 4,
    "start_time": "2024-08-29T20:19:48.369Z"
   },
   {
    "duration": 30,
    "start_time": "2024-08-29T20:19:48.374Z"
   },
   {
    "duration": 11,
    "start_time": "2024-08-29T20:19:48.406Z"
   },
   {
    "duration": 28,
    "start_time": "2024-08-29T20:19:48.418Z"
   },
   {
    "duration": 7,
    "start_time": "2024-08-29T20:19:48.448Z"
   },
   {
    "duration": 4,
    "start_time": "2024-08-29T20:19:49.669Z"
   },
   {
    "duration": 3,
    "start_time": "2024-08-29T20:19:49.675Z"
   },
   {
    "duration": 25,
    "start_time": "2024-08-29T20:19:49.679Z"
   },
   {
    "duration": 10,
    "start_time": "2024-08-29T20:19:49.707Z"
   },
   {
    "duration": 33,
    "start_time": "2024-08-29T20:19:49.719Z"
   },
   {
    "duration": 11,
    "start_time": "2024-08-29T20:19:49.754Z"
   },
   {
    "duration": 7,
    "start_time": "2024-08-29T20:19:55.952Z"
   },
   {
    "duration": 393,
    "start_time": "2024-08-29T20:19:55.961Z"
   },
   {
    "duration": 53,
    "start_time": "2024-08-29T20:19:56.356Z"
   },
   {
    "duration": 9,
    "start_time": "2024-08-29T20:19:56.411Z"
   },
   {
    "duration": 8,
    "start_time": "2024-08-29T20:19:56.422Z"
   },
   {
    "duration": 6,
    "start_time": "2024-08-29T20:19:56.431Z"
   },
   {
    "duration": 968,
    "start_time": "2024-08-29T20:25:43.315Z"
   },
   {
    "duration": 105,
    "start_time": "2024-08-29T20:26:26.509Z"
   },
   {
    "duration": 10,
    "start_time": "2024-08-29T20:26:39.838Z"
   },
   {
    "duration": 13,
    "start_time": "2024-08-29T20:28:56.442Z"
   },
   {
    "duration": 10,
    "start_time": "2024-08-29T20:29:06.507Z"
   },
   {
    "duration": 1204,
    "start_time": "2024-08-29T20:29:06.519Z"
   },
   {
    "duration": 51,
    "start_time": "2024-08-29T20:29:07.724Z"
   },
   {
    "duration": 10,
    "start_time": "2024-08-29T20:29:07.777Z"
   },
   {
    "duration": 9,
    "start_time": "2024-08-29T20:29:07.790Z"
   },
   {
    "duration": 7,
    "start_time": "2024-08-29T20:29:07.801Z"
   },
   {
    "duration": 121,
    "start_time": "2024-08-29T20:29:07.810Z"
   },
   {
    "duration": 10,
    "start_time": "2024-08-29T20:29:17.934Z"
   },
   {
    "duration": 12,
    "start_time": "2024-08-29T20:31:48.941Z"
   },
   {
    "duration": 11,
    "start_time": "2024-08-29T20:31:55.771Z"
   },
   {
    "duration": 17,
    "start_time": "2024-08-29T20:31:58.771Z"
   },
   {
    "duration": 610,
    "start_time": "2024-08-29T20:32:46.370Z"
   },
   {
    "duration": 7,
    "start_time": "2024-08-30T09:39:04.701Z"
   },
   {
    "duration": 1325,
    "start_time": "2024-08-30T09:39:04.710Z"
   },
   {
    "duration": 112,
    "start_time": "2024-08-30T09:39:06.037Z"
   },
   {
    "duration": 10,
    "start_time": "2024-08-30T09:39:06.151Z"
   },
   {
    "duration": 28,
    "start_time": "2024-08-30T09:39:06.162Z"
   },
   {
    "duration": 28,
    "start_time": "2024-08-30T09:39:06.191Z"
   },
   {
    "duration": 642,
    "start_time": "2024-08-30T09:39:06.221Z"
   },
   {
    "duration": 951,
    "start_time": "2024-08-30T09:39:25.919Z"
   },
   {
    "duration": 208,
    "start_time": "2024-08-30T09:39:27.130Z"
   },
   {
    "duration": 5,
    "start_time": "2024-08-30T09:39:37.384Z"
   },
   {
    "duration": 223,
    "start_time": "2024-08-30T09:39:38.524Z"
   },
   {
    "duration": 302,
    "start_time": "2024-08-30T09:40:02.289Z"
   },
   {
    "duration": 238,
    "start_time": "2024-08-30T09:40:11.031Z"
   },
   {
    "duration": 495,
    "start_time": "2024-08-30T10:52:25.140Z"
   },
   {
    "duration": 7,
    "start_time": "2024-08-30T10:53:02.756Z"
   },
   {
    "duration": 1160,
    "start_time": "2024-08-30T10:53:02.765Z"
   },
   {
    "duration": 50,
    "start_time": "2024-08-30T10:53:03.927Z"
   },
   {
    "duration": 9,
    "start_time": "2024-08-30T10:53:03.979Z"
   },
   {
    "duration": 8,
    "start_time": "2024-08-30T10:53:03.991Z"
   },
   {
    "duration": 7,
    "start_time": "2024-08-30T10:53:04.000Z"
   },
   {
    "duration": 551,
    "start_time": "2024-08-30T10:53:04.009Z"
   },
   {
    "duration": 6,
    "start_time": "2024-08-30T10:53:04.562Z"
   },
   {
    "duration": 261,
    "start_time": "2024-08-30T10:53:04.569Z"
   },
   {
    "duration": 60,
    "start_time": "2024-08-30T10:54:08.426Z"
   },
   {
    "duration": 346,
    "start_time": "2024-08-30T10:54:11.343Z"
   },
   {
    "duration": 577,
    "start_time": "2024-08-30T10:54:21.051Z"
   },
   {
    "duration": 275,
    "start_time": "2024-08-30T12:13:12.582Z"
   },
   {
    "duration": 77,
    "start_time": "2024-08-30T12:37:55.890Z"
   },
   {
    "duration": 5,
    "start_time": "2024-08-30T12:38:02.740Z"
   },
   {
    "duration": 4,
    "start_time": "2024-08-30T12:40:53.523Z"
   },
   {
    "duration": 72,
    "start_time": "2024-08-30T12:40:57.170Z"
   },
   {
    "duration": 4,
    "start_time": "2024-08-30T12:41:03.609Z"
   },
   {
    "duration": 3,
    "start_time": "2024-08-30T12:43:02.182Z"
   },
   {
    "duration": 3,
    "start_time": "2024-08-30T12:43:03.007Z"
   },
   {
    "duration": 122,
    "start_time": "2024-08-30T12:43:04.158Z"
   },
   {
    "duration": 261,
    "start_time": "2024-08-30T12:45:49.972Z"
   },
   {
    "duration": 7,
    "start_time": "2024-08-30T12:46:07.560Z"
   },
   {
    "duration": 1383,
    "start_time": "2024-08-30T12:46:07.569Z"
   },
   {
    "duration": 51,
    "start_time": "2024-08-30T12:46:08.954Z"
   },
   {
    "duration": 9,
    "start_time": "2024-08-30T12:46:09.006Z"
   },
   {
    "duration": 8,
    "start_time": "2024-08-30T12:46:09.017Z"
   },
   {
    "duration": 12,
    "start_time": "2024-08-30T12:46:09.027Z"
   },
   {
    "duration": 7,
    "start_time": "2024-08-30T12:46:09.041Z"
   },
   {
    "duration": 348,
    "start_time": "2024-08-30T12:46:09.049Z"
   },
   {
    "duration": 4,
    "start_time": "2024-08-30T12:46:09.399Z"
   },
   {
    "duration": 25,
    "start_time": "2024-08-30T12:46:09.404Z"
   },
   {
    "duration": 7,
    "start_time": "2024-08-30T12:46:29.758Z"
   },
   {
    "duration": 1352,
    "start_time": "2024-08-30T12:46:29.766Z"
   },
   {
    "duration": 50,
    "start_time": "2024-08-30T12:46:31.120Z"
   },
   {
    "duration": 9,
    "start_time": "2024-08-30T12:46:31.172Z"
   },
   {
    "duration": 46,
    "start_time": "2024-08-30T12:46:31.182Z"
   },
   {
    "duration": 35,
    "start_time": "2024-08-30T12:46:31.229Z"
   },
   {
    "duration": 38,
    "start_time": "2024-08-30T12:46:31.265Z"
   },
   {
    "duration": 324,
    "start_time": "2024-08-30T12:46:31.305Z"
   },
   {
    "duration": 3,
    "start_time": "2024-08-30T12:46:31.631Z"
   },
   {
    "duration": 53,
    "start_time": "2024-08-30T12:46:31.636Z"
   },
   {
    "duration": 219,
    "start_time": "2024-08-30T12:46:41.013Z"
   },
   {
    "duration": 10,
    "start_time": "2024-08-30T12:46:50.961Z"
   },
   {
    "duration": 1478,
    "start_time": "2024-08-30T12:46:50.973Z"
   },
   {
    "duration": 52,
    "start_time": "2024-08-30T12:46:52.452Z"
   },
   {
    "duration": 10,
    "start_time": "2024-08-30T12:46:52.505Z"
   },
   {
    "duration": 18,
    "start_time": "2024-08-30T12:46:52.516Z"
   },
   {
    "duration": 16,
    "start_time": "2024-08-30T12:46:52.535Z"
   },
   {
    "duration": 18,
    "start_time": "2024-08-30T12:46:52.553Z"
   },
   {
    "duration": 287,
    "start_time": "2024-08-30T12:46:52.573Z"
   },
   {
    "duration": 4,
    "start_time": "2024-08-30T12:46:52.861Z"
   },
   {
    "duration": 46,
    "start_time": "2024-08-30T12:46:52.867Z"
   },
   {
    "duration": 49,
    "start_time": "2024-08-30T14:07:43.370Z"
   },
   {
    "duration": 7,
    "start_time": "2024-08-30T14:07:48.703Z"
   },
   {
    "duration": 1557,
    "start_time": "2024-08-30T14:07:48.712Z"
   },
   {
    "duration": 193,
    "start_time": "2024-08-30T14:07:50.271Z"
   },
   {
    "duration": 12,
    "start_time": "2024-08-30T14:07:50.466Z"
   },
   {
    "duration": 23,
    "start_time": "2024-08-30T14:07:50.480Z"
   },
   {
    "duration": 9,
    "start_time": "2024-08-30T14:07:50.504Z"
   },
   {
    "duration": 7,
    "start_time": "2024-08-30T14:07:50.514Z"
   },
   {
    "duration": 367,
    "start_time": "2024-08-30T14:07:50.523Z"
   },
   {
    "duration": 4,
    "start_time": "2024-08-30T14:07:50.892Z"
   },
   {
    "duration": 42,
    "start_time": "2024-08-30T14:07:50.897Z"
   },
   {
    "duration": 10,
    "start_time": "2024-08-30T14:19:00.051Z"
   },
   {
    "duration": 127,
    "start_time": "2024-08-30T14:19:10.812Z"
   },
   {
    "duration": 4,
    "start_time": "2024-08-30T14:19:16.384Z"
   },
   {
    "duration": 4,
    "start_time": "2024-08-30T14:19:25.049Z"
   },
   {
    "duration": 4,
    "start_time": "2024-08-30T14:37:18.027Z"
   },
   {
    "duration": 7,
    "start_time": "2024-08-30T14:37:20.080Z"
   },
   {
    "duration": 15,
    "start_time": "2024-08-30T14:37:24.217Z"
   },
   {
    "duration": 4,
    "start_time": "2024-08-30T14:42:03.439Z"
   },
   {
    "duration": 17,
    "start_time": "2024-08-30T14:42:05.354Z"
   },
   {
    "duration": 4,
    "start_time": "2024-08-30T14:42:24.318Z"
   },
   {
    "duration": 6,
    "start_time": "2024-08-30T14:42:24.622Z"
   },
   {
    "duration": 8,
    "start_time": "2024-08-30T14:43:56.003Z"
   },
   {
    "duration": 1385,
    "start_time": "2024-08-30T14:43:56.013Z"
   },
   {
    "duration": 56,
    "start_time": "2024-08-30T14:43:57.399Z"
   },
   {
    "duration": 11,
    "start_time": "2024-08-30T14:43:57.457Z"
   },
   {
    "duration": 31,
    "start_time": "2024-08-30T14:43:57.471Z"
   },
   {
    "duration": 7,
    "start_time": "2024-08-30T14:43:57.503Z"
   },
   {
    "duration": 7,
    "start_time": "2024-08-30T14:43:57.511Z"
   },
   {
    "duration": 4,
    "start_time": "2024-08-30T14:43:57.929Z"
   },
   {
    "duration": 5,
    "start_time": "2024-08-30T14:43:57.935Z"
   },
   {
    "duration": 4,
    "start_time": "2024-08-30T14:43:57.941Z"
   },
   {
    "duration": 9,
    "start_time": "2024-08-30T14:47:48.888Z"
   },
   {
    "duration": 1374,
    "start_time": "2024-08-30T14:47:48.899Z"
   },
   {
    "duration": 56,
    "start_time": "2024-08-30T14:47:50.274Z"
   },
   {
    "duration": 10,
    "start_time": "2024-08-30T14:47:50.332Z"
   },
   {
    "duration": 17,
    "start_time": "2024-08-30T14:47:50.344Z"
   },
   {
    "duration": 7,
    "start_time": "2024-08-30T14:47:50.362Z"
   },
   {
    "duration": 10,
    "start_time": "2024-08-30T14:47:50.370Z"
   },
   {
    "duration": 348,
    "start_time": "2024-08-30T14:47:50.382Z"
   },
   {
    "duration": 7,
    "start_time": "2024-08-30T14:47:50.732Z"
   },
   {
    "duration": 11,
    "start_time": "2024-08-30T14:47:50.741Z"
   },
   {
    "duration": 5,
    "start_time": "2024-08-30T14:47:50.754Z"
   },
   {
    "duration": 34,
    "start_time": "2024-08-30T14:47:50.761Z"
   },
   {
    "duration": 5,
    "start_time": "2024-08-30T14:47:50.796Z"
   },
   {
    "duration": 12,
    "start_time": "2024-08-30T14:47:50.802Z"
   },
   {
    "duration": 12,
    "start_time": "2024-08-30T14:47:50.816Z"
   },
   {
    "duration": 9,
    "start_time": "2024-08-30T14:48:34.976Z"
   },
   {
    "duration": 10,
    "start_time": "2024-08-30T14:48:50.187Z"
   },
   {
    "duration": 7,
    "start_time": "2024-08-30T14:49:17.542Z"
   },
   {
    "duration": 5,
    "start_time": "2024-08-30T14:49:19.654Z"
   },
   {
    "duration": 15,
    "start_time": "2024-08-30T14:49:56.392Z"
   },
   {
    "duration": 1555,
    "start_time": "2024-08-30T16:48:49.939Z"
   },
   {
    "duration": 8,
    "start_time": "2024-08-30T16:48:59.305Z"
   },
   {
    "duration": 1388,
    "start_time": "2024-08-30T16:48:59.315Z"
   },
   {
    "duration": 200,
    "start_time": "2024-08-30T16:49:00.704Z"
   },
   {
    "duration": 10,
    "start_time": "2024-08-30T16:49:00.906Z"
   },
   {
    "duration": 21,
    "start_time": "2024-08-30T16:49:00.918Z"
   },
   {
    "duration": 7,
    "start_time": "2024-08-30T16:49:00.940Z"
   },
   {
    "duration": 34,
    "start_time": "2024-08-30T16:49:00.948Z"
   },
   {
    "duration": 363,
    "start_time": "2024-08-30T16:49:00.983Z"
   },
   {
    "duration": 7,
    "start_time": "2024-08-30T16:49:01.348Z"
   },
   {
    "duration": 12,
    "start_time": "2024-08-30T16:49:01.356Z"
   },
   {
    "duration": 6,
    "start_time": "2024-08-30T16:49:01.369Z"
   },
   {
    "duration": 7,
    "start_time": "2024-08-30T16:49:01.376Z"
   },
   {
    "duration": 10,
    "start_time": "2024-08-30T16:49:01.384Z"
   },
   {
    "duration": 15,
    "start_time": "2024-08-30T16:49:01.396Z"
   },
   {
    "duration": 12,
    "start_time": "2024-08-30T16:49:01.412Z"
   },
   {
    "duration": 2,
    "start_time": "2024-08-30T16:50:14.117Z"
   },
   {
    "duration": 13,
    "start_time": "2024-08-30T16:52:21.853Z"
   },
   {
    "duration": 11,
    "start_time": "2024-08-30T16:52:30.156Z"
   },
   {
    "duration": 7,
    "start_time": "2024-08-30T16:53:46.057Z"
   },
   {
    "duration": 3,
    "start_time": "2024-08-30T17:03:19.064Z"
   },
   {
    "duration": 4,
    "start_time": "2024-08-30T17:05:11.999Z"
   },
   {
    "duration": 193,
    "start_time": "2024-08-30T17:05:12.005Z"
   },
   {
    "duration": 41,
    "start_time": "2024-08-30T17:05:12.200Z"
   },
   {
    "duration": 29,
    "start_time": "2024-08-30T17:05:12.242Z"
   },
   {
    "duration": 17,
    "start_time": "2024-08-30T17:05:12.272Z"
   },
   {
    "duration": 58,
    "start_time": "2024-08-30T17:05:12.292Z"
   },
   {
    "duration": 42,
    "start_time": "2024-08-30T17:05:12.352Z"
   },
   {
    "duration": 388,
    "start_time": "2024-08-30T17:05:12.396Z"
   },
   {
    "duration": 11,
    "start_time": "2024-08-30T17:05:12.786Z"
   },
   {
    "duration": 14,
    "start_time": "2024-08-30T17:05:12.799Z"
   },
   {
    "duration": 6,
    "start_time": "2024-08-30T17:05:12.814Z"
   },
   {
    "duration": 39,
    "start_time": "2024-08-30T17:05:12.822Z"
   },
   {
    "duration": 33,
    "start_time": "2024-08-30T17:05:12.863Z"
   },
   {
    "duration": 41,
    "start_time": "2024-08-30T17:05:12.898Z"
   },
   {
    "duration": 22,
    "start_time": "2024-08-30T17:05:12.940Z"
   },
   {
    "duration": 20,
    "start_time": "2024-08-30T17:05:12.964Z"
   },
   {
    "duration": 24,
    "start_time": "2024-08-30T17:05:12.986Z"
   },
   {
    "duration": 112,
    "start_time": "2024-08-30T17:05:13.012Z"
   },
   {
    "duration": 121,
    "start_time": "2024-08-30T17:07:12.425Z"
   },
   {
    "duration": 10,
    "start_time": "2024-08-30T17:07:49.389Z"
   },
   {
    "duration": 9,
    "start_time": "2024-08-30T17:07:49.785Z"
   },
   {
    "duration": 8,
    "start_time": "2024-08-30T17:07:51.125Z"
   },
   {
    "duration": 29,
    "start_time": "2024-08-30T17:08:13.029Z"
   },
   {
    "duration": 4,
    "start_time": "2024-08-30T17:08:15.465Z"
   },
   {
    "duration": 8,
    "start_time": "2024-08-30T17:09:36.290Z"
   },
   {
    "duration": 1423,
    "start_time": "2024-08-30T17:09:36.499Z"
   },
   {
    "duration": 58,
    "start_time": "2024-08-30T17:09:37.923Z"
   },
   {
    "duration": 11,
    "start_time": "2024-08-30T17:09:39.527Z"
   },
   {
    "duration": 22,
    "start_time": "2024-08-30T17:09:39.540Z"
   },
   {
    "duration": 7,
    "start_time": "2024-08-30T17:09:39.634Z"
   },
   {
    "duration": 7,
    "start_time": "2024-08-30T17:09:39.643Z"
   },
   {
    "duration": 347,
    "start_time": "2024-08-30T17:09:39.651Z"
   },
   {
    "duration": 8,
    "start_time": "2024-08-30T17:09:40.094Z"
   },
   {
    "duration": 15,
    "start_time": "2024-08-30T17:09:40.108Z"
   },
   {
    "duration": 4,
    "start_time": "2024-08-30T17:09:40.190Z"
   },
   {
    "duration": 17,
    "start_time": "2024-08-30T17:09:40.196Z"
   },
   {
    "duration": 4,
    "start_time": "2024-08-30T17:09:40.215Z"
   },
   {
    "duration": 12,
    "start_time": "2024-08-30T17:09:40.220Z"
   },
   {
    "duration": 7,
    "start_time": "2024-08-30T17:09:40.234Z"
   },
   {
    "duration": 4,
    "start_time": "2024-08-30T17:09:40.242Z"
   },
   {
    "duration": 3,
    "start_time": "2024-08-30T17:09:40.247Z"
   },
   {
    "duration": 17972,
    "start_time": "2024-08-30T17:09:40.252Z"
   },
   {
    "duration": 116,
    "start_time": "2024-08-30T17:09:58.226Z"
   },
   {
    "duration": 48,
    "start_time": "2024-08-30T17:10:14.957Z"
   },
   {
    "duration": 19,
    "start_time": "2024-08-30T17:10:31.166Z"
   },
   {
    "duration": 9,
    "start_time": "2024-08-30T17:11:25.163Z"
   },
   {
    "duration": 3,
    "start_time": "2024-08-30T17:11:29.966Z"
   },
   {
    "duration": 48,
    "start_time": "2024-08-30T17:11:36.557Z"
   },
   {
    "duration": 18,
    "start_time": "2024-08-30T17:11:36.701Z"
   },
   {
    "duration": 4,
    "start_time": "2024-08-30T17:11:51.764Z"
   },
   {
    "duration": 7,
    "start_time": "2024-08-30T17:11:53.298Z"
   },
   {
    "duration": 6,
    "start_time": "2024-08-30T17:11:53.872Z"
   },
   {
    "duration": 19,
    "start_time": "2024-08-30T17:11:54.108Z"
   },
   {
    "duration": 0,
    "start_time": "2024-08-30T17:11:54.128Z"
   },
   {
    "duration": 7,
    "start_time": "2024-08-30T17:11:54.136Z"
   },
   {
    "duration": 4,
    "start_time": "2024-08-30T17:11:54.507Z"
   },
   {
    "duration": 9,
    "start_time": "2024-08-30T17:12:06.659Z"
   },
   {
    "duration": 1488,
    "start_time": "2024-08-30T17:12:06.669Z"
   },
   {
    "duration": 56,
    "start_time": "2024-08-30T17:12:08.158Z"
   },
   {
    "duration": 11,
    "start_time": "2024-08-30T17:12:08.216Z"
   },
   {
    "duration": 18,
    "start_time": "2024-08-30T17:12:08.228Z"
   },
   {
    "duration": 15,
    "start_time": "2024-08-30T17:12:08.247Z"
   },
   {
    "duration": 7,
    "start_time": "2024-08-30T17:12:08.264Z"
   },
   {
    "duration": 389,
    "start_time": "2024-08-30T17:12:08.273Z"
   },
   {
    "duration": 7,
    "start_time": "2024-08-30T17:12:08.664Z"
   },
   {
    "duration": 26,
    "start_time": "2024-08-30T17:12:08.674Z"
   },
   {
    "duration": 71,
    "start_time": "2024-08-30T17:12:08.702Z"
   },
   {
    "duration": 20,
    "start_time": "2024-08-30T17:12:08.774Z"
   },
   {
    "duration": 26,
    "start_time": "2024-08-30T17:12:08.795Z"
   },
   {
    "duration": 37,
    "start_time": "2024-08-30T17:12:08.823Z"
   },
   {
    "duration": 15,
    "start_time": "2024-08-30T17:12:08.862Z"
   },
   {
    "duration": 13,
    "start_time": "2024-08-30T17:12:08.879Z"
   },
   {
    "duration": 15,
    "start_time": "2024-08-30T17:12:08.893Z"
   },
   {
    "duration": 18145,
    "start_time": "2024-08-30T17:12:08.910Z"
   },
   {
    "duration": 3,
    "start_time": "2024-08-30T17:12:27.056Z"
   },
   {
    "duration": 61,
    "start_time": "2024-08-30T17:12:27.060Z"
   },
   {
    "duration": 18,
    "start_time": "2024-08-30T17:12:27.123Z"
   },
   {
    "duration": 8,
    "start_time": "2024-08-30T17:12:56.819Z"
   },
   {
    "duration": 1373,
    "start_time": "2024-08-30T17:12:56.830Z"
   },
   {
    "duration": 57,
    "start_time": "2024-08-30T17:12:58.205Z"
   },
   {
    "duration": 10,
    "start_time": "2024-08-30T17:12:58.264Z"
   },
   {
    "duration": 10,
    "start_time": "2024-08-30T17:12:58.275Z"
   },
   {
    "duration": 6,
    "start_time": "2024-08-30T17:12:58.287Z"
   },
   {
    "duration": 8,
    "start_time": "2024-08-30T17:12:58.294Z"
   },
   {
    "duration": 375,
    "start_time": "2024-08-30T17:12:58.303Z"
   },
   {
    "duration": 8,
    "start_time": "2024-08-30T17:12:58.680Z"
   },
   {
    "duration": 39,
    "start_time": "2024-08-30T17:12:58.690Z"
   },
   {
    "duration": 4,
    "start_time": "2024-08-30T17:12:58.731Z"
   },
   {
    "duration": 16,
    "start_time": "2024-08-30T17:12:58.737Z"
   },
   {
    "duration": 4,
    "start_time": "2024-08-30T17:12:58.755Z"
   },
   {
    "duration": 15,
    "start_time": "2024-08-30T17:12:58.761Z"
   },
   {
    "duration": 8,
    "start_time": "2024-08-30T17:12:58.778Z"
   },
   {
    "duration": 4,
    "start_time": "2024-08-30T17:12:58.787Z"
   },
   {
    "duration": 3,
    "start_time": "2024-08-30T17:12:58.793Z"
   },
   {
    "duration": 36590,
    "start_time": "2024-08-30T17:12:58.798Z"
   },
   {
    "duration": 8,
    "start_time": "2024-08-30T17:13:35.390Z"
   },
   {
    "duration": 83,
    "start_time": "2024-08-30T17:13:35.399Z"
   },
   {
    "duration": 14,
    "start_time": "2024-08-30T17:13:35.484Z"
   },
   {
    "duration": 3,
    "start_time": "2024-08-30T17:27:55.151Z"
   },
   {
    "duration": 23,
    "start_time": "2024-08-30T17:28:57.745Z"
   },
   {
    "duration": 117,
    "start_time": "2024-08-30T17:29:34.382Z"
   },
   {
    "duration": 44,
    "start_time": "2024-08-30T17:30:18.537Z"
   },
   {
    "duration": 4,
    "start_time": "2024-08-30T17:30:22.528Z"
   },
   {
    "duration": 83139,
    "start_time": "2024-08-30T17:30:32.143Z"
   },
   {
    "duration": 3,
    "start_time": "2024-08-30T17:31:55.283Z"
   },
   {
    "duration": 13,
    "start_time": "2024-08-30T17:31:55.287Z"
   },
   {
    "duration": 41,
    "start_time": "2024-08-30T17:31:55.301Z"
   },
   {
    "duration": 4,
    "start_time": "2024-08-30T17:43:51.176Z"
   },
   {
    "duration": 16341,
    "start_time": "2024-08-30T17:44:02.558Z"
   },
   {
    "duration": 2,
    "start_time": "2024-08-30T17:44:18.901Z"
   },
   {
    "duration": 12,
    "start_time": "2024-08-30T17:44:24.189Z"
   },
   {
    "duration": 11,
    "start_time": "2024-08-30T17:44:32.294Z"
   },
   {
    "duration": 4,
    "start_time": "2024-08-30T17:44:44.091Z"
   },
   {
    "duration": 11241,
    "start_time": "2024-08-30T17:44:44.567Z"
   },
   {
    "duration": 2,
    "start_time": "2024-08-30T17:44:55.810Z"
   },
   {
    "duration": 20,
    "start_time": "2024-08-30T17:44:55.898Z"
   },
   {
    "duration": 85,
    "start_time": "2024-08-30T17:44:55.921Z"
   },
   {
    "duration": 4,
    "start_time": "2024-08-30T17:45:01.795Z"
   },
   {
    "duration": 20479,
    "start_time": "2024-08-30T17:45:01.923Z"
   },
   {
    "duration": 2,
    "start_time": "2024-08-30T17:45:22.404Z"
   },
   {
    "duration": 26,
    "start_time": "2024-08-30T17:45:22.408Z"
   },
   {
    "duration": 10,
    "start_time": "2024-08-30T17:45:22.499Z"
   },
   {
    "duration": 4,
    "start_time": "2024-08-30T17:45:50.462Z"
   },
   {
    "duration": 5,
    "start_time": "2024-08-30T17:45:58.965Z"
   },
   {
    "duration": 4,
    "start_time": "2024-08-30T17:46:06.243Z"
   },
   {
    "duration": 4,
    "start_time": "2024-08-30T17:47:02.026Z"
   },
   {
    "duration": 11,
    "start_time": "2024-08-30T17:48:07.387Z"
   },
   {
    "duration": 11,
    "start_time": "2024-08-30T17:48:33.802Z"
   },
   {
    "duration": 10,
    "start_time": "2024-08-30T17:48:40.191Z"
   },
   {
    "duration": 10,
    "start_time": "2024-08-30T17:48:57.619Z"
   },
   {
    "duration": 11,
    "start_time": "2024-08-30T17:49:25.583Z"
   },
   {
    "duration": 8,
    "start_time": "2024-08-30T17:49:32.602Z"
   },
   {
    "duration": 1461,
    "start_time": "2024-08-30T17:49:32.612Z"
   },
   {
    "duration": 61,
    "start_time": "2024-08-30T17:49:34.075Z"
   },
   {
    "duration": 11,
    "start_time": "2024-08-30T17:49:34.137Z"
   },
   {
    "duration": 12,
    "start_time": "2024-08-30T17:49:34.151Z"
   },
   {
    "duration": 8,
    "start_time": "2024-08-30T17:49:34.165Z"
   },
   {
    "duration": 24,
    "start_time": "2024-08-30T17:49:34.174Z"
   },
   {
    "duration": 355,
    "start_time": "2024-08-30T17:49:34.199Z"
   },
   {
    "duration": 9,
    "start_time": "2024-08-30T17:49:34.556Z"
   },
   {
    "duration": 10,
    "start_time": "2024-08-30T17:49:34.567Z"
   },
   {
    "duration": 5,
    "start_time": "2024-08-30T17:49:34.579Z"
   },
   {
    "duration": 11,
    "start_time": "2024-08-30T17:49:34.586Z"
   },
   {
    "duration": 4,
    "start_time": "2024-08-30T17:49:34.599Z"
   },
   {
    "duration": 102,
    "start_time": "2024-08-30T17:49:34.606Z"
   },
   {
    "duration": 22,
    "start_time": "2024-08-30T17:49:34.709Z"
   },
   {
    "duration": 5,
    "start_time": "2024-08-30T17:49:34.733Z"
   },
   {
    "duration": 5,
    "start_time": "2024-08-30T17:49:34.739Z"
   },
   {
    "duration": 8,
    "start_time": "2024-08-30T17:49:45.898Z"
   },
   {
    "duration": 1576,
    "start_time": "2024-08-30T17:49:45.908Z"
   },
   {
    "duration": 58,
    "start_time": "2024-08-30T17:49:47.485Z"
   },
   {
    "duration": 15,
    "start_time": "2024-08-30T17:49:47.545Z"
   },
   {
    "duration": 12,
    "start_time": "2024-08-30T17:49:47.562Z"
   },
   {
    "duration": 6,
    "start_time": "2024-08-30T17:49:47.576Z"
   },
   {
    "duration": 16,
    "start_time": "2024-08-30T17:49:47.584Z"
   },
   {
    "duration": 364,
    "start_time": "2024-08-30T17:49:47.602Z"
   },
   {
    "duration": 7,
    "start_time": "2024-08-30T17:49:47.968Z"
   },
   {
    "duration": 37,
    "start_time": "2024-08-30T17:49:47.977Z"
   },
   {
    "duration": 24,
    "start_time": "2024-08-30T17:49:48.016Z"
   },
   {
    "duration": 8,
    "start_time": "2024-08-30T17:49:48.041Z"
   },
   {
    "duration": 3,
    "start_time": "2024-08-30T17:49:48.051Z"
   },
   {
    "duration": 86,
    "start_time": "2024-08-30T17:49:48.057Z"
   },
   {
    "duration": 6,
    "start_time": "2024-08-30T17:49:48.145Z"
   },
   {
    "duration": 11,
    "start_time": "2024-08-30T17:49:48.153Z"
   },
   {
    "duration": 4,
    "start_time": "2024-08-30T17:49:48.165Z"
   },
   {
    "duration": 36443,
    "start_time": "2024-08-30T17:49:48.170Z"
   },
   {
    "duration": 5,
    "start_time": "2024-08-30T17:50:24.614Z"
   },
   {
    "duration": 40,
    "start_time": "2024-08-30T17:50:24.620Z"
   },
   {
    "duration": 4,
    "start_time": "2024-08-30T17:50:24.662Z"
   },
   {
    "duration": 51431,
    "start_time": "2024-08-30T17:50:24.667Z"
   },
   {
    "duration": 4,
    "start_time": "2024-08-30T17:51:16.100Z"
   },
   {
    "duration": 9,
    "start_time": "2024-08-30T17:51:16.106Z"
   },
   {
    "duration": 4,
    "start_time": "2024-08-30T17:51:16.117Z"
   },
   {
    "duration": 22281,
    "start_time": "2024-08-30T17:51:16.122Z"
   },
   {
    "duration": 6,
    "start_time": "2024-08-30T17:51:38.405Z"
   },
   {
    "duration": 87,
    "start_time": "2024-08-30T17:51:38.415Z"
   },
   {
    "duration": 36,
    "start_time": "2024-08-30T17:51:38.504Z"
   },
   {
    "duration": 6,
    "start_time": "2024-08-30T17:51:38.541Z"
   },
   {
    "duration": 26,
    "start_time": "2024-08-30T17:51:38.597Z"
   },
   {
    "duration": 14,
    "start_time": "2024-08-30T17:51:45.591Z"
   },
   {
    "duration": 5,
    "start_time": "2024-08-30T17:51:45.900Z"
   },
   {
    "duration": 14,
    "start_time": "2024-08-30T17:51:45.907Z"
   },
   {
    "duration": 4,
    "start_time": "2024-08-30T17:55:33.943Z"
   },
   {
    "duration": 20867,
    "start_time": "2024-08-30T17:55:34.134Z"
   },
   {
    "duration": 4,
    "start_time": "2024-08-30T17:55:55.003Z"
   },
   {
    "duration": 12,
    "start_time": "2024-08-30T17:55:55.009Z"
   },
   {
    "duration": 82,
    "start_time": "2024-08-30T17:55:55.023Z"
   },
   {
    "duration": 5,
    "start_time": "2024-08-30T17:55:55.106Z"
   },
   {
    "duration": 9,
    "start_time": "2024-08-30T17:55:55.113Z"
   },
   {
    "duration": 8,
    "start_time": "2024-08-30T17:59:55.695Z"
   },
   {
    "duration": 1464,
    "start_time": "2024-08-30T17:59:55.705Z"
   },
   {
    "duration": 58,
    "start_time": "2024-08-30T17:59:57.171Z"
   },
   {
    "duration": 10,
    "start_time": "2024-08-30T17:59:57.231Z"
   },
   {
    "duration": 38,
    "start_time": "2024-08-30T17:59:57.244Z"
   },
   {
    "duration": 6,
    "start_time": "2024-08-30T17:59:57.284Z"
   },
   {
    "duration": 8,
    "start_time": "2024-08-30T17:59:57.291Z"
   },
   {
    "duration": 382,
    "start_time": "2024-08-30T17:59:57.300Z"
   },
   {
    "duration": 8,
    "start_time": "2024-08-30T17:59:57.683Z"
   },
   {
    "duration": 9,
    "start_time": "2024-08-30T17:59:57.693Z"
   },
   {
    "duration": 13,
    "start_time": "2024-08-30T17:59:57.703Z"
   },
   {
    "duration": 13,
    "start_time": "2024-08-30T17:59:57.717Z"
   },
   {
    "duration": 4,
    "start_time": "2024-08-30T17:59:57.731Z"
   },
   {
    "duration": 100,
    "start_time": "2024-08-30T17:59:57.738Z"
   },
   {
    "duration": 6,
    "start_time": "2024-08-30T17:59:57.839Z"
   },
   {
    "duration": 17,
    "start_time": "2024-08-30T17:59:57.847Z"
   },
   {
    "duration": 5,
    "start_time": "2024-08-30T17:59:57.865Z"
   },
   {
    "duration": 36665,
    "start_time": "2024-08-30T17:59:57.871Z"
   },
   {
    "duration": 4,
    "start_time": "2024-08-30T18:00:34.538Z"
   },
   {
    "duration": 44,
    "start_time": "2024-08-30T18:00:34.543Z"
   },
   {
    "duration": 9,
    "start_time": "2024-08-30T18:00:34.589Z"
   },
   {
    "duration": 50845,
    "start_time": "2024-08-30T18:00:34.600Z"
   },
   {
    "duration": 4,
    "start_time": "2024-08-30T18:01:25.446Z"
   },
   {
    "duration": 8,
    "start_time": "2024-08-30T18:01:25.452Z"
   },
   {
    "duration": 4,
    "start_time": "2024-08-30T18:01:25.461Z"
   },
   {
    "duration": 20546,
    "start_time": "2024-08-30T18:01:25.466Z"
   },
   {
    "duration": 85,
    "start_time": "2024-08-30T18:01:46.014Z"
   },
   {
    "duration": 19,
    "start_time": "2024-08-30T18:01:46.101Z"
   },
   {
    "duration": 78,
    "start_time": "2024-08-30T18:01:46.122Z"
   },
   {
    "duration": 5,
    "start_time": "2024-08-30T18:01:46.202Z"
   },
   {
    "duration": 13,
    "start_time": "2024-08-30T18:01:46.209Z"
   },
   {
    "duration": 5,
    "start_time": "2024-08-30T18:03:34.853Z"
   },
   {
    "duration": 44,
    "start_time": "2024-08-31T10:22:20.309Z"
   },
   {
    "duration": 3,
    "start_time": "2024-08-31T10:22:22.327Z"
   },
   {
    "duration": 1508,
    "start_time": "2024-08-31T10:22:22.628Z"
   },
   {
    "duration": 182,
    "start_time": "2024-08-31T10:22:24.138Z"
   },
   {
    "duration": 49,
    "start_time": "2024-08-31T10:23:08.744Z"
   },
   {
    "duration": 7,
    "start_time": "2024-08-31T10:23:16.011Z"
   },
   {
    "duration": 1343,
    "start_time": "2024-08-31T10:23:16.020Z"
   },
   {
    "duration": 54,
    "start_time": "2024-08-31T10:23:17.365Z"
   },
   {
    "duration": 1045,
    "start_time": "2024-08-31T10:23:17.421Z"
   },
   {
    "duration": 0,
    "start_time": "2024-08-31T10:23:18.469Z"
   },
   {
    "duration": 0,
    "start_time": "2024-08-31T10:23:18.470Z"
   },
   {
    "duration": 0,
    "start_time": "2024-08-31T10:23:18.471Z"
   },
   {
    "duration": 0,
    "start_time": "2024-08-31T10:23:18.473Z"
   },
   {
    "duration": 0,
    "start_time": "2024-08-31T10:23:18.474Z"
   },
   {
    "duration": 0,
    "start_time": "2024-08-31T10:23:18.475Z"
   },
   {
    "duration": 0,
    "start_time": "2024-08-31T10:23:18.476Z"
   },
   {
    "duration": 0,
    "start_time": "2024-08-31T10:23:18.477Z"
   },
   {
    "duration": 0,
    "start_time": "2024-08-31T10:23:18.478Z"
   },
   {
    "duration": 0,
    "start_time": "2024-08-31T10:23:18.479Z"
   },
   {
    "duration": 0,
    "start_time": "2024-08-31T10:23:18.480Z"
   },
   {
    "duration": 0,
    "start_time": "2024-08-31T10:23:18.481Z"
   },
   {
    "duration": 0,
    "start_time": "2024-08-31T10:23:18.483Z"
   },
   {
    "duration": 0,
    "start_time": "2024-08-31T10:23:18.484Z"
   },
   {
    "duration": 0,
    "start_time": "2024-08-31T10:23:18.485Z"
   },
   {
    "duration": 0,
    "start_time": "2024-08-31T10:23:18.486Z"
   },
   {
    "duration": 0,
    "start_time": "2024-08-31T10:23:18.487Z"
   },
   {
    "duration": 0,
    "start_time": "2024-08-31T10:23:18.488Z"
   },
   {
    "duration": 0,
    "start_time": "2024-08-31T10:23:18.489Z"
   },
   {
    "duration": 0,
    "start_time": "2024-08-31T10:23:18.490Z"
   },
   {
    "duration": 0,
    "start_time": "2024-08-31T10:23:18.491Z"
   },
   {
    "duration": 0,
    "start_time": "2024-08-31T10:23:18.493Z"
   },
   {
    "duration": 0,
    "start_time": "2024-08-31T10:23:18.494Z"
   },
   {
    "duration": 0,
    "start_time": "2024-08-31T10:23:18.495Z"
   },
   {
    "duration": 0,
    "start_time": "2024-08-31T10:23:18.496Z"
   },
   {
    "duration": 0,
    "start_time": "2024-08-31T10:23:18.497Z"
   },
   {
    "duration": 0,
    "start_time": "2024-08-31T10:23:18.498Z"
   },
   {
    "duration": 7,
    "start_time": "2024-08-31T10:23:36.763Z"
   },
   {
    "duration": 1408,
    "start_time": "2024-08-31T10:23:36.771Z"
   },
   {
    "duration": 54,
    "start_time": "2024-08-31T10:23:38.181Z"
   },
   {
    "duration": 1232,
    "start_time": "2024-08-31T10:23:38.236Z"
   },
   {
    "duration": 0,
    "start_time": "2024-08-31T10:23:39.471Z"
   },
   {
    "duration": 0,
    "start_time": "2024-08-31T10:23:39.473Z"
   },
   {
    "duration": 0,
    "start_time": "2024-08-31T10:23:39.474Z"
   },
   {
    "duration": 0,
    "start_time": "2024-08-31T10:23:39.475Z"
   },
   {
    "duration": 0,
    "start_time": "2024-08-31T10:23:39.476Z"
   },
   {
    "duration": 0,
    "start_time": "2024-08-31T10:23:39.478Z"
   },
   {
    "duration": 0,
    "start_time": "2024-08-31T10:23:39.479Z"
   },
   {
    "duration": 0,
    "start_time": "2024-08-31T10:23:39.480Z"
   },
   {
    "duration": 0,
    "start_time": "2024-08-31T10:23:39.481Z"
   },
   {
    "duration": 0,
    "start_time": "2024-08-31T10:23:39.483Z"
   },
   {
    "duration": 0,
    "start_time": "2024-08-31T10:23:39.484Z"
   },
   {
    "duration": 0,
    "start_time": "2024-08-31T10:23:39.485Z"
   },
   {
    "duration": 0,
    "start_time": "2024-08-31T10:23:39.487Z"
   },
   {
    "duration": 0,
    "start_time": "2024-08-31T10:23:39.488Z"
   },
   {
    "duration": 0,
    "start_time": "2024-08-31T10:23:39.489Z"
   },
   {
    "duration": 0,
    "start_time": "2024-08-31T10:23:39.491Z"
   },
   {
    "duration": 0,
    "start_time": "2024-08-31T10:23:39.492Z"
   },
   {
    "duration": 0,
    "start_time": "2024-08-31T10:23:39.493Z"
   },
   {
    "duration": 0,
    "start_time": "2024-08-31T10:23:39.494Z"
   },
   {
    "duration": 0,
    "start_time": "2024-08-31T10:23:39.496Z"
   },
   {
    "duration": 0,
    "start_time": "2024-08-31T10:23:39.497Z"
   },
   {
    "duration": 0,
    "start_time": "2024-08-31T10:23:39.498Z"
   },
   {
    "duration": 0,
    "start_time": "2024-08-31T10:23:39.501Z"
   },
   {
    "duration": 0,
    "start_time": "2024-08-31T10:23:39.501Z"
   },
   {
    "duration": 0,
    "start_time": "2024-08-31T10:23:39.502Z"
   },
   {
    "duration": 0,
    "start_time": "2024-08-31T10:23:39.503Z"
   },
   {
    "duration": 0,
    "start_time": "2024-08-31T10:23:39.504Z"
   },
   {
    "duration": 3,
    "start_time": "2024-08-31T10:23:58.595Z"
   },
   {
    "duration": 7,
    "start_time": "2024-08-31T10:24:11.356Z"
   },
   {
    "duration": 1377,
    "start_time": "2024-08-31T10:24:11.365Z"
   },
   {
    "duration": 53,
    "start_time": "2024-08-31T10:24:12.743Z"
   },
   {
    "duration": 3,
    "start_time": "2024-08-31T10:24:12.799Z"
   },
   {
    "duration": 14,
    "start_time": "2024-08-31T10:24:12.803Z"
   },
   {
    "duration": 8,
    "start_time": "2024-08-31T10:24:12.819Z"
   },
   {
    "duration": 7,
    "start_time": "2024-08-31T10:24:12.829Z"
   },
   {
    "duration": 305,
    "start_time": "2024-08-31T10:24:12.837Z"
   },
   {
    "duration": 6,
    "start_time": "2024-08-31T10:24:13.143Z"
   },
   {
    "duration": 9,
    "start_time": "2024-08-31T10:24:13.152Z"
   },
   {
    "duration": 4,
    "start_time": "2024-08-31T10:24:13.162Z"
   },
   {
    "duration": 25,
    "start_time": "2024-08-31T10:24:13.168Z"
   },
   {
    "duration": 3,
    "start_time": "2024-08-31T10:24:13.194Z"
   },
   {
    "duration": 31,
    "start_time": "2024-08-31T10:24:13.199Z"
   },
   {
    "duration": 8,
    "start_time": "2024-08-31T10:24:13.232Z"
   },
   {
    "duration": 9,
    "start_time": "2024-08-31T10:24:13.241Z"
   },
   {
    "duration": 8,
    "start_time": "2024-08-31T10:24:13.252Z"
   },
   {
    "duration": 31678,
    "start_time": "2024-08-31T10:24:13.261Z"
   },
   {
    "duration": 4,
    "start_time": "2024-08-31T10:24:44.940Z"
   },
   {
    "duration": 45,
    "start_time": "2024-08-31T10:24:44.945Z"
   },
   {
    "duration": 4,
    "start_time": "2024-08-31T10:24:44.991Z"
   },
   {
    "duration": 44951,
    "start_time": "2024-08-31T10:24:44.996Z"
   },
   {
    "duration": 3,
    "start_time": "2024-08-31T10:25:29.949Z"
   },
   {
    "duration": 25,
    "start_time": "2024-08-31T10:25:29.954Z"
   },
   {
    "duration": 6,
    "start_time": "2024-08-31T10:25:29.980Z"
   },
   {
    "duration": 18412,
    "start_time": "2024-08-31T10:25:29.987Z"
   },
   {
    "duration": 3,
    "start_time": "2024-08-31T10:25:48.401Z"
   },
   {
    "duration": 87,
    "start_time": "2024-08-31T10:25:48.406Z"
   },
   {
    "duration": 13,
    "start_time": "2024-08-31T10:25:48.495Z"
   },
   {
    "duration": 5,
    "start_time": "2024-08-31T10:25:48.509Z"
   },
   {
    "duration": 29,
    "start_time": "2024-08-31T10:25:48.515Z"
   },
   {
    "duration": 7,
    "start_time": "2024-08-31T11:02:59.569Z"
   },
   {
    "duration": 632,
    "start_time": "2024-08-31T11:03:03.786Z"
   },
   {
    "duration": 7,
    "start_time": "2024-08-31T11:03:24.888Z"
   },
   {
    "duration": 1374,
    "start_time": "2024-08-31T11:03:24.897Z"
   },
   {
    "duration": 56,
    "start_time": "2024-08-31T11:03:26.272Z"
   },
   {
    "duration": 7,
    "start_time": "2024-08-31T11:03:26.330Z"
   },
   {
    "duration": 35,
    "start_time": "2024-08-31T11:03:26.339Z"
   },
   {
    "duration": 43,
    "start_time": "2024-08-31T11:03:26.376Z"
   },
   {
    "duration": 306,
    "start_time": "2024-08-31T11:03:26.420Z"
   },
   {
    "duration": 7,
    "start_time": "2024-08-31T11:03:26.727Z"
   },
   {
    "duration": 12,
    "start_time": "2024-08-31T11:03:26.736Z"
   },
   {
    "duration": 6,
    "start_time": "2024-08-31T11:03:26.751Z"
   },
   {
    "duration": 4,
    "start_time": "2024-08-31T11:03:26.758Z"
   },
   {
    "duration": 19,
    "start_time": "2024-08-31T11:03:26.763Z"
   },
   {
    "duration": 6,
    "start_time": "2024-08-31T11:03:26.783Z"
   },
   {
    "duration": 3,
    "start_time": "2024-08-31T11:03:26.791Z"
   },
   {
    "duration": 107,
    "start_time": "2024-08-31T11:03:26.796Z"
   },
   {
    "duration": 0,
    "start_time": "2024-08-31T11:03:26.905Z"
   },
   {
    "duration": 0,
    "start_time": "2024-08-31T11:03:26.906Z"
   },
   {
    "duration": 0,
    "start_time": "2024-08-31T11:03:26.907Z"
   },
   {
    "duration": 0,
    "start_time": "2024-08-31T11:03:26.908Z"
   },
   {
    "duration": 0,
    "start_time": "2024-08-31T11:03:26.909Z"
   },
   {
    "duration": 0,
    "start_time": "2024-08-31T11:03:26.911Z"
   },
   {
    "duration": 0,
    "start_time": "2024-08-31T11:03:26.912Z"
   },
   {
    "duration": 0,
    "start_time": "2024-08-31T11:03:26.913Z"
   },
   {
    "duration": 0,
    "start_time": "2024-08-31T11:03:26.914Z"
   },
   {
    "duration": 0,
    "start_time": "2024-08-31T11:03:26.915Z"
   },
   {
    "duration": 0,
    "start_time": "2024-08-31T11:03:26.917Z"
   },
   {
    "duration": 0,
    "start_time": "2024-08-31T11:03:26.917Z"
   },
   {
    "duration": 0,
    "start_time": "2024-08-31T11:03:26.919Z"
   },
   {
    "duration": 0,
    "start_time": "2024-08-31T11:03:26.920Z"
   },
   {
    "duration": 22,
    "start_time": "2024-08-31T11:04:39.705Z"
   },
   {
    "duration": 100,
    "start_time": "2024-08-31T11:09:26.754Z"
   },
   {
    "duration": 1634,
    "start_time": "2024-08-31T11:10:06.465Z"
   },
   {
    "duration": 3,
    "start_time": "2024-08-31T11:11:00.031Z"
   },
   {
    "duration": 3,
    "start_time": "2024-08-31T11:11:02.219Z"
   },
   {
    "duration": 1573,
    "start_time": "2024-08-31T11:11:15.417Z"
   },
   {
    "duration": 1704,
    "start_time": "2024-08-31T11:13:04.390Z"
   },
   {
    "duration": 1632,
    "start_time": "2024-08-31T11:14:33.767Z"
   },
   {
    "duration": 1693,
    "start_time": "2024-08-31T11:24:38.297Z"
   },
   {
    "duration": 31,
    "start_time": "2024-08-31T11:33:45.936Z"
   },
   {
    "duration": 18,
    "start_time": "2024-08-31T11:37:24.636Z"
   },
   {
    "duration": 8,
    "start_time": "2024-08-31T11:37:38.093Z"
   },
   {
    "duration": 1418,
    "start_time": "2024-08-31T11:37:38.102Z"
   },
   {
    "duration": 53,
    "start_time": "2024-08-31T11:37:39.522Z"
   },
   {
    "duration": 7,
    "start_time": "2024-08-31T11:37:39.577Z"
   },
   {
    "duration": 11,
    "start_time": "2024-08-31T11:37:39.586Z"
   },
   {
    "duration": 35,
    "start_time": "2024-08-31T11:37:39.598Z"
   },
   {
    "duration": 384,
    "start_time": "2024-08-31T11:37:39.634Z"
   },
   {
    "duration": 1776,
    "start_time": "2024-08-31T11:37:40.019Z"
   },
   {
    "duration": 297,
    "start_time": "2024-08-31T11:37:41.797Z"
   },
   {
    "duration": 0,
    "start_time": "2024-08-31T11:37:42.096Z"
   },
   {
    "duration": 0,
    "start_time": "2024-08-31T11:37:42.097Z"
   },
   {
    "duration": 0,
    "start_time": "2024-08-31T11:37:42.098Z"
   },
   {
    "duration": 0,
    "start_time": "2024-08-31T11:37:42.099Z"
   },
   {
    "duration": 0,
    "start_time": "2024-08-31T11:37:42.100Z"
   },
   {
    "duration": 0,
    "start_time": "2024-08-31T11:37:42.101Z"
   },
   {
    "duration": 0,
    "start_time": "2024-08-31T11:37:42.102Z"
   },
   {
    "duration": 0,
    "start_time": "2024-08-31T11:37:42.103Z"
   },
   {
    "duration": 0,
    "start_time": "2024-08-31T11:37:42.104Z"
   },
   {
    "duration": 0,
    "start_time": "2024-08-31T11:37:42.105Z"
   },
   {
    "duration": 0,
    "start_time": "2024-08-31T11:37:42.107Z"
   },
   {
    "duration": 0,
    "start_time": "2024-08-31T11:37:42.108Z"
   },
   {
    "duration": 0,
    "start_time": "2024-08-31T11:37:42.109Z"
   },
   {
    "duration": 0,
    "start_time": "2024-08-31T11:37:42.110Z"
   },
   {
    "duration": 0,
    "start_time": "2024-08-31T11:37:42.111Z"
   },
   {
    "duration": 0,
    "start_time": "2024-08-31T11:37:42.112Z"
   },
   {
    "duration": 0,
    "start_time": "2024-08-31T11:37:42.113Z"
   },
   {
    "duration": 0,
    "start_time": "2024-08-31T11:37:42.114Z"
   },
   {
    "duration": 0,
    "start_time": "2024-08-31T11:37:42.115Z"
   },
   {
    "duration": 0,
    "start_time": "2024-08-31T11:37:42.116Z"
   },
   {
    "duration": 0,
    "start_time": "2024-08-31T11:37:42.117Z"
   },
   {
    "duration": 0,
    "start_time": "2024-08-31T11:37:42.118Z"
   },
   {
    "duration": 0,
    "start_time": "2024-08-31T11:37:42.119Z"
   },
   {
    "duration": 4,
    "start_time": "2024-08-31T11:38:41.655Z"
   },
   {
    "duration": 4,
    "start_time": "2024-08-31T11:39:53.053Z"
   },
   {
    "duration": 276,
    "start_time": "2024-08-31T11:39:53.628Z"
   },
   {
    "duration": 1690,
    "start_time": "2024-08-31T11:39:53.905Z"
   },
   {
    "duration": 193,
    "start_time": "2024-08-31T11:39:55.597Z"
   },
   {
    "duration": 5,
    "start_time": "2024-08-31T11:40:15.537Z"
   },
   {
    "duration": 4,
    "start_time": "2024-08-31T11:46:10.575Z"
   },
   {
    "duration": 21,
    "start_time": "2024-08-31T11:46:11.697Z"
   },
   {
    "duration": 6,
    "start_time": "2024-08-31T11:52:01.014Z"
   },
   {
    "duration": 1418,
    "start_time": "2024-08-31T11:52:01.022Z"
   },
   {
    "duration": 70,
    "start_time": "2024-08-31T11:52:02.441Z"
   },
   {
    "duration": 10,
    "start_time": "2024-08-31T11:52:02.513Z"
   },
   {
    "duration": 8,
    "start_time": "2024-08-31T11:52:02.525Z"
   },
   {
    "duration": 7,
    "start_time": "2024-08-31T11:52:02.534Z"
   },
   {
    "duration": 383,
    "start_time": "2024-08-31T11:52:02.543Z"
   },
   {
    "duration": 2063,
    "start_time": "2024-08-31T11:52:02.928Z"
   },
   {
    "duration": 5,
    "start_time": "2024-08-31T11:52:04.993Z"
   },
   {
    "duration": 130,
    "start_time": "2024-08-31T11:52:05.090Z"
   },
   {
    "duration": 0,
    "start_time": "2024-08-31T11:52:05.222Z"
   },
   {
    "duration": 0,
    "start_time": "2024-08-31T11:52:05.224Z"
   },
   {
    "duration": 0,
    "start_time": "2024-08-31T11:52:05.225Z"
   },
   {
    "duration": 0,
    "start_time": "2024-08-31T11:52:05.226Z"
   },
   {
    "duration": 0,
    "start_time": "2024-08-31T11:52:05.227Z"
   },
   {
    "duration": 0,
    "start_time": "2024-08-31T11:52:05.228Z"
   },
   {
    "duration": 0,
    "start_time": "2024-08-31T11:52:05.229Z"
   },
   {
    "duration": 0,
    "start_time": "2024-08-31T11:52:05.230Z"
   },
   {
    "duration": 0,
    "start_time": "2024-08-31T11:52:05.231Z"
   },
   {
    "duration": 0,
    "start_time": "2024-08-31T11:52:05.232Z"
   },
   {
    "duration": 0,
    "start_time": "2024-08-31T11:52:05.233Z"
   },
   {
    "duration": 0,
    "start_time": "2024-08-31T11:52:05.234Z"
   },
   {
    "duration": 0,
    "start_time": "2024-08-31T11:52:05.235Z"
   },
   {
    "duration": 0,
    "start_time": "2024-08-31T11:52:05.236Z"
   },
   {
    "duration": 0,
    "start_time": "2024-08-31T11:52:05.238Z"
   },
   {
    "duration": 0,
    "start_time": "2024-08-31T11:52:05.239Z"
   },
   {
    "duration": 0,
    "start_time": "2024-08-31T11:52:05.240Z"
   },
   {
    "duration": 0,
    "start_time": "2024-08-31T11:52:05.241Z"
   },
   {
    "duration": 0,
    "start_time": "2024-08-31T11:52:05.242Z"
   },
   {
    "duration": 0,
    "start_time": "2024-08-31T11:52:05.243Z"
   },
   {
    "duration": 0,
    "start_time": "2024-08-31T11:52:05.243Z"
   },
   {
    "duration": 0,
    "start_time": "2024-08-31T11:52:05.244Z"
   },
   {
    "duration": 5,
    "start_time": "2024-08-31T11:52:32.537Z"
   },
   {
    "duration": 13,
    "start_time": "2024-08-31T11:52:53.209Z"
   },
   {
    "duration": 666,
    "start_time": "2024-08-31T11:52:57.676Z"
   },
   {
    "duration": 11,
    "start_time": "2024-08-31T11:53:08.185Z"
   },
   {
    "duration": 657,
    "start_time": "2024-08-31T11:55:18.188Z"
   },
   {
    "duration": 595,
    "start_time": "2024-08-31T11:56:34.568Z"
   },
   {
    "duration": 375,
    "start_time": "2024-08-31T11:59:21.431Z"
   },
   {
    "duration": 258,
    "start_time": "2024-08-31T12:00:05.710Z"
   },
   {
    "duration": 273,
    "start_time": "2024-08-31T12:03:47.978Z"
   },
   {
    "duration": 657,
    "start_time": "2024-08-31T12:03:56.806Z"
   },
   {
    "duration": 402,
    "start_time": "2024-08-31T16:08:15.040Z"
   },
   {
    "duration": 273,
    "start_time": "2024-08-31T16:08:30.259Z"
   },
   {
    "duration": 5,
    "start_time": "2024-08-31T16:25:37.760Z"
   },
   {
    "duration": 6,
    "start_time": "2024-08-31T16:25:42.163Z"
   },
   {
    "duration": 1190,
    "start_time": "2024-08-31T16:27:17.462Z"
   },
   {
    "duration": 5,
    "start_time": "2024-08-31T16:27:37.922Z"
   },
   {
    "duration": 55,
    "start_time": "2024-08-31T16:27:56.524Z"
   },
   {
    "duration": 6,
    "start_time": "2024-08-31T16:27:59.863Z"
   },
   {
    "duration": 11,
    "start_time": "2024-08-31T16:28:00.955Z"
   },
   {
    "duration": 571,
    "start_time": "2024-08-31T16:28:04.272Z"
   },
   {
    "duration": 4,
    "start_time": "2024-08-31T16:45:02.114Z"
   },
   {
    "duration": 7,
    "start_time": "2024-08-31T16:45:25.446Z"
   },
   {
    "duration": 8,
    "start_time": "2024-08-31T16:46:17.968Z"
   },
   {
    "duration": 7,
    "start_time": "2024-08-31T16:46:18.334Z"
   },
   {
    "duration": 14,
    "start_time": "2024-08-31T16:47:35.781Z"
   },
   {
    "duration": 10,
    "start_time": "2024-08-31T16:54:33.239Z"
   },
   {
    "duration": 1356,
    "start_time": "2024-08-31T16:54:33.251Z"
   },
   {
    "duration": 55,
    "start_time": "2024-08-31T16:54:34.608Z"
   },
   {
    "duration": 7,
    "start_time": "2024-08-31T16:54:34.665Z"
   },
   {
    "duration": 10,
    "start_time": "2024-08-31T16:54:34.673Z"
   },
   {
    "duration": 33,
    "start_time": "2024-08-31T16:54:34.685Z"
   },
   {
    "duration": 362,
    "start_time": "2024-08-31T16:54:34.720Z"
   },
   {
    "duration": 1816,
    "start_time": "2024-08-31T16:54:35.083Z"
   },
   {
    "duration": 5,
    "start_time": "2024-08-31T16:54:36.991Z"
   },
   {
    "duration": 770,
    "start_time": "2024-08-31T16:54:37.001Z"
   },
   {
    "duration": 5,
    "start_time": "2024-08-31T16:54:37.773Z"
   },
   {
    "duration": 571,
    "start_time": "2024-08-31T16:54:37.789Z"
   },
   {
    "duration": 4,
    "start_time": "2024-08-31T16:54:38.362Z"
   },
   {
    "duration": 22,
    "start_time": "2024-08-31T16:54:38.367Z"
   },
   {
    "duration": 8,
    "start_time": "2024-08-31T16:54:38.391Z"
   },
   {
    "duration": 11,
    "start_time": "2024-08-31T16:54:38.400Z"
   },
   {
    "duration": 13,
    "start_time": "2024-08-31T16:54:38.412Z"
   },
   {
    "duration": 10,
    "start_time": "2024-08-31T16:54:38.427Z"
   },
   {
    "duration": 8,
    "start_time": "2024-08-31T16:54:38.438Z"
   },
   {
    "duration": 121,
    "start_time": "2024-08-31T16:54:38.447Z"
   },
   {
    "duration": 0,
    "start_time": "2024-08-31T16:54:38.570Z"
   },
   {
    "duration": 0,
    "start_time": "2024-08-31T16:54:38.571Z"
   },
   {
    "duration": 0,
    "start_time": "2024-08-31T16:54:38.572Z"
   },
   {
    "duration": 0,
    "start_time": "2024-08-31T16:54:38.573Z"
   },
   {
    "duration": 0,
    "start_time": "2024-08-31T16:54:38.574Z"
   },
   {
    "duration": 0,
    "start_time": "2024-08-31T16:54:38.574Z"
   },
   {
    "duration": 0,
    "start_time": "2024-08-31T16:54:38.576Z"
   },
   {
    "duration": 0,
    "start_time": "2024-08-31T16:54:38.589Z"
   },
   {
    "duration": 0,
    "start_time": "2024-08-31T16:54:38.590Z"
   },
   {
    "duration": 0,
    "start_time": "2024-08-31T16:54:38.590Z"
   },
   {
    "duration": 0,
    "start_time": "2024-08-31T16:54:38.591Z"
   },
   {
    "duration": 0,
    "start_time": "2024-08-31T16:54:38.592Z"
   },
   {
    "duration": 0,
    "start_time": "2024-08-31T16:54:38.593Z"
   },
   {
    "duration": 0,
    "start_time": "2024-08-31T16:54:38.595Z"
   },
   {
    "duration": 10,
    "start_time": "2024-08-31T16:55:53.904Z"
   },
   {
    "duration": 4,
    "start_time": "2024-08-31T16:56:10.357Z"
   },
   {
    "duration": 7,
    "start_time": "2024-08-31T16:56:19.139Z"
   },
   {
    "duration": 1387,
    "start_time": "2024-08-31T16:56:19.147Z"
   },
   {
    "duration": 55,
    "start_time": "2024-08-31T16:56:20.535Z"
   },
   {
    "duration": 8,
    "start_time": "2024-08-31T16:56:20.591Z"
   },
   {
    "duration": 5,
    "start_time": "2024-08-31T16:56:20.600Z"
   },
   {
    "duration": 21,
    "start_time": "2024-08-31T16:56:20.606Z"
   },
   {
    "duration": 370,
    "start_time": "2024-08-31T16:56:20.628Z"
   },
   {
    "duration": 1795,
    "start_time": "2024-08-31T16:56:20.999Z"
   },
   {
    "duration": 93,
    "start_time": "2024-08-31T16:56:22.798Z"
   },
   {
    "duration": 780,
    "start_time": "2024-08-31T16:56:22.894Z"
   },
   {
    "duration": 5,
    "start_time": "2024-08-31T16:56:23.675Z"
   },
   {
    "duration": 548,
    "start_time": "2024-08-31T16:56:23.689Z"
   },
   {
    "duration": 3,
    "start_time": "2024-08-31T16:56:24.239Z"
   },
   {
    "duration": 13,
    "start_time": "2024-08-31T16:56:24.243Z"
   },
   {
    "duration": 7,
    "start_time": "2024-08-31T16:56:24.257Z"
   },
   {
    "duration": 7,
    "start_time": "2024-08-31T16:56:24.265Z"
   },
   {
    "duration": 25,
    "start_time": "2024-08-31T16:56:24.273Z"
   },
   {
    "duration": 6,
    "start_time": "2024-08-31T16:56:24.299Z"
   },
   {
    "duration": 7,
    "start_time": "2024-08-31T16:56:24.306Z"
   },
   {
    "duration": 3,
    "start_time": "2024-08-31T16:56:24.314Z"
   },
   {
    "duration": 41643,
    "start_time": "2024-08-31T16:56:24.318Z"
   },
   {
    "duration": 3,
    "start_time": "2024-08-31T16:57:05.963Z"
   },
   {
    "duration": 75,
    "start_time": "2024-08-31T16:57:05.967Z"
   },
   {
    "duration": 4,
    "start_time": "2024-08-31T16:57:06.044Z"
   },
   {
    "duration": 7,
    "start_time": "2024-08-31T16:58:04.094Z"
   },
   {
    "duration": 1407,
    "start_time": "2024-08-31T16:58:04.103Z"
   },
   {
    "duration": 55,
    "start_time": "2024-08-31T16:58:05.512Z"
   },
   {
    "duration": 7,
    "start_time": "2024-08-31T16:58:05.569Z"
   },
   {
    "duration": 19,
    "start_time": "2024-08-31T16:58:05.577Z"
   },
   {
    "duration": 23,
    "start_time": "2024-08-31T16:58:05.597Z"
   },
   {
    "duration": 389,
    "start_time": "2024-08-31T16:58:05.621Z"
   },
   {
    "duration": 1579,
    "start_time": "2024-08-31T16:58:06.011Z"
   },
   {
    "duration": 96,
    "start_time": "2024-08-31T16:58:07.593Z"
   },
   {
    "duration": 693,
    "start_time": "2024-08-31T16:58:07.690Z"
   },
   {
    "duration": 9,
    "start_time": "2024-08-31T16:58:08.384Z"
   },
   {
    "duration": 599,
    "start_time": "2024-08-31T16:58:08.394Z"
   },
   {
    "duration": 3,
    "start_time": "2024-08-31T16:58:08.994Z"
   },
   {
    "duration": 14,
    "start_time": "2024-08-31T16:58:08.998Z"
   },
   {
    "duration": 8,
    "start_time": "2024-08-31T16:58:09.013Z"
   },
   {
    "duration": 5,
    "start_time": "2024-08-31T16:58:09.023Z"
   },
   {
    "duration": 50,
    "start_time": "2024-08-31T16:58:09.030Z"
   },
   {
    "duration": 0,
    "start_time": "2024-08-31T16:58:09.082Z"
   },
   {
    "duration": 0,
    "start_time": "2024-08-31T16:58:09.083Z"
   },
   {
    "duration": 0,
    "start_time": "2024-08-31T16:58:09.084Z"
   },
   {
    "duration": 0,
    "start_time": "2024-08-31T16:58:09.085Z"
   },
   {
    "duration": 0,
    "start_time": "2024-08-31T16:58:09.086Z"
   },
   {
    "duration": 0,
    "start_time": "2024-08-31T16:58:09.087Z"
   },
   {
    "duration": 0,
    "start_time": "2024-08-31T16:58:09.088Z"
   },
   {
    "duration": 0,
    "start_time": "2024-08-31T16:58:09.089Z"
   },
   {
    "duration": 0,
    "start_time": "2024-08-31T16:58:09.090Z"
   },
   {
    "duration": 0,
    "start_time": "2024-08-31T16:58:09.091Z"
   },
   {
    "duration": 0,
    "start_time": "2024-08-31T16:58:09.092Z"
   },
   {
    "duration": 0,
    "start_time": "2024-08-31T16:58:09.093Z"
   },
   {
    "duration": 0,
    "start_time": "2024-08-31T16:58:09.093Z"
   },
   {
    "duration": 0,
    "start_time": "2024-08-31T16:58:09.095Z"
   },
   {
    "duration": 0,
    "start_time": "2024-08-31T16:58:09.096Z"
   },
   {
    "duration": 0,
    "start_time": "2024-08-31T16:58:09.097Z"
   },
   {
    "duration": 0,
    "start_time": "2024-08-31T16:58:09.098Z"
   },
   {
    "duration": 0,
    "start_time": "2024-08-31T16:58:09.098Z"
   },
   {
    "duration": 0,
    "start_time": "2024-08-31T16:58:09.099Z"
   },
   {
    "duration": 632,
    "start_time": "2024-08-31T16:58:18.716Z"
   },
   {
    "duration": 245,
    "start_time": "2024-08-31T17:00:28.765Z"
   },
   {
    "duration": 5,
    "start_time": "2024-08-31T17:00:57.492Z"
   },
   {
    "duration": 4,
    "start_time": "2024-08-31T17:01:08.307Z"
   },
   {
    "duration": 4,
    "start_time": "2024-08-31T17:01:16.646Z"
   },
   {
    "duration": 4,
    "start_time": "2024-08-31T17:01:23.246Z"
   },
   {
    "duration": 297,
    "start_time": "2024-08-31T17:02:21.640Z"
   },
   {
    "duration": 232,
    "start_time": "2024-08-31T17:03:51.517Z"
   },
   {
    "duration": 221,
    "start_time": "2024-08-31T17:04:39.013Z"
   },
   {
    "duration": 377,
    "start_time": "2024-08-31T17:04:49.718Z"
   },
   {
    "duration": 432,
    "start_time": "2024-08-31T17:05:06.575Z"
   },
   {
    "duration": 276,
    "start_time": "2024-08-31T17:05:53.241Z"
   },
   {
    "duration": 229,
    "start_time": "2024-08-31T17:06:18.121Z"
   },
   {
    "duration": 352,
    "start_time": "2024-08-31T17:07:18.421Z"
   },
   {
    "duration": 308,
    "start_time": "2024-08-31T17:07:20.989Z"
   },
   {
    "duration": 112,
    "start_time": "2024-08-31T17:09:09.889Z"
   },
   {
    "duration": 8,
    "start_time": "2024-08-31T17:09:23.008Z"
   },
   {
    "duration": 271,
    "start_time": "2024-08-31T17:09:27.372Z"
   },
   {
    "duration": 279,
    "start_time": "2024-08-31T17:11:30.941Z"
   },
   {
    "duration": 235,
    "start_time": "2024-08-31T17:11:46.207Z"
   },
   {
    "duration": 259,
    "start_time": "2024-08-31T17:13:09.091Z"
   },
   {
    "duration": 130,
    "start_time": "2024-08-31T17:13:51.520Z"
   },
   {
    "duration": 290,
    "start_time": "2024-08-31T17:14:22.938Z"
   },
   {
    "duration": 217,
    "start_time": "2024-08-31T17:14:53.322Z"
   },
   {
    "duration": 258,
    "start_time": "2024-08-31T17:15:18.599Z"
   },
   {
    "duration": 301,
    "start_time": "2024-08-31T17:15:23.754Z"
   },
   {
    "duration": 277,
    "start_time": "2024-08-31T17:15:51.146Z"
   },
   {
    "duration": 359,
    "start_time": "2024-08-31T17:15:55.332Z"
   },
   {
    "duration": 1057,
    "start_time": "2024-08-31T17:16:36.123Z"
   },
   {
    "duration": 1123,
    "start_time": "2024-08-31T17:17:20.672Z"
   },
   {
    "duration": 1126,
    "start_time": "2024-08-31T17:17:25.378Z"
   },
   {
    "duration": 1224,
    "start_time": "2024-08-31T17:19:07.041Z"
   },
   {
    "duration": 7,
    "start_time": "2024-08-31T17:20:53.008Z"
   },
   {
    "duration": 1423,
    "start_time": "2024-08-31T17:20:53.017Z"
   },
   {
    "duration": 54,
    "start_time": "2024-08-31T17:20:54.441Z"
   },
   {
    "duration": 7,
    "start_time": "2024-08-31T17:20:54.497Z"
   },
   {
    "duration": 10,
    "start_time": "2024-08-31T17:20:54.506Z"
   },
   {
    "duration": 9,
    "start_time": "2024-08-31T17:20:54.518Z"
   },
   {
    "duration": 374,
    "start_time": "2024-08-31T17:20:54.528Z"
   },
   {
    "duration": 1891,
    "start_time": "2024-08-31T17:20:54.903Z"
   },
   {
    "duration": 3,
    "start_time": "2024-08-31T17:20:56.889Z"
   },
   {
    "duration": 676,
    "start_time": "2024-08-31T17:20:56.895Z"
   },
   {
    "duration": 5,
    "start_time": "2024-08-31T17:20:57.573Z"
   },
   {
    "duration": 571,
    "start_time": "2024-08-31T17:20:57.579Z"
   },
   {
    "duration": 3,
    "start_time": "2024-08-31T17:20:58.152Z"
   },
   {
    "duration": 9,
    "start_time": "2024-08-31T17:20:58.156Z"
   },
   {
    "duration": 24,
    "start_time": "2024-08-31T17:20:58.167Z"
   },
   {
    "duration": 7,
    "start_time": "2024-08-31T17:20:58.193Z"
   },
   {
    "duration": 11,
    "start_time": "2024-08-31T17:20:58.201Z"
   },
   {
    "duration": 237,
    "start_time": "2024-08-31T17:20:58.213Z"
   },
   {
    "duration": 282,
    "start_time": "2024-08-31T17:20:58.452Z"
   },
   {
    "duration": 344,
    "start_time": "2024-08-31T17:20:58.735Z"
   },
   {
    "duration": 273,
    "start_time": "2024-08-31T17:20:59.080Z"
   },
   {
    "duration": 1174,
    "start_time": "2024-08-31T17:20:59.355Z"
   },
   {
    "duration": 13,
    "start_time": "2024-08-31T17:21:00.531Z"
   },
   {
    "duration": 11,
    "start_time": "2024-08-31T17:21:00.546Z"
   },
   {
    "duration": 10,
    "start_time": "2024-08-31T17:21:00.559Z"
   },
   {
    "duration": 9,
    "start_time": "2024-08-31T17:21:00.570Z"
   },
   {
    "duration": 41425,
    "start_time": "2024-08-31T17:21:00.580Z"
   },
   {
    "duration": 3,
    "start_time": "2024-08-31T17:21:42.009Z"
   },
   {
    "duration": 79,
    "start_time": "2024-08-31T17:21:42.013Z"
   },
   {
    "duration": 4,
    "start_time": "2024-08-31T17:21:42.093Z"
   },
   {
    "duration": 7,
    "start_time": "2024-08-31T17:21:57.670Z"
   },
   {
    "duration": 1415,
    "start_time": "2024-08-31T17:21:57.678Z"
   },
   {
    "duration": 55,
    "start_time": "2024-08-31T17:21:59.094Z"
   },
   {
    "duration": 8,
    "start_time": "2024-08-31T17:21:59.150Z"
   },
   {
    "duration": 5,
    "start_time": "2024-08-31T17:21:59.160Z"
   },
   {
    "duration": 6,
    "start_time": "2024-08-31T17:21:59.167Z"
   },
   {
    "duration": 384,
    "start_time": "2024-08-31T17:21:59.174Z"
   },
   {
    "duration": 1830,
    "start_time": "2024-08-31T17:21:59.559Z"
   },
   {
    "duration": 8,
    "start_time": "2024-08-31T17:22:01.391Z"
   },
   {
    "duration": 688,
    "start_time": "2024-08-31T17:22:01.490Z"
   },
   {
    "duration": 5,
    "start_time": "2024-08-31T17:22:02.180Z"
   },
   {
    "duration": 644,
    "start_time": "2024-08-31T17:22:02.190Z"
   },
   {
    "duration": 3,
    "start_time": "2024-08-31T17:22:02.835Z"
   },
   {
    "duration": 16,
    "start_time": "2024-08-31T17:22:02.841Z"
   },
   {
    "duration": 12,
    "start_time": "2024-08-31T17:22:02.859Z"
   },
   {
    "duration": 54,
    "start_time": "2024-08-31T17:22:02.872Z"
   },
   {
    "duration": 11,
    "start_time": "2024-08-31T17:22:02.928Z"
   },
   {
    "duration": 29,
    "start_time": "2024-08-31T17:22:02.940Z"
   },
   {
    "duration": 296,
    "start_time": "2024-08-31T17:22:02.970Z"
   },
   {
    "duration": 294,
    "start_time": "2024-08-31T17:22:03.268Z"
   },
   {
    "duration": 355,
    "start_time": "2024-08-31T17:22:03.564Z"
   },
   {
    "duration": 237,
    "start_time": "2024-08-31T17:22:03.921Z"
   },
   {
    "duration": 1112,
    "start_time": "2024-08-31T17:22:04.160Z"
   },
   {
    "duration": 21,
    "start_time": "2024-08-31T17:22:05.273Z"
   },
   {
    "duration": 6,
    "start_time": "2024-08-31T17:22:05.295Z"
   },
   {
    "duration": 22,
    "start_time": "2024-08-31T17:22:05.302Z"
   },
   {
    "duration": 3,
    "start_time": "2024-08-31T17:22:05.325Z"
   },
   {
    "duration": 7,
    "start_time": "2024-08-31T17:22:35.892Z"
   },
   {
    "duration": 1595,
    "start_time": "2024-08-31T17:22:35.901Z"
   },
   {
    "duration": 55,
    "start_time": "2024-08-31T17:22:37.497Z"
   },
   {
    "duration": 7,
    "start_time": "2024-08-31T17:22:37.553Z"
   },
   {
    "duration": 11,
    "start_time": "2024-08-31T17:22:37.562Z"
   },
   {
    "duration": 15,
    "start_time": "2024-08-31T17:22:37.575Z"
   },
   {
    "duration": 407,
    "start_time": "2024-08-31T17:22:37.591Z"
   },
   {
    "duration": 1795,
    "start_time": "2024-08-31T17:22:37.999Z"
   },
   {
    "duration": 94,
    "start_time": "2024-08-31T17:22:39.796Z"
   },
   {
    "duration": 779,
    "start_time": "2024-08-31T17:22:39.892Z"
   },
   {
    "duration": 17,
    "start_time": "2024-08-31T17:22:40.673Z"
   },
   {
    "duration": 554,
    "start_time": "2024-08-31T17:22:40.691Z"
   },
   {
    "duration": 3,
    "start_time": "2024-08-31T17:22:41.246Z"
   },
   {
    "duration": 9,
    "start_time": "2024-08-31T17:22:41.252Z"
   },
   {
    "duration": 11,
    "start_time": "2024-08-31T17:22:41.262Z"
   },
   {
    "duration": 29,
    "start_time": "2024-08-31T17:22:41.274Z"
   },
   {
    "duration": 23,
    "start_time": "2024-08-31T17:22:41.304Z"
   },
   {
    "duration": 14,
    "start_time": "2024-08-31T17:22:41.328Z"
   },
   {
    "duration": 296,
    "start_time": "2024-08-31T17:22:41.343Z"
   },
   {
    "duration": 296,
    "start_time": "2024-08-31T17:22:41.640Z"
   },
   {
    "duration": 346,
    "start_time": "2024-08-31T17:22:41.937Z"
   },
   {
    "duration": 257,
    "start_time": "2024-08-31T17:22:42.290Z"
   },
   {
    "duration": 1111,
    "start_time": "2024-08-31T17:22:42.549Z"
   },
   {
    "duration": 13,
    "start_time": "2024-08-31T17:22:43.661Z"
   },
   {
    "duration": 14,
    "start_time": "2024-08-31T17:22:43.675Z"
   },
   {
    "duration": 3,
    "start_time": "2024-08-31T17:22:43.691Z"
   },
   {
    "duration": 26,
    "start_time": "2024-08-31T17:22:43.696Z"
   },
   {
    "duration": 7,
    "start_time": "2024-08-31T17:23:06.263Z"
   },
   {
    "duration": 1423,
    "start_time": "2024-08-31T17:23:06.271Z"
   },
   {
    "duration": 55,
    "start_time": "2024-08-31T17:23:07.695Z"
   },
   {
    "duration": 7,
    "start_time": "2024-08-31T17:23:07.751Z"
   },
   {
    "duration": 14,
    "start_time": "2024-08-31T17:23:07.760Z"
   },
   {
    "duration": 13,
    "start_time": "2024-08-31T17:23:07.775Z"
   },
   {
    "duration": 364,
    "start_time": "2024-08-31T17:23:07.790Z"
   },
   {
    "duration": 1840,
    "start_time": "2024-08-31T17:23:08.155Z"
   },
   {
    "duration": 92,
    "start_time": "2024-08-31T17:23:09.998Z"
   },
   {
    "duration": 802,
    "start_time": "2024-08-31T17:23:10.093Z"
   },
   {
    "duration": 5,
    "start_time": "2024-08-31T17:23:10.897Z"
   },
   {
    "duration": 604,
    "start_time": "2024-08-31T17:23:10.904Z"
   },
   {
    "duration": 3,
    "start_time": "2024-08-31T17:23:11.510Z"
   },
   {
    "duration": 8,
    "start_time": "2024-08-31T17:23:11.516Z"
   },
   {
    "duration": 6,
    "start_time": "2024-08-31T17:23:11.525Z"
   },
   {
    "duration": 6,
    "start_time": "2024-08-31T17:23:11.532Z"
   },
   {
    "duration": 4,
    "start_time": "2024-08-31T17:23:11.539Z"
   },
   {
    "duration": 3,
    "start_time": "2024-08-31T17:23:11.544Z"
   },
   {
    "duration": 291,
    "start_time": "2024-08-31T17:23:11.548Z"
   },
   {
    "duration": 293,
    "start_time": "2024-08-31T17:23:11.841Z"
   },
   {
    "duration": 349,
    "start_time": "2024-08-31T17:23:12.135Z"
   },
   {
    "duration": 257,
    "start_time": "2024-08-31T17:23:12.490Z"
   },
   {
    "duration": 1106,
    "start_time": "2024-08-31T17:23:12.748Z"
   },
   {
    "duration": 13,
    "start_time": "2024-08-31T17:23:13.855Z"
   },
   {
    "duration": 40,
    "start_time": "2024-08-31T17:23:13.869Z"
   },
   {
    "duration": 16,
    "start_time": "2024-08-31T17:23:13.910Z"
   },
   {
    "duration": 26,
    "start_time": "2024-08-31T17:23:13.928Z"
   },
   {
    "duration": 41246,
    "start_time": "2024-08-31T17:23:13.955Z"
   },
   {
    "duration": 4,
    "start_time": "2024-08-31T17:23:55.202Z"
   },
   {
    "duration": 62,
    "start_time": "2024-08-31T17:23:55.208Z"
   },
   {
    "duration": 19,
    "start_time": "2024-08-31T17:23:55.272Z"
   },
   {
    "duration": 68650,
    "start_time": "2024-08-31T17:23:55.293Z"
   },
   {
    "duration": 3,
    "start_time": "2024-08-31T17:25:03.944Z"
   },
   {
    "duration": 11,
    "start_time": "2024-08-31T17:25:03.949Z"
   },
   {
    "duration": 6,
    "start_time": "2024-08-31T17:25:03.961Z"
   },
   {
    "duration": 40822,
    "start_time": "2024-08-31T17:25:03.969Z"
   },
   {
    "duration": 4,
    "start_time": "2024-08-31T17:25:44.792Z"
   },
   {
    "duration": 15,
    "start_time": "2024-08-31T17:25:44.798Z"
   },
   {
    "duration": 77,
    "start_time": "2024-08-31T17:25:44.815Z"
   },
   {
    "duration": 5,
    "start_time": "2024-08-31T17:25:44.893Z"
   },
   {
    "duration": 28,
    "start_time": "2024-08-31T17:25:44.901Z"
   },
   {
    "duration": 6,
    "start_time": "2024-08-31T17:25:44.930Z"
   },
   {
    "duration": 7,
    "start_time": "2024-08-31T17:26:07.436Z"
   },
   {
    "duration": 1357,
    "start_time": "2024-08-31T17:26:07.444Z"
   },
   {
    "duration": 55,
    "start_time": "2024-08-31T17:26:08.803Z"
   },
   {
    "duration": 7,
    "start_time": "2024-08-31T17:26:08.860Z"
   },
   {
    "duration": 9,
    "start_time": "2024-08-31T17:26:08.868Z"
   },
   {
    "duration": 16,
    "start_time": "2024-08-31T17:26:08.878Z"
   },
   {
    "duration": 354,
    "start_time": "2024-08-31T17:26:08.896Z"
   },
   {
    "duration": 1839,
    "start_time": "2024-08-31T17:26:09.251Z"
   },
   {
    "duration": 5,
    "start_time": "2024-08-31T17:26:11.092Z"
   },
   {
    "duration": 785,
    "start_time": "2024-08-31T17:26:11.098Z"
   },
   {
    "duration": 7,
    "start_time": "2024-08-31T17:26:11.885Z"
   },
   {
    "duration": 581,
    "start_time": "2024-08-31T17:26:11.893Z"
   },
   {
    "duration": 14,
    "start_time": "2024-08-31T17:26:12.476Z"
   },
   {
    "duration": 12,
    "start_time": "2024-08-31T17:26:12.494Z"
   },
   {
    "duration": 8,
    "start_time": "2024-08-31T17:26:12.508Z"
   },
   {
    "duration": 5,
    "start_time": "2024-08-31T17:26:12.518Z"
   },
   {
    "duration": 4,
    "start_time": "2024-08-31T17:26:12.524Z"
   },
   {
    "duration": 3,
    "start_time": "2024-08-31T17:26:12.529Z"
   },
   {
    "duration": 289,
    "start_time": "2024-08-31T17:26:12.533Z"
   },
   {
    "duration": 238,
    "start_time": "2024-08-31T17:26:12.823Z"
   },
   {
    "duration": 338,
    "start_time": "2024-08-31T17:26:13.062Z"
   },
   {
    "duration": 247,
    "start_time": "2024-08-31T17:26:13.402Z"
   },
   {
    "duration": 1094,
    "start_time": "2024-08-31T17:26:13.650Z"
   },
   {
    "duration": 3,
    "start_time": "2024-08-31T17:26:14.746Z"
   },
   {
    "duration": 15,
    "start_time": "2024-08-31T17:26:14.750Z"
   },
   {
    "duration": 5,
    "start_time": "2024-08-31T17:26:14.767Z"
   },
   {
    "duration": 4,
    "start_time": "2024-08-31T17:26:14.789Z"
   },
   {
    "duration": 13,
    "start_time": "2024-08-31T17:26:14.794Z"
   },
   {
    "duration": 36586,
    "start_time": "2024-08-31T17:26:14.809Z"
   },
   {
    "duration": 4,
    "start_time": "2024-08-31T17:26:51.396Z"
   },
   {
    "duration": 68,
    "start_time": "2024-08-31T17:26:51.401Z"
   },
   {
    "duration": 4,
    "start_time": "2024-08-31T17:26:51.470Z"
   },
   {
    "duration": 68547,
    "start_time": "2024-08-31T17:26:51.475Z"
   },
   {
    "duration": 4,
    "start_time": "2024-08-31T17:28:00.023Z"
   },
   {
    "duration": 24,
    "start_time": "2024-08-31T17:28:00.028Z"
   },
   {
    "duration": 21,
    "start_time": "2024-08-31T17:28:00.053Z"
   },
   {
    "duration": 38916,
    "start_time": "2024-08-31T17:28:00.075Z"
   },
   {
    "duration": 4,
    "start_time": "2024-08-31T17:28:38.992Z"
   },
   {
    "duration": 17,
    "start_time": "2024-08-31T17:28:38.997Z"
   },
   {
    "duration": 19,
    "start_time": "2024-08-31T17:28:39.015Z"
   },
   {
    "duration": 55,
    "start_time": "2024-08-31T17:28:39.037Z"
   },
   {
    "duration": 8,
    "start_time": "2024-08-31T17:28:39.093Z"
   },
   {
    "duration": 7,
    "start_time": "2024-08-31T17:33:14.917Z"
   },
   {
    "duration": 1370,
    "start_time": "2024-08-31T17:33:14.925Z"
   },
   {
    "duration": 53,
    "start_time": "2024-08-31T17:33:16.297Z"
   },
   {
    "duration": 7,
    "start_time": "2024-08-31T17:33:16.352Z"
   },
   {
    "duration": 5,
    "start_time": "2024-08-31T17:33:16.361Z"
   },
   {
    "duration": 7,
    "start_time": "2024-08-31T17:33:16.367Z"
   },
   {
    "duration": 367,
    "start_time": "2024-08-31T17:33:16.375Z"
   },
   {
    "duration": 1456,
    "start_time": "2024-08-31T17:33:16.743Z"
   },
   {
    "duration": 4,
    "start_time": "2024-08-31T17:33:18.293Z"
   },
   {
    "duration": 763,
    "start_time": "2024-08-31T17:33:18.302Z"
   },
   {
    "duration": 5,
    "start_time": "2024-08-31T17:33:19.066Z"
   },
   {
    "duration": 565,
    "start_time": "2024-08-31T17:33:19.072Z"
   },
   {
    "duration": 4,
    "start_time": "2024-08-31T17:33:19.639Z"
   },
   {
    "duration": 8,
    "start_time": "2024-08-31T17:33:19.645Z"
   },
   {
    "duration": 8,
    "start_time": "2024-08-31T17:33:19.655Z"
   },
   {
    "duration": 29,
    "start_time": "2024-08-31T17:33:19.664Z"
   },
   {
    "duration": 4,
    "start_time": "2024-08-31T17:33:19.694Z"
   },
   {
    "duration": 4,
    "start_time": "2024-08-31T17:33:19.700Z"
   },
   {
    "duration": 245,
    "start_time": "2024-08-31T17:33:19.706Z"
   },
   {
    "duration": 304,
    "start_time": "2024-08-31T17:33:19.953Z"
   },
   {
    "duration": 334,
    "start_time": "2024-08-31T17:33:20.258Z"
   },
   {
    "duration": 263,
    "start_time": "2024-08-31T17:33:20.594Z"
   },
   {
    "duration": 1091,
    "start_time": "2024-08-31T17:33:20.859Z"
   },
   {
    "duration": 4,
    "start_time": "2024-08-31T17:33:21.951Z"
   },
   {
    "duration": 14,
    "start_time": "2024-08-31T17:33:21.956Z"
   },
   {
    "duration": 20,
    "start_time": "2024-08-31T17:33:21.972Z"
   },
   {
    "duration": 8,
    "start_time": "2024-08-31T17:33:21.994Z"
   },
   {
    "duration": 7,
    "start_time": "2024-08-31T17:33:22.006Z"
   },
   {
    "duration": 36898,
    "start_time": "2024-08-31T17:33:22.014Z"
   },
   {
    "duration": 3,
    "start_time": "2024-08-31T17:33:58.914Z"
   },
   {
    "duration": 63,
    "start_time": "2024-08-31T17:33:58.918Z"
   },
   {
    "duration": 7,
    "start_time": "2024-08-31T17:33:58.982Z"
   },
   {
    "duration": 68965,
    "start_time": "2024-08-31T17:33:58.991Z"
   },
   {
    "duration": 4,
    "start_time": "2024-08-31T17:35:07.957Z"
   },
   {
    "duration": 10,
    "start_time": "2024-08-31T17:35:07.962Z"
   },
   {
    "duration": 10,
    "start_time": "2024-08-31T17:35:07.973Z"
   },
   {
    "duration": 81913,
    "start_time": "2024-08-31T17:35:07.985Z"
   },
   {
    "duration": 4,
    "start_time": "2024-08-31T17:36:29.899Z"
   },
   {
    "duration": 86,
    "start_time": "2024-08-31T17:36:29.905Z"
   },
   {
    "duration": 16,
    "start_time": "2024-08-31T17:36:29.992Z"
   },
   {
    "duration": 20,
    "start_time": "2024-08-31T17:36:30.009Z"
   },
   {
    "duration": 55,
    "start_time": "2024-08-31T17:36:30.030Z"
   },
   {
    "duration": 8,
    "start_time": "2024-08-31T17:38:46.805Z"
   },
   {
    "duration": 1400,
    "start_time": "2024-08-31T17:38:46.814Z"
   },
   {
    "duration": 55,
    "start_time": "2024-08-31T17:38:48.215Z"
   },
   {
    "duration": 8,
    "start_time": "2024-08-31T17:38:48.272Z"
   },
   {
    "duration": 21,
    "start_time": "2024-08-31T17:38:48.281Z"
   },
   {
    "duration": 10,
    "start_time": "2024-08-31T17:38:48.304Z"
   },
   {
    "duration": 387,
    "start_time": "2024-08-31T17:38:48.315Z"
   },
   {
    "duration": 1892,
    "start_time": "2024-08-31T17:38:48.703Z"
   },
   {
    "duration": 93,
    "start_time": "2024-08-31T17:38:50.597Z"
   },
   {
    "duration": 772,
    "start_time": "2024-08-31T17:38:50.698Z"
   },
   {
    "duration": 18,
    "start_time": "2024-08-31T17:38:51.471Z"
   },
   {
    "duration": 575,
    "start_time": "2024-08-31T17:38:51.491Z"
   },
   {
    "duration": 4,
    "start_time": "2024-08-31T17:38:52.068Z"
   },
   {
    "duration": 20,
    "start_time": "2024-08-31T17:38:52.073Z"
   },
   {
    "duration": 10,
    "start_time": "2024-08-31T17:38:52.094Z"
   },
   {
    "duration": 12,
    "start_time": "2024-08-31T17:38:52.105Z"
   },
   {
    "duration": 5,
    "start_time": "2024-08-31T17:38:52.118Z"
   },
   {
    "duration": 4,
    "start_time": "2024-08-31T17:38:52.125Z"
   },
   {
    "duration": 285,
    "start_time": "2024-08-31T17:38:52.131Z"
   },
   {
    "duration": 246,
    "start_time": "2024-08-31T17:38:52.418Z"
   },
   {
    "duration": 341,
    "start_time": "2024-08-31T17:38:52.666Z"
   },
   {
    "duration": 259,
    "start_time": "2024-08-31T17:38:53.008Z"
   },
   {
    "duration": 1104,
    "start_time": "2024-08-31T17:38:53.268Z"
   },
   {
    "duration": 4,
    "start_time": "2024-08-31T17:38:54.373Z"
   },
   {
    "duration": 125,
    "start_time": "2024-08-31T17:38:54.378Z"
   },
   {
    "duration": 0,
    "start_time": "2024-08-31T17:38:54.504Z"
   },
   {
    "duration": 0,
    "start_time": "2024-08-31T17:38:54.505Z"
   },
   {
    "duration": 0,
    "start_time": "2024-08-31T17:38:54.506Z"
   },
   {
    "duration": 0,
    "start_time": "2024-08-31T17:38:54.507Z"
   },
   {
    "duration": 0,
    "start_time": "2024-08-31T17:38:54.508Z"
   },
   {
    "duration": 0,
    "start_time": "2024-08-31T17:38:54.509Z"
   },
   {
    "duration": 0,
    "start_time": "2024-08-31T17:38:54.510Z"
   },
   {
    "duration": 0,
    "start_time": "2024-08-31T17:38:54.511Z"
   },
   {
    "duration": 0,
    "start_time": "2024-08-31T17:38:54.512Z"
   },
   {
    "duration": 0,
    "start_time": "2024-08-31T17:38:54.513Z"
   },
   {
    "duration": 0,
    "start_time": "2024-08-31T17:38:54.513Z"
   },
   {
    "duration": 0,
    "start_time": "2024-08-31T17:38:54.514Z"
   },
   {
    "duration": 0,
    "start_time": "2024-08-31T17:38:54.516Z"
   },
   {
    "duration": 0,
    "start_time": "2024-08-31T17:38:54.517Z"
   },
   {
    "duration": 0,
    "start_time": "2024-08-31T17:38:54.518Z"
   },
   {
    "duration": 0,
    "start_time": "2024-08-31T17:38:54.518Z"
   },
   {
    "duration": 0,
    "start_time": "2024-08-31T17:38:54.519Z"
   },
   {
    "duration": 0,
    "start_time": "2024-08-31T17:38:54.520Z"
   },
   {
    "duration": 4,
    "start_time": "2024-08-31T17:39:48.661Z"
   },
   {
    "duration": 11,
    "start_time": "2024-08-31T17:39:50.627Z"
   },
   {
    "duration": 22,
    "start_time": "2024-08-31T17:39:50.639Z"
   },
   {
    "duration": 8,
    "start_time": "2024-08-31T17:39:50.662Z"
   },
   {
    "duration": 11,
    "start_time": "2024-08-31T17:39:50.671Z"
   },
   {
    "duration": 25560,
    "start_time": "2024-08-31T17:39:50.771Z"
   },
   {
    "duration": 4,
    "start_time": "2024-08-31T17:40:16.333Z"
   },
   {
    "duration": 64,
    "start_time": "2024-08-31T17:40:16.338Z"
   },
   {
    "duration": 3,
    "start_time": "2024-08-31T17:40:16.404Z"
   },
   {
    "duration": 62765,
    "start_time": "2024-08-31T17:40:16.408Z"
   },
   {
    "duration": 3,
    "start_time": "2024-08-31T17:41:19.175Z"
   },
   {
    "duration": 10,
    "start_time": "2024-08-31T17:41:19.179Z"
   },
   {
    "duration": 14,
    "start_time": "2024-08-31T17:41:19.190Z"
   },
   {
    "duration": 35795,
    "start_time": "2024-08-31T17:41:19.206Z"
   },
   {
    "duration": 88,
    "start_time": "2024-08-31T17:41:55.003Z"
   },
   {
    "duration": 13,
    "start_time": "2024-08-31T17:41:55.093Z"
   },
   {
    "duration": 15,
    "start_time": "2024-08-31T17:41:55.107Z"
   },
   {
    "duration": 67,
    "start_time": "2024-08-31T17:41:55.123Z"
   },
   {
    "duration": 10,
    "start_time": "2024-08-31T17:41:55.192Z"
   },
   {
    "duration": 7,
    "start_time": "2024-08-31T17:48:24.887Z"
   },
   {
    "duration": 1402,
    "start_time": "2024-08-31T17:48:24.896Z"
   },
   {
    "duration": 55,
    "start_time": "2024-08-31T17:48:26.299Z"
   },
   {
    "duration": 7,
    "start_time": "2024-08-31T17:48:26.355Z"
   },
   {
    "duration": 5,
    "start_time": "2024-08-31T17:48:26.364Z"
   },
   {
    "duration": 7,
    "start_time": "2024-08-31T17:48:26.370Z"
   },
   {
    "duration": 368,
    "start_time": "2024-08-31T17:48:26.378Z"
   },
   {
    "duration": 1843,
    "start_time": "2024-08-31T17:48:26.747Z"
   },
   {
    "duration": 94,
    "start_time": "2024-08-31T17:48:28.596Z"
   },
   {
    "duration": 686,
    "start_time": "2024-08-31T17:48:28.692Z"
   },
   {
    "duration": 10,
    "start_time": "2024-08-31T17:48:29.379Z"
   },
   {
    "duration": 559,
    "start_time": "2024-08-31T17:48:29.391Z"
   },
   {
    "duration": 3,
    "start_time": "2024-08-31T17:48:29.952Z"
   },
   {
    "duration": 15,
    "start_time": "2024-08-31T17:48:29.956Z"
   },
   {
    "duration": 16,
    "start_time": "2024-08-31T17:48:29.973Z"
   },
   {
    "duration": 6,
    "start_time": "2024-08-31T17:48:29.991Z"
   },
   {
    "duration": 14,
    "start_time": "2024-08-31T17:48:29.998Z"
   },
   {
    "duration": 26,
    "start_time": "2024-08-31T17:48:30.013Z"
   },
   {
    "duration": 308,
    "start_time": "2024-08-31T17:48:30.040Z"
   },
   {
    "duration": 289,
    "start_time": "2024-08-31T17:48:30.350Z"
   },
   {
    "duration": 344,
    "start_time": "2024-08-31T17:48:30.640Z"
   },
   {
    "duration": 261,
    "start_time": "2024-08-31T17:48:30.990Z"
   },
   {
    "duration": 1151,
    "start_time": "2024-08-31T17:48:31.252Z"
   },
   {
    "duration": 4,
    "start_time": "2024-08-31T17:48:32.404Z"
   },
   {
    "duration": 18,
    "start_time": "2024-08-31T17:48:32.409Z"
   },
   {
    "duration": 17,
    "start_time": "2024-08-31T17:48:32.428Z"
   },
   {
    "duration": 6,
    "start_time": "2024-08-31T17:48:32.446Z"
   },
   {
    "duration": 20,
    "start_time": "2024-08-31T17:48:32.455Z"
   },
   {
    "duration": 8,
    "start_time": "2024-08-31T17:48:32.476Z"
   },
   {
    "duration": 33124,
    "start_time": "2024-08-31T17:48:32.485Z"
   },
   {
    "duration": 4,
    "start_time": "2024-08-31T17:49:05.611Z"
   },
   {
    "duration": 74,
    "start_time": "2024-08-31T17:49:05.616Z"
   },
   {
    "duration": 3,
    "start_time": "2024-08-31T17:49:05.692Z"
   },
   {
    "duration": 65836,
    "start_time": "2024-08-31T17:49:05.697Z"
   },
   {
    "duration": 3,
    "start_time": "2024-08-31T17:50:11.534Z"
   },
   {
    "duration": 6,
    "start_time": "2024-08-31T17:50:11.539Z"
   },
   {
    "duration": 4,
    "start_time": "2024-08-31T17:50:11.546Z"
   },
   {
    "duration": 37543,
    "start_time": "2024-08-31T17:50:11.551Z"
   },
   {
    "duration": 3,
    "start_time": "2024-08-31T17:50:49.096Z"
   },
   {
    "duration": 90,
    "start_time": "2024-08-31T17:50:49.101Z"
   },
   {
    "duration": 17,
    "start_time": "2024-08-31T17:50:49.192Z"
   },
   {
    "duration": 4,
    "start_time": "2024-08-31T17:50:49.210Z"
   },
   {
    "duration": 7,
    "start_time": "2024-08-31T17:50:49.216Z"
   },
   {
    "duration": 7,
    "start_time": "2024-08-31T17:51:28.550Z"
   },
   {
    "duration": 1391,
    "start_time": "2024-08-31T17:51:28.559Z"
   },
   {
    "duration": 54,
    "start_time": "2024-08-31T17:51:29.952Z"
   },
   {
    "duration": 8,
    "start_time": "2024-08-31T17:51:30.007Z"
   },
   {
    "duration": 22,
    "start_time": "2024-08-31T17:51:30.017Z"
   },
   {
    "duration": 16,
    "start_time": "2024-08-31T17:51:30.041Z"
   },
   {
    "duration": 396,
    "start_time": "2024-08-31T17:51:30.058Z"
   },
   {
    "duration": 1742,
    "start_time": "2024-08-31T17:51:30.455Z"
   },
   {
    "duration": 96,
    "start_time": "2024-08-31T17:51:32.200Z"
   },
   {
    "duration": 762,
    "start_time": "2024-08-31T17:51:32.300Z"
   },
   {
    "duration": 6,
    "start_time": "2024-08-31T17:51:33.063Z"
   },
   {
    "duration": 570,
    "start_time": "2024-08-31T17:51:33.070Z"
   },
   {
    "duration": 3,
    "start_time": "2024-08-31T17:51:33.641Z"
   },
   {
    "duration": 9,
    "start_time": "2024-08-31T17:51:33.647Z"
   },
   {
    "duration": 9,
    "start_time": "2024-08-31T17:51:33.657Z"
   },
   {
    "duration": 25,
    "start_time": "2024-08-31T17:51:33.668Z"
   },
   {
    "duration": 5,
    "start_time": "2024-08-31T17:51:33.694Z"
   },
   {
    "duration": 6,
    "start_time": "2024-08-31T17:51:33.700Z"
   },
   {
    "duration": 242,
    "start_time": "2024-08-31T17:51:33.708Z"
   },
   {
    "duration": 290,
    "start_time": "2024-08-31T17:51:33.952Z"
   },
   {
    "duration": 361,
    "start_time": "2024-08-31T17:51:34.244Z"
   },
   {
    "duration": 245,
    "start_time": "2024-08-31T17:51:34.606Z"
   },
   {
    "duration": 1438,
    "start_time": "2024-08-31T17:51:34.852Z"
   },
   {
    "duration": 3,
    "start_time": "2024-08-31T17:51:36.291Z"
   },
   {
    "duration": 28,
    "start_time": "2024-08-31T17:51:36.296Z"
   },
   {
    "duration": 29,
    "start_time": "2024-08-31T17:51:36.325Z"
   },
   {
    "duration": 5,
    "start_time": "2024-08-31T17:51:36.355Z"
   },
   {
    "duration": 4,
    "start_time": "2024-08-31T17:51:36.361Z"
   },
   {
    "duration": 47646,
    "start_time": "2024-08-31T17:51:36.366Z"
   },
   {
    "duration": 3,
    "start_time": "2024-08-31T17:52:24.013Z"
   },
   {
    "duration": 56,
    "start_time": "2024-08-31T17:52:24.018Z"
   },
   {
    "duration": 16,
    "start_time": "2024-08-31T17:52:24.075Z"
   },
   {
    "duration": 74891,
    "start_time": "2024-08-31T17:52:24.092Z"
   },
   {
    "duration": 3,
    "start_time": "2024-08-31T17:53:38.985Z"
   },
   {
    "duration": 5,
    "start_time": "2024-08-31T17:53:38.990Z"
   },
   {
    "duration": 14,
    "start_time": "2024-08-31T17:53:38.997Z"
   },
   {
    "duration": 41186,
    "start_time": "2024-08-31T17:53:39.012Z"
   },
   {
    "duration": 6,
    "start_time": "2024-08-31T17:54:20.201Z"
   },
   {
    "duration": 87,
    "start_time": "2024-08-31T17:54:20.208Z"
   },
   {
    "duration": 17,
    "start_time": "2024-08-31T17:54:20.297Z"
   },
   {
    "duration": 4,
    "start_time": "2024-08-31T17:54:20.317Z"
   },
   {
    "duration": 67,
    "start_time": "2024-08-31T17:54:20.323Z"
   },
   {
    "duration": 52,
    "start_time": "2024-08-31T17:59:02.748Z"
   },
   {
    "duration": 392,
    "start_time": "2024-08-31T18:03:47.963Z"
   },
   {
    "duration": 347,
    "start_time": "2024-08-31T18:04:37.778Z"
   },
   {
    "duration": 366,
    "start_time": "2024-08-31T18:04:42.655Z"
   },
   {
    "duration": 366,
    "start_time": "2024-08-31T18:06:14.066Z"
   },
   {
    "duration": 350,
    "start_time": "2024-08-31T18:06:56.225Z"
   },
   {
    "duration": 366,
    "start_time": "2024-08-31T18:07:02.419Z"
   },
   {
    "duration": 322,
    "start_time": "2024-08-31T18:07:52.503Z"
   },
   {
    "duration": 8,
    "start_time": "2024-08-31T19:27:48.570Z"
   },
   {
    "duration": 1603,
    "start_time": "2024-08-31T19:27:48.580Z"
   },
   {
    "duration": 114,
    "start_time": "2024-08-31T19:27:50.185Z"
   },
   {
    "duration": 7,
    "start_time": "2024-08-31T19:27:50.301Z"
   },
   {
    "duration": 15,
    "start_time": "2024-08-31T19:27:50.310Z"
   },
   {
    "duration": 34,
    "start_time": "2024-08-31T19:27:50.326Z"
   },
   {
    "duration": 390,
    "start_time": "2024-08-31T19:27:50.361Z"
   },
   {
    "duration": 2105,
    "start_time": "2024-08-31T19:27:50.753Z"
   },
   {
    "duration": 94,
    "start_time": "2024-08-31T19:27:52.860Z"
   },
   {
    "duration": 832,
    "start_time": "2024-08-31T19:27:52.956Z"
   },
   {
    "duration": 6,
    "start_time": "2024-08-31T19:27:53.789Z"
   },
   {
    "duration": 624,
    "start_time": "2024-08-31T19:27:53.796Z"
   },
   {
    "duration": 4,
    "start_time": "2024-08-31T19:27:54.422Z"
   },
   {
    "duration": 23,
    "start_time": "2024-08-31T19:27:54.430Z"
   },
   {
    "duration": 4,
    "start_time": "2024-08-31T19:27:54.455Z"
   },
   {
    "duration": 11,
    "start_time": "2024-08-31T19:27:54.460Z"
   },
   {
    "duration": 7,
    "start_time": "2024-08-31T19:27:54.472Z"
   },
   {
    "duration": 5,
    "start_time": "2024-08-31T19:27:54.480Z"
   },
   {
    "duration": 4,
    "start_time": "2024-08-31T19:27:54.486Z"
   },
   {
    "duration": 309,
    "start_time": "2024-08-31T19:27:54.492Z"
   },
   {
    "duration": 312,
    "start_time": "2024-08-31T19:27:54.803Z"
   },
   {
    "duration": 339,
    "start_time": "2024-08-31T19:27:55.117Z"
   },
   {
    "duration": 271,
    "start_time": "2024-08-31T19:27:55.457Z"
   },
   {
    "duration": 1578,
    "start_time": "2024-08-31T19:27:55.730Z"
   },
   {
    "duration": 4,
    "start_time": "2024-08-31T19:27:57.309Z"
   },
   {
    "duration": 18,
    "start_time": "2024-08-31T19:27:57.314Z"
   },
   {
    "duration": 21,
    "start_time": "2024-08-31T19:27:57.333Z"
   },
   {
    "duration": 4,
    "start_time": "2024-08-31T19:27:57.355Z"
   },
   {
    "duration": 31,
    "start_time": "2024-08-31T19:27:57.360Z"
   },
   {
    "duration": 49594,
    "start_time": "2024-08-31T19:27:57.392Z"
   },
   {
    "duration": 4,
    "start_time": "2024-08-31T19:28:46.987Z"
   },
   {
    "duration": 67,
    "start_time": "2024-08-31T19:28:46.993Z"
   },
   {
    "duration": 4,
    "start_time": "2024-08-31T19:28:47.062Z"
   },
   {
    "duration": 85869,
    "start_time": "2024-08-31T19:28:47.067Z"
   },
   {
    "duration": 4,
    "start_time": "2024-08-31T19:30:12.937Z"
   },
   {
    "duration": 10,
    "start_time": "2024-08-31T19:30:12.942Z"
   },
   {
    "duration": 18,
    "start_time": "2024-08-31T19:30:12.953Z"
   },
   {
    "duration": 8,
    "start_time": "2024-08-31T19:30:35.847Z"
   },
   {
    "duration": 1468,
    "start_time": "2024-08-31T19:30:35.859Z"
   },
   {
    "duration": 59,
    "start_time": "2024-08-31T19:30:37.329Z"
   },
   {
    "duration": 9,
    "start_time": "2024-08-31T19:30:37.389Z"
   },
   {
    "duration": 20,
    "start_time": "2024-08-31T19:30:37.400Z"
   },
   {
    "duration": 51,
    "start_time": "2024-08-31T19:30:37.422Z"
   },
   {
    "duration": 405,
    "start_time": "2024-08-31T19:30:37.474Z"
   },
   {
    "duration": 1878,
    "start_time": "2024-08-31T19:30:37.881Z"
   },
   {
    "duration": 93,
    "start_time": "2024-08-31T19:30:39.761Z"
   },
   {
    "duration": 820,
    "start_time": "2024-08-31T19:30:39.862Z"
   },
   {
    "duration": 7,
    "start_time": "2024-08-31T19:30:40.684Z"
   },
   {
    "duration": 612,
    "start_time": "2024-08-31T19:30:40.693Z"
   },
   {
    "duration": 3,
    "start_time": "2024-08-31T19:30:41.307Z"
   },
   {
    "duration": 27,
    "start_time": "2024-08-31T19:30:41.311Z"
   },
   {
    "duration": 13,
    "start_time": "2024-08-31T19:30:41.341Z"
   },
   {
    "duration": 40,
    "start_time": "2024-08-31T19:30:41.356Z"
   },
   {
    "duration": 18,
    "start_time": "2024-08-31T19:30:41.398Z"
   },
   {
    "duration": 12,
    "start_time": "2024-08-31T19:30:41.418Z"
   },
   {
    "duration": 268,
    "start_time": "2024-08-31T19:30:41.431Z"
   },
   {
    "duration": 4,
    "start_time": "2024-08-31T19:30:41.700Z"
   },
   {
    "duration": 305,
    "start_time": "2024-08-31T19:30:41.705Z"
   },
   {
    "duration": 356,
    "start_time": "2024-08-31T19:30:42.012Z"
   },
   {
    "duration": 258,
    "start_time": "2024-08-31T19:30:42.369Z"
   },
   {
    "duration": 1403,
    "start_time": "2024-08-31T19:30:42.628Z"
   },
   {
    "duration": 22,
    "start_time": "2024-08-31T19:30:44.032Z"
   },
   {
    "duration": 15,
    "start_time": "2024-08-31T19:30:44.055Z"
   },
   {
    "duration": 24,
    "start_time": "2024-08-31T19:30:44.071Z"
   },
   {
    "duration": 6,
    "start_time": "2024-08-31T19:30:44.096Z"
   },
   {
    "duration": 53866,
    "start_time": "2024-08-31T19:30:44.103Z"
   },
   {
    "duration": 4,
    "start_time": "2024-08-31T19:31:37.970Z"
   },
   {
    "duration": 83,
    "start_time": "2024-08-31T19:31:37.975Z"
   },
   {
    "duration": 4,
    "start_time": "2024-08-31T19:31:38.059Z"
   },
   {
    "duration": 82385,
    "start_time": "2024-08-31T19:31:38.064Z"
   },
   {
    "duration": 4,
    "start_time": "2024-08-31T19:33:00.451Z"
   },
   {
    "duration": 15,
    "start_time": "2024-08-31T19:33:00.456Z"
   },
   {
    "duration": 25,
    "start_time": "2024-08-31T19:33:00.472Z"
   },
   {
    "duration": 55259,
    "start_time": "2024-08-31T19:33:00.499Z"
   },
   {
    "duration": 4,
    "start_time": "2024-08-31T19:33:55.760Z"
   },
   {
    "duration": 17,
    "start_time": "2024-08-31T19:33:55.765Z"
   },
   {
    "duration": 80,
    "start_time": "2024-08-31T19:33:55.783Z"
   },
   {
    "duration": 343,
    "start_time": "2024-08-31T19:33:55.864Z"
   },
   {
    "duration": 7,
    "start_time": "2024-08-31T19:35:17.601Z"
   },
   {
    "duration": 1358,
    "start_time": "2024-08-31T19:35:17.609Z"
   },
   {
    "duration": 55,
    "start_time": "2024-08-31T19:35:18.970Z"
   },
   {
    "duration": 8,
    "start_time": "2024-08-31T19:35:19.027Z"
   },
   {
    "duration": 7,
    "start_time": "2024-08-31T19:35:19.036Z"
   },
   {
    "duration": 9,
    "start_time": "2024-08-31T19:35:19.045Z"
   },
   {
    "duration": 388,
    "start_time": "2024-08-31T19:35:19.055Z"
   },
   {
    "duration": 2209,
    "start_time": "2024-08-31T19:35:19.445Z"
   },
   {
    "duration": 8,
    "start_time": "2024-08-31T19:35:21.657Z"
   },
   {
    "duration": 693,
    "start_time": "2024-08-31T19:35:21.753Z"
   },
   {
    "duration": 8,
    "start_time": "2024-08-31T19:35:22.448Z"
   },
   {
    "duration": 571,
    "start_time": "2024-08-31T19:35:22.457Z"
   },
   {
    "duration": 4,
    "start_time": "2024-08-31T19:35:23.030Z"
   },
   {
    "duration": 19,
    "start_time": "2024-08-31T19:35:23.035Z"
   },
   {
    "duration": 9,
    "start_time": "2024-08-31T19:35:23.056Z"
   },
   {
    "duration": 7,
    "start_time": "2024-08-31T19:35:23.066Z"
   },
   {
    "duration": 5,
    "start_time": "2024-08-31T19:35:23.074Z"
   },
   {
    "duration": 4,
    "start_time": "2024-08-31T19:35:23.081Z"
   },
   {
    "duration": 310,
    "start_time": "2024-08-31T19:35:23.086Z"
   },
   {
    "duration": 4,
    "start_time": "2024-08-31T19:35:23.399Z"
   },
   {
    "duration": 315,
    "start_time": "2024-08-31T19:35:23.405Z"
   },
   {
    "duration": 342,
    "start_time": "2024-08-31T19:35:23.721Z"
   },
   {
    "duration": 258,
    "start_time": "2024-08-31T19:35:24.065Z"
   },
   {
    "duration": 1348,
    "start_time": "2024-08-31T19:35:24.326Z"
   },
   {
    "duration": 15,
    "start_time": "2024-08-31T19:35:25.675Z"
   },
   {
    "duration": 16,
    "start_time": "2024-08-31T19:35:25.691Z"
   },
   {
    "duration": 4,
    "start_time": "2024-08-31T19:35:25.709Z"
   },
   {
    "duration": 3,
    "start_time": "2024-08-31T19:35:25.715Z"
   },
   {
    "duration": 53180,
    "start_time": "2024-08-31T19:35:25.719Z"
   },
   {
    "duration": 4,
    "start_time": "2024-08-31T19:36:18.900Z"
   },
   {
    "duration": 17,
    "start_time": "2024-08-31T19:36:18.905Z"
   },
   {
    "duration": 5,
    "start_time": "2024-08-31T19:36:18.923Z"
   },
   {
    "duration": 81786,
    "start_time": "2024-08-31T19:36:18.929Z"
   },
   {
    "duration": 4,
    "start_time": "2024-08-31T19:37:40.717Z"
   },
   {
    "duration": 28,
    "start_time": "2024-08-31T19:37:40.722Z"
   },
   {
    "duration": 93,
    "start_time": "2024-08-31T19:37:40.752Z"
   },
   {
    "duration": 7,
    "start_time": "2024-08-31T19:38:15.757Z"
   },
   {
    "duration": 1464,
    "start_time": "2024-08-31T19:38:15.766Z"
   },
   {
    "duration": 56,
    "start_time": "2024-08-31T19:38:17.232Z"
   },
   {
    "duration": 7,
    "start_time": "2024-08-31T19:38:17.290Z"
   },
   {
    "duration": 6,
    "start_time": "2024-08-31T19:38:17.299Z"
   },
   {
    "duration": 9,
    "start_time": "2024-08-31T19:38:17.306Z"
   },
   {
    "duration": 375,
    "start_time": "2024-08-31T19:38:17.316Z"
   },
   {
    "duration": 2161,
    "start_time": "2024-08-31T19:38:17.692Z"
   },
   {
    "duration": 5,
    "start_time": "2024-08-31T19:38:19.856Z"
   },
   {
    "duration": 906,
    "start_time": "2024-08-31T19:38:19.863Z"
   },
   {
    "duration": 6,
    "start_time": "2024-08-31T19:38:20.770Z"
   },
   {
    "duration": 655,
    "start_time": "2024-08-31T19:38:20.777Z"
   },
   {
    "duration": 3,
    "start_time": "2024-08-31T19:38:21.434Z"
   },
   {
    "duration": 18,
    "start_time": "2024-08-31T19:38:21.440Z"
   },
   {
    "duration": 29,
    "start_time": "2024-08-31T19:38:21.459Z"
   },
   {
    "duration": 19,
    "start_time": "2024-08-31T19:38:21.490Z"
   },
   {
    "duration": 5,
    "start_time": "2024-08-31T19:38:21.510Z"
   },
   {
    "duration": 3,
    "start_time": "2024-08-31T19:38:21.517Z"
   },
   {
    "duration": 382,
    "start_time": "2024-08-31T19:38:21.521Z"
   },
   {
    "duration": 3,
    "start_time": "2024-08-31T19:38:21.905Z"
   },
   {
    "duration": 297,
    "start_time": "2024-08-31T19:38:21.910Z"
   },
   {
    "duration": 356,
    "start_time": "2024-08-31T19:38:22.208Z"
   },
   {
    "duration": 254,
    "start_time": "2024-08-31T19:38:22.566Z"
   },
   {
    "duration": 1346,
    "start_time": "2024-08-31T19:38:22.821Z"
   },
   {
    "duration": 15,
    "start_time": "2024-08-31T19:38:24.169Z"
   },
   {
    "duration": 23,
    "start_time": "2024-08-31T19:38:24.185Z"
   },
   {
    "duration": 7,
    "start_time": "2024-08-31T19:38:24.209Z"
   },
   {
    "duration": 4,
    "start_time": "2024-08-31T19:38:24.217Z"
   },
   {
    "duration": 52900,
    "start_time": "2024-08-31T19:38:24.222Z"
   },
   {
    "duration": 3,
    "start_time": "2024-08-31T19:39:17.123Z"
   },
   {
    "duration": 43,
    "start_time": "2024-08-31T19:39:17.127Z"
   },
   {
    "duration": 21,
    "start_time": "2024-08-31T19:39:17.171Z"
   },
   {
    "duration": 82909,
    "start_time": "2024-08-31T19:39:17.194Z"
   },
   {
    "duration": 3,
    "start_time": "2024-08-31T19:40:40.105Z"
   },
   {
    "duration": 21,
    "start_time": "2024-08-31T19:40:40.109Z"
   },
   {
    "duration": 3,
    "start_time": "2024-08-31T19:40:40.132Z"
   },
   {
    "duration": 54824,
    "start_time": "2024-08-31T19:40:40.136Z"
   },
   {
    "duration": 4,
    "start_time": "2024-08-31T19:41:34.962Z"
   },
   {
    "duration": 50,
    "start_time": "2024-08-31T19:41:34.968Z"
   },
   {
    "duration": 38,
    "start_time": "2024-08-31T19:41:35.020Z"
   },
   {
    "duration": 372,
    "start_time": "2024-08-31T19:41:35.063Z"
   },
   {
    "duration": 111,
    "start_time": "2024-08-31T19:42:42.130Z"
   },
   {
    "duration": 3,
    "start_time": "2024-08-31T19:42:58.039Z"
   },
   {
    "duration": 3,
    "start_time": "2024-08-31T19:43:18.700Z"
   },
   {
    "duration": 8,
    "start_time": "2024-08-31T19:45:23.503Z"
   },
   {
    "duration": 1384,
    "start_time": "2024-08-31T19:45:23.513Z"
   },
   {
    "duration": 56,
    "start_time": "2024-08-31T19:45:24.899Z"
   },
   {
    "duration": 7,
    "start_time": "2024-08-31T19:45:24.957Z"
   },
   {
    "duration": 6,
    "start_time": "2024-08-31T19:45:24.966Z"
   },
   {
    "duration": 7,
    "start_time": "2024-08-31T19:45:24.973Z"
   },
   {
    "duration": 385,
    "start_time": "2024-08-31T19:45:24.982Z"
   },
   {
    "duration": 2583,
    "start_time": "2024-08-31T19:45:25.369Z"
   },
   {
    "duration": 7,
    "start_time": "2024-08-31T19:45:27.954Z"
   },
   {
    "duration": 725,
    "start_time": "2024-08-31T19:45:28.055Z"
   },
   {
    "duration": 7,
    "start_time": "2024-08-31T19:45:28.782Z"
   },
   {
    "duration": 611,
    "start_time": "2024-08-31T19:45:28.790Z"
   },
   {
    "duration": 3,
    "start_time": "2024-08-31T19:45:29.403Z"
   },
   {
    "duration": 21,
    "start_time": "2024-08-31T19:45:29.407Z"
   },
   {
    "duration": 9,
    "start_time": "2024-08-31T19:45:29.429Z"
   },
   {
    "duration": 13,
    "start_time": "2024-08-31T19:45:29.440Z"
   },
   {
    "duration": 4,
    "start_time": "2024-08-31T19:45:29.454Z"
   },
   {
    "duration": 4,
    "start_time": "2024-08-31T19:45:29.459Z"
   },
   {
    "duration": 247,
    "start_time": "2024-08-31T19:45:29.464Z"
   },
   {
    "duration": 4,
    "start_time": "2024-08-31T19:45:29.712Z"
   },
   {
    "duration": 293,
    "start_time": "2024-08-31T19:45:29.717Z"
   },
   {
    "duration": 363,
    "start_time": "2024-08-31T19:45:30.011Z"
   },
   {
    "duration": 249,
    "start_time": "2024-08-31T19:45:30.375Z"
   },
   {
    "duration": 1394,
    "start_time": "2024-08-31T19:45:30.626Z"
   },
   {
    "duration": 15,
    "start_time": "2024-08-31T19:45:32.022Z"
   },
   {
    "duration": 17,
    "start_time": "2024-08-31T19:45:32.038Z"
   },
   {
    "duration": 4,
    "start_time": "2024-08-31T19:45:32.056Z"
   },
   {
    "duration": 4,
    "start_time": "2024-08-31T19:45:32.062Z"
   },
   {
    "duration": 53373,
    "start_time": "2024-08-31T19:45:32.067Z"
   },
   {
    "duration": 4,
    "start_time": "2024-08-31T19:46:25.442Z"
   },
   {
    "duration": 10,
    "start_time": "2024-08-31T19:46:25.447Z"
   },
   {
    "duration": 3,
    "start_time": "2024-08-31T19:46:25.458Z"
   },
   {
    "duration": 82092,
    "start_time": "2024-08-31T19:46:25.463Z"
   },
   {
    "duration": 4,
    "start_time": "2024-08-31T19:47:47.556Z"
   },
   {
    "duration": 62,
    "start_time": "2024-08-31T19:47:47.561Z"
   },
   {
    "duration": 69,
    "start_time": "2024-08-31T19:47:47.625Z"
   },
   {
    "duration": 55767,
    "start_time": "2024-08-31T19:47:47.695Z"
   },
   {
    "duration": 4,
    "start_time": "2024-08-31T19:48:43.463Z"
   },
   {
    "duration": 21,
    "start_time": "2024-08-31T19:48:43.469Z"
   },
   {
    "duration": 66,
    "start_time": "2024-08-31T19:48:43.491Z"
   },
   {
    "duration": 389,
    "start_time": "2024-08-31T19:48:43.558Z"
   },
   {
    "duration": 14,
    "start_time": "2024-08-31T19:49:40.506Z"
   }
  ],
  "kernelspec": {
   "display_name": "Python 3 (ipykernel)",
   "language": "python",
   "name": "python3"
  },
  "language_info": {
   "codemirror_mode": {
    "name": "ipython",
    "version": 3
   },
   "file_extension": ".py",
   "mimetype": "text/x-python",
   "name": "python",
   "nbconvert_exporter": "python",
   "pygments_lexer": "ipython3",
   "version": "3.12.0"
  },
  "toc": {
   "base_numbering": 1,
   "nav_menu": {},
   "number_sections": true,
   "sideBar": true,
   "skip_h1_title": true,
   "title_cell": "Содержание",
   "title_sidebar": "Contents",
   "toc_cell": true,
   "toc_position": {},
   "toc_section_display": true,
   "toc_window_display": false
  }
 },
 "nbformat": 4,
 "nbformat_minor": 2
}
