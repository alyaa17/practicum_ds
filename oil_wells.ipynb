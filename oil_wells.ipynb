{
 "cells": [
  {
   "cell_type": "markdown",
   "metadata": {},
   "source": [
    "# Выбор локации для скважины"
   ]
  },
  {
   "cell_type": "markdown",
   "metadata": {},
   "source": [
    "Допустим, вы работаете в добывающей компании «ГлавРосГосНефть». Нужно решить, где бурить новую скважину.\n",
    "\n",
    "Вам предоставлены пробы нефти в трёх регионах: в каждом 10 000 месторождений, где измерили качество нефти и объём её запасов. Постройте модель машинного обучения, которая поможет определить регион, где добыча принесёт наибольшую прибыль. Проанализируйте возможную прибыль и риски техникой *Bootstrap.*\n",
    "\n",
    "Шаги для выбора локации:\n",
    "\n",
    "- В избранном регионе ищут месторождения, для каждого определяют значения признаков;\n",
    "- Строят модель и оценивают объём запасов;\n",
    "- Выбирают месторождения с самым высокими оценками значений. Количество месторождений зависит от бюджета компании и стоимости разработки одной скважины;\n",
    "- Прибыль равна суммарной прибыли отобранных месторождений."
   ]
  },
  {
   "cell_type": "markdown",
   "metadata": {},
   "source": [
    "## Загрузка и подготовка данных"
   ]
  },
  {
   "cell_type": "markdown",
   "metadata": {},
   "source": [
    "### Импорт библиотек"
   ]
  },
  {
   "cell_type": "code",
   "execution_count": 3,
   "metadata": {},
   "outputs": [],
   "source": [
    "import pandas as pd\n",
    "import numpy as np\n",
    "import matplotlib.pyplot as plt\n",
    "\n",
    "from sklearn.model_selection import train_test_split\n",
    "from sklearn.linear_model import LinearRegression\n",
    "\n",
    "from sklearn.metrics import mean_squared_error"
   ]
  },
  {
   "cell_type": "code",
   "execution_count": 4,
   "metadata": {},
   "outputs": [],
   "source": [
    "geo_data0 = pd.read_csv('datasets/geo_data_0.csv')\n",
    "geo_data1 = pd.read_csv('datasets/geo_data_1.csv')\n",
    "geo_data2 = pd.read_csv('datasets/geo_data_2.csv')"
   ]
  },
  {
   "cell_type": "code",
   "execution_count": 5,
   "metadata": {},
   "outputs": [
    {
     "data": {
      "text/html": [
       "<div>\n",
       "<style scoped>\n",
       "    .dataframe tbody tr th:only-of-type {\n",
       "        vertical-align: middle;\n",
       "    }\n",
       "\n",
       "    .dataframe tbody tr th {\n",
       "        vertical-align: top;\n",
       "    }\n",
       "\n",
       "    .dataframe thead th {\n",
       "        text-align: right;\n",
       "    }\n",
       "</style>\n",
       "<table border=\"1\" class=\"dataframe\">\n",
       "  <thead>\n",
       "    <tr style=\"text-align: right;\">\n",
       "      <th></th>\n",
       "      <th>id</th>\n",
       "      <th>f0</th>\n",
       "      <th>f1</th>\n",
       "      <th>f2</th>\n",
       "      <th>product</th>\n",
       "    </tr>\n",
       "  </thead>\n",
       "  <tbody>\n",
       "    <tr>\n",
       "      <th>0</th>\n",
       "      <td>txEyH</td>\n",
       "      <td>0.705745</td>\n",
       "      <td>-0.497823</td>\n",
       "      <td>1.221170</td>\n",
       "      <td>105.280062</td>\n",
       "    </tr>\n",
       "    <tr>\n",
       "      <th>1</th>\n",
       "      <td>2acmU</td>\n",
       "      <td>1.334711</td>\n",
       "      <td>-0.340164</td>\n",
       "      <td>4.365080</td>\n",
       "      <td>73.037750</td>\n",
       "    </tr>\n",
       "    <tr>\n",
       "      <th>2</th>\n",
       "      <td>409Wp</td>\n",
       "      <td>1.022732</td>\n",
       "      <td>0.151990</td>\n",
       "      <td>1.419926</td>\n",
       "      <td>85.265647</td>\n",
       "    </tr>\n",
       "    <tr>\n",
       "      <th>3</th>\n",
       "      <td>iJLyR</td>\n",
       "      <td>-0.032172</td>\n",
       "      <td>0.139033</td>\n",
       "      <td>2.978566</td>\n",
       "      <td>168.620776</td>\n",
       "    </tr>\n",
       "    <tr>\n",
       "      <th>4</th>\n",
       "      <td>Xdl7t</td>\n",
       "      <td>1.988431</td>\n",
       "      <td>0.155413</td>\n",
       "      <td>4.751769</td>\n",
       "      <td>154.036647</td>\n",
       "    </tr>\n",
       "  </tbody>\n",
       "</table>\n",
       "</div>"
      ],
      "text/plain": [
       "      id        f0        f1        f2     product\n",
       "0  txEyH  0.705745 -0.497823  1.221170  105.280062\n",
       "1  2acmU  1.334711 -0.340164  4.365080   73.037750\n",
       "2  409Wp  1.022732  0.151990  1.419926   85.265647\n",
       "3  iJLyR -0.032172  0.139033  2.978566  168.620776\n",
       "4  Xdl7t  1.988431  0.155413  4.751769  154.036647"
      ]
     },
     "execution_count": 5,
     "metadata": {},
     "output_type": "execute_result"
    }
   ],
   "source": [
    "geo_data0.head()"
   ]
  },
  {
   "cell_type": "code",
   "execution_count": 6,
   "metadata": {},
   "outputs": [
    {
     "data": {
      "text/html": [
       "<div>\n",
       "<style scoped>\n",
       "    .dataframe tbody tr th:only-of-type {\n",
       "        vertical-align: middle;\n",
       "    }\n",
       "\n",
       "    .dataframe tbody tr th {\n",
       "        vertical-align: top;\n",
       "    }\n",
       "\n",
       "    .dataframe thead th {\n",
       "        text-align: right;\n",
       "    }\n",
       "</style>\n",
       "<table border=\"1\" class=\"dataframe\">\n",
       "  <thead>\n",
       "    <tr style=\"text-align: right;\">\n",
       "      <th></th>\n",
       "      <th>id</th>\n",
       "      <th>f0</th>\n",
       "      <th>f1</th>\n",
       "      <th>f2</th>\n",
       "      <th>product</th>\n",
       "    </tr>\n",
       "  </thead>\n",
       "  <tbody>\n",
       "    <tr>\n",
       "      <th>0</th>\n",
       "      <td>kBEdx</td>\n",
       "      <td>-15.001348</td>\n",
       "      <td>-8.276000</td>\n",
       "      <td>-0.005876</td>\n",
       "      <td>3.179103</td>\n",
       "    </tr>\n",
       "    <tr>\n",
       "      <th>1</th>\n",
       "      <td>62mP7</td>\n",
       "      <td>14.272088</td>\n",
       "      <td>-3.475083</td>\n",
       "      <td>0.999183</td>\n",
       "      <td>26.953261</td>\n",
       "    </tr>\n",
       "    <tr>\n",
       "      <th>2</th>\n",
       "      <td>vyE1P</td>\n",
       "      <td>6.263187</td>\n",
       "      <td>-5.948386</td>\n",
       "      <td>5.001160</td>\n",
       "      <td>134.766305</td>\n",
       "    </tr>\n",
       "    <tr>\n",
       "      <th>3</th>\n",
       "      <td>KcrkZ</td>\n",
       "      <td>-13.081196</td>\n",
       "      <td>-11.506057</td>\n",
       "      <td>4.999415</td>\n",
       "      <td>137.945408</td>\n",
       "    </tr>\n",
       "    <tr>\n",
       "      <th>4</th>\n",
       "      <td>AHL4O</td>\n",
       "      <td>12.702195</td>\n",
       "      <td>-8.147433</td>\n",
       "      <td>5.004363</td>\n",
       "      <td>134.766305</td>\n",
       "    </tr>\n",
       "  </tbody>\n",
       "</table>\n",
       "</div>"
      ],
      "text/plain": [
       "      id         f0         f1        f2     product\n",
       "0  kBEdx -15.001348  -8.276000 -0.005876    3.179103\n",
       "1  62mP7  14.272088  -3.475083  0.999183   26.953261\n",
       "2  vyE1P   6.263187  -5.948386  5.001160  134.766305\n",
       "3  KcrkZ -13.081196 -11.506057  4.999415  137.945408\n",
       "4  AHL4O  12.702195  -8.147433  5.004363  134.766305"
      ]
     },
     "execution_count": 6,
     "metadata": {},
     "output_type": "execute_result"
    }
   ],
   "source": [
    "geo_data1.head()"
   ]
  },
  {
   "cell_type": "code",
   "execution_count": 7,
   "metadata": {},
   "outputs": [
    {
     "data": {
      "text/html": [
       "<div>\n",
       "<style scoped>\n",
       "    .dataframe tbody tr th:only-of-type {\n",
       "        vertical-align: middle;\n",
       "    }\n",
       "\n",
       "    .dataframe tbody tr th {\n",
       "        vertical-align: top;\n",
       "    }\n",
       "\n",
       "    .dataframe thead th {\n",
       "        text-align: right;\n",
       "    }\n",
       "</style>\n",
       "<table border=\"1\" class=\"dataframe\">\n",
       "  <thead>\n",
       "    <tr style=\"text-align: right;\">\n",
       "      <th></th>\n",
       "      <th>id</th>\n",
       "      <th>f0</th>\n",
       "      <th>f1</th>\n",
       "      <th>f2</th>\n",
       "      <th>product</th>\n",
       "    </tr>\n",
       "  </thead>\n",
       "  <tbody>\n",
       "    <tr>\n",
       "      <th>0</th>\n",
       "      <td>fwXo0</td>\n",
       "      <td>-1.146987</td>\n",
       "      <td>0.963328</td>\n",
       "      <td>-0.828965</td>\n",
       "      <td>27.758673</td>\n",
       "    </tr>\n",
       "    <tr>\n",
       "      <th>1</th>\n",
       "      <td>WJtFt</td>\n",
       "      <td>0.262778</td>\n",
       "      <td>0.269839</td>\n",
       "      <td>-2.530187</td>\n",
       "      <td>56.069697</td>\n",
       "    </tr>\n",
       "    <tr>\n",
       "      <th>2</th>\n",
       "      <td>ovLUW</td>\n",
       "      <td>0.194587</td>\n",
       "      <td>0.289035</td>\n",
       "      <td>-5.586433</td>\n",
       "      <td>62.871910</td>\n",
       "    </tr>\n",
       "    <tr>\n",
       "      <th>3</th>\n",
       "      <td>q6cA6</td>\n",
       "      <td>2.236060</td>\n",
       "      <td>-0.553760</td>\n",
       "      <td>0.930038</td>\n",
       "      <td>114.572842</td>\n",
       "    </tr>\n",
       "    <tr>\n",
       "      <th>4</th>\n",
       "      <td>WPMUX</td>\n",
       "      <td>-0.515993</td>\n",
       "      <td>1.716266</td>\n",
       "      <td>5.899011</td>\n",
       "      <td>149.600746</td>\n",
       "    </tr>\n",
       "  </tbody>\n",
       "</table>\n",
       "</div>"
      ],
      "text/plain": [
       "      id        f0        f1        f2     product\n",
       "0  fwXo0 -1.146987  0.963328 -0.828965   27.758673\n",
       "1  WJtFt  0.262778  0.269839 -2.530187   56.069697\n",
       "2  ovLUW  0.194587  0.289035 -5.586433   62.871910\n",
       "3  q6cA6  2.236060 -0.553760  0.930038  114.572842\n",
       "4  WPMUX -0.515993  1.716266  5.899011  149.600746"
      ]
     },
     "execution_count": 7,
     "metadata": {},
     "output_type": "execute_result"
    }
   ],
   "source": [
    "geo_data2.head()"
   ]
  },
  {
   "cell_type": "code",
   "execution_count": 8,
   "metadata": {},
   "outputs": [],
   "source": [
    "geo_data0 = geo_data0.set_index('id')\n",
    "geo_data1 = geo_data1.set_index('id')\n",
    "geo_data2 = geo_data2.set_index('id')"
   ]
  },
  {
   "cell_type": "markdown",
   "metadata": {},
   "source": [
    "### Дубликаты"
   ]
  },
  {
   "cell_type": "code",
   "execution_count": 9,
   "metadata": {},
   "outputs": [
    {
     "data": {
      "text/plain": [
       "0"
      ]
     },
     "execution_count": 9,
     "metadata": {},
     "output_type": "execute_result"
    }
   ],
   "source": [
    "geo_data0.duplicated().sum()"
   ]
  },
  {
   "cell_type": "code",
   "execution_count": 10,
   "metadata": {},
   "outputs": [
    {
     "data": {
      "text/plain": [
       "20"
      ]
     },
     "execution_count": 10,
     "metadata": {},
     "output_type": "execute_result"
    }
   ],
   "source": [
    "geo_data0.index.duplicated(keep=False).sum()"
   ]
  },
  {
   "cell_type": "code",
   "execution_count": 11,
   "metadata": {},
   "outputs": [],
   "source": [
    "geo_data0 = geo_data0[~geo_data0.index.duplicated(keep='first')]"
   ]
  },
  {
   "cell_type": "code",
   "execution_count": 12,
   "metadata": {},
   "outputs": [
    {
     "data": {
      "text/plain": [
       "0"
      ]
     },
     "execution_count": 12,
     "metadata": {},
     "output_type": "execute_result"
    }
   ],
   "source": [
    "geo_data0.index.duplicated(keep=False).sum()"
   ]
  },
  {
   "cell_type": "code",
   "execution_count": 13,
   "metadata": {},
   "outputs": [
    {
     "data": {
      "text/plain": [
       "0"
      ]
     },
     "execution_count": 13,
     "metadata": {},
     "output_type": "execute_result"
    }
   ],
   "source": [
    "geo_data1.duplicated().sum()"
   ]
  },
  {
   "cell_type": "code",
   "execution_count": 14,
   "metadata": {},
   "outputs": [
    {
     "data": {
      "text/plain": [
       "8"
      ]
     },
     "execution_count": 14,
     "metadata": {},
     "output_type": "execute_result"
    }
   ],
   "source": [
    "geo_data1.index.duplicated(keep=False).sum()"
   ]
  },
  {
   "cell_type": "code",
   "execution_count": 15,
   "metadata": {},
   "outputs": [
    {
     "data": {
      "text/plain": [
       "0"
      ]
     },
     "execution_count": 15,
     "metadata": {},
     "output_type": "execute_result"
    }
   ],
   "source": [
    "geo_data1 = geo_data1[~geo_data1.index.duplicated(keep='first')]\n",
    "geo_data1.index.duplicated(keep=False).sum()"
   ]
  },
  {
   "cell_type": "code",
   "execution_count": 16,
   "metadata": {},
   "outputs": [
    {
     "data": {
      "text/plain": [
       "0"
      ]
     },
     "execution_count": 16,
     "metadata": {},
     "output_type": "execute_result"
    }
   ],
   "source": [
    "geo_data2.duplicated().sum()"
   ]
  },
  {
   "cell_type": "code",
   "execution_count": 17,
   "metadata": {},
   "outputs": [
    {
     "data": {
      "text/plain": [
       "8"
      ]
     },
     "execution_count": 17,
     "metadata": {},
     "output_type": "execute_result"
    }
   ],
   "source": [
    "geo_data2.index.duplicated(keep=False).sum()"
   ]
  },
  {
   "cell_type": "code",
   "execution_count": 18,
   "metadata": {},
   "outputs": [
    {
     "data": {
      "text/plain": [
       "0"
      ]
     },
     "execution_count": 18,
     "metadata": {},
     "output_type": "execute_result"
    }
   ],
   "source": [
    "geo_data2 = geo_data2[~geo_data2.index.duplicated(keep='first')]\n",
    "geo_data2.index.duplicated(keep=False).sum()"
   ]
  },
  {
   "cell_type": "markdown",
   "metadata": {},
   "source": [
    "### Пропуски"
   ]
  },
  {
   "cell_type": "code",
   "execution_count": 19,
   "metadata": {},
   "outputs": [
    {
     "data": {
      "text/plain": [
       "f0         0\n",
       "f1         0\n",
       "f2         0\n",
       "product    0\n",
       "dtype: int64"
      ]
     },
     "execution_count": 19,
     "metadata": {},
     "output_type": "execute_result"
    }
   ],
   "source": [
    "geo_data0.isnull().sum()"
   ]
  },
  {
   "cell_type": "code",
   "execution_count": 20,
   "metadata": {},
   "outputs": [
    {
     "data": {
      "text/plain": [
       "f0         0\n",
       "f1         0\n",
       "f2         0\n",
       "product    0\n",
       "dtype: int64"
      ]
     },
     "execution_count": 20,
     "metadata": {},
     "output_type": "execute_result"
    }
   ],
   "source": [
    "geo_data1.isnull().sum()"
   ]
  },
  {
   "cell_type": "code",
   "execution_count": 21,
   "metadata": {},
   "outputs": [
    {
     "data": {
      "text/plain": [
       "f0         0\n",
       "f1         0\n",
       "f2         0\n",
       "product    0\n",
       "dtype: int64"
      ]
     },
     "execution_count": 21,
     "metadata": {},
     "output_type": "execute_result"
    }
   ],
   "source": [
    "geo_data2.isnull().sum()"
   ]
  },
  {
   "cell_type": "markdown",
   "metadata": {},
   "source": [
    "### Типы данных"
   ]
  },
  {
   "cell_type": "code",
   "execution_count": 22,
   "metadata": {},
   "outputs": [
    {
     "name": "stdout",
     "output_type": "stream",
     "text": [
      "<class 'pandas.core.frame.DataFrame'>\n",
      "Index: 99990 entries, txEyH to 1CWhH\n",
      "Data columns (total 4 columns):\n",
      " #   Column   Non-Null Count  Dtype  \n",
      "---  ------   --------------  -----  \n",
      " 0   f0       99990 non-null  float64\n",
      " 1   f1       99990 non-null  float64\n",
      " 2   f2       99990 non-null  float64\n",
      " 3   product  99990 non-null  float64\n",
      "dtypes: float64(4)\n",
      "memory usage: 5.8+ MB\n"
     ]
    }
   ],
   "source": [
    "geo_data0.info()"
   ]
  },
  {
   "cell_type": "code",
   "execution_count": 23,
   "metadata": {},
   "outputs": [
    {
     "name": "stdout",
     "output_type": "stream",
     "text": [
      "<class 'pandas.core.frame.DataFrame'>\n",
      "Index: 99996 entries, kBEdx to relB0\n",
      "Data columns (total 4 columns):\n",
      " #   Column   Non-Null Count  Dtype  \n",
      "---  ------   --------------  -----  \n",
      " 0   f0       99996 non-null  float64\n",
      " 1   f1       99996 non-null  float64\n",
      " 2   f2       99996 non-null  float64\n",
      " 3   product  99996 non-null  float64\n",
      "dtypes: float64(4)\n",
      "memory usage: 5.8+ MB\n"
     ]
    }
   ],
   "source": [
    "geo_data1.info()"
   ]
  },
  {
   "cell_type": "code",
   "execution_count": 24,
   "metadata": {},
   "outputs": [
    {
     "name": "stdout",
     "output_type": "stream",
     "text": [
      "<class 'pandas.core.frame.DataFrame'>\n",
      "Index: 99996 entries, fwXo0 to V9kWn\n",
      "Data columns (total 4 columns):\n",
      " #   Column   Non-Null Count  Dtype  \n",
      "---  ------   --------------  -----  \n",
      " 0   f0       99996 non-null  float64\n",
      " 1   f1       99996 non-null  float64\n",
      " 2   f2       99996 non-null  float64\n",
      " 3   product  99996 non-null  float64\n",
      "dtypes: float64(4)\n",
      "memory usage: 5.8+ MB\n"
     ]
    }
   ],
   "source": [
    "geo_data2.info()"
   ]
  },
  {
   "cell_type": "markdown",
   "metadata": {},
   "source": [
    "### Матрицы корреляции"
   ]
  },
  {
   "cell_type": "code",
   "execution_count": 25,
   "metadata": {},
   "outputs": [
    {
     "data": {
      "text/html": [
       "<style type=\"text/css\">\n",
       "#T_dbf88_row0_col0, #T_dbf88_row1_col1, #T_dbf88_row2_col2, #T_dbf88_row3_col3 {\n",
       "  background-color: #006837;\n",
       "  color: #f1f1f1;\n",
       "}\n",
       "#T_dbf88_row0_col1, #T_dbf88_row0_col2, #T_dbf88_row1_col0, #T_dbf88_row1_col3 {\n",
       "  background-color: #a50026;\n",
       "  color: #f1f1f1;\n",
       "}\n",
       "#T_dbf88_row0_col3 {\n",
       "  background-color: #fa9656;\n",
       "  color: #000000;\n",
       "}\n",
       "#T_dbf88_row1_col2 {\n",
       "  background-color: #a70226;\n",
       "  color: #f1f1f1;\n",
       "}\n",
       "#T_dbf88_row2_col0 {\n",
       "  background-color: #fdb768;\n",
       "  color: #000000;\n",
       "}\n",
       "#T_dbf88_row2_col1 {\n",
       "  background-color: #fdb96a;\n",
       "  color: #000000;\n",
       "}\n",
       "#T_dbf88_row2_col3 {\n",
       "  background-color: #e6f59d;\n",
       "  color: #000000;\n",
       "}\n",
       "#T_dbf88_row3_col0 {\n",
       "  background-color: #fee28f;\n",
       "  color: #000000;\n",
       "}\n",
       "#T_dbf88_row3_col1 {\n",
       "  background-color: #f36b42;\n",
       "  color: #f1f1f1;\n",
       "}\n",
       "#T_dbf88_row3_col2 {\n",
       "  background-color: #fffbb8;\n",
       "  color: #000000;\n",
       "}\n",
       "</style>\n",
       "<table id=\"T_dbf88\">\n",
       "  <thead>\n",
       "    <tr>\n",
       "      <th class=\"blank level0\" >&nbsp;</th>\n",
       "      <th id=\"T_dbf88_level0_col0\" class=\"col_heading level0 col0\" >f0</th>\n",
       "      <th id=\"T_dbf88_level0_col1\" class=\"col_heading level0 col1\" >f1</th>\n",
       "      <th id=\"T_dbf88_level0_col2\" class=\"col_heading level0 col2\" >f2</th>\n",
       "      <th id=\"T_dbf88_level0_col3\" class=\"col_heading level0 col3\" >product</th>\n",
       "    </tr>\n",
       "  </thead>\n",
       "  <tbody>\n",
       "    <tr>\n",
       "      <th id=\"T_dbf88_level0_row0\" class=\"row_heading level0 row0\" >f0</th>\n",
       "      <td id=\"T_dbf88_row0_col0\" class=\"data row0 col0\" >1.000000</td>\n",
       "      <td id=\"T_dbf88_row0_col1\" class=\"data row0 col1\" >-0.471379</td>\n",
       "      <td id=\"T_dbf88_row0_col2\" class=\"data row0 col2\" >-0.002739</td>\n",
       "      <td id=\"T_dbf88_row0_col3\" class=\"data row0 col3\" >0.128379</td>\n",
       "    </tr>\n",
       "    <tr>\n",
       "      <th id=\"T_dbf88_level0_row1\" class=\"row_heading level0 row1\" >f1</th>\n",
       "      <td id=\"T_dbf88_row1_col0\" class=\"data row1 col0\" >-0.471379</td>\n",
       "      <td id=\"T_dbf88_row1_col1\" class=\"data row1 col1\" >1.000000</td>\n",
       "      <td id=\"T_dbf88_row1_col2\" class=\"data row1 col2\" >0.001440</td>\n",
       "      <td id=\"T_dbf88_row1_col3\" class=\"data row1 col3\" >-0.181136</td>\n",
       "    </tr>\n",
       "    <tr>\n",
       "      <th id=\"T_dbf88_level0_row2\" class=\"row_heading level0 row2\" >f2</th>\n",
       "      <td id=\"T_dbf88_row2_col0\" class=\"data row2 col0\" >-0.002739</td>\n",
       "      <td id=\"T_dbf88_row2_col1\" class=\"data row2 col1\" >0.001440</td>\n",
       "      <td id=\"T_dbf88_row2_col2\" class=\"data row2 col2\" >1.000000</td>\n",
       "      <td id=\"T_dbf88_row2_col3\" class=\"data row2 col3\" >0.486370</td>\n",
       "    </tr>\n",
       "    <tr>\n",
       "      <th id=\"T_dbf88_level0_row3\" class=\"row_heading level0 row3\" >product</th>\n",
       "      <td id=\"T_dbf88_row3_col0\" class=\"data row3 col0\" >0.128379</td>\n",
       "      <td id=\"T_dbf88_row3_col1\" class=\"data row3 col1\" >-0.181136</td>\n",
       "      <td id=\"T_dbf88_row3_col2\" class=\"data row3 col2\" >0.486370</td>\n",
       "      <td id=\"T_dbf88_row3_col3\" class=\"data row3 col3\" >1.000000</td>\n",
       "    </tr>\n",
       "  </tbody>\n",
       "</table>\n"
      ],
      "text/plain": [
       "<pandas.io.formats.style.Styler at 0x148992cc0>"
      ]
     },
     "execution_count": 25,
     "metadata": {},
     "output_type": "execute_result"
    }
   ],
   "source": [
    "corr = geo_data0.corr('spearman')\n",
    "corr.style.background_gradient(cmap='RdYlGn')"
   ]
  },
  {
   "cell_type": "code",
   "execution_count": 26,
   "metadata": {},
   "outputs": [
    {
     "data": {
      "text/html": [
       "<style type=\"text/css\">\n",
       "#T_3aa44_row0_col0, #T_3aa44_row1_col1, #T_3aa44_row2_col2, #T_3aa44_row3_col3 {\n",
       "  background-color: #006837;\n",
       "  color: #f1f1f1;\n",
       "}\n",
       "#T_3aa44_row0_col1 {\n",
       "  background-color: #f57245;\n",
       "  color: #f1f1f1;\n",
       "}\n",
       "#T_3aa44_row0_col2, #T_3aa44_row0_col3, #T_3aa44_row1_col2, #T_3aa44_row3_col0, #T_3aa44_row3_col1 {\n",
       "  background-color: #a50026;\n",
       "  color: #f1f1f1;\n",
       "}\n",
       "#T_3aa44_row1_col0 {\n",
       "  background-color: #fa9b58;\n",
       "  color: #000000;\n",
       "}\n",
       "#T_3aa44_row1_col3 {\n",
       "  background-color: #cc2627;\n",
       "  color: #f1f1f1;\n",
       "}\n",
       "#T_3aa44_row2_col0 {\n",
       "  background-color: #d93429;\n",
       "  color: #f1f1f1;\n",
       "}\n",
       "#T_3aa44_row2_col1 {\n",
       "  background-color: #b30d26;\n",
       "  color: #f1f1f1;\n",
       "}\n",
       "#T_3aa44_row2_col3 {\n",
       "  background-color: #05713c;\n",
       "  color: #f1f1f1;\n",
       "}\n",
       "#T_3aa44_row3_col2 {\n",
       "  background-color: #06733d;\n",
       "  color: #f1f1f1;\n",
       "}\n",
       "</style>\n",
       "<table id=\"T_3aa44\">\n",
       "  <thead>\n",
       "    <tr>\n",
       "      <th class=\"blank level0\" >&nbsp;</th>\n",
       "      <th id=\"T_3aa44_level0_col0\" class=\"col_heading level0 col0\" >f0</th>\n",
       "      <th id=\"T_3aa44_level0_col1\" class=\"col_heading level0 col1\" >f1</th>\n",
       "      <th id=\"T_3aa44_level0_col2\" class=\"col_heading level0 col2\" >f2</th>\n",
       "      <th id=\"T_3aa44_level0_col3\" class=\"col_heading level0 col3\" >product</th>\n",
       "    </tr>\n",
       "  </thead>\n",
       "  <tbody>\n",
       "    <tr>\n",
       "      <th id=\"T_3aa44_level0_row0\" class=\"row_heading level0 row0\" >f0</th>\n",
       "      <td id=\"T_3aa44_row0_col0\" class=\"data row0 col0\" >1.000000</td>\n",
       "      <td id=\"T_3aa44_row0_col1\" class=\"data row0 col1\" >0.182247</td>\n",
       "      <td id=\"T_3aa44_row0_col2\" class=\"data row0 col2\" >-0.002024</td>\n",
       "      <td id=\"T_3aa44_row0_col3\" class=\"data row0 col3\" >-0.122901</td>\n",
       "    </tr>\n",
       "    <tr>\n",
       "      <th id=\"T_3aa44_level0_row1\" class=\"row_heading level0 row1\" >f1</th>\n",
       "      <td id=\"T_3aa44_row1_col0\" class=\"data row1 col0\" >0.182247</td>\n",
       "      <td id=\"T_3aa44_row1_col1\" class=\"data row1 col1\" >1.000000</td>\n",
       "      <td id=\"T_3aa44_row1_col2\" class=\"data row1 col2\" >-0.003674</td>\n",
       "      <td id=\"T_3aa44_row1_col3\" class=\"data row1 col3\" >-0.033906</td>\n",
       "    </tr>\n",
       "    <tr>\n",
       "      <th id=\"T_3aa44_level0_row2\" class=\"row_heading level0 row2\" >f2</th>\n",
       "      <td id=\"T_3aa44_row2_col0\" class=\"data row2 col0\" >-0.002024</td>\n",
       "      <td id=\"T_3aa44_row2_col1\" class=\"data row2 col1\" >-0.003674</td>\n",
       "      <td id=\"T_3aa44_row2_col2\" class=\"data row2 col2\" >1.000000</td>\n",
       "      <td id=\"T_3aa44_row2_col3\" class=\"data row2 col3\" >0.975604</td>\n",
       "    </tr>\n",
       "    <tr>\n",
       "      <th id=\"T_3aa44_level0_row3\" class=\"row_heading level0 row3\" >product</th>\n",
       "      <td id=\"T_3aa44_row3_col0\" class=\"data row3 col0\" >-0.122901</td>\n",
       "      <td id=\"T_3aa44_row3_col1\" class=\"data row3 col1\" >-0.033906</td>\n",
       "      <td id=\"T_3aa44_row3_col2\" class=\"data row3 col2\" >0.975604</td>\n",
       "      <td id=\"T_3aa44_row3_col3\" class=\"data row3 col3\" >1.000000</td>\n",
       "    </tr>\n",
       "  </tbody>\n",
       "</table>\n"
      ],
      "text/plain": [
       "<pandas.io.formats.style.Styler at 0x14c9d8830>"
      ]
     },
     "execution_count": 26,
     "metadata": {},
     "output_type": "execute_result"
    }
   ],
   "source": [
    "corr = geo_data1.corr('spearman')\n",
    "corr.style.background_gradient(cmap='RdYlGn')"
   ]
  },
  {
   "cell_type": "markdown",
   "metadata": {},
   "source": [
    "В первом регионе признак f2 сильно коррелирует с целевой переменной product"
   ]
  },
  {
   "cell_type": "code",
   "execution_count": 27,
   "metadata": {},
   "outputs": [
    {
     "data": {
      "text/html": [
       "<style type=\"text/css\">\n",
       "#T_7d5b6_row0_col0, #T_7d5b6_row1_col1, #T_7d5b6_row2_col2, #T_7d5b6_row3_col3 {\n",
       "  background-color: #006837;\n",
       "  color: #f1f1f1;\n",
       "}\n",
       "#T_7d5b6_row0_col1, #T_7d5b6_row1_col0 {\n",
       "  background-color: #a70226;\n",
       "  color: #f1f1f1;\n",
       "}\n",
       "#T_7d5b6_row0_col2, #T_7d5b6_row0_col3, #T_7d5b6_row1_col2, #T_7d5b6_row1_col3, #T_7d5b6_row2_col0, #T_7d5b6_row2_col1, #T_7d5b6_row3_col0, #T_7d5b6_row3_col1 {\n",
       "  background-color: #a50026;\n",
       "  color: #f1f1f1;\n",
       "}\n",
       "#T_7d5b6_row2_col3 {\n",
       "  background-color: #fff0a6;\n",
       "  color: #000000;\n",
       "}\n",
       "#T_7d5b6_row3_col2 {\n",
       "  background-color: #feefa3;\n",
       "  color: #000000;\n",
       "}\n",
       "</style>\n",
       "<table id=\"T_7d5b6\">\n",
       "  <thead>\n",
       "    <tr>\n",
       "      <th class=\"blank level0\" >&nbsp;</th>\n",
       "      <th id=\"T_7d5b6_level0_col0\" class=\"col_heading level0 col0\" >f0</th>\n",
       "      <th id=\"T_7d5b6_level0_col1\" class=\"col_heading level0 col1\" >f1</th>\n",
       "      <th id=\"T_7d5b6_level0_col2\" class=\"col_heading level0 col2\" >f2</th>\n",
       "      <th id=\"T_7d5b6_level0_col3\" class=\"col_heading level0 col3\" >product</th>\n",
       "    </tr>\n",
       "  </thead>\n",
       "  <tbody>\n",
       "    <tr>\n",
       "      <th id=\"T_7d5b6_level0_row0\" class=\"row_heading level0 row0\" >f0</th>\n",
       "      <td id=\"T_7d5b6_row0_col0\" class=\"data row0 col0\" >1.000000</td>\n",
       "      <td id=\"T_7d5b6_row0_col1\" class=\"data row0 col1\" >0.002471</td>\n",
       "      <td id=\"T_7d5b6_row0_col2\" class=\"data row0 col2\" >0.000046</td>\n",
       "      <td id=\"T_7d5b6_row0_col3\" class=\"data row0 col3\" >-0.002453</td>\n",
       "    </tr>\n",
       "    <tr>\n",
       "      <th id=\"T_7d5b6_level0_row1\" class=\"row_heading level0 row1\" >f1</th>\n",
       "      <td id=\"T_7d5b6_row1_col0\" class=\"data row1 col0\" >0.002471</td>\n",
       "      <td id=\"T_7d5b6_row1_col1\" class=\"data row1 col1\" >1.000000</td>\n",
       "      <td id=\"T_7d5b6_row1_col2\" class=\"data row1 col2\" >0.000349</td>\n",
       "      <td id=\"T_7d5b6_row1_col3\" class=\"data row1 col3\" >-0.001508</td>\n",
       "    </tr>\n",
       "    <tr>\n",
       "      <th id=\"T_7d5b6_level0_row2\" class=\"row_heading level0 row2\" >f2</th>\n",
       "      <td id=\"T_7d5b6_row2_col0\" class=\"data row2 col0\" >0.000046</td>\n",
       "      <td id=\"T_7d5b6_row2_col1\" class=\"data row2 col1\" >0.000349</td>\n",
       "      <td id=\"T_7d5b6_row2_col2\" class=\"data row2 col2\" >1.000000</td>\n",
       "      <td id=\"T_7d5b6_row2_col3\" class=\"data row2 col3\" >0.448459</td>\n",
       "    </tr>\n",
       "    <tr>\n",
       "      <th id=\"T_7d5b6_level0_row3\" class=\"row_heading level0 row3\" >product</th>\n",
       "      <td id=\"T_7d5b6_row3_col0\" class=\"data row3 col0\" >-0.002453</td>\n",
       "      <td id=\"T_7d5b6_row3_col1\" class=\"data row3 col1\" >-0.001508</td>\n",
       "      <td id=\"T_7d5b6_row3_col2\" class=\"data row3 col2\" >0.448459</td>\n",
       "      <td id=\"T_7d5b6_row3_col3\" class=\"data row3 col3\" >1.000000</td>\n",
       "    </tr>\n",
       "  </tbody>\n",
       "</table>\n"
      ],
      "text/plain": [
       "<pandas.io.formats.style.Styler at 0x14a18f650>"
      ]
     },
     "execution_count": 27,
     "metadata": {},
     "output_type": "execute_result"
    }
   ],
   "source": [
    "corr = geo_data2.corr('spearman')\n",
    "corr.style.background_gradient(cmap='RdYlGn')"
   ]
  },
  {
   "cell_type": "code",
   "execution_count": 28,
   "metadata": {},
   "outputs": [],
   "source": [
    "def hist(df):\n",
    "    columns = df.columns\n",
    "    for col in columns:\n",
    "        plt.hist(df[col], color='#ff7f50')\n",
    "        plt.title(col)\n",
    "        plt.show()"
   ]
  },
  {
   "cell_type": "code",
   "execution_count": 29,
   "metadata": {},
   "outputs": [
    {
     "data": {
      "image/png": "[encoded data removed]",
      "text/plain": [
       "<Figure size 640x480 with 1 Axes>"
      ]
     },
     "metadata": {},
     "output_type": "display_data"
    },
    {
     "data": {
      "image/png": "[encoded data removed]",
      "text/plain": [
       "<Figure size 640x480 with 1 Axes>"
      ]
     },
     "metadata": {},
     "output_type": "display_data"
    },
    {
     "data": {
      "image/png": "[encoded data removed]",
      "text/plain": [
       "<Figure size 640x480 with 1 Axes>"
      ]
     },
     "metadata": {},
     "output_type": "display_data"
    },
    {
     "data": {
      "image/png": "[encoded data removed]",
      "text/plain": [
       "<Figure size 640x480 with 1 Axes>"
      ]
     },
     "metadata": {},
     "output_type": "display_data"
    }
   ],
   "source": [
    "hist(geo_data0)"
   ]
  },
  {
   "cell_type": "markdown",
   "metadata": {},
   "source": [
    "В регионе 0 целевой признак имеет нормальное распределение. Распределение f1 близко к равномерному"
   ]
  },
  {
   "cell_type": "code",
   "execution_count": 30,
   "metadata": {},
   "outputs": [
    {
     "data": {
      "image/png": "[encoded data removed]",
      "text/plain": [
       "<Figure size 640x480 with 1 Axes>"
      ]
     },
     "metadata": {},
     "output_type": "display_data"
    },
    {
     "data": {
      "image/png": "[encoded data removed]",
      "text/plain": [
       "<Figure size 640x480 with 1 Axes>"
      ]
     },
     "metadata": {},
     "output_type": "display_data"
    },
    {
     "data": {
      "image/png": "[encoded data removed]",
      "text/plain": [
       "<Figure size 640x480 with 1 Axes>"
      ]
     },
     "metadata": {},
     "output_type": "display_data"
    },
    {
     "data": {
      "image/png": "[encoded data removed]",
      "text/plain": [
       "<Figure size 640x480 with 1 Axes>"
      ]
     },
     "metadata": {},
     "output_type": "display_data"
    }
   ],
   "source": [
    "hist(geo_data1)"
   ]
  },
  {
   "cell_type": "markdown",
   "metadata": {},
   "source": [
    "В первом регионе распределение целевого признака имеет равномерное распределение с двумя пиками - меньше 20 и больше 120"
   ]
  },
  {
   "cell_type": "code",
   "execution_count": 31,
   "metadata": {},
   "outputs": [
    {
     "data": {
      "image/png": "[encoded data removed]",
      "text/plain": [
       "<Figure size 640x480 with 1 Axes>"
      ]
     },
     "metadata": {},
     "output_type": "display_data"
    },
    {
     "data": {
      "image/png": "[encoded data removed]",
      "text/plain": [
       "<Figure size 640x480 with 1 Axes>"
      ]
     },
     "metadata": {},
     "output_type": "display_data"
    },
    {
     "data": {
      "image/png": "[encoded data removed]",
      "text/plain": [
       "<Figure size 640x480 with 1 Axes>"
      ]
     },
     "metadata": {},
     "output_type": "display_data"
    },
    {
     "data": {
      "image/png": "[encoded data removed]",
      "text/plain": [
       "<Figure size 640x480 with 1 Axes>"
      ]
     },
     "metadata": {},
     "output_type": "display_data"
    }
   ],
   "source": [
    "hist(geo_data2)"
   ]
  },
  {
   "cell_type": "markdown",
   "metadata": {},
   "source": [
    "Во втором регионе целевой признак все признаки имеют нормальное распределение"
   ]
  },
  {
   "cell_type": "markdown",
   "metadata": {},
   "source": [
    "## Обучение и проверка модели"
   ]
  },
  {
   "cell_type": "markdown",
   "metadata": {},
   "source": [
    "### Тренировочная и валидационная выборка"
   ]
  },
  {
   "cell_type": "code",
   "execution_count": 32,
   "metadata": {},
   "outputs": [
    {
     "data": {
      "text/plain": [
       "(99990, 4)"
      ]
     },
     "execution_count": 32,
     "metadata": {},
     "output_type": "execute_result"
    }
   ],
   "source": [
    "geo_data0.shape"
   ]
  },
  {
   "cell_type": "code",
   "execution_count": 33,
   "metadata": {},
   "outputs": [],
   "source": [
    "geo_data0_X = geo_data0.drop('product', axis=1)\n",
    "geo_data0_y = geo_data0['product']"
   ]
  },
  {
   "cell_type": "code",
   "execution_count": 34,
   "metadata": {},
   "outputs": [],
   "source": [
    "geo_data0_X_train, geo_data0_X_valid, geo_data0_y_train, geo_data0_y_valid = train_test_split(\n",
    "    geo_data0_X, geo_data0_y, test_size=0.25, random_state=42\n",
    ")"
   ]
  },
  {
   "cell_type": "code",
   "execution_count": 35,
   "metadata": {},
   "outputs": [
    {
     "data": {
      "text/plain": [
       "(74992, 3)"
      ]
     },
     "execution_count": 35,
     "metadata": {},
     "output_type": "execute_result"
    }
   ],
   "source": [
    "geo_data0_X_train.shape"
   ]
  },
  {
   "cell_type": "code",
   "execution_count": 36,
   "metadata": {},
   "outputs": [],
   "source": [
    "geo_data1_X = geo_data1.drop('product', axis=1)\n",
    "geo_data1_y = geo_data1['product']"
   ]
  },
  {
   "cell_type": "code",
   "execution_count": 37,
   "metadata": {},
   "outputs": [],
   "source": [
    "geo_data1_X_train, geo_data1_X_valid, geo_data1_y_train, geo_data1_y_valid = train_test_split(\n",
    "    geo_data1_X, geo_data1_y, test_size=0.25, random_state=42\n",
    ")"
   ]
  },
  {
   "cell_type": "code",
   "execution_count": 38,
   "metadata": {},
   "outputs": [],
   "source": [
    "geo_data2_X = geo_data2.drop('product', axis=1)\n",
    "geo_data2_y = geo_data2['product']"
   ]
  },
  {
   "cell_type": "code",
   "execution_count": 39,
   "metadata": {},
   "outputs": [],
   "source": [
    "geo_data2_X_train, geo_data2_X_valid, geo_data2_y_train, geo_data2_y_valid = train_test_split(\n",
    "    geo_data2_X, geo_data2_y, test_size=0.25, random_state=42\n",
    ")"
   ]
  },
  {
   "cell_type": "markdown",
   "metadata": {},
   "source": [
    "### Обучение моделей"
   ]
  },
  {
   "cell_type": "markdown",
   "metadata": {},
   "source": [
    "Задача представляет собой регрессию, следовательно, в качестве модели будем использовать линейную регрессию"
   ]
  },
  {
   "cell_type": "code",
   "execution_count": 40,
   "metadata": {},
   "outputs": [],
   "source": [
    "geo_data0_model = LinearRegression()\n",
    "geo_data0_model.fit(geo_data0_X_train, geo_data0_y_train)\n",
    "geo_data0_pred = geo_data0_model.predict(geo_data0_X_valid)\n",
    "geo_data0_pred = pd.DataFrame(geo_data0_pred, index=geo_data0_X_valid.index, columns=['pred'])"
   ]
  },
  {
   "cell_type": "code",
   "execution_count": 41,
   "metadata": {},
   "outputs": [],
   "source": [
    "geo_data1_model = LinearRegression()\n",
    "geo_data1_model.fit(geo_data1_X_train, geo_data1_y_train)\n",
    "geo_data1_pred = geo_data1_model.predict(geo_data1_X_valid)\n",
    "geo_data1_pred = pd.DataFrame(geo_data1_pred, index=geo_data1_X_valid.index, columns=['pred'])"
   ]
  },
  {
   "cell_type": "code",
   "execution_count": 42,
   "metadata": {},
   "outputs": [],
   "source": [
    "geo_data2_model = LinearRegression()\n",
    "geo_data2_model.fit(geo_data2_X_train, geo_data2_y_train)\n",
    "geo_data2_pred = geo_data2_model.predict(geo_data2_X_valid)\n",
    "geo_data2_pred = pd.DataFrame(geo_data2_pred, index=geo_data2_X_valid.index, columns=['pred'])"
   ]
  },
  {
   "cell_type": "markdown",
   "metadata": {},
   "source": [
    "### Расчет метрики"
   ]
  },
  {
   "cell_type": "markdown",
   "metadata": {},
   "source": [
    "Средний запас предсказанного сырья:"
   ]
  },
  {
   "cell_type": "code",
   "execution_count": 43,
   "metadata": {},
   "outputs": [
    {
     "data": {
      "text/plain": [
       "92.60230685934047"
      ]
     },
     "execution_count": 43,
     "metadata": {},
     "output_type": "execute_result"
    }
   ],
   "source": [
    "np.median(geo_data0_pred)"
   ]
  },
  {
   "cell_type": "code",
   "execution_count": 44,
   "metadata": {},
   "outputs": [
    {
     "data": {
      "text/plain": [
       "57.68860071603735"
      ]
     },
     "execution_count": 44,
     "metadata": {},
     "output_type": "execute_result"
    }
   ],
   "source": [
    "np.median(geo_data1_pred)"
   ]
  },
  {
   "cell_type": "code",
   "execution_count": 45,
   "metadata": {},
   "outputs": [
    {
     "data": {
      "text/plain": [
       "94.84131736856601"
      ]
     },
     "execution_count": 45,
     "metadata": {},
     "output_type": "execute_result"
    }
   ],
   "source": [
    "np.median(geo_data2_pred)"
   ]
  },
  {
   "cell_type": "markdown",
   "metadata": {},
   "source": [
    "Метрика RMSE для каждой модели:"
   ]
  },
  {
   "cell_type": "code",
   "execution_count": 46,
   "metadata": {},
   "outputs": [
    {
     "name": "stderr",
     "output_type": "stream",
     "text": [
      "/Library/Frameworks/Python.framework/Versions/3.12/lib/python3.12/site-packages/sklearn/metrics/_regression.py:492: FutureWarning: 'squared' is deprecated in version 1.4 and will be removed in 1.6. To calculate the root mean squared error, use the function'root_mean_squared_error'.\n",
      "  warnings.warn(\n"
     ]
    },
    {
     "data": {
      "text/plain": [
       "37.68508926201444"
      ]
     },
     "execution_count": 46,
     "metadata": {},
     "output_type": "execute_result"
    }
   ],
   "source": [
    "mean_squared_error(geo_data0_y_valid, geo_data0_pred, squared=False)"
   ]
  },
  {
   "cell_type": "code",
   "execution_count": 47,
   "metadata": {},
   "outputs": [
    {
     "name": "stderr",
     "output_type": "stream",
     "text": [
      "/Library/Frameworks/Python.framework/Versions/3.12/lib/python3.12/site-packages/sklearn/metrics/_regression.py:492: FutureWarning: 'squared' is deprecated in version 1.4 and will be removed in 1.6. To calculate the root mean squared error, use the function'root_mean_squared_error'.\n",
      "  warnings.warn(\n"
     ]
    },
    {
     "data": {
      "text/plain": [
       "0.8928265978121416"
      ]
     },
     "execution_count": 47,
     "metadata": {},
     "output_type": "execute_result"
    }
   ],
   "source": [
    "mean_squared_error(geo_data1_y_valid, geo_data1_pred, squared=False)"
   ]
  },
  {
   "cell_type": "code",
   "execution_count": 48,
   "metadata": {},
   "outputs": [
    {
     "name": "stderr",
     "output_type": "stream",
     "text": [
      "/Library/Frameworks/Python.framework/Versions/3.12/lib/python3.12/site-packages/sklearn/metrics/_regression.py:492: FutureWarning: 'squared' is deprecated in version 1.4 and will be removed in 1.6. To calculate the root mean squared error, use the function'root_mean_squared_error'.\n",
      "  warnings.warn(\n"
     ]
    },
    {
     "data": {
      "text/plain": [
       "40.080822438088305"
      ]
     },
     "execution_count": 48,
     "metadata": {},
     "output_type": "execute_result"
    }
   ],
   "source": [
    "mean_squared_error(geo_data2_y_valid, geo_data2_pred, squared=False)"
   ]
  },
  {
   "cell_type": "markdown",
   "metadata": {},
   "source": [
    "### Вывод"
   ]
  },
  {
   "cell_type": "markdown",
   "metadata": {},
   "source": [
    "Обучили модель линейной регрессии. \n",
    "\n",
    "Сравнили средний запас предсказанного сырья - в первом регионе почти в два раза меньше, чем в остальных\n",
    "\n",
    "Посчитали среднеквадратичную ошибку каждой модели:\n",
    "1. 37.7\n",
    "2. 0.89\n",
    "3. 40.1\n",
    "\n",
    "Первый регион имеет наиболее худшую точность модели"
   ]
  },
  {
   "cell_type": "markdown",
   "metadata": {},
   "source": [
    "## Подготовка к расчёту прибыли"
   ]
  },
  {
   "cell_type": "markdown",
   "metadata": {},
   "source": [
    "###  Ключевые значения "
   ]
  },
  {
   "cell_type": "code",
   "execution_count": 49,
   "metadata": {},
   "outputs": [],
   "source": [
    "REVENUE_PER_UNIT = 450000\n",
    "BUDGET = 10 ** 10\n",
    "WELLS = 200"
   ]
  },
  {
   "cell_type": "markdown",
   "metadata": {},
   "source": [
    "Для каждого региона бюджет составляет 10 млрд рублей. При нынешних ценах один баррель сырья приносит 450 рублей дохода. Доход с каждой единицы продукта составляет 450 тыс. рублей, поскольку объём указан в тысячах баррелей. Посчитаем достаточный объём сырья для разработки новой скважины"
   ]
  },
  {
   "cell_type": "markdown",
   "metadata": {},
   "source": [
    "### Достаточный объём сырья "
   ]
  },
  {
   "cell_type": "code",
   "execution_count": 50,
   "metadata": {},
   "outputs": [
    {
     "name": "stdout",
     "output_type": "stream",
     "text": [
      "Достаточный объем сырья в новой скважине: 111.11111111111111\n"
     ]
    }
   ],
   "source": [
    "materials_amount = BUDGET / WELLS / REVENUE_PER_UNIT\n",
    "print(f\"Достаточный объем сырья в новой скважине: {materials_amount}\")"
   ]
  },
  {
   "cell_type": "markdown",
   "metadata": {},
   "source": [
    "### Сравнение"
   ]
  },
  {
   "cell_type": "markdown",
   "metadata": {},
   "source": [
    "Ни в одном регионе средний запас предсказанного сырья не превышает достаточный объем. Следовательно, стоит выбирать наиболее прибыльные скважины "
   ]
  },
  {
   "cell_type": "markdown",
   "metadata": {},
   "source": [
    "## Расчёт прибыли и рисков "
   ]
  },
  {
   "cell_type": "markdown",
   "metadata": {},
   "source": [
    "### Функция для расчёта прибыли"
   ]
  },
  {
   "cell_type": "code",
   "execution_count": 51,
   "metadata": {},
   "outputs": [],
   "source": [
    "def profit_calculation(data, pred):\n",
    "    sorted_indices = pred.sort_values(by='pred', ascending=False).index[:200]\n",
    "    data_sorted = data.loc[sorted_indices]\n",
    "    \n",
    "    volume_amount = data_sorted['product'].sum()\n",
    "    revenue = volume_amount * REVENUE_PER_UNIT\n",
    "    profit = revenue - BUDGET\n",
    "    \n",
    "    return profit"
   ]
  },
  {
   "cell_type": "code",
   "execution_count": 52,
   "metadata": {},
   "outputs": [
    {
     "name": "stdout",
     "output_type": "stream",
     "text": [
      "Прибыль с нулевого региона: 3468529787.42\n"
     ]
    }
   ],
   "source": [
    "profit_data0 = profit_calculation(geo_data0, geo_data0_pred)\n",
    "print(f'Прибыль с нулевого региона: {profit_data0:.2f}')"
   ]
  },
  {
   "cell_type": "code",
   "execution_count": 53,
   "metadata": {},
   "outputs": [
    {
     "name": "stdout",
     "output_type": "stream",
     "text": [
      "Прибыль с первого региона: 2415086696.68\n"
     ]
    }
   ],
   "source": [
    "profit_data1 = profit_calculation(geo_data1, geo_data1_pred)\n",
    "print(f'Прибыль с первого региона: {profit_data1:.2f}')"
   ]
  },
  {
   "cell_type": "code",
   "execution_count": 54,
   "metadata": {},
   "outputs": [
    {
     "name": "stdout",
     "output_type": "stream",
     "text": [
      "Прибыль со второго региона: 2396613000.94\n"
     ]
    }
   ],
   "source": [
    "profit_data2 = profit_calculation(geo_data2, geo_data2_pred)\n",
    "print(f'Прибыль со второго региона: {profit_data2:.2f}')"
   ]
  },
  {
   "cell_type": "markdown",
   "metadata": {},
   "source": [
    "### Bootstrap"
   ]
  },
  {
   "cell_type": "code",
   "execution_count": 55,
   "metadata": {},
   "outputs": [],
   "source": [
    "def bootstrap(data, data_valid):\n",
    "    values = []\n",
    "    state = np.random.RandomState(12345)\n",
    "    for i in range(1000):\n",
    "        subsample = data.sample(n=500, replace=True, random_state=state)\n",
    "        profit = profit_calculation(data_valid, subsample)\n",
    "        values.append(profit)\n",
    "    values = pd.Series(values)\n",
    "    \n",
    "    mean_profit = values.mean()\n",
    "    print(f'Средняя прибыль: {mean_profit:.2f}')\n",
    "    \n",
    "    lower = values.quantile(0.025)\n",
    "    upper = values.quantile(0.975)\n",
    "    print('Расчет 95% доверительного интервала:')\n",
    "    print(f'Нижняя граница: {lower:.2f}')\n",
    "    print(f'Верхняя граница: {upper:.2f}')\n",
    "\n",
    "    risk_of_loss = (values < 0).mean()\n",
    "    print(f'Риск убытков: {risk_of_loss}')"
   ]
  },
  {
   "cell_type": "code",
   "execution_count": 56,
   "metadata": {},
   "outputs": [
    {
     "name": "stdout",
     "output_type": "stream",
     "text": [
      "Средняя прибыль: 417354353.46\n",
      "Расчет 95% доверительного интервала:\n",
      "Нижняя граница: -96261928.02\n",
      "Верхняя граница: 933493095.50\n",
      "Риск убытков: 0.059\n"
     ]
    }
   ],
   "source": [
    "bootstrap(geo_data0_pred, geo_data0)"
   ]
  },
  {
   "cell_type": "code",
   "execution_count": 57,
   "metadata": {},
   "outputs": [
    {
     "name": "stdout",
     "output_type": "stream",
     "text": [
      "Средняя прибыль: 432017870.04\n",
      "Расчет 95% доверительного интервала:\n",
      "Нижняя граница: 51741836.33\n",
      "Верхняя граница: 863042250.02\n",
      "Риск убытков: 0.01\n"
     ]
    }
   ],
   "source": [
    "bootstrap(geo_data1_pred, geo_data1)"
   ]
  },
  {
   "cell_type": "code",
   "execution_count": 58,
   "metadata": {},
   "outputs": [
    {
     "name": "stdout",
     "output_type": "stream",
     "text": [
      "Средняя прибыль: 356881964.62\n",
      "Расчет 95% доверительного интервала:\n",
      "Нижняя граница: -186256154.76\n",
      "Верхняя граница: 892099105.67\n",
      "Риск убытков: 0.089\n"
     ]
    }
   ],
   "source": [
    "bootstrap(geo_data2_pred, geo_data2)"
   ]
  },
  {
   "cell_type": "markdown",
   "metadata": {},
   "source": [
    "### Вывод"
   ]
  },
  {
   "cell_type": "markdown",
   "metadata": {},
   "source": [
    "Наилучший регион для разработки скважин - первый, так как имеет наибольшую среднюю предсказанную прибыль - 432 млн и имеет наиболее прибыльный доверительный интервал. Также он обладает практически нулевым риском убытков - 0.01. \n",
    "\n",
    "Только первый регион имеет нижнюю границу прибыли меньше 0"
   ]
  }
 ],
 "metadata": {
  "ExecuteTimeLog": [
   {
    "duration": 402,
    "start_time": "2024-07-17T13:12:37.631Z"
   },
   {
    "duration": 675,
    "start_time": "2024-07-17T13:12:39.105Z"
   },
   {
    "duration": 1301,
    "start_time": "2024-07-17T13:13:03.095Z"
   },
   {
    "duration": 16,
    "start_time": "2024-07-17T13:13:10.723Z"
   },
   {
    "duration": 7,
    "start_time": "2024-07-17T13:13:51.673Z"
   },
   {
    "duration": 9,
    "start_time": "2024-07-17T13:13:54.253Z"
   },
   {
    "duration": 71,
    "start_time": "2024-07-17T13:14:23.709Z"
   },
   {
    "duration": 405,
    "start_time": "2024-07-17T13:14:29.933Z"
   },
   {
    "duration": 438,
    "start_time": "2024-07-17T13:14:30.339Z"
   },
   {
    "duration": 17,
    "start_time": "2024-07-17T13:14:30.779Z"
   },
   {
    "duration": 41,
    "start_time": "2024-07-17T13:14:30.797Z"
   },
   {
    "duration": 62,
    "start_time": "2024-07-17T13:14:30.840Z"
   },
   {
    "duration": 9,
    "start_time": "2024-07-17T13:14:49.433Z"
   },
   {
    "duration": 8,
    "start_time": "2024-07-17T13:14:52.402Z"
   },
   {
    "duration": 32,
    "start_time": "2024-07-17T13:16:44.896Z"
   },
   {
    "duration": 4,
    "start_time": "2024-07-17T13:16:52.474Z"
   },
   {
    "duration": 23,
    "start_time": "2024-07-17T13:16:54.207Z"
   },
   {
    "duration": 436,
    "start_time": "2024-07-17T13:16:58.388Z"
   },
   {
    "duration": 422,
    "start_time": "2024-07-17T13:16:58.826Z"
   },
   {
    "duration": 16,
    "start_time": "2024-07-17T13:16:59.250Z"
   },
   {
    "duration": 11,
    "start_time": "2024-07-17T13:16:59.268Z"
   },
   {
    "duration": 9,
    "start_time": "2024-07-17T13:16:59.281Z"
   },
   {
    "duration": 20,
    "start_time": "2024-07-17T13:16:59.308Z"
   },
   {
    "duration": 49,
    "start_time": "2024-07-17T13:16:59.329Z"
   },
   {
    "duration": 32,
    "start_time": "2024-07-17T13:17:05.773Z"
   },
   {
    "duration": 34,
    "start_time": "2024-07-17T13:17:13.370Z"
   },
   {
    "duration": 74,
    "start_time": "2024-07-17T13:17:27.924Z"
   },
   {
    "duration": 3,
    "start_time": "2024-07-17T13:17:39.715Z"
   },
   {
    "duration": 2,
    "start_time": "2024-07-17T13:18:12.050Z"
   },
   {
    "duration": 20,
    "start_time": "2024-07-17T13:18:21.546Z"
   },
   {
    "duration": 33,
    "start_time": "2024-07-17T13:18:48.320Z"
   },
   {
    "duration": 25,
    "start_time": "2024-07-17T13:18:54.319Z"
   },
   {
    "duration": 35,
    "start_time": "2024-07-17T13:18:57.247Z"
   },
   {
    "duration": 8,
    "start_time": "2024-07-17T13:20:33.000Z"
   },
   {
    "duration": 19,
    "start_time": "2024-07-17T13:21:06.025Z"
   },
   {
    "duration": 20,
    "start_time": "2024-07-17T13:21:13.633Z"
   },
   {
    "duration": 8,
    "start_time": "2024-07-17T13:21:19.722Z"
   },
   {
    "duration": 8,
    "start_time": "2024-07-17T13:21:22.724Z"
   },
   {
    "duration": 8,
    "start_time": "2024-07-17T13:21:26.194Z"
   },
   {
    "duration": 10,
    "start_time": "2024-07-17T13:21:57.353Z"
   },
   {
    "duration": 6,
    "start_time": "2024-07-17T13:22:06.035Z"
   },
   {
    "duration": 8,
    "start_time": "2024-07-17T13:22:17.280Z"
   },
   {
    "duration": 7,
    "start_time": "2024-07-17T13:22:18.238Z"
   },
   {
    "duration": 2,
    "start_time": "2024-07-17T13:26:06.817Z"
   },
   {
    "duration": 7,
    "start_time": "2024-07-17T13:26:19.919Z"
   },
   {
    "duration": 42,
    "start_time": "2024-07-17T13:26:27.504Z"
   },
   {
    "duration": 10,
    "start_time": "2024-07-17T13:26:33.366Z"
   },
   {
    "duration": 10,
    "start_time": "2024-07-17T13:26:41.220Z"
   },
   {
    "duration": 9,
    "start_time": "2024-07-17T13:26:44.570Z"
   },
   {
    "duration": 5,
    "start_time": "2024-07-17T13:31:05.355Z"
   },
   {
    "duration": 4,
    "start_time": "2024-07-17T13:31:17.398Z"
   },
   {
    "duration": 15,
    "start_time": "2024-07-17T13:31:46.706Z"
   },
   {
    "duration": 3,
    "start_time": "2024-07-17T13:31:50.886Z"
   },
   {
    "duration": 2,
    "start_time": "2024-07-17T13:32:32.303Z"
   },
   {
    "duration": 7,
    "start_time": "2024-07-17T13:36:23.674Z"
   },
   {
    "duration": 437,
    "start_time": "2024-07-17T13:36:46.077Z"
   },
   {
    "duration": 429,
    "start_time": "2024-07-17T13:36:46.516Z"
   },
   {
    "duration": 16,
    "start_time": "2024-07-17T13:36:46.947Z"
   },
   {
    "duration": 15,
    "start_time": "2024-07-17T13:36:46.965Z"
   },
   {
    "duration": 14,
    "start_time": "2024-07-17T13:36:46.982Z"
   },
   {
    "duration": 28,
    "start_time": "2024-07-17T13:36:46.997Z"
   },
   {
    "duration": 36,
    "start_time": "2024-07-17T13:36:47.027Z"
   },
   {
    "duration": 25,
    "start_time": "2024-07-17T13:36:47.064Z"
   },
   {
    "duration": 36,
    "start_time": "2024-07-17T13:36:47.108Z"
   },
   {
    "duration": 6,
    "start_time": "2024-07-17T13:36:47.145Z"
   },
   {
    "duration": 23,
    "start_time": "2024-07-17T13:36:47.152Z"
   },
   {
    "duration": 25,
    "start_time": "2024-07-17T13:36:47.176Z"
   },
   {
    "duration": 15,
    "start_time": "2024-07-17T13:36:47.203Z"
   },
   {
    "duration": 10,
    "start_time": "2024-07-17T13:36:47.220Z"
   },
   {
    "duration": 21,
    "start_time": "2024-07-17T13:36:47.231Z"
   },
   {
    "duration": 12,
    "start_time": "2024-07-17T13:36:47.254Z"
   },
   {
    "duration": 26,
    "start_time": "2024-07-17T13:36:47.268Z"
   },
   {
    "duration": 12,
    "start_time": "2024-07-17T13:36:47.297Z"
   },
   {
    "duration": 716,
    "start_time": "2024-07-17T13:38:32.030Z"
   },
   {
    "duration": 40,
    "start_time": "2024-07-17T13:39:26.426Z"
   },
   {
    "duration": 3,
    "start_time": "2024-07-17T13:39:32.122Z"
   },
   {
    "duration": 1115,
    "start_time": "2024-07-17T13:39:58.487Z"
   },
   {
    "duration": 431,
    "start_time": "2024-07-17T13:39:59.604Z"
   },
   {
    "duration": 17,
    "start_time": "2024-07-17T13:40:00.037Z"
   },
   {
    "duration": 33,
    "start_time": "2024-07-17T13:40:00.056Z"
   },
   {
    "duration": 60,
    "start_time": "2024-07-17T13:40:00.091Z"
   },
   {
    "duration": 47,
    "start_time": "2024-07-17T13:40:00.153Z"
   },
   {
    "duration": 37,
    "start_time": "2024-07-17T13:40:00.202Z"
   },
   {
    "duration": 28,
    "start_time": "2024-07-17T13:40:00.240Z"
   },
   {
    "duration": 55,
    "start_time": "2024-07-17T13:40:00.269Z"
   },
   {
    "duration": 6,
    "start_time": "2024-07-17T13:40:00.326Z"
   },
   {
    "duration": 40,
    "start_time": "2024-07-17T13:40:00.333Z"
   },
   {
    "duration": 55,
    "start_time": "2024-07-17T13:40:00.375Z"
   },
   {
    "duration": 41,
    "start_time": "2024-07-17T13:40:00.432Z"
   },
   {
    "duration": 56,
    "start_time": "2024-07-17T13:40:00.477Z"
   },
   {
    "duration": 62,
    "start_time": "2024-07-17T13:40:00.534Z"
   },
   {
    "duration": 18,
    "start_time": "2024-07-17T13:40:00.598Z"
   },
   {
    "duration": 38,
    "start_time": "2024-07-17T13:40:00.617Z"
   },
   {
    "duration": 68,
    "start_time": "2024-07-17T13:40:00.657Z"
   },
   {
    "duration": 25,
    "start_time": "2024-07-17T13:40:00.727Z"
   },
   {
    "duration": 3,
    "start_time": "2024-07-17T13:40:16.131Z"
   },
   {
    "duration": 6,
    "start_time": "2024-07-17T13:40:26.190Z"
   },
   {
    "duration": 41,
    "start_time": "2024-07-17T13:40:43.440Z"
   },
   {
    "duration": 5,
    "start_time": "2024-07-17T13:41:05.911Z"
   },
   {
    "duration": 42,
    "start_time": "2024-07-17T13:41:27.057Z"
   },
   {
    "duration": 96,
    "start_time": "2024-07-17T13:41:55.752Z"
   },
   {
    "duration": 9,
    "start_time": "2024-07-17T13:42:02.351Z"
   },
   {
    "duration": 1093,
    "start_time": "2024-07-17T13:42:14.988Z"
   },
   {
    "duration": 419,
    "start_time": "2024-07-17T13:42:16.083Z"
   },
   {
    "duration": 16,
    "start_time": "2024-07-17T13:42:16.503Z"
   },
   {
    "duration": 8,
    "start_time": "2024-07-17T13:42:16.521Z"
   },
   {
    "duration": 9,
    "start_time": "2024-07-17T13:42:16.531Z"
   },
   {
    "duration": 23,
    "start_time": "2024-07-17T13:42:16.541Z"
   },
   {
    "duration": 61,
    "start_time": "2024-07-17T13:42:16.565Z"
   },
   {
    "duration": 26,
    "start_time": "2024-07-17T13:42:16.628Z"
   },
   {
    "duration": 34,
    "start_time": "2024-07-17T13:42:16.656Z"
   },
   {
    "duration": 20,
    "start_time": "2024-07-17T13:42:16.691Z"
   },
   {
    "duration": 6,
    "start_time": "2024-07-17T13:42:16.712Z"
   },
   {
    "duration": 5,
    "start_time": "2024-07-17T13:42:16.719Z"
   },
   {
    "duration": 10,
    "start_time": "2024-07-17T13:42:16.725Z"
   },
   {
    "duration": 8,
    "start_time": "2024-07-17T13:42:16.738Z"
   },
   {
    "duration": 9,
    "start_time": "2024-07-17T13:42:16.747Z"
   },
   {
    "duration": 4,
    "start_time": "2024-07-17T13:42:16.757Z"
   },
   {
    "duration": 49,
    "start_time": "2024-07-17T13:42:16.762Z"
   },
   {
    "duration": 43,
    "start_time": "2024-07-17T13:42:16.813Z"
   },
   {
    "duration": 3,
    "start_time": "2024-07-17T13:42:16.858Z"
   },
   {
    "duration": 8,
    "start_time": "2024-07-17T13:42:16.862Z"
   },
   {
    "duration": 60,
    "start_time": "2024-07-17T13:42:16.872Z"
   },
   {
    "duration": 5,
    "start_time": "2024-07-17T13:42:16.933Z"
   },
   {
    "duration": 45,
    "start_time": "2024-07-17T13:42:16.940Z"
   },
   {
    "duration": 109,
    "start_time": "2024-07-17T13:42:16.986Z"
   },
   {
    "duration": 10,
    "start_time": "2024-07-17T13:42:29.743Z"
   },
   {
    "duration": 3,
    "start_time": "2024-07-17T13:42:37.147Z"
   },
   {
    "duration": 8,
    "start_time": "2024-07-17T13:45:56.294Z"
   },
   {
    "duration": 9,
    "start_time": "2024-07-17T13:45:58.958Z"
   },
   {
    "duration": 9,
    "start_time": "2024-07-17T13:46:05.866Z"
   },
   {
    "duration": 21,
    "start_time": "2024-07-17T13:46:26.567Z"
   },
   {
    "duration": 14,
    "start_time": "2024-07-17T13:47:43.353Z"
   },
   {
    "duration": 19,
    "start_time": "2024-07-17T13:48:05.576Z"
   },
   {
    "duration": 14,
    "start_time": "2024-07-17T13:48:45.388Z"
   },
   {
    "duration": 15,
    "start_time": "2024-07-17T13:49:20.947Z"
   },
   {
    "duration": 14,
    "start_time": "2024-07-17T13:49:36.669Z"
   },
   {
    "duration": 15,
    "start_time": "2024-07-17T13:49:48.188Z"
   },
   {
    "duration": 10,
    "start_time": "2024-07-17T13:50:35.119Z"
   },
   {
    "duration": 9,
    "start_time": "2024-07-17T13:50:38.088Z"
   },
   {
    "duration": 8,
    "start_time": "2024-07-17T13:50:47.848Z"
   },
   {
    "duration": 8,
    "start_time": "2024-07-17T13:50:50.641Z"
   },
   {
    "duration": 8,
    "start_time": "2024-07-17T13:50:53.752Z"
   },
   {
    "duration": 4,
    "start_time": "2024-07-17T13:50:56.647Z"
   },
   {
    "duration": 4,
    "start_time": "2024-07-17T13:51:00.328Z"
   },
   {
    "duration": 5,
    "start_time": "2024-07-17T13:51:06.654Z"
   },
   {
    "duration": 5,
    "start_time": "2024-07-17T13:51:08.759Z"
   },
   {
    "duration": 10,
    "start_time": "2024-07-17T13:52:28.895Z"
   },
   {
    "duration": 3,
    "start_time": "2024-07-17T13:52:31.001Z"
   },
   {
    "duration": 72,
    "start_time": "2024-07-17T13:56:27.222Z"
   },
   {
    "duration": 9,
    "start_time": "2024-07-17T13:56:30.660Z"
   },
   {
    "duration": 9,
    "start_time": "2024-07-17T13:57:27.263Z"
   },
   {
    "duration": 9,
    "start_time": "2024-07-17T13:57:28.164Z"
   },
   {
    "duration": 6,
    "start_time": "2024-07-18T22:38:54.512Z"
   },
   {
    "duration": 2,
    "start_time": "2024-07-18T22:40:40.414Z"
   },
   {
    "duration": 2,
    "start_time": "2024-07-18T22:41:10.216Z"
   },
   {
    "duration": 2,
    "start_time": "2024-07-18T22:44:03.907Z"
   },
   {
    "duration": 7,
    "start_time": "2024-07-18T22:44:08.624Z"
   },
   {
    "duration": 36,
    "start_time": "2024-07-18T22:44:25.972Z"
   },
   {
    "duration": 1079,
    "start_time": "2024-07-18T22:44:33.321Z"
   },
   {
    "duration": 882,
    "start_time": "2024-07-18T22:44:34.401Z"
   },
   {
    "duration": 14,
    "start_time": "2024-07-18T22:44:35.284Z"
   },
   {
    "duration": 52,
    "start_time": "2024-07-18T22:44:35.299Z"
   },
   {
    "duration": 24,
    "start_time": "2024-07-18T22:44:35.353Z"
   },
   {
    "duration": 19,
    "start_time": "2024-07-18T22:44:35.379Z"
   },
   {
    "duration": 30,
    "start_time": "2024-07-18T22:44:35.399Z"
   },
   {
    "duration": 21,
    "start_time": "2024-07-18T22:44:35.430Z"
   },
   {
    "duration": 28,
    "start_time": "2024-07-18T22:44:35.453Z"
   },
   {
    "duration": 19,
    "start_time": "2024-07-18T22:44:35.483Z"
   },
   {
    "duration": 5,
    "start_time": "2024-07-18T22:44:35.503Z"
   },
   {
    "duration": 11,
    "start_time": "2024-07-18T22:44:35.509Z"
   },
   {
    "duration": 12,
    "start_time": "2024-07-18T22:44:35.522Z"
   },
   {
    "duration": 8,
    "start_time": "2024-07-18T22:44:35.536Z"
   },
   {
    "duration": 13,
    "start_time": "2024-07-18T22:44:35.545Z"
   },
   {
    "duration": 10,
    "start_time": "2024-07-18T22:44:35.559Z"
   },
   {
    "duration": 32,
    "start_time": "2024-07-18T22:44:35.570Z"
   },
   {
    "duration": 63,
    "start_time": "2024-07-18T22:44:35.603Z"
   },
   {
    "duration": 18,
    "start_time": "2024-07-18T22:44:35.668Z"
   },
   {
    "duration": 19,
    "start_time": "2024-07-18T22:44:35.687Z"
   },
   {
    "duration": 55,
    "start_time": "2024-07-18T22:44:35.707Z"
   },
   {
    "duration": 4,
    "start_time": "2024-07-18T22:44:35.764Z"
   },
   {
    "duration": 50,
    "start_time": "2024-07-18T22:44:35.769Z"
   },
   {
    "duration": 23,
    "start_time": "2024-07-18T22:44:35.820Z"
   },
   {
    "duration": 167,
    "start_time": "2024-07-18T22:44:35.844Z"
   },
   {
    "duration": 196,
    "start_time": "2024-07-18T22:44:36.012Z"
   },
   {
    "duration": 98,
    "start_time": "2024-07-18T22:44:36.209Z"
   },
   {
    "duration": 96,
    "start_time": "2024-07-18T22:44:36.308Z"
   },
   {
    "duration": 13,
    "start_time": "2024-07-18T22:44:36.405Z"
   },
   {
    "duration": 8,
    "start_time": "2024-07-18T22:44:36.419Z"
   },
   {
    "duration": 9,
    "start_time": "2024-07-18T22:44:36.428Z"
   },
   {
    "duration": 15,
    "start_time": "2024-07-18T22:44:36.438Z"
   },
   {
    "duration": 5,
    "start_time": "2024-07-18T22:44:36.454Z"
   },
   {
    "duration": 26,
    "start_time": "2024-07-18T22:44:36.460Z"
   },
   {
    "duration": 17,
    "start_time": "2024-07-18T22:44:36.487Z"
   },
   {
    "duration": 3,
    "start_time": "2024-07-18T22:46:11.211Z"
   },
   {
    "duration": 4,
    "start_time": "2024-07-18T22:49:08.108Z"
   },
   {
    "duration": 4,
    "start_time": "2024-07-18T22:49:10.995Z"
   },
   {
    "duration": 4,
    "start_time": "2024-07-18T22:49:17.326Z"
   },
   {
    "duration": 4,
    "start_time": "2024-07-18T22:50:54.986Z"
   },
   {
    "duration": 3,
    "start_time": "2024-07-18T23:03:34.826Z"
   },
   {
    "duration": 3,
    "start_time": "2024-07-18T23:04:03.934Z"
   },
   {
    "duration": 3,
    "start_time": "2024-07-18T23:04:24.331Z"
   },
   {
    "duration": 3,
    "start_time": "2024-07-18T23:05:24.575Z"
   },
   {
    "duration": 4,
    "start_time": "2024-07-18T23:06:47.081Z"
   },
   {
    "duration": 3,
    "start_time": "2024-07-18T23:07:33.825Z"
   },
   {
    "duration": 2,
    "start_time": "2024-07-18T23:08:05.176Z"
   },
   {
    "duration": 3,
    "start_time": "2024-07-18T23:14:59.996Z"
   },
   {
    "duration": 4,
    "start_time": "2024-07-18T23:15:34.028Z"
   },
   {
    "duration": 3,
    "start_time": "2024-07-18T23:15:36.548Z"
   },
   {
    "duration": 3,
    "start_time": "2024-07-18T23:16:53.455Z"
   },
   {
    "duration": 4,
    "start_time": "2024-07-18T23:16:53.624Z"
   },
   {
    "duration": 3,
    "start_time": "2024-07-18T23:18:46.930Z"
   },
   {
    "duration": 3,
    "start_time": "2024-07-18T23:18:57.902Z"
   },
   {
    "duration": 2,
    "start_time": "2024-07-18T23:19:10.130Z"
   },
   {
    "duration": 3,
    "start_time": "2024-07-18T23:19:10.804Z"
   },
   {
    "duration": 2,
    "start_time": "2024-07-18T23:19:17.528Z"
   },
   {
    "duration": 3,
    "start_time": "2024-07-18T23:19:18.025Z"
   },
   {
    "duration": 3,
    "start_time": "2024-07-18T23:20:35.301Z"
   },
   {
    "duration": 4,
    "start_time": "2024-07-18T23:20:35.441Z"
   },
   {
    "duration": 3,
    "start_time": "2024-07-18T23:21:07.299Z"
   },
   {
    "duration": 86,
    "start_time": "2024-07-18T23:21:47.677Z"
   },
   {
    "duration": 6,
    "start_time": "2024-07-18T23:21:52.032Z"
   },
   {
    "duration": 5,
    "start_time": "2024-07-18T23:21:59.303Z"
   },
   {
    "duration": 66,
    "start_time": "2024-07-19T10:58:28.397Z"
   },
   {
    "duration": 3,
    "start_time": "2024-07-19T11:03:30.687Z"
   },
   {
    "duration": 996,
    "start_time": "2024-07-19T11:03:44.824Z"
   },
   {
    "duration": 330,
    "start_time": "2024-07-19T11:03:45.821Z"
   },
   {
    "duration": 14,
    "start_time": "2024-07-19T11:03:46.153Z"
   },
   {
    "duration": 12,
    "start_time": "2024-07-19T11:03:46.168Z"
   },
   {
    "duration": 10,
    "start_time": "2024-07-19T11:03:46.182Z"
   },
   {
    "duration": 37,
    "start_time": "2024-07-19T11:03:46.193Z"
   },
   {
    "duration": 40,
    "start_time": "2024-07-19T11:03:46.232Z"
   },
   {
    "duration": 22,
    "start_time": "2024-07-19T11:03:46.274Z"
   },
   {
    "duration": 39,
    "start_time": "2024-07-19T11:03:46.297Z"
   },
   {
    "duration": 5,
    "start_time": "2024-07-19T11:03:46.338Z"
   },
   {
    "duration": 5,
    "start_time": "2024-07-19T11:03:46.344Z"
   },
   {
    "duration": 6,
    "start_time": "2024-07-19T11:03:46.351Z"
   },
   {
    "duration": 8,
    "start_time": "2024-07-19T11:03:46.359Z"
   },
   {
    "duration": 8,
    "start_time": "2024-07-19T11:03:46.370Z"
   },
   {
    "duration": 27,
    "start_time": "2024-07-19T11:03:46.379Z"
   },
   {
    "duration": 7,
    "start_time": "2024-07-19T11:03:46.407Z"
   },
   {
    "duration": 6,
    "start_time": "2024-07-19T11:03:46.415Z"
   },
   {
    "duration": 41,
    "start_time": "2024-07-19T11:03:46.422Z"
   },
   {
    "duration": 3,
    "start_time": "2024-07-19T11:03:46.464Z"
   },
   {
    "duration": 12,
    "start_time": "2024-07-19T11:03:46.469Z"
   },
   {
    "duration": 98,
    "start_time": "2024-07-19T11:03:46.482Z"
   },
   {
    "duration": 30,
    "start_time": "2024-07-19T11:03:46.582Z"
   },
   {
    "duration": 50,
    "start_time": "2024-07-19T11:03:46.614Z"
   },
   {
    "duration": 49,
    "start_time": "2024-07-19T11:03:46.666Z"
   },
   {
    "duration": 98,
    "start_time": "2024-07-19T11:03:46.717Z"
   },
   {
    "duration": 95,
    "start_time": "2024-07-19T11:03:46.817Z"
   },
   {
    "duration": 5,
    "start_time": "2024-07-19T11:03:46.913Z"
   },
   {
    "duration": 93,
    "start_time": "2024-07-19T11:03:46.920Z"
   },
   {
    "duration": 8,
    "start_time": "2024-07-19T11:03:47.015Z"
   },
   {
    "duration": 82,
    "start_time": "2024-07-19T11:03:47.025Z"
   },
   {
    "duration": 125,
    "start_time": "2024-07-19T11:03:47.108Z"
   },
   {
    "duration": 11,
    "start_time": "2024-07-19T11:03:47.234Z"
   },
   {
    "duration": 9,
    "start_time": "2024-07-19T11:03:47.247Z"
   },
   {
    "duration": 12,
    "start_time": "2024-07-19T11:03:47.257Z"
   },
   {
    "duration": 10,
    "start_time": "2024-07-19T11:03:47.270Z"
   },
   {
    "duration": 7,
    "start_time": "2024-07-19T11:03:47.281Z"
   },
   {
    "duration": 12,
    "start_time": "2024-07-19T11:03:47.289Z"
   },
   {
    "duration": 18,
    "start_time": "2024-07-19T11:03:47.302Z"
   },
   {
    "duration": 3,
    "start_time": "2024-07-19T11:03:47.322Z"
   },
   {
    "duration": 3,
    "start_time": "2024-07-19T11:07:13.969Z"
   },
   {
    "duration": 3,
    "start_time": "2024-07-19T11:18:03.250Z"
   },
   {
    "duration": 5,
    "start_time": "2024-07-19T11:18:46.814Z"
   },
   {
    "duration": 4,
    "start_time": "2024-07-19T11:20:05.722Z"
   },
   {
    "duration": 5,
    "start_time": "2024-07-19T11:20:08.484Z"
   },
   {
    "duration": 4,
    "start_time": "2024-07-19T11:20:56.726Z"
   },
   {
    "duration": 4,
    "start_time": "2024-07-19T11:21:18.796Z"
   },
   {
    "duration": 4,
    "start_time": "2024-07-19T11:22:11.395Z"
   },
   {
    "duration": 4,
    "start_time": "2024-07-19T11:22:24.461Z"
   },
   {
    "duration": 4,
    "start_time": "2024-07-19T11:22:36.788Z"
   },
   {
    "duration": 4,
    "start_time": "2024-07-19T11:23:13.892Z"
   },
   {
    "duration": 4,
    "start_time": "2024-07-19T11:23:17.593Z"
   },
   {
    "duration": 1037,
    "start_time": "2024-07-19T11:23:22.015Z"
   },
   {
    "duration": 353,
    "start_time": "2024-07-19T11:23:23.054Z"
   },
   {
    "duration": 13,
    "start_time": "2024-07-19T11:23:23.412Z"
   },
   {
    "duration": 25,
    "start_time": "2024-07-19T11:23:23.426Z"
   },
   {
    "duration": 32,
    "start_time": "2024-07-19T11:23:23.453Z"
   },
   {
    "duration": 41,
    "start_time": "2024-07-19T11:23:23.486Z"
   },
   {
    "duration": 114,
    "start_time": "2024-07-19T11:23:23.528Z"
   },
   {
    "duration": 22,
    "start_time": "2024-07-19T11:23:23.643Z"
   },
   {
    "duration": 30,
    "start_time": "2024-07-19T11:23:23.667Z"
   },
   {
    "duration": 16,
    "start_time": "2024-07-19T11:23:23.698Z"
   },
   {
    "duration": 31,
    "start_time": "2024-07-19T11:23:23.716Z"
   },
   {
    "duration": 17,
    "start_time": "2024-07-19T11:23:23.748Z"
   },
   {
    "duration": 23,
    "start_time": "2024-07-19T11:23:23.766Z"
   },
   {
    "duration": 25,
    "start_time": "2024-07-19T11:23:23.792Z"
   },
   {
    "duration": 8,
    "start_time": "2024-07-19T11:23:23.818Z"
   },
   {
    "duration": 13,
    "start_time": "2024-07-19T11:23:23.827Z"
   },
   {
    "duration": 13,
    "start_time": "2024-07-19T11:23:23.842Z"
   },
   {
    "duration": 41,
    "start_time": "2024-07-19T11:23:23.856Z"
   },
   {
    "duration": 12,
    "start_time": "2024-07-19T11:23:23.899Z"
   },
   {
    "duration": 6,
    "start_time": "2024-07-19T11:23:23.913Z"
   },
   {
    "duration": 37,
    "start_time": "2024-07-19T11:23:23.921Z"
   },
   {
    "duration": 5,
    "start_time": "2024-07-19T11:23:23.960Z"
   },
   {
    "duration": 60,
    "start_time": "2024-07-19T11:23:23.966Z"
   },
   {
    "duration": 20,
    "start_time": "2024-07-19T11:23:24.027Z"
   },
   {
    "duration": 107,
    "start_time": "2024-07-19T11:23:24.105Z"
   },
   {
    "duration": 112,
    "start_time": "2024-07-19T11:23:24.215Z"
   },
   {
    "duration": 5,
    "start_time": "2024-07-19T11:23:24.412Z"
   },
   {
    "duration": 6,
    "start_time": "2024-07-19T11:23:24.418Z"
   },
   {
    "duration": 88,
    "start_time": "2024-07-19T11:23:24.426Z"
   },
   {
    "duration": 9,
    "start_time": "2024-07-19T11:23:24.515Z"
   },
   {
    "duration": 7,
    "start_time": "2024-07-19T11:23:24.525Z"
   },
   {
    "duration": 6,
    "start_time": "2024-07-19T11:23:24.534Z"
   },
   {
    "duration": 6,
    "start_time": "2024-07-19T11:23:24.541Z"
   },
   {
    "duration": 5,
    "start_time": "2024-07-19T11:23:24.548Z"
   },
   {
    "duration": 8,
    "start_time": "2024-07-19T11:23:24.554Z"
   },
   {
    "duration": 77,
    "start_time": "2024-07-19T11:23:24.563Z"
   },
   {
    "duration": 11,
    "start_time": "2024-07-19T11:23:24.641Z"
   },
   {
    "duration": 4,
    "start_time": "2024-07-19T11:23:24.654Z"
   },
   {
    "duration": 23,
    "start_time": "2024-07-19T11:23:24.659Z"
   },
   {
    "duration": 90,
    "start_time": "2024-07-19T11:24:34.670Z"
   },
   {
    "duration": 4,
    "start_time": "2024-07-19T11:24:56.601Z"
   },
   {
    "duration": 2278,
    "start_time": "2024-07-19T11:24:57.720Z"
   },
   {
    "duration": 3,
    "start_time": "2024-07-19T11:25:14.336Z"
   },
   {
    "duration": 2289,
    "start_time": "2024-07-19T11:25:14.652Z"
   },
   {
    "duration": 937,
    "start_time": "2024-07-19T11:25:56.647Z"
   },
   {
    "duration": 351,
    "start_time": "2024-07-19T11:25:57.586Z"
   },
   {
    "duration": 13,
    "start_time": "2024-07-19T11:25:57.938Z"
   },
   {
    "duration": 19,
    "start_time": "2024-07-19T11:25:57.952Z"
   },
   {
    "duration": 19,
    "start_time": "2024-07-19T11:25:57.973Z"
   },
   {
    "duration": 39,
    "start_time": "2024-07-19T11:25:57.993Z"
   },
   {
    "duration": 32,
    "start_time": "2024-07-19T11:25:58.034Z"
   },
   {
    "duration": 24,
    "start_time": "2024-07-19T11:25:58.068Z"
   },
   {
    "duration": 54,
    "start_time": "2024-07-19T11:25:58.094Z"
   },
   {
    "duration": 6,
    "start_time": "2024-07-19T11:25:58.150Z"
   },
   {
    "duration": 14,
    "start_time": "2024-07-19T11:25:58.158Z"
   },
   {
    "duration": 12,
    "start_time": "2024-07-19T11:25:58.174Z"
   },
   {
    "duration": 8,
    "start_time": "2024-07-19T11:25:58.188Z"
   },
   {
    "duration": 10,
    "start_time": "2024-07-19T11:25:58.206Z"
   },
   {
    "duration": 21,
    "start_time": "2024-07-19T11:25:58.218Z"
   },
   {
    "duration": 3,
    "start_time": "2024-07-19T11:25:58.240Z"
   },
   {
    "duration": 23,
    "start_time": "2024-07-19T11:25:58.244Z"
   },
   {
    "duration": 47,
    "start_time": "2024-07-19T11:25:58.268Z"
   },
   {
    "duration": 4,
    "start_time": "2024-07-19T11:25:58.316Z"
   },
   {
    "duration": 35,
    "start_time": "2024-07-19T11:25:58.322Z"
   },
   {
    "duration": 39,
    "start_time": "2024-07-19T11:25:58.358Z"
   },
   {
    "duration": 9,
    "start_time": "2024-07-19T11:25:58.399Z"
   },
   {
    "duration": 32,
    "start_time": "2024-07-19T11:25:58.408Z"
   },
   {
    "duration": 18,
    "start_time": "2024-07-19T11:25:58.441Z"
   },
   {
    "duration": 59,
    "start_time": "2024-07-19T11:25:58.461Z"
   },
   {
    "duration": 196,
    "start_time": "2024-07-19T11:25:58.522Z"
   },
   {
    "duration": 4,
    "start_time": "2024-07-19T11:25:58.719Z"
   },
   {
    "duration": 78,
    "start_time": "2024-07-19T11:25:58.725Z"
   },
   {
    "duration": 16,
    "start_time": "2024-07-19T11:25:58.804Z"
   },
   {
    "duration": 94,
    "start_time": "2024-07-19T11:25:58.821Z"
   },
   {
    "duration": 7,
    "start_time": "2024-07-19T11:25:58.916Z"
   },
   {
    "duration": 10,
    "start_time": "2024-07-19T11:25:58.925Z"
   },
   {
    "duration": 11,
    "start_time": "2024-07-19T11:25:58.936Z"
   },
   {
    "duration": 5,
    "start_time": "2024-07-19T11:25:58.948Z"
   },
   {
    "duration": 20,
    "start_time": "2024-07-19T11:25:58.954Z"
   },
   {
    "duration": 9,
    "start_time": "2024-07-19T11:25:58.975Z"
   },
   {
    "duration": 11,
    "start_time": "2024-07-19T11:25:58.986Z"
   },
   {
    "duration": 19,
    "start_time": "2024-07-19T11:25:58.999Z"
   },
   {
    "duration": 5,
    "start_time": "2024-07-19T11:25:59.020Z"
   },
   {
    "duration": 2332,
    "start_time": "2024-07-19T11:25:59.026Z"
   },
   {
    "duration": 3,
    "start_time": "2024-07-19T11:26:21.234Z"
   },
   {
    "duration": 2319,
    "start_time": "2024-07-19T11:26:21.392Z"
   },
   {
    "duration": 4,
    "start_time": "2024-07-19T11:26:37.336Z"
   },
   {
    "duration": 2302,
    "start_time": "2024-07-19T11:26:37.682Z"
   },
   {
    "duration": 4,
    "start_time": "2024-07-19T11:26:53.278Z"
   },
   {
    "duration": 4,
    "start_time": "2024-07-19T11:28:14.598Z"
   },
   {
    "duration": 98,
    "start_time": "2024-07-19T11:28:14.776Z"
   },
   {
    "duration": 5,
    "start_time": "2024-07-19T11:28:22.280Z"
   },
   {
    "duration": 2133,
    "start_time": "2024-07-19T11:28:22.433Z"
   },
   {
    "duration": 4,
    "start_time": "2024-07-19T11:28:31.384Z"
   },
   {
    "duration": 2126,
    "start_time": "2024-07-19T11:28:31.535Z"
   },
   {
    "duration": 2117,
    "start_time": "2024-07-19T11:28:59.154Z"
   },
   {
    "duration": 2123,
    "start_time": "2024-07-19T11:29:01.273Z"
   },
   {
    "duration": 5,
    "start_time": "2024-07-19T11:38:56.493Z"
   },
   {
    "duration": 2110,
    "start_time": "2024-07-19T11:38:56.992Z"
   },
   {
    "duration": 2164,
    "start_time": "2024-07-19T11:38:59.103Z"
   },
   {
    "duration": 2143,
    "start_time": "2024-07-19T11:39:01.269Z"
   },
   {
    "duration": 1052,
    "start_time": "2024-07-19T11:39:12.813Z"
   },
   {
    "duration": 314,
    "start_time": "2024-07-19T11:39:13.866Z"
   },
   {
    "duration": 21,
    "start_time": "2024-07-19T11:39:14.181Z"
   },
   {
    "duration": 6,
    "start_time": "2024-07-19T11:39:14.204Z"
   },
   {
    "duration": 10,
    "start_time": "2024-07-19T11:39:14.212Z"
   },
   {
    "duration": 23,
    "start_time": "2024-07-19T11:39:14.223Z"
   },
   {
    "duration": 31,
    "start_time": "2024-07-19T11:39:14.247Z"
   },
   {
    "duration": 34,
    "start_time": "2024-07-19T11:39:14.279Z"
   },
   {
    "duration": 31,
    "start_time": "2024-07-19T11:39:14.314Z"
   },
   {
    "duration": 5,
    "start_time": "2024-07-19T11:39:14.347Z"
   },
   {
    "duration": 10,
    "start_time": "2024-07-19T11:39:14.353Z"
   },
   {
    "duration": 9,
    "start_time": "2024-07-19T11:39:14.364Z"
   },
   {
    "duration": 14,
    "start_time": "2024-07-19T11:39:14.375Z"
   },
   {
    "duration": 13,
    "start_time": "2024-07-19T11:39:14.390Z"
   },
   {
    "duration": 7,
    "start_time": "2024-07-19T11:39:14.404Z"
   },
   {
    "duration": 6,
    "start_time": "2024-07-19T11:39:14.412Z"
   },
   {
    "duration": 18,
    "start_time": "2024-07-19T11:39:14.419Z"
   },
   {
    "duration": 34,
    "start_time": "2024-07-19T11:39:14.439Z"
   },
   {
    "duration": 3,
    "start_time": "2024-07-19T11:39:14.475Z"
   },
   {
    "duration": 7,
    "start_time": "2024-07-19T11:39:14.479Z"
   },
   {
    "duration": 44,
    "start_time": "2024-07-19T11:39:14.487Z"
   },
   {
    "duration": 31,
    "start_time": "2024-07-19T11:39:14.532Z"
   },
   {
    "duration": 60,
    "start_time": "2024-07-19T11:39:14.564Z"
   },
   {
    "duration": 20,
    "start_time": "2024-07-19T11:39:14.625Z"
   },
   {
    "duration": 101,
    "start_time": "2024-07-19T11:39:14.709Z"
   },
   {
    "duration": 99,
    "start_time": "2024-07-19T11:39:14.812Z"
   },
   {
    "duration": 5,
    "start_time": "2024-07-19T11:39:15.002Z"
   },
   {
    "duration": 93,
    "start_time": "2024-07-19T11:39:15.011Z"
   },
   {
    "duration": 39,
    "start_time": "2024-07-19T11:39:15.105Z"
   },
   {
    "duration": 42,
    "start_time": "2024-07-19T11:39:15.146Z"
   },
   {
    "duration": 46,
    "start_time": "2024-07-19T11:39:15.190Z"
   },
   {
    "duration": 172,
    "start_time": "2024-07-19T11:39:15.237Z"
   },
   {
    "duration": 14,
    "start_time": "2024-07-19T11:39:15.411Z"
   },
   {
    "duration": 17,
    "start_time": "2024-07-19T11:39:15.426Z"
   },
   {
    "duration": 21,
    "start_time": "2024-07-19T11:39:15.445Z"
   },
   {
    "duration": 30,
    "start_time": "2024-07-19T11:39:15.468Z"
   },
   {
    "duration": 17,
    "start_time": "2024-07-19T11:39:15.500Z"
   },
   {
    "duration": 5,
    "start_time": "2024-07-19T11:39:15.518Z"
   },
   {
    "duration": 21,
    "start_time": "2024-07-19T11:39:15.524Z"
   },
   {
    "duration": 2115,
    "start_time": "2024-07-19T11:39:15.546Z"
   },
   {
    "duration": 2110,
    "start_time": "2024-07-19T11:39:17.662Z"
   },
   {
    "duration": 2136,
    "start_time": "2024-07-19T11:39:19.773Z"
   },
   {
    "duration": 4,
    "start_time": "2024-07-19T11:40:59.388Z"
   },
   {
    "duration": 2214,
    "start_time": "2024-07-19T11:40:59.577Z"
   },
   {
    "duration": 0,
    "start_time": "2024-07-19T11:41:01.792Z"
   },
   {
    "duration": 0,
    "start_time": "2024-07-19T11:41:01.793Z"
   },
   {
    "duration": 4,
    "start_time": "2024-07-19T11:41:29.237Z"
   },
   {
    "duration": 2139,
    "start_time": "2024-07-19T11:41:29.408Z"
   },
   {
    "duration": 4,
    "start_time": "2024-07-19T11:41:51.370Z"
   },
   {
    "duration": 2121,
    "start_time": "2024-07-19T11:41:52.123Z"
   },
   {
    "duration": 2110,
    "start_time": "2024-07-19T11:42:41.569Z"
   },
   {
    "duration": 2118,
    "start_time": "2024-07-19T11:42:43.680Z"
   },
   {
    "duration": 64,
    "start_time": "2024-07-19T11:47:54.276Z"
   },
   {
    "duration": 1029,
    "start_time": "2024-07-19T11:50:00.911Z"
   },
   {
    "duration": 329,
    "start_time": "2024-07-19T11:50:01.941Z"
   },
   {
    "duration": 13,
    "start_time": "2024-07-19T11:50:02.271Z"
   },
   {
    "duration": 48,
    "start_time": "2024-07-19T11:50:02.286Z"
   },
   {
    "duration": 60,
    "start_time": "2024-07-19T11:50:02.335Z"
   },
   {
    "duration": 27,
    "start_time": "2024-07-19T11:50:02.396Z"
   },
   {
    "duration": 36,
    "start_time": "2024-07-19T11:50:02.425Z"
   },
   {
    "duration": 66,
    "start_time": "2024-07-19T11:50:02.462Z"
   },
   {
    "duration": 39,
    "start_time": "2024-07-19T11:50:02.529Z"
   },
   {
    "duration": 4,
    "start_time": "2024-07-19T11:50:02.571Z"
   },
   {
    "duration": 21,
    "start_time": "2024-07-19T11:50:02.577Z"
   },
   {
    "duration": 19,
    "start_time": "2024-07-19T11:50:02.599Z"
   },
   {
    "duration": 20,
    "start_time": "2024-07-19T11:50:02.619Z"
   },
   {
    "duration": 24,
    "start_time": "2024-07-19T11:50:02.640Z"
   },
   {
    "duration": 63,
    "start_time": "2024-07-19T11:50:02.666Z"
   },
   {
    "duration": 45,
    "start_time": "2024-07-19T11:50:02.730Z"
   },
   {
    "duration": 34,
    "start_time": "2024-07-19T11:50:02.777Z"
   },
   {
    "duration": 51,
    "start_time": "2024-07-19T11:50:02.813Z"
   },
   {
    "duration": 4,
    "start_time": "2024-07-19T11:50:02.865Z"
   },
   {
    "duration": 22,
    "start_time": "2024-07-19T11:50:02.870Z"
   },
   {
    "duration": 41,
    "start_time": "2024-07-19T11:50:02.893Z"
   },
   {
    "duration": 28,
    "start_time": "2024-07-19T11:50:02.935Z"
   },
   {
    "duration": 64,
    "start_time": "2024-07-19T11:50:02.964Z"
   },
   {
    "duration": 20,
    "start_time": "2024-07-19T11:50:03.029Z"
   },
   {
    "duration": 154,
    "start_time": "2024-07-19T11:50:03.050Z"
   },
   {
    "duration": 263,
    "start_time": "2024-07-19T11:50:03.205Z"
   },
   {
    "duration": 3,
    "start_time": "2024-07-19T11:50:03.470Z"
   },
   {
    "duration": 126,
    "start_time": "2024-07-19T11:50:03.476Z"
   },
   {
    "duration": 4,
    "start_time": "2024-07-19T11:50:03.604Z"
   },
   {
    "duration": 11,
    "start_time": "2024-07-19T11:50:03.609Z"
   },
   {
    "duration": 111,
    "start_time": "2024-07-19T11:50:03.622Z"
   },
   {
    "duration": 14,
    "start_time": "2024-07-19T11:50:03.735Z"
   },
   {
    "duration": 11,
    "start_time": "2024-07-19T11:50:03.751Z"
   },
   {
    "duration": 5,
    "start_time": "2024-07-19T11:50:03.763Z"
   },
   {
    "duration": 4,
    "start_time": "2024-07-19T11:50:03.769Z"
   },
   {
    "duration": 16,
    "start_time": "2024-07-19T11:50:03.774Z"
   },
   {
    "duration": 8,
    "start_time": "2024-07-19T11:50:03.792Z"
   },
   {
    "duration": 21,
    "start_time": "2024-07-19T11:50:03.801Z"
   },
   {
    "duration": 4,
    "start_time": "2024-07-19T11:50:03.823Z"
   },
   {
    "duration": 2134,
    "start_time": "2024-07-19T11:50:03.829Z"
   },
   {
    "duration": 2121,
    "start_time": "2024-07-19T11:50:05.964Z"
   },
   {
    "duration": 2133,
    "start_time": "2024-07-19T11:50:08.087Z"
   },
   {
    "duration": 995,
    "start_time": "2024-07-19T11:50:41.253Z"
   },
   {
    "duration": 343,
    "start_time": "2024-07-19T11:50:42.250Z"
   },
   {
    "duration": 20,
    "start_time": "2024-07-19T11:50:42.596Z"
   },
   {
    "duration": 27,
    "start_time": "2024-07-19T11:50:42.618Z"
   },
   {
    "duration": 87,
    "start_time": "2024-07-19T11:50:42.647Z"
   },
   {
    "duration": 39,
    "start_time": "2024-07-19T11:50:42.735Z"
   },
   {
    "duration": 31,
    "start_time": "2024-07-19T11:50:42.776Z"
   },
   {
    "duration": 22,
    "start_time": "2024-07-19T11:50:42.809Z"
   },
   {
    "duration": 35,
    "start_time": "2024-07-19T11:50:42.832Z"
   },
   {
    "duration": 6,
    "start_time": "2024-07-19T11:50:42.868Z"
   },
   {
    "duration": 20,
    "start_time": "2024-07-19T11:50:42.876Z"
   },
   {
    "duration": 12,
    "start_time": "2024-07-19T11:50:42.897Z"
   },
   {
    "duration": 16,
    "start_time": "2024-07-19T11:50:42.911Z"
   },
   {
    "duration": 17,
    "start_time": "2024-07-19T11:50:42.930Z"
   },
   {
    "duration": 27,
    "start_time": "2024-07-19T11:50:42.949Z"
   },
   {
    "duration": 13,
    "start_time": "2024-07-19T11:50:42.977Z"
   },
   {
    "duration": 17,
    "start_time": "2024-07-19T11:50:42.992Z"
   },
   {
    "duration": 44,
    "start_time": "2024-07-19T11:50:43.011Z"
   },
   {
    "duration": 14,
    "start_time": "2024-07-19T11:50:43.056Z"
   },
   {
    "duration": 14,
    "start_time": "2024-07-19T11:50:43.071Z"
   },
   {
    "duration": 49,
    "start_time": "2024-07-19T11:50:43.086Z"
   },
   {
    "duration": 5,
    "start_time": "2024-07-19T11:50:43.137Z"
   },
   {
    "duration": 58,
    "start_time": "2024-07-19T11:50:43.144Z"
   },
   {
    "duration": 34,
    "start_time": "2024-07-19T11:50:43.204Z"
   },
   {
    "duration": 107,
    "start_time": "2024-07-19T11:50:43.303Z"
   },
   {
    "duration": 190,
    "start_time": "2024-07-19T11:50:43.412Z"
   },
   {
    "duration": 6,
    "start_time": "2024-07-19T11:50:43.604Z"
   },
   {
    "duration": 93,
    "start_time": "2024-07-19T11:50:43.611Z"
   },
   {
    "duration": 16,
    "start_time": "2024-07-19T11:50:43.705Z"
   },
   {
    "duration": 25,
    "start_time": "2024-07-19T11:50:43.722Z"
   },
   {
    "duration": 64,
    "start_time": "2024-07-19T11:50:43.748Z"
   },
   {
    "duration": 81,
    "start_time": "2024-07-19T11:50:43.814Z"
   },
   {
    "duration": 58,
    "start_time": "2024-07-19T11:50:43.896Z"
   },
   {
    "duration": 123,
    "start_time": "2024-07-19T11:50:43.956Z"
   },
   {
    "duration": 76,
    "start_time": "2024-07-19T11:50:44.080Z"
   },
   {
    "duration": 34,
    "start_time": "2024-07-19T11:50:44.158Z"
   },
   {
    "duration": 22,
    "start_time": "2024-07-19T11:50:44.193Z"
   },
   {
    "duration": 46,
    "start_time": "2024-07-19T11:50:44.217Z"
   },
   {
    "duration": 60,
    "start_time": "2024-07-19T11:50:44.264Z"
   },
   {
    "duration": 2149,
    "start_time": "2024-07-19T11:50:44.325Z"
   },
   {
    "duration": 2132,
    "start_time": "2024-07-19T11:50:46.478Z"
   },
   {
    "duration": 2136,
    "start_time": "2024-07-19T11:50:48.612Z"
   },
   {
    "duration": 1693,
    "start_time": "2024-07-20T00:10:31.679Z"
   },
   {
    "duration": 876,
    "start_time": "2024-07-20T00:10:33.374Z"
   },
   {
    "duration": 15,
    "start_time": "2024-07-20T00:10:34.251Z"
   },
   {
    "duration": 11,
    "start_time": "2024-07-20T00:10:34.267Z"
   },
   {
    "duration": 9,
    "start_time": "2024-07-20T00:10:34.280Z"
   },
   {
    "duration": 45,
    "start_time": "2024-07-20T00:10:34.290Z"
   },
   {
    "duration": 33,
    "start_time": "2024-07-20T00:10:34.336Z"
   },
   {
    "duration": 22,
    "start_time": "2024-07-20T00:10:34.370Z"
   },
   {
    "duration": 109,
    "start_time": "2024-07-20T00:10:34.393Z"
   },
   {
    "duration": 11,
    "start_time": "2024-07-20T00:10:34.503Z"
   },
   {
    "duration": 16,
    "start_time": "2024-07-20T00:10:34.516Z"
   },
   {
    "duration": 31,
    "start_time": "2024-07-20T00:10:34.533Z"
   },
   {
    "duration": 11,
    "start_time": "2024-07-20T00:10:34.565Z"
   },
   {
    "duration": 9,
    "start_time": "2024-07-20T00:10:34.579Z"
   },
   {
    "duration": 7,
    "start_time": "2024-07-20T00:10:34.589Z"
   },
   {
    "duration": 9,
    "start_time": "2024-07-20T00:10:34.597Z"
   },
   {
    "duration": 12,
    "start_time": "2024-07-20T00:10:34.607Z"
   },
   {
    "duration": 33,
    "start_time": "2024-07-20T00:10:34.620Z"
   },
   {
    "duration": 3,
    "start_time": "2024-07-20T00:10:34.654Z"
   },
   {
    "duration": 10,
    "start_time": "2024-07-20T00:10:34.658Z"
   },
   {
    "duration": 42,
    "start_time": "2024-07-20T00:10:34.670Z"
   },
   {
    "duration": 4,
    "start_time": "2024-07-20T00:10:34.713Z"
   },
   {
    "duration": 48,
    "start_time": "2024-07-20T00:10:34.719Z"
   },
   {
    "duration": 35,
    "start_time": "2024-07-20T00:10:34.768Z"
   },
   {
    "duration": 99,
    "start_time": "2024-07-20T00:10:34.805Z"
   },
   {
    "duration": 205,
    "start_time": "2024-07-20T00:10:34.906Z"
   },
   {
    "duration": 90,
    "start_time": "2024-07-20T00:10:35.113Z"
   },
   {
    "duration": 4,
    "start_time": "2024-07-20T00:10:35.205Z"
   },
   {
    "duration": 94,
    "start_time": "2024-07-20T00:10:35.210Z"
   },
   {
    "duration": 19,
    "start_time": "2024-07-20T00:10:35.305Z"
   },
   {
    "duration": 21,
    "start_time": "2024-07-20T00:10:35.325Z"
   },
   {
    "duration": 98,
    "start_time": "2024-07-20T00:10:35.348Z"
   },
   {
    "duration": 33,
    "start_time": "2024-07-20T00:10:35.447Z"
   },
   {
    "duration": 15,
    "start_time": "2024-07-20T00:10:35.483Z"
   },
   {
    "duration": 17,
    "start_time": "2024-07-20T00:10:35.499Z"
   },
   {
    "duration": 11,
    "start_time": "2024-07-20T00:10:35.517Z"
   },
   {
    "duration": 9,
    "start_time": "2024-07-20T00:10:35.529Z"
   },
   {
    "duration": 12,
    "start_time": "2024-07-20T00:10:35.539Z"
   },
   {
    "duration": 9,
    "start_time": "2024-07-20T00:10:35.552Z"
   },
   {
    "duration": 2137,
    "start_time": "2024-07-20T00:10:35.562Z"
   },
   {
    "duration": 2093,
    "start_time": "2024-07-20T00:10:37.704Z"
   },
   {
    "duration": 2099,
    "start_time": "2024-07-20T00:10:39.798Z"
   },
   {
    "duration": 88,
    "start_time": "2024-07-20T00:11:39.598Z"
   },
   {
    "duration": 7,
    "start_time": "2024-07-20T00:12:06.888Z"
   },
   {
    "duration": 5,
    "start_time": "2024-07-20T00:12:12.043Z"
   },
   {
    "duration": 1092,
    "start_time": "2024-07-20T20:31:15.989Z"
   },
   {
    "duration": 959,
    "start_time": "2024-07-20T20:31:17.083Z"
   },
   {
    "duration": 15,
    "start_time": "2024-07-20T20:31:18.044Z"
   },
   {
    "duration": 8,
    "start_time": "2024-07-20T20:31:18.061Z"
   },
   {
    "duration": 11,
    "start_time": "2024-07-20T20:31:18.070Z"
   },
   {
    "duration": 31,
    "start_time": "2024-07-20T20:31:18.083Z"
   },
   {
    "duration": 1080,
    "start_time": "2024-07-20T20:31:18.116Z"
   },
   {
    "duration": 0,
    "start_time": "2024-07-20T20:31:19.199Z"
   },
   {
    "duration": 0,
    "start_time": "2024-07-20T20:31:19.200Z"
   },
   {
    "duration": 0,
    "start_time": "2024-07-20T20:31:19.201Z"
   },
   {
    "duration": 0,
    "start_time": "2024-07-20T20:31:19.204Z"
   },
   {
    "duration": 0,
    "start_time": "2024-07-20T20:31:19.205Z"
   },
   {
    "duration": 0,
    "start_time": "2024-07-20T20:31:19.206Z"
   },
   {
    "duration": 0,
    "start_time": "2024-07-20T20:31:19.207Z"
   },
   {
    "duration": 0,
    "start_time": "2024-07-20T20:31:19.208Z"
   },
   {
    "duration": 0,
    "start_time": "2024-07-20T20:31:19.209Z"
   },
   {
    "duration": 0,
    "start_time": "2024-07-20T20:31:19.210Z"
   },
   {
    "duration": 0,
    "start_time": "2024-07-20T20:31:19.211Z"
   },
   {
    "duration": 0,
    "start_time": "2024-07-20T20:31:19.212Z"
   },
   {
    "duration": 0,
    "start_time": "2024-07-20T20:31:19.213Z"
   },
   {
    "duration": 0,
    "start_time": "2024-07-20T20:31:19.215Z"
   },
   {
    "duration": 0,
    "start_time": "2024-07-20T20:31:19.215Z"
   },
   {
    "duration": 0,
    "start_time": "2024-07-20T20:31:19.216Z"
   },
   {
    "duration": 0,
    "start_time": "2024-07-20T20:31:19.217Z"
   },
   {
    "duration": 0,
    "start_time": "2024-07-20T20:31:19.218Z"
   },
   {
    "duration": 0,
    "start_time": "2024-07-20T20:31:19.219Z"
   },
   {
    "duration": 0,
    "start_time": "2024-07-20T20:31:19.220Z"
   },
   {
    "duration": 0,
    "start_time": "2024-07-20T20:31:19.221Z"
   },
   {
    "duration": 0,
    "start_time": "2024-07-20T20:31:19.222Z"
   },
   {
    "duration": 0,
    "start_time": "2024-07-20T20:31:19.223Z"
   },
   {
    "duration": 0,
    "start_time": "2024-07-20T20:31:19.224Z"
   },
   {
    "duration": 0,
    "start_time": "2024-07-20T20:31:19.226Z"
   },
   {
    "duration": 0,
    "start_time": "2024-07-20T20:31:19.227Z"
   },
   {
    "duration": 0,
    "start_time": "2024-07-20T20:31:19.228Z"
   },
   {
    "duration": 0,
    "start_time": "2024-07-20T20:31:19.229Z"
   },
   {
    "duration": 0,
    "start_time": "2024-07-20T20:31:19.230Z"
   },
   {
    "duration": 0,
    "start_time": "2024-07-20T20:31:19.231Z"
   },
   {
    "duration": 0,
    "start_time": "2024-07-20T20:31:19.232Z"
   },
   {
    "duration": 0,
    "start_time": "2024-07-20T20:31:19.233Z"
   },
   {
    "duration": 0,
    "start_time": "2024-07-20T20:31:19.234Z"
   },
   {
    "duration": 0,
    "start_time": "2024-07-20T20:31:19.235Z"
   },
   {
    "duration": 0,
    "start_time": "2024-07-20T20:31:19.246Z"
   },
   {
    "duration": 934,
    "start_time": "2024-07-20T20:32:33.492Z"
   },
   {
    "duration": 10,
    "start_time": "2024-07-20T20:32:35.552Z"
   },
   {
    "duration": 11,
    "start_time": "2024-07-20T20:32:39.539Z"
   },
   {
    "duration": 1113,
    "start_time": "2024-07-20T20:32:47.473Z"
   },
   {
    "duration": 468,
    "start_time": "2024-07-20T20:32:48.589Z"
   },
   {
    "duration": 17,
    "start_time": "2024-07-20T20:32:49.058Z"
   },
   {
    "duration": 9,
    "start_time": "2024-07-20T20:32:49.076Z"
   },
   {
    "duration": 15,
    "start_time": "2024-07-20T20:32:49.086Z"
   },
   {
    "duration": 22,
    "start_time": "2024-07-20T20:32:49.103Z"
   },
   {
    "duration": 121,
    "start_time": "2024-07-20T20:32:49.126Z"
   },
   {
    "duration": 0,
    "start_time": "2024-07-20T20:32:49.250Z"
   },
   {
    "duration": 0,
    "start_time": "2024-07-20T20:32:49.252Z"
   },
   {
    "duration": 0,
    "start_time": "2024-07-20T20:32:49.253Z"
   },
   {
    "duration": 0,
    "start_time": "2024-07-20T20:32:49.255Z"
   },
   {
    "duration": 0,
    "start_time": "2024-07-20T20:32:49.257Z"
   },
   {
    "duration": 0,
    "start_time": "2024-07-20T20:32:49.258Z"
   },
   {
    "duration": 0,
    "start_time": "2024-07-20T20:32:49.260Z"
   },
   {
    "duration": 0,
    "start_time": "2024-07-20T20:32:49.261Z"
   },
   {
    "duration": 0,
    "start_time": "2024-07-20T20:32:49.263Z"
   },
   {
    "duration": 0,
    "start_time": "2024-07-20T20:32:49.264Z"
   },
   {
    "duration": 0,
    "start_time": "2024-07-20T20:32:49.266Z"
   },
   {
    "duration": 0,
    "start_time": "2024-07-20T20:32:49.267Z"
   },
   {
    "duration": 0,
    "start_time": "2024-07-20T20:32:49.269Z"
   },
   {
    "duration": 0,
    "start_time": "2024-07-20T20:32:49.270Z"
   },
   {
    "duration": 0,
    "start_time": "2024-07-20T20:32:49.272Z"
   },
   {
    "duration": 0,
    "start_time": "2024-07-20T20:32:49.273Z"
   },
   {
    "duration": 0,
    "start_time": "2024-07-20T20:32:49.275Z"
   },
   {
    "duration": 0,
    "start_time": "2024-07-20T20:32:49.276Z"
   },
   {
    "duration": 0,
    "start_time": "2024-07-20T20:32:49.278Z"
   },
   {
    "duration": 0,
    "start_time": "2024-07-20T20:32:49.279Z"
   },
   {
    "duration": 0,
    "start_time": "2024-07-20T20:32:49.280Z"
   },
   {
    "duration": 0,
    "start_time": "2024-07-20T20:32:49.281Z"
   },
   {
    "duration": 0,
    "start_time": "2024-07-20T20:32:49.282Z"
   },
   {
    "duration": 0,
    "start_time": "2024-07-20T20:32:49.284Z"
   },
   {
    "duration": 0,
    "start_time": "2024-07-20T20:32:49.285Z"
   },
   {
    "duration": 0,
    "start_time": "2024-07-20T20:32:49.286Z"
   },
   {
    "duration": 0,
    "start_time": "2024-07-20T20:32:49.287Z"
   },
   {
    "duration": 0,
    "start_time": "2024-07-20T20:32:49.288Z"
   },
   {
    "duration": 0,
    "start_time": "2024-07-20T20:32:49.289Z"
   },
   {
    "duration": 0,
    "start_time": "2024-07-20T20:32:49.346Z"
   },
   {
    "duration": 0,
    "start_time": "2024-07-20T20:32:49.347Z"
   },
   {
    "duration": 0,
    "start_time": "2024-07-20T20:32:49.348Z"
   },
   {
    "duration": 0,
    "start_time": "2024-07-20T20:32:49.349Z"
   },
   {
    "duration": 0,
    "start_time": "2024-07-20T20:32:49.350Z"
   },
   {
    "duration": 0,
    "start_time": "2024-07-20T20:32:49.351Z"
   },
   {
    "duration": 12,
    "start_time": "2024-07-20T20:33:17.325Z"
   },
   {
    "duration": 10,
    "start_time": "2024-07-20T20:34:53.205Z"
   },
   {
    "duration": 33,
    "start_time": "2024-07-20T20:35:34.952Z"
   },
   {
    "duration": 19,
    "start_time": "2024-07-20T20:35:41.127Z"
   },
   {
    "duration": 38,
    "start_time": "2024-07-20T20:36:57.264Z"
   },
   {
    "duration": 36,
    "start_time": "2024-07-20T20:37:01.539Z"
   },
   {
    "duration": 32,
    "start_time": "2024-07-20T20:37:48.321Z"
   },
   {
    "duration": 8,
    "start_time": "2024-07-20T20:37:59.256Z"
   },
   {
    "duration": 20,
    "start_time": "2024-07-20T20:38:01.034Z"
   },
   {
    "duration": 70,
    "start_time": "2024-07-20T20:38:09.805Z"
   },
   {
    "duration": 18,
    "start_time": "2024-07-20T20:38:11.810Z"
   },
   {
    "duration": 17,
    "start_time": "2024-07-20T20:38:11.952Z"
   },
   {
    "duration": 30,
    "start_time": "2024-07-20T20:38:33.703Z"
   },
   {
    "duration": 42,
    "start_time": "2024-07-20T20:38:36.637Z"
   },
   {
    "duration": 29,
    "start_time": "2024-07-20T20:38:55.670Z"
   },
   {
    "duration": 32,
    "start_time": "2024-07-20T20:39:04.869Z"
   },
   {
    "duration": 35,
    "start_time": "2024-07-20T20:39:21.670Z"
   },
   {
    "duration": 34,
    "start_time": "2024-07-20T20:39:36.157Z"
   },
   {
    "duration": 1139,
    "start_time": "2024-07-20T20:39:42.296Z"
   },
   {
    "duration": 449,
    "start_time": "2024-07-20T20:39:43.437Z"
   },
   {
    "duration": 16,
    "start_time": "2024-07-20T20:39:43.887Z"
   },
   {
    "duration": 9,
    "start_time": "2024-07-20T20:39:43.905Z"
   },
   {
    "duration": 10,
    "start_time": "2024-07-20T20:39:43.915Z"
   },
   {
    "duration": 34,
    "start_time": "2024-07-20T20:39:43.926Z"
   },
   {
    "duration": 39,
    "start_time": "2024-07-20T20:39:43.962Z"
   },
   {
    "duration": 33,
    "start_time": "2024-07-20T20:39:44.002Z"
   },
   {
    "duration": 28,
    "start_time": "2024-07-20T20:39:44.047Z"
   },
   {
    "duration": 13,
    "start_time": "2024-07-20T20:39:44.078Z"
   },
   {
    "duration": 25,
    "start_time": "2024-07-20T20:39:44.093Z"
   },
   {
    "duration": 63,
    "start_time": "2024-07-20T20:39:44.120Z"
   },
   {
    "duration": 28,
    "start_time": "2024-07-20T20:39:44.185Z"
   },
   {
    "duration": 59,
    "start_time": "2024-07-20T20:39:44.214Z"
   },
   {
    "duration": 33,
    "start_time": "2024-07-20T20:39:44.275Z"
   },
   {
    "duration": 58,
    "start_time": "2024-07-20T20:39:44.309Z"
   },
   {
    "duration": 6,
    "start_time": "2024-07-20T20:39:44.368Z"
   },
   {
    "duration": 7,
    "start_time": "2024-07-20T20:39:44.376Z"
   },
   {
    "duration": 5,
    "start_time": "2024-07-20T20:39:44.384Z"
   },
   {
    "duration": 10,
    "start_time": "2024-07-20T20:39:44.390Z"
   },
   {
    "duration": 10,
    "start_time": "2024-07-20T20:39:44.402Z"
   },
   {
    "duration": 19,
    "start_time": "2024-07-20T20:39:44.445Z"
   },
   {
    "duration": 3,
    "start_time": "2024-07-20T20:39:44.466Z"
   },
   {
    "duration": 6,
    "start_time": "2024-07-20T20:39:44.471Z"
   },
   {
    "duration": 41,
    "start_time": "2024-07-20T20:39:44.478Z"
   },
   {
    "duration": 5,
    "start_time": "2024-07-20T20:39:44.521Z"
   },
   {
    "duration": 12,
    "start_time": "2024-07-20T20:39:44.545Z"
   },
   {
    "duration": 31,
    "start_time": "2024-07-20T20:39:44.562Z"
   },
   {
    "duration": 6,
    "start_time": "2024-07-20T20:39:44.594Z"
   },
   {
    "duration": 79,
    "start_time": "2024-07-20T20:39:44.602Z"
   },
   {
    "duration": 17,
    "start_time": "2024-07-20T20:39:44.683Z"
   },
   {
    "duration": 63,
    "start_time": "2024-07-20T20:39:44.702Z"
   },
   {
    "duration": 98,
    "start_time": "2024-07-20T20:39:44.767Z"
   },
   {
    "duration": 82,
    "start_time": "2024-07-20T20:39:44.870Z"
   },
   {
    "duration": 105,
    "start_time": "2024-07-20T20:39:44.958Z"
   },
   {
    "duration": 44,
    "start_time": "2024-07-20T20:39:45.065Z"
   },
   {
    "duration": 31,
    "start_time": "2024-07-20T20:39:45.111Z"
   },
   {
    "duration": 54,
    "start_time": "2024-07-20T20:39:45.144Z"
   },
   {
    "duration": 32,
    "start_time": "2024-07-20T20:39:45.200Z"
   },
   {
    "duration": 29,
    "start_time": "2024-07-20T20:39:45.234Z"
   },
   {
    "duration": 8,
    "start_time": "2024-07-20T20:39:45.265Z"
   },
   {
    "duration": 32,
    "start_time": "2024-07-20T20:39:45.275Z"
   },
   {
    "duration": 24,
    "start_time": "2024-07-20T20:39:45.309Z"
   },
   {
    "duration": 22,
    "start_time": "2024-07-20T20:39:45.335Z"
   },
   {
    "duration": 25,
    "start_time": "2024-07-20T20:39:45.359Z"
   },
   {
    "duration": 5,
    "start_time": "2024-07-20T20:39:45.385Z"
   },
   {
    "duration": 2298,
    "start_time": "2024-07-20T20:39:45.392Z"
   },
   {
    "duration": 2221,
    "start_time": "2024-07-20T20:39:47.691Z"
   },
   {
    "duration": 2249,
    "start_time": "2024-07-20T20:39:49.914Z"
   },
   {
    "duration": 130,
    "start_time": "2024-07-20T20:41:51.657Z"
   },
   {
    "duration": 575,
    "start_time": "2024-07-20T20:41:57.672Z"
   },
   {
    "duration": 80,
    "start_time": "2024-07-20T20:42:14.271Z"
   },
   {
    "duration": 81,
    "start_time": "2024-07-20T20:42:15.125Z"
   },
   {
    "duration": 63,
    "start_time": "2024-07-20T20:43:18.024Z"
   },
   {
    "duration": 4,
    "start_time": "2024-07-20T20:43:57.661Z"
   },
   {
    "duration": 53,
    "start_time": "2024-07-20T20:44:03.087Z"
   },
   {
    "duration": 3,
    "start_time": "2024-07-20T20:45:12.264Z"
   },
   {
    "duration": 26,
    "start_time": "2024-07-20T20:45:20.293Z"
   },
   {
    "duration": 4,
    "start_time": "2024-07-20T20:45:36.543Z"
   },
   {
    "duration": 4,
    "start_time": "2024-07-20T20:45:43.270Z"
   },
   {
    "duration": 193,
    "start_time": "2024-07-20T20:45:43.324Z"
   },
   {
    "duration": 3,
    "start_time": "2024-07-20T20:45:55.438Z"
   },
   {
    "duration": 627,
    "start_time": "2024-07-20T20:45:56.449Z"
   },
   {
    "duration": 3,
    "start_time": "2024-07-20T20:46:05.294Z"
   },
   {
    "duration": 575,
    "start_time": "2024-07-20T20:46:05.299Z"
   },
   {
    "duration": 4,
    "start_time": "2024-07-20T20:46:31.900Z"
   },
   {
    "duration": 553,
    "start_time": "2024-07-20T20:46:32.070Z"
   },
   {
    "duration": 98,
    "start_time": "2024-07-20T20:46:52.560Z"
   },
   {
    "duration": 3,
    "start_time": "2024-07-20T20:46:55.700Z"
   },
   {
    "duration": 608,
    "start_time": "2024-07-20T20:46:55.841Z"
   },
   {
    "duration": 3,
    "start_time": "2024-07-20T20:47:12.262Z"
   },
   {
    "duration": 536,
    "start_time": "2024-07-20T20:47:12.938Z"
   },
   {
    "duration": 3,
    "start_time": "2024-07-20T20:48:39.332Z"
   },
   {
    "duration": 570,
    "start_time": "2024-07-20T20:48:39.472Z"
   },
   {
    "duration": 515,
    "start_time": "2024-07-20T20:49:10.037Z"
   },
   {
    "duration": 504,
    "start_time": "2024-07-20T20:50:22.801Z"
   },
   {
    "duration": 1397,
    "start_time": "2024-07-20T20:52:03.842Z"
   },
   {
    "duration": 422,
    "start_time": "2024-07-20T20:52:05.240Z"
   },
   {
    "duration": 13,
    "start_time": "2024-07-20T20:52:05.664Z"
   },
   {
    "duration": 10,
    "start_time": "2024-07-20T20:52:05.679Z"
   },
   {
    "duration": 11,
    "start_time": "2024-07-20T20:52:05.691Z"
   },
   {
    "duration": 45,
    "start_time": "2024-07-20T20:52:05.703Z"
   },
   {
    "duration": 35,
    "start_time": "2024-07-20T20:52:05.749Z"
   },
   {
    "duration": 42,
    "start_time": "2024-07-20T20:52:05.786Z"
   },
   {
    "duration": 37,
    "start_time": "2024-07-20T20:52:05.829Z"
   },
   {
    "duration": 23,
    "start_time": "2024-07-20T20:52:05.870Z"
   },
   {
    "duration": 53,
    "start_time": "2024-07-20T20:52:05.894Z"
   },
   {
    "duration": 33,
    "start_time": "2024-07-20T20:52:05.948Z"
   },
   {
    "duration": 32,
    "start_time": "2024-07-20T20:52:05.983Z"
   },
   {
    "duration": 43,
    "start_time": "2024-07-20T20:52:06.017Z"
   },
   {
    "duration": 35,
    "start_time": "2024-07-20T20:52:06.061Z"
   },
   {
    "duration": 41,
    "start_time": "2024-07-20T20:52:06.098Z"
   },
   {
    "duration": 6,
    "start_time": "2024-07-20T20:52:06.146Z"
   },
   {
    "duration": 7,
    "start_time": "2024-07-20T20:52:06.153Z"
   },
   {
    "duration": 6,
    "start_time": "2024-07-20T20:52:06.161Z"
   },
   {
    "duration": 11,
    "start_time": "2024-07-20T20:52:06.169Z"
   },
   {
    "duration": 10,
    "start_time": "2024-07-20T20:52:06.181Z"
   },
   {
    "duration": 10,
    "start_time": "2024-07-20T20:52:06.192Z"
   },
   {
    "duration": 163,
    "start_time": "2024-07-20T20:52:06.203Z"
   },
   {
    "duration": 80,
    "start_time": "2024-07-20T20:52:06.367Z"
   },
   {
    "duration": 4,
    "start_time": "2024-07-20T20:52:06.448Z"
   },
   {
    "duration": 78,
    "start_time": "2024-07-20T20:52:06.453Z"
   },
   {
    "duration": 3,
    "start_time": "2024-07-20T20:52:06.545Z"
   },
   {
    "duration": 528,
    "start_time": "2024-07-20T20:52:06.552Z"
   },
   {
    "duration": 453,
    "start_time": "2024-07-20T20:52:07.081Z"
   },
   {
    "duration": 583,
    "start_time": "2024-07-20T20:52:07.536Z"
   },
   {
    "duration": 4,
    "start_time": "2024-07-20T20:52:08.120Z"
   },
   {
    "duration": 9,
    "start_time": "2024-07-20T20:52:08.125Z"
   },
   {
    "duration": 39,
    "start_time": "2024-07-20T20:52:08.135Z"
   },
   {
    "duration": 4,
    "start_time": "2024-07-20T20:52:08.175Z"
   },
   {
    "duration": 13,
    "start_time": "2024-07-20T20:52:08.180Z"
   },
   {
    "duration": 32,
    "start_time": "2024-07-20T20:52:08.195Z"
   },
   {
    "duration": 5,
    "start_time": "2024-07-20T20:52:08.229Z"
   },
   {
    "duration": 29,
    "start_time": "2024-07-20T20:52:08.245Z"
   },
   {
    "duration": 14,
    "start_time": "2024-07-20T20:52:08.276Z"
   },
   {
    "duration": 155,
    "start_time": "2024-07-20T20:52:08.292Z"
   },
   {
    "duration": 110,
    "start_time": "2024-07-20T20:52:08.449Z"
   },
   {
    "duration": 7,
    "start_time": "2024-07-20T20:52:08.648Z"
   },
   {
    "duration": 4,
    "start_time": "2024-07-20T20:52:08.747Z"
   },
   {
    "duration": 6,
    "start_time": "2024-07-20T20:52:08.753Z"
   },
   {
    "duration": 13,
    "start_time": "2024-07-20T20:52:08.760Z"
   },
   {
    "duration": 15,
    "start_time": "2024-07-20T20:52:08.775Z"
   },
   {
    "duration": 22,
    "start_time": "2024-07-20T20:52:08.791Z"
   },
   {
    "duration": 3,
    "start_time": "2024-07-20T20:52:08.814Z"
   },
   {
    "duration": 4,
    "start_time": "2024-07-20T20:52:08.818Z"
   },
   {
    "duration": 3,
    "start_time": "2024-07-20T20:52:08.824Z"
   },
   {
    "duration": 18,
    "start_time": "2024-07-20T20:52:08.828Z"
   },
   {
    "duration": 10,
    "start_time": "2024-07-20T20:52:08.848Z"
   },
   {
    "duration": 5,
    "start_time": "2024-07-20T20:52:08.859Z"
   },
   {
    "duration": 7,
    "start_time": "2024-07-20T20:52:08.865Z"
   },
   {
    "duration": 2104,
    "start_time": "2024-07-20T20:52:08.874Z"
   },
   {
    "duration": 2082,
    "start_time": "2024-07-20T20:52:10.980Z"
   },
   {
    "duration": 2132,
    "start_time": "2024-07-20T20:52:13.064Z"
   },
   {
    "duration": 3,
    "start_time": "2024-07-20T20:55:21.391Z"
   },
   {
    "duration": 4,
    "start_time": "2024-07-20T20:55:26.390Z"
   },
   {
    "duration": 5,
    "start_time": "2024-07-20T21:19:57.468Z"
   },
   {
    "duration": 3,
    "start_time": "2024-07-20T21:22:33.018Z"
   },
   {
    "duration": 121,
    "start_time": "2024-07-20T21:22:44.579Z"
   },
   {
    "duration": 3,
    "start_time": "2024-07-20T21:24:12.395Z"
   },
   {
    "duration": 4,
    "start_time": "2024-07-20T21:24:14.980Z"
   },
   {
    "duration": 4,
    "start_time": "2024-07-20T21:24:15.475Z"
   },
   {
    "duration": 24,
    "start_time": "2024-07-20T21:24:15.726Z"
   },
   {
    "duration": 9,
    "start_time": "2024-07-20T21:24:15.809Z"
   },
   {
    "duration": 9,
    "start_time": "2024-07-20T21:24:16.490Z"
   },
   {
    "duration": 1346,
    "start_time": "2024-07-20T21:24:38.773Z"
   },
   {
    "duration": 447,
    "start_time": "2024-07-20T21:24:40.121Z"
   },
   {
    "duration": 15,
    "start_time": "2024-07-20T21:24:40.570Z"
   },
   {
    "duration": 18,
    "start_time": "2024-07-20T21:24:40.588Z"
   },
   {
    "duration": 21,
    "start_time": "2024-07-20T21:24:40.608Z"
   },
   {
    "duration": 41,
    "start_time": "2024-07-20T21:24:40.631Z"
   },
   {
    "duration": 33,
    "start_time": "2024-07-20T21:24:40.673Z"
   },
   {
    "duration": 37,
    "start_time": "2024-07-20T21:24:40.708Z"
   },
   {
    "duration": 18,
    "start_time": "2024-07-20T21:24:40.747Z"
   },
   {
    "duration": 33,
    "start_time": "2024-07-20T21:24:40.768Z"
   },
   {
    "duration": 36,
    "start_time": "2024-07-20T21:24:40.802Z"
   },
   {
    "duration": 30,
    "start_time": "2024-07-20T21:24:40.839Z"
   },
   {
    "duration": 45,
    "start_time": "2024-07-20T21:24:40.870Z"
   },
   {
    "duration": 35,
    "start_time": "2024-07-20T21:24:40.917Z"
   },
   {
    "duration": 34,
    "start_time": "2024-07-20T21:24:40.953Z"
   },
   {
    "duration": 43,
    "start_time": "2024-07-20T21:24:40.988Z"
   },
   {
    "duration": 6,
    "start_time": "2024-07-20T21:24:41.032Z"
   },
   {
    "duration": 23,
    "start_time": "2024-07-20T21:24:41.039Z"
   },
   {
    "duration": 150,
    "start_time": "2024-07-20T21:24:41.064Z"
   },
   {
    "duration": 33,
    "start_time": "2024-07-20T21:24:41.216Z"
   },
   {
    "duration": 28,
    "start_time": "2024-07-20T21:24:41.250Z"
   },
   {
    "duration": 18,
    "start_time": "2024-07-20T21:24:41.279Z"
   },
   {
    "duration": 118,
    "start_time": "2024-07-20T21:24:41.299Z"
   },
   {
    "duration": 77,
    "start_time": "2024-07-20T21:24:41.419Z"
   },
   {
    "duration": 4,
    "start_time": "2024-07-20T21:24:41.499Z"
   },
   {
    "duration": 100,
    "start_time": "2024-07-20T21:24:41.505Z"
   },
   {
    "duration": 4,
    "start_time": "2024-07-20T21:24:41.607Z"
   },
   {
    "duration": 550,
    "start_time": "2024-07-20T21:24:41.615Z"
   },
   {
    "duration": 455,
    "start_time": "2024-07-20T21:24:42.167Z"
   },
   {
    "duration": 533,
    "start_time": "2024-07-20T21:24:42.623Z"
   },
   {
    "duration": 3,
    "start_time": "2024-07-20T21:24:43.158Z"
   },
   {
    "duration": 74,
    "start_time": "2024-07-20T21:24:43.162Z"
   },
   {
    "duration": 62,
    "start_time": "2024-07-20T21:24:43.238Z"
   },
   {
    "duration": 14,
    "start_time": "2024-07-20T21:24:43.302Z"
   },
   {
    "duration": 22,
    "start_time": "2024-07-20T21:24:43.317Z"
   },
   {
    "duration": 51,
    "start_time": "2024-07-20T21:24:43.341Z"
   },
   {
    "duration": 5,
    "start_time": "2024-07-20T21:24:43.394Z"
   },
   {
    "duration": 49,
    "start_time": "2024-07-20T21:24:43.400Z"
   },
   {
    "duration": 103,
    "start_time": "2024-07-20T21:24:43.451Z"
   },
   {
    "duration": 97,
    "start_time": "2024-07-20T21:24:43.556Z"
   },
   {
    "duration": 192,
    "start_time": "2024-07-20T21:24:43.656Z"
   },
   {
    "duration": 7,
    "start_time": "2024-07-20T21:24:43.850Z"
   },
   {
    "duration": 7,
    "start_time": "2024-07-20T21:24:43.947Z"
   },
   {
    "duration": 5,
    "start_time": "2024-07-20T21:24:44.046Z"
   },
   {
    "duration": 47,
    "start_time": "2024-07-20T21:24:44.052Z"
   },
   {
    "duration": 10,
    "start_time": "2024-07-20T21:24:44.101Z"
   },
   {
    "duration": 17,
    "start_time": "2024-07-20T21:24:44.112Z"
   },
   {
    "duration": 9,
    "start_time": "2024-07-20T21:24:44.130Z"
   },
   {
    "duration": 5,
    "start_time": "2024-07-20T21:24:44.141Z"
   },
   {
    "duration": 4,
    "start_time": "2024-07-20T21:24:44.147Z"
   },
   {
    "duration": 126,
    "start_time": "2024-07-20T21:24:44.153Z"
   },
   {
    "duration": 0,
    "start_time": "2024-07-20T21:24:44.280Z"
   },
   {
    "duration": 0,
    "start_time": "2024-07-20T21:24:44.281Z"
   },
   {
    "duration": 0,
    "start_time": "2024-07-20T21:24:44.283Z"
   },
   {
    "duration": 0,
    "start_time": "2024-07-20T21:24:44.284Z"
   },
   {
    "duration": 0,
    "start_time": "2024-07-20T21:24:44.285Z"
   },
   {
    "duration": 0,
    "start_time": "2024-07-20T21:24:44.286Z"
   },
   {
    "duration": 16,
    "start_time": "2024-07-20T21:27:27.188Z"
   },
   {
    "duration": 6,
    "start_time": "2024-07-20T21:27:33.941Z"
   },
   {
    "duration": 4,
    "start_time": "2024-07-20T21:28:19.548Z"
   },
   {
    "duration": 3,
    "start_time": "2024-07-20T21:28:21.885Z"
   },
   {
    "duration": 10,
    "start_time": "2024-07-20T21:29:11.614Z"
   },
   {
    "duration": 14,
    "start_time": "2024-07-20T21:29:18.020Z"
   },
   {
    "duration": 15,
    "start_time": "2024-07-20T21:29:34.304Z"
   },
   {
    "duration": 14,
    "start_time": "2024-07-20T21:33:12.896Z"
   },
   {
    "duration": 1313,
    "start_time": "2024-07-20T21:33:34.400Z"
   },
   {
    "duration": 417,
    "start_time": "2024-07-20T21:33:35.714Z"
   },
   {
    "duration": 15,
    "start_time": "2024-07-20T21:33:36.132Z"
   },
   {
    "duration": 33,
    "start_time": "2024-07-20T21:33:36.149Z"
   },
   {
    "duration": 26,
    "start_time": "2024-07-20T21:33:36.183Z"
   },
   {
    "duration": 25,
    "start_time": "2024-07-20T21:33:36.211Z"
   },
   {
    "duration": 36,
    "start_time": "2024-07-20T21:33:36.238Z"
   },
   {
    "duration": 30,
    "start_time": "2024-07-20T21:33:36.275Z"
   },
   {
    "duration": 32,
    "start_time": "2024-07-20T21:33:36.307Z"
   },
   {
    "duration": 14,
    "start_time": "2024-07-20T21:33:36.342Z"
   },
   {
    "duration": 50,
    "start_time": "2024-07-20T21:33:36.358Z"
   },
   {
    "duration": 33,
    "start_time": "2024-07-20T21:33:36.409Z"
   },
   {
    "duration": 57,
    "start_time": "2024-07-20T21:33:36.443Z"
   },
   {
    "duration": 33,
    "start_time": "2024-07-20T21:33:36.501Z"
   },
   {
    "duration": 39,
    "start_time": "2024-07-20T21:33:36.535Z"
   },
   {
    "duration": 85,
    "start_time": "2024-07-20T21:33:36.576Z"
   },
   {
    "duration": 6,
    "start_time": "2024-07-20T21:33:36.663Z"
   },
   {
    "duration": 5,
    "start_time": "2024-07-20T21:33:36.670Z"
   },
   {
    "duration": 5,
    "start_time": "2024-07-20T21:33:36.677Z"
   },
   {
    "duration": 10,
    "start_time": "2024-07-20T21:33:36.683Z"
   },
   {
    "duration": 59,
    "start_time": "2024-07-20T21:33:36.694Z"
   },
   {
    "duration": 27,
    "start_time": "2024-07-20T21:33:36.755Z"
   },
   {
    "duration": 150,
    "start_time": "2024-07-20T21:33:36.783Z"
   },
   {
    "duration": 74,
    "start_time": "2024-07-20T21:33:36.935Z"
   },
   {
    "duration": 4,
    "start_time": "2024-07-20T21:33:37.010Z"
   },
   {
    "duration": 94,
    "start_time": "2024-07-20T21:33:37.015Z"
   },
   {
    "duration": 3,
    "start_time": "2024-07-20T21:33:37.110Z"
   },
   {
    "duration": 557,
    "start_time": "2024-07-20T21:33:37.117Z"
   },
   {
    "duration": 483,
    "start_time": "2024-07-20T21:33:37.675Z"
   },
   {
    "duration": 558,
    "start_time": "2024-07-20T21:33:38.159Z"
   },
   {
    "duration": 4,
    "start_time": "2024-07-20T21:33:38.718Z"
   },
   {
    "duration": 9,
    "start_time": "2024-07-20T21:33:38.723Z"
   },
   {
    "duration": 43,
    "start_time": "2024-07-20T21:33:38.733Z"
   },
   {
    "duration": 4,
    "start_time": "2024-07-20T21:33:38.777Z"
   },
   {
    "duration": 6,
    "start_time": "2024-07-20T21:33:38.782Z"
   },
   {
    "duration": 35,
    "start_time": "2024-07-20T21:33:38.789Z"
   },
   {
    "duration": 5,
    "start_time": "2024-07-20T21:33:38.826Z"
   },
   {
    "duration": 41,
    "start_time": "2024-07-20T21:33:38.832Z"
   },
   {
    "duration": 18,
    "start_time": "2024-07-20T21:33:38.874Z"
   },
   {
    "duration": 105,
    "start_time": "2024-07-20T21:33:38.947Z"
   },
   {
    "duration": 204,
    "start_time": "2024-07-20T21:33:39.054Z"
   },
   {
    "duration": 86,
    "start_time": "2024-07-20T21:33:39.263Z"
   },
   {
    "duration": 96,
    "start_time": "2024-07-20T21:33:39.351Z"
   },
   {
    "duration": 5,
    "start_time": "2024-07-20T21:33:39.448Z"
   },
   {
    "duration": 14,
    "start_time": "2024-07-20T21:33:39.454Z"
   },
   {
    "duration": 11,
    "start_time": "2024-07-20T21:33:39.470Z"
   },
   {
    "duration": 20,
    "start_time": "2024-07-20T21:33:39.482Z"
   },
   {
    "duration": 3,
    "start_time": "2024-07-20T21:33:39.504Z"
   },
   {
    "duration": 4,
    "start_time": "2024-07-20T21:33:39.508Z"
   },
   {
    "duration": 3,
    "start_time": "2024-07-20T21:33:39.514Z"
   },
   {
    "duration": 11,
    "start_time": "2024-07-20T21:33:39.553Z"
   },
   {
    "duration": 303,
    "start_time": "2024-07-20T21:33:39.566Z"
   },
   {
    "duration": 0,
    "start_time": "2024-07-20T21:33:39.871Z"
   },
   {
    "duration": 0,
    "start_time": "2024-07-20T21:33:39.872Z"
   },
   {
    "duration": 0,
    "start_time": "2024-07-20T21:33:39.873Z"
   },
   {
    "duration": 0,
    "start_time": "2024-07-20T21:33:39.874Z"
   },
   {
    "duration": 0,
    "start_time": "2024-07-20T21:33:39.875Z"
   },
   {
    "duration": 0,
    "start_time": "2024-07-20T21:33:39.875Z"
   },
   {
    "duration": 49,
    "start_time": "2024-07-20T21:34:03.604Z"
   },
   {
    "duration": 103,
    "start_time": "2024-07-20T21:34:05.343Z"
   },
   {
    "duration": 81,
    "start_time": "2024-07-20T21:34:08.867Z"
   },
   {
    "duration": 13,
    "start_time": "2024-07-20T21:34:18.412Z"
   },
   {
    "duration": 13,
    "start_time": "2024-07-20T21:34:24.938Z"
   },
   {
    "duration": 12,
    "start_time": "2024-07-20T21:34:26.047Z"
   },
   {
    "duration": 1369,
    "start_time": "2024-07-20T21:34:29.800Z"
   },
   {
    "duration": 439,
    "start_time": "2024-07-20T21:34:31.171Z"
   },
   {
    "duration": 12,
    "start_time": "2024-07-20T21:34:31.612Z"
   },
   {
    "duration": 49,
    "start_time": "2024-07-20T21:34:31.626Z"
   },
   {
    "duration": 49,
    "start_time": "2024-07-20T21:34:31.676Z"
   },
   {
    "duration": 22,
    "start_time": "2024-07-20T21:34:31.727Z"
   },
   {
    "duration": 36,
    "start_time": "2024-07-20T21:34:31.750Z"
   },
   {
    "duration": 71,
    "start_time": "2024-07-20T21:34:31.788Z"
   },
   {
    "duration": 25,
    "start_time": "2024-07-20T21:34:31.860Z"
   },
   {
    "duration": 29,
    "start_time": "2024-07-20T21:34:31.887Z"
   },
   {
    "duration": 94,
    "start_time": "2024-07-20T21:34:31.918Z"
   },
   {
    "duration": 47,
    "start_time": "2024-07-20T21:34:32.014Z"
   },
   {
    "duration": 29,
    "start_time": "2024-07-20T21:34:32.063Z"
   },
   {
    "duration": 34,
    "start_time": "2024-07-20T21:34:32.093Z"
   },
   {
    "duration": 54,
    "start_time": "2024-07-20T21:34:32.128Z"
   },
   {
    "duration": 64,
    "start_time": "2024-07-20T21:34:32.184Z"
   },
   {
    "duration": 34,
    "start_time": "2024-07-20T21:34:32.250Z"
   },
   {
    "duration": 6,
    "start_time": "2024-07-20T21:34:32.285Z"
   },
   {
    "duration": 12,
    "start_time": "2024-07-20T21:34:32.292Z"
   },
   {
    "duration": 25,
    "start_time": "2024-07-20T21:34:32.305Z"
   },
   {
    "duration": 9,
    "start_time": "2024-07-20T21:34:32.331Z"
   },
   {
    "duration": 21,
    "start_time": "2024-07-20T21:34:32.342Z"
   },
   {
    "duration": 140,
    "start_time": "2024-07-20T21:34:32.364Z"
   },
   {
    "duration": 75,
    "start_time": "2024-07-20T21:34:32.506Z"
   },
   {
    "duration": 4,
    "start_time": "2024-07-20T21:34:32.582Z"
   },
   {
    "duration": 89,
    "start_time": "2024-07-20T21:34:32.587Z"
   },
   {
    "duration": 3,
    "start_time": "2024-07-20T21:34:32.678Z"
   },
   {
    "duration": 542,
    "start_time": "2024-07-20T21:34:32.685Z"
   },
   {
    "duration": 438,
    "start_time": "2024-07-20T21:34:33.228Z"
   },
   {
    "duration": 530,
    "start_time": "2024-07-20T21:34:33.668Z"
   },
   {
    "duration": 4,
    "start_time": "2024-07-20T21:34:34.199Z"
   },
   {
    "duration": 5,
    "start_time": "2024-07-20T21:34:34.205Z"
   },
   {
    "duration": 45,
    "start_time": "2024-07-20T21:34:34.211Z"
   },
   {
    "duration": 4,
    "start_time": "2024-07-20T21:34:34.257Z"
   },
   {
    "duration": 7,
    "start_time": "2024-07-20T21:34:34.263Z"
   },
   {
    "duration": 30,
    "start_time": "2024-07-20T21:34:34.272Z"
   },
   {
    "duration": 5,
    "start_time": "2024-07-20T21:34:34.304Z"
   },
   {
    "duration": 55,
    "start_time": "2024-07-20T21:34:34.311Z"
   },
   {
    "duration": 79,
    "start_time": "2024-07-20T21:34:34.368Z"
   },
   {
    "duration": 102,
    "start_time": "2024-07-20T21:34:34.449Z"
   },
   {
    "duration": 97,
    "start_time": "2024-07-20T21:34:34.553Z"
   },
   {
    "duration": 99,
    "start_time": "2024-07-20T21:34:34.652Z"
   },
   {
    "duration": 92,
    "start_time": "2024-07-20T21:34:34.756Z"
   },
   {
    "duration": 6,
    "start_time": "2024-07-20T21:34:34.850Z"
   },
   {
    "duration": 12,
    "start_time": "2024-07-20T21:34:34.857Z"
   },
   {
    "duration": 40,
    "start_time": "2024-07-20T21:34:34.871Z"
   },
   {
    "duration": 11,
    "start_time": "2024-07-20T21:34:34.912Z"
   },
   {
    "duration": 4,
    "start_time": "2024-07-20T21:34:34.924Z"
   },
   {
    "duration": 5,
    "start_time": "2024-07-20T21:34:34.929Z"
   },
   {
    "duration": 8,
    "start_time": "2024-07-20T21:34:34.935Z"
   },
   {
    "duration": 13,
    "start_time": "2024-07-20T21:34:34.946Z"
   },
   {
    "duration": 303,
    "start_time": "2024-07-20T21:34:34.961Z"
   },
   {
    "duration": 0,
    "start_time": "2024-07-20T21:34:35.266Z"
   },
   {
    "duration": 0,
    "start_time": "2024-07-20T21:34:35.268Z"
   },
   {
    "duration": 0,
    "start_time": "2024-07-20T21:34:35.269Z"
   },
   {
    "duration": 0,
    "start_time": "2024-07-20T21:34:35.270Z"
   },
   {
    "duration": 0,
    "start_time": "2024-07-20T21:34:35.272Z"
   },
   {
    "duration": 0,
    "start_time": "2024-07-20T21:34:35.273Z"
   },
   {
    "duration": 4,
    "start_time": "2024-07-20T21:37:45.366Z"
   },
   {
    "duration": 12,
    "start_time": "2024-07-20T21:37:45.858Z"
   },
   {
    "duration": 201,
    "start_time": "2024-07-20T21:37:45.998Z"
   },
   {
    "duration": 3,
    "start_time": "2024-07-20T21:37:57.642Z"
   },
   {
    "duration": 188,
    "start_time": "2024-07-20T21:37:58.111Z"
   },
   {
    "duration": 11,
    "start_time": "2024-07-20T21:37:58.301Z"
   },
   {
    "duration": 178,
    "start_time": "2024-07-20T21:38:03.247Z"
   },
   {
    "duration": 9,
    "start_time": "2024-07-20T21:38:03.436Z"
   },
   {
    "duration": 9,
    "start_time": "2024-07-20T21:38:03.610Z"
   },
   {
    "duration": 140,
    "start_time": "2024-07-20T21:38:12.450Z"
   },
   {
    "duration": 186,
    "start_time": "2024-07-20T21:38:20.395Z"
   },
   {
    "duration": 4,
    "start_time": "2024-07-20T21:40:04.756Z"
   },
   {
    "duration": 171,
    "start_time": "2024-07-20T21:40:05.949Z"
   },
   {
    "duration": 4,
    "start_time": "2024-07-20T21:40:18.769Z"
   },
   {
    "duration": 203,
    "start_time": "2024-07-20T21:40:20.502Z"
   },
   {
    "duration": 3,
    "start_time": "2024-07-20T21:40:39.809Z"
   },
   {
    "duration": 182,
    "start_time": "2024-07-20T21:40:40.880Z"
   },
   {
    "duration": 4,
    "start_time": "2024-07-20T21:41:03.298Z"
   },
   {
    "duration": 181,
    "start_time": "2024-07-20T21:41:04.603Z"
   },
   {
    "duration": 3,
    "start_time": "2024-07-20T21:42:18.492Z"
   },
   {
    "duration": 164,
    "start_time": "2024-07-20T21:42:19.015Z"
   },
   {
    "duration": 4,
    "start_time": "2024-07-20T21:42:36.913Z"
   },
   {
    "duration": 23,
    "start_time": "2024-07-20T21:42:37.456Z"
   },
   {
    "duration": 3,
    "start_time": "2024-07-20T21:42:49.496Z"
   },
   {
    "duration": 53,
    "start_time": "2024-07-20T21:42:50.019Z"
   },
   {
    "duration": 4,
    "start_time": "2024-07-20T21:44:21.657Z"
   },
   {
    "duration": 191,
    "start_time": "2024-07-20T21:44:22.366Z"
   },
   {
    "duration": 3,
    "start_time": "2024-07-20T21:44:32.285Z"
   },
   {
    "duration": 36,
    "start_time": "2024-07-20T21:44:32.755Z"
   },
   {
    "duration": 4,
    "start_time": "2024-07-20T21:44:47.440Z"
   },
   {
    "duration": 29,
    "start_time": "2024-07-20T21:44:48.051Z"
   },
   {
    "duration": 4,
    "start_time": "2024-07-20T21:44:55.017Z"
   },
   {
    "duration": 182,
    "start_time": "2024-07-20T21:44:55.448Z"
   },
   {
    "duration": 1350,
    "start_time": "2024-07-20T21:45:08.208Z"
   },
   {
    "duration": 457,
    "start_time": "2024-07-20T21:45:09.560Z"
   },
   {
    "duration": 15,
    "start_time": "2024-07-20T21:45:10.019Z"
   },
   {
    "duration": 62,
    "start_time": "2024-07-20T21:45:10.036Z"
   },
   {
    "duration": 38,
    "start_time": "2024-07-20T21:45:10.100Z"
   },
   {
    "duration": 28,
    "start_time": "2024-07-20T21:45:10.140Z"
   },
   {
    "duration": 34,
    "start_time": "2024-07-20T21:45:10.170Z"
   },
   {
    "duration": 42,
    "start_time": "2024-07-20T21:45:10.207Z"
   },
   {
    "duration": 20,
    "start_time": "2024-07-20T21:45:10.253Z"
   },
   {
    "duration": 16,
    "start_time": "2024-07-20T21:45:10.274Z"
   },
   {
    "duration": 26,
    "start_time": "2024-07-20T21:45:10.292Z"
   },
   {
    "duration": 57,
    "start_time": "2024-07-20T21:45:10.319Z"
   },
   {
    "duration": 29,
    "start_time": "2024-07-20T21:45:10.378Z"
   },
   {
    "duration": 61,
    "start_time": "2024-07-20T21:45:10.409Z"
   },
   {
    "duration": 33,
    "start_time": "2024-07-20T21:45:10.472Z"
   },
   {
    "duration": 40,
    "start_time": "2024-07-20T21:45:10.507Z"
   },
   {
    "duration": 6,
    "start_time": "2024-07-20T21:45:10.549Z"
   },
   {
    "duration": 9,
    "start_time": "2024-07-20T21:45:10.556Z"
   },
   {
    "duration": 6,
    "start_time": "2024-07-20T21:45:10.566Z"
   },
   {
    "duration": 12,
    "start_time": "2024-07-20T21:45:10.574Z"
   },
   {
    "duration": 10,
    "start_time": "2024-07-20T21:45:10.587Z"
   },
   {
    "duration": 9,
    "start_time": "2024-07-20T21:45:10.598Z"
   },
   {
    "duration": 157,
    "start_time": "2024-07-20T21:45:10.609Z"
   },
   {
    "duration": 69,
    "start_time": "2024-07-20T21:45:10.767Z"
   },
   {
    "duration": 4,
    "start_time": "2024-07-20T21:45:10.846Z"
   },
   {
    "duration": 75,
    "start_time": "2024-07-20T21:45:10.852Z"
   },
   {
    "duration": 3,
    "start_time": "2024-07-20T21:45:10.945Z"
   },
   {
    "duration": 566,
    "start_time": "2024-07-20T21:45:10.950Z"
   },
   {
    "duration": 487,
    "start_time": "2024-07-20T21:45:11.517Z"
   },
   {
    "duration": 548,
    "start_time": "2024-07-20T21:45:12.006Z"
   },
   {
    "duration": 3,
    "start_time": "2024-07-20T21:45:12.556Z"
   },
   {
    "duration": 7,
    "start_time": "2024-07-20T21:45:12.561Z"
   },
   {
    "duration": 31,
    "start_time": "2024-07-20T21:45:12.569Z"
   },
   {
    "duration": 4,
    "start_time": "2024-07-20T21:45:12.602Z"
   },
   {
    "duration": 11,
    "start_time": "2024-07-20T21:45:12.608Z"
   },
   {
    "duration": 54,
    "start_time": "2024-07-20T21:45:12.621Z"
   },
   {
    "duration": 7,
    "start_time": "2024-07-20T21:45:12.677Z"
   },
   {
    "duration": 61,
    "start_time": "2024-07-20T21:45:12.685Z"
   },
   {
    "duration": 17,
    "start_time": "2024-07-20T21:45:12.747Z"
   },
   {
    "duration": 83,
    "start_time": "2024-07-20T21:45:12.766Z"
   },
   {
    "duration": 196,
    "start_time": "2024-07-20T21:45:12.851Z"
   },
   {
    "duration": 6,
    "start_time": "2024-07-20T21:45:13.049Z"
   },
   {
    "duration": 91,
    "start_time": "2024-07-20T21:45:13.056Z"
   },
   {
    "duration": 138,
    "start_time": "2024-07-20T21:45:13.149Z"
   },
   {
    "duration": 54,
    "start_time": "2024-07-20T21:45:13.289Z"
   },
   {
    "duration": 9,
    "start_time": "2024-07-20T21:45:13.345Z"
   },
   {
    "duration": 10,
    "start_time": "2024-07-20T21:45:13.356Z"
   },
   {
    "duration": 2,
    "start_time": "2024-07-20T21:45:13.368Z"
   },
   {
    "duration": 4,
    "start_time": "2024-07-20T21:45:13.372Z"
   },
   {
    "duration": 3,
    "start_time": "2024-07-20T21:45:13.378Z"
   },
   {
    "duration": 202,
    "start_time": "2024-07-20T21:45:13.382Z"
   },
   {
    "duration": 134,
    "start_time": "2024-07-20T21:45:13.586Z"
   },
   {
    "duration": 196,
    "start_time": "2024-07-20T21:45:13.722Z"
   },
   {
    "duration": 5,
    "start_time": "2024-07-20T21:45:13.920Z"
   },
   {
    "duration": 121,
    "start_time": "2024-07-20T21:45:13.926Z"
   },
   {
    "duration": 0,
    "start_time": "2024-07-20T21:45:14.049Z"
   },
   {
    "duration": 0,
    "start_time": "2024-07-20T21:45:14.050Z"
   },
   {
    "duration": 4,
    "start_time": "2024-07-20T21:46:06.804Z"
   },
   {
    "duration": 32,
    "start_time": "2024-07-20T21:46:08.474Z"
   },
   {
    "duration": 3,
    "start_time": "2024-07-20T21:46:14.191Z"
   },
   {
    "duration": 20,
    "start_time": "2024-07-20T21:46:15.426Z"
   },
   {
    "duration": 1401,
    "start_time": "2024-07-20T21:46:36.152Z"
   },
   {
    "duration": 423,
    "start_time": "2024-07-20T21:46:37.555Z"
   },
   {
    "duration": 12,
    "start_time": "2024-07-20T21:46:37.980Z"
   },
   {
    "duration": 11,
    "start_time": "2024-07-20T21:46:37.994Z"
   },
   {
    "duration": 11,
    "start_time": "2024-07-20T21:46:38.007Z"
   },
   {
    "duration": 35,
    "start_time": "2024-07-20T21:46:38.020Z"
   },
   {
    "duration": 32,
    "start_time": "2024-07-20T21:46:38.057Z"
   },
   {
    "duration": 30,
    "start_time": "2024-07-20T21:46:38.091Z"
   },
   {
    "duration": 38,
    "start_time": "2024-07-20T21:46:38.123Z"
   },
   {
    "duration": 31,
    "start_time": "2024-07-20T21:46:38.162Z"
   },
   {
    "duration": 34,
    "start_time": "2024-07-20T21:46:38.195Z"
   },
   {
    "duration": 33,
    "start_time": "2024-07-20T21:46:38.231Z"
   },
   {
    "duration": 70,
    "start_time": "2024-07-20T21:46:38.265Z"
   },
   {
    "duration": 34,
    "start_time": "2024-07-20T21:46:38.339Z"
   },
   {
    "duration": 33,
    "start_time": "2024-07-20T21:46:38.375Z"
   },
   {
    "duration": 38,
    "start_time": "2024-07-20T21:46:38.410Z"
   },
   {
    "duration": 8,
    "start_time": "2024-07-20T21:46:38.450Z"
   },
   {
    "duration": 11,
    "start_time": "2024-07-20T21:46:38.459Z"
   },
   {
    "duration": 19,
    "start_time": "2024-07-20T21:46:38.472Z"
   },
   {
    "duration": 13,
    "start_time": "2024-07-20T21:46:38.492Z"
   },
   {
    "duration": 12,
    "start_time": "2024-07-20T21:46:38.506Z"
   },
   {
    "duration": 34,
    "start_time": "2024-07-20T21:46:38.520Z"
   },
   {
    "duration": 131,
    "start_time": "2024-07-20T21:46:38.557Z"
   },
   {
    "duration": 73,
    "start_time": "2024-07-20T21:46:38.690Z"
   },
   {
    "duration": 3,
    "start_time": "2024-07-20T21:46:38.765Z"
   },
   {
    "duration": 90,
    "start_time": "2024-07-20T21:46:38.769Z"
   },
   {
    "duration": 3,
    "start_time": "2024-07-20T21:46:38.861Z"
   },
   {
    "duration": 522,
    "start_time": "2024-07-20T21:46:38.865Z"
   },
   {
    "duration": 481,
    "start_time": "2024-07-20T21:46:39.389Z"
   },
   {
    "duration": 543,
    "start_time": "2024-07-20T21:46:39.872Z"
   },
   {
    "duration": 4,
    "start_time": "2024-07-20T21:46:40.417Z"
   },
   {
    "duration": 7,
    "start_time": "2024-07-20T21:46:40.422Z"
   },
   {
    "duration": 42,
    "start_time": "2024-07-20T21:46:40.430Z"
   },
   {
    "duration": 3,
    "start_time": "2024-07-20T21:46:40.474Z"
   },
   {
    "duration": 6,
    "start_time": "2024-07-20T21:46:40.479Z"
   },
   {
    "duration": 35,
    "start_time": "2024-07-20T21:46:40.486Z"
   },
   {
    "duration": 24,
    "start_time": "2024-07-20T21:46:40.523Z"
   },
   {
    "duration": 33,
    "start_time": "2024-07-20T21:46:40.549Z"
   },
   {
    "duration": 16,
    "start_time": "2024-07-20T21:46:40.584Z"
   },
   {
    "duration": 57,
    "start_time": "2024-07-20T21:46:40.602Z"
   },
   {
    "duration": 98,
    "start_time": "2024-07-20T21:46:40.749Z"
   },
   {
    "duration": 6,
    "start_time": "2024-07-20T21:46:40.849Z"
   },
   {
    "duration": 96,
    "start_time": "2024-07-20T21:46:40.857Z"
   },
   {
    "duration": 95,
    "start_time": "2024-07-20T21:46:40.955Z"
   },
   {
    "duration": 10,
    "start_time": "2024-07-20T21:46:41.052Z"
   },
   {
    "duration": 10,
    "start_time": "2024-07-20T21:46:41.063Z"
   },
   {
    "duration": 17,
    "start_time": "2024-07-20T21:46:41.075Z"
   },
   {
    "duration": 5,
    "start_time": "2024-07-20T21:46:41.094Z"
   },
   {
    "duration": 4,
    "start_time": "2024-07-20T21:46:41.100Z"
   },
   {
    "duration": 6,
    "start_time": "2024-07-20T21:46:41.105Z"
   },
   {
    "duration": 143,
    "start_time": "2024-07-20T21:46:41.113Z"
   },
   {
    "duration": 0,
    "start_time": "2024-07-20T21:46:41.258Z"
   },
   {
    "duration": 0,
    "start_time": "2024-07-20T21:46:41.259Z"
   },
   {
    "duration": 0,
    "start_time": "2024-07-20T21:46:41.260Z"
   },
   {
    "duration": 0,
    "start_time": "2024-07-20T21:46:41.261Z"
   },
   {
    "duration": 0,
    "start_time": "2024-07-20T21:46:41.262Z"
   },
   {
    "duration": 0,
    "start_time": "2024-07-20T21:46:41.263Z"
   },
   {
    "duration": 3,
    "start_time": "2024-07-20T21:48:30.600Z"
   },
   {
    "duration": 16,
    "start_time": "2024-07-20T21:48:31.020Z"
   },
   {
    "duration": 16,
    "start_time": "2024-07-20T21:48:31.212Z"
   },
   {
    "duration": 3,
    "start_time": "2024-07-20T21:48:56.768Z"
   },
   {
    "duration": 1352,
    "start_time": "2024-07-20T21:49:01.390Z"
   },
   {
    "duration": 418,
    "start_time": "2024-07-20T21:49:02.744Z"
   },
   {
    "duration": 13,
    "start_time": "2024-07-20T21:49:03.164Z"
   },
   {
    "duration": 13,
    "start_time": "2024-07-20T21:49:03.179Z"
   },
   {
    "duration": 11,
    "start_time": "2024-07-20T21:49:03.194Z"
   },
   {
    "duration": 39,
    "start_time": "2024-07-20T21:49:03.207Z"
   },
   {
    "duration": 37,
    "start_time": "2024-07-20T21:49:03.247Z"
   },
   {
    "duration": 33,
    "start_time": "2024-07-20T21:49:03.285Z"
   },
   {
    "duration": 45,
    "start_time": "2024-07-20T21:49:03.319Z"
   },
   {
    "duration": 21,
    "start_time": "2024-07-20T21:49:03.367Z"
   },
   {
    "duration": 40,
    "start_time": "2024-07-20T21:49:03.389Z"
   },
   {
    "duration": 39,
    "start_time": "2024-07-20T21:49:03.430Z"
   },
   {
    "duration": 28,
    "start_time": "2024-07-20T21:49:03.470Z"
   },
   {
    "duration": 55,
    "start_time": "2024-07-20T21:49:03.499Z"
   },
   {
    "duration": 48,
    "start_time": "2024-07-20T21:49:03.556Z"
   },
   {
    "duration": 57,
    "start_time": "2024-07-20T21:49:03.606Z"
   },
   {
    "duration": 8,
    "start_time": "2024-07-20T21:49:03.664Z"
   },
   {
    "duration": 6,
    "start_time": "2024-07-20T21:49:03.673Z"
   },
   {
    "duration": 5,
    "start_time": "2024-07-20T21:49:03.681Z"
   },
   {
    "duration": 16,
    "start_time": "2024-07-20T21:49:03.687Z"
   },
   {
    "duration": 9,
    "start_time": "2024-07-20T21:49:03.705Z"
   },
   {
    "duration": 37,
    "start_time": "2024-07-20T21:49:03.716Z"
   },
   {
    "duration": 126,
    "start_time": "2024-07-20T21:49:03.754Z"
   },
   {
    "duration": 84,
    "start_time": "2024-07-20T21:49:03.882Z"
   },
   {
    "duration": 4,
    "start_time": "2024-07-20T21:49:03.968Z"
   },
   {
    "duration": 82,
    "start_time": "2024-07-20T21:49:03.974Z"
   },
   {
    "duration": 4,
    "start_time": "2024-07-20T21:49:04.058Z"
   },
   {
    "duration": 563,
    "start_time": "2024-07-20T21:49:04.067Z"
   },
   {
    "duration": 457,
    "start_time": "2024-07-20T21:49:04.632Z"
   },
   {
    "duration": 539,
    "start_time": "2024-07-20T21:49:05.091Z"
   },
   {
    "duration": 4,
    "start_time": "2024-07-20T21:49:05.631Z"
   },
   {
    "duration": 4,
    "start_time": "2024-07-20T21:49:05.646Z"
   },
   {
    "duration": 34,
    "start_time": "2024-07-20T21:49:05.652Z"
   },
   {
    "duration": 4,
    "start_time": "2024-07-20T21:49:05.687Z"
   },
   {
    "duration": 16,
    "start_time": "2024-07-20T21:49:05.692Z"
   },
   {
    "duration": 45,
    "start_time": "2024-07-20T21:49:05.709Z"
   },
   {
    "duration": 5,
    "start_time": "2024-07-20T21:49:05.756Z"
   },
   {
    "duration": 40,
    "start_time": "2024-07-20T21:49:05.762Z"
   },
   {
    "duration": 44,
    "start_time": "2024-07-20T21:49:05.803Z"
   },
   {
    "duration": 104,
    "start_time": "2024-07-20T21:49:05.848Z"
   },
   {
    "duration": 92,
    "start_time": "2024-07-20T21:49:05.955Z"
   },
   {
    "duration": 199,
    "start_time": "2024-07-20T21:49:06.050Z"
   },
   {
    "duration": 28,
    "start_time": "2024-07-20T21:49:06.250Z"
   },
   {
    "duration": 30,
    "start_time": "2024-07-20T21:49:06.280Z"
   },
   {
    "duration": 13,
    "start_time": "2024-07-20T21:49:06.312Z"
   },
   {
    "duration": 23,
    "start_time": "2024-07-20T21:49:06.326Z"
   },
   {
    "duration": 13,
    "start_time": "2024-07-20T21:49:06.350Z"
   },
   {
    "duration": 17,
    "start_time": "2024-07-20T21:49:06.365Z"
   },
   {
    "duration": 10,
    "start_time": "2024-07-20T21:49:06.383Z"
   },
   {
    "duration": 10,
    "start_time": "2024-07-20T21:49:06.394Z"
   },
   {
    "duration": 19,
    "start_time": "2024-07-20T21:49:06.406Z"
   },
   {
    "duration": 91,
    "start_time": "2024-07-20T21:49:06.427Z"
   },
   {
    "duration": 128,
    "start_time": "2024-07-20T21:49:06.520Z"
   },
   {
    "duration": 5,
    "start_time": "2024-07-20T21:49:06.649Z"
   },
   {
    "duration": 122,
    "start_time": "2024-07-20T21:49:06.656Z"
   },
   {
    "duration": 0,
    "start_time": "2024-07-20T21:49:06.779Z"
   },
   {
    "duration": 0,
    "start_time": "2024-07-20T21:49:06.780Z"
   },
   {
    "duration": 11,
    "start_time": "2024-07-20T21:52:34.559Z"
   },
   {
    "duration": 11,
    "start_time": "2024-07-20T21:52:43.330Z"
   },
   {
    "duration": 10,
    "start_time": "2024-07-20T21:52:45.289Z"
   },
   {
    "duration": 4,
    "start_time": "2024-07-20T21:53:52.560Z"
   },
   {
    "duration": 732,
    "start_time": "2024-07-20T21:53:52.994Z"
   },
   {
    "duration": 5,
    "start_time": "2024-07-20T21:58:20.225Z"
   },
   {
    "duration": 767,
    "start_time": "2024-07-20T21:58:55.403Z"
   },
   {
    "duration": 6,
    "start_time": "2024-07-20T21:59:29.003Z"
   },
   {
    "duration": 1350,
    "start_time": "2024-07-20T22:02:40.815Z"
   },
   {
    "duration": 437,
    "start_time": "2024-07-20T22:02:42.167Z"
   },
   {
    "duration": 13,
    "start_time": "2024-07-20T22:02:42.605Z"
   },
   {
    "duration": 9,
    "start_time": "2024-07-20T22:02:42.620Z"
   },
   {
    "duration": 23,
    "start_time": "2024-07-20T22:02:42.631Z"
   },
   {
    "duration": 23,
    "start_time": "2024-07-20T22:02:42.655Z"
   },
   {
    "duration": 33,
    "start_time": "2024-07-20T22:02:42.680Z"
   },
   {
    "duration": 48,
    "start_time": "2024-07-20T22:02:42.715Z"
   },
   {
    "duration": 26,
    "start_time": "2024-07-20T22:02:42.764Z"
   },
   {
    "duration": 20,
    "start_time": "2024-07-20T22:02:42.793Z"
   },
   {
    "duration": 39,
    "start_time": "2024-07-20T22:02:42.814Z"
   },
   {
    "duration": 31,
    "start_time": "2024-07-20T22:02:42.854Z"
   },
   {
    "duration": 32,
    "start_time": "2024-07-20T22:02:42.887Z"
   },
   {
    "duration": 43,
    "start_time": "2024-07-20T22:02:42.920Z"
   },
   {
    "duration": 34,
    "start_time": "2024-07-20T22:02:42.964Z"
   },
   {
    "duration": 26,
    "start_time": "2024-07-20T22:02:43.000Z"
   },
   {
    "duration": 20,
    "start_time": "2024-07-20T22:02:43.028Z"
   },
   {
    "duration": 50,
    "start_time": "2024-07-20T22:02:43.050Z"
   },
   {
    "duration": 51,
    "start_time": "2024-07-20T22:02:43.102Z"
   },
   {
    "duration": 11,
    "start_time": "2024-07-20T22:02:43.155Z"
   },
   {
    "duration": 9,
    "start_time": "2024-07-20T22:02:43.168Z"
   },
   {
    "duration": 9,
    "start_time": "2024-07-20T22:02:43.179Z"
   },
   {
    "duration": 135,
    "start_time": "2024-07-20T22:02:43.190Z"
   },
   {
    "duration": 79,
    "start_time": "2024-07-20T22:02:43.327Z"
   },
   {
    "duration": 26,
    "start_time": "2024-07-20T22:02:43.408Z"
   },
   {
    "duration": 84,
    "start_time": "2024-07-20T22:02:43.436Z"
   },
   {
    "duration": 3,
    "start_time": "2024-07-20T22:02:43.521Z"
   },
   {
    "duration": 540,
    "start_time": "2024-07-20T22:02:43.528Z"
   },
   {
    "duration": 453,
    "start_time": "2024-07-20T22:02:44.070Z"
   },
   {
    "duration": 542,
    "start_time": "2024-07-20T22:02:44.524Z"
   },
   {
    "duration": 4,
    "start_time": "2024-07-20T22:02:45.067Z"
   },
   {
    "duration": 62,
    "start_time": "2024-07-20T22:02:45.073Z"
   },
   {
    "duration": 116,
    "start_time": "2024-07-20T22:02:45.137Z"
   },
   {
    "duration": 196,
    "start_time": "2024-07-20T22:02:45.255Z"
   },
   {
    "duration": 11,
    "start_time": "2024-07-20T22:02:45.453Z"
   },
   {
    "duration": 31,
    "start_time": "2024-07-20T22:02:45.466Z"
   },
   {
    "duration": 5,
    "start_time": "2024-07-20T22:02:45.499Z"
   },
   {
    "duration": 40,
    "start_time": "2024-07-20T22:02:45.506Z"
   },
   {
    "duration": 23,
    "start_time": "2024-07-20T22:02:45.548Z"
   },
   {
    "duration": 103,
    "start_time": "2024-07-20T22:02:45.646Z"
   },
   {
    "duration": 102,
    "start_time": "2024-07-20T22:02:45.752Z"
   },
   {
    "duration": 6,
    "start_time": "2024-07-20T22:02:45.948Z"
   },
   {
    "duration": 91,
    "start_time": "2024-07-20T22:02:45.956Z"
   },
   {
    "duration": 28,
    "start_time": "2024-07-20T22:02:46.049Z"
   },
   {
    "duration": 10,
    "start_time": "2024-07-20T22:02:46.079Z"
   },
   {
    "duration": 11,
    "start_time": "2024-07-20T22:02:46.091Z"
   },
   {
    "duration": 23,
    "start_time": "2024-07-20T22:02:46.103Z"
   },
   {
    "duration": 4,
    "start_time": "2024-07-20T22:02:46.128Z"
   },
   {
    "duration": 12,
    "start_time": "2024-07-20T22:02:46.134Z"
   },
   {
    "duration": 4,
    "start_time": "2024-07-20T22:02:46.148Z"
   },
   {
    "duration": 13,
    "start_time": "2024-07-20T22:02:46.154Z"
   },
   {
    "duration": 12,
    "start_time": "2024-07-20T22:02:46.169Z"
   },
   {
    "duration": 11,
    "start_time": "2024-07-20T22:02:46.182Z"
   },
   {
    "duration": 5,
    "start_time": "2024-07-20T22:02:46.195Z"
   },
   {
    "duration": 149,
    "start_time": "2024-07-20T22:02:46.202Z"
   },
   {
    "duration": 0,
    "start_time": "2024-07-20T22:02:46.353Z"
   },
   {
    "duration": 0,
    "start_time": "2024-07-20T22:02:46.354Z"
   },
   {
    "duration": 5,
    "start_time": "2024-07-20T22:03:01.881Z"
   },
   {
    "duration": 1159,
    "start_time": "2024-07-20T22:03:02.163Z"
   },
   {
    "duration": 4,
    "start_time": "2024-07-20T22:05:32.208Z"
   },
   {
    "duration": 10,
    "start_time": "2024-07-20T22:05:32.730Z"
   },
   {
    "duration": 10,
    "start_time": "2024-07-20T22:05:32.903Z"
   },
   {
    "duration": 3,
    "start_time": "2024-07-20T22:05:48.323Z"
   },
   {
    "duration": 14,
    "start_time": "2024-07-20T22:05:49.313Z"
   },
   {
    "duration": 10,
    "start_time": "2024-07-20T22:05:49.727Z"
   },
   {
    "duration": 11,
    "start_time": "2024-07-20T22:05:50.263Z"
   },
   {
    "duration": 1123,
    "start_time": "2024-07-20T22:14:52.379Z"
   },
   {
    "duration": 1169,
    "start_time": "2024-07-20T22:14:57.018Z"
   },
   {
    "duration": 25,
    "start_time": "2024-07-20T22:20:35.662Z"
   },
   {
    "duration": 1093,
    "start_time": "2024-07-20T22:20:41.156Z"
   },
   {
    "duration": 1405,
    "start_time": "2024-07-20T22:22:48.349Z"
   },
   {
    "duration": 444,
    "start_time": "2024-07-20T22:22:49.756Z"
   },
   {
    "duration": 13,
    "start_time": "2024-07-20T22:22:50.202Z"
   },
   {
    "duration": 20,
    "start_time": "2024-07-20T22:22:50.218Z"
   },
   {
    "duration": 27,
    "start_time": "2024-07-20T22:22:50.240Z"
   },
   {
    "duration": 38,
    "start_time": "2024-07-20T22:22:50.269Z"
   },
   {
    "duration": 34,
    "start_time": "2024-07-20T22:22:50.309Z"
   },
   {
    "duration": 51,
    "start_time": "2024-07-20T22:22:50.345Z"
   },
   {
    "duration": 31,
    "start_time": "2024-07-20T22:22:50.398Z"
   },
   {
    "duration": 33,
    "start_time": "2024-07-20T22:22:50.432Z"
   },
   {
    "duration": 30,
    "start_time": "2024-07-20T22:22:50.467Z"
   },
   {
    "duration": 37,
    "start_time": "2024-07-20T22:22:50.499Z"
   },
   {
    "duration": 32,
    "start_time": "2024-07-20T22:22:50.547Z"
   },
   {
    "duration": 35,
    "start_time": "2024-07-20T22:22:50.580Z"
   },
   {
    "duration": 60,
    "start_time": "2024-07-20T22:22:50.616Z"
   },
   {
    "duration": 37,
    "start_time": "2024-07-20T22:22:50.678Z"
   },
   {
    "duration": 7,
    "start_time": "2024-07-20T22:22:50.716Z"
   },
   {
    "duration": 25,
    "start_time": "2024-07-20T22:22:50.724Z"
   },
   {
    "duration": 14,
    "start_time": "2024-07-20T22:22:50.750Z"
   },
   {
    "duration": 11,
    "start_time": "2024-07-20T22:22:50.766Z"
   },
   {
    "duration": 10,
    "start_time": "2024-07-20T22:22:50.778Z"
   },
   {
    "duration": 17,
    "start_time": "2024-07-20T22:22:50.789Z"
   },
   {
    "duration": 133,
    "start_time": "2024-07-20T22:22:50.808Z"
   },
   {
    "duration": 75,
    "start_time": "2024-07-20T22:22:50.943Z"
   },
   {
    "duration": 4,
    "start_time": "2024-07-20T22:22:51.020Z"
   },
   {
    "duration": 91,
    "start_time": "2024-07-20T22:22:51.025Z"
   },
   {
    "duration": 2,
    "start_time": "2024-07-20T22:22:51.118Z"
   },
   {
    "duration": 539,
    "start_time": "2024-07-20T22:22:51.124Z"
   },
   {
    "duration": 469,
    "start_time": "2024-07-20T22:22:51.665Z"
   },
   {
    "duration": 563,
    "start_time": "2024-07-20T22:22:52.136Z"
   },
   {
    "duration": 4,
    "start_time": "2024-07-20T22:22:52.700Z"
   },
   {
    "duration": 15,
    "start_time": "2024-07-20T22:22:52.705Z"
   },
   {
    "duration": 33,
    "start_time": "2024-07-20T22:22:52.722Z"
   },
   {
    "duration": 3,
    "start_time": "2024-07-20T22:22:52.757Z"
   },
   {
    "duration": 8,
    "start_time": "2024-07-20T22:22:52.762Z"
   },
   {
    "duration": 30,
    "start_time": "2024-07-20T22:22:52.771Z"
   },
   {
    "duration": 6,
    "start_time": "2024-07-20T22:22:52.803Z"
   },
   {
    "duration": 51,
    "start_time": "2024-07-20T22:22:52.810Z"
   },
   {
    "duration": 17,
    "start_time": "2024-07-20T22:22:52.863Z"
   },
   {
    "duration": 166,
    "start_time": "2024-07-20T22:22:52.882Z"
   },
   {
    "duration": 104,
    "start_time": "2024-07-20T22:22:53.050Z"
   },
   {
    "duration": 95,
    "start_time": "2024-07-20T22:22:53.156Z"
   },
   {
    "duration": 95,
    "start_time": "2024-07-20T22:22:53.254Z"
   },
   {
    "duration": 117,
    "start_time": "2024-07-20T22:22:53.350Z"
   },
   {
    "duration": 12,
    "start_time": "2024-07-20T22:22:53.469Z"
   },
   {
    "duration": 11,
    "start_time": "2024-07-20T22:22:53.483Z"
   },
   {
    "duration": 22,
    "start_time": "2024-07-20T22:22:53.496Z"
   },
   {
    "duration": 4,
    "start_time": "2024-07-20T22:22:53.520Z"
   },
   {
    "duration": 16,
    "start_time": "2024-07-20T22:22:53.526Z"
   },
   {
    "duration": 10,
    "start_time": "2024-07-20T22:22:53.544Z"
   },
   {
    "duration": 17,
    "start_time": "2024-07-20T22:22:53.555Z"
   },
   {
    "duration": 12,
    "start_time": "2024-07-20T22:22:53.573Z"
   },
   {
    "duration": 17,
    "start_time": "2024-07-20T22:22:53.587Z"
   },
   {
    "duration": 7,
    "start_time": "2024-07-20T22:22:53.606Z"
   },
   {
    "duration": 1234,
    "start_time": "2024-07-20T22:22:53.615Z"
   },
   {
    "duration": 1172,
    "start_time": "2024-07-20T22:22:54.851Z"
   },
   {
    "duration": 1133,
    "start_time": "2024-07-20T22:22:56.025Z"
   },
   {
    "duration": 2352,
    "start_time": "2024-07-21T17:59:31.967Z"
   },
   {
    "duration": 1814,
    "start_time": "2024-07-21T17:59:34.321Z"
   },
   {
    "duration": 12,
    "start_time": "2024-07-21T17:59:36.137Z"
   },
   {
    "duration": 9,
    "start_time": "2024-07-21T17:59:36.151Z"
   },
   {
    "duration": 50,
    "start_time": "2024-07-21T17:59:36.163Z"
   },
   {
    "duration": 19,
    "start_time": "2024-07-21T17:59:36.215Z"
   },
   {
    "duration": 33,
    "start_time": "2024-07-21T17:59:36.236Z"
   },
   {
    "duration": 30,
    "start_time": "2024-07-21T17:59:36.271Z"
   },
   {
    "duration": 31,
    "start_time": "2024-07-21T17:59:36.302Z"
   },
   {
    "duration": 26,
    "start_time": "2024-07-21T17:59:36.335Z"
   },
   {
    "duration": 25,
    "start_time": "2024-07-21T17:59:36.362Z"
   },
   {
    "duration": 42,
    "start_time": "2024-07-21T17:59:36.389Z"
   },
   {
    "duration": 28,
    "start_time": "2024-07-21T17:59:36.432Z"
   },
   {
    "duration": 34,
    "start_time": "2024-07-21T17:59:36.463Z"
   },
   {
    "duration": 55,
    "start_time": "2024-07-21T17:59:36.498Z"
   },
   {
    "duration": 34,
    "start_time": "2024-07-21T17:59:36.555Z"
   },
   {
    "duration": 6,
    "start_time": "2024-07-21T17:59:36.591Z"
   },
   {
    "duration": 29,
    "start_time": "2024-07-21T17:59:36.599Z"
   },
   {
    "duration": 6,
    "start_time": "2024-07-21T17:59:36.629Z"
   },
   {
    "duration": 10,
    "start_time": "2024-07-21T17:59:36.637Z"
   },
   {
    "duration": 9,
    "start_time": "2024-07-21T17:59:36.649Z"
   },
   {
    "duration": 10,
    "start_time": "2024-07-21T17:59:36.659Z"
   },
   {
    "duration": 148,
    "start_time": "2024-07-21T17:59:36.670Z"
   },
   {
    "duration": 67,
    "start_time": "2024-07-21T17:59:36.824Z"
   },
   {
    "duration": 4,
    "start_time": "2024-07-21T17:59:36.892Z"
   },
   {
    "duration": 86,
    "start_time": "2024-07-21T17:59:36.897Z"
   },
   {
    "duration": 3,
    "start_time": "2024-07-21T17:59:36.985Z"
   },
   {
    "duration": 535,
    "start_time": "2024-07-21T17:59:36.989Z"
   },
   {
    "duration": 439,
    "start_time": "2024-07-21T17:59:37.525Z"
   },
   {
    "duration": 519,
    "start_time": "2024-07-21T17:59:37.966Z"
   },
   {
    "duration": 4,
    "start_time": "2024-07-21T17:59:38.487Z"
   },
   {
    "duration": 5,
    "start_time": "2024-07-21T17:59:38.493Z"
   },
   {
    "duration": 46,
    "start_time": "2024-07-21T17:59:38.500Z"
   },
   {
    "duration": 4,
    "start_time": "2024-07-21T17:59:38.548Z"
   },
   {
    "duration": 6,
    "start_time": "2024-07-21T17:59:38.554Z"
   },
   {
    "duration": 28,
    "start_time": "2024-07-21T17:59:38.562Z"
   },
   {
    "duration": 6,
    "start_time": "2024-07-21T17:59:38.592Z"
   },
   {
    "duration": 30,
    "start_time": "2024-07-21T17:59:38.624Z"
   },
   {
    "duration": 17,
    "start_time": "2024-07-21T17:59:38.655Z"
   },
   {
    "duration": 57,
    "start_time": "2024-07-21T17:59:38.674Z"
   },
   {
    "duration": 190,
    "start_time": "2024-07-21T17:59:38.736Z"
   },
   {
    "duration": 7,
    "start_time": "2024-07-21T17:59:38.928Z"
   },
   {
    "duration": 5,
    "start_time": "2024-07-21T17:59:39.024Z"
   },
   {
    "duration": 5,
    "start_time": "2024-07-21T17:59:39.030Z"
   },
   {
    "duration": 10,
    "start_time": "2024-07-21T17:59:39.036Z"
   },
   {
    "duration": 10,
    "start_time": "2024-07-21T17:59:39.047Z"
   },
   {
    "duration": 10,
    "start_time": "2024-07-21T17:59:39.058Z"
   },
   {
    "duration": 4,
    "start_time": "2024-07-21T17:59:39.069Z"
   },
   {
    "duration": 3,
    "start_time": "2024-07-21T17:59:39.075Z"
   },
   {
    "duration": 3,
    "start_time": "2024-07-21T17:59:39.080Z"
   },
   {
    "duration": 14,
    "start_time": "2024-07-21T17:59:39.125Z"
   },
   {
    "duration": 11,
    "start_time": "2024-07-21T17:59:39.141Z"
   },
   {
    "duration": 11,
    "start_time": "2024-07-21T17:59:39.153Z"
   },
   {
    "duration": 5,
    "start_time": "2024-07-21T17:59:39.165Z"
   },
   {
    "duration": 1131,
    "start_time": "2024-07-21T17:59:39.171Z"
   },
   {
    "duration": 1061,
    "start_time": "2024-07-21T17:59:40.304Z"
   },
   {
    "duration": 1040,
    "start_time": "2024-07-21T17:59:41.367Z"
   },
   {
    "duration": 3,
    "start_time": "2024-07-21T17:59:55.290Z"
   },
   {
    "duration": 1057,
    "start_time": "2024-07-21T18:00:02.217Z"
   },
   {
    "duration": 1073,
    "start_time": "2024-07-21T18:00:06.215Z"
   },
   {
    "duration": 1146,
    "start_time": "2024-07-21T18:00:08.463Z"
   },
   {
    "duration": 4,
    "start_time": "2024-07-21T18:00:14.524Z"
   },
   {
    "duration": 1094,
    "start_time": "2024-07-21T18:00:18.261Z"
   },
   {
    "duration": 1126,
    "start_time": "2024-07-21T18:00:19.357Z"
   },
   {
    "duration": 1084,
    "start_time": "2024-07-21T18:00:20.485Z"
   },
   {
    "duration": 13,
    "start_time": "2024-07-21T18:23:52.867Z"
   },
   {
    "duration": 1383,
    "start_time": "2024-07-21T18:23:56.365Z"
   },
   {
    "duration": 829,
    "start_time": "2024-07-21T18:23:57.750Z"
   },
   {
    "duration": 11,
    "start_time": "2024-07-21T18:23:58.581Z"
   },
   {
    "duration": 7,
    "start_time": "2024-07-21T18:23:58.594Z"
   },
   {
    "duration": 15,
    "start_time": "2024-07-21T18:23:58.602Z"
   },
   {
    "duration": 36,
    "start_time": "2024-07-21T18:23:58.619Z"
   },
   {
    "duration": 30,
    "start_time": "2024-07-21T18:23:58.656Z"
   },
   {
    "duration": 24,
    "start_time": "2024-07-21T18:23:58.687Z"
   },
   {
    "duration": 21,
    "start_time": "2024-07-21T18:23:58.712Z"
   },
   {
    "duration": 9,
    "start_time": "2024-07-21T18:23:58.735Z"
   },
   {
    "duration": 25,
    "start_time": "2024-07-21T18:23:58.745Z"
   },
   {
    "duration": 53,
    "start_time": "2024-07-21T18:23:58.771Z"
   },
   {
    "duration": 40,
    "start_time": "2024-07-21T18:23:58.826Z"
   },
   {
    "duration": 28,
    "start_time": "2024-07-21T18:23:58.868Z"
   },
   {
    "duration": 26,
    "start_time": "2024-07-21T18:23:58.912Z"
   },
   {
    "duration": 19,
    "start_time": "2024-07-21T18:23:58.939Z"
   },
   {
    "duration": 53,
    "start_time": "2024-07-21T18:23:58.959Z"
   },
   {
    "duration": 5,
    "start_time": "2024-07-21T18:23:59.013Z"
   },
   {
    "duration": 5,
    "start_time": "2024-07-21T18:23:59.019Z"
   },
   {
    "duration": 8,
    "start_time": "2024-07-21T18:23:59.026Z"
   },
   {
    "duration": 7,
    "start_time": "2024-07-21T18:23:59.035Z"
   },
   {
    "duration": 7,
    "start_time": "2024-07-21T18:23:59.043Z"
   },
   {
    "duration": 135,
    "start_time": "2024-07-21T18:23:59.051Z"
   },
   {
    "duration": 79,
    "start_time": "2024-07-21T18:23:59.187Z"
   },
   {
    "duration": 17,
    "start_time": "2024-07-21T18:23:59.267Z"
   },
   {
    "duration": 91,
    "start_time": "2024-07-21T18:23:59.285Z"
   },
   {
    "duration": 3,
    "start_time": "2024-07-21T18:23:59.377Z"
   },
   {
    "duration": 452,
    "start_time": "2024-07-21T18:23:59.383Z"
   },
   {
    "duration": 358,
    "start_time": "2024-07-21T18:23:59.836Z"
   },
   {
    "duration": 462,
    "start_time": "2024-07-21T18:24:00.195Z"
   },
   {
    "duration": 4,
    "start_time": "2024-07-21T18:24:00.659Z"
   },
   {
    "duration": 38,
    "start_time": "2024-07-21T18:24:00.665Z"
   },
   {
    "duration": 63,
    "start_time": "2024-07-21T18:24:00.704Z"
   },
   {
    "duration": 59,
    "start_time": "2024-07-21T18:24:00.769Z"
   },
   {
    "duration": 54,
    "start_time": "2024-07-21T18:24:00.830Z"
   },
   {
    "duration": 43,
    "start_time": "2024-07-21T18:24:00.885Z"
   },
   {
    "duration": 26,
    "start_time": "2024-07-21T18:24:00.930Z"
   },
   {
    "duration": 70,
    "start_time": "2024-07-21T18:24:00.957Z"
   },
   {
    "duration": 39,
    "start_time": "2024-07-21T18:24:01.029Z"
   },
   {
    "duration": 254,
    "start_time": "2024-07-21T18:24:01.073Z"
   },
   {
    "duration": 215,
    "start_time": "2024-07-21T18:24:01.329Z"
   },
   {
    "duration": 166,
    "start_time": "2024-07-21T18:24:01.546Z"
   },
   {
    "duration": 7,
    "start_time": "2024-07-21T18:24:01.714Z"
   },
   {
    "duration": 15,
    "start_time": "2024-07-21T18:24:01.722Z"
   },
   {
    "duration": 16,
    "start_time": "2024-07-21T18:24:01.739Z"
   },
   {
    "duration": 29,
    "start_time": "2024-07-21T18:24:01.756Z"
   },
   {
    "duration": 22,
    "start_time": "2024-07-21T18:24:01.787Z"
   },
   {
    "duration": 23,
    "start_time": "2024-07-21T18:24:01.810Z"
   },
   {
    "duration": 16,
    "start_time": "2024-07-21T18:24:01.835Z"
   },
   {
    "duration": 14,
    "start_time": "2024-07-21T18:24:01.853Z"
   },
   {
    "duration": 12,
    "start_time": "2024-07-21T18:24:01.868Z"
   },
   {
    "duration": 10,
    "start_time": "2024-07-21T18:24:01.882Z"
   },
   {
    "duration": 9,
    "start_time": "2024-07-21T18:24:01.893Z"
   },
   {
    "duration": 4,
    "start_time": "2024-07-21T18:24:01.903Z"
   },
   {
    "duration": 778,
    "start_time": "2024-07-21T18:24:01.908Z"
   },
   {
    "duration": 787,
    "start_time": "2024-07-21T18:24:02.688Z"
   },
   {
    "duration": 810,
    "start_time": "2024-07-21T18:24:03.476Z"
   },
   {
    "duration": 1204,
    "start_time": "2024-07-21T18:28:31.935Z"
   },
   {
    "duration": 340,
    "start_time": "2024-07-21T18:28:33.141Z"
   },
   {
    "duration": 10,
    "start_time": "2024-07-21T18:28:33.483Z"
   },
   {
    "duration": 17,
    "start_time": "2024-07-21T18:28:33.495Z"
   },
   {
    "duration": 7,
    "start_time": "2024-07-21T18:28:33.514Z"
   },
   {
    "duration": 18,
    "start_time": "2024-07-21T18:28:33.522Z"
   },
   {
    "duration": 31,
    "start_time": "2024-07-21T18:28:33.542Z"
   },
   {
    "duration": 40,
    "start_time": "2024-07-21T18:28:33.575Z"
   },
   {
    "duration": 22,
    "start_time": "2024-07-21T18:28:33.616Z"
   },
   {
    "duration": 9,
    "start_time": "2024-07-21T18:28:33.641Z"
   },
   {
    "duration": 22,
    "start_time": "2024-07-21T18:28:33.652Z"
   },
   {
    "duration": 37,
    "start_time": "2024-07-21T18:28:33.676Z"
   },
   {
    "duration": 20,
    "start_time": "2024-07-21T18:28:33.715Z"
   },
   {
    "duration": 31,
    "start_time": "2024-07-21T18:28:33.736Z"
   },
   {
    "duration": 45,
    "start_time": "2024-07-21T18:28:33.768Z"
   },
   {
    "duration": 23,
    "start_time": "2024-07-21T18:28:33.814Z"
   },
   {
    "duration": 5,
    "start_time": "2024-07-21T18:28:33.838Z"
   },
   {
    "duration": 5,
    "start_time": "2024-07-21T18:28:33.845Z"
   },
   {
    "duration": 5,
    "start_time": "2024-07-21T18:28:33.851Z"
   },
   {
    "duration": 9,
    "start_time": "2024-07-21T18:28:33.857Z"
   },
   {
    "duration": 49,
    "start_time": "2024-07-21T18:28:33.868Z"
   },
   {
    "duration": 12,
    "start_time": "2024-07-21T18:28:33.918Z"
   },
   {
    "duration": 132,
    "start_time": "2024-07-21T18:28:33.932Z"
   },
   {
    "duration": 71,
    "start_time": "2024-07-21T18:28:34.065Z"
   },
   {
    "duration": 3,
    "start_time": "2024-07-21T18:28:34.138Z"
   },
   {
    "duration": 84,
    "start_time": "2024-07-21T18:28:34.142Z"
   },
   {
    "duration": 3,
    "start_time": "2024-07-21T18:28:34.228Z"
   },
   {
    "duration": 452,
    "start_time": "2024-07-21T18:28:34.234Z"
   },
   {
    "duration": 383,
    "start_time": "2024-07-21T18:28:34.688Z"
   },
   {
    "duration": 453,
    "start_time": "2024-07-21T18:28:35.072Z"
   },
   {
    "duration": 3,
    "start_time": "2024-07-21T18:28:35.527Z"
   },
   {
    "duration": 5,
    "start_time": "2024-07-21T18:28:35.531Z"
   },
   {
    "duration": 24,
    "start_time": "2024-07-21T18:28:35.537Z"
   },
   {
    "duration": 4,
    "start_time": "2024-07-21T18:28:35.562Z"
   },
   {
    "duration": 4,
    "start_time": "2024-07-21T18:28:35.567Z"
   },
   {
    "duration": 40,
    "start_time": "2024-07-21T18:28:35.573Z"
   },
   {
    "duration": 4,
    "start_time": "2024-07-21T18:28:35.615Z"
   },
   {
    "duration": 24,
    "start_time": "2024-07-21T18:28:35.620Z"
   },
   {
    "duration": 12,
    "start_time": "2024-07-21T18:28:35.645Z"
   },
   {
    "duration": 60,
    "start_time": "2024-07-21T18:28:35.659Z"
   },
   {
    "duration": 191,
    "start_time": "2024-07-21T18:28:35.721Z"
   },
   {
    "duration": 100,
    "start_time": "2024-07-21T18:28:35.914Z"
   },
   {
    "duration": 5,
    "start_time": "2024-07-21T18:28:36.016Z"
   },
   {
    "duration": 8,
    "start_time": "2024-07-21T18:28:36.022Z"
   },
   {
    "duration": 11,
    "start_time": "2024-07-21T18:28:36.031Z"
   },
   {
    "duration": 18,
    "start_time": "2024-07-21T18:28:36.043Z"
   },
   {
    "duration": 8,
    "start_time": "2024-07-21T18:28:36.062Z"
   },
   {
    "duration": 16,
    "start_time": "2024-07-21T18:28:36.071Z"
   },
   {
    "duration": 10,
    "start_time": "2024-07-21T18:28:36.088Z"
   },
   {
    "duration": 3,
    "start_time": "2024-07-21T18:28:36.099Z"
   },
   {
    "duration": 15,
    "start_time": "2024-07-21T18:28:36.103Z"
   },
   {
    "duration": 9,
    "start_time": "2024-07-21T18:28:36.119Z"
   },
   {
    "duration": 9,
    "start_time": "2024-07-21T18:28:36.130Z"
   },
   {
    "duration": 5,
    "start_time": "2024-07-21T18:28:36.140Z"
   },
   {
    "duration": 785,
    "start_time": "2024-07-21T18:28:36.146Z"
   },
   {
    "duration": 799,
    "start_time": "2024-07-21T18:28:36.932Z"
   },
   {
    "duration": 757,
    "start_time": "2024-07-21T18:28:37.732Z"
   },
   {
    "duration": 1565,
    "start_time": "2024-07-22T22:05:23.012Z"
   },
   {
    "duration": 945,
    "start_time": "2024-07-22T22:05:24.579Z"
   },
   {
    "duration": 29,
    "start_time": "2024-07-22T22:05:25.526Z"
   },
   {
    "duration": 24,
    "start_time": "2024-07-22T22:05:25.557Z"
   },
   {
    "duration": 18,
    "start_time": "2024-07-22T22:05:25.583Z"
   },
   {
    "duration": 38,
    "start_time": "2024-07-22T22:05:25.603Z"
   },
   {
    "duration": 33,
    "start_time": "2024-07-22T22:05:25.643Z"
   },
   {
    "duration": 36,
    "start_time": "2024-07-22T22:05:25.677Z"
   },
   {
    "duration": 32,
    "start_time": "2024-07-22T22:05:25.714Z"
   },
   {
    "duration": 27,
    "start_time": "2024-07-22T22:05:25.749Z"
   },
   {
    "duration": 47,
    "start_time": "2024-07-22T22:05:25.777Z"
   },
   {
    "duration": 36,
    "start_time": "2024-07-22T22:05:25.826Z"
   },
   {
    "duration": 36,
    "start_time": "2024-07-22T22:05:25.863Z"
   },
   {
    "duration": 37,
    "start_time": "2024-07-22T22:05:25.900Z"
   },
   {
    "duration": 40,
    "start_time": "2024-07-22T22:05:25.938Z"
   },
   {
    "duration": 39,
    "start_time": "2024-07-22T22:05:25.980Z"
   },
   {
    "duration": 6,
    "start_time": "2024-07-22T22:05:26.020Z"
   },
   {
    "duration": 19,
    "start_time": "2024-07-22T22:05:26.027Z"
   },
   {
    "duration": 6,
    "start_time": "2024-07-22T22:05:26.048Z"
   },
   {
    "duration": 20,
    "start_time": "2024-07-22T22:05:26.055Z"
   },
   {
    "duration": 10,
    "start_time": "2024-07-22T22:05:26.078Z"
   },
   {
    "duration": 19,
    "start_time": "2024-07-22T22:05:26.090Z"
   },
   {
    "duration": 153,
    "start_time": "2024-07-22T22:05:26.111Z"
   },
   {
    "duration": 68,
    "start_time": "2024-07-22T22:05:26.265Z"
   },
   {
    "duration": 82,
    "start_time": "2024-07-22T22:05:26.335Z"
   },
   {
    "duration": 4,
    "start_time": "2024-07-22T22:05:26.419Z"
   },
   {
    "duration": 623,
    "start_time": "2024-07-22T22:05:26.425Z"
   },
   {
    "duration": 589,
    "start_time": "2024-07-22T22:05:27.052Z"
   },
   {
    "duration": 531,
    "start_time": "2024-07-22T22:05:27.646Z"
   },
   {
    "duration": 6,
    "start_time": "2024-07-22T22:05:28.179Z"
   },
   {
    "duration": 7,
    "start_time": "2024-07-22T22:05:28.187Z"
   },
   {
    "duration": 68,
    "start_time": "2024-07-22T22:05:28.196Z"
   },
   {
    "duration": 4,
    "start_time": "2024-07-22T22:05:28.266Z"
   },
   {
    "duration": 20,
    "start_time": "2024-07-22T22:05:28.272Z"
   },
   {
    "duration": 31,
    "start_time": "2024-07-22T22:05:28.294Z"
   },
   {
    "duration": 6,
    "start_time": "2024-07-22T22:05:28.326Z"
   },
   {
    "duration": 34,
    "start_time": "2024-07-22T22:05:28.333Z"
   },
   {
    "duration": 78,
    "start_time": "2024-07-22T22:05:28.368Z"
   },
   {
    "duration": 100,
    "start_time": "2024-07-22T22:05:28.449Z"
   },
   {
    "duration": 197,
    "start_time": "2024-07-22T22:05:28.551Z"
   },
   {
    "duration": 7,
    "start_time": "2024-07-22T22:05:28.751Z"
   },
   {
    "duration": 91,
    "start_time": "2024-07-22T22:05:28.760Z"
   },
   {
    "duration": 18,
    "start_time": "2024-07-22T22:05:28.852Z"
   },
   {
    "duration": 12,
    "start_time": "2024-07-22T22:05:28.871Z"
   },
   {
    "duration": 22,
    "start_time": "2024-07-22T22:05:28.884Z"
   },
   {
    "duration": 14,
    "start_time": "2024-07-22T22:05:28.908Z"
   },
   {
    "duration": 2,
    "start_time": "2024-07-22T22:05:28.924Z"
   },
   {
    "duration": 5,
    "start_time": "2024-07-22T22:05:28.927Z"
   },
   {
    "duration": 3,
    "start_time": "2024-07-22T22:05:28.946Z"
   },
   {
    "duration": 19,
    "start_time": "2024-07-22T22:05:28.950Z"
   },
   {
    "duration": 20,
    "start_time": "2024-07-22T22:05:28.970Z"
   },
   {
    "duration": 11,
    "start_time": "2024-07-22T22:05:28.992Z"
   },
   {
    "duration": 5,
    "start_time": "2024-07-22T22:05:29.004Z"
   },
   {
    "duration": 1082,
    "start_time": "2024-07-22T22:05:29.011Z"
   },
   {
    "duration": 1114,
    "start_time": "2024-07-22T22:05:30.095Z"
   },
   {
    "duration": 1077,
    "start_time": "2024-07-22T22:05:31.210Z"
   },
   {
    "duration": 1428,
    "start_time": "2024-07-22T22:09:10.457Z"
   },
   {
    "duration": 427,
    "start_time": "2024-07-22T22:09:11.887Z"
   },
   {
    "duration": 13,
    "start_time": "2024-07-22T22:09:12.316Z"
   },
   {
    "duration": 18,
    "start_time": "2024-07-22T22:09:12.331Z"
   },
   {
    "duration": 11,
    "start_time": "2024-07-22T22:09:12.350Z"
   },
   {
    "duration": 20,
    "start_time": "2024-07-22T22:09:12.363Z"
   },
   {
    "duration": 62,
    "start_time": "2024-07-22T22:09:12.384Z"
   },
   {
    "duration": 32,
    "start_time": "2024-07-22T22:09:12.447Z"
   },
   {
    "duration": 34,
    "start_time": "2024-07-22T22:09:12.481Z"
   },
   {
    "duration": 28,
    "start_time": "2024-07-22T22:09:12.518Z"
   },
   {
    "duration": 25,
    "start_time": "2024-07-22T22:09:12.548Z"
   },
   {
    "duration": 35,
    "start_time": "2024-07-22T22:09:12.575Z"
   },
   {
    "duration": 68,
    "start_time": "2024-07-22T22:09:12.612Z"
   },
   {
    "duration": 34,
    "start_time": "2024-07-22T22:09:12.682Z"
   },
   {
    "duration": 52,
    "start_time": "2024-07-22T22:09:12.717Z"
   },
   {
    "duration": 33,
    "start_time": "2024-07-22T22:09:12.771Z"
   },
   {
    "duration": 7,
    "start_time": "2024-07-22T22:09:12.805Z"
   },
   {
    "duration": 33,
    "start_time": "2024-07-22T22:09:12.813Z"
   },
   {
    "duration": 6,
    "start_time": "2024-07-22T22:09:12.848Z"
   },
   {
    "duration": 10,
    "start_time": "2024-07-22T22:09:12.855Z"
   },
   {
    "duration": 9,
    "start_time": "2024-07-22T22:09:12.867Z"
   },
   {
    "duration": 140,
    "start_time": "2024-07-22T22:09:12.878Z"
   },
   {
    "duration": 150,
    "start_time": "2024-07-22T22:09:13.019Z"
   },
   {
    "duration": 81,
    "start_time": "2024-07-22T22:09:13.170Z"
   },
   {
    "duration": 100,
    "start_time": "2024-07-22T22:09:13.254Z"
   },
   {
    "duration": 4,
    "start_time": "2024-07-22T22:09:13.355Z"
   },
   {
    "duration": 598,
    "start_time": "2024-07-22T22:09:13.360Z"
   },
   {
    "duration": 618,
    "start_time": "2024-07-22T22:09:13.962Z"
   },
   {
    "duration": 567,
    "start_time": "2024-07-22T22:09:14.581Z"
   },
   {
    "duration": 5,
    "start_time": "2024-07-22T22:09:15.149Z"
   },
   {
    "duration": 38,
    "start_time": "2024-07-22T22:09:15.155Z"
   },
   {
    "duration": 46,
    "start_time": "2024-07-22T22:09:15.195Z"
   },
   {
    "duration": 17,
    "start_time": "2024-07-22T22:09:15.242Z"
   },
   {
    "duration": 23,
    "start_time": "2024-07-22T22:09:15.261Z"
   },
   {
    "duration": 62,
    "start_time": "2024-07-22T22:09:15.285Z"
   },
   {
    "duration": 7,
    "start_time": "2024-07-22T22:09:15.348Z"
   },
   {
    "duration": 39,
    "start_time": "2024-07-22T22:09:15.356Z"
   },
   {
    "duration": 51,
    "start_time": "2024-07-22T22:09:15.397Z"
   },
   {
    "duration": 99,
    "start_time": "2024-07-22T22:09:15.451Z"
   },
   {
    "duration": 196,
    "start_time": "2024-07-22T22:09:15.552Z"
   },
   {
    "duration": 109,
    "start_time": "2024-07-22T22:09:15.750Z"
   },
   {
    "duration": 4,
    "start_time": "2024-07-22T22:09:15.946Z"
   },
   {
    "duration": 23,
    "start_time": "2024-07-22T22:09:15.951Z"
   },
   {
    "duration": 12,
    "start_time": "2024-07-22T22:09:15.976Z"
   },
   {
    "duration": 29,
    "start_time": "2024-07-22T22:09:15.990Z"
   },
   {
    "duration": 20,
    "start_time": "2024-07-22T22:09:16.020Z"
   },
   {
    "duration": 19,
    "start_time": "2024-07-22T22:09:16.041Z"
   },
   {
    "duration": 9,
    "start_time": "2024-07-22T22:09:16.062Z"
   },
   {
    "duration": 6,
    "start_time": "2024-07-22T22:09:16.073Z"
   },
   {
    "duration": 24,
    "start_time": "2024-07-22T22:09:16.081Z"
   },
   {
    "duration": 11,
    "start_time": "2024-07-22T22:09:16.107Z"
   },
   {
    "duration": 12,
    "start_time": "2024-07-22T22:09:16.120Z"
   },
   {
    "duration": 5,
    "start_time": "2024-07-22T22:09:16.134Z"
   },
   {
    "duration": 1113,
    "start_time": "2024-07-22T22:09:16.146Z"
   },
   {
    "duration": 1116,
    "start_time": "2024-07-22T22:09:17.261Z"
   },
   {
    "duration": 1195,
    "start_time": "2024-07-22T22:09:18.378Z"
   }
  ],
  "kernelspec": {
   "display_name": "Python 3 (ipykernel)",
   "language": "python",
   "name": "python3"
  },
  "language_info": {
   "codemirror_mode": {
    "name": "ipython",
    "version": 3
   },
   "file_extension": ".py",
   "mimetype": "text/x-python",
   "name": "python",
   "nbconvert_exporter": "python",
   "pygments_lexer": "ipython3",
   "version": "3.12.0"
  },
  "toc": {
   "base_numbering": 1,
   "nav_menu": {},
   "number_sections": true,
   "sideBar": true,
   "skip_h1_title": true,
   "title_cell": "Table of Contents",
   "title_sidebar": "Contents",
   "toc_cell": false,
   "toc_position": {},
   "toc_section_display": true,
   "toc_window_display": false
  }
 },
 "nbformat": 4,
 "nbformat_minor": 2
}
