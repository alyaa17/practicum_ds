{
 "cells": [
  {
   "cell_type": "markdown",
   "metadata": {},
   "source": [
    "# Определение стоимости автомобилей"
   ]
  },
  {
   "cell_type": "markdown",
   "metadata": {},
   "source": [
    "Сервис по продаже автомобилей с пробегом «Не бит, не крашен» разрабатывает приложение для привлечения новых клиентов. В нём можно быстро узнать рыночную стоимость своего автомобиля. В вашем распоряжении исторические данные: технические характеристики, комплектации и цены автомобилей. Вам нужно построить модель для определения стоимости. \n",
    "\n",
    "Заказчику важны:\n",
    "\n",
    "- качество предсказания;\n",
    "- скорость предсказания;\n",
    "- время обучения."
   ]
  },
  {
   "cell_type": "markdown",
   "metadata": {},
   "source": [
    "## Подключение библиотек"
   ]
  },
  {
   "cell_type": "code",
   "execution_count": 1,
   "metadata": {},
   "outputs": [],
   "source": [
    "import pandas as pd\n",
    "import seaborn as sns\n",
    "import matplotlib.pyplot as plt\n",
    "\n",
    "from sklearn.model_selection import train_test_split, GridSearchCV\n",
    "\n",
    "from sklearn.preprocessing import OrdinalEncoder\n",
    "from catboost import CatBoostRegressor\n",
    "import lightgbm as lgb\n",
    "from sklearn.tree import DecisionTreeRegressor\n",
    "\n",
    "from sklearn.compose import ColumnTransformer\n",
    "from sklearn.pipeline import Pipeline\n",
    "\n",
    "from sklearn.metrics import mean_squared_error"
   ]
  },
  {
   "cell_type": "code",
   "execution_count": 2,
   "metadata": {},
   "outputs": [],
   "source": [
    "import warnings\n",
    "warnings.filterwarnings('ignore')"
   ]
  },
  {
   "cell_type": "markdown",
   "metadata": {},
   "source": [
    "## Подготовка данных"
   ]
  },
  {
   "cell_type": "markdown",
   "metadata": {},
   "source": [
    "### Загрузка данных"
   ]
  },
  {
   "cell_type": "code",
   "execution_count": 4,
   "metadata": {},
   "outputs": [
    {
     "data": {
      "text/html": [
       "<div>\n",
       "<style scoped>\n",
       "    .dataframe tbody tr th:only-of-type {\n",
       "        vertical-align: middle;\n",
       "    }\n",
       "\n",
       "    .dataframe tbody tr th {\n",
       "        vertical-align: top;\n",
       "    }\n",
       "\n",
       "    .dataframe thead th {\n",
       "        text-align: right;\n",
       "    }\n",
       "</style>\n",
       "<table border=\"1\" class=\"dataframe\">\n",
       "  <thead>\n",
       "    <tr style=\"text-align: right;\">\n",
       "      <th></th>\n",
       "      <th>DateCrawled</th>\n",
       "      <th>Price</th>\n",
       "      <th>VehicleType</th>\n",
       "      <th>RegistrationYear</th>\n",
       "      <th>Gearbox</th>\n",
       "      <th>Power</th>\n",
       "      <th>Model</th>\n",
       "      <th>Kilometer</th>\n",
       "      <th>RegistrationMonth</th>\n",
       "      <th>FuelType</th>\n",
       "      <th>Brand</th>\n",
       "      <th>Repaired</th>\n",
       "      <th>DateCreated</th>\n",
       "      <th>NumberOfPictures</th>\n",
       "      <th>PostalCode</th>\n",
       "      <th>LastSeen</th>\n",
       "    </tr>\n",
       "  </thead>\n",
       "  <tbody>\n",
       "    <tr>\n",
       "      <th>0</th>\n",
       "      <td>2016-03-24 11:52:17</td>\n",
       "      <td>480</td>\n",
       "      <td>NaN</td>\n",
       "      <td>1993</td>\n",
       "      <td>manual</td>\n",
       "      <td>0</td>\n",
       "      <td>golf</td>\n",
       "      <td>150000</td>\n",
       "      <td>0</td>\n",
       "      <td>petrol</td>\n",
       "      <td>volkswagen</td>\n",
       "      <td>NaN</td>\n",
       "      <td>2016-03-24</td>\n",
       "      <td>0</td>\n",
       "      <td>70435</td>\n",
       "      <td>2016-04-07 03:16:57</td>\n",
       "    </tr>\n",
       "    <tr>\n",
       "      <th>1</th>\n",
       "      <td>2016-03-24 10:58:45</td>\n",
       "      <td>18300</td>\n",
       "      <td>coupe</td>\n",
       "      <td>2011</td>\n",
       "      <td>manual</td>\n",
       "      <td>190</td>\n",
       "      <td>NaN</td>\n",
       "      <td>125000</td>\n",
       "      <td>5</td>\n",
       "      <td>gasoline</td>\n",
       "      <td>audi</td>\n",
       "      <td>yes</td>\n",
       "      <td>2016-03-24</td>\n",
       "      <td>0</td>\n",
       "      <td>66954</td>\n",
       "      <td>2016-04-07 01:46:50</td>\n",
       "    </tr>\n",
       "    <tr>\n",
       "      <th>2</th>\n",
       "      <td>2016-03-14 12:52:21</td>\n",
       "      <td>9800</td>\n",
       "      <td>suv</td>\n",
       "      <td>2004</td>\n",
       "      <td>auto</td>\n",
       "      <td>163</td>\n",
       "      <td>grand</td>\n",
       "      <td>125000</td>\n",
       "      <td>8</td>\n",
       "      <td>gasoline</td>\n",
       "      <td>jeep</td>\n",
       "      <td>NaN</td>\n",
       "      <td>2016-03-14</td>\n",
       "      <td>0</td>\n",
       "      <td>90480</td>\n",
       "      <td>2016-04-05 12:47:46</td>\n",
       "    </tr>\n",
       "    <tr>\n",
       "      <th>3</th>\n",
       "      <td>2016-03-17 16:54:04</td>\n",
       "      <td>1500</td>\n",
       "      <td>small</td>\n",
       "      <td>2001</td>\n",
       "      <td>manual</td>\n",
       "      <td>75</td>\n",
       "      <td>golf</td>\n",
       "      <td>150000</td>\n",
       "      <td>6</td>\n",
       "      <td>petrol</td>\n",
       "      <td>volkswagen</td>\n",
       "      <td>no</td>\n",
       "      <td>2016-03-17</td>\n",
       "      <td>0</td>\n",
       "      <td>91074</td>\n",
       "      <td>2016-03-17 17:40:17</td>\n",
       "    </tr>\n",
       "    <tr>\n",
       "      <th>4</th>\n",
       "      <td>2016-03-31 17:25:20</td>\n",
       "      <td>3600</td>\n",
       "      <td>small</td>\n",
       "      <td>2008</td>\n",
       "      <td>manual</td>\n",
       "      <td>69</td>\n",
       "      <td>fabia</td>\n",
       "      <td>90000</td>\n",
       "      <td>7</td>\n",
       "      <td>gasoline</td>\n",
       "      <td>skoda</td>\n",
       "      <td>no</td>\n",
       "      <td>2016-03-31</td>\n",
       "      <td>0</td>\n",
       "      <td>60437</td>\n",
       "      <td>2016-04-06 10:17:21</td>\n",
       "    </tr>\n",
       "  </tbody>\n",
       "</table>\n",
       "</div>"
      ],
      "text/plain": [
       "          DateCrawled  Price VehicleType  RegistrationYear Gearbox  Power  \\\n",
       "0 2016-03-24 11:52:17    480         NaN              1993  manual      0   \n",
       "1 2016-03-24 10:58:45  18300       coupe              2011  manual    190   \n",
       "2 2016-03-14 12:52:21   9800         suv              2004    auto    163   \n",
       "3 2016-03-17 16:54:04   1500       small              2001  manual     75   \n",
       "4 2016-03-31 17:25:20   3600       small              2008  manual     69   \n",
       "\n",
       "   Model  Kilometer  RegistrationMonth  FuelType       Brand Repaired  \\\n",
       "0   golf     150000                  0    petrol  volkswagen      NaN   \n",
       "1    NaN     125000                  5  gasoline        audi      yes   \n",
       "2  grand     125000                  8  gasoline        jeep      NaN   \n",
       "3   golf     150000                  6    petrol  volkswagen       no   \n",
       "4  fabia      90000                  7  gasoline       skoda       no   \n",
       "\n",
       "  DateCreated  NumberOfPictures  PostalCode            LastSeen  \n",
       "0  2016-03-24                 0       70435 2016-04-07 03:16:57  \n",
       "1  2016-03-24                 0       66954 2016-04-07 01:46:50  \n",
       "2  2016-03-14                 0       90480 2016-04-05 12:47:46  \n",
       "3  2016-03-17                 0       91074 2016-03-17 17:40:17  \n",
       "4  2016-03-31                 0       60437 2016-04-06 10:17:21  "
      ]
     },
     "execution_count": 4,
     "metadata": {},
     "output_type": "execute_result"
    }
   ],
   "source": [
    "data = pd.read_csv('datasets/autos.csv', parse_dates=['DateCrawled', 'DateCreated', 'LastSeen'])\n",
    "data.head()"
   ]
  },
  {
   "cell_type": "markdown",
   "metadata": {},
   "source": [
    "__Признаки__\n",
    "\n",
    "* DateCrawled — дата скачивания анкеты из базы\n",
    "\n",
    "* VehicleType — тип автомобильного кузова\n",
    "\n",
    "* RegistrationYear — год регистрации автомобиля\n",
    "\n",
    "* Gearbox — тип коробки передач\n",
    "\n",
    "* Power — мощность (л. с.)\n",
    "\n",
    "* Model — модель автомобиля\n",
    "\n",
    "* Kilometer — пробег (км)\n",
    "\n",
    "* RegistrationMonth — месяц регистрации автомобиля\n",
    "\n",
    "* FuelType — тип топлива\n",
    "\n",
    "* Brand — марка автомобиля\n",
    "\n",
    "* Repaired — была машина в ремонте или нет\n",
    "\n",
    "* DateCreated — дата создания анкеты\n",
    "\n",
    "* NumberOfPictures — количество фотографий автомобиля\n",
    "\n",
    "* PostalCode — почтовый индекс владельца анкеты (пользователя)\n",
    "\n",
    "* LastSeen — дата последней активности пользователя\n",
    "\n",
    "__Целевой признак__\n",
    "* Price — цена (евро)"
   ]
  },
  {
   "cell_type": "markdown",
   "metadata": {},
   "source": [
    "### Обработка пропусков"
   ]
  },
  {
   "cell_type": "code",
   "execution_count": 5,
   "metadata": {},
   "outputs": [
    {
     "name": "stdout",
     "output_type": "stream",
     "text": [
      "Процент пропусков:\n"
     ]
    },
    {
     "data": {
      "text/plain": [
       "DateCrawled           0.000000\n",
       "Price                 0.000000\n",
       "VehicleType          10.579368\n",
       "RegistrationYear      0.000000\n",
       "Gearbox               5.596709\n",
       "Power                 0.000000\n",
       "Model                 5.560588\n",
       "Kilometer             0.000000\n",
       "RegistrationMonth     0.000000\n",
       "FuelType              9.282697\n",
       "Brand                 0.000000\n",
       "Repaired             20.079070\n",
       "DateCreated           0.000000\n",
       "NumberOfPictures      0.000000\n",
       "PostalCode            0.000000\n",
       "LastSeen              0.000000\n",
       "dtype: float64"
      ]
     },
     "execution_count": 5,
     "metadata": {},
     "output_type": "execute_result"
    }
   ],
   "source": [
    "print('Процент пропусков:')\n",
    "data.isnull().sum() / len(data) * 100"
   ]
  },
  {
   "cell_type": "code",
   "execution_count": 6,
   "metadata": {},
   "outputs": [
    {
     "data": {
      "text/plain": [
       "(354369, 16)"
      ]
     },
     "execution_count": 6,
     "metadata": {},
     "output_type": "execute_result"
    }
   ],
   "source": [
    "data.shape"
   ]
  },
  {
   "cell_type": "code",
   "execution_count": 7,
   "metadata": {},
   "outputs": [],
   "source": [
    "columns_to_fill = ['VehicleType', 'Gearbox', 'Model', 'FuelType', 'Repaired']\n",
    "data[columns_to_fill] = data[columns_to_fill].apply(lambda x: x.fillna(x.mode()[0]))"
   ]
  },
  {
   "cell_type": "code",
   "execution_count": 8,
   "metadata": {},
   "outputs": [
    {
     "name": "stdout",
     "output_type": "stream",
     "text": [
      "Процент пропусков:\n"
     ]
    },
    {
     "data": {
      "text/plain": [
       "DateCrawled          0.0\n",
       "Price                0.0\n",
       "VehicleType          0.0\n",
       "RegistrationYear     0.0\n",
       "Gearbox              0.0\n",
       "Power                0.0\n",
       "Model                0.0\n",
       "Kilometer            0.0\n",
       "RegistrationMonth    0.0\n",
       "FuelType             0.0\n",
       "Brand                0.0\n",
       "Repaired             0.0\n",
       "DateCreated          0.0\n",
       "NumberOfPictures     0.0\n",
       "PostalCode           0.0\n",
       "LastSeen             0.0\n",
       "dtype: float64"
      ]
     },
     "execution_count": 8,
     "metadata": {},
     "output_type": "execute_result"
    }
   ],
   "source": [
    "print('Процент пропусков:')\n",
    "data.isnull().sum() / len(data) * 100"
   ]
  },
  {
   "cell_type": "markdown",
   "metadata": {},
   "source": [
    "### Типы данных"
   ]
  },
  {
   "cell_type": "code",
   "execution_count": 9,
   "metadata": {},
   "outputs": [
    {
     "data": {
      "text/plain": [
       "DateCrawled          datetime64[ns]\n",
       "Price                         int64\n",
       "VehicleType                  object\n",
       "RegistrationYear              int64\n",
       "Gearbox                      object\n",
       "Power                         int64\n",
       "Model                        object\n",
       "Kilometer                     int64\n",
       "RegistrationMonth             int64\n",
       "FuelType                     object\n",
       "Brand                        object\n",
       "Repaired                     object\n",
       "DateCreated          datetime64[ns]\n",
       "NumberOfPictures              int64\n",
       "PostalCode                    int64\n",
       "LastSeen             datetime64[ns]\n",
       "dtype: object"
      ]
     },
     "execution_count": 9,
     "metadata": {},
     "output_type": "execute_result"
    }
   ],
   "source": [
    "data.dtypes"
   ]
  },
  {
   "cell_type": "code",
   "execution_count": 10,
   "metadata": {},
   "outputs": [
    {
     "data": {
      "text/html": [
       "<div>\n",
       "<style scoped>\n",
       "    .dataframe tbody tr th:only-of-type {\n",
       "        vertical-align: middle;\n",
       "    }\n",
       "\n",
       "    .dataframe tbody tr th {\n",
       "        vertical-align: top;\n",
       "    }\n",
       "\n",
       "    .dataframe thead th {\n",
       "        text-align: right;\n",
       "    }\n",
       "</style>\n",
       "<table border=\"1\" class=\"dataframe\">\n",
       "  <thead>\n",
       "    <tr style=\"text-align: right;\">\n",
       "      <th></th>\n",
       "      <th>DateCrawled</th>\n",
       "      <th>Price</th>\n",
       "      <th>VehicleType</th>\n",
       "      <th>RegistrationYear</th>\n",
       "      <th>Gearbox</th>\n",
       "      <th>Power</th>\n",
       "      <th>Model</th>\n",
       "      <th>Kilometer</th>\n",
       "      <th>RegistrationMonth</th>\n",
       "      <th>FuelType</th>\n",
       "      <th>Brand</th>\n",
       "      <th>Repaired</th>\n",
       "      <th>DateCreated</th>\n",
       "      <th>NumberOfPictures</th>\n",
       "      <th>PostalCode</th>\n",
       "      <th>LastSeen</th>\n",
       "    </tr>\n",
       "  </thead>\n",
       "  <tbody>\n",
       "    <tr>\n",
       "      <th>0</th>\n",
       "      <td>2016-03-24 11:52:17</td>\n",
       "      <td>480</td>\n",
       "      <td>sedan</td>\n",
       "      <td>1993</td>\n",
       "      <td>manual</td>\n",
       "      <td>0</td>\n",
       "      <td>golf</td>\n",
       "      <td>150000</td>\n",
       "      <td>0</td>\n",
       "      <td>petrol</td>\n",
       "      <td>volkswagen</td>\n",
       "      <td>no</td>\n",
       "      <td>2016-03-24</td>\n",
       "      <td>0</td>\n",
       "      <td>70435</td>\n",
       "      <td>2016-04-07 03:16:57</td>\n",
       "    </tr>\n",
       "    <tr>\n",
       "      <th>1</th>\n",
       "      <td>2016-03-24 10:58:45</td>\n",
       "      <td>18300</td>\n",
       "      <td>coupe</td>\n",
       "      <td>2011</td>\n",
       "      <td>manual</td>\n",
       "      <td>190</td>\n",
       "      <td>golf</td>\n",
       "      <td>125000</td>\n",
       "      <td>5</td>\n",
       "      <td>gasoline</td>\n",
       "      <td>audi</td>\n",
       "      <td>yes</td>\n",
       "      <td>2016-03-24</td>\n",
       "      <td>0</td>\n",
       "      <td>66954</td>\n",
       "      <td>2016-04-07 01:46:50</td>\n",
       "    </tr>\n",
       "    <tr>\n",
       "      <th>2</th>\n",
       "      <td>2016-03-14 12:52:21</td>\n",
       "      <td>9800</td>\n",
       "      <td>suv</td>\n",
       "      <td>2004</td>\n",
       "      <td>auto</td>\n",
       "      <td>163</td>\n",
       "      <td>grand</td>\n",
       "      <td>125000</td>\n",
       "      <td>8</td>\n",
       "      <td>gasoline</td>\n",
       "      <td>jeep</td>\n",
       "      <td>no</td>\n",
       "      <td>2016-03-14</td>\n",
       "      <td>0</td>\n",
       "      <td>90480</td>\n",
       "      <td>2016-04-05 12:47:46</td>\n",
       "    </tr>\n",
       "    <tr>\n",
       "      <th>3</th>\n",
       "      <td>2016-03-17 16:54:04</td>\n",
       "      <td>1500</td>\n",
       "      <td>small</td>\n",
       "      <td>2001</td>\n",
       "      <td>manual</td>\n",
       "      <td>75</td>\n",
       "      <td>golf</td>\n",
       "      <td>150000</td>\n",
       "      <td>6</td>\n",
       "      <td>petrol</td>\n",
       "      <td>volkswagen</td>\n",
       "      <td>no</td>\n",
       "      <td>2016-03-17</td>\n",
       "      <td>0</td>\n",
       "      <td>91074</td>\n",
       "      <td>2016-03-17 17:40:17</td>\n",
       "    </tr>\n",
       "    <tr>\n",
       "      <th>4</th>\n",
       "      <td>2016-03-31 17:25:20</td>\n",
       "      <td>3600</td>\n",
       "      <td>small</td>\n",
       "      <td>2008</td>\n",
       "      <td>manual</td>\n",
       "      <td>69</td>\n",
       "      <td>fabia</td>\n",
       "      <td>90000</td>\n",
       "      <td>7</td>\n",
       "      <td>gasoline</td>\n",
       "      <td>skoda</td>\n",
       "      <td>no</td>\n",
       "      <td>2016-03-31</td>\n",
       "      <td>0</td>\n",
       "      <td>60437</td>\n",
       "      <td>2016-04-06 10:17:21</td>\n",
       "    </tr>\n",
       "  </tbody>\n",
       "</table>\n",
       "</div>"
      ],
      "text/plain": [
       "          DateCrawled  Price VehicleType  RegistrationYear Gearbox  Power  \\\n",
       "0 2016-03-24 11:52:17    480       sedan              1993  manual      0   \n",
       "1 2016-03-24 10:58:45  18300       coupe              2011  manual    190   \n",
       "2 2016-03-14 12:52:21   9800         suv              2004    auto    163   \n",
       "3 2016-03-17 16:54:04   1500       small              2001  manual     75   \n",
       "4 2016-03-31 17:25:20   3600       small              2008  manual     69   \n",
       "\n",
       "   Model  Kilometer  RegistrationMonth  FuelType       Brand Repaired  \\\n",
       "0   golf     150000                  0    petrol  volkswagen       no   \n",
       "1   golf     125000                  5  gasoline        audi      yes   \n",
       "2  grand     125000                  8  gasoline        jeep       no   \n",
       "3   golf     150000                  6    petrol  volkswagen       no   \n",
       "4  fabia      90000                  7  gasoline       skoda       no   \n",
       "\n",
       "  DateCreated  NumberOfPictures  PostalCode            LastSeen  \n",
       "0  2016-03-24                 0       70435 2016-04-07 03:16:57  \n",
       "1  2016-03-24                 0       66954 2016-04-07 01:46:50  \n",
       "2  2016-03-14                 0       90480 2016-04-05 12:47:46  \n",
       "3  2016-03-17                 0       91074 2016-03-17 17:40:17  \n",
       "4  2016-03-31                 0       60437 2016-04-06 10:17:21  "
      ]
     },
     "execution_count": 10,
     "metadata": {},
     "output_type": "execute_result"
    }
   ],
   "source": [
    "data.head()"
   ]
  },
  {
   "cell_type": "markdown",
   "metadata": {},
   "source": [
    "### Дубликаты"
   ]
  },
  {
   "cell_type": "code",
   "execution_count": 11,
   "metadata": {},
   "outputs": [
    {
     "name": "stdout",
     "output_type": "stream",
     "text": [
      "Кол-во дубликатов: 5\n"
     ]
    }
   ],
   "source": [
    "print(f'Кол-во дубликатов: {data.duplicated().sum()}')"
   ]
  },
  {
   "cell_type": "code",
   "execution_count": 12,
   "metadata": {},
   "outputs": [
    {
     "name": "stdout",
     "output_type": "stream",
     "text": [
      "Кол-во дубликатов: 0\n"
     ]
    }
   ],
   "source": [
    "data = data.drop_duplicates()  \n",
    "print(f'Кол-во дубликатов: {data.duplicated().sum()}')"
   ]
  },
  {
   "cell_type": "code",
   "execution_count": 13,
   "metadata": {},
   "outputs": [
    {
     "name": "stdout",
     "output_type": "stream",
     "text": [
      "['sedan' 'coupe' 'suv' 'small' 'convertible' 'bus' 'wagon' 'other']\n",
      "['manual' 'auto']\n",
      "['golf' 'grand' 'fabia' '3er' '2_reihe' 'other' 'c_max' '3_reihe' 'passat'\n",
      " 'navara' 'ka' 'polo' 'twingo' 'a_klasse' 'scirocco' '5er' 'meriva'\n",
      " 'arosa' 'c4' 'civic' 'transporter' 'punto' 'e_klasse' 'clio' 'kadett'\n",
      " 'kangoo' 'corsa' 'one' 'fortwo' '1er' 'b_klasse' 'signum' 'astra' 'a8'\n",
      " 'jetta' 'fiesta' 'c_klasse' 'micra' 'vito' 'sprinter' '156' 'escort'\n",
      " 'forester' 'xc_reihe' 'scenic' 'a4' 'a1' 'insignia' 'combo' 'focus' 'tt'\n",
      " 'a6' 'jazz' 'omega' 'slk' '7er' '80' '147' '100' 'z_reihe' 'sportage'\n",
      " 'sorento' 'v40' 'ibiza' 'mustang' 'eos' 'touran' 'getz' 'a3' 'almera'\n",
      " 'megane' 'lupo' 'r19' 'zafira' 'caddy' 'mondeo' 'cordoba' 'colt'\n",
      " 'impreza' 'vectra' 'berlingo' 'tiguan' 'i_reihe' 'espace' 'sharan'\n",
      " '6_reihe' 'panda' 'up' 'seicento' 'ceed' '5_reihe' 'yeti' 'octavia' 'mii'\n",
      " 'rx_reihe' '6er' 'modus' 'fox' 'matiz' 'beetle' 'c1' 'rio' 'touareg'\n",
      " 'logan' 'spider' 'cuore' 's_max' 'a2' 'galaxy' 'c3' 'viano' 's_klasse'\n",
      " '1_reihe' 'avensis' 'roomster' 'sl' 'kaefer' 'santa' 'cooper' 'leon'\n",
      " '4_reihe' 'a5' '500' 'laguna' 'ptcruiser' 'clk' 'primera' 'x_reihe'\n",
      " 'exeo' '159' 'transit' 'juke' 'qashqai' 'carisma' 'accord' 'corolla'\n",
      " 'lanos' 'phaeton' 'verso' 'swift' 'rav' 'picanto' 'boxster' 'kalos'\n",
      " 'superb' 'stilo' 'alhambra' 'mx_reihe' 'roadster' 'ypsilon' 'cayenne'\n",
      " 'galant' 'justy' '90' 'sirion' 'crossfire' 'agila' 'duster' 'cr_reihe'\n",
      " 'v50' 'c_reihe' 'v_klasse' 'm_klasse' 'yaris' 'c5' 'aygo' 'cc' 'carnival'\n",
      " 'fusion' '911' 'bora' 'forfour' 'm_reihe' 'cl' 'tigra' '300c' 'spark'\n",
      " 'v70' 'kuga' 'x_type' 'ducato' 's_type' 'x_trail' 'toledo' 'altea'\n",
      " 'voyager' 'calibra' 'bravo' 'antara' 'tucson' 'citigo' 'jimny' 'wrangler'\n",
      " 'lybra' 'q7' 'lancer' 'captiva' 'c2' 'discovery' 'freelander' 'sandero'\n",
      " 'note' '900' 'cherokee' 'clubman' 'samara' 'defender' '601' 'cx_reihe'\n",
      " 'legacy' 'pajero' 'auris' 'niva' 's60' 'nubira' 'vivaro' 'g_klasse'\n",
      " 'lodgy' '850' 'range_rover' 'q3' 'serie_2' 'glk' 'charade' 'croma'\n",
      " 'outlander' 'doblo' 'musa' 'move' '9000' 'v60' '145' 'aveo' '200' 'b_max'\n",
      " 'range_rover_sport' 'terios' 'rangerover' 'q5' 'range_rover_evoque'\n",
      " 'materia' 'delta' 'gl' 'kalina' 'amarok' 'elefantino' 'i3' 'kappa'\n",
      " 'serie_3' 'serie_1']\n",
      "['petrol' 'gasoline' 'lpg' 'other' 'hybrid' 'cng' 'electric']\n",
      "['volkswagen' 'audi' 'jeep' 'skoda' 'bmw' 'peugeot' 'ford' 'mazda'\n",
      " 'nissan' 'renault' 'mercedes_benz' 'opel' 'seat' 'citroen' 'honda' 'fiat'\n",
      " 'mini' 'smart' 'hyundai' 'sonstige_autos' 'alfa_romeo' 'subaru' 'volvo'\n",
      " 'mitsubishi' 'kia' 'suzuki' 'lancia' 'toyota' 'chevrolet' 'dacia'\n",
      " 'daihatsu' 'trabant' 'saab' 'chrysler' 'jaguar' 'daewoo' 'porsche'\n",
      " 'rover' 'land_rover' 'lada']\n",
      "['no' 'yes']\n"
     ]
    }
   ],
   "source": [
    "for col in data.columns:\n",
    "    if data[col].dtype == 'object':\n",
    "        print(data[col].unique())"
   ]
  },
  {
   "cell_type": "code",
   "execution_count": 14,
   "metadata": {},
   "outputs": [],
   "source": [
    "data['FuelType'] = data['FuelType'].replace('gasoline', 'petrol')"
   ]
  },
  {
   "cell_type": "code",
   "execution_count": 15,
   "metadata": {},
   "outputs": [
    {
     "data": {
      "text/plain": [
       "Index(['DateCrawled', 'Price', 'VehicleType', 'RegistrationYear', 'Gearbox',\n",
       "       'Power', 'Model', 'Kilometer', 'RegistrationMonth', 'FuelType', 'Brand',\n",
       "       'Repaired', 'DateCreated', 'NumberOfPictures', 'PostalCode',\n",
       "       'LastSeen'],\n",
       "      dtype='object')"
      ]
     },
     "execution_count": 15,
     "metadata": {},
     "output_type": "execute_result"
    }
   ],
   "source": [
    "data.columns"
   ]
  },
  {
   "cell_type": "markdown",
   "metadata": {},
   "source": [
    "### Исследовательский анализ данных"
   ]
  },
  {
   "cell_type": "code",
   "execution_count": 16,
   "metadata": {},
   "outputs": [],
   "source": [
    "def build_hist(df, bins=30):\n",
    "    columns = df.select_dtypes(include='number').columns\n",
    "    for col in columns:\n",
    "        plt.figure(figsize=(10, 6))\n",
    "        sns.histplot(df[col].dropna(), color='#3785D8', kde=False, bins=bins)\n",
    "        sns.despine()\n",
    "        plt.title(col)\n",
    "        plt.xlabel('Value')\n",
    "        plt.ylabel('Frequency')\n",
    "        plt.show()"
   ]
  },
  {
   "cell_type": "code",
   "execution_count": 17,
   "metadata": {},
   "outputs": [
    {
     "data": {
      "image/png": "[encoded data removed]",
      "text/plain": [
       "<Figure size 720x432 with 1 Axes>"
      ]
     },
     "metadata": {
      "needs_background": "light"
     },
     "output_type": "display_data"
    },
    {
     "data": {
      "image/png": "[encoded data removed]",
      "text/plain": [
       "<Figure size 720x432 with 1 Axes>"
      ]
     },
     "metadata": {
      "needs_background": "light"
     },
     "output_type": "display_data"
    },
    {
     "data": {
      "image/png": "[encoded data removed]",
      "text/plain": [
       "<Figure size 720x432 with 1 Axes>"
      ]
     },
     "metadata": {
      "needs_background": "light"
     },
     "output_type": "display_data"
    },
    {
     "data": {
      "image/png": "[encoded data removed]",
      "text/plain": [
       "<Figure size 720x432 with 1 Axes>"
      ]
     },
     "metadata": {
      "needs_background": "light"
     },
     "output_type": "display_data"
    },
    {
     "data": {
      "image/png": "[encoded data removed]",
      "text/plain": [
       "<Figure size 720x432 with 1 Axes>"
      ]
     },
     "metadata": {
      "needs_background": "light"
     },
     "output_type": "display_data"
    },
    {
     "data": {
      "image/png": "[encoded data removed]",
      "text/plain": [
       "<Figure size 720x432 with 1 Axes>"
      ]
     },
     "metadata": {
      "needs_background": "light"
     },
     "output_type": "display_data"
    },
    {
     "data": {
      "image/png": "[encoded data removed]",
      "text/plain": [
       "<Figure size 720x432 with 1 Axes>"
      ]
     },
     "metadata": {
      "needs_background": "light"
     },
     "output_type": "display_data"
    }
   ],
   "source": [
    "build_hist(data)"
   ]
  },
  {
   "cell_type": "markdown",
   "metadata": {},
   "source": [
    "С ростом цены количество машин стремительно увеличивается. Видим, наибольшее количество с ценой 0 - на это нужно обратить внимание. Количество фотографий машин везде 0 - следует удалить этот признак. Некоторые машины имеют нулевой месяц регистрации\n"
   ]
  },
  {
   "cell_type": "code",
   "execution_count": 18,
   "metadata": {},
   "outputs": [],
   "source": [
    "def build_plots(df):\n",
    "    columns = df.select_dtypes(include='object').columns.tolist()\n",
    "    columns.remove('Model')\n",
    "    for col in columns:\n",
    "        plt.figure(figsize=(12, 6))\n",
    "        sns.countplot(data=df, x=col, palette='viridis')\n",
    "        plt.title(col)\n",
    "        plt.xlabel(col)\n",
    "        plt.ylabel('Count')\n",
    "        plt.xticks(rotation=90)\n",
    "        plt.show()"
   ]
  },
  {
   "cell_type": "code",
   "execution_count": 19,
   "metadata": {
    "scrolled": false
   },
   "outputs": [
    {
     "data": {
      "image/png": "[encoded data removed]",
      "text/plain": [
       "<Figure size 864x432 with 1 Axes>"
      ]
     },
     "metadata": {
      "needs_background": "light"
     },
     "output_type": "display_data"
    },
    {
     "data": {
      "image/png": "[encoded data removed]",
      "text/plain": [
       "<Figure size 864x432 with 1 Axes>"
      ]
     },
     "metadata": {
      "needs_background": "light"
     },
     "output_type": "display_data"
    },
    {
     "data": {
      "image/png": "[encoded data removed]",
      "text/plain": [
       "<Figure size 864x432 with 1 Axes>"
      ]
     },
     "metadata": {
      "needs_background": "light"
     },
     "output_type": "display_data"
    },
    {
     "data": {
      "image/png": "[encoded data removed]",
      "text/plain": [
       "<Figure size 864x432 with 1 Axes>"
      ]
     },
     "metadata": {
      "needs_background": "light"
     },
     "output_type": "display_data"
    },
    {
     "data": {
      "image/png": "[encoded data removed]",
      "text/plain": [
       "<Figure size 864x432 with 1 Axes>"
      ]
     },
     "metadata": {
      "needs_background": "light"
     },
     "output_type": "display_data"
    }
   ],
   "source": [
    "build_plots(data)"
   ]
  },
  {
   "cell_type": "markdown",
   "metadata": {},
   "source": [
    "Седан - наиболее распространенный тип кузова в данных. Количество машин с ручной коробкой передач сильно превышает количество с автоматической. Большинство машин на бензине. Audi и Volkswagen - наиболее распространенные марки машин в датасете"
   ]
  },
  {
   "cell_type": "code",
   "execution_count": 20,
   "metadata": {},
   "outputs": [
    {
     "data": {
      "text/html": [
       "<div>\n",
       "<style scoped>\n",
       "    .dataframe tbody tr th:only-of-type {\n",
       "        vertical-align: middle;\n",
       "    }\n",
       "\n",
       "    .dataframe tbody tr th {\n",
       "        vertical-align: top;\n",
       "    }\n",
       "\n",
       "    .dataframe thead th {\n",
       "        text-align: right;\n",
       "    }\n",
       "</style>\n",
       "<table border=\"1\" class=\"dataframe\">\n",
       "  <thead>\n",
       "    <tr style=\"text-align: right;\">\n",
       "      <th></th>\n",
       "      <th>Price</th>\n",
       "      <th>RegistrationYear</th>\n",
       "      <th>Power</th>\n",
       "      <th>Kilometer</th>\n",
       "      <th>RegistrationMonth</th>\n",
       "      <th>NumberOfPictures</th>\n",
       "      <th>PostalCode</th>\n",
       "    </tr>\n",
       "  </thead>\n",
       "  <tbody>\n",
       "    <tr>\n",
       "      <th>count</th>\n",
       "      <td>354364.000000</td>\n",
       "      <td>354364.000000</td>\n",
       "      <td>354364.000000</td>\n",
       "      <td>354364.000000</td>\n",
       "      <td>354364.000000</td>\n",
       "      <td>354364.0</td>\n",
       "      <td>354364.000000</td>\n",
       "    </tr>\n",
       "    <tr>\n",
       "      <th>mean</th>\n",
       "      <td>4416.655608</td>\n",
       "      <td>2004.234471</td>\n",
       "      <td>110.093723</td>\n",
       "      <td>128211.373051</td>\n",
       "      <td>5.714641</td>\n",
       "      <td>0.0</td>\n",
       "      <td>50508.461698</td>\n",
       "    </tr>\n",
       "    <tr>\n",
       "      <th>std</th>\n",
       "      <td>4514.159690</td>\n",
       "      <td>90.228593</td>\n",
       "      <td>189.851590</td>\n",
       "      <td>37905.136957</td>\n",
       "      <td>3.726433</td>\n",
       "      <td>0.0</td>\n",
       "      <td>25783.124276</td>\n",
       "    </tr>\n",
       "    <tr>\n",
       "      <th>min</th>\n",
       "      <td>0.000000</td>\n",
       "      <td>1000.000000</td>\n",
       "      <td>0.000000</td>\n",
       "      <td>5000.000000</td>\n",
       "      <td>0.000000</td>\n",
       "      <td>0.0</td>\n",
       "      <td>1067.000000</td>\n",
       "    </tr>\n",
       "    <tr>\n",
       "      <th>25%</th>\n",
       "      <td>1050.000000</td>\n",
       "      <td>1999.000000</td>\n",
       "      <td>69.000000</td>\n",
       "      <td>125000.000000</td>\n",
       "      <td>3.000000</td>\n",
       "      <td>0.0</td>\n",
       "      <td>30165.000000</td>\n",
       "    </tr>\n",
       "    <tr>\n",
       "      <th>50%</th>\n",
       "      <td>2700.000000</td>\n",
       "      <td>2003.000000</td>\n",
       "      <td>105.000000</td>\n",
       "      <td>150000.000000</td>\n",
       "      <td>6.000000</td>\n",
       "      <td>0.0</td>\n",
       "      <td>49409.500000</td>\n",
       "    </tr>\n",
       "    <tr>\n",
       "      <th>75%</th>\n",
       "      <td>6400.000000</td>\n",
       "      <td>2008.000000</td>\n",
       "      <td>143.000000</td>\n",
       "      <td>150000.000000</td>\n",
       "      <td>9.000000</td>\n",
       "      <td>0.0</td>\n",
       "      <td>71083.000000</td>\n",
       "    </tr>\n",
       "    <tr>\n",
       "      <th>max</th>\n",
       "      <td>20000.000000</td>\n",
       "      <td>9999.000000</td>\n",
       "      <td>20000.000000</td>\n",
       "      <td>150000.000000</td>\n",
       "      <td>12.000000</td>\n",
       "      <td>0.0</td>\n",
       "      <td>99998.000000</td>\n",
       "    </tr>\n",
       "  </tbody>\n",
       "</table>\n",
       "</div>"
      ],
      "text/plain": [
       "               Price  RegistrationYear          Power      Kilometer  \\\n",
       "count  354364.000000     354364.000000  354364.000000  354364.000000   \n",
       "mean     4416.655608       2004.234471     110.093723  128211.373051   \n",
       "std      4514.159690         90.228593     189.851590   37905.136957   \n",
       "min         0.000000       1000.000000       0.000000    5000.000000   \n",
       "25%      1050.000000       1999.000000      69.000000  125000.000000   \n",
       "50%      2700.000000       2003.000000     105.000000  150000.000000   \n",
       "75%      6400.000000       2008.000000     143.000000  150000.000000   \n",
       "max     20000.000000       9999.000000   20000.000000  150000.000000   \n",
       "\n",
       "       RegistrationMonth  NumberOfPictures     PostalCode  \n",
       "count      354364.000000          354364.0  354364.000000  \n",
       "mean            5.714641               0.0   50508.461698  \n",
       "std             3.726433               0.0   25783.124276  \n",
       "min             0.000000               0.0    1067.000000  \n",
       "25%             3.000000               0.0   30165.000000  \n",
       "50%             6.000000               0.0   49409.500000  \n",
       "75%             9.000000               0.0   71083.000000  \n",
       "max            12.000000               0.0   99998.000000  "
      ]
     },
     "execution_count": 20,
     "metadata": {},
     "output_type": "execute_result"
    }
   ],
   "source": [
    "data.describe()"
   ]
  },
  {
   "cell_type": "code",
   "execution_count": 21,
   "metadata": {},
   "outputs": [],
   "source": [
    "lower = data['Price'].quantile(0.05)\n",
    "data = data[data['Price'] > lower]"
   ]
  },
  {
   "cell_type": "code",
   "execution_count": 22,
   "metadata": {},
   "outputs": [],
   "source": [
    "data = data[(data['RegistrationYear'] < 2017) & (data['RegistrationYear'] > 1980)]"
   ]
  },
  {
   "cell_type": "code",
   "execution_count": 23,
   "metadata": {},
   "outputs": [],
   "source": [
    "mode = data['RegistrationMonth'][data['RegistrationMonth'] != 0].mode()[0]\n",
    "data['RegistrationMonth'] = data['RegistrationMonth'].replace(0, mode)"
   ]
  },
  {
   "cell_type": "code",
   "execution_count": 24,
   "metadata": {},
   "outputs": [],
   "source": [
    "lower = data['Power'].quantile(0.1)\n",
    "upper = data['Power'].quantile(0.99)\n",
    "data = data[(data['Power'] > lower) & (data['Power'] < upper)]"
   ]
  },
  {
   "cell_type": "markdown",
   "metadata": {},
   "source": [
    "Удалим неинформативные признаки"
   ]
  },
  {
   "cell_type": "code",
   "execution_count": 25,
   "metadata": {},
   "outputs": [],
   "source": [
    "data = data.drop(['DateCrawled', 'NumberOfPictures', 'RegistrationMonth', 'DateCreated', 'PostalCode', 'LastSeen'], axis=1)"
   ]
  },
  {
   "cell_type": "code",
   "execution_count": 26,
   "metadata": {},
   "outputs": [
    {
     "data": {
      "text/html": [
       "<div>\n",
       "<style scoped>\n",
       "    .dataframe tbody tr th:only-of-type {\n",
       "        vertical-align: middle;\n",
       "    }\n",
       "\n",
       "    .dataframe tbody tr th {\n",
       "        vertical-align: top;\n",
       "    }\n",
       "\n",
       "    .dataframe thead th {\n",
       "        text-align: right;\n",
       "    }\n",
       "</style>\n",
       "<table border=\"1\" class=\"dataframe\">\n",
       "  <thead>\n",
       "    <tr style=\"text-align: right;\">\n",
       "      <th></th>\n",
       "      <th>Price</th>\n",
       "      <th>RegistrationYear</th>\n",
       "      <th>Power</th>\n",
       "      <th>Kilometer</th>\n",
       "    </tr>\n",
       "  </thead>\n",
       "  <tbody>\n",
       "    <tr>\n",
       "      <th>count</th>\n",
       "      <td>281817.000000</td>\n",
       "      <td>281817.000000</td>\n",
       "      <td>281817.000000</td>\n",
       "      <td>281817.000000</td>\n",
       "    </tr>\n",
       "    <tr>\n",
       "      <th>mean</th>\n",
       "      <td>4891.631392</td>\n",
       "      <td>2003.235412</td>\n",
       "      <td>120.396811</td>\n",
       "      <td>128491.396899</td>\n",
       "    </tr>\n",
       "    <tr>\n",
       "      <th>std</th>\n",
       "      <td>4545.018832</td>\n",
       "      <td>5.799521</td>\n",
       "      <td>48.008316</td>\n",
       "      <td>36452.887548</td>\n",
       "    </tr>\n",
       "    <tr>\n",
       "      <th>min</th>\n",
       "      <td>202.000000</td>\n",
       "      <td>1981.000000</td>\n",
       "      <td>46.000000</td>\n",
       "      <td>5000.000000</td>\n",
       "    </tr>\n",
       "    <tr>\n",
       "      <th>25%</th>\n",
       "      <td>1449.000000</td>\n",
       "      <td>1999.000000</td>\n",
       "      <td>80.000000</td>\n",
       "      <td>125000.000000</td>\n",
       "    </tr>\n",
       "    <tr>\n",
       "      <th>50%</th>\n",
       "      <td>3250.000000</td>\n",
       "      <td>2003.000000</td>\n",
       "      <td>115.000000</td>\n",
       "      <td>150000.000000</td>\n",
       "    </tr>\n",
       "    <tr>\n",
       "      <th>75%</th>\n",
       "      <td>6999.000000</td>\n",
       "      <td>2007.000000</td>\n",
       "      <td>150.000000</td>\n",
       "      <td>150000.000000</td>\n",
       "    </tr>\n",
       "    <tr>\n",
       "      <th>max</th>\n",
       "      <td>20000.000000</td>\n",
       "      <td>2016.000000</td>\n",
       "      <td>303.000000</td>\n",
       "      <td>150000.000000</td>\n",
       "    </tr>\n",
       "  </tbody>\n",
       "</table>\n",
       "</div>"
      ],
      "text/plain": [
       "               Price  RegistrationYear          Power      Kilometer\n",
       "count  281817.000000     281817.000000  281817.000000  281817.000000\n",
       "mean     4891.631392       2003.235412     120.396811  128491.396899\n",
       "std      4545.018832          5.799521      48.008316   36452.887548\n",
       "min       202.000000       1981.000000      46.000000    5000.000000\n",
       "25%      1449.000000       1999.000000      80.000000  125000.000000\n",
       "50%      3250.000000       2003.000000     115.000000  150000.000000\n",
       "75%      6999.000000       2007.000000     150.000000  150000.000000\n",
       "max     20000.000000       2016.000000     303.000000  150000.000000"
      ]
     },
     "execution_count": 26,
     "metadata": {},
     "output_type": "execute_result"
    }
   ],
   "source": [
    "data.describe()"
   ]
  },
  {
   "cell_type": "markdown",
   "metadata": {},
   "source": [
    "### Корреляционный анализ"
   ]
  },
  {
   "cell_type": "code",
   "execution_count": 27,
   "metadata": {},
   "outputs": [
    {
     "data": {
      "text/html": [
       "<style  type=\"text/css\" >\n",
       "#T_9e189_row0_col0,#T_9e189_row1_col1,#T_9e189_row2_col2,#T_9e189_row3_col3{\n",
       "            background-color:  #fde725;\n",
       "            color:  #000000;\n",
       "        }#T_9e189_row0_col1{\n",
       "            background-color:  #70cf57;\n",
       "            color:  #000000;\n",
       "        }#T_9e189_row0_col2{\n",
       "            background-color:  #26828e;\n",
       "            color:  #000000;\n",
       "        }#T_9e189_row0_col3{\n",
       "            background-color:  #460a5d;\n",
       "            color:  #f1f1f1;\n",
       "        }#T_9e189_row1_col0{\n",
       "            background-color:  #6ece58;\n",
       "            color:  #000000;\n",
       "        }#T_9e189_row1_col2{\n",
       "            background-color:  #471164;\n",
       "            color:  #f1f1f1;\n",
       "        }#T_9e189_row1_col3,#T_9e189_row3_col0,#T_9e189_row3_col1,#T_9e189_row3_col2{\n",
       "            background-color:  #440154;\n",
       "            color:  #f1f1f1;\n",
       "        }#T_9e189_row2_col0{\n",
       "            background-color:  #2db27d;\n",
       "            color:  #000000;\n",
       "        }#T_9e189_row2_col1{\n",
       "            background-color:  #297a8e;\n",
       "            color:  #000000;\n",
       "        }#T_9e189_row2_col3{\n",
       "            background-color:  #2c738e;\n",
       "            color:  #f1f1f1;\n",
       "        }</style><table id=\"T_9e189_\" ><thead>    <tr>        <th class=\"blank level0\" ></th>        <th class=\"col_heading level0 col0\" >Price</th>        <th class=\"col_heading level0 col1\" >RegistrationYear</th>        <th class=\"col_heading level0 col2\" >Power</th>        <th class=\"col_heading level0 col3\" >Kilometer</th>    </tr></thead><tbody>\n",
       "                <tr>\n",
       "                        <th id=\"T_9e189_level0_row0\" class=\"row_heading level0 row0\" >Price</th>\n",
       "                        <td id=\"T_9e189_row0_col0\" class=\"data row0 col0\" >1.000000</td>\n",
       "                        <td id=\"T_9e189_row0_col1\" class=\"data row0 col1\" >0.692336</td>\n",
       "                        <td id=\"T_9e189_row0_col2\" class=\"data row0 col2\" >0.506113</td>\n",
       "                        <td id=\"T_9e189_row0_col3\" class=\"data row0 col3\" >-0.384249</td>\n",
       "            </tr>\n",
       "            <tr>\n",
       "                        <th id=\"T_9e189_level0_row1\" class=\"row_heading level0 row1\" >RegistrationYear</th>\n",
       "                        <td id=\"T_9e189_row1_col0\" class=\"data row1 col0\" >0.692336</td>\n",
       "                        <td id=\"T_9e189_row1_col1\" class=\"data row1 col1\" >1.000000</td>\n",
       "                        <td id=\"T_9e189_row1_col2\" class=\"data row1 col2\" >0.159803</td>\n",
       "                        <td id=\"T_9e189_row1_col3\" class=\"data row1 col3\" >-0.420880</td>\n",
       "            </tr>\n",
       "            <tr>\n",
       "                        <th id=\"T_9e189_level0_row2\" class=\"row_heading level0 row2\" >Power</th>\n",
       "                        <td id=\"T_9e189_row2_col0\" class=\"data row2 col0\" >0.506113</td>\n",
       "                        <td id=\"T_9e189_row2_col1\" class=\"data row2 col1\" >0.159803</td>\n",
       "                        <td id=\"T_9e189_row2_col2\" class=\"data row2 col2\" >1.000000</td>\n",
       "                        <td id=\"T_9e189_row2_col3\" class=\"data row2 col3\" >0.120428</td>\n",
       "            </tr>\n",
       "            <tr>\n",
       "                        <th id=\"T_9e189_level0_row3\" class=\"row_heading level0 row3\" >Kilometer</th>\n",
       "                        <td id=\"T_9e189_row3_col0\" class=\"data row3 col0\" >-0.384249</td>\n",
       "                        <td id=\"T_9e189_row3_col1\" class=\"data row3 col1\" >-0.420880</td>\n",
       "                        <td id=\"T_9e189_row3_col2\" class=\"data row3 col2\" >0.120428</td>\n",
       "                        <td id=\"T_9e189_row3_col3\" class=\"data row3 col3\" >1.000000</td>\n",
       "            </tr>\n",
       "    </tbody></table>"
      ],
      "text/plain": [
       "<pandas.io.formats.style.Styler at 0x7fece0a2a580>"
      ]
     },
     "execution_count": 27,
     "metadata": {},
     "output_type": "execute_result"
    }
   ],
   "source": [
    "corr = data.corr(method='spearman')\n",
    "corr.style.background_gradient(cmap='viridis')"
   ]
  },
  {
   "cell_type": "markdown",
   "metadata": {},
   "source": [
    "Сильной корреляции между признаками не наблюдаем"
   ]
  },
  {
   "cell_type": "markdown",
   "metadata": {},
   "source": [
    "## Обучение моделей"
   ]
  },
  {
   "cell_type": "markdown",
   "metadata": {},
   "source": [
    "### CatBoost"
   ]
  },
  {
   "cell_type": "code",
   "execution_count": 28,
   "metadata": {},
   "outputs": [],
   "source": [
    "X = data.drop('Price', axis=1)\n",
    "y = data['Price']\n",
    "\n",
    "X_train, X_test, y_train, y_test = train_test_split(X, y, test_size=0.25, random_state=42)"
   ]
  },
  {
   "cell_type": "code",
   "execution_count": 29,
   "metadata": {},
   "outputs": [],
   "source": [
    "cat_features = data.select_dtypes(exclude='number').columns.tolist()"
   ]
  },
  {
   "cell_type": "code",
   "execution_count": 30,
   "metadata": {},
   "outputs": [],
   "source": [
    "Cat_model = CatBoostRegressor(loss_function=\"RMSE\", cat_features=cat_features, logging_level='Silent') \n",
    "\n",
    "param_grid = {\n",
    "    'learning_rate': [0.01, 0.1, 0.2, 0.4],\n",
    "    'depth': [4, 6, 8],\n",
    "    'iterations': [50, 100, 150]\n",
    "}\n",
    "\n",
    "grid_search = GridSearchCV(estimator=Cat_model, param_grid=param_grid, scoring='neg_root_mean_squared_error', cv=3, n_jobs=-1, verbose=0)"
   ]
  },
  {
   "cell_type": "code",
   "execution_count": 31,
   "metadata": {},
   "outputs": [
    {
     "data": {
      "text/html": [
       "<style>#sk-container-id-1 {\n",
       "  /* Definition of color scheme common for light and dark mode */\n",
       "  --sklearn-color-text: black;\n",
       "  --sklearn-color-line: gray;\n",
       "  /* Definition of color scheme for unfitted estimators */\n",
       "  --sklearn-color-unfitted-level-0: #fff5e6;\n",
       "  --sklearn-color-unfitted-level-1: #f6e4d2;\n",
       "  --sklearn-color-unfitted-level-2: #ffe0b3;\n",
       "  --sklearn-color-unfitted-level-3: chocolate;\n",
       "  /* Definition of color scheme for fitted estimators */\n",
       "  --sklearn-color-fitted-level-0: #f0f8ff;\n",
       "  --sklearn-color-fitted-level-1: #d4ebff;\n",
       "  --sklearn-color-fitted-level-2: #b3dbfd;\n",
       "  --sklearn-color-fitted-level-3: cornflowerblue;\n",
       "\n",
       "  /* Specific color for light theme */\n",
       "  --sklearn-color-text-on-default-background: var(--sg-text-color, var(--theme-code-foreground, var(--jp-content-font-color1, black)));\n",
       "  --sklearn-color-background: var(--sg-background-color, var(--theme-background, var(--jp-layout-color0, white)));\n",
       "  --sklearn-color-border-box: var(--sg-text-color, var(--theme-code-foreground, var(--jp-content-font-color1, black)));\n",
       "  --sklearn-color-icon: #696969;\n",
       "\n",
       "  @media (prefers-color-scheme: dark) {\n",
       "    /* Redefinition of color scheme for dark theme */\n",
       "    --sklearn-color-text-on-default-background: var(--sg-text-color, var(--theme-code-foreground, var(--jp-content-font-color1, white)));\n",
       "    --sklearn-color-background: var(--sg-background-color, var(--theme-background, var(--jp-layout-color0, #111)));\n",
       "    --sklearn-color-border-box: var(--sg-text-color, var(--theme-code-foreground, var(--jp-content-font-color1, white)));\n",
       "    --sklearn-color-icon: #878787;\n",
       "  }\n",
       "}\n",
       "\n",
       "#sk-container-id-1 {\n",
       "  color: var(--sklearn-color-text);\n",
       "}\n",
       "\n",
       "#sk-container-id-1 pre {\n",
       "  padding: 0;\n",
       "}\n",
       "\n",
       "#sk-container-id-1 input.sk-hidden--visually {\n",
       "  border: 0;\n",
       "  clip: rect(1px 1px 1px 1px);\n",
       "  clip: rect(1px, 1px, 1px, 1px);\n",
       "  height: 1px;\n",
       "  margin: -1px;\n",
       "  overflow: hidden;\n",
       "  padding: 0;\n",
       "  position: absolute;\n",
       "  width: 1px;\n",
       "}\n",
       "\n",
       "#sk-container-id-1 div.sk-dashed-wrapped {\n",
       "  border: 1px dashed var(--sklearn-color-line);\n",
       "  margin: 0 0.4em 0.5em 0.4em;\n",
       "  box-sizing: border-box;\n",
       "  padding-bottom: 0.4em;\n",
       "  background-color: var(--sklearn-color-background);\n",
       "}\n",
       "\n",
       "#sk-container-id-1 div.sk-container {\n",
       "  /* jupyter's `normalize.less` sets `[hidden] { display: none; }`\n",
       "     but bootstrap.min.css set `[hidden] { display: none !important; }`\n",
       "     so we also need the `!important` here to be able to override the\n",
       "     default hidden behavior on the sphinx rendered scikit-learn.org.\n",
       "     See: https://github.com/scikit-learn/scikit-learn/issues/21755 */\n",
       "  display: inline-block !important;\n",
       "  position: relative;\n",
       "}\n",
       "\n",
       "#sk-container-id-1 div.sk-text-repr-fallback {\n",
       "  display: none;\n",
       "}\n",
       "\n",
       "div.sk-parallel-item,\n",
       "div.sk-serial,\n",
       "div.sk-item {\n",
       "  /* draw centered vertical line to link estimators */\n",
       "  background-image: linear-gradient(var(--sklearn-color-text-on-default-background), var(--sklearn-color-text-on-default-background));\n",
       "  background-size: 2px 100%;\n",
       "  background-repeat: no-repeat;\n",
       "  background-position: center center;\n",
       "}\n",
       "\n",
       "/* Parallel-specific style estimator block */\n",
       "\n",
       "#sk-container-id-1 div.sk-parallel-item::after {\n",
       "  content: \"\";\n",
       "  width: 100%;\n",
       "  border-bottom: 2px solid var(--sklearn-color-text-on-default-background);\n",
       "  flex-grow: 1;\n",
       "}\n",
       "\n",
       "#sk-container-id-1 div.sk-parallel {\n",
       "  display: flex;\n",
       "  align-items: stretch;\n",
       "  justify-content: center;\n",
       "  background-color: var(--sklearn-color-background);\n",
       "  position: relative;\n",
       "}\n",
       "\n",
       "#sk-container-id-1 div.sk-parallel-item {\n",
       "  display: flex;\n",
       "  flex-direction: column;\n",
       "}\n",
       "\n",
       "#sk-container-id-1 div.sk-parallel-item:first-child::after {\n",
       "  align-self: flex-end;\n",
       "  width: 50%;\n",
       "}\n",
       "\n",
       "#sk-container-id-1 div.sk-parallel-item:last-child::after {\n",
       "  align-self: flex-start;\n",
       "  width: 50%;\n",
       "}\n",
       "\n",
       "#sk-container-id-1 div.sk-parallel-item:only-child::after {\n",
       "  width: 0;\n",
       "}\n",
       "\n",
       "/* Serial-specific style estimator block */\n",
       "\n",
       "#sk-container-id-1 div.sk-serial {\n",
       "  display: flex;\n",
       "  flex-direction: column;\n",
       "  align-items: center;\n",
       "  background-color: var(--sklearn-color-background);\n",
       "  padding-right: 1em;\n",
       "  padding-left: 1em;\n",
       "}\n",
       "\n",
       "\n",
       "/* Toggleable style: style used for estimator/Pipeline/ColumnTransformer box that is\n",
       "clickable and can be expanded/collapsed.\n",
       "- Pipeline and ColumnTransformer use this feature and define the default style\n",
       "- Estimators will overwrite some part of the style using the `sk-estimator` class\n",
       "*/\n",
       "\n",
       "/* Pipeline and ColumnTransformer style (default) */\n",
       "\n",
       "#sk-container-id-1 div.sk-toggleable {\n",
       "  /* Default theme specific background. It is overwritten whether we have a\n",
       "  specific estimator or a Pipeline/ColumnTransformer */\n",
       "  background-color: var(--sklearn-color-background);\n",
       "}\n",
       "\n",
       "/* Toggleable label */\n",
       "#sk-container-id-1 label.sk-toggleable__label {\n",
       "  cursor: pointer;\n",
       "  display: block;\n",
       "  width: 100%;\n",
       "  margin-bottom: 0;\n",
       "  padding: 0.5em;\n",
       "  box-sizing: border-box;\n",
       "  text-align: center;\n",
       "}\n",
       "\n",
       "#sk-container-id-1 label.sk-toggleable__label-arrow:before {\n",
       "  /* Arrow on the left of the label */\n",
       "  content: \"▸\";\n",
       "  float: left;\n",
       "  margin-right: 0.25em;\n",
       "  color: var(--sklearn-color-icon);\n",
       "}\n",
       "\n",
       "#sk-container-id-1 label.sk-toggleable__label-arrow:hover:before {\n",
       "  color: var(--sklearn-color-text);\n",
       "}\n",
       "\n",
       "/* Toggleable content - dropdown */\n",
       "\n",
       "#sk-container-id-1 div.sk-toggleable__content {\n",
       "  max-height: 0;\n",
       "  max-width: 0;\n",
       "  overflow: hidden;\n",
       "  text-align: left;\n",
       "  /* unfitted */\n",
       "  background-color: var(--sklearn-color-unfitted-level-0);\n",
       "}\n",
       "\n",
       "#sk-container-id-1 div.sk-toggleable__content.fitted {\n",
       "  /* fitted */\n",
       "  background-color: var(--sklearn-color-fitted-level-0);\n",
       "}\n",
       "\n",
       "#sk-container-id-1 div.sk-toggleable__content pre {\n",
       "  margin: 0.2em;\n",
       "  border-radius: 0.25em;\n",
       "  color: var(--sklearn-color-text);\n",
       "  /* unfitted */\n",
       "  background-color: var(--sklearn-color-unfitted-level-0);\n",
       "}\n",
       "\n",
       "#sk-container-id-1 div.sk-toggleable__content.fitted pre {\n",
       "  /* unfitted */\n",
       "  background-color: var(--sklearn-color-fitted-level-0);\n",
       "}\n",
       "\n",
       "#sk-container-id-1 input.sk-toggleable__control:checked~div.sk-toggleable__content {\n",
       "  /* Expand drop-down */\n",
       "  max-height: 200px;\n",
       "  max-width: 100%;\n",
       "  overflow: auto;\n",
       "}\n",
       "\n",
       "#sk-container-id-1 input.sk-toggleable__control:checked~label.sk-toggleable__label-arrow:before {\n",
       "  content: \"▾\";\n",
       "}\n",
       "\n",
       "/* Pipeline/ColumnTransformer-specific style */\n",
       "\n",
       "#sk-container-id-1 div.sk-label input.sk-toggleable__control:checked~label.sk-toggleable__label {\n",
       "  color: var(--sklearn-color-text);\n",
       "  background-color: var(--sklearn-color-unfitted-level-2);\n",
       "}\n",
       "\n",
       "#sk-container-id-1 div.sk-label.fitted input.sk-toggleable__control:checked~label.sk-toggleable__label {\n",
       "  background-color: var(--sklearn-color-fitted-level-2);\n",
       "}\n",
       "\n",
       "/* Estimator-specific style */\n",
       "\n",
       "/* Colorize estimator box */\n",
       "#sk-container-id-1 div.sk-estimator input.sk-toggleable__control:checked~label.sk-toggleable__label {\n",
       "  /* unfitted */\n",
       "  background-color: var(--sklearn-color-unfitted-level-2);\n",
       "}\n",
       "\n",
       "#sk-container-id-1 div.sk-estimator.fitted input.sk-toggleable__control:checked~label.sk-toggleable__label {\n",
       "  /* fitted */\n",
       "  background-color: var(--sklearn-color-fitted-level-2);\n",
       "}\n",
       "\n",
       "#sk-container-id-1 div.sk-label label.sk-toggleable__label,\n",
       "#sk-container-id-1 div.sk-label label {\n",
       "  /* The background is the default theme color */\n",
       "  color: var(--sklearn-color-text-on-default-background);\n",
       "}\n",
       "\n",
       "/* On hover, darken the color of the background */\n",
       "#sk-container-id-1 div.sk-label:hover label.sk-toggleable__label {\n",
       "  color: var(--sklearn-color-text);\n",
       "  background-color: var(--sklearn-color-unfitted-level-2);\n",
       "}\n",
       "\n",
       "/* Label box, darken color on hover, fitted */\n",
       "#sk-container-id-1 div.sk-label.fitted:hover label.sk-toggleable__label.fitted {\n",
       "  color: var(--sklearn-color-text);\n",
       "  background-color: var(--sklearn-color-fitted-level-2);\n",
       "}\n",
       "\n",
       "/* Estimator label */\n",
       "\n",
       "#sk-container-id-1 div.sk-label label {\n",
       "  font-family: monospace;\n",
       "  font-weight: bold;\n",
       "  display: inline-block;\n",
       "  line-height: 1.2em;\n",
       "}\n",
       "\n",
       "#sk-container-id-1 div.sk-label-container {\n",
       "  text-align: center;\n",
       "}\n",
       "\n",
       "/* Estimator-specific */\n",
       "#sk-container-id-1 div.sk-estimator {\n",
       "  font-family: monospace;\n",
       "  border: 1px dotted var(--sklearn-color-border-box);\n",
       "  border-radius: 0.25em;\n",
       "  box-sizing: border-box;\n",
       "  margin-bottom: 0.5em;\n",
       "  /* unfitted */\n",
       "  background-color: var(--sklearn-color-unfitted-level-0);\n",
       "}\n",
       "\n",
       "#sk-container-id-1 div.sk-estimator.fitted {\n",
       "  /* fitted */\n",
       "  background-color: var(--sklearn-color-fitted-level-0);\n",
       "}\n",
       "\n",
       "/* on hover */\n",
       "#sk-container-id-1 div.sk-estimator:hover {\n",
       "  /* unfitted */\n",
       "  background-color: var(--sklearn-color-unfitted-level-2);\n",
       "}\n",
       "\n",
       "#sk-container-id-1 div.sk-estimator.fitted:hover {\n",
       "  /* fitted */\n",
       "  background-color: var(--sklearn-color-fitted-level-2);\n",
       "}\n",
       "\n",
       "/* Specification for estimator info (e.g. \"i\" and \"?\") */\n",
       "\n",
       "/* Common style for \"i\" and \"?\" */\n",
       "\n",
       ".sk-estimator-doc-link,\n",
       "a:link.sk-estimator-doc-link,\n",
       "a:visited.sk-estimator-doc-link {\n",
       "  float: right;\n",
       "  font-size: smaller;\n",
       "  line-height: 1em;\n",
       "  font-family: monospace;\n",
       "  background-color: var(--sklearn-color-background);\n",
       "  border-radius: 1em;\n",
       "  height: 1em;\n",
       "  width: 1em;\n",
       "  text-decoration: none !important;\n",
       "  margin-left: 1ex;\n",
       "  /* unfitted */\n",
       "  border: var(--sklearn-color-unfitted-level-1) 1pt solid;\n",
       "  color: var(--sklearn-color-unfitted-level-1);\n",
       "}\n",
       "\n",
       ".sk-estimator-doc-link.fitted,\n",
       "a:link.sk-estimator-doc-link.fitted,\n",
       "a:visited.sk-estimator-doc-link.fitted {\n",
       "  /* fitted */\n",
       "  border: var(--sklearn-color-fitted-level-1) 1pt solid;\n",
       "  color: var(--sklearn-color-fitted-level-1);\n",
       "}\n",
       "\n",
       "/* On hover */\n",
       "div.sk-estimator:hover .sk-estimator-doc-link:hover,\n",
       ".sk-estimator-doc-link:hover,\n",
       "div.sk-label-container:hover .sk-estimator-doc-link:hover,\n",
       ".sk-estimator-doc-link:hover {\n",
       "  /* unfitted */\n",
       "  background-color: var(--sklearn-color-unfitted-level-3);\n",
       "  color: var(--sklearn-color-background);\n",
       "  text-decoration: none;\n",
       "}\n",
       "\n",
       "div.sk-estimator.fitted:hover .sk-estimator-doc-link.fitted:hover,\n",
       ".sk-estimator-doc-link.fitted:hover,\n",
       "div.sk-label-container:hover .sk-estimator-doc-link.fitted:hover,\n",
       ".sk-estimator-doc-link.fitted:hover {\n",
       "  /* fitted */\n",
       "  background-color: var(--sklearn-color-fitted-level-3);\n",
       "  color: var(--sklearn-color-background);\n",
       "  text-decoration: none;\n",
       "}\n",
       "\n",
       "/* Span, style for the box shown on hovering the info icon */\n",
       ".sk-estimator-doc-link span {\n",
       "  display: none;\n",
       "  z-index: 9999;\n",
       "  position: relative;\n",
       "  font-weight: normal;\n",
       "  right: .2ex;\n",
       "  padding: .5ex;\n",
       "  margin: .5ex;\n",
       "  width: min-content;\n",
       "  min-width: 20ex;\n",
       "  max-width: 50ex;\n",
       "  color: var(--sklearn-color-text);\n",
       "  box-shadow: 2pt 2pt 4pt #999;\n",
       "  /* unfitted */\n",
       "  background: var(--sklearn-color-unfitted-level-0);\n",
       "  border: .5pt solid var(--sklearn-color-unfitted-level-3);\n",
       "}\n",
       "\n",
       ".sk-estimator-doc-link.fitted span {\n",
       "  /* fitted */\n",
       "  background: var(--sklearn-color-fitted-level-0);\n",
       "  border: var(--sklearn-color-fitted-level-3);\n",
       "}\n",
       "\n",
       ".sk-estimator-doc-link:hover span {\n",
       "  display: block;\n",
       "}\n",
       "\n",
       "/* \"?\"-specific style due to the `<a>` HTML tag */\n",
       "\n",
       "#sk-container-id-1 a.estimator_doc_link {\n",
       "  float: right;\n",
       "  font-size: 1rem;\n",
       "  line-height: 1em;\n",
       "  font-family: monospace;\n",
       "  background-color: var(--sklearn-color-background);\n",
       "  border-radius: 1rem;\n",
       "  height: 1rem;\n",
       "  width: 1rem;\n",
       "  text-decoration: none;\n",
       "  /* unfitted */\n",
       "  color: var(--sklearn-color-unfitted-level-1);\n",
       "  border: var(--sklearn-color-unfitted-level-1) 1pt solid;\n",
       "}\n",
       "\n",
       "#sk-container-id-1 a.estimator_doc_link.fitted {\n",
       "  /* fitted */\n",
       "  border: var(--sklearn-color-fitted-level-1) 1pt solid;\n",
       "  color: var(--sklearn-color-fitted-level-1);\n",
       "}\n",
       "\n",
       "/* On hover */\n",
       "#sk-container-id-1 a.estimator_doc_link:hover {\n",
       "  /* unfitted */\n",
       "  background-color: var(--sklearn-color-unfitted-level-3);\n",
       "  color: var(--sklearn-color-background);\n",
       "  text-decoration: none;\n",
       "}\n",
       "\n",
       "#sk-container-id-1 a.estimator_doc_link.fitted:hover {\n",
       "  /* fitted */\n",
       "  background-color: var(--sklearn-color-fitted-level-3);\n",
       "}\n",
       "</style><div id=\"sk-container-id-1\" class=\"sk-top-container\"><div class=\"sk-text-repr-fallback\"><pre>GridSearchCV(cv=3,\n",
       "             estimator=&lt;catboost.core.CatBoostRegressor object at 0x7fece083c430&gt;,\n",
       "             n_jobs=-1,\n",
       "             param_grid={&#x27;depth&#x27;: [4, 6, 8], &#x27;iterations&#x27;: [50, 100, 150],\n",
       "                         &#x27;learning_rate&#x27;: [0.01, 0.1, 0.2, 0.4]},\n",
       "             scoring=&#x27;neg_root_mean_squared_error&#x27;)</pre><b>In a Jupyter environment, please rerun this cell to show the HTML representation or trust the notebook. <br />On GitHub, the HTML representation is unable to render, please try loading this page with nbviewer.org.</b></div><div class=\"sk-container\" hidden><div class=\"sk-item sk-dashed-wrapped\"><div class=\"sk-label-container\"><div class=\"sk-label fitted sk-toggleable\"><input class=\"sk-toggleable__control sk-hidden--visually\" id=\"sk-estimator-id-1\" type=\"checkbox\" ><label for=\"sk-estimator-id-1\" class=\"sk-toggleable__label fitted sk-toggleable__label-arrow fitted\">&nbsp;&nbsp;GridSearchCV<a class=\"sk-estimator-doc-link fitted\" rel=\"noreferrer\" target=\"_blank\" href=\"https://scikit-learn.org/1.5/modules/generated/sklearn.model_selection.GridSearchCV.html\">?<span>Documentation for GridSearchCV</span></a><span class=\"sk-estimator-doc-link fitted\">i<span>Fitted</span></span></label><div class=\"sk-toggleable__content fitted\"><pre>GridSearchCV(cv=3,\n",
       "             estimator=&lt;catboost.core.CatBoostRegressor object at 0x7fece083c430&gt;,\n",
       "             n_jobs=-1,\n",
       "             param_grid={&#x27;depth&#x27;: [4, 6, 8], &#x27;iterations&#x27;: [50, 100, 150],\n",
       "                         &#x27;learning_rate&#x27;: [0.01, 0.1, 0.2, 0.4]},\n",
       "             scoring=&#x27;neg_root_mean_squared_error&#x27;)</pre></div> </div></div><div class=\"sk-parallel\"><div class=\"sk-parallel-item\"><div class=\"sk-item\"><div class=\"sk-label-container\"><div class=\"sk-label fitted sk-toggleable\"><input class=\"sk-toggleable__control sk-hidden--visually\" id=\"sk-estimator-id-2\" type=\"checkbox\" ><label for=\"sk-estimator-id-2\" class=\"sk-toggleable__label fitted sk-toggleable__label-arrow fitted\">best_estimator_: CatBoostRegressor</label><div class=\"sk-toggleable__content fitted\"><pre>&lt;catboost.core.CatBoostRegressor object at 0x7fec8e82df40&gt;</pre></div> </div></div><div class=\"sk-serial\"><div class=\"sk-item\"><div class=\"sk-estimator fitted sk-toggleable\"><input class=\"sk-toggleable__control sk-hidden--visually\" id=\"sk-estimator-id-3\" type=\"checkbox\" ><label for=\"sk-estimator-id-3\" class=\"sk-toggleable__label fitted sk-toggleable__label-arrow fitted\">CatBoostRegressor</label><div class=\"sk-toggleable__content fitted\"><pre>&lt;catboost.core.CatBoostRegressor object at 0x7fec8e82df40&gt;</pre></div> </div></div></div></div></div></div></div></div></div>"
      ],
      "text/plain": [
       "GridSearchCV(cv=3,\n",
       "             estimator=<catboost.core.CatBoostRegressor object at 0x7fece083c430>,\n",
       "             n_jobs=-1,\n",
       "             param_grid={'depth': [4, 6, 8], 'iterations': [50, 100, 150],\n",
       "                         'learning_rate': [0.01, 0.1, 0.2, 0.4]},\n",
       "             scoring='neg_root_mean_squared_error')"
      ]
     },
     "execution_count": 31,
     "metadata": {},
     "output_type": "execute_result"
    }
   ],
   "source": [
    "grid_search.fit(X_train, y_train)"
   ]
  },
  {
   "cell_type": "code",
   "execution_count": 32,
   "metadata": {},
   "outputs": [
    {
     "name": "stdout",
     "output_type": "stream",
     "text": [
      "RMSE лучшей модели CatBoost: 1558.4924921994564\n"
     ]
    }
   ],
   "source": [
    "print(f'RMSE лучшей модели CatBoost: {-grid_search.best_score_}')"
   ]
  },
  {
   "cell_type": "code",
   "execution_count": 33,
   "metadata": {},
   "outputs": [],
   "source": [
    "Cat_model = grid_search.best_estimator_"
   ]
  },
  {
   "cell_type": "code",
   "execution_count": 34,
   "metadata": {},
   "outputs": [],
   "source": [
    "best_index = grid_search.best_index_\n",
    "mean_fit_time = grid_search.cv_results_['mean_fit_time'][best_index]\n",
    "pred_time = grid_search.cv_results_['mean_score_time'][best_index]"
   ]
  },
  {
   "cell_type": "code",
   "execution_count": 35,
   "metadata": {},
   "outputs": [
    {
     "name": "stdout",
     "output_type": "stream",
     "text": [
      "Время обучения лучшей модели (секунды): 9.037674506505331\n",
      "Время предсказания лучшей модели (секунды): 0.10101850827534993\n"
     ]
    }
   ],
   "source": [
    "print(\"Время обучения лучшей модели (секунды):\", mean_fit_time)\n",
    "print(\"Время предсказания лучшей модели (секунды):\", pred_time)"
   ]
  },
  {
   "cell_type": "code",
   "execution_count": 36,
   "metadata": {},
   "outputs": [],
   "source": [
    "models = pd.DataFrame({\n",
    "    'model name': ['CatBoost'],\n",
    "    'hyperparameters': [grid_search.best_params_],\n",
    "    'RMSE': [round(-grid_search.best_score_, 2)],\n",
    "    'training time (s)': [round(mean_fit_time, 2)],\n",
    "    'prediction time (s)': [round(pred_time, 2)]\n",
    "})"
   ]
  },
  {
   "cell_type": "markdown",
   "metadata": {},
   "source": [
    "### LightGBM "
   ]
  },
  {
   "cell_type": "code",
   "execution_count": 37,
   "metadata": {},
   "outputs": [],
   "source": [
    "data_light = data.copy()"
   ]
  },
  {
   "cell_type": "code",
   "execution_count": 38,
   "metadata": {},
   "outputs": [],
   "source": [
    "data_light[cat_features] = data_light[cat_features].astype('category')"
   ]
  },
  {
   "cell_type": "code",
   "execution_count": 39,
   "metadata": {},
   "outputs": [],
   "source": [
    "X = data_light.drop('Price', axis=1)  \n",
    "y = data_light['Price']\n",
    "X_train, X_test, y_train, y_test = train_test_split(X, y, test_size=0.25, random_state=42)"
   ]
  },
  {
   "cell_type": "code",
   "execution_count": 40,
   "metadata": {},
   "outputs": [],
   "source": [
    "lgb_model = lgb.LGBMRegressor(objective='rmse')\n",
    "\n",
    "param_grid = {\n",
    "    'learning_rate': [0.1, 0.4],\n",
    "    'num_leaves': [5, 10],\n",
    "    'max_depth': [5, 10]\n",
    "}\n",
    "\n",
    "grid_search = GridSearchCV(estimator=lgb_model, param_grid=param_grid, scoring='neg_root_mean_squared_error', cv=2, n_jobs=-1, verbose=1)"
   ]
  },
  {
   "cell_type": "code",
   "execution_count": 41,
   "metadata": {},
   "outputs": [
    {
     "name": "stdout",
     "output_type": "stream",
     "text": [
      "Fitting 2 folds for each of 8 candidates, totalling 16 fits\n"
     ]
    },
    {
     "data": {
      "text/html": [
       "<style>#sk-container-id-2 {\n",
       "  /* Definition of color scheme common for light and dark mode */\n",
       "  --sklearn-color-text: black;\n",
       "  --sklearn-color-line: gray;\n",
       "  /* Definition of color scheme for unfitted estimators */\n",
       "  --sklearn-color-unfitted-level-0: #fff5e6;\n",
       "  --sklearn-color-unfitted-level-1: #f6e4d2;\n",
       "  --sklearn-color-unfitted-level-2: #ffe0b3;\n",
       "  --sklearn-color-unfitted-level-3: chocolate;\n",
       "  /* Definition of color scheme for fitted estimators */\n",
       "  --sklearn-color-fitted-level-0: #f0f8ff;\n",
       "  --sklearn-color-fitted-level-1: #d4ebff;\n",
       "  --sklearn-color-fitted-level-2: #b3dbfd;\n",
       "  --sklearn-color-fitted-level-3: cornflowerblue;\n",
       "\n",
       "  /* Specific color for light theme */\n",
       "  --sklearn-color-text-on-default-background: var(--sg-text-color, var(--theme-code-foreground, var(--jp-content-font-color1, black)));\n",
       "  --sklearn-color-background: var(--sg-background-color, var(--theme-background, var(--jp-layout-color0, white)));\n",
       "  --sklearn-color-border-box: var(--sg-text-color, var(--theme-code-foreground, var(--jp-content-font-color1, black)));\n",
       "  --sklearn-color-icon: #696969;\n",
       "\n",
       "  @media (prefers-color-scheme: dark) {\n",
       "    /* Redefinition of color scheme for dark theme */\n",
       "    --sklearn-color-text-on-default-background: var(--sg-text-color, var(--theme-code-foreground, var(--jp-content-font-color1, white)));\n",
       "    --sklearn-color-background: var(--sg-background-color, var(--theme-background, var(--jp-layout-color0, #111)));\n",
       "    --sklearn-color-border-box: var(--sg-text-color, var(--theme-code-foreground, var(--jp-content-font-color1, white)));\n",
       "    --sklearn-color-icon: #878787;\n",
       "  }\n",
       "}\n",
       "\n",
       "#sk-container-id-2 {\n",
       "  color: var(--sklearn-color-text);\n",
       "}\n",
       "\n",
       "#sk-container-id-2 pre {\n",
       "  padding: 0;\n",
       "}\n",
       "\n",
       "#sk-container-id-2 input.sk-hidden--visually {\n",
       "  border: 0;\n",
       "  clip: rect(1px 1px 1px 1px);\n",
       "  clip: rect(1px, 1px, 1px, 1px);\n",
       "  height: 1px;\n",
       "  margin: -1px;\n",
       "  overflow: hidden;\n",
       "  padding: 0;\n",
       "  position: absolute;\n",
       "  width: 1px;\n",
       "}\n",
       "\n",
       "#sk-container-id-2 div.sk-dashed-wrapped {\n",
       "  border: 1px dashed var(--sklearn-color-line);\n",
       "  margin: 0 0.4em 0.5em 0.4em;\n",
       "  box-sizing: border-box;\n",
       "  padding-bottom: 0.4em;\n",
       "  background-color: var(--sklearn-color-background);\n",
       "}\n",
       "\n",
       "#sk-container-id-2 div.sk-container {\n",
       "  /* jupyter's `normalize.less` sets `[hidden] { display: none; }`\n",
       "     but bootstrap.min.css set `[hidden] { display: none !important; }`\n",
       "     so we also need the `!important` here to be able to override the\n",
       "     default hidden behavior on the sphinx rendered scikit-learn.org.\n",
       "     See: https://github.com/scikit-learn/scikit-learn/issues/21755 */\n",
       "  display: inline-block !important;\n",
       "  position: relative;\n",
       "}\n",
       "\n",
       "#sk-container-id-2 div.sk-text-repr-fallback {\n",
       "  display: none;\n",
       "}\n",
       "\n",
       "div.sk-parallel-item,\n",
       "div.sk-serial,\n",
       "div.sk-item {\n",
       "  /* draw centered vertical line to link estimators */\n",
       "  background-image: linear-gradient(var(--sklearn-color-text-on-default-background), var(--sklearn-color-text-on-default-background));\n",
       "  background-size: 2px 100%;\n",
       "  background-repeat: no-repeat;\n",
       "  background-position: center center;\n",
       "}\n",
       "\n",
       "/* Parallel-specific style estimator block */\n",
       "\n",
       "#sk-container-id-2 div.sk-parallel-item::after {\n",
       "  content: \"\";\n",
       "  width: 100%;\n",
       "  border-bottom: 2px solid var(--sklearn-color-text-on-default-background);\n",
       "  flex-grow: 1;\n",
       "}\n",
       "\n",
       "#sk-container-id-2 div.sk-parallel {\n",
       "  display: flex;\n",
       "  align-items: stretch;\n",
       "  justify-content: center;\n",
       "  background-color: var(--sklearn-color-background);\n",
       "  position: relative;\n",
       "}\n",
       "\n",
       "#sk-container-id-2 div.sk-parallel-item {\n",
       "  display: flex;\n",
       "  flex-direction: column;\n",
       "}\n",
       "\n",
       "#sk-container-id-2 div.sk-parallel-item:first-child::after {\n",
       "  align-self: flex-end;\n",
       "  width: 50%;\n",
       "}\n",
       "\n",
       "#sk-container-id-2 div.sk-parallel-item:last-child::after {\n",
       "  align-self: flex-start;\n",
       "  width: 50%;\n",
       "}\n",
       "\n",
       "#sk-container-id-2 div.sk-parallel-item:only-child::after {\n",
       "  width: 0;\n",
       "}\n",
       "\n",
       "/* Serial-specific style estimator block */\n",
       "\n",
       "#sk-container-id-2 div.sk-serial {\n",
       "  display: flex;\n",
       "  flex-direction: column;\n",
       "  align-items: center;\n",
       "  background-color: var(--sklearn-color-background);\n",
       "  padding-right: 1em;\n",
       "  padding-left: 1em;\n",
       "}\n",
       "\n",
       "\n",
       "/* Toggleable style: style used for estimator/Pipeline/ColumnTransformer box that is\n",
       "clickable and can be expanded/collapsed.\n",
       "- Pipeline and ColumnTransformer use this feature and define the default style\n",
       "- Estimators will overwrite some part of the style using the `sk-estimator` class\n",
       "*/\n",
       "\n",
       "/* Pipeline and ColumnTransformer style (default) */\n",
       "\n",
       "#sk-container-id-2 div.sk-toggleable {\n",
       "  /* Default theme specific background. It is overwritten whether we have a\n",
       "  specific estimator or a Pipeline/ColumnTransformer */\n",
       "  background-color: var(--sklearn-color-background);\n",
       "}\n",
       "\n",
       "/* Toggleable label */\n",
       "#sk-container-id-2 label.sk-toggleable__label {\n",
       "  cursor: pointer;\n",
       "  display: block;\n",
       "  width: 100%;\n",
       "  margin-bottom: 0;\n",
       "  padding: 0.5em;\n",
       "  box-sizing: border-box;\n",
       "  text-align: center;\n",
       "}\n",
       "\n",
       "#sk-container-id-2 label.sk-toggleable__label-arrow:before {\n",
       "  /* Arrow on the left of the label */\n",
       "  content: \"▸\";\n",
       "  float: left;\n",
       "  margin-right: 0.25em;\n",
       "  color: var(--sklearn-color-icon);\n",
       "}\n",
       "\n",
       "#sk-container-id-2 label.sk-toggleable__label-arrow:hover:before {\n",
       "  color: var(--sklearn-color-text);\n",
       "}\n",
       "\n",
       "/* Toggleable content - dropdown */\n",
       "\n",
       "#sk-container-id-2 div.sk-toggleable__content {\n",
       "  max-height: 0;\n",
       "  max-width: 0;\n",
       "  overflow: hidden;\n",
       "  text-align: left;\n",
       "  /* unfitted */\n",
       "  background-color: var(--sklearn-color-unfitted-level-0);\n",
       "}\n",
       "\n",
       "#sk-container-id-2 div.sk-toggleable__content.fitted {\n",
       "  /* fitted */\n",
       "  background-color: var(--sklearn-color-fitted-level-0);\n",
       "}\n",
       "\n",
       "#sk-container-id-2 div.sk-toggleable__content pre {\n",
       "  margin: 0.2em;\n",
       "  border-radius: 0.25em;\n",
       "  color: var(--sklearn-color-text);\n",
       "  /* unfitted */\n",
       "  background-color: var(--sklearn-color-unfitted-level-0);\n",
       "}\n",
       "\n",
       "#sk-container-id-2 div.sk-toggleable__content.fitted pre {\n",
       "  /* unfitted */\n",
       "  background-color: var(--sklearn-color-fitted-level-0);\n",
       "}\n",
       "\n",
       "#sk-container-id-2 input.sk-toggleable__control:checked~div.sk-toggleable__content {\n",
       "  /* Expand drop-down */\n",
       "  max-height: 200px;\n",
       "  max-width: 100%;\n",
       "  overflow: auto;\n",
       "}\n",
       "\n",
       "#sk-container-id-2 input.sk-toggleable__control:checked~label.sk-toggleable__label-arrow:before {\n",
       "  content: \"▾\";\n",
       "}\n",
       "\n",
       "/* Pipeline/ColumnTransformer-specific style */\n",
       "\n",
       "#sk-container-id-2 div.sk-label input.sk-toggleable__control:checked~label.sk-toggleable__label {\n",
       "  color: var(--sklearn-color-text);\n",
       "  background-color: var(--sklearn-color-unfitted-level-2);\n",
       "}\n",
       "\n",
       "#sk-container-id-2 div.sk-label.fitted input.sk-toggleable__control:checked~label.sk-toggleable__label {\n",
       "  background-color: var(--sklearn-color-fitted-level-2);\n",
       "}\n",
       "\n",
       "/* Estimator-specific style */\n",
       "\n",
       "/* Colorize estimator box */\n",
       "#sk-container-id-2 div.sk-estimator input.sk-toggleable__control:checked~label.sk-toggleable__label {\n",
       "  /* unfitted */\n",
       "  background-color: var(--sklearn-color-unfitted-level-2);\n",
       "}\n",
       "\n",
       "#sk-container-id-2 div.sk-estimator.fitted input.sk-toggleable__control:checked~label.sk-toggleable__label {\n",
       "  /* fitted */\n",
       "  background-color: var(--sklearn-color-fitted-level-2);\n",
       "}\n",
       "\n",
       "#sk-container-id-2 div.sk-label label.sk-toggleable__label,\n",
       "#sk-container-id-2 div.sk-label label {\n",
       "  /* The background is the default theme color */\n",
       "  color: var(--sklearn-color-text-on-default-background);\n",
       "}\n",
       "\n",
       "/* On hover, darken the color of the background */\n",
       "#sk-container-id-2 div.sk-label:hover label.sk-toggleable__label {\n",
       "  color: var(--sklearn-color-text);\n",
       "  background-color: var(--sklearn-color-unfitted-level-2);\n",
       "}\n",
       "\n",
       "/* Label box, darken color on hover, fitted */\n",
       "#sk-container-id-2 div.sk-label.fitted:hover label.sk-toggleable__label.fitted {\n",
       "  color: var(--sklearn-color-text);\n",
       "  background-color: var(--sklearn-color-fitted-level-2);\n",
       "}\n",
       "\n",
       "/* Estimator label */\n",
       "\n",
       "#sk-container-id-2 div.sk-label label {\n",
       "  font-family: monospace;\n",
       "  font-weight: bold;\n",
       "  display: inline-block;\n",
       "  line-height: 1.2em;\n",
       "}\n",
       "\n",
       "#sk-container-id-2 div.sk-label-container {\n",
       "  text-align: center;\n",
       "}\n",
       "\n",
       "/* Estimator-specific */\n",
       "#sk-container-id-2 div.sk-estimator {\n",
       "  font-family: monospace;\n",
       "  border: 1px dotted var(--sklearn-color-border-box);\n",
       "  border-radius: 0.25em;\n",
       "  box-sizing: border-box;\n",
       "  margin-bottom: 0.5em;\n",
       "  /* unfitted */\n",
       "  background-color: var(--sklearn-color-unfitted-level-0);\n",
       "}\n",
       "\n",
       "#sk-container-id-2 div.sk-estimator.fitted {\n",
       "  /* fitted */\n",
       "  background-color: var(--sklearn-color-fitted-level-0);\n",
       "}\n",
       "\n",
       "/* on hover */\n",
       "#sk-container-id-2 div.sk-estimator:hover {\n",
       "  /* unfitted */\n",
       "  background-color: var(--sklearn-color-unfitted-level-2);\n",
       "}\n",
       "\n",
       "#sk-container-id-2 div.sk-estimator.fitted:hover {\n",
       "  /* fitted */\n",
       "  background-color: var(--sklearn-color-fitted-level-2);\n",
       "}\n",
       "\n",
       "/* Specification for estimator info (e.g. \"i\" and \"?\") */\n",
       "\n",
       "/* Common style for \"i\" and \"?\" */\n",
       "\n",
       ".sk-estimator-doc-link,\n",
       "a:link.sk-estimator-doc-link,\n",
       "a:visited.sk-estimator-doc-link {\n",
       "  float: right;\n",
       "  font-size: smaller;\n",
       "  line-height: 1em;\n",
       "  font-family: monospace;\n",
       "  background-color: var(--sklearn-color-background);\n",
       "  border-radius: 1em;\n",
       "  height: 1em;\n",
       "  width: 1em;\n",
       "  text-decoration: none !important;\n",
       "  margin-left: 1ex;\n",
       "  /* unfitted */\n",
       "  border: var(--sklearn-color-unfitted-level-1) 1pt solid;\n",
       "  color: var(--sklearn-color-unfitted-level-1);\n",
       "}\n",
       "\n",
       ".sk-estimator-doc-link.fitted,\n",
       "a:link.sk-estimator-doc-link.fitted,\n",
       "a:visited.sk-estimator-doc-link.fitted {\n",
       "  /* fitted */\n",
       "  border: var(--sklearn-color-fitted-level-1) 1pt solid;\n",
       "  color: var(--sklearn-color-fitted-level-1);\n",
       "}\n",
       "\n",
       "/* On hover */\n",
       "div.sk-estimator:hover .sk-estimator-doc-link:hover,\n",
       ".sk-estimator-doc-link:hover,\n",
       "div.sk-label-container:hover .sk-estimator-doc-link:hover,\n",
       ".sk-estimator-doc-link:hover {\n",
       "  /* unfitted */\n",
       "  background-color: var(--sklearn-color-unfitted-level-3);\n",
       "  color: var(--sklearn-color-background);\n",
       "  text-decoration: none;\n",
       "}\n",
       "\n",
       "div.sk-estimator.fitted:hover .sk-estimator-doc-link.fitted:hover,\n",
       ".sk-estimator-doc-link.fitted:hover,\n",
       "div.sk-label-container:hover .sk-estimator-doc-link.fitted:hover,\n",
       ".sk-estimator-doc-link.fitted:hover {\n",
       "  /* fitted */\n",
       "  background-color: var(--sklearn-color-fitted-level-3);\n",
       "  color: var(--sklearn-color-background);\n",
       "  text-decoration: none;\n",
       "}\n",
       "\n",
       "/* Span, style for the box shown on hovering the info icon */\n",
       ".sk-estimator-doc-link span {\n",
       "  display: none;\n",
       "  z-index: 9999;\n",
       "  position: relative;\n",
       "  font-weight: normal;\n",
       "  right: .2ex;\n",
       "  padding: .5ex;\n",
       "  margin: .5ex;\n",
       "  width: min-content;\n",
       "  min-width: 20ex;\n",
       "  max-width: 50ex;\n",
       "  color: var(--sklearn-color-text);\n",
       "  box-shadow: 2pt 2pt 4pt #999;\n",
       "  /* unfitted */\n",
       "  background: var(--sklearn-color-unfitted-level-0);\n",
       "  border: .5pt solid var(--sklearn-color-unfitted-level-3);\n",
       "}\n",
       "\n",
       ".sk-estimator-doc-link.fitted span {\n",
       "  /* fitted */\n",
       "  background: var(--sklearn-color-fitted-level-0);\n",
       "  border: var(--sklearn-color-fitted-level-3);\n",
       "}\n",
       "\n",
       ".sk-estimator-doc-link:hover span {\n",
       "  display: block;\n",
       "}\n",
       "\n",
       "/* \"?\"-specific style due to the `<a>` HTML tag */\n",
       "\n",
       "#sk-container-id-2 a.estimator_doc_link {\n",
       "  float: right;\n",
       "  font-size: 1rem;\n",
       "  line-height: 1em;\n",
       "  font-family: monospace;\n",
       "  background-color: var(--sklearn-color-background);\n",
       "  border-radius: 1rem;\n",
       "  height: 1rem;\n",
       "  width: 1rem;\n",
       "  text-decoration: none;\n",
       "  /* unfitted */\n",
       "  color: var(--sklearn-color-unfitted-level-1);\n",
       "  border: var(--sklearn-color-unfitted-level-1) 1pt solid;\n",
       "}\n",
       "\n",
       "#sk-container-id-2 a.estimator_doc_link.fitted {\n",
       "  /* fitted */\n",
       "  border: var(--sklearn-color-fitted-level-1) 1pt solid;\n",
       "  color: var(--sklearn-color-fitted-level-1);\n",
       "}\n",
       "\n",
       "/* On hover */\n",
       "#sk-container-id-2 a.estimator_doc_link:hover {\n",
       "  /* unfitted */\n",
       "  background-color: var(--sklearn-color-unfitted-level-3);\n",
       "  color: var(--sklearn-color-background);\n",
       "  text-decoration: none;\n",
       "}\n",
       "\n",
       "#sk-container-id-2 a.estimator_doc_link.fitted:hover {\n",
       "  /* fitted */\n",
       "  background-color: var(--sklearn-color-fitted-level-3);\n",
       "}\n",
       "</style><div id=\"sk-container-id-2\" class=\"sk-top-container\"><div class=\"sk-text-repr-fallback\"><pre>GridSearchCV(cv=2, estimator=LGBMRegressor(objective=&#x27;rmse&#x27;), n_jobs=-1,\n",
       "             param_grid={&#x27;learning_rate&#x27;: [0.1, 0.4], &#x27;max_depth&#x27;: [5, 10],\n",
       "                         &#x27;num_leaves&#x27;: [5, 10]},\n",
       "             scoring=&#x27;neg_root_mean_squared_error&#x27;, verbose=1)</pre><b>In a Jupyter environment, please rerun this cell to show the HTML representation or trust the notebook. <br />On GitHub, the HTML representation is unable to render, please try loading this page with nbviewer.org.</b></div><div class=\"sk-container\" hidden><div class=\"sk-item sk-dashed-wrapped\"><div class=\"sk-label-container\"><div class=\"sk-label fitted sk-toggleable\"><input class=\"sk-toggleable__control sk-hidden--visually\" id=\"sk-estimator-id-4\" type=\"checkbox\" ><label for=\"sk-estimator-id-4\" class=\"sk-toggleable__label fitted sk-toggleable__label-arrow fitted\">&nbsp;&nbsp;GridSearchCV<a class=\"sk-estimator-doc-link fitted\" rel=\"noreferrer\" target=\"_blank\" href=\"https://scikit-learn.org/1.5/modules/generated/sklearn.model_selection.GridSearchCV.html\">?<span>Documentation for GridSearchCV</span></a><span class=\"sk-estimator-doc-link fitted\">i<span>Fitted</span></span></label><div class=\"sk-toggleable__content fitted\"><pre>GridSearchCV(cv=2, estimator=LGBMRegressor(objective=&#x27;rmse&#x27;), n_jobs=-1,\n",
       "             param_grid={&#x27;learning_rate&#x27;: [0.1, 0.4], &#x27;max_depth&#x27;: [5, 10],\n",
       "                         &#x27;num_leaves&#x27;: [5, 10]},\n",
       "             scoring=&#x27;neg_root_mean_squared_error&#x27;, verbose=1)</pre></div> </div></div><div class=\"sk-parallel\"><div class=\"sk-parallel-item\"><div class=\"sk-item\"><div class=\"sk-label-container\"><div class=\"sk-label fitted sk-toggleable\"><input class=\"sk-toggleable__control sk-hidden--visually\" id=\"sk-estimator-id-5\" type=\"checkbox\" ><label for=\"sk-estimator-id-5\" class=\"sk-toggleable__label fitted sk-toggleable__label-arrow fitted\">best_estimator_: LGBMRegressor</label><div class=\"sk-toggleable__content fitted\"><pre>LGBMRegressor(learning_rate=0.4, max_depth=10, num_leaves=10, objective=&#x27;rmse&#x27;)</pre></div> </div></div><div class=\"sk-serial\"><div class=\"sk-item\"><div class=\"sk-estimator fitted sk-toggleable\"><input class=\"sk-toggleable__control sk-hidden--visually\" id=\"sk-estimator-id-6\" type=\"checkbox\" ><label for=\"sk-estimator-id-6\" class=\"sk-toggleable__label fitted sk-toggleable__label-arrow fitted\">LGBMRegressor</label><div class=\"sk-toggleable__content fitted\"><pre>LGBMRegressor(learning_rate=0.4, max_depth=10, num_leaves=10, objective=&#x27;rmse&#x27;)</pre></div> </div></div></div></div></div></div></div></div></div>"
      ],
      "text/plain": [
       "GridSearchCV(cv=2, estimator=LGBMRegressor(objective='rmse'), n_jobs=-1,\n",
       "             param_grid={'learning_rate': [0.1, 0.4], 'max_depth': [5, 10],\n",
       "                         'num_leaves': [5, 10]},\n",
       "             scoring='neg_root_mean_squared_error', verbose=1)"
      ]
     },
     "execution_count": 41,
     "metadata": {},
     "output_type": "execute_result"
    }
   ],
   "source": [
    "grid_search.fit(X_train, y_train, categorical_feature=cat_features)"
   ]
  },
  {
   "cell_type": "code",
   "execution_count": 42,
   "metadata": {},
   "outputs": [
    {
     "name": "stdout",
     "output_type": "stream",
     "text": [
      "RMSE лучшей модели LightGBM: 1595.2483882799897\n"
     ]
    }
   ],
   "source": [
    "print(f'RMSE лучшей модели LightGBM: {-grid_search.best_score_}')"
   ]
  },
  {
   "cell_type": "code",
   "execution_count": 43,
   "metadata": {},
   "outputs": [
    {
     "data": {
      "text/html": [
       "<style>#sk-container-id-3 {\n",
       "  /* Definition of color scheme common for light and dark mode */\n",
       "  --sklearn-color-text: black;\n",
       "  --sklearn-color-line: gray;\n",
       "  /* Definition of color scheme for unfitted estimators */\n",
       "  --sklearn-color-unfitted-level-0: #fff5e6;\n",
       "  --sklearn-color-unfitted-level-1: #f6e4d2;\n",
       "  --sklearn-color-unfitted-level-2: #ffe0b3;\n",
       "  --sklearn-color-unfitted-level-3: chocolate;\n",
       "  /* Definition of color scheme for fitted estimators */\n",
       "  --sklearn-color-fitted-level-0: #f0f8ff;\n",
       "  --sklearn-color-fitted-level-1: #d4ebff;\n",
       "  --sklearn-color-fitted-level-2: #b3dbfd;\n",
       "  --sklearn-color-fitted-level-3: cornflowerblue;\n",
       "\n",
       "  /* Specific color for light theme */\n",
       "  --sklearn-color-text-on-default-background: var(--sg-text-color, var(--theme-code-foreground, var(--jp-content-font-color1, black)));\n",
       "  --sklearn-color-background: var(--sg-background-color, var(--theme-background, var(--jp-layout-color0, white)));\n",
       "  --sklearn-color-border-box: var(--sg-text-color, var(--theme-code-foreground, var(--jp-content-font-color1, black)));\n",
       "  --sklearn-color-icon: #696969;\n",
       "\n",
       "  @media (prefers-color-scheme: dark) {\n",
       "    /* Redefinition of color scheme for dark theme */\n",
       "    --sklearn-color-text-on-default-background: var(--sg-text-color, var(--theme-code-foreground, var(--jp-content-font-color1, white)));\n",
       "    --sklearn-color-background: var(--sg-background-color, var(--theme-background, var(--jp-layout-color0, #111)));\n",
       "    --sklearn-color-border-box: var(--sg-text-color, var(--theme-code-foreground, var(--jp-content-font-color1, white)));\n",
       "    --sklearn-color-icon: #878787;\n",
       "  }\n",
       "}\n",
       "\n",
       "#sk-container-id-3 {\n",
       "  color: var(--sklearn-color-text);\n",
       "}\n",
       "\n",
       "#sk-container-id-3 pre {\n",
       "  padding: 0;\n",
       "}\n",
       "\n",
       "#sk-container-id-3 input.sk-hidden--visually {\n",
       "  border: 0;\n",
       "  clip: rect(1px 1px 1px 1px);\n",
       "  clip: rect(1px, 1px, 1px, 1px);\n",
       "  height: 1px;\n",
       "  margin: -1px;\n",
       "  overflow: hidden;\n",
       "  padding: 0;\n",
       "  position: absolute;\n",
       "  width: 1px;\n",
       "}\n",
       "\n",
       "#sk-container-id-3 div.sk-dashed-wrapped {\n",
       "  border: 1px dashed var(--sklearn-color-line);\n",
       "  margin: 0 0.4em 0.5em 0.4em;\n",
       "  box-sizing: border-box;\n",
       "  padding-bottom: 0.4em;\n",
       "  background-color: var(--sklearn-color-background);\n",
       "}\n",
       "\n",
       "#sk-container-id-3 div.sk-container {\n",
       "  /* jupyter's `normalize.less` sets `[hidden] { display: none; }`\n",
       "     but bootstrap.min.css set `[hidden] { display: none !important; }`\n",
       "     so we also need the `!important` here to be able to override the\n",
       "     default hidden behavior on the sphinx rendered scikit-learn.org.\n",
       "     See: https://github.com/scikit-learn/scikit-learn/issues/21755 */\n",
       "  display: inline-block !important;\n",
       "  position: relative;\n",
       "}\n",
       "\n",
       "#sk-container-id-3 div.sk-text-repr-fallback {\n",
       "  display: none;\n",
       "}\n",
       "\n",
       "div.sk-parallel-item,\n",
       "div.sk-serial,\n",
       "div.sk-item {\n",
       "  /* draw centered vertical line to link estimators */\n",
       "  background-image: linear-gradient(var(--sklearn-color-text-on-default-background), var(--sklearn-color-text-on-default-background));\n",
       "  background-size: 2px 100%;\n",
       "  background-repeat: no-repeat;\n",
       "  background-position: center center;\n",
       "}\n",
       "\n",
       "/* Parallel-specific style estimator block */\n",
       "\n",
       "#sk-container-id-3 div.sk-parallel-item::after {\n",
       "  content: \"\";\n",
       "  width: 100%;\n",
       "  border-bottom: 2px solid var(--sklearn-color-text-on-default-background);\n",
       "  flex-grow: 1;\n",
       "}\n",
       "\n",
       "#sk-container-id-3 div.sk-parallel {\n",
       "  display: flex;\n",
       "  align-items: stretch;\n",
       "  justify-content: center;\n",
       "  background-color: var(--sklearn-color-background);\n",
       "  position: relative;\n",
       "}\n",
       "\n",
       "#sk-container-id-3 div.sk-parallel-item {\n",
       "  display: flex;\n",
       "  flex-direction: column;\n",
       "}\n",
       "\n",
       "#sk-container-id-3 div.sk-parallel-item:first-child::after {\n",
       "  align-self: flex-end;\n",
       "  width: 50%;\n",
       "}\n",
       "\n",
       "#sk-container-id-3 div.sk-parallel-item:last-child::after {\n",
       "  align-self: flex-start;\n",
       "  width: 50%;\n",
       "}\n",
       "\n",
       "#sk-container-id-3 div.sk-parallel-item:only-child::after {\n",
       "  width: 0;\n",
       "}\n",
       "\n",
       "/* Serial-specific style estimator block */\n",
       "\n",
       "#sk-container-id-3 div.sk-serial {\n",
       "  display: flex;\n",
       "  flex-direction: column;\n",
       "  align-items: center;\n",
       "  background-color: var(--sklearn-color-background);\n",
       "  padding-right: 1em;\n",
       "  padding-left: 1em;\n",
       "}\n",
       "\n",
       "\n",
       "/* Toggleable style: style used for estimator/Pipeline/ColumnTransformer box that is\n",
       "clickable and can be expanded/collapsed.\n",
       "- Pipeline and ColumnTransformer use this feature and define the default style\n",
       "- Estimators will overwrite some part of the style using the `sk-estimator` class\n",
       "*/\n",
       "\n",
       "/* Pipeline and ColumnTransformer style (default) */\n",
       "\n",
       "#sk-container-id-3 div.sk-toggleable {\n",
       "  /* Default theme specific background. It is overwritten whether we have a\n",
       "  specific estimator or a Pipeline/ColumnTransformer */\n",
       "  background-color: var(--sklearn-color-background);\n",
       "}\n",
       "\n",
       "/* Toggleable label */\n",
       "#sk-container-id-3 label.sk-toggleable__label {\n",
       "  cursor: pointer;\n",
       "  display: block;\n",
       "  width: 100%;\n",
       "  margin-bottom: 0;\n",
       "  padding: 0.5em;\n",
       "  box-sizing: border-box;\n",
       "  text-align: center;\n",
       "}\n",
       "\n",
       "#sk-container-id-3 label.sk-toggleable__label-arrow:before {\n",
       "  /* Arrow on the left of the label */\n",
       "  content: \"▸\";\n",
       "  float: left;\n",
       "  margin-right: 0.25em;\n",
       "  color: var(--sklearn-color-icon);\n",
       "}\n",
       "\n",
       "#sk-container-id-3 label.sk-toggleable__label-arrow:hover:before {\n",
       "  color: var(--sklearn-color-text);\n",
       "}\n",
       "\n",
       "/* Toggleable content - dropdown */\n",
       "\n",
       "#sk-container-id-3 div.sk-toggleable__content {\n",
       "  max-height: 0;\n",
       "  max-width: 0;\n",
       "  overflow: hidden;\n",
       "  text-align: left;\n",
       "  /* unfitted */\n",
       "  background-color: var(--sklearn-color-unfitted-level-0);\n",
       "}\n",
       "\n",
       "#sk-container-id-3 div.sk-toggleable__content.fitted {\n",
       "  /* fitted */\n",
       "  background-color: var(--sklearn-color-fitted-level-0);\n",
       "}\n",
       "\n",
       "#sk-container-id-3 div.sk-toggleable__content pre {\n",
       "  margin: 0.2em;\n",
       "  border-radius: 0.25em;\n",
       "  color: var(--sklearn-color-text);\n",
       "  /* unfitted */\n",
       "  background-color: var(--sklearn-color-unfitted-level-0);\n",
       "}\n",
       "\n",
       "#sk-container-id-3 div.sk-toggleable__content.fitted pre {\n",
       "  /* unfitted */\n",
       "  background-color: var(--sklearn-color-fitted-level-0);\n",
       "}\n",
       "\n",
       "#sk-container-id-3 input.sk-toggleable__control:checked~div.sk-toggleable__content {\n",
       "  /* Expand drop-down */\n",
       "  max-height: 200px;\n",
       "  max-width: 100%;\n",
       "  overflow: auto;\n",
       "}\n",
       "\n",
       "#sk-container-id-3 input.sk-toggleable__control:checked~label.sk-toggleable__label-arrow:before {\n",
       "  content: \"▾\";\n",
       "}\n",
       "\n",
       "/* Pipeline/ColumnTransformer-specific style */\n",
       "\n",
       "#sk-container-id-3 div.sk-label input.sk-toggleable__control:checked~label.sk-toggleable__label {\n",
       "  color: var(--sklearn-color-text);\n",
       "  background-color: var(--sklearn-color-unfitted-level-2);\n",
       "}\n",
       "\n",
       "#sk-container-id-3 div.sk-label.fitted input.sk-toggleable__control:checked~label.sk-toggleable__label {\n",
       "  background-color: var(--sklearn-color-fitted-level-2);\n",
       "}\n",
       "\n",
       "/* Estimator-specific style */\n",
       "\n",
       "/* Colorize estimator box */\n",
       "#sk-container-id-3 div.sk-estimator input.sk-toggleable__control:checked~label.sk-toggleable__label {\n",
       "  /* unfitted */\n",
       "  background-color: var(--sklearn-color-unfitted-level-2);\n",
       "}\n",
       "\n",
       "#sk-container-id-3 div.sk-estimator.fitted input.sk-toggleable__control:checked~label.sk-toggleable__label {\n",
       "  /* fitted */\n",
       "  background-color: var(--sklearn-color-fitted-level-2);\n",
       "}\n",
       "\n",
       "#sk-container-id-3 div.sk-label label.sk-toggleable__label,\n",
       "#sk-container-id-3 div.sk-label label {\n",
       "  /* The background is the default theme color */\n",
       "  color: var(--sklearn-color-text-on-default-background);\n",
       "}\n",
       "\n",
       "/* On hover, darken the color of the background */\n",
       "#sk-container-id-3 div.sk-label:hover label.sk-toggleable__label {\n",
       "  color: var(--sklearn-color-text);\n",
       "  background-color: var(--sklearn-color-unfitted-level-2);\n",
       "}\n",
       "\n",
       "/* Label box, darken color on hover, fitted */\n",
       "#sk-container-id-3 div.sk-label.fitted:hover label.sk-toggleable__label.fitted {\n",
       "  color: var(--sklearn-color-text);\n",
       "  background-color: var(--sklearn-color-fitted-level-2);\n",
       "}\n",
       "\n",
       "/* Estimator label */\n",
       "\n",
       "#sk-container-id-3 div.sk-label label {\n",
       "  font-family: monospace;\n",
       "  font-weight: bold;\n",
       "  display: inline-block;\n",
       "  line-height: 1.2em;\n",
       "}\n",
       "\n",
       "#sk-container-id-3 div.sk-label-container {\n",
       "  text-align: center;\n",
       "}\n",
       "\n",
       "/* Estimator-specific */\n",
       "#sk-container-id-3 div.sk-estimator {\n",
       "  font-family: monospace;\n",
       "  border: 1px dotted var(--sklearn-color-border-box);\n",
       "  border-radius: 0.25em;\n",
       "  box-sizing: border-box;\n",
       "  margin-bottom: 0.5em;\n",
       "  /* unfitted */\n",
       "  background-color: var(--sklearn-color-unfitted-level-0);\n",
       "}\n",
       "\n",
       "#sk-container-id-3 div.sk-estimator.fitted {\n",
       "  /* fitted */\n",
       "  background-color: var(--sklearn-color-fitted-level-0);\n",
       "}\n",
       "\n",
       "/* on hover */\n",
       "#sk-container-id-3 div.sk-estimator:hover {\n",
       "  /* unfitted */\n",
       "  background-color: var(--sklearn-color-unfitted-level-2);\n",
       "}\n",
       "\n",
       "#sk-container-id-3 div.sk-estimator.fitted:hover {\n",
       "  /* fitted */\n",
       "  background-color: var(--sklearn-color-fitted-level-2);\n",
       "}\n",
       "\n",
       "/* Specification for estimator info (e.g. \"i\" and \"?\") */\n",
       "\n",
       "/* Common style for \"i\" and \"?\" */\n",
       "\n",
       ".sk-estimator-doc-link,\n",
       "a:link.sk-estimator-doc-link,\n",
       "a:visited.sk-estimator-doc-link {\n",
       "  float: right;\n",
       "  font-size: smaller;\n",
       "  line-height: 1em;\n",
       "  font-family: monospace;\n",
       "  background-color: var(--sklearn-color-background);\n",
       "  border-radius: 1em;\n",
       "  height: 1em;\n",
       "  width: 1em;\n",
       "  text-decoration: none !important;\n",
       "  margin-left: 1ex;\n",
       "  /* unfitted */\n",
       "  border: var(--sklearn-color-unfitted-level-1) 1pt solid;\n",
       "  color: var(--sklearn-color-unfitted-level-1);\n",
       "}\n",
       "\n",
       ".sk-estimator-doc-link.fitted,\n",
       "a:link.sk-estimator-doc-link.fitted,\n",
       "a:visited.sk-estimator-doc-link.fitted {\n",
       "  /* fitted */\n",
       "  border: var(--sklearn-color-fitted-level-1) 1pt solid;\n",
       "  color: var(--sklearn-color-fitted-level-1);\n",
       "}\n",
       "\n",
       "/* On hover */\n",
       "div.sk-estimator:hover .sk-estimator-doc-link:hover,\n",
       ".sk-estimator-doc-link:hover,\n",
       "div.sk-label-container:hover .sk-estimator-doc-link:hover,\n",
       ".sk-estimator-doc-link:hover {\n",
       "  /* unfitted */\n",
       "  background-color: var(--sklearn-color-unfitted-level-3);\n",
       "  color: var(--sklearn-color-background);\n",
       "  text-decoration: none;\n",
       "}\n",
       "\n",
       "div.sk-estimator.fitted:hover .sk-estimator-doc-link.fitted:hover,\n",
       ".sk-estimator-doc-link.fitted:hover,\n",
       "div.sk-label-container:hover .sk-estimator-doc-link.fitted:hover,\n",
       ".sk-estimator-doc-link.fitted:hover {\n",
       "  /* fitted */\n",
       "  background-color: var(--sklearn-color-fitted-level-3);\n",
       "  color: var(--sklearn-color-background);\n",
       "  text-decoration: none;\n",
       "}\n",
       "\n",
       "/* Span, style for the box shown on hovering the info icon */\n",
       ".sk-estimator-doc-link span {\n",
       "  display: none;\n",
       "  z-index: 9999;\n",
       "  position: relative;\n",
       "  font-weight: normal;\n",
       "  right: .2ex;\n",
       "  padding: .5ex;\n",
       "  margin: .5ex;\n",
       "  width: min-content;\n",
       "  min-width: 20ex;\n",
       "  max-width: 50ex;\n",
       "  color: var(--sklearn-color-text);\n",
       "  box-shadow: 2pt 2pt 4pt #999;\n",
       "  /* unfitted */\n",
       "  background: var(--sklearn-color-unfitted-level-0);\n",
       "  border: .5pt solid var(--sklearn-color-unfitted-level-3);\n",
       "}\n",
       "\n",
       ".sk-estimator-doc-link.fitted span {\n",
       "  /* fitted */\n",
       "  background: var(--sklearn-color-fitted-level-0);\n",
       "  border: var(--sklearn-color-fitted-level-3);\n",
       "}\n",
       "\n",
       ".sk-estimator-doc-link:hover span {\n",
       "  display: block;\n",
       "}\n",
       "\n",
       "/* \"?\"-specific style due to the `<a>` HTML tag */\n",
       "\n",
       "#sk-container-id-3 a.estimator_doc_link {\n",
       "  float: right;\n",
       "  font-size: 1rem;\n",
       "  line-height: 1em;\n",
       "  font-family: monospace;\n",
       "  background-color: var(--sklearn-color-background);\n",
       "  border-radius: 1rem;\n",
       "  height: 1rem;\n",
       "  width: 1rem;\n",
       "  text-decoration: none;\n",
       "  /* unfitted */\n",
       "  color: var(--sklearn-color-unfitted-level-1);\n",
       "  border: var(--sklearn-color-unfitted-level-1) 1pt solid;\n",
       "}\n",
       "\n",
       "#sk-container-id-3 a.estimator_doc_link.fitted {\n",
       "  /* fitted */\n",
       "  border: var(--sklearn-color-fitted-level-1) 1pt solid;\n",
       "  color: var(--sklearn-color-fitted-level-1);\n",
       "}\n",
       "\n",
       "/* On hover */\n",
       "#sk-container-id-3 a.estimator_doc_link:hover {\n",
       "  /* unfitted */\n",
       "  background-color: var(--sklearn-color-unfitted-level-3);\n",
       "  color: var(--sklearn-color-background);\n",
       "  text-decoration: none;\n",
       "}\n",
       "\n",
       "#sk-container-id-3 a.estimator_doc_link.fitted:hover {\n",
       "  /* fitted */\n",
       "  background-color: var(--sklearn-color-fitted-level-3);\n",
       "}\n",
       "</style><div id=\"sk-container-id-3\" class=\"sk-top-container\"><div class=\"sk-text-repr-fallback\"><pre>LGBMRegressor(learning_rate=0.4, max_depth=10, num_leaves=10, objective=&#x27;rmse&#x27;)</pre><b>In a Jupyter environment, please rerun this cell to show the HTML representation or trust the notebook. <br />On GitHub, the HTML representation is unable to render, please try loading this page with nbviewer.org.</b></div><div class=\"sk-container\" hidden><div class=\"sk-item\"><div class=\"sk-estimator fitted sk-toggleable\"><input class=\"sk-toggleable__control sk-hidden--visually\" id=\"sk-estimator-id-7\" type=\"checkbox\" checked><label for=\"sk-estimator-id-7\" class=\"sk-toggleable__label fitted sk-toggleable__label-arrow fitted\">&nbsp;LGBMRegressor<span class=\"sk-estimator-doc-link fitted\">i<span>Fitted</span></span></label><div class=\"sk-toggleable__content fitted\"><pre>LGBMRegressor(learning_rate=0.4, max_depth=10, num_leaves=10, objective=&#x27;rmse&#x27;)</pre></div> </div></div></div></div>"
      ],
      "text/plain": [
       "LGBMRegressor(learning_rate=0.4, max_depth=10, num_leaves=10, objective='rmse')"
      ]
     },
     "execution_count": 43,
     "metadata": {},
     "output_type": "execute_result"
    }
   ],
   "source": [
    "lgb_model = grid_search.best_estimator_\n",
    "lgb_model"
   ]
  },
  {
   "cell_type": "code",
   "execution_count": 44,
   "metadata": {},
   "outputs": [],
   "source": [
    "best_index = grid_search.best_index_\n",
    "mean_fit_time = grid_search.cv_results_['mean_fit_time'][best_index]\n",
    "pred_time = grid_search.cv_results_['mean_score_time'][best_index]"
   ]
  },
  {
   "cell_type": "code",
   "execution_count": 45,
   "metadata": {},
   "outputs": [
    {
     "name": "stdout",
     "output_type": "stream",
     "text": [
      "Время обучения лучшей модели (секунды): 2.5943031311035156\n",
      "Время предсказания лучшей модели (секунды): 0.5989497900009155\n"
     ]
    }
   ],
   "source": [
    "print(\"Время обучения лучшей модели (секунды):\", mean_fit_time)\n",
    "print(\"Время предсказания лучшей модели (секунды):\", pred_time)"
   ]
  },
  {
   "cell_type": "code",
   "execution_count": 46,
   "metadata": {},
   "outputs": [],
   "source": [
    "new_row = {'model name': 'LightGBM', \n",
    "           'hyperparameters': grid_search.best_params_,\n",
    "           'RMSE': round(-grid_search.best_score_, 2),\n",
    "           'training time (s)': round(mean_fit_time, 2),\n",
    "           'prediction time (s)': round(pred_time, 2)}\n",
    "models.loc[1] = new_row"
   ]
  },
  {
   "cell_type": "markdown",
   "metadata": {},
   "source": [
    "### DecisionTreeRegressor"
   ]
  },
  {
   "cell_type": "code",
   "execution_count": 47,
   "metadata": {},
   "outputs": [],
   "source": [
    "X = data.drop('Price', axis=1)\n",
    "y = data['Price']\n",
    "\n",
    "X_train, X_test, y_train, y_test = train_test_split(X, y, test_size=0.25, random_state=42)"
   ]
  },
  {
   "cell_type": "code",
   "execution_count": 48,
   "metadata": {},
   "outputs": [],
   "source": [
    "preprocessor = ColumnTransformer(\n",
    "    transformers=[\n",
    "        ('cat', OrdinalEncoder(handle_unknown='use_encoded_value', unknown_value=-1), cat_features) \n",
    "    ],\n",
    "    remainder='passthrough'\n",
    ")"
   ]
  },
  {
   "cell_type": "code",
   "execution_count": 49,
   "metadata": {},
   "outputs": [],
   "source": [
    "pipeline = Pipeline(steps=[\n",
    "    ('preprocessor', preprocessor),\n",
    "    ('model', DecisionTreeRegressor(random_state=42))\n",
    "])"
   ]
  },
  {
   "cell_type": "code",
   "execution_count": 50,
   "metadata": {},
   "outputs": [],
   "source": [
    "param_grid = {\n",
    "    'model__max_depth': [5, 10, 20],\n",
    "    'model__min_samples_split': [5, 10, 15],\n",
    "    'model__min_samples_leaf': [2, 4, 7]\n",
    "}\n",
    "\n",
    "grid_search = GridSearchCV(estimator=pipeline, param_grid=param_grid, scoring='neg_root_mean_squared_error', cv=3, n_jobs=-1, verbose=0)"
   ]
  },
  {
   "cell_type": "code",
   "execution_count": 51,
   "metadata": {},
   "outputs": [
    {
     "data": {
      "text/html": [
       "<style>#sk-container-id-4 {\n",
       "  /* Definition of color scheme common for light and dark mode */\n",
       "  --sklearn-color-text: black;\n",
       "  --sklearn-color-line: gray;\n",
       "  /* Definition of color scheme for unfitted estimators */\n",
       "  --sklearn-color-unfitted-level-0: #fff5e6;\n",
       "  --sklearn-color-unfitted-level-1: #f6e4d2;\n",
       "  --sklearn-color-unfitted-level-2: #ffe0b3;\n",
       "  --sklearn-color-unfitted-level-3: chocolate;\n",
       "  /* Definition of color scheme for fitted estimators */\n",
       "  --sklearn-color-fitted-level-0: #f0f8ff;\n",
       "  --sklearn-color-fitted-level-1: #d4ebff;\n",
       "  --sklearn-color-fitted-level-2: #b3dbfd;\n",
       "  --sklearn-color-fitted-level-3: cornflowerblue;\n",
       "\n",
       "  /* Specific color for light theme */\n",
       "  --sklearn-color-text-on-default-background: var(--sg-text-color, var(--theme-code-foreground, var(--jp-content-font-color1, black)));\n",
       "  --sklearn-color-background: var(--sg-background-color, var(--theme-background, var(--jp-layout-color0, white)));\n",
       "  --sklearn-color-border-box: var(--sg-text-color, var(--theme-code-foreground, var(--jp-content-font-color1, black)));\n",
       "  --sklearn-color-icon: #696969;\n",
       "\n",
       "  @media (prefers-color-scheme: dark) {\n",
       "    /* Redefinition of color scheme for dark theme */\n",
       "    --sklearn-color-text-on-default-background: var(--sg-text-color, var(--theme-code-foreground, var(--jp-content-font-color1, white)));\n",
       "    --sklearn-color-background: var(--sg-background-color, var(--theme-background, var(--jp-layout-color0, #111)));\n",
       "    --sklearn-color-border-box: var(--sg-text-color, var(--theme-code-foreground, var(--jp-content-font-color1, white)));\n",
       "    --sklearn-color-icon: #878787;\n",
       "  }\n",
       "}\n",
       "\n",
       "#sk-container-id-4 {\n",
       "  color: var(--sklearn-color-text);\n",
       "}\n",
       "\n",
       "#sk-container-id-4 pre {\n",
       "  padding: 0;\n",
       "}\n",
       "\n",
       "#sk-container-id-4 input.sk-hidden--visually {\n",
       "  border: 0;\n",
       "  clip: rect(1px 1px 1px 1px);\n",
       "  clip: rect(1px, 1px, 1px, 1px);\n",
       "  height: 1px;\n",
       "  margin: -1px;\n",
       "  overflow: hidden;\n",
       "  padding: 0;\n",
       "  position: absolute;\n",
       "  width: 1px;\n",
       "}\n",
       "\n",
       "#sk-container-id-4 div.sk-dashed-wrapped {\n",
       "  border: 1px dashed var(--sklearn-color-line);\n",
       "  margin: 0 0.4em 0.5em 0.4em;\n",
       "  box-sizing: border-box;\n",
       "  padding-bottom: 0.4em;\n",
       "  background-color: var(--sklearn-color-background);\n",
       "}\n",
       "\n",
       "#sk-container-id-4 div.sk-container {\n",
       "  /* jupyter's `normalize.less` sets `[hidden] { display: none; }`\n",
       "     but bootstrap.min.css set `[hidden] { display: none !important; }`\n",
       "     so we also need the `!important` here to be able to override the\n",
       "     default hidden behavior on the sphinx rendered scikit-learn.org.\n",
       "     See: https://github.com/scikit-learn/scikit-learn/issues/21755 */\n",
       "  display: inline-block !important;\n",
       "  position: relative;\n",
       "}\n",
       "\n",
       "#sk-container-id-4 div.sk-text-repr-fallback {\n",
       "  display: none;\n",
       "}\n",
       "\n",
       "div.sk-parallel-item,\n",
       "div.sk-serial,\n",
       "div.sk-item {\n",
       "  /* draw centered vertical line to link estimators */\n",
       "  background-image: linear-gradient(var(--sklearn-color-text-on-default-background), var(--sklearn-color-text-on-default-background));\n",
       "  background-size: 2px 100%;\n",
       "  background-repeat: no-repeat;\n",
       "  background-position: center center;\n",
       "}\n",
       "\n",
       "/* Parallel-specific style estimator block */\n",
       "\n",
       "#sk-container-id-4 div.sk-parallel-item::after {\n",
       "  content: \"\";\n",
       "  width: 100%;\n",
       "  border-bottom: 2px solid var(--sklearn-color-text-on-default-background);\n",
       "  flex-grow: 1;\n",
       "}\n",
       "\n",
       "#sk-container-id-4 div.sk-parallel {\n",
       "  display: flex;\n",
       "  align-items: stretch;\n",
       "  justify-content: center;\n",
       "  background-color: var(--sklearn-color-background);\n",
       "  position: relative;\n",
       "}\n",
       "\n",
       "#sk-container-id-4 div.sk-parallel-item {\n",
       "  display: flex;\n",
       "  flex-direction: column;\n",
       "}\n",
       "\n",
       "#sk-container-id-4 div.sk-parallel-item:first-child::after {\n",
       "  align-self: flex-end;\n",
       "  width: 50%;\n",
       "}\n",
       "\n",
       "#sk-container-id-4 div.sk-parallel-item:last-child::after {\n",
       "  align-self: flex-start;\n",
       "  width: 50%;\n",
       "}\n",
       "\n",
       "#sk-container-id-4 div.sk-parallel-item:only-child::after {\n",
       "  width: 0;\n",
       "}\n",
       "\n",
       "/* Serial-specific style estimator block */\n",
       "\n",
       "#sk-container-id-4 div.sk-serial {\n",
       "  display: flex;\n",
       "  flex-direction: column;\n",
       "  align-items: center;\n",
       "  background-color: var(--sklearn-color-background);\n",
       "  padding-right: 1em;\n",
       "  padding-left: 1em;\n",
       "}\n",
       "\n",
       "\n",
       "/* Toggleable style: style used for estimator/Pipeline/ColumnTransformer box that is\n",
       "clickable and can be expanded/collapsed.\n",
       "- Pipeline and ColumnTransformer use this feature and define the default style\n",
       "- Estimators will overwrite some part of the style using the `sk-estimator` class\n",
       "*/\n",
       "\n",
       "/* Pipeline and ColumnTransformer style (default) */\n",
       "\n",
       "#sk-container-id-4 div.sk-toggleable {\n",
       "  /* Default theme specific background. It is overwritten whether we have a\n",
       "  specific estimator or a Pipeline/ColumnTransformer */\n",
       "  background-color: var(--sklearn-color-background);\n",
       "}\n",
       "\n",
       "/* Toggleable label */\n",
       "#sk-container-id-4 label.sk-toggleable__label {\n",
       "  cursor: pointer;\n",
       "  display: block;\n",
       "  width: 100%;\n",
       "  margin-bottom: 0;\n",
       "  padding: 0.5em;\n",
       "  box-sizing: border-box;\n",
       "  text-align: center;\n",
       "}\n",
       "\n",
       "#sk-container-id-4 label.sk-toggleable__label-arrow:before {\n",
       "  /* Arrow on the left of the label */\n",
       "  content: \"▸\";\n",
       "  float: left;\n",
       "  margin-right: 0.25em;\n",
       "  color: var(--sklearn-color-icon);\n",
       "}\n",
       "\n",
       "#sk-container-id-4 label.sk-toggleable__label-arrow:hover:before {\n",
       "  color: var(--sklearn-color-text);\n",
       "}\n",
       "\n",
       "/* Toggleable content - dropdown */\n",
       "\n",
       "#sk-container-id-4 div.sk-toggleable__content {\n",
       "  max-height: 0;\n",
       "  max-width: 0;\n",
       "  overflow: hidden;\n",
       "  text-align: left;\n",
       "  /* unfitted */\n",
       "  background-color: var(--sklearn-color-unfitted-level-0);\n",
       "}\n",
       "\n",
       "#sk-container-id-4 div.sk-toggleable__content.fitted {\n",
       "  /* fitted */\n",
       "  background-color: var(--sklearn-color-fitted-level-0);\n",
       "}\n",
       "\n",
       "#sk-container-id-4 div.sk-toggleable__content pre {\n",
       "  margin: 0.2em;\n",
       "  border-radius: 0.25em;\n",
       "  color: var(--sklearn-color-text);\n",
       "  /* unfitted */\n",
       "  background-color: var(--sklearn-color-unfitted-level-0);\n",
       "}\n",
       "\n",
       "#sk-container-id-4 div.sk-toggleable__content.fitted pre {\n",
       "  /* unfitted */\n",
       "  background-color: var(--sklearn-color-fitted-level-0);\n",
       "}\n",
       "\n",
       "#sk-container-id-4 input.sk-toggleable__control:checked~div.sk-toggleable__content {\n",
       "  /* Expand drop-down */\n",
       "  max-height: 200px;\n",
       "  max-width: 100%;\n",
       "  overflow: auto;\n",
       "}\n",
       "\n",
       "#sk-container-id-4 input.sk-toggleable__control:checked~label.sk-toggleable__label-arrow:before {\n",
       "  content: \"▾\";\n",
       "}\n",
       "\n",
       "/* Pipeline/ColumnTransformer-specific style */\n",
       "\n",
       "#sk-container-id-4 div.sk-label input.sk-toggleable__control:checked~label.sk-toggleable__label {\n",
       "  color: var(--sklearn-color-text);\n",
       "  background-color: var(--sklearn-color-unfitted-level-2);\n",
       "}\n",
       "\n",
       "#sk-container-id-4 div.sk-label.fitted input.sk-toggleable__control:checked~label.sk-toggleable__label {\n",
       "  background-color: var(--sklearn-color-fitted-level-2);\n",
       "}\n",
       "\n",
       "/* Estimator-specific style */\n",
       "\n",
       "/* Colorize estimator box */\n",
       "#sk-container-id-4 div.sk-estimator input.sk-toggleable__control:checked~label.sk-toggleable__label {\n",
       "  /* unfitted */\n",
       "  background-color: var(--sklearn-color-unfitted-level-2);\n",
       "}\n",
       "\n",
       "#sk-container-id-4 div.sk-estimator.fitted input.sk-toggleable__control:checked~label.sk-toggleable__label {\n",
       "  /* fitted */\n",
       "  background-color: var(--sklearn-color-fitted-level-2);\n",
       "}\n",
       "\n",
       "#sk-container-id-4 div.sk-label label.sk-toggleable__label,\n",
       "#sk-container-id-4 div.sk-label label {\n",
       "  /* The background is the default theme color */\n",
       "  color: var(--sklearn-color-text-on-default-background);\n",
       "}\n",
       "\n",
       "/* On hover, darken the color of the background */\n",
       "#sk-container-id-4 div.sk-label:hover label.sk-toggleable__label {\n",
       "  color: var(--sklearn-color-text);\n",
       "  background-color: var(--sklearn-color-unfitted-level-2);\n",
       "}\n",
       "\n",
       "/* Label box, darken color on hover, fitted */\n",
       "#sk-container-id-4 div.sk-label.fitted:hover label.sk-toggleable__label.fitted {\n",
       "  color: var(--sklearn-color-text);\n",
       "  background-color: var(--sklearn-color-fitted-level-2);\n",
       "}\n",
       "\n",
       "/* Estimator label */\n",
       "\n",
       "#sk-container-id-4 div.sk-label label {\n",
       "  font-family: monospace;\n",
       "  font-weight: bold;\n",
       "  display: inline-block;\n",
       "  line-height: 1.2em;\n",
       "}\n",
       "\n",
       "#sk-container-id-4 div.sk-label-container {\n",
       "  text-align: center;\n",
       "}\n",
       "\n",
       "/* Estimator-specific */\n",
       "#sk-container-id-4 div.sk-estimator {\n",
       "  font-family: monospace;\n",
       "  border: 1px dotted var(--sklearn-color-border-box);\n",
       "  border-radius: 0.25em;\n",
       "  box-sizing: border-box;\n",
       "  margin-bottom: 0.5em;\n",
       "  /* unfitted */\n",
       "  background-color: var(--sklearn-color-unfitted-level-0);\n",
       "}\n",
       "\n",
       "#sk-container-id-4 div.sk-estimator.fitted {\n",
       "  /* fitted */\n",
       "  background-color: var(--sklearn-color-fitted-level-0);\n",
       "}\n",
       "\n",
       "/* on hover */\n",
       "#sk-container-id-4 div.sk-estimator:hover {\n",
       "  /* unfitted */\n",
       "  background-color: var(--sklearn-color-unfitted-level-2);\n",
       "}\n",
       "\n",
       "#sk-container-id-4 div.sk-estimator.fitted:hover {\n",
       "  /* fitted */\n",
       "  background-color: var(--sklearn-color-fitted-level-2);\n",
       "}\n",
       "\n",
       "/* Specification for estimator info (e.g. \"i\" and \"?\") */\n",
       "\n",
       "/* Common style for \"i\" and \"?\" */\n",
       "\n",
       ".sk-estimator-doc-link,\n",
       "a:link.sk-estimator-doc-link,\n",
       "a:visited.sk-estimator-doc-link {\n",
       "  float: right;\n",
       "  font-size: smaller;\n",
       "  line-height: 1em;\n",
       "  font-family: monospace;\n",
       "  background-color: var(--sklearn-color-background);\n",
       "  border-radius: 1em;\n",
       "  height: 1em;\n",
       "  width: 1em;\n",
       "  text-decoration: none !important;\n",
       "  margin-left: 1ex;\n",
       "  /* unfitted */\n",
       "  border: var(--sklearn-color-unfitted-level-1) 1pt solid;\n",
       "  color: var(--sklearn-color-unfitted-level-1);\n",
       "}\n",
       "\n",
       ".sk-estimator-doc-link.fitted,\n",
       "a:link.sk-estimator-doc-link.fitted,\n",
       "a:visited.sk-estimator-doc-link.fitted {\n",
       "  /* fitted */\n",
       "  border: var(--sklearn-color-fitted-level-1) 1pt solid;\n",
       "  color: var(--sklearn-color-fitted-level-1);\n",
       "}\n",
       "\n",
       "/* On hover */\n",
       "div.sk-estimator:hover .sk-estimator-doc-link:hover,\n",
       ".sk-estimator-doc-link:hover,\n",
       "div.sk-label-container:hover .sk-estimator-doc-link:hover,\n",
       ".sk-estimator-doc-link:hover {\n",
       "  /* unfitted */\n",
       "  background-color: var(--sklearn-color-unfitted-level-3);\n",
       "  color: var(--sklearn-color-background);\n",
       "  text-decoration: none;\n",
       "}\n",
       "\n",
       "div.sk-estimator.fitted:hover .sk-estimator-doc-link.fitted:hover,\n",
       ".sk-estimator-doc-link.fitted:hover,\n",
       "div.sk-label-container:hover .sk-estimator-doc-link.fitted:hover,\n",
       ".sk-estimator-doc-link.fitted:hover {\n",
       "  /* fitted */\n",
       "  background-color: var(--sklearn-color-fitted-level-3);\n",
       "  color: var(--sklearn-color-background);\n",
       "  text-decoration: none;\n",
       "}\n",
       "\n",
       "/* Span, style for the box shown on hovering the info icon */\n",
       ".sk-estimator-doc-link span {\n",
       "  display: none;\n",
       "  z-index: 9999;\n",
       "  position: relative;\n",
       "  font-weight: normal;\n",
       "  right: .2ex;\n",
       "  padding: .5ex;\n",
       "  margin: .5ex;\n",
       "  width: min-content;\n",
       "  min-width: 20ex;\n",
       "  max-width: 50ex;\n",
       "  color: var(--sklearn-color-text);\n",
       "  box-shadow: 2pt 2pt 4pt #999;\n",
       "  /* unfitted */\n",
       "  background: var(--sklearn-color-unfitted-level-0);\n",
       "  border: .5pt solid var(--sklearn-color-unfitted-level-3);\n",
       "}\n",
       "\n",
       ".sk-estimator-doc-link.fitted span {\n",
       "  /* fitted */\n",
       "  background: var(--sklearn-color-fitted-level-0);\n",
       "  border: var(--sklearn-color-fitted-level-3);\n",
       "}\n",
       "\n",
       ".sk-estimator-doc-link:hover span {\n",
       "  display: block;\n",
       "}\n",
       "\n",
       "/* \"?\"-specific style due to the `<a>` HTML tag */\n",
       "\n",
       "#sk-container-id-4 a.estimator_doc_link {\n",
       "  float: right;\n",
       "  font-size: 1rem;\n",
       "  line-height: 1em;\n",
       "  font-family: monospace;\n",
       "  background-color: var(--sklearn-color-background);\n",
       "  border-radius: 1rem;\n",
       "  height: 1rem;\n",
       "  width: 1rem;\n",
       "  text-decoration: none;\n",
       "  /* unfitted */\n",
       "  color: var(--sklearn-color-unfitted-level-1);\n",
       "  border: var(--sklearn-color-unfitted-level-1) 1pt solid;\n",
       "}\n",
       "\n",
       "#sk-container-id-4 a.estimator_doc_link.fitted {\n",
       "  /* fitted */\n",
       "  border: var(--sklearn-color-fitted-level-1) 1pt solid;\n",
       "  color: var(--sklearn-color-fitted-level-1);\n",
       "}\n",
       "\n",
       "/* On hover */\n",
       "#sk-container-id-4 a.estimator_doc_link:hover {\n",
       "  /* unfitted */\n",
       "  background-color: var(--sklearn-color-unfitted-level-3);\n",
       "  color: var(--sklearn-color-background);\n",
       "  text-decoration: none;\n",
       "}\n",
       "\n",
       "#sk-container-id-4 a.estimator_doc_link.fitted:hover {\n",
       "  /* fitted */\n",
       "  background-color: var(--sklearn-color-fitted-level-3);\n",
       "}\n",
       "</style><div id=\"sk-container-id-4\" class=\"sk-top-container\"><div class=\"sk-text-repr-fallback\"><pre>GridSearchCV(cv=3,\n",
       "             estimator=Pipeline(steps=[(&#x27;preprocessor&#x27;,\n",
       "                                        ColumnTransformer(remainder=&#x27;passthrough&#x27;,\n",
       "                                                          transformers=[(&#x27;cat&#x27;,\n",
       "                                                                         OrdinalEncoder(handle_unknown=&#x27;use_encoded_value&#x27;,\n",
       "                                                                                        unknown_value=-1),\n",
       "                                                                         [&#x27;VehicleType&#x27;,\n",
       "                                                                          &#x27;Gearbox&#x27;,\n",
       "                                                                          &#x27;Model&#x27;,\n",
       "                                                                          &#x27;FuelType&#x27;,\n",
       "                                                                          &#x27;Brand&#x27;,\n",
       "                                                                          &#x27;Repaired&#x27;])])),\n",
       "                                       (&#x27;model&#x27;,\n",
       "                                        DecisionTreeRegressor(random_state=42))]),\n",
       "             n_jobs=-1,\n",
       "             param_grid={&#x27;model__max_depth&#x27;: [5, 10, 20],\n",
       "                         &#x27;model__min_samples_leaf&#x27;: [2, 4, 7],\n",
       "                         &#x27;model__min_samples_split&#x27;: [5, 10, 15]},\n",
       "             scoring=&#x27;neg_root_mean_squared_error&#x27;)</pre><b>In a Jupyter environment, please rerun this cell to show the HTML representation or trust the notebook. <br />On GitHub, the HTML representation is unable to render, please try loading this page with nbviewer.org.</b></div><div class=\"sk-container\" hidden><div class=\"sk-item sk-dashed-wrapped\"><div class=\"sk-label-container\"><div class=\"sk-label fitted sk-toggleable\"><input class=\"sk-toggleable__control sk-hidden--visually\" id=\"sk-estimator-id-8\" type=\"checkbox\" ><label for=\"sk-estimator-id-8\" class=\"sk-toggleable__label fitted sk-toggleable__label-arrow fitted\">&nbsp;&nbsp;GridSearchCV<a class=\"sk-estimator-doc-link fitted\" rel=\"noreferrer\" target=\"_blank\" href=\"https://scikit-learn.org/1.5/modules/generated/sklearn.model_selection.GridSearchCV.html\">?<span>Documentation for GridSearchCV</span></a><span class=\"sk-estimator-doc-link fitted\">i<span>Fitted</span></span></label><div class=\"sk-toggleable__content fitted\"><pre>GridSearchCV(cv=3,\n",
       "             estimator=Pipeline(steps=[(&#x27;preprocessor&#x27;,\n",
       "                                        ColumnTransformer(remainder=&#x27;passthrough&#x27;,\n",
       "                                                          transformers=[(&#x27;cat&#x27;,\n",
       "                                                                         OrdinalEncoder(handle_unknown=&#x27;use_encoded_value&#x27;,\n",
       "                                                                                        unknown_value=-1),\n",
       "                                                                         [&#x27;VehicleType&#x27;,\n",
       "                                                                          &#x27;Gearbox&#x27;,\n",
       "                                                                          &#x27;Model&#x27;,\n",
       "                                                                          &#x27;FuelType&#x27;,\n",
       "                                                                          &#x27;Brand&#x27;,\n",
       "                                                                          &#x27;Repaired&#x27;])])),\n",
       "                                       (&#x27;model&#x27;,\n",
       "                                        DecisionTreeRegressor(random_state=42))]),\n",
       "             n_jobs=-1,\n",
       "             param_grid={&#x27;model__max_depth&#x27;: [5, 10, 20],\n",
       "                         &#x27;model__min_samples_leaf&#x27;: [2, 4, 7],\n",
       "                         &#x27;model__min_samples_split&#x27;: [5, 10, 15]},\n",
       "             scoring=&#x27;neg_root_mean_squared_error&#x27;)</pre></div> </div></div><div class=\"sk-parallel\"><div class=\"sk-parallel-item\"><div class=\"sk-item\"><div class=\"sk-label-container\"><div class=\"sk-label fitted sk-toggleable\"><input class=\"sk-toggleable__control sk-hidden--visually\" id=\"sk-estimator-id-9\" type=\"checkbox\" ><label for=\"sk-estimator-id-9\" class=\"sk-toggleable__label fitted sk-toggleable__label-arrow fitted\">best_estimator_: Pipeline</label><div class=\"sk-toggleable__content fitted\"><pre>Pipeline(steps=[(&#x27;preprocessor&#x27;,\n",
       "                 ColumnTransformer(remainder=&#x27;passthrough&#x27;,\n",
       "                                   transformers=[(&#x27;cat&#x27;,\n",
       "                                                  OrdinalEncoder(handle_unknown=&#x27;use_encoded_value&#x27;,\n",
       "                                                                 unknown_value=-1),\n",
       "                                                  [&#x27;VehicleType&#x27;, &#x27;Gearbox&#x27;,\n",
       "                                                   &#x27;Model&#x27;, &#x27;FuelType&#x27;, &#x27;Brand&#x27;,\n",
       "                                                   &#x27;Repaired&#x27;])])),\n",
       "                (&#x27;model&#x27;,\n",
       "                 DecisionTreeRegressor(max_depth=20, min_samples_leaf=4,\n",
       "                                       min_samples_split=15,\n",
       "                                       random_state=42))])</pre></div> </div></div><div class=\"sk-serial\"><div class=\"sk-item\"><div class=\"sk-serial\"><div class=\"sk-item sk-dashed-wrapped\"><div class=\"sk-label-container\"><div class=\"sk-label fitted sk-toggleable\"><input class=\"sk-toggleable__control sk-hidden--visually\" id=\"sk-estimator-id-10\" type=\"checkbox\" ><label for=\"sk-estimator-id-10\" class=\"sk-toggleable__label fitted sk-toggleable__label-arrow fitted\">&nbsp;preprocessor: ColumnTransformer<a class=\"sk-estimator-doc-link fitted\" rel=\"noreferrer\" target=\"_blank\" href=\"https://scikit-learn.org/1.5/modules/generated/sklearn.compose.ColumnTransformer.html\">?<span>Documentation for preprocessor: ColumnTransformer</span></a></label><div class=\"sk-toggleable__content fitted\"><pre>ColumnTransformer(remainder=&#x27;passthrough&#x27;,\n",
       "                  transformers=[(&#x27;cat&#x27;,\n",
       "                                 OrdinalEncoder(handle_unknown=&#x27;use_encoded_value&#x27;,\n",
       "                                                unknown_value=-1),\n",
       "                                 [&#x27;VehicleType&#x27;, &#x27;Gearbox&#x27;, &#x27;Model&#x27;, &#x27;FuelType&#x27;,\n",
       "                                  &#x27;Brand&#x27;, &#x27;Repaired&#x27;])])</pre></div> </div></div><div class=\"sk-parallel\"><div class=\"sk-parallel-item\"><div class=\"sk-item\"><div class=\"sk-label-container\"><div class=\"sk-label fitted sk-toggleable\"><input class=\"sk-toggleable__control sk-hidden--visually\" id=\"sk-estimator-id-11\" type=\"checkbox\" ><label for=\"sk-estimator-id-11\" class=\"sk-toggleable__label fitted sk-toggleable__label-arrow fitted\">cat</label><div class=\"sk-toggleable__content fitted\"><pre>[&#x27;VehicleType&#x27;, &#x27;Gearbox&#x27;, &#x27;Model&#x27;, &#x27;FuelType&#x27;, &#x27;Brand&#x27;, &#x27;Repaired&#x27;]</pre></div> </div></div><div class=\"sk-serial\"><div class=\"sk-item\"><div class=\"sk-estimator fitted sk-toggleable\"><input class=\"sk-toggleable__control sk-hidden--visually\" id=\"sk-estimator-id-12\" type=\"checkbox\" ><label for=\"sk-estimator-id-12\" class=\"sk-toggleable__label fitted sk-toggleable__label-arrow fitted\">&nbsp;OrdinalEncoder<a class=\"sk-estimator-doc-link fitted\" rel=\"noreferrer\" target=\"_blank\" href=\"https://scikit-learn.org/1.5/modules/generated/sklearn.preprocessing.OrdinalEncoder.html\">?<span>Documentation for OrdinalEncoder</span></a></label><div class=\"sk-toggleable__content fitted\"><pre>OrdinalEncoder(handle_unknown=&#x27;use_encoded_value&#x27;, unknown_value=-1)</pre></div> </div></div></div></div></div><div class=\"sk-parallel-item\"><div class=\"sk-item\"><div class=\"sk-label-container\"><div class=\"sk-label fitted sk-toggleable\"><input class=\"sk-toggleable__control sk-hidden--visually\" id=\"sk-estimator-id-13\" type=\"checkbox\" ><label for=\"sk-estimator-id-13\" class=\"sk-toggleable__label fitted sk-toggleable__label-arrow fitted\">remainder</label><div class=\"sk-toggleable__content fitted\"><pre>[&#x27;RegistrationYear&#x27;, &#x27;Power&#x27;, &#x27;Kilometer&#x27;]</pre></div> </div></div><div class=\"sk-serial\"><div class=\"sk-item\"><div class=\"sk-estimator fitted sk-toggleable\"><input class=\"sk-toggleable__control sk-hidden--visually\" id=\"sk-estimator-id-14\" type=\"checkbox\" ><label for=\"sk-estimator-id-14\" class=\"sk-toggleable__label fitted sk-toggleable__label-arrow fitted\">passthrough</label><div class=\"sk-toggleable__content fitted\"><pre>passthrough</pre></div> </div></div></div></div></div></div></div><div class=\"sk-item\"><div class=\"sk-estimator fitted sk-toggleable\"><input class=\"sk-toggleable__control sk-hidden--visually\" id=\"sk-estimator-id-15\" type=\"checkbox\" ><label for=\"sk-estimator-id-15\" class=\"sk-toggleable__label fitted sk-toggleable__label-arrow fitted\">&nbsp;DecisionTreeRegressor<a class=\"sk-estimator-doc-link fitted\" rel=\"noreferrer\" target=\"_blank\" href=\"https://scikit-learn.org/1.5/modules/generated/sklearn.tree.DecisionTreeRegressor.html\">?<span>Documentation for DecisionTreeRegressor</span></a></label><div class=\"sk-toggleable__content fitted\"><pre>DecisionTreeRegressor(max_depth=20, min_samples_leaf=4, min_samples_split=15,\n",
       "                      random_state=42)</pre></div> </div></div></div></div></div></div></div></div></div></div></div>"
      ],
      "text/plain": [
       "GridSearchCV(cv=3,\n",
       "             estimator=Pipeline(steps=[('preprocessor',\n",
       "                                        ColumnTransformer(remainder='passthrough',\n",
       "                                                          transformers=[('cat',\n",
       "                                                                         OrdinalEncoder(handle_unknown='use_encoded_value',\n",
       "                                                                                        unknown_value=-1),\n",
       "                                                                         ['VehicleType',\n",
       "                                                                          'Gearbox',\n",
       "                                                                          'Model',\n",
       "                                                                          'FuelType',\n",
       "                                                                          'Brand',\n",
       "                                                                          'Repaired'])])),\n",
       "                                       ('model',\n",
       "                                        DecisionTreeRegressor(random_state=42))]),\n",
       "             n_jobs=-1,\n",
       "             param_grid={'model__max_depth': [5, 10, 20],\n",
       "                         'model__min_samples_leaf': [2, 4, 7],\n",
       "                         'model__min_samples_split': [5, 10, 15]},\n",
       "             scoring='neg_root_mean_squared_error')"
      ]
     },
     "execution_count": 51,
     "metadata": {},
     "output_type": "execute_result"
    }
   ],
   "source": [
    "grid_search.fit(X_train, y_train)"
   ]
  },
  {
   "cell_type": "code",
   "execution_count": 52,
   "metadata": {},
   "outputs": [
    {
     "name": "stdout",
     "output_type": "stream",
     "text": [
      "RMSE лучшей модели DecisionTreeRegressor: 1709.887806816574\n"
     ]
    }
   ],
   "source": [
    "print(f'RMSE лучшей модели DecisionTreeRegressor: {-grid_search.best_score_}')"
   ]
  },
  {
   "cell_type": "code",
   "execution_count": 53,
   "metadata": {},
   "outputs": [
    {
     "data": {
      "text/html": [
       "<style>#sk-container-id-5 {\n",
       "  /* Definition of color scheme common for light and dark mode */\n",
       "  --sklearn-color-text: black;\n",
       "  --sklearn-color-line: gray;\n",
       "  /* Definition of color scheme for unfitted estimators */\n",
       "  --sklearn-color-unfitted-level-0: #fff5e6;\n",
       "  --sklearn-color-unfitted-level-1: #f6e4d2;\n",
       "  --sklearn-color-unfitted-level-2: #ffe0b3;\n",
       "  --sklearn-color-unfitted-level-3: chocolate;\n",
       "  /* Definition of color scheme for fitted estimators */\n",
       "  --sklearn-color-fitted-level-0: #f0f8ff;\n",
       "  --sklearn-color-fitted-level-1: #d4ebff;\n",
       "  --sklearn-color-fitted-level-2: #b3dbfd;\n",
       "  --sklearn-color-fitted-level-3: cornflowerblue;\n",
       "\n",
       "  /* Specific color for light theme */\n",
       "  --sklearn-color-text-on-default-background: var(--sg-text-color, var(--theme-code-foreground, var(--jp-content-font-color1, black)));\n",
       "  --sklearn-color-background: var(--sg-background-color, var(--theme-background, var(--jp-layout-color0, white)));\n",
       "  --sklearn-color-border-box: var(--sg-text-color, var(--theme-code-foreground, var(--jp-content-font-color1, black)));\n",
       "  --sklearn-color-icon: #696969;\n",
       "\n",
       "  @media (prefers-color-scheme: dark) {\n",
       "    /* Redefinition of color scheme for dark theme */\n",
       "    --sklearn-color-text-on-default-background: var(--sg-text-color, var(--theme-code-foreground, var(--jp-content-font-color1, white)));\n",
       "    --sklearn-color-background: var(--sg-background-color, var(--theme-background, var(--jp-layout-color0, #111)));\n",
       "    --sklearn-color-border-box: var(--sg-text-color, var(--theme-code-foreground, var(--jp-content-font-color1, white)));\n",
       "    --sklearn-color-icon: #878787;\n",
       "  }\n",
       "}\n",
       "\n",
       "#sk-container-id-5 {\n",
       "  color: var(--sklearn-color-text);\n",
       "}\n",
       "\n",
       "#sk-container-id-5 pre {\n",
       "  padding: 0;\n",
       "}\n",
       "\n",
       "#sk-container-id-5 input.sk-hidden--visually {\n",
       "  border: 0;\n",
       "  clip: rect(1px 1px 1px 1px);\n",
       "  clip: rect(1px, 1px, 1px, 1px);\n",
       "  height: 1px;\n",
       "  margin: -1px;\n",
       "  overflow: hidden;\n",
       "  padding: 0;\n",
       "  position: absolute;\n",
       "  width: 1px;\n",
       "}\n",
       "\n",
       "#sk-container-id-5 div.sk-dashed-wrapped {\n",
       "  border: 1px dashed var(--sklearn-color-line);\n",
       "  margin: 0 0.4em 0.5em 0.4em;\n",
       "  box-sizing: border-box;\n",
       "  padding-bottom: 0.4em;\n",
       "  background-color: var(--sklearn-color-background);\n",
       "}\n",
       "\n",
       "#sk-container-id-5 div.sk-container {\n",
       "  /* jupyter's `normalize.less` sets `[hidden] { display: none; }`\n",
       "     but bootstrap.min.css set `[hidden] { display: none !important; }`\n",
       "     so we also need the `!important` here to be able to override the\n",
       "     default hidden behavior on the sphinx rendered scikit-learn.org.\n",
       "     See: https://github.com/scikit-learn/scikit-learn/issues/21755 */\n",
       "  display: inline-block !important;\n",
       "  position: relative;\n",
       "}\n",
       "\n",
       "#sk-container-id-5 div.sk-text-repr-fallback {\n",
       "  display: none;\n",
       "}\n",
       "\n",
       "div.sk-parallel-item,\n",
       "div.sk-serial,\n",
       "div.sk-item {\n",
       "  /* draw centered vertical line to link estimators */\n",
       "  background-image: linear-gradient(var(--sklearn-color-text-on-default-background), var(--sklearn-color-text-on-default-background));\n",
       "  background-size: 2px 100%;\n",
       "  background-repeat: no-repeat;\n",
       "  background-position: center center;\n",
       "}\n",
       "\n",
       "/* Parallel-specific style estimator block */\n",
       "\n",
       "#sk-container-id-5 div.sk-parallel-item::after {\n",
       "  content: \"\";\n",
       "  width: 100%;\n",
       "  border-bottom: 2px solid var(--sklearn-color-text-on-default-background);\n",
       "  flex-grow: 1;\n",
       "}\n",
       "\n",
       "#sk-container-id-5 div.sk-parallel {\n",
       "  display: flex;\n",
       "  align-items: stretch;\n",
       "  justify-content: center;\n",
       "  background-color: var(--sklearn-color-background);\n",
       "  position: relative;\n",
       "}\n",
       "\n",
       "#sk-container-id-5 div.sk-parallel-item {\n",
       "  display: flex;\n",
       "  flex-direction: column;\n",
       "}\n",
       "\n",
       "#sk-container-id-5 div.sk-parallel-item:first-child::after {\n",
       "  align-self: flex-end;\n",
       "  width: 50%;\n",
       "}\n",
       "\n",
       "#sk-container-id-5 div.sk-parallel-item:last-child::after {\n",
       "  align-self: flex-start;\n",
       "  width: 50%;\n",
       "}\n",
       "\n",
       "#sk-container-id-5 div.sk-parallel-item:only-child::after {\n",
       "  width: 0;\n",
       "}\n",
       "\n",
       "/* Serial-specific style estimator block */\n",
       "\n",
       "#sk-container-id-5 div.sk-serial {\n",
       "  display: flex;\n",
       "  flex-direction: column;\n",
       "  align-items: center;\n",
       "  background-color: var(--sklearn-color-background);\n",
       "  padding-right: 1em;\n",
       "  padding-left: 1em;\n",
       "}\n",
       "\n",
       "\n",
       "/* Toggleable style: style used for estimator/Pipeline/ColumnTransformer box that is\n",
       "clickable and can be expanded/collapsed.\n",
       "- Pipeline and ColumnTransformer use this feature and define the default style\n",
       "- Estimators will overwrite some part of the style using the `sk-estimator` class\n",
       "*/\n",
       "\n",
       "/* Pipeline and ColumnTransformer style (default) */\n",
       "\n",
       "#sk-container-id-5 div.sk-toggleable {\n",
       "  /* Default theme specific background. It is overwritten whether we have a\n",
       "  specific estimator or a Pipeline/ColumnTransformer */\n",
       "  background-color: var(--sklearn-color-background);\n",
       "}\n",
       "\n",
       "/* Toggleable label */\n",
       "#sk-container-id-5 label.sk-toggleable__label {\n",
       "  cursor: pointer;\n",
       "  display: block;\n",
       "  width: 100%;\n",
       "  margin-bottom: 0;\n",
       "  padding: 0.5em;\n",
       "  box-sizing: border-box;\n",
       "  text-align: center;\n",
       "}\n",
       "\n",
       "#sk-container-id-5 label.sk-toggleable__label-arrow:before {\n",
       "  /* Arrow on the left of the label */\n",
       "  content: \"▸\";\n",
       "  float: left;\n",
       "  margin-right: 0.25em;\n",
       "  color: var(--sklearn-color-icon);\n",
       "}\n",
       "\n",
       "#sk-container-id-5 label.sk-toggleable__label-arrow:hover:before {\n",
       "  color: var(--sklearn-color-text);\n",
       "}\n",
       "\n",
       "/* Toggleable content - dropdown */\n",
       "\n",
       "#sk-container-id-5 div.sk-toggleable__content {\n",
       "  max-height: 0;\n",
       "  max-width: 0;\n",
       "  overflow: hidden;\n",
       "  text-align: left;\n",
       "  /* unfitted */\n",
       "  background-color: var(--sklearn-color-unfitted-level-0);\n",
       "}\n",
       "\n",
       "#sk-container-id-5 div.sk-toggleable__content.fitted {\n",
       "  /* fitted */\n",
       "  background-color: var(--sklearn-color-fitted-level-0);\n",
       "}\n",
       "\n",
       "#sk-container-id-5 div.sk-toggleable__content pre {\n",
       "  margin: 0.2em;\n",
       "  border-radius: 0.25em;\n",
       "  color: var(--sklearn-color-text);\n",
       "  /* unfitted */\n",
       "  background-color: var(--sklearn-color-unfitted-level-0);\n",
       "}\n",
       "\n",
       "#sk-container-id-5 div.sk-toggleable__content.fitted pre {\n",
       "  /* unfitted */\n",
       "  background-color: var(--sklearn-color-fitted-level-0);\n",
       "}\n",
       "\n",
       "#sk-container-id-5 input.sk-toggleable__control:checked~div.sk-toggleable__content {\n",
       "  /* Expand drop-down */\n",
       "  max-height: 200px;\n",
       "  max-width: 100%;\n",
       "  overflow: auto;\n",
       "}\n",
       "\n",
       "#sk-container-id-5 input.sk-toggleable__control:checked~label.sk-toggleable__label-arrow:before {\n",
       "  content: \"▾\";\n",
       "}\n",
       "\n",
       "/* Pipeline/ColumnTransformer-specific style */\n",
       "\n",
       "#sk-container-id-5 div.sk-label input.sk-toggleable__control:checked~label.sk-toggleable__label {\n",
       "  color: var(--sklearn-color-text);\n",
       "  background-color: var(--sklearn-color-unfitted-level-2);\n",
       "}\n",
       "\n",
       "#sk-container-id-5 div.sk-label.fitted input.sk-toggleable__control:checked~label.sk-toggleable__label {\n",
       "  background-color: var(--sklearn-color-fitted-level-2);\n",
       "}\n",
       "\n",
       "/* Estimator-specific style */\n",
       "\n",
       "/* Colorize estimator box */\n",
       "#sk-container-id-5 div.sk-estimator input.sk-toggleable__control:checked~label.sk-toggleable__label {\n",
       "  /* unfitted */\n",
       "  background-color: var(--sklearn-color-unfitted-level-2);\n",
       "}\n",
       "\n",
       "#sk-container-id-5 div.sk-estimator.fitted input.sk-toggleable__control:checked~label.sk-toggleable__label {\n",
       "  /* fitted */\n",
       "  background-color: var(--sklearn-color-fitted-level-2);\n",
       "}\n",
       "\n",
       "#sk-container-id-5 div.sk-label label.sk-toggleable__label,\n",
       "#sk-container-id-5 div.sk-label label {\n",
       "  /* The background is the default theme color */\n",
       "  color: var(--sklearn-color-text-on-default-background);\n",
       "}\n",
       "\n",
       "/* On hover, darken the color of the background */\n",
       "#sk-container-id-5 div.sk-label:hover label.sk-toggleable__label {\n",
       "  color: var(--sklearn-color-text);\n",
       "  background-color: var(--sklearn-color-unfitted-level-2);\n",
       "}\n",
       "\n",
       "/* Label box, darken color on hover, fitted */\n",
       "#sk-container-id-5 div.sk-label.fitted:hover label.sk-toggleable__label.fitted {\n",
       "  color: var(--sklearn-color-text);\n",
       "  background-color: var(--sklearn-color-fitted-level-2);\n",
       "}\n",
       "\n",
       "/* Estimator label */\n",
       "\n",
       "#sk-container-id-5 div.sk-label label {\n",
       "  font-family: monospace;\n",
       "  font-weight: bold;\n",
       "  display: inline-block;\n",
       "  line-height: 1.2em;\n",
       "}\n",
       "\n",
       "#sk-container-id-5 div.sk-label-container {\n",
       "  text-align: center;\n",
       "}\n",
       "\n",
       "/* Estimator-specific */\n",
       "#sk-container-id-5 div.sk-estimator {\n",
       "  font-family: monospace;\n",
       "  border: 1px dotted var(--sklearn-color-border-box);\n",
       "  border-radius: 0.25em;\n",
       "  box-sizing: border-box;\n",
       "  margin-bottom: 0.5em;\n",
       "  /* unfitted */\n",
       "  background-color: var(--sklearn-color-unfitted-level-0);\n",
       "}\n",
       "\n",
       "#sk-container-id-5 div.sk-estimator.fitted {\n",
       "  /* fitted */\n",
       "  background-color: var(--sklearn-color-fitted-level-0);\n",
       "}\n",
       "\n",
       "/* on hover */\n",
       "#sk-container-id-5 div.sk-estimator:hover {\n",
       "  /* unfitted */\n",
       "  background-color: var(--sklearn-color-unfitted-level-2);\n",
       "}\n",
       "\n",
       "#sk-container-id-5 div.sk-estimator.fitted:hover {\n",
       "  /* fitted */\n",
       "  background-color: var(--sklearn-color-fitted-level-2);\n",
       "}\n",
       "\n",
       "/* Specification for estimator info (e.g. \"i\" and \"?\") */\n",
       "\n",
       "/* Common style for \"i\" and \"?\" */\n",
       "\n",
       ".sk-estimator-doc-link,\n",
       "a:link.sk-estimator-doc-link,\n",
       "a:visited.sk-estimator-doc-link {\n",
       "  float: right;\n",
       "  font-size: smaller;\n",
       "  line-height: 1em;\n",
       "  font-family: monospace;\n",
       "  background-color: var(--sklearn-color-background);\n",
       "  border-radius: 1em;\n",
       "  height: 1em;\n",
       "  width: 1em;\n",
       "  text-decoration: none !important;\n",
       "  margin-left: 1ex;\n",
       "  /* unfitted */\n",
       "  border: var(--sklearn-color-unfitted-level-1) 1pt solid;\n",
       "  color: var(--sklearn-color-unfitted-level-1);\n",
       "}\n",
       "\n",
       ".sk-estimator-doc-link.fitted,\n",
       "a:link.sk-estimator-doc-link.fitted,\n",
       "a:visited.sk-estimator-doc-link.fitted {\n",
       "  /* fitted */\n",
       "  border: var(--sklearn-color-fitted-level-1) 1pt solid;\n",
       "  color: var(--sklearn-color-fitted-level-1);\n",
       "}\n",
       "\n",
       "/* On hover */\n",
       "div.sk-estimator:hover .sk-estimator-doc-link:hover,\n",
       ".sk-estimator-doc-link:hover,\n",
       "div.sk-label-container:hover .sk-estimator-doc-link:hover,\n",
       ".sk-estimator-doc-link:hover {\n",
       "  /* unfitted */\n",
       "  background-color: var(--sklearn-color-unfitted-level-3);\n",
       "  color: var(--sklearn-color-background);\n",
       "  text-decoration: none;\n",
       "}\n",
       "\n",
       "div.sk-estimator.fitted:hover .sk-estimator-doc-link.fitted:hover,\n",
       ".sk-estimator-doc-link.fitted:hover,\n",
       "div.sk-label-container:hover .sk-estimator-doc-link.fitted:hover,\n",
       ".sk-estimator-doc-link.fitted:hover {\n",
       "  /* fitted */\n",
       "  background-color: var(--sklearn-color-fitted-level-3);\n",
       "  color: var(--sklearn-color-background);\n",
       "  text-decoration: none;\n",
       "}\n",
       "\n",
       "/* Span, style for the box shown on hovering the info icon */\n",
       ".sk-estimator-doc-link span {\n",
       "  display: none;\n",
       "  z-index: 9999;\n",
       "  position: relative;\n",
       "  font-weight: normal;\n",
       "  right: .2ex;\n",
       "  padding: .5ex;\n",
       "  margin: .5ex;\n",
       "  width: min-content;\n",
       "  min-width: 20ex;\n",
       "  max-width: 50ex;\n",
       "  color: var(--sklearn-color-text);\n",
       "  box-shadow: 2pt 2pt 4pt #999;\n",
       "  /* unfitted */\n",
       "  background: var(--sklearn-color-unfitted-level-0);\n",
       "  border: .5pt solid var(--sklearn-color-unfitted-level-3);\n",
       "}\n",
       "\n",
       ".sk-estimator-doc-link.fitted span {\n",
       "  /* fitted */\n",
       "  background: var(--sklearn-color-fitted-level-0);\n",
       "  border: var(--sklearn-color-fitted-level-3);\n",
       "}\n",
       "\n",
       ".sk-estimator-doc-link:hover span {\n",
       "  display: block;\n",
       "}\n",
       "\n",
       "/* \"?\"-specific style due to the `<a>` HTML tag */\n",
       "\n",
       "#sk-container-id-5 a.estimator_doc_link {\n",
       "  float: right;\n",
       "  font-size: 1rem;\n",
       "  line-height: 1em;\n",
       "  font-family: monospace;\n",
       "  background-color: var(--sklearn-color-background);\n",
       "  border-radius: 1rem;\n",
       "  height: 1rem;\n",
       "  width: 1rem;\n",
       "  text-decoration: none;\n",
       "  /* unfitted */\n",
       "  color: var(--sklearn-color-unfitted-level-1);\n",
       "  border: var(--sklearn-color-unfitted-level-1) 1pt solid;\n",
       "}\n",
       "\n",
       "#sk-container-id-5 a.estimator_doc_link.fitted {\n",
       "  /* fitted */\n",
       "  border: var(--sklearn-color-fitted-level-1) 1pt solid;\n",
       "  color: var(--sklearn-color-fitted-level-1);\n",
       "}\n",
       "\n",
       "/* On hover */\n",
       "#sk-container-id-5 a.estimator_doc_link:hover {\n",
       "  /* unfitted */\n",
       "  background-color: var(--sklearn-color-unfitted-level-3);\n",
       "  color: var(--sklearn-color-background);\n",
       "  text-decoration: none;\n",
       "}\n",
       "\n",
       "#sk-container-id-5 a.estimator_doc_link.fitted:hover {\n",
       "  /* fitted */\n",
       "  background-color: var(--sklearn-color-fitted-level-3);\n",
       "}\n",
       "</style><div id=\"sk-container-id-5\" class=\"sk-top-container\"><div class=\"sk-text-repr-fallback\"><pre>Pipeline(steps=[(&#x27;preprocessor&#x27;,\n",
       "                 ColumnTransformer(remainder=&#x27;passthrough&#x27;,\n",
       "                                   transformers=[(&#x27;cat&#x27;,\n",
       "                                                  OrdinalEncoder(handle_unknown=&#x27;use_encoded_value&#x27;,\n",
       "                                                                 unknown_value=-1),\n",
       "                                                  [&#x27;VehicleType&#x27;, &#x27;Gearbox&#x27;,\n",
       "                                                   &#x27;Model&#x27;, &#x27;FuelType&#x27;, &#x27;Brand&#x27;,\n",
       "                                                   &#x27;Repaired&#x27;])])),\n",
       "                (&#x27;model&#x27;,\n",
       "                 DecisionTreeRegressor(max_depth=20, min_samples_leaf=4,\n",
       "                                       min_samples_split=15,\n",
       "                                       random_state=42))])</pre><b>In a Jupyter environment, please rerun this cell to show the HTML representation or trust the notebook. <br />On GitHub, the HTML representation is unable to render, please try loading this page with nbviewer.org.</b></div><div class=\"sk-container\" hidden><div class=\"sk-item sk-dashed-wrapped\"><div class=\"sk-label-container\"><div class=\"sk-label fitted sk-toggleable\"><input class=\"sk-toggleable__control sk-hidden--visually\" id=\"sk-estimator-id-16\" type=\"checkbox\" ><label for=\"sk-estimator-id-16\" class=\"sk-toggleable__label fitted sk-toggleable__label-arrow fitted\">&nbsp;&nbsp;Pipeline<a class=\"sk-estimator-doc-link fitted\" rel=\"noreferrer\" target=\"_blank\" href=\"https://scikit-learn.org/1.5/modules/generated/sklearn.pipeline.Pipeline.html\">?<span>Documentation for Pipeline</span></a><span class=\"sk-estimator-doc-link fitted\">i<span>Fitted</span></span></label><div class=\"sk-toggleable__content fitted\"><pre>Pipeline(steps=[(&#x27;preprocessor&#x27;,\n",
       "                 ColumnTransformer(remainder=&#x27;passthrough&#x27;,\n",
       "                                   transformers=[(&#x27;cat&#x27;,\n",
       "                                                  OrdinalEncoder(handle_unknown=&#x27;use_encoded_value&#x27;,\n",
       "                                                                 unknown_value=-1),\n",
       "                                                  [&#x27;VehicleType&#x27;, &#x27;Gearbox&#x27;,\n",
       "                                                   &#x27;Model&#x27;, &#x27;FuelType&#x27;, &#x27;Brand&#x27;,\n",
       "                                                   &#x27;Repaired&#x27;])])),\n",
       "                (&#x27;model&#x27;,\n",
       "                 DecisionTreeRegressor(max_depth=20, min_samples_leaf=4,\n",
       "                                       min_samples_split=15,\n",
       "                                       random_state=42))])</pre></div> </div></div><div class=\"sk-serial\"><div class=\"sk-item sk-dashed-wrapped\"><div class=\"sk-label-container\"><div class=\"sk-label fitted sk-toggleable\"><input class=\"sk-toggleable__control sk-hidden--visually\" id=\"sk-estimator-id-17\" type=\"checkbox\" ><label for=\"sk-estimator-id-17\" class=\"sk-toggleable__label fitted sk-toggleable__label-arrow fitted\">&nbsp;preprocessor: ColumnTransformer<a class=\"sk-estimator-doc-link fitted\" rel=\"noreferrer\" target=\"_blank\" href=\"https://scikit-learn.org/1.5/modules/generated/sklearn.compose.ColumnTransformer.html\">?<span>Documentation for preprocessor: ColumnTransformer</span></a></label><div class=\"sk-toggleable__content fitted\"><pre>ColumnTransformer(remainder=&#x27;passthrough&#x27;,\n",
       "                  transformers=[(&#x27;cat&#x27;,\n",
       "                                 OrdinalEncoder(handle_unknown=&#x27;use_encoded_value&#x27;,\n",
       "                                                unknown_value=-1),\n",
       "                                 [&#x27;VehicleType&#x27;, &#x27;Gearbox&#x27;, &#x27;Model&#x27;, &#x27;FuelType&#x27;,\n",
       "                                  &#x27;Brand&#x27;, &#x27;Repaired&#x27;])])</pre></div> </div></div><div class=\"sk-parallel\"><div class=\"sk-parallel-item\"><div class=\"sk-item\"><div class=\"sk-label-container\"><div class=\"sk-label fitted sk-toggleable\"><input class=\"sk-toggleable__control sk-hidden--visually\" id=\"sk-estimator-id-18\" type=\"checkbox\" ><label for=\"sk-estimator-id-18\" class=\"sk-toggleable__label fitted sk-toggleable__label-arrow fitted\">cat</label><div class=\"sk-toggleable__content fitted\"><pre>[&#x27;VehicleType&#x27;, &#x27;Gearbox&#x27;, &#x27;Model&#x27;, &#x27;FuelType&#x27;, &#x27;Brand&#x27;, &#x27;Repaired&#x27;]</pre></div> </div></div><div class=\"sk-serial\"><div class=\"sk-item\"><div class=\"sk-estimator fitted sk-toggleable\"><input class=\"sk-toggleable__control sk-hidden--visually\" id=\"sk-estimator-id-19\" type=\"checkbox\" ><label for=\"sk-estimator-id-19\" class=\"sk-toggleable__label fitted sk-toggleable__label-arrow fitted\">&nbsp;OrdinalEncoder<a class=\"sk-estimator-doc-link fitted\" rel=\"noreferrer\" target=\"_blank\" href=\"https://scikit-learn.org/1.5/modules/generated/sklearn.preprocessing.OrdinalEncoder.html\">?<span>Documentation for OrdinalEncoder</span></a></label><div class=\"sk-toggleable__content fitted\"><pre>OrdinalEncoder(handle_unknown=&#x27;use_encoded_value&#x27;, unknown_value=-1)</pre></div> </div></div></div></div></div><div class=\"sk-parallel-item\"><div class=\"sk-item\"><div class=\"sk-label-container\"><div class=\"sk-label fitted sk-toggleable\"><input class=\"sk-toggleable__control sk-hidden--visually\" id=\"sk-estimator-id-20\" type=\"checkbox\" ><label for=\"sk-estimator-id-20\" class=\"sk-toggleable__label fitted sk-toggleable__label-arrow fitted\">remainder</label><div class=\"sk-toggleable__content fitted\"><pre>[&#x27;RegistrationYear&#x27;, &#x27;Power&#x27;, &#x27;Kilometer&#x27;]</pre></div> </div></div><div class=\"sk-serial\"><div class=\"sk-item\"><div class=\"sk-estimator fitted sk-toggleable\"><input class=\"sk-toggleable__control sk-hidden--visually\" id=\"sk-estimator-id-21\" type=\"checkbox\" ><label for=\"sk-estimator-id-21\" class=\"sk-toggleable__label fitted sk-toggleable__label-arrow fitted\">passthrough</label><div class=\"sk-toggleable__content fitted\"><pre>passthrough</pre></div> </div></div></div></div></div></div></div><div class=\"sk-item\"><div class=\"sk-estimator fitted sk-toggleable\"><input class=\"sk-toggleable__control sk-hidden--visually\" id=\"sk-estimator-id-22\" type=\"checkbox\" ><label for=\"sk-estimator-id-22\" class=\"sk-toggleable__label fitted sk-toggleable__label-arrow fitted\">&nbsp;DecisionTreeRegressor<a class=\"sk-estimator-doc-link fitted\" rel=\"noreferrer\" target=\"_blank\" href=\"https://scikit-learn.org/1.5/modules/generated/sklearn.tree.DecisionTreeRegressor.html\">?<span>Documentation for DecisionTreeRegressor</span></a></label><div class=\"sk-toggleable__content fitted\"><pre>DecisionTreeRegressor(max_depth=20, min_samples_leaf=4, min_samples_split=15,\n",
       "                      random_state=42)</pre></div> </div></div></div></div></div></div>"
      ],
      "text/plain": [
       "Pipeline(steps=[('preprocessor',\n",
       "                 ColumnTransformer(remainder='passthrough',\n",
       "                                   transformers=[('cat',\n",
       "                                                  OrdinalEncoder(handle_unknown='use_encoded_value',\n",
       "                                                                 unknown_value=-1),\n",
       "                                                  ['VehicleType', 'Gearbox',\n",
       "                                                   'Model', 'FuelType', 'Brand',\n",
       "                                                   'Repaired'])])),\n",
       "                ('model',\n",
       "                 DecisionTreeRegressor(max_depth=20, min_samples_leaf=4,\n",
       "                                       min_samples_split=15,\n",
       "                                       random_state=42))])"
      ]
     },
     "execution_count": 53,
     "metadata": {},
     "output_type": "execute_result"
    }
   ],
   "source": [
    "tree_model = grid_search.best_estimator_\n",
    "tree_model"
   ]
  },
  {
   "cell_type": "code",
   "execution_count": 54,
   "metadata": {},
   "outputs": [],
   "source": [
    "best_index = grid_search.best_index_\n",
    "mean_fit_time = grid_search.cv_results_['mean_fit_time'][best_index]\n",
    "pred_time = grid_search.cv_results_['mean_score_time'][best_index]"
   ]
  },
  {
   "cell_type": "code",
   "execution_count": 55,
   "metadata": {},
   "outputs": [
    {
     "name": "stdout",
     "output_type": "stream",
     "text": [
      "Время обучения лучшей модели (секунды): 0.5284653504689535\n",
      "Время предсказания лучшей модели (секунды): 0.11547430356343587\n"
     ]
    }
   ],
   "source": [
    "print(\"Время обучения лучшей модели (секунды):\", mean_fit_time)\n",
    "print(\"Время предсказания лучшей модели (секунды):\", pred_time)"
   ]
  },
  {
   "cell_type": "code",
   "execution_count": 56,
   "metadata": {},
   "outputs": [],
   "source": [
    "new_row = {'model name': 'DecisionTreeRegressor', \n",
    "           'hyperparameters': grid_search.best_params_,\n",
    "           'RMSE': round(-grid_search.best_score_, 2),\n",
    "           'training time (s)': round(mean_fit_time, 2),\n",
    "           'prediction time (s)': round(pred_time, 2)}\n",
    "models.loc[2] = new_row"
   ]
  },
  {
   "cell_type": "markdown",
   "metadata": {},
   "source": [
    "## Анализ моделей"
   ]
  },
  {
   "cell_type": "markdown",
   "metadata": {},
   "source": [
    "### Характеристики моделей"
   ]
  },
  {
   "cell_type": "code",
   "execution_count": 57,
   "metadata": {},
   "outputs": [
    {
     "data": {
      "text/html": [
       "<div>\n",
       "<style scoped>\n",
       "    .dataframe tbody tr th:only-of-type {\n",
       "        vertical-align: middle;\n",
       "    }\n",
       "\n",
       "    .dataframe tbody tr th {\n",
       "        vertical-align: top;\n",
       "    }\n",
       "\n",
       "    .dataframe thead th {\n",
       "        text-align: right;\n",
       "    }\n",
       "</style>\n",
       "<table border=\"1\" class=\"dataframe\">\n",
       "  <thead>\n",
       "    <tr style=\"text-align: right;\">\n",
       "      <th></th>\n",
       "      <th>model name</th>\n",
       "      <th>hyperparameters</th>\n",
       "      <th>RMSE</th>\n",
       "      <th>training time (s)</th>\n",
       "      <th>prediction time (ms)</th>\n",
       "    </tr>\n",
       "  </thead>\n",
       "  <tbody>\n",
       "    <tr>\n",
       "      <th>0</th>\n",
       "      <td>CatBoost</td>\n",
       "      <td>{'depth': 8, 'iterations': 150, 'learning_rate...</td>\n",
       "      <td>1558.49</td>\n",
       "      <td>9.04</td>\n",
       "      <td>0.10</td>\n",
       "    </tr>\n",
       "    <tr>\n",
       "      <th>1</th>\n",
       "      <td>LightGBM</td>\n",
       "      <td>{'learning_rate': 0.4, 'max_depth': 10, 'num_l...</td>\n",
       "      <td>1595.25</td>\n",
       "      <td>2.59</td>\n",
       "      <td>0.60</td>\n",
       "    </tr>\n",
       "    <tr>\n",
       "      <th>2</th>\n",
       "      <td>DecisionTreeRegressor</td>\n",
       "      <td>{'model__max_depth': 20, 'model__min_samples_l...</td>\n",
       "      <td>1709.89</td>\n",
       "      <td>0.53</td>\n",
       "      <td>0.12</td>\n",
       "    </tr>\n",
       "  </tbody>\n",
       "</table>\n",
       "</div>"
      ],
      "text/plain": [
       "              model name                                    hyperparameters  \\\n",
       "0               CatBoost  {'depth': 8, 'iterations': 150, 'learning_rate...   \n",
       "1               LightGBM  {'learning_rate': 0.4, 'max_depth': 10, 'num_l...   \n",
       "2  DecisionTreeRegressor  {'model__max_depth': 20, 'model__min_samples_l...   \n",
       "\n",
       "      RMSE  training time (s)  prediction time (ms)  \n",
       "0  1558.49               9.04                  0.10  \n",
       "1  1595.25               2.59                  0.60  \n",
       "2  1709.89               0.53                  0.12  "
      ]
     },
     "execution_count": 57,
     "metadata": {},
     "output_type": "execute_result"
    }
   ],
   "source": [
    "models.head()"
   ]
  },
  {
   "cell_type": "markdown",
   "metadata": {},
   "source": [
    "### Вывод"
   ]
  },
  {
   "cell_type": "markdown",
   "metadata": {},
   "source": [
    "* Все модели имеют RMSE меньше 2500\n",
    "* У CatBoost наилучшая метрика - 1558.49\n",
    "* Модель градиентого бустинга CatBoost имеет самую высокую скорость предсказания\n",
    "* Дольше всех обучалась модель CatBoost (9.04s), быстрее - DecisionTreeRegressor (0.53s)"
   ]
  },
  {
   "cell_type": "markdown",
   "metadata": {},
   "source": [
    "__Итог: наиболее оптимальная модель для заказчика - градиентный бустинг LightGBM__"
   ]
  },
  {
   "cell_type": "markdown",
   "metadata": {},
   "source": [
    "## Предсказание на тестовой выборке"
   ]
  },
  {
   "cell_type": "code",
   "execution_count": 65,
   "metadata": {},
   "outputs": [],
   "source": [
    "X_test[cat_features] = X_test[cat_features].astype('category')"
   ]
  },
  {
   "cell_type": "code",
   "execution_count": 66,
   "metadata": {},
   "outputs": [],
   "source": [
    "pred = lgb_model.predict(X_test)"
   ]
  },
  {
   "cell_type": "code",
   "execution_count": 67,
   "metadata": {},
   "outputs": [
    {
     "name": "stdout",
     "output_type": "stream",
     "text": [
      "Метрика лучшей модели на тестовой выборке: 1584.685713588735\n"
     ]
    }
   ],
   "source": [
    "rmse = mean_squared_error(pred, y_test, squared=False)\n",
    "print(f'Метрика лучшей модели на тестовой выборке: {rmse}')"
   ]
  }
 ],
 "metadata": {
  "ExecuteTimeLog": [
   {
    "duration": 50,
    "start_time": "2024-08-23T12:35:15.434Z"
   },
   {
    "duration": 417,
    "start_time": "2024-08-23T12:36:39.954Z"
   },
   {
    "duration": 1204,
    "start_time": "2024-08-23T12:36:41.086Z"
   },
   {
    "duration": 959,
    "start_time": "2024-08-23T12:40:44.874Z"
   },
   {
    "duration": 905,
    "start_time": "2024-08-23T12:41:26.782Z"
   },
   {
    "duration": 150,
    "start_time": "2024-08-23T12:48:43.268Z"
   },
   {
    "duration": 151,
    "start_time": "2024-08-23T12:48:48.381Z"
   },
   {
    "duration": 3,
    "start_time": "2024-08-23T12:49:16.232Z"
   },
   {
    "duration": 5,
    "start_time": "2024-08-23T12:49:59.420Z"
   },
   {
    "duration": 154,
    "start_time": "2024-08-23T13:01:57.015Z"
   },
   {
    "duration": 63,
    "start_time": "2024-08-23T13:02:14.910Z"
   },
   {
    "duration": 56,
    "start_time": "2024-08-23T13:02:17.670Z"
   },
   {
    "duration": 159,
    "start_time": "2024-08-23T13:02:21.502Z"
   },
   {
    "duration": 156,
    "start_time": "2024-08-23T13:02:51.462Z"
   },
   {
    "duration": 53,
    "start_time": "2024-08-23T13:03:00.665Z"
   },
   {
    "duration": 53,
    "start_time": "2024-08-23T13:03:08.362Z"
   },
   {
    "duration": 61,
    "start_time": "2024-08-23T13:03:09.991Z"
   },
   {
    "duration": 150,
    "start_time": "2024-08-23T13:03:12.971Z"
   },
   {
    "duration": 4,
    "start_time": "2024-08-23T13:04:04.525Z"
   },
   {
    "duration": 63,
    "start_time": "2024-08-23T13:06:22.515Z"
   },
   {
    "duration": 54,
    "start_time": "2024-08-23T13:06:25.402Z"
   },
   {
    "duration": 75,
    "start_time": "2024-08-23T13:07:46.314Z"
   },
   {
    "duration": 145,
    "start_time": "2024-08-23T13:07:52.887Z"
   },
   {
    "duration": 76,
    "start_time": "2024-08-23T13:07:59.810Z"
   },
   {
    "duration": 51,
    "start_time": "2024-08-23T13:08:00.075Z"
   },
   {
    "duration": 76,
    "start_time": "2024-08-23T13:08:14.364Z"
   },
   {
    "duration": 50,
    "start_time": "2024-08-23T13:08:14.506Z"
   },
   {
    "duration": 50,
    "start_time": "2024-08-23T13:09:50.135Z"
   },
   {
    "duration": 431,
    "start_time": "2024-08-23T13:10:11.833Z"
   },
   {
    "duration": 937,
    "start_time": "2024-08-23T13:10:12.266Z"
   },
   {
    "duration": 166,
    "start_time": "2024-08-23T13:10:13.204Z"
   },
   {
    "duration": 4,
    "start_time": "2024-08-23T13:10:13.372Z"
   },
   {
    "duration": 111,
    "start_time": "2024-08-23T13:10:13.378Z"
   },
   {
    "duration": 149,
    "start_time": "2024-08-23T13:10:13.491Z"
   },
   {
    "duration": 148,
    "start_time": "2024-08-23T13:37:09.047Z"
   },
   {
    "duration": 161,
    "start_time": "2024-08-23T13:37:09.657Z"
   },
   {
    "duration": 236,
    "start_time": "2024-08-23T13:37:24.464Z"
   },
   {
    "duration": 151,
    "start_time": "2024-08-23T13:37:24.702Z"
   },
   {
    "duration": 376,
    "start_time": "2024-08-23T13:37:40.293Z"
   },
   {
    "duration": 923,
    "start_time": "2024-08-23T13:37:40.671Z"
   },
   {
    "duration": 162,
    "start_time": "2024-08-23T13:37:41.595Z"
   },
   {
    "duration": 3,
    "start_time": "2024-08-23T13:37:41.759Z"
   },
   {
    "duration": 271,
    "start_time": "2024-08-23T13:37:41.764Z"
   },
   {
    "duration": 167,
    "start_time": "2024-08-23T13:37:42.037Z"
   },
   {
    "duration": 2,
    "start_time": "2024-08-23T13:38:15.908Z"
   },
   {
    "duration": 452,
    "start_time": "2024-08-23T13:38:30.323Z"
   },
   {
    "duration": 452,
    "start_time": "2024-08-23T13:38:35.804Z"
   },
   {
    "duration": 73,
    "start_time": "2024-08-23T13:40:15.024Z"
   },
   {
    "duration": 504,
    "start_time": "2024-08-23T13:40:27.736Z"
   },
   {
    "duration": 955,
    "start_time": "2024-08-23T13:40:34.669Z"
   },
   {
    "duration": 398,
    "start_time": "2024-08-23T13:41:37.875Z"
   },
   {
    "duration": 880,
    "start_time": "2024-08-23T13:41:38.276Z"
   },
   {
    "duration": 147,
    "start_time": "2024-08-23T13:41:39.158Z"
   },
   {
    "duration": 4,
    "start_time": "2024-08-23T13:41:39.306Z"
   },
   {
    "duration": 278,
    "start_time": "2024-08-23T13:41:39.312Z"
   },
   {
    "duration": 144,
    "start_time": "2024-08-23T13:41:39.592Z"
   },
   {
    "duration": 447,
    "start_time": "2024-08-23T13:41:39.738Z"
   },
   {
    "duration": 932,
    "start_time": "2024-08-23T13:41:40.186Z"
   },
   {
    "duration": 178,
    "start_time": "2024-08-23T13:42:13.936Z"
   },
   {
    "duration": 67,
    "start_time": "2024-08-23T13:42:43.512Z"
   },
   {
    "duration": 203,
    "start_time": "2024-08-23T13:42:44.894Z"
   },
   {
    "duration": 4,
    "start_time": "2024-08-23T13:42:53.174Z"
   },
   {
    "duration": 145,
    "start_time": "2024-08-23T13:42:55.832Z"
   },
   {
    "duration": 147,
    "start_time": "2024-08-23T13:43:05.006Z"
   },
   {
    "duration": 452,
    "start_time": "2024-08-23T13:43:34.700Z"
   },
   {
    "duration": 950,
    "start_time": "2024-08-23T13:43:37.971Z"
   },
   {
    "duration": 397,
    "start_time": "2024-08-23T13:43:45.077Z"
   },
   {
    "duration": 948,
    "start_time": "2024-08-23T13:43:45.476Z"
   },
   {
    "duration": 161,
    "start_time": "2024-08-23T13:43:46.426Z"
   },
   {
    "duration": 4,
    "start_time": "2024-08-23T13:43:46.589Z"
   },
   {
    "duration": 256,
    "start_time": "2024-08-23T13:43:46.594Z"
   },
   {
    "duration": 147,
    "start_time": "2024-08-23T13:43:46.852Z"
   },
   {
    "duration": 451,
    "start_time": "2024-08-23T13:43:47.001Z"
   },
   {
    "duration": 926,
    "start_time": "2024-08-23T13:43:47.454Z"
   },
   {
    "duration": 67,
    "start_time": "2024-08-23T13:45:42.439Z"
   },
   {
    "duration": 6,
    "start_time": "2024-08-23T13:45:50.014Z"
   },
   {
    "duration": 339,
    "start_time": "2024-08-23T13:46:00.205Z"
   },
   {
    "duration": 56,
    "start_time": "2024-08-23T13:46:22.244Z"
   },
   {
    "duration": 59,
    "start_time": "2024-08-23T13:46:27.860Z"
   },
   {
    "duration": 4,
    "start_time": "2024-08-23T13:46:31.159Z"
   },
   {
    "duration": 6,
    "start_time": "2024-08-23T13:46:51.583Z"
   },
   {
    "duration": 314,
    "start_time": "2024-08-23T13:46:57.312Z"
   },
   {
    "duration": 6,
    "start_time": "2024-08-23T13:47:33.645Z"
   },
   {
    "duration": 14,
    "start_time": "2024-08-23T13:47:44.404Z"
   },
   {
    "duration": 101,
    "start_time": "2024-08-23T13:53:46.133Z"
   },
   {
    "duration": 241,
    "start_time": "2024-08-23T13:54:04.868Z"
   },
   {
    "duration": 5,
    "start_time": "2024-08-23T13:54:13.589Z"
   },
   {
    "duration": 8,
    "start_time": "2024-08-23T13:55:07.625Z"
   },
   {
    "duration": 431,
    "start_time": "2024-08-23T13:55:57.332Z"
   },
   {
    "duration": 924,
    "start_time": "2024-08-23T13:55:57.764Z"
   },
   {
    "duration": 148,
    "start_time": "2024-08-23T13:55:58.690Z"
   },
   {
    "duration": 4,
    "start_time": "2024-08-23T13:55:58.839Z"
   },
   {
    "duration": 264,
    "start_time": "2024-08-23T13:55:58.852Z"
   },
   {
    "duration": 146,
    "start_time": "2024-08-23T13:55:59.117Z"
   },
   {
    "duration": 5,
    "start_time": "2024-08-23T13:55:59.264Z"
   },
   {
    "duration": 12,
    "start_time": "2024-08-23T13:55:59.270Z"
   },
   {
    "duration": 298,
    "start_time": "2024-08-23T13:55:59.283Z"
   },
   {
    "duration": 5,
    "start_time": "2024-08-23T13:55:59.583Z"
   },
   {
    "duration": 297,
    "start_time": "2024-08-23T13:55:59.590Z"
   },
   {
    "duration": 609,
    "start_time": "2024-08-23T13:55:59.888Z"
   },
   {
    "duration": 126,
    "start_time": "2024-08-23T13:56:00.499Z"
   },
   {
    "duration": 65,
    "start_time": "2024-08-23T13:58:04.120Z"
   },
   {
    "duration": 5,
    "start_time": "2024-08-23T13:58:06.631Z"
   },
   {
    "duration": 5,
    "start_time": "2024-08-23T13:58:10.746Z"
   },
   {
    "duration": 3,
    "start_time": "2024-08-23T14:00:31.759Z"
   },
   {
    "duration": 18,
    "start_time": "2024-08-23T14:01:03.256Z"
   },
   {
    "duration": 4,
    "start_time": "2024-08-23T14:01:12.748Z"
   },
   {
    "duration": 14,
    "start_time": "2024-08-23T14:01:13.261Z"
   },
   {
    "duration": 425,
    "start_time": "2024-08-23T14:01:25.494Z"
   },
   {
    "duration": 4,
    "start_time": "2024-08-23T14:01:29.997Z"
   },
   {
    "duration": 6439,
    "start_time": "2024-08-23T14:01:30.188Z"
   },
   {
    "duration": 3,
    "start_time": "2024-08-23T14:01:47.084Z"
   },
   {
    "duration": 139,
    "start_time": "2024-08-23T14:01:48.099Z"
   },
   {
    "duration": 4,
    "start_time": "2024-08-23T14:01:53.990Z"
   },
   {
    "duration": 1025,
    "start_time": "2024-08-23T14:01:54.260Z"
   },
   {
    "duration": 17,
    "start_time": "2024-08-23T14:02:32.043Z"
   },
   {
    "duration": 94,
    "start_time": "2024-08-23T14:02:41.477Z"
   },
   {
    "duration": 37,
    "start_time": "2024-08-23T14:03:48.149Z"
   },
   {
    "duration": 94,
    "start_time": "2024-08-23T14:03:52.981Z"
   },
   {
    "duration": 4,
    "start_time": "2024-08-23T14:05:35.539Z"
   },
   {
    "duration": 6406,
    "start_time": "2024-08-23T14:05:36.054Z"
   },
   {
    "duration": 4,
    "start_time": "2024-08-23T14:05:56.308Z"
   },
   {
    "duration": 3,
    "start_time": "2024-08-23T14:05:59.822Z"
   },
   {
    "duration": 1051,
    "start_time": "2024-08-23T14:06:00.079Z"
   },
   {
    "duration": 19,
    "start_time": "2024-08-23T14:07:06.092Z"
   },
   {
    "duration": 25,
    "start_time": "2024-08-23T14:07:07.162Z"
   },
   {
    "duration": 677,
    "start_time": "2024-08-23T14:07:15.443Z"
   },
   {
    "duration": 930,
    "start_time": "2024-08-23T14:07:16.122Z"
   },
   {
    "duration": 154,
    "start_time": "2024-08-23T14:07:17.053Z"
   },
   {
    "duration": 4,
    "start_time": "2024-08-23T14:07:17.209Z"
   },
   {
    "duration": 250,
    "start_time": "2024-08-23T14:07:17.214Z"
   },
   {
    "duration": 156,
    "start_time": "2024-08-23T14:07:17.465Z"
   },
   {
    "duration": 13,
    "start_time": "2024-08-23T14:07:17.623Z"
   },
   {
    "duration": 21,
    "start_time": "2024-08-23T14:07:17.638Z"
   },
   {
    "duration": 308,
    "start_time": "2024-08-23T14:07:17.660Z"
   },
   {
    "duration": 312,
    "start_time": "2024-08-23T14:07:17.970Z"
   },
   {
    "duration": 604,
    "start_time": "2024-08-23T14:07:18.284Z"
   },
   {
    "duration": 123,
    "start_time": "2024-08-23T14:07:18.890Z"
   },
   {
    "duration": 5,
    "start_time": "2024-08-23T14:07:19.014Z"
   },
   {
    "duration": 44,
    "start_time": "2024-08-23T14:07:19.021Z"
   },
   {
    "duration": 1087,
    "start_time": "2024-08-23T14:07:19.067Z"
   },
   {
    "duration": 101,
    "start_time": "2024-08-23T14:07:20.155Z"
   },
   {
    "duration": 23,
    "start_time": "2024-08-23T14:07:20.258Z"
   },
   {
    "duration": 29,
    "start_time": "2024-08-23T14:07:20.283Z"
   },
   {
    "duration": 61,
    "start_time": "2024-08-23T14:07:37.701Z"
   },
   {
    "duration": 5,
    "start_time": "2024-08-23T14:07:39.818Z"
   },
   {
    "duration": 26,
    "start_time": "2024-08-23T14:07:40.169Z"
   },
   {
    "duration": 619,
    "start_time": "2024-08-23T14:07:48.091Z"
   },
   {
    "duration": 905,
    "start_time": "2024-08-23T14:07:48.713Z"
   },
   {
    "duration": 148,
    "start_time": "2024-08-23T14:07:49.619Z"
   },
   {
    "duration": 4,
    "start_time": "2024-08-23T14:07:49.769Z"
   },
   {
    "duration": 257,
    "start_time": "2024-08-23T14:07:49.775Z"
   },
   {
    "duration": 147,
    "start_time": "2024-08-23T14:07:50.034Z"
   },
   {
    "duration": 5,
    "start_time": "2024-08-23T14:07:50.183Z"
   },
   {
    "duration": 13,
    "start_time": "2024-08-23T14:07:50.189Z"
   },
   {
    "duration": 326,
    "start_time": "2024-08-23T14:07:50.203Z"
   },
   {
    "duration": 300,
    "start_time": "2024-08-23T14:07:50.530Z"
   },
   {
    "duration": 584,
    "start_time": "2024-08-23T14:07:50.832Z"
   },
   {
    "duration": 127,
    "start_time": "2024-08-23T14:07:51.417Z"
   },
   {
    "duration": 6,
    "start_time": "2024-08-23T14:07:51.546Z"
   },
   {
    "duration": 7,
    "start_time": "2024-08-23T14:07:51.555Z"
   },
   {
    "duration": 1108,
    "start_time": "2024-08-23T14:07:51.563Z"
   },
   {
    "duration": 100,
    "start_time": "2024-08-23T14:07:52.672Z"
   },
   {
    "duration": 38,
    "start_time": "2024-08-23T14:07:52.773Z"
   },
   {
    "duration": 107,
    "start_time": "2024-08-23T14:07:52.813Z"
   },
   {
    "duration": 696,
    "start_time": "2024-08-23T14:11:08.136Z"
   },
   {
    "duration": 921,
    "start_time": "2024-08-23T14:11:08.834Z"
   },
   {
    "duration": 154,
    "start_time": "2024-08-23T14:11:09.756Z"
   },
   {
    "duration": 3,
    "start_time": "2024-08-23T14:11:09.912Z"
   },
   {
    "duration": 247,
    "start_time": "2024-08-23T14:11:09.917Z"
   },
   {
    "duration": 144,
    "start_time": "2024-08-23T14:11:10.165Z"
   },
   {
    "duration": 5,
    "start_time": "2024-08-23T14:11:10.311Z"
   },
   {
    "duration": 36,
    "start_time": "2024-08-23T14:11:10.317Z"
   },
   {
    "duration": 288,
    "start_time": "2024-08-23T14:11:10.355Z"
   },
   {
    "duration": 311,
    "start_time": "2024-08-23T14:11:10.645Z"
   },
   {
    "duration": 591,
    "start_time": "2024-08-23T14:11:10.958Z"
   },
   {
    "duration": 121,
    "start_time": "2024-08-23T14:11:11.552Z"
   },
   {
    "duration": 4,
    "start_time": "2024-08-23T14:11:11.675Z"
   },
   {
    "duration": 15,
    "start_time": "2024-08-23T14:11:11.680Z"
   },
   {
    "duration": 1123,
    "start_time": "2024-08-23T14:11:11.697Z"
   },
   {
    "duration": 97,
    "start_time": "2024-08-23T14:11:12.821Z"
   },
   {
    "duration": 40,
    "start_time": "2024-08-23T14:11:12.920Z"
   },
   {
    "duration": 96,
    "start_time": "2024-08-23T14:11:12.962Z"
   },
   {
    "duration": 643,
    "start_time": "2024-08-23T14:11:37.309Z"
   },
   {
    "duration": 935,
    "start_time": "2024-08-23T14:11:37.953Z"
   },
   {
    "duration": 156,
    "start_time": "2024-08-23T14:11:38.889Z"
   },
   {
    "duration": 25,
    "start_time": "2024-08-23T14:11:39.047Z"
   },
   {
    "duration": 259,
    "start_time": "2024-08-23T14:11:39.074Z"
   },
   {
    "duration": 147,
    "start_time": "2024-08-23T14:11:39.334Z"
   },
   {
    "duration": 5,
    "start_time": "2024-08-23T14:11:39.483Z"
   },
   {
    "duration": 22,
    "start_time": "2024-08-23T14:11:39.490Z"
   },
   {
    "duration": 308,
    "start_time": "2024-08-23T14:11:39.513Z"
   },
   {
    "duration": 302,
    "start_time": "2024-08-23T14:11:39.824Z"
   },
   {
    "duration": 604,
    "start_time": "2024-08-23T14:11:40.128Z"
   },
   {
    "duration": 129,
    "start_time": "2024-08-23T14:11:40.733Z"
   },
   {
    "duration": 5,
    "start_time": "2024-08-23T14:11:40.863Z"
   },
   {
    "duration": 3,
    "start_time": "2024-08-23T14:11:40.869Z"
   },
   {
    "duration": 1119,
    "start_time": "2024-08-23T14:11:40.874Z"
   },
   {
    "duration": 100,
    "start_time": "2024-08-23T14:11:41.995Z"
   },
   {
    "duration": 33,
    "start_time": "2024-08-23T14:11:42.096Z"
   },
   {
    "duration": 97,
    "start_time": "2024-08-23T14:11:42.131Z"
   },
   {
    "duration": 1023,
    "start_time": "2024-08-23T14:12:02.454Z"
   },
   {
    "duration": 584,
    "start_time": "2024-08-23T14:12:59.409Z"
   },
   {
    "duration": 963,
    "start_time": "2024-08-23T14:12:59.995Z"
   },
   {
    "duration": 158,
    "start_time": "2024-08-23T14:13:00.959Z"
   },
   {
    "duration": 4,
    "start_time": "2024-08-23T14:13:01.119Z"
   },
   {
    "duration": 256,
    "start_time": "2024-08-23T14:13:01.125Z"
   },
   {
    "duration": 152,
    "start_time": "2024-08-23T14:13:01.383Z"
   },
   {
    "duration": 15,
    "start_time": "2024-08-23T14:13:01.537Z"
   },
   {
    "duration": 17,
    "start_time": "2024-08-23T14:13:01.553Z"
   },
   {
    "duration": 292,
    "start_time": "2024-08-23T14:13:01.571Z"
   },
   {
    "duration": 311,
    "start_time": "2024-08-23T14:13:01.865Z"
   },
   {
    "duration": 630,
    "start_time": "2024-08-23T14:13:02.178Z"
   },
   {
    "duration": 128,
    "start_time": "2024-08-23T14:13:02.810Z"
   },
   {
    "duration": 14,
    "start_time": "2024-08-23T14:13:02.939Z"
   },
   {
    "duration": 4,
    "start_time": "2024-08-23T14:13:02.955Z"
   },
   {
    "duration": 1150,
    "start_time": "2024-08-23T14:13:02.960Z"
   },
   {
    "duration": 101,
    "start_time": "2024-08-23T14:13:04.111Z"
   },
   {
    "duration": 40,
    "start_time": "2024-08-23T14:13:04.214Z"
   },
   {
    "duration": 1017,
    "start_time": "2024-08-23T14:13:04.256Z"
   },
   {
    "duration": 92,
    "start_time": "2024-08-23T14:13:05.275Z"
   },
   {
    "duration": 750,
    "start_time": "2024-08-23T14:13:23.318Z"
   },
   {
    "duration": 910,
    "start_time": "2024-08-23T14:13:24.071Z"
   },
   {
    "duration": 157,
    "start_time": "2024-08-23T14:13:24.983Z"
   },
   {
    "duration": 11,
    "start_time": "2024-08-23T14:13:25.142Z"
   },
   {
    "duration": 243,
    "start_time": "2024-08-23T14:13:25.155Z"
   },
   {
    "duration": 155,
    "start_time": "2024-08-23T14:13:25.400Z"
   },
   {
    "duration": 6,
    "start_time": "2024-08-23T14:13:25.557Z"
   },
   {
    "duration": 21,
    "start_time": "2024-08-23T14:13:25.564Z"
   },
   {
    "duration": 319,
    "start_time": "2024-08-23T14:13:25.587Z"
   },
   {
    "duration": 299,
    "start_time": "2024-08-23T14:13:25.909Z"
   },
   {
    "duration": 600,
    "start_time": "2024-08-23T14:13:26.210Z"
   },
   {
    "duration": 128,
    "start_time": "2024-08-23T14:13:26.812Z"
   },
   {
    "duration": 4,
    "start_time": "2024-08-23T14:13:26.942Z"
   },
   {
    "duration": 5,
    "start_time": "2024-08-23T14:13:26.948Z"
   },
   {
    "duration": 1104,
    "start_time": "2024-08-23T14:13:26.955Z"
   },
   {
    "duration": 98,
    "start_time": "2024-08-23T14:13:28.060Z"
   },
   {
    "duration": 31,
    "start_time": "2024-08-23T14:13:28.159Z"
   },
   {
    "duration": 1005,
    "start_time": "2024-08-23T14:13:28.192Z"
   },
   {
    "duration": 88,
    "start_time": "2024-08-23T14:13:29.198Z"
   },
   {
    "duration": 25,
    "start_time": "2024-08-23T14:14:59.254Z"
   },
   {
    "duration": 1087,
    "start_time": "2024-08-23T14:14:59.896Z"
   },
   {
    "duration": 87,
    "start_time": "2024-08-23T14:15:15.384Z"
   },
   {
    "duration": 31,
    "start_time": "2024-08-23T14:19:36.921Z"
   },
   {
    "duration": 1028,
    "start_time": "2024-08-23T14:19:38.966Z"
   },
   {
    "duration": 88,
    "start_time": "2024-08-23T14:19:39.996Z"
   },
   {
    "duration": 673,
    "start_time": "2024-08-23T14:20:14.842Z"
   },
   {
    "duration": 949,
    "start_time": "2024-08-23T14:20:15.517Z"
   },
   {
    "duration": 153,
    "start_time": "2024-08-23T14:20:16.467Z"
   },
   {
    "duration": 48,
    "start_time": "2024-08-23T14:20:16.622Z"
   },
   {
    "duration": 251,
    "start_time": "2024-08-23T14:20:16.672Z"
   },
   {
    "duration": 148,
    "start_time": "2024-08-23T14:20:16.925Z"
   },
   {
    "duration": 27,
    "start_time": "2024-08-23T14:20:17.075Z"
   },
   {
    "duration": 13,
    "start_time": "2024-08-23T14:20:17.104Z"
   },
   {
    "duration": 295,
    "start_time": "2024-08-23T14:20:17.119Z"
   },
   {
    "duration": 303,
    "start_time": "2024-08-23T14:20:17.416Z"
   },
   {
    "duration": 604,
    "start_time": "2024-08-23T14:20:17.720Z"
   },
   {
    "duration": 126,
    "start_time": "2024-08-23T14:20:18.326Z"
   },
   {
    "duration": 4,
    "start_time": "2024-08-23T14:20:18.453Z"
   },
   {
    "duration": 5,
    "start_time": "2024-08-23T14:20:18.459Z"
   },
   {
    "duration": 1088,
    "start_time": "2024-08-23T14:20:18.465Z"
   },
   {
    "duration": 84,
    "start_time": "2024-08-23T14:20:19.555Z"
   },
   {
    "duration": 29,
    "start_time": "2024-08-23T14:20:19.651Z"
   },
   {
    "duration": 25,
    "start_time": "2024-08-23T14:20:19.682Z"
   },
   {
    "duration": 47,
    "start_time": "2024-08-23T14:20:19.709Z"
   },
   {
    "duration": 1006,
    "start_time": "2024-08-23T14:20:19.758Z"
   },
   {
    "duration": 86,
    "start_time": "2024-08-23T14:20:20.766Z"
   },
   {
    "duration": 608,
    "start_time": "2024-08-23T14:21:16.593Z"
   },
   {
    "duration": 916,
    "start_time": "2024-08-23T14:21:17.203Z"
   },
   {
    "duration": 190,
    "start_time": "2024-08-23T14:21:18.120Z"
   },
   {
    "duration": 4,
    "start_time": "2024-08-23T14:21:18.312Z"
   },
   {
    "duration": 248,
    "start_time": "2024-08-23T14:21:18.318Z"
   },
   {
    "duration": 185,
    "start_time": "2024-08-23T14:21:18.567Z"
   },
   {
    "duration": 5,
    "start_time": "2024-08-23T14:21:18.754Z"
   },
   {
    "duration": 25,
    "start_time": "2024-08-23T14:21:18.760Z"
   },
   {
    "duration": 312,
    "start_time": "2024-08-23T14:21:18.787Z"
   },
   {
    "duration": 287,
    "start_time": "2024-08-23T14:21:19.102Z"
   },
   {
    "duration": 574,
    "start_time": "2024-08-23T14:21:19.391Z"
   },
   {
    "duration": 132,
    "start_time": "2024-08-23T14:21:19.966Z"
   },
   {
    "duration": 5,
    "start_time": "2024-08-23T14:21:20.100Z"
   },
   {
    "duration": 12,
    "start_time": "2024-08-23T14:21:20.106Z"
   },
   {
    "duration": 1084,
    "start_time": "2024-08-23T14:21:20.120Z"
   },
   {
    "duration": 96,
    "start_time": "2024-08-23T14:21:21.205Z"
   },
   {
    "duration": 31,
    "start_time": "2024-08-23T14:21:21.302Z"
   },
   {
    "duration": 38,
    "start_time": "2024-08-23T14:21:21.334Z"
   },
   {
    "duration": 32,
    "start_time": "2024-08-23T14:21:21.373Z"
   },
   {
    "duration": 1031,
    "start_time": "2024-08-23T14:21:21.406Z"
   },
   {
    "duration": 84,
    "start_time": "2024-08-23T14:21:22.438Z"
   },
   {
    "duration": 81,
    "start_time": "2024-08-23T14:23:39.105Z"
   },
   {
    "duration": 660,
    "start_time": "2024-08-23T14:23:44.942Z"
   },
   {
    "duration": 932,
    "start_time": "2024-08-23T14:23:45.604Z"
   },
   {
    "duration": 152,
    "start_time": "2024-08-23T14:23:46.537Z"
   },
   {
    "duration": 11,
    "start_time": "2024-08-23T14:23:46.690Z"
   },
   {
    "duration": 249,
    "start_time": "2024-08-23T14:23:46.703Z"
   },
   {
    "duration": 149,
    "start_time": "2024-08-23T14:23:46.953Z"
   },
   {
    "duration": 19,
    "start_time": "2024-08-23T14:23:47.103Z"
   },
   {
    "duration": 23,
    "start_time": "2024-08-23T14:23:47.125Z"
   },
   {
    "duration": 289,
    "start_time": "2024-08-23T14:23:47.149Z"
   },
   {
    "duration": 300,
    "start_time": "2024-08-23T14:23:47.440Z"
   },
   {
    "duration": 611,
    "start_time": "2024-08-23T14:23:47.742Z"
   },
   {
    "duration": 123,
    "start_time": "2024-08-23T14:23:48.355Z"
   },
   {
    "duration": 5,
    "start_time": "2024-08-23T14:23:48.480Z"
   },
   {
    "duration": 8,
    "start_time": "2024-08-23T14:23:48.488Z"
   },
   {
    "duration": 1055,
    "start_time": "2024-08-23T14:23:48.498Z"
   },
   {
    "duration": 84,
    "start_time": "2024-08-23T14:23:49.556Z"
   },
   {
    "duration": 29,
    "start_time": "2024-08-23T14:23:49.653Z"
   },
   {
    "duration": 26,
    "start_time": "2024-08-23T14:23:49.684Z"
   },
   {
    "duration": 58,
    "start_time": "2024-08-23T14:23:49.712Z"
   },
   {
    "duration": 82,
    "start_time": "2024-08-23T14:23:49.771Z"
   },
   {
    "duration": 4,
    "start_time": "2024-08-23T14:23:59.657Z"
   },
   {
    "duration": 666,
    "start_time": "2024-08-23T14:24:50.446Z"
   },
   {
    "duration": 908,
    "start_time": "2024-08-23T14:24:51.114Z"
   },
   {
    "duration": 158,
    "start_time": "2024-08-23T14:24:52.023Z"
   },
   {
    "duration": 7,
    "start_time": "2024-08-23T14:24:52.183Z"
   },
   {
    "duration": 244,
    "start_time": "2024-08-23T14:24:52.191Z"
   },
   {
    "duration": 147,
    "start_time": "2024-08-23T14:24:52.436Z"
   },
   {
    "duration": 5,
    "start_time": "2024-08-23T14:24:52.585Z"
   },
   {
    "duration": 14,
    "start_time": "2024-08-23T14:24:52.591Z"
   },
   {
    "duration": 323,
    "start_time": "2024-08-23T14:24:52.607Z"
   },
   {
    "duration": 300,
    "start_time": "2024-08-23T14:24:52.933Z"
   },
   {
    "duration": 565,
    "start_time": "2024-08-23T14:24:53.235Z"
   },
   {
    "duration": 156,
    "start_time": "2024-08-23T14:24:53.802Z"
   },
   {
    "duration": 5,
    "start_time": "2024-08-23T14:24:53.963Z"
   },
   {
    "duration": 4,
    "start_time": "2024-08-23T14:24:53.970Z"
   },
   {
    "duration": 1091,
    "start_time": "2024-08-23T14:24:53.976Z"
   },
   {
    "duration": 96,
    "start_time": "2024-08-23T14:24:55.069Z"
   },
   {
    "duration": 31,
    "start_time": "2024-08-23T14:24:55.167Z"
   },
   {
    "duration": 26,
    "start_time": "2024-08-23T14:24:55.200Z"
   },
   {
    "duration": 56,
    "start_time": "2024-08-23T14:24:55.228Z"
   },
   {
    "duration": 79,
    "start_time": "2024-08-23T14:24:55.286Z"
   },
   {
    "duration": 5,
    "start_time": "2024-08-23T14:24:55.366Z"
   },
   {
    "duration": 604,
    "start_time": "2024-08-23T14:27:08.393Z"
   },
   {
    "duration": 914,
    "start_time": "2024-08-23T14:27:08.999Z"
   },
   {
    "duration": 155,
    "start_time": "2024-08-23T14:27:09.915Z"
   },
   {
    "duration": 5,
    "start_time": "2024-08-23T14:27:10.073Z"
   },
   {
    "duration": 256,
    "start_time": "2024-08-23T14:27:10.079Z"
   },
   {
    "duration": 150,
    "start_time": "2024-08-23T14:27:10.336Z"
   },
   {
    "duration": 5,
    "start_time": "2024-08-23T14:27:10.488Z"
   },
   {
    "duration": 21,
    "start_time": "2024-08-23T14:27:10.494Z"
   },
   {
    "duration": 309,
    "start_time": "2024-08-23T14:27:10.516Z"
   },
   {
    "duration": 303,
    "start_time": "2024-08-23T14:27:10.828Z"
   },
   {
    "duration": 584,
    "start_time": "2024-08-23T14:27:11.132Z"
   },
   {
    "duration": 127,
    "start_time": "2024-08-23T14:27:11.718Z"
   },
   {
    "duration": 4,
    "start_time": "2024-08-23T14:27:11.852Z"
   },
   {
    "duration": 13,
    "start_time": "2024-08-23T14:27:11.858Z"
   },
   {
    "duration": 1096,
    "start_time": "2024-08-23T14:27:11.872Z"
   },
   {
    "duration": 95,
    "start_time": "2024-08-23T14:27:12.970Z"
   },
   {
    "duration": 31,
    "start_time": "2024-08-23T14:27:13.067Z"
   },
   {
    "duration": 54,
    "start_time": "2024-08-23T14:27:13.099Z"
   },
   {
    "duration": 31,
    "start_time": "2024-08-23T14:27:13.155Z"
   },
   {
    "duration": 85,
    "start_time": "2024-08-23T14:27:13.187Z"
   },
   {
    "duration": 318,
    "start_time": "2024-08-23T14:27:13.273Z"
   },
   {
    "duration": 5,
    "start_time": "2024-08-23T14:27:55.603Z"
   },
   {
    "duration": 623,
    "start_time": "2024-08-23T14:28:08.184Z"
   },
   {
    "duration": 895,
    "start_time": "2024-08-23T14:28:08.809Z"
   },
   {
    "duration": 154,
    "start_time": "2024-08-23T14:28:09.705Z"
   },
   {
    "duration": 4,
    "start_time": "2024-08-23T14:28:09.861Z"
   },
   {
    "duration": 254,
    "start_time": "2024-08-23T14:28:09.866Z"
   },
   {
    "duration": 148,
    "start_time": "2024-08-23T14:28:10.122Z"
   },
   {
    "duration": 4,
    "start_time": "2024-08-23T14:28:10.272Z"
   },
   {
    "duration": 14,
    "start_time": "2024-08-23T14:28:10.278Z"
   },
   {
    "duration": 303,
    "start_time": "2024-08-23T14:28:10.293Z"
   },
   {
    "duration": 291,
    "start_time": "2024-08-23T14:28:10.599Z"
   },
   {
    "duration": 583,
    "start_time": "2024-08-23T14:28:10.891Z"
   },
   {
    "duration": 122,
    "start_time": "2024-08-23T14:28:11.475Z"
   },
   {
    "duration": 5,
    "start_time": "2024-08-23T14:28:11.598Z"
   },
   {
    "duration": 5,
    "start_time": "2024-08-23T14:28:11.605Z"
   },
   {
    "duration": 1099,
    "start_time": "2024-08-23T14:28:11.611Z"
   },
   {
    "duration": 97,
    "start_time": "2024-08-23T14:28:12.712Z"
   },
   {
    "duration": 42,
    "start_time": "2024-08-23T14:28:12.810Z"
   },
   {
    "duration": 26,
    "start_time": "2024-08-23T14:28:12.853Z"
   },
   {
    "duration": 33,
    "start_time": "2024-08-23T14:28:12.880Z"
   },
   {
    "duration": 92,
    "start_time": "2024-08-23T14:28:12.914Z"
   },
   {
    "duration": 316,
    "start_time": "2024-08-23T14:28:13.008Z"
   },
   {
    "duration": 36,
    "start_time": "2024-08-23T14:29:14.638Z"
   },
   {
    "duration": 81,
    "start_time": "2024-08-23T14:29:19.933Z"
   },
   {
    "duration": 21,
    "start_time": "2024-08-23T14:29:25.888Z"
   },
   {
    "duration": 72,
    "start_time": "2024-08-23T14:29:26.021Z"
   },
   {
    "duration": 244,
    "start_time": "2024-08-23T14:29:31.778Z"
   },
   {
    "duration": 3,
    "start_time": "2024-08-23T14:30:41.496Z"
   },
   {
    "duration": 909,
    "start_time": "2024-08-23T14:30:42.185Z"
   },
   {
    "duration": 786,
    "start_time": "2024-08-23T14:56:56.290Z"
   },
   {
    "duration": 90,
    "start_time": "2024-08-23T15:02:16.489Z"
   },
   {
    "duration": 3,
    "start_time": "2024-08-23T15:04:19.469Z"
   },
   {
    "duration": 1766,
    "start_time": "2024-08-23T17:48:29.040Z"
   },
   {
    "duration": 1582,
    "start_time": "2024-08-23T17:48:30.808Z"
   },
   {
    "duration": 182,
    "start_time": "2024-08-23T17:48:32.392Z"
   },
   {
    "duration": 6,
    "start_time": "2024-08-23T17:48:32.576Z"
   },
   {
    "duration": 308,
    "start_time": "2024-08-23T17:48:32.583Z"
   },
   {
    "duration": 174,
    "start_time": "2024-08-23T17:48:32.893Z"
   },
   {
    "duration": 8,
    "start_time": "2024-08-23T17:48:33.069Z"
   },
   {
    "duration": 23,
    "start_time": "2024-08-23T17:48:33.098Z"
   },
   {
    "duration": 408,
    "start_time": "2024-08-23T17:48:33.127Z"
   },
   {
    "duration": 347,
    "start_time": "2024-08-23T17:48:33.537Z"
   },
   {
    "duration": 853,
    "start_time": "2024-08-23T17:48:33.885Z"
   },
   {
    "duration": 159,
    "start_time": "2024-08-23T17:48:34.740Z"
   },
   {
    "duration": 10,
    "start_time": "2024-08-23T17:48:34.901Z"
   },
   {
    "duration": 15,
    "start_time": "2024-08-23T17:48:34.914Z"
   },
   {
    "duration": 1389,
    "start_time": "2024-08-23T17:48:34.936Z"
   },
   {
    "duration": 112,
    "start_time": "2024-08-23T17:48:36.327Z"
   },
   {
    "duration": 32,
    "start_time": "2024-08-23T17:48:36.441Z"
   },
   {
    "duration": 40,
    "start_time": "2024-08-23T17:48:36.475Z"
   },
   {
    "duration": 41,
    "start_time": "2024-08-23T17:48:36.517Z"
   },
   {
    "duration": 51,
    "start_time": "2024-08-23T17:48:36.560Z"
   },
   {
    "duration": 98,
    "start_time": "2024-08-23T17:48:36.617Z"
   },
   {
    "duration": 371,
    "start_time": "2024-08-23T17:48:36.717Z"
   },
   {
    "duration": 108,
    "start_time": "2024-08-23T17:48:37.090Z"
   },
   {
    "duration": 3,
    "start_time": "2024-08-23T17:48:37.200Z"
   },
   {
    "duration": 33,
    "start_time": "2024-08-23T17:48:37.205Z"
   },
   {
    "duration": 128,
    "start_time": "2024-08-23T17:48:37.239Z"
   },
   {
    "duration": 1438,
    "start_time": "2024-08-23T17:49:48.410Z"
   },
   {
    "duration": 1125,
    "start_time": "2024-08-23T17:49:49.850Z"
   },
   {
    "duration": 181,
    "start_time": "2024-08-23T17:49:50.977Z"
   },
   {
    "duration": 4,
    "start_time": "2024-08-23T17:49:51.160Z"
   },
   {
    "duration": 297,
    "start_time": "2024-08-23T17:49:51.166Z"
   },
   {
    "duration": 175,
    "start_time": "2024-08-23T17:49:51.465Z"
   },
   {
    "duration": 6,
    "start_time": "2024-08-23T17:49:51.642Z"
   },
   {
    "duration": 26,
    "start_time": "2024-08-23T17:49:51.650Z"
   },
   {
    "duration": 412,
    "start_time": "2024-08-23T17:49:51.679Z"
   },
   {
    "duration": 417,
    "start_time": "2024-08-23T17:49:52.093Z"
   },
   {
    "duration": 730,
    "start_time": "2024-08-23T17:49:52.512Z"
   },
   {
    "duration": 148,
    "start_time": "2024-08-23T17:49:53.244Z"
   },
   {
    "duration": 8,
    "start_time": "2024-08-23T17:49:53.398Z"
   },
   {
    "duration": 9,
    "start_time": "2024-08-23T17:49:53.408Z"
   },
   {
    "duration": 1370,
    "start_time": "2024-08-23T17:49:53.419Z"
   },
   {
    "duration": 108,
    "start_time": "2024-08-23T17:49:54.799Z"
   },
   {
    "duration": 38,
    "start_time": "2024-08-23T17:49:54.909Z"
   },
   {
    "duration": 28,
    "start_time": "2024-08-23T17:49:54.949Z"
   },
   {
    "duration": 57,
    "start_time": "2024-08-23T17:49:54.978Z"
   },
   {
    "duration": 23,
    "start_time": "2024-08-23T17:49:55.038Z"
   },
   {
    "duration": 116,
    "start_time": "2024-08-23T17:49:55.063Z"
   },
   {
    "duration": 340,
    "start_time": "2024-08-23T17:49:55.181Z"
   },
   {
    "duration": 114,
    "start_time": "2024-08-23T17:49:55.522Z"
   },
   {
    "duration": 4,
    "start_time": "2024-08-23T17:49:55.638Z"
   },
   {
    "duration": 40,
    "start_time": "2024-08-23T17:49:55.643Z"
   },
   {
    "duration": 138,
    "start_time": "2024-08-23T17:49:55.685Z"
   },
   {
    "duration": 16,
    "start_time": "2024-08-23T17:51:16.575Z"
   },
   {
    "duration": 1318,
    "start_time": "2024-08-23T17:51:16.731Z"
   },
   {
    "duration": 23,
    "start_time": "2024-08-23T17:58:13.931Z"
   },
   {
    "duration": 1745,
    "start_time": "2024-08-23T17:58:21.194Z"
   },
   {
    "duration": 1120,
    "start_time": "2024-08-23T17:58:22.945Z"
   },
   {
    "duration": 213,
    "start_time": "2024-08-23T17:58:24.069Z"
   },
   {
    "duration": 23,
    "start_time": "2024-08-23T17:58:24.284Z"
   },
   {
    "duration": 322,
    "start_time": "2024-08-23T17:58:24.312Z"
   },
   {
    "duration": 207,
    "start_time": "2024-08-23T17:58:24.636Z"
   },
   {
    "duration": 4,
    "start_time": "2024-08-23T17:58:24.846Z"
   },
   {
    "duration": 14,
    "start_time": "2024-08-23T17:58:24.852Z"
   },
   {
    "duration": 379,
    "start_time": "2024-08-23T17:58:24.868Z"
   },
   {
    "duration": 357,
    "start_time": "2024-08-23T17:58:25.249Z"
   },
   {
    "duration": 765,
    "start_time": "2024-08-23T17:58:25.608Z"
   },
   {
    "duration": 170,
    "start_time": "2024-08-23T17:58:26.375Z"
   },
   {
    "duration": 7,
    "start_time": "2024-08-23T17:58:26.547Z"
   },
   {
    "duration": 3,
    "start_time": "2024-08-23T17:58:26.556Z"
   },
   {
    "duration": 1359,
    "start_time": "2024-08-23T17:58:26.560Z"
   },
   {
    "duration": 103,
    "start_time": "2024-08-23T17:58:27.921Z"
   },
   {
    "duration": 38,
    "start_time": "2024-08-23T17:58:28.026Z"
   },
   {
    "duration": 76,
    "start_time": "2024-08-23T17:58:28.066Z"
   },
   {
    "duration": 34,
    "start_time": "2024-08-23T17:58:28.144Z"
   },
   {
    "duration": 26,
    "start_time": "2024-08-23T17:58:28.179Z"
   },
   {
    "duration": 56,
    "start_time": "2024-08-23T17:58:28.213Z"
   },
   {
    "duration": 266,
    "start_time": "2024-08-23T17:58:28.270Z"
   },
   {
    "duration": 94,
    "start_time": "2024-08-23T17:58:28.542Z"
   },
   {
    "duration": 3,
    "start_time": "2024-08-23T17:58:28.642Z"
   },
   {
    "duration": 30,
    "start_time": "2024-08-23T17:58:28.647Z"
   },
   {
    "duration": 2487,
    "start_time": "2024-08-23T17:58:28.679Z"
   },
   {
    "duration": 4,
    "start_time": "2024-08-23T17:58:42.720Z"
   },
   {
    "duration": 1973,
    "start_time": "2024-08-23T17:58:47.279Z"
   },
   {
    "duration": 3,
    "start_time": "2024-08-23T17:59:18.567Z"
   },
   {
    "duration": 4,
    "start_time": "2024-08-23T18:00:36.345Z"
   },
   {
    "duration": 13,
    "start_time": "2024-08-23T18:00:40.304Z"
   },
   {
    "duration": 11,
    "start_time": "2024-08-23T18:02:38.029Z"
   },
   {
    "duration": 140,
    "start_time": "2024-08-23T18:03:48.010Z"
   },
   {
    "duration": 59,
    "start_time": "2024-08-23T18:04:00.684Z"
   },
   {
    "duration": 17,
    "start_time": "2024-08-23T18:04:00.886Z"
   },
   {
    "duration": 1944,
    "start_time": "2024-08-23T18:04:01.039Z"
   },
   {
    "duration": 6,
    "start_time": "2024-08-23T18:04:02.985Z"
   },
   {
    "duration": 4,
    "start_time": "2024-08-23T18:04:11.334Z"
   },
   {
    "duration": 22,
    "start_time": "2024-08-23T18:04:11.604Z"
   },
   {
    "duration": 9828,
    "start_time": "2024-08-23T18:04:11.813Z"
   },
   {
    "duration": 7,
    "start_time": "2024-08-23T18:04:21.644Z"
   },
   {
    "duration": 9588,
    "start_time": "2024-08-23T18:04:49.274Z"
   },
   {
    "duration": 5,
    "start_time": "2024-08-23T18:04:58.864Z"
   },
   {
    "duration": 4,
    "start_time": "2024-08-23T18:05:26.559Z"
   },
   {
    "duration": 18,
    "start_time": "2024-08-23T18:05:26.730Z"
   },
   {
    "duration": 8704,
    "start_time": "2024-08-23T18:05:26.855Z"
   },
   {
    "duration": 5,
    "start_time": "2024-08-23T18:05:35.561Z"
   },
   {
    "duration": 26,
    "start_time": "2024-08-23T18:14:16.943Z"
   },
   {
    "duration": 13,
    "start_time": "2024-08-23T18:15:14.947Z"
   },
   {
    "duration": 4,
    "start_time": "2024-08-23T18:15:22.939Z"
   },
   {
    "duration": 3,
    "start_time": "2024-08-23T18:15:37.917Z"
   },
   {
    "duration": 1669,
    "start_time": "2024-08-23T18:20:33.709Z"
   },
   {
    "duration": 1238,
    "start_time": "2024-08-23T18:20:35.380Z"
   },
   {
    "duration": 247,
    "start_time": "2024-08-23T18:20:36.620Z"
   },
   {
    "duration": 5,
    "start_time": "2024-08-23T18:20:36.868Z"
   },
   {
    "duration": 345,
    "start_time": "2024-08-23T18:20:36.875Z"
   },
   {
    "duration": 226,
    "start_time": "2024-08-23T18:20:37.222Z"
   },
   {
    "duration": 7,
    "start_time": "2024-08-23T18:20:37.454Z"
   },
   {
    "duration": 86,
    "start_time": "2024-08-23T18:20:37.463Z"
   },
   {
    "duration": 397,
    "start_time": "2024-08-23T18:20:37.556Z"
   },
   {
    "duration": 406,
    "start_time": "2024-08-23T18:20:37.954Z"
   },
   {
    "duration": 883,
    "start_time": "2024-08-23T18:20:38.361Z"
   },
   {
    "duration": 188,
    "start_time": "2024-08-23T18:20:39.248Z"
   },
   {
    "duration": 4,
    "start_time": "2024-08-23T18:20:39.438Z"
   },
   {
    "duration": 14,
    "start_time": "2024-08-23T18:20:39.446Z"
   },
   {
    "duration": 1456,
    "start_time": "2024-08-23T18:20:39.461Z"
   },
   {
    "duration": 114,
    "start_time": "2024-08-23T18:20:40.919Z"
   },
   {
    "duration": 36,
    "start_time": "2024-08-23T18:20:41.035Z"
   },
   {
    "duration": 45,
    "start_time": "2024-08-23T18:20:41.073Z"
   },
   {
    "duration": 42,
    "start_time": "2024-08-23T18:20:41.123Z"
   },
   {
    "duration": 20,
    "start_time": "2024-08-23T18:20:41.167Z"
   },
   {
    "duration": 82,
    "start_time": "2024-08-23T18:20:41.189Z"
   },
   {
    "duration": 237,
    "start_time": "2024-08-23T18:20:41.272Z"
   },
   {
    "duration": 135,
    "start_time": "2024-08-23T18:20:41.514Z"
   },
   {
    "duration": 5,
    "start_time": "2024-08-23T18:20:41.651Z"
   },
   {
    "duration": 60,
    "start_time": "2024-08-23T18:20:41.658Z"
   },
   {
    "duration": 184,
    "start_time": "2024-08-23T18:20:41.720Z"
   },
   {
    "duration": 0,
    "start_time": "2024-08-23T18:20:41.915Z"
   },
   {
    "duration": 0,
    "start_time": "2024-08-23T18:20:41.916Z"
   },
   {
    "duration": 0,
    "start_time": "2024-08-23T18:20:41.918Z"
   },
   {
    "duration": 1613,
    "start_time": "2024-08-23T18:23:10.209Z"
   },
   {
    "duration": 1144,
    "start_time": "2024-08-23T18:23:11.825Z"
   },
   {
    "duration": 204,
    "start_time": "2024-08-23T18:23:12.970Z"
   },
   {
    "duration": 5,
    "start_time": "2024-08-23T18:23:13.176Z"
   },
   {
    "duration": 337,
    "start_time": "2024-08-23T18:23:13.183Z"
   },
   {
    "duration": 209,
    "start_time": "2024-08-23T18:23:13.522Z"
   },
   {
    "duration": 8,
    "start_time": "2024-08-23T18:23:13.733Z"
   },
   {
    "duration": 15,
    "start_time": "2024-08-23T18:23:13.743Z"
   },
   {
    "duration": 383,
    "start_time": "2024-08-23T18:23:13.760Z"
   },
   {
    "duration": 373,
    "start_time": "2024-08-23T18:23:14.146Z"
   },
   {
    "duration": 792,
    "start_time": "2024-08-23T18:23:14.521Z"
   },
   {
    "duration": 160,
    "start_time": "2024-08-23T18:23:15.318Z"
   },
   {
    "duration": 4,
    "start_time": "2024-08-23T18:23:15.480Z"
   },
   {
    "duration": 64,
    "start_time": "2024-08-23T18:23:15.487Z"
   },
   {
    "duration": 1393,
    "start_time": "2024-08-23T18:23:15.553Z"
   },
   {
    "duration": 117,
    "start_time": "2024-08-23T18:23:16.949Z"
   },
   {
    "duration": 49,
    "start_time": "2024-08-23T18:23:17.068Z"
   },
   {
    "duration": 32,
    "start_time": "2024-08-23T18:23:17.119Z"
   },
   {
    "duration": 45,
    "start_time": "2024-08-23T18:23:17.153Z"
   },
   {
    "duration": 37,
    "start_time": "2024-08-23T18:23:17.200Z"
   },
   {
    "duration": 52,
    "start_time": "2024-08-23T18:23:17.239Z"
   },
   {
    "duration": 260,
    "start_time": "2024-08-23T18:23:17.297Z"
   },
   {
    "duration": 117,
    "start_time": "2024-08-23T18:23:17.561Z"
   },
   {
    "duration": 3,
    "start_time": "2024-08-23T18:23:17.680Z"
   },
   {
    "duration": 50,
    "start_time": "2024-08-23T18:23:17.685Z"
   },
   {
    "duration": 144,
    "start_time": "2024-08-23T18:23:17.737Z"
   },
   {
    "duration": 0,
    "start_time": "2024-08-23T18:23:17.883Z"
   },
   {
    "duration": 0,
    "start_time": "2024-08-23T18:23:17.885Z"
   },
   {
    "duration": 0,
    "start_time": "2024-08-23T18:23:17.886Z"
   },
   {
    "duration": 8864,
    "start_time": "2024-08-23T18:23:26.822Z"
   },
   {
    "duration": 5,
    "start_time": "2024-08-23T18:23:35.688Z"
   },
   {
    "duration": 9,
    "start_time": "2024-08-23T18:23:41.335Z"
   },
   {
    "duration": 3,
    "start_time": "2024-08-23T18:23:41.675Z"
   },
   {
    "duration": 3,
    "start_time": "2024-08-23T18:23:53.861Z"
   },
   {
    "duration": 3,
    "start_time": "2024-08-23T18:23:54.580Z"
   },
   {
    "duration": 23,
    "start_time": "2024-08-23T18:24:44.152Z"
   },
   {
    "duration": 58,
    "start_time": "2024-08-23T18:25:55.705Z"
   },
   {
    "duration": 5,
    "start_time": "2024-08-23T18:28:36.137Z"
   },
   {
    "duration": 3,
    "start_time": "2024-08-23T18:29:26.057Z"
   },
   {
    "duration": 1533,
    "start_time": "2024-08-23T18:30:11.375Z"
   },
   {
    "duration": 1471,
    "start_time": "2024-08-23T18:30:25.706Z"
   },
   {
    "duration": 1113,
    "start_time": "2024-08-23T18:31:51.870Z"
   },
   {
    "duration": 1435,
    "start_time": "2024-08-23T18:32:13.816Z"
   },
   {
    "duration": 1007,
    "start_time": "2024-08-23T18:32:15.252Z"
   },
   {
    "duration": 175,
    "start_time": "2024-08-23T18:32:16.260Z"
   },
   {
    "duration": 4,
    "start_time": "2024-08-23T18:32:16.436Z"
   },
   {
    "duration": 265,
    "start_time": "2024-08-23T18:32:16.442Z"
   },
   {
    "duration": 163,
    "start_time": "2024-08-23T18:32:16.708Z"
   },
   {
    "duration": 5,
    "start_time": "2024-08-23T18:32:16.872Z"
   },
   {
    "duration": 32,
    "start_time": "2024-08-23T18:32:16.878Z"
   },
   {
    "duration": 319,
    "start_time": "2024-08-23T18:32:16.912Z"
   },
   {
    "duration": 350,
    "start_time": "2024-08-23T18:32:17.233Z"
   },
   {
    "duration": 674,
    "start_time": "2024-08-23T18:32:17.584Z"
   },
   {
    "duration": 160,
    "start_time": "2024-08-23T18:32:18.259Z"
   },
   {
    "duration": 11,
    "start_time": "2024-08-23T18:32:18.421Z"
   },
   {
    "duration": 6,
    "start_time": "2024-08-23T18:32:18.435Z"
   },
   {
    "duration": 1219,
    "start_time": "2024-08-23T18:32:18.443Z"
   },
   {
    "duration": 106,
    "start_time": "2024-08-23T18:32:19.663Z"
   },
   {
    "duration": 42,
    "start_time": "2024-08-23T18:32:19.770Z"
   },
   {
    "duration": 28,
    "start_time": "2024-08-23T18:32:19.817Z"
   },
   {
    "duration": 31,
    "start_time": "2024-08-23T18:32:19.847Z"
   },
   {
    "duration": 30,
    "start_time": "2024-08-23T18:32:19.879Z"
   },
   {
    "duration": 52,
    "start_time": "2024-08-23T18:32:19.914Z"
   },
   {
    "duration": 192,
    "start_time": "2024-08-23T18:32:19.968Z"
   },
   {
    "duration": 87,
    "start_time": "2024-08-23T18:32:20.162Z"
   },
   {
    "duration": 3,
    "start_time": "2024-08-23T18:32:20.251Z"
   },
   {
    "duration": 25,
    "start_time": "2024-08-23T18:32:20.255Z"
   },
   {
    "duration": 7884,
    "start_time": "2024-08-23T18:32:20.281Z"
   },
   {
    "duration": 4,
    "start_time": "2024-08-23T18:32:28.167Z"
   },
   {
    "duration": 3511,
    "start_time": "2024-08-23T18:32:28.174Z"
   },
   {
    "duration": 3,
    "start_time": "2024-08-23T18:32:31.686Z"
   },
   {
    "duration": 52,
    "start_time": "2024-08-23T18:33:08.506Z"
   },
   {
    "duration": 1522,
    "start_time": "2024-08-23T18:33:17.258Z"
   },
   {
    "duration": 1297,
    "start_time": "2024-08-23T18:33:18.782Z"
   },
   {
    "duration": 164,
    "start_time": "2024-08-23T18:33:20.080Z"
   },
   {
    "duration": 4,
    "start_time": "2024-08-23T18:33:20.245Z"
   },
   {
    "duration": 279,
    "start_time": "2024-08-23T18:33:20.251Z"
   },
   {
    "duration": 159,
    "start_time": "2024-08-23T18:33:20.531Z"
   },
   {
    "duration": 12,
    "start_time": "2024-08-23T18:33:20.699Z"
   },
   {
    "duration": 19,
    "start_time": "2024-08-23T18:33:20.713Z"
   },
   {
    "duration": 316,
    "start_time": "2024-08-23T18:33:20.733Z"
   },
   {
    "duration": 315,
    "start_time": "2024-08-23T18:33:21.052Z"
   },
   {
    "duration": 653,
    "start_time": "2024-08-23T18:33:21.369Z"
   },
   {
    "duration": 135,
    "start_time": "2024-08-23T18:33:22.023Z"
   },
   {
    "duration": 5,
    "start_time": "2024-08-23T18:33:22.160Z"
   },
   {
    "duration": 45,
    "start_time": "2024-08-23T18:33:22.167Z"
   },
   {
    "duration": 1155,
    "start_time": "2024-08-23T18:33:22.213Z"
   },
   {
    "duration": 111,
    "start_time": "2024-08-23T18:33:23.370Z"
   },
   {
    "duration": 41,
    "start_time": "2024-08-23T18:33:23.483Z"
   },
   {
    "duration": 26,
    "start_time": "2024-08-23T18:33:23.525Z"
   },
   {
    "duration": 63,
    "start_time": "2024-08-23T18:33:23.553Z"
   },
   {
    "duration": 19,
    "start_time": "2024-08-23T18:33:23.617Z"
   },
   {
    "duration": 73,
    "start_time": "2024-08-23T18:33:23.638Z"
   },
   {
    "duration": 213,
    "start_time": "2024-08-23T18:33:23.713Z"
   },
   {
    "duration": 93,
    "start_time": "2024-08-23T18:33:23.928Z"
   },
   {
    "duration": 4,
    "start_time": "2024-08-23T18:33:24.023Z"
   },
   {
    "duration": 36,
    "start_time": "2024-08-23T18:33:24.029Z"
   },
   {
    "duration": 7470,
    "start_time": "2024-08-23T18:33:24.067Z"
   },
   {
    "duration": 4,
    "start_time": "2024-08-23T18:33:31.539Z"
   },
   {
    "duration": 2880,
    "start_time": "2024-08-23T18:33:31.546Z"
   },
   {
    "duration": 183,
    "start_time": "2024-08-23T18:33:34.428Z"
   },
   {
    "duration": 4,
    "start_time": "2024-08-23T18:33:34.612Z"
   },
   {
    "duration": 59,
    "start_time": "2024-08-23T18:36:22.183Z"
   },
   {
    "duration": 7,
    "start_time": "2024-08-23T18:36:23.182Z"
   },
   {
    "duration": 6,
    "start_time": "2024-08-23T18:36:23.315Z"
   },
   {
    "duration": 1584,
    "start_time": "2024-08-23T18:36:31.142Z"
   },
   {
    "duration": 1296,
    "start_time": "2024-08-23T18:36:32.728Z"
   },
   {
    "duration": 156,
    "start_time": "2024-08-23T18:36:34.026Z"
   },
   {
    "duration": 4,
    "start_time": "2024-08-23T18:36:34.184Z"
   },
   {
    "duration": 267,
    "start_time": "2024-08-23T18:36:34.197Z"
   },
   {
    "duration": 170,
    "start_time": "2024-08-23T18:36:34.466Z"
   },
   {
    "duration": 23,
    "start_time": "2024-08-23T18:36:34.637Z"
   },
   {
    "duration": 13,
    "start_time": "2024-08-23T18:36:34.661Z"
   },
   {
    "duration": 318,
    "start_time": "2024-08-23T18:36:34.675Z"
   },
   {
    "duration": 299,
    "start_time": "2024-08-23T18:36:34.994Z"
   },
   {
    "duration": 658,
    "start_time": "2024-08-23T18:36:35.297Z"
   },
   {
    "duration": 133,
    "start_time": "2024-08-23T18:36:35.957Z"
   },
   {
    "duration": 17,
    "start_time": "2024-08-23T18:36:36.092Z"
   },
   {
    "duration": 102,
    "start_time": "2024-08-23T18:36:36.113Z"
   },
   {
    "duration": 1166,
    "start_time": "2024-08-23T18:36:36.217Z"
   },
   {
    "duration": 125,
    "start_time": "2024-08-23T18:36:37.385Z"
   },
   {
    "duration": 32,
    "start_time": "2024-08-23T18:36:37.512Z"
   },
   {
    "duration": 72,
    "start_time": "2024-08-23T18:36:37.546Z"
   },
   {
    "duration": 39,
    "start_time": "2024-08-23T18:36:37.620Z"
   },
   {
    "duration": 21,
    "start_time": "2024-08-23T18:36:37.660Z"
   },
   {
    "duration": 54,
    "start_time": "2024-08-23T18:36:37.705Z"
   },
   {
    "duration": 206,
    "start_time": "2024-08-23T18:36:37.760Z"
   },
   {
    "duration": 99,
    "start_time": "2024-08-23T18:36:37.967Z"
   },
   {
    "duration": 3,
    "start_time": "2024-08-23T18:36:38.067Z"
   },
   {
    "duration": 58,
    "start_time": "2024-08-23T18:36:38.072Z"
   },
   {
    "duration": 7438,
    "start_time": "2024-08-23T18:36:38.131Z"
   },
   {
    "duration": 4,
    "start_time": "2024-08-23T18:36:45.571Z"
   },
   {
    "duration": 136,
    "start_time": "2024-08-23T18:36:45.577Z"
   },
   {
    "duration": 0,
    "start_time": "2024-08-23T18:36:45.714Z"
   },
   {
    "duration": 0,
    "start_time": "2024-08-23T18:36:45.715Z"
   },
   {
    "duration": 0,
    "start_time": "2024-08-23T18:36:45.716Z"
   },
   {
    "duration": 9,
    "start_time": "2024-08-23T18:37:58.175Z"
   },
   {
    "duration": 12,
    "start_time": "2024-08-23T18:37:58.329Z"
   },
   {
    "duration": 1897,
    "start_time": "2024-08-23T18:41:12.568Z"
   },
   {
    "duration": 5,
    "start_time": "2024-08-23T18:41:14.467Z"
   },
   {
    "duration": 2528,
    "start_time": "2024-08-23T18:42:34.848Z"
   },
   {
    "duration": 4,
    "start_time": "2024-08-23T18:42:37.676Z"
   },
   {
    "duration": 1553,
    "start_time": "2024-08-23T18:43:16.974Z"
   },
   {
    "duration": 0,
    "start_time": "2024-08-23T18:43:18.529Z"
   },
   {
    "duration": 1477,
    "start_time": "2024-08-23T18:43:42.667Z"
   },
   {
    "duration": 1598,
    "start_time": "2024-08-23T18:43:58.464Z"
   },
   {
    "duration": 0,
    "start_time": "2024-08-23T18:44:00.064Z"
   },
   {
    "duration": 1697,
    "start_time": "2024-08-23T18:44:07.168Z"
   },
   {
    "duration": 293,
    "start_time": "2024-08-23T18:44:08.867Z"
   },
   {
    "duration": 83,
    "start_time": "2024-08-23T18:48:13.043Z"
   },
   {
    "duration": 1568,
    "start_time": "2024-08-23T18:48:15.739Z"
   },
   {
    "duration": 0,
    "start_time": "2024-08-23T18:48:17.308Z"
   },
   {
    "duration": 1576,
    "start_time": "2024-08-23T18:49:03.076Z"
   },
   {
    "duration": 1387,
    "start_time": "2024-08-23T18:49:04.656Z"
   },
   {
    "duration": 192,
    "start_time": "2024-08-23T18:49:06.045Z"
   },
   {
    "duration": 5,
    "start_time": "2024-08-23T18:49:06.238Z"
   },
   {
    "duration": 329,
    "start_time": "2024-08-23T18:49:06.246Z"
   },
   {
    "duration": 182,
    "start_time": "2024-08-23T18:49:06.576Z"
   },
   {
    "duration": 12,
    "start_time": "2024-08-23T18:49:06.759Z"
   },
   {
    "duration": 30,
    "start_time": "2024-08-23T18:49:06.773Z"
   },
   {
    "duration": 318,
    "start_time": "2024-08-23T18:49:06.805Z"
   },
   {
    "duration": 350,
    "start_time": "2024-08-23T18:49:07.125Z"
   },
   {
    "duration": 735,
    "start_time": "2024-08-23T18:49:07.477Z"
   },
   {
    "duration": 139,
    "start_time": "2024-08-23T18:49:08.215Z"
   },
   {
    "duration": 4,
    "start_time": "2024-08-23T18:49:08.356Z"
   },
   {
    "duration": 18,
    "start_time": "2024-08-23T18:49:08.365Z"
   },
   {
    "duration": 1359,
    "start_time": "2024-08-23T18:49:08.385Z"
   },
   {
    "duration": 106,
    "start_time": "2024-08-23T18:49:09.746Z"
   },
   {
    "duration": 30,
    "start_time": "2024-08-23T18:49:09.854Z"
   },
   {
    "duration": 40,
    "start_time": "2024-08-23T18:49:09.886Z"
   },
   {
    "duration": 35,
    "start_time": "2024-08-23T18:49:09.928Z"
   },
   {
    "duration": 50,
    "start_time": "2024-08-23T18:49:09.964Z"
   },
   {
    "duration": 52,
    "start_time": "2024-08-23T18:49:10.016Z"
   },
   {
    "duration": 210,
    "start_time": "2024-08-23T18:49:10.069Z"
   },
   {
    "duration": 83,
    "start_time": "2024-08-23T18:49:10.281Z"
   },
   {
    "duration": 3,
    "start_time": "2024-08-23T18:49:10.366Z"
   },
   {
    "duration": 44,
    "start_time": "2024-08-23T18:49:10.370Z"
   },
   {
    "duration": 8054,
    "start_time": "2024-08-23T18:49:10.416Z"
   },
   {
    "duration": 5,
    "start_time": "2024-08-23T18:49:18.472Z"
   },
   {
    "duration": 2186,
    "start_time": "2024-08-23T18:49:18.479Z"
   },
   {
    "duration": 270,
    "start_time": "2024-08-23T18:49:20.667Z"
   },
   {
    "duration": 4,
    "start_time": "2024-08-23T18:49:20.939Z"
   },
   {
    "duration": 1909,
    "start_time": "2024-08-23T18:49:20.944Z"
   },
   {
    "duration": 4,
    "start_time": "2024-08-23T18:51:23.433Z"
   },
   {
    "duration": 5,
    "start_time": "2024-08-23T18:51:37.354Z"
   },
   {
    "duration": 4,
    "start_time": "2024-08-23T18:52:35.707Z"
   },
   {
    "duration": 1809,
    "start_time": "2024-08-23T18:54:42.757Z"
   },
   {
    "duration": 1475,
    "start_time": "2024-08-23T18:54:44.568Z"
   },
   {
    "duration": 224,
    "start_time": "2024-08-23T18:54:46.046Z"
   },
   {
    "duration": 6,
    "start_time": "2024-08-23T18:54:46.273Z"
   },
   {
    "duration": 408,
    "start_time": "2024-08-23T18:54:46.281Z"
   },
   {
    "duration": 238,
    "start_time": "2024-08-23T18:54:46.690Z"
   },
   {
    "duration": 6,
    "start_time": "2024-08-23T18:54:46.930Z"
   },
   {
    "duration": 28,
    "start_time": "2024-08-23T18:54:46.939Z"
   },
   {
    "duration": 472,
    "start_time": "2024-08-23T18:54:46.970Z"
   },
   {
    "duration": 467,
    "start_time": "2024-08-23T18:54:47.450Z"
   },
   {
    "duration": 825,
    "start_time": "2024-08-23T18:54:47.919Z"
   },
   {
    "duration": 168,
    "start_time": "2024-08-23T18:54:48.746Z"
   },
   {
    "duration": 8,
    "start_time": "2024-08-23T18:54:48.917Z"
   },
   {
    "duration": 19,
    "start_time": "2024-08-23T18:54:48.927Z"
   },
   {
    "duration": 1387,
    "start_time": "2024-08-23T18:54:48.949Z"
   },
   {
    "duration": 116,
    "start_time": "2024-08-23T18:54:50.338Z"
   },
   {
    "duration": 45,
    "start_time": "2024-08-23T18:54:50.456Z"
   },
   {
    "duration": 36,
    "start_time": "2024-08-23T18:54:50.503Z"
   },
   {
    "duration": 89,
    "start_time": "2024-08-23T18:54:50.541Z"
   },
   {
    "duration": 37,
    "start_time": "2024-08-23T18:54:50.633Z"
   },
   {
    "duration": 71,
    "start_time": "2024-08-23T18:54:50.673Z"
   },
   {
    "duration": 273,
    "start_time": "2024-08-23T18:54:50.747Z"
   },
   {
    "duration": 86,
    "start_time": "2024-08-23T18:54:51.022Z"
   },
   {
    "duration": 5,
    "start_time": "2024-08-23T18:54:51.113Z"
   },
   {
    "duration": 28,
    "start_time": "2024-08-23T18:54:51.120Z"
   },
   {
    "duration": 8270,
    "start_time": "2024-08-23T18:54:51.150Z"
   },
   {
    "duration": 6,
    "start_time": "2024-08-23T18:54:59.422Z"
   },
   {
    "duration": 3,
    "start_time": "2024-08-23T18:54:59.431Z"
   },
   {
    "duration": 2311,
    "start_time": "2024-08-23T18:54:59.436Z"
   },
   {
    "duration": 5,
    "start_time": "2024-08-23T18:55:01.748Z"
   },
   {
    "duration": 30,
    "start_time": "2024-08-23T18:55:01.755Z"
   },
   {
    "duration": 2068,
    "start_time": "2024-08-23T18:55:01.787Z"
   },
   {
    "duration": 1476,
    "start_time": "2024-08-23T18:58:49.119Z"
   },
   {
    "duration": 1009,
    "start_time": "2024-08-23T18:58:50.597Z"
   },
   {
    "duration": 174,
    "start_time": "2024-08-23T18:58:51.607Z"
   },
   {
    "duration": 20,
    "start_time": "2024-08-23T18:58:51.783Z"
   },
   {
    "duration": 308,
    "start_time": "2024-08-23T18:58:51.806Z"
   },
   {
    "duration": 169,
    "start_time": "2024-08-23T18:58:52.117Z"
   },
   {
    "duration": 19,
    "start_time": "2024-08-23T18:58:52.288Z"
   },
   {
    "duration": 19,
    "start_time": "2024-08-23T18:58:52.310Z"
   },
   {
    "duration": 354,
    "start_time": "2024-08-23T18:58:52.331Z"
   },
   {
    "duration": 334,
    "start_time": "2024-08-23T18:58:52.688Z"
   },
   {
    "duration": 680,
    "start_time": "2024-08-23T18:58:53.023Z"
   },
   {
    "duration": 165,
    "start_time": "2024-08-23T18:58:53.707Z"
   },
   {
    "duration": 6,
    "start_time": "2024-08-23T18:58:53.874Z"
   },
   {
    "duration": 27,
    "start_time": "2024-08-23T18:58:53.881Z"
   },
   {
    "duration": 1246,
    "start_time": "2024-08-23T18:58:53.910Z"
   },
   {
    "duration": 104,
    "start_time": "2024-08-23T18:58:55.157Z"
   },
   {
    "duration": 50,
    "start_time": "2024-08-23T18:58:55.263Z"
   },
   {
    "duration": 29,
    "start_time": "2024-08-23T18:58:55.315Z"
   },
   {
    "duration": 36,
    "start_time": "2024-08-23T18:58:55.346Z"
   },
   {
    "duration": 36,
    "start_time": "2024-08-23T18:58:55.383Z"
   },
   {
    "duration": 53,
    "start_time": "2024-08-23T18:58:55.421Z"
   },
   {
    "duration": 235,
    "start_time": "2024-08-23T18:58:55.477Z"
   },
   {
    "duration": 89,
    "start_time": "2024-08-23T18:58:55.716Z"
   },
   {
    "duration": 5,
    "start_time": "2024-08-23T18:58:55.811Z"
   },
   {
    "duration": 21,
    "start_time": "2024-08-23T18:58:55.818Z"
   },
   {
    "duration": 7681,
    "start_time": "2024-08-23T18:58:55.840Z"
   },
   {
    "duration": 6,
    "start_time": "2024-08-23T18:59:03.524Z"
   },
   {
    "duration": 29,
    "start_time": "2024-08-23T18:59:03.535Z"
   },
   {
    "duration": 2096,
    "start_time": "2024-08-23T18:59:03.566Z"
   },
   {
    "duration": 4,
    "start_time": "2024-08-23T18:59:05.664Z"
   },
   {
    "duration": 18,
    "start_time": "2024-08-23T18:59:05.670Z"
   },
   {
    "duration": 1957,
    "start_time": "2024-08-23T18:59:05.689Z"
   },
   {
    "duration": 1530,
    "start_time": "2024-08-23T19:01:12.373Z"
   },
   {
    "duration": 1046,
    "start_time": "2024-08-23T19:01:13.906Z"
   },
   {
    "duration": 228,
    "start_time": "2024-08-23T19:01:14.954Z"
   },
   {
    "duration": 16,
    "start_time": "2024-08-23T19:01:15.185Z"
   },
   {
    "duration": 267,
    "start_time": "2024-08-23T19:01:15.209Z"
   },
   {
    "duration": 180,
    "start_time": "2024-08-23T19:01:15.478Z"
   },
   {
    "duration": 16,
    "start_time": "2024-08-23T19:01:15.660Z"
   },
   {
    "duration": 39,
    "start_time": "2024-08-23T19:01:15.678Z"
   },
   {
    "duration": 303,
    "start_time": "2024-08-23T19:01:15.719Z"
   },
   {
    "duration": 333,
    "start_time": "2024-08-23T19:01:16.026Z"
   },
   {
    "duration": 697,
    "start_time": "2024-08-23T19:01:16.360Z"
   },
   {
    "duration": 139,
    "start_time": "2024-08-23T19:01:17.058Z"
   },
   {
    "duration": 9,
    "start_time": "2024-08-23T19:01:17.212Z"
   },
   {
    "duration": 10,
    "start_time": "2024-08-23T19:01:17.222Z"
   },
   {
    "duration": 1214,
    "start_time": "2024-08-23T19:01:17.233Z"
   },
   {
    "duration": 121,
    "start_time": "2024-08-23T19:01:18.448Z"
   },
   {
    "duration": 52,
    "start_time": "2024-08-23T19:01:18.571Z"
   },
   {
    "duration": 59,
    "start_time": "2024-08-23T19:01:18.625Z"
   },
   {
    "duration": 48,
    "start_time": "2024-08-23T19:01:18.686Z"
   },
   {
    "duration": 28,
    "start_time": "2024-08-23T19:01:18.736Z"
   },
   {
    "duration": 70,
    "start_time": "2024-08-23T19:01:18.766Z"
   },
   {
    "duration": 219,
    "start_time": "2024-08-23T19:01:18.838Z"
   },
   {
    "duration": 86,
    "start_time": "2024-08-23T19:01:19.059Z"
   },
   {
    "duration": 4,
    "start_time": "2024-08-23T19:01:19.148Z"
   },
   {
    "duration": 42,
    "start_time": "2024-08-23T19:01:19.154Z"
   },
   {
    "duration": 7463,
    "start_time": "2024-08-23T19:01:19.202Z"
   },
   {
    "duration": 6,
    "start_time": "2024-08-23T19:01:26.667Z"
   },
   {
    "duration": 6,
    "start_time": "2024-08-23T19:01:26.677Z"
   },
   {
    "duration": 2089,
    "start_time": "2024-08-23T19:01:26.702Z"
   },
   {
    "duration": 9,
    "start_time": "2024-08-23T19:01:28.793Z"
   },
   {
    "duration": 11,
    "start_time": "2024-08-23T19:01:28.804Z"
   },
   {
    "duration": 1908,
    "start_time": "2024-08-23T19:01:28.818Z"
   },
   {
    "duration": 1385,
    "start_time": "2024-08-23T19:03:49.682Z"
   },
   {
    "duration": 957,
    "start_time": "2024-08-23T19:03:51.068Z"
   },
   {
    "duration": 159,
    "start_time": "2024-08-23T19:03:52.027Z"
   },
   {
    "duration": 4,
    "start_time": "2024-08-23T19:03:52.198Z"
   },
   {
    "duration": 248,
    "start_time": "2024-08-23T19:03:52.205Z"
   },
   {
    "duration": 154,
    "start_time": "2024-08-23T19:03:52.455Z"
   },
   {
    "duration": 31,
    "start_time": "2024-08-23T19:03:52.611Z"
   },
   {
    "duration": 20,
    "start_time": "2024-08-23T19:03:52.644Z"
   },
   {
    "duration": 313,
    "start_time": "2024-08-23T19:03:52.666Z"
   },
   {
    "duration": 305,
    "start_time": "2024-08-23T19:03:52.982Z"
   },
   {
    "duration": 611,
    "start_time": "2024-08-23T19:03:53.289Z"
   },
   {
    "duration": 128,
    "start_time": "2024-08-23T19:03:53.902Z"
   },
   {
    "duration": 6,
    "start_time": "2024-08-23T19:03:54.032Z"
   },
   {
    "duration": 15,
    "start_time": "2024-08-23T19:03:54.040Z"
   },
   {
    "duration": 1143,
    "start_time": "2024-08-23T19:03:54.056Z"
   },
   {
    "duration": 98,
    "start_time": "2024-08-23T19:03:55.201Z"
   },
   {
    "duration": 30,
    "start_time": "2024-08-23T19:03:55.301Z"
   },
   {
    "duration": 26,
    "start_time": "2024-08-23T19:03:55.332Z"
   },
   {
    "duration": 59,
    "start_time": "2024-08-23T19:03:55.359Z"
   },
   {
    "duration": 20,
    "start_time": "2024-08-23T19:03:55.420Z"
   },
   {
    "duration": 68,
    "start_time": "2024-08-23T19:03:55.441Z"
   },
   {
    "duration": 193,
    "start_time": "2024-08-23T19:03:55.511Z"
   },
   {
    "duration": 74,
    "start_time": "2024-08-23T19:03:55.705Z"
   },
   {
    "duration": 18,
    "start_time": "2024-08-23T19:03:55.780Z"
   },
   {
    "duration": 20,
    "start_time": "2024-08-23T19:03:55.800Z"
   },
   {
    "duration": 7135,
    "start_time": "2024-08-23T19:03:55.822Z"
   },
   {
    "duration": 6,
    "start_time": "2024-08-23T19:04:02.959Z"
   },
   {
    "duration": 14,
    "start_time": "2024-08-23T19:04:02.971Z"
   },
   {
    "duration": 2022,
    "start_time": "2024-08-23T19:04:02.986Z"
   },
   {
    "duration": 4,
    "start_time": "2024-08-23T19:04:05.010Z"
   },
   {
    "duration": 7,
    "start_time": "2024-08-23T19:04:05.016Z"
   },
   {
    "duration": 1894,
    "start_time": "2024-08-23T19:04:05.025Z"
   },
   {
    "duration": 1611,
    "start_time": "2024-08-23T19:04:37.362Z"
   },
   {
    "duration": 1029,
    "start_time": "2024-08-23T19:04:38.975Z"
   },
   {
    "duration": 162,
    "start_time": "2024-08-23T19:04:40.006Z"
   },
   {
    "duration": 4,
    "start_time": "2024-08-23T19:04:40.169Z"
   },
   {
    "duration": 261,
    "start_time": "2024-08-23T19:04:40.175Z"
   },
   {
    "duration": 164,
    "start_time": "2024-08-23T19:04:40.438Z"
   },
   {
    "duration": 50,
    "start_time": "2024-08-23T19:04:40.603Z"
   },
   {
    "duration": 13,
    "start_time": "2024-08-23T19:04:40.654Z"
   },
   {
    "duration": 310,
    "start_time": "2024-08-23T19:04:40.669Z"
   },
   {
    "duration": 318,
    "start_time": "2024-08-23T19:04:40.981Z"
   },
   {
    "duration": 637,
    "start_time": "2024-08-23T19:04:41.301Z"
   },
   {
    "duration": 134,
    "start_time": "2024-08-23T19:04:41.940Z"
   },
   {
    "duration": 3,
    "start_time": "2024-08-23T19:04:42.076Z"
   },
   {
    "duration": 16,
    "start_time": "2024-08-23T19:04:42.082Z"
   },
   {
    "duration": 1217,
    "start_time": "2024-08-23T19:04:42.099Z"
   },
   {
    "duration": 96,
    "start_time": "2024-08-23T19:04:43.318Z"
   },
   {
    "duration": 31,
    "start_time": "2024-08-23T19:04:43.415Z"
   },
   {
    "duration": 27,
    "start_time": "2024-08-23T19:04:43.448Z"
   },
   {
    "duration": 53,
    "start_time": "2024-08-23T19:04:43.476Z"
   },
   {
    "duration": 19,
    "start_time": "2024-08-23T19:04:43.531Z"
   },
   {
    "duration": 89,
    "start_time": "2024-08-23T19:04:43.552Z"
   },
   {
    "duration": 195,
    "start_time": "2024-08-23T19:04:43.642Z"
   },
   {
    "duration": 78,
    "start_time": "2024-08-23T19:04:43.839Z"
   },
   {
    "duration": 2,
    "start_time": "2024-08-23T19:04:43.919Z"
   },
   {
    "duration": 22,
    "start_time": "2024-08-23T19:04:43.923Z"
   },
   {
    "duration": 7133,
    "start_time": "2024-08-23T19:04:43.946Z"
   },
   {
    "duration": 7,
    "start_time": "2024-08-23T19:04:51.082Z"
   },
   {
    "duration": 21,
    "start_time": "2024-08-23T19:04:51.098Z"
   },
   {
    "duration": 3440,
    "start_time": "2024-08-23T19:04:51.121Z"
   },
   {
    "duration": 3,
    "start_time": "2024-08-23T19:04:54.562Z"
   },
   {
    "duration": 33,
    "start_time": "2024-08-23T19:04:54.567Z"
   },
   {
    "duration": 1483,
    "start_time": "2024-08-24T10:29:20.916Z"
   },
   {
    "duration": 2924,
    "start_time": "2024-08-24T10:29:22.401Z"
   },
   {
    "duration": 144,
    "start_time": "2024-08-24T10:29:25.327Z"
   },
   {
    "duration": 4,
    "start_time": "2024-08-24T10:29:25.473Z"
   },
   {
    "duration": 247,
    "start_time": "2024-08-24T10:29:25.479Z"
   },
   {
    "duration": 146,
    "start_time": "2024-08-24T10:29:25.727Z"
   },
   {
    "duration": 4,
    "start_time": "2024-08-24T10:29:25.875Z"
   },
   {
    "duration": 13,
    "start_time": "2024-08-24T10:29:25.880Z"
   },
   {
    "duration": 296,
    "start_time": "2024-08-24T10:29:25.895Z"
   },
   {
    "duration": 291,
    "start_time": "2024-08-24T10:29:26.192Z"
   },
   {
    "duration": 584,
    "start_time": "2024-08-24T10:29:26.484Z"
   },
   {
    "duration": 116,
    "start_time": "2024-08-24T10:29:27.069Z"
   },
   {
    "duration": 4,
    "start_time": "2024-08-24T10:29:27.187Z"
   },
   {
    "duration": 16,
    "start_time": "2024-08-24T10:29:27.194Z"
   },
   {
    "duration": 1076,
    "start_time": "2024-08-24T10:29:27.213Z"
   },
   {
    "duration": 94,
    "start_time": "2024-08-24T10:29:28.290Z"
   },
   {
    "duration": 29,
    "start_time": "2024-08-24T10:29:28.385Z"
   },
   {
    "duration": 37,
    "start_time": "2024-08-24T10:29:28.416Z"
   },
   {
    "duration": 32,
    "start_time": "2024-08-24T10:29:28.455Z"
   },
   {
    "duration": 20,
    "start_time": "2024-08-24T10:29:28.488Z"
   },
   {
    "duration": 67,
    "start_time": "2024-08-24T10:29:28.509Z"
   },
   {
    "duration": 190,
    "start_time": "2024-08-24T10:29:28.578Z"
   },
   {
    "duration": 87,
    "start_time": "2024-08-24T10:29:28.770Z"
   },
   {
    "duration": 4,
    "start_time": "2024-08-24T10:29:28.859Z"
   },
   {
    "duration": 24,
    "start_time": "2024-08-24T10:29:28.864Z"
   },
   {
    "duration": 6461,
    "start_time": "2024-08-24T10:29:28.890Z"
   },
   {
    "duration": 4,
    "start_time": "2024-08-24T10:29:35.353Z"
   },
   {
    "duration": 16,
    "start_time": "2024-08-24T10:29:35.359Z"
   },
   {
    "duration": 3037,
    "start_time": "2024-08-24T10:29:35.376Z"
   },
   {
    "duration": 3,
    "start_time": "2024-08-24T10:29:38.415Z"
   },
   {
    "duration": 23,
    "start_time": "2024-08-24T10:29:38.419Z"
   },
   {
    "duration": 44,
    "start_time": "2024-08-24T10:29:58.754Z"
   },
   {
    "duration": 1387,
    "start_time": "2024-08-24T10:30:05.238Z"
   },
   {
    "duration": 2887,
    "start_time": "2024-08-24T10:30:06.627Z"
   },
   {
    "duration": 136,
    "start_time": "2024-08-24T10:30:09.515Z"
   },
   {
    "duration": 4,
    "start_time": "2024-08-24T10:30:09.653Z"
   },
   {
    "duration": 253,
    "start_time": "2024-08-24T10:30:09.659Z"
   },
   {
    "duration": 148,
    "start_time": "2024-08-24T10:30:09.914Z"
   },
   {
    "duration": 6,
    "start_time": "2024-08-24T10:30:10.063Z"
   },
   {
    "duration": 70,
    "start_time": "2024-08-24T10:30:10.070Z"
   },
   {
    "duration": 277,
    "start_time": "2024-08-24T10:30:10.142Z"
   },
   {
    "duration": 296,
    "start_time": "2024-08-24T10:30:10.420Z"
   },
   {
    "duration": 571,
    "start_time": "2024-08-24T10:30:10.717Z"
   },
   {
    "duration": 108,
    "start_time": "2024-08-24T10:30:11.290Z"
   },
   {
    "duration": 5,
    "start_time": "2024-08-24T10:30:11.399Z"
   },
   {
    "duration": 9,
    "start_time": "2024-08-24T10:30:11.406Z"
   },
   {
    "duration": 1051,
    "start_time": "2024-08-24T10:30:11.417Z"
   },
   {
    "duration": 90,
    "start_time": "2024-08-24T10:30:12.470Z"
   },
   {
    "duration": 30,
    "start_time": "2024-08-24T10:30:12.562Z"
   },
   {
    "duration": 26,
    "start_time": "2024-08-24T10:30:12.594Z"
   },
   {
    "duration": 55,
    "start_time": "2024-08-24T10:30:12.622Z"
   },
   {
    "duration": 19,
    "start_time": "2024-08-24T10:30:12.679Z"
   },
   {
    "duration": 66,
    "start_time": "2024-08-24T10:30:12.699Z"
   },
   {
    "duration": 192,
    "start_time": "2024-08-24T10:30:12.767Z"
   },
   {
    "duration": 67,
    "start_time": "2024-08-24T10:30:12.960Z"
   },
   {
    "duration": 4,
    "start_time": "2024-08-24T10:30:13.029Z"
   },
   {
    "duration": 35,
    "start_time": "2024-08-24T10:30:13.035Z"
   },
   {
    "duration": 6499,
    "start_time": "2024-08-24T10:30:13.072Z"
   },
   {
    "duration": 5,
    "start_time": "2024-08-24T10:30:19.572Z"
   },
   {
    "duration": 22,
    "start_time": "2024-08-24T10:30:19.578Z"
   },
   {
    "duration": 3188,
    "start_time": "2024-08-24T10:30:19.602Z"
   },
   {
    "duration": 4,
    "start_time": "2024-08-24T10:30:22.792Z"
   },
   {
    "duration": 7,
    "start_time": "2024-08-24T10:30:22.798Z"
   },
   {
    "duration": 3,
    "start_time": "2024-08-24T10:30:22.806Z"
   },
   {
    "duration": 1693,
    "start_time": "2024-08-24T10:31:23.883Z"
   },
   {
    "duration": 3132,
    "start_time": "2024-08-24T10:31:25.578Z"
   },
   {
    "duration": 162,
    "start_time": "2024-08-24T10:31:28.712Z"
   },
   {
    "duration": 4,
    "start_time": "2024-08-24T10:31:28.876Z"
   },
   {
    "duration": 262,
    "start_time": "2024-08-24T10:31:28.882Z"
   },
   {
    "duration": 170,
    "start_time": "2024-08-24T10:31:29.146Z"
   },
   {
    "duration": 6,
    "start_time": "2024-08-24T10:31:29.318Z"
   },
   {
    "duration": 29,
    "start_time": "2024-08-24T10:31:29.326Z"
   },
   {
    "duration": 317,
    "start_time": "2024-08-24T10:31:29.357Z"
   },
   {
    "duration": 353,
    "start_time": "2024-08-24T10:31:29.676Z"
   },
   {
    "duration": 746,
    "start_time": "2024-08-24T10:31:30.031Z"
   },
   {
    "duration": 127,
    "start_time": "2024-08-24T10:31:30.779Z"
   },
   {
    "duration": 5,
    "start_time": "2024-08-24T10:31:30.909Z"
   },
   {
    "duration": 12,
    "start_time": "2024-08-24T10:31:30.918Z"
   },
   {
    "duration": 1294,
    "start_time": "2024-08-24T10:31:30.932Z"
   },
   {
    "duration": 116,
    "start_time": "2024-08-24T10:31:32.228Z"
   },
   {
    "duration": 41,
    "start_time": "2024-08-24T10:31:32.345Z"
   },
   {
    "duration": 28,
    "start_time": "2024-08-24T10:31:32.388Z"
   },
   {
    "duration": 60,
    "start_time": "2024-08-24T10:31:32.418Z"
   },
   {
    "duration": 23,
    "start_time": "2024-08-24T10:31:32.480Z"
   },
   {
    "duration": 75,
    "start_time": "2024-08-24T10:31:32.504Z"
   },
   {
    "duration": 234,
    "start_time": "2024-08-24T10:31:32.581Z"
   },
   {
    "duration": 95,
    "start_time": "2024-08-24T10:31:32.816Z"
   },
   {
    "duration": 4,
    "start_time": "2024-08-24T10:31:32.913Z"
   },
   {
    "duration": 26,
    "start_time": "2024-08-24T10:31:32.919Z"
   },
   {
    "duration": 7067,
    "start_time": "2024-08-24T10:31:32.957Z"
   },
   {
    "duration": 5,
    "start_time": "2024-08-24T10:31:40.026Z"
   },
   {
    "duration": 3,
    "start_time": "2024-08-24T10:31:40.032Z"
   },
   {
    "duration": 3552,
    "start_time": "2024-08-24T10:31:40.037Z"
   },
   {
    "duration": 3,
    "start_time": "2024-08-24T10:31:43.590Z"
   },
   {
    "duration": 9,
    "start_time": "2024-08-24T10:31:43.595Z"
   },
   {
    "duration": 5,
    "start_time": "2024-08-24T10:31:43.605Z"
   },
   {
    "duration": 77,
    "start_time": "2024-08-24T10:34:47.947Z"
   },
   {
    "duration": 1469,
    "start_time": "2024-08-24T10:34:57.815Z"
   },
   {
    "duration": 3040,
    "start_time": "2024-08-24T10:34:59.286Z"
   },
   {
    "duration": 146,
    "start_time": "2024-08-24T10:35:02.328Z"
   },
   {
    "duration": 14,
    "start_time": "2024-08-24T10:35:02.476Z"
   },
   {
    "duration": 250,
    "start_time": "2024-08-24T10:35:02.492Z"
   },
   {
    "duration": 146,
    "start_time": "2024-08-24T10:35:02.744Z"
   },
   {
    "duration": 5,
    "start_time": "2024-08-24T10:35:02.892Z"
   },
   {
    "duration": 20,
    "start_time": "2024-08-24T10:35:02.899Z"
   },
   {
    "duration": 317,
    "start_time": "2024-08-24T10:35:02.920Z"
   },
   {
    "duration": 333,
    "start_time": "2024-08-24T10:35:03.239Z"
   },
   {
    "duration": 652,
    "start_time": "2024-08-24T10:35:03.574Z"
   },
   {
    "duration": 130,
    "start_time": "2024-08-24T10:35:04.228Z"
   },
   {
    "duration": 4,
    "start_time": "2024-08-24T10:35:04.360Z"
   },
   {
    "duration": 12,
    "start_time": "2024-08-24T10:35:04.367Z"
   },
   {
    "duration": 1198,
    "start_time": "2024-08-24T10:35:04.382Z"
   },
   {
    "duration": 106,
    "start_time": "2024-08-24T10:35:05.582Z"
   },
   {
    "duration": 33,
    "start_time": "2024-08-24T10:35:05.690Z"
   },
   {
    "duration": 39,
    "start_time": "2024-08-24T10:35:05.724Z"
   },
   {
    "duration": 36,
    "start_time": "2024-08-24T10:35:05.764Z"
   },
   {
    "duration": 21,
    "start_time": "2024-08-24T10:35:05.801Z"
   },
   {
    "duration": 82,
    "start_time": "2024-08-24T10:35:05.824Z"
   },
   {
    "duration": 228,
    "start_time": "2024-08-24T10:35:05.908Z"
   },
   {
    "duration": 81,
    "start_time": "2024-08-24T10:35:06.139Z"
   },
   {
    "duration": 4,
    "start_time": "2024-08-24T10:35:06.222Z"
   },
   {
    "duration": 37,
    "start_time": "2024-08-24T10:35:06.228Z"
   },
   {
    "duration": 7134,
    "start_time": "2024-08-24T10:35:06.267Z"
   },
   {
    "duration": 5,
    "start_time": "2024-08-24T10:35:13.403Z"
   },
   {
    "duration": 48,
    "start_time": "2024-08-24T10:35:13.410Z"
   },
   {
    "duration": 1519,
    "start_time": "2024-08-24T10:35:13.460Z"
   },
   {
    "duration": 0,
    "start_time": "2024-08-24T10:35:14.981Z"
   },
   {
    "duration": 0,
    "start_time": "2024-08-24T10:35:14.982Z"
   },
   {
    "duration": 0,
    "start_time": "2024-08-24T10:35:14.983Z"
   },
   {
    "duration": 0,
    "start_time": "2024-08-24T10:35:14.985Z"
   },
   {
    "duration": 92,
    "start_time": "2024-08-24T10:36:26.392Z"
   },
   {
    "duration": 1953,
    "start_time": "2024-08-24T10:36:29.116Z"
   },
   {
    "duration": 5,
    "start_time": "2024-08-24T10:36:31.071Z"
   },
   {
    "duration": 4,
    "start_time": "2024-08-24T10:36:31.654Z"
   },
   {
    "duration": 4,
    "start_time": "2024-08-24T10:37:47.160Z"
   },
   {
    "duration": 17,
    "start_time": "2024-08-24T10:38:16.551Z"
   },
   {
    "duration": 3,
    "start_time": "2024-08-24T10:38:16.953Z"
   },
   {
    "duration": 1255,
    "start_time": "2024-08-24T10:38:27.805Z"
   },
   {
    "duration": 877,
    "start_time": "2024-08-24T10:38:29.062Z"
   },
   {
    "duration": 139,
    "start_time": "2024-08-24T10:38:29.940Z"
   },
   {
    "duration": 97,
    "start_time": "2024-08-24T10:38:30.081Z"
   },
   {
    "duration": 268,
    "start_time": "2024-08-24T10:38:30.179Z"
   },
   {
    "duration": 139,
    "start_time": "2024-08-24T10:38:30.449Z"
   },
   {
    "duration": 13,
    "start_time": "2024-08-24T10:38:30.590Z"
   },
   {
    "duration": 37,
    "start_time": "2024-08-24T10:38:30.605Z"
   },
   {
    "duration": 266,
    "start_time": "2024-08-24T10:38:30.644Z"
   },
   {
    "duration": 278,
    "start_time": "2024-08-24T10:38:30.913Z"
   },
   {
    "duration": 578,
    "start_time": "2024-08-24T10:38:31.193Z"
   },
   {
    "duration": 116,
    "start_time": "2024-08-24T10:38:31.773Z"
   },
   {
    "duration": 5,
    "start_time": "2024-08-24T10:38:31.891Z"
   },
   {
    "duration": 3,
    "start_time": "2024-08-24T10:38:31.898Z"
   },
   {
    "duration": 1090,
    "start_time": "2024-08-24T10:38:31.902Z"
   },
   {
    "duration": 95,
    "start_time": "2024-08-24T10:38:32.994Z"
   },
   {
    "duration": 30,
    "start_time": "2024-08-24T10:38:33.090Z"
   },
   {
    "duration": 41,
    "start_time": "2024-08-24T10:38:33.122Z"
   },
   {
    "duration": 32,
    "start_time": "2024-08-24T10:38:33.165Z"
   },
   {
    "duration": 20,
    "start_time": "2024-08-24T10:38:33.199Z"
   },
   {
    "duration": 74,
    "start_time": "2024-08-24T10:38:33.220Z"
   },
   {
    "duration": 184,
    "start_time": "2024-08-24T10:38:33.296Z"
   },
   {
    "duration": 79,
    "start_time": "2024-08-24T10:38:33.481Z"
   },
   {
    "duration": 3,
    "start_time": "2024-08-24T10:38:33.561Z"
   },
   {
    "duration": 20,
    "start_time": "2024-08-24T10:38:33.566Z"
   },
   {
    "duration": 6558,
    "start_time": "2024-08-24T10:38:33.587Z"
   },
   {
    "duration": 5,
    "start_time": "2024-08-24T10:38:40.146Z"
   },
   {
    "duration": 58,
    "start_time": "2024-08-24T10:38:40.154Z"
   },
   {
    "duration": 1895,
    "start_time": "2024-08-24T10:38:40.214Z"
   },
   {
    "duration": 4,
    "start_time": "2024-08-24T10:38:42.111Z"
   },
   {
    "duration": 95,
    "start_time": "2024-08-24T10:38:42.116Z"
   },
   {
    "duration": 3,
    "start_time": "2024-08-24T10:38:42.213Z"
   },
   {
    "duration": 1728,
    "start_time": "2024-08-24T10:38:42.217Z"
   },
   {
    "duration": 18,
    "start_time": "2024-08-24T10:39:06.394Z"
   },
   {
    "duration": 3,
    "start_time": "2024-08-24T10:39:06.831Z"
   },
   {
    "duration": 1556,
    "start_time": "2024-08-24T10:39:14.281Z"
   },
   {
    "duration": 988,
    "start_time": "2024-08-24T10:39:15.839Z"
   },
   {
    "duration": 159,
    "start_time": "2024-08-24T10:39:16.829Z"
   },
   {
    "duration": 5,
    "start_time": "2024-08-24T10:39:16.990Z"
   },
   {
    "duration": 276,
    "start_time": "2024-08-24T10:39:16.996Z"
   },
   {
    "duration": 181,
    "start_time": "2024-08-24T10:39:17.275Z"
   },
   {
    "duration": 31,
    "start_time": "2024-08-24T10:39:17.457Z"
   },
   {
    "duration": 33,
    "start_time": "2024-08-24T10:39:17.489Z"
   },
   {
    "duration": 307,
    "start_time": "2024-08-24T10:39:17.524Z"
   },
   {
    "duration": 341,
    "start_time": "2024-08-24T10:39:17.833Z"
   },
   {
    "duration": 652,
    "start_time": "2024-08-24T10:39:18.176Z"
   },
   {
    "duration": 117,
    "start_time": "2024-08-24T10:39:18.830Z"
   },
   {
    "duration": 8,
    "start_time": "2024-08-24T10:39:18.948Z"
   },
   {
    "duration": 10,
    "start_time": "2024-08-24T10:39:18.958Z"
   },
   {
    "duration": 1109,
    "start_time": "2024-08-24T10:39:18.969Z"
   },
   {
    "duration": 92,
    "start_time": "2024-08-24T10:39:20.080Z"
   },
   {
    "duration": 30,
    "start_time": "2024-08-24T10:39:20.173Z"
   },
   {
    "duration": 26,
    "start_time": "2024-08-24T10:39:20.205Z"
   },
   {
    "duration": 53,
    "start_time": "2024-08-24T10:39:20.233Z"
   },
   {
    "duration": 20,
    "start_time": "2024-08-24T10:39:20.288Z"
   },
   {
    "duration": 72,
    "start_time": "2024-08-24T10:39:20.310Z"
   },
   {
    "duration": 186,
    "start_time": "2024-08-24T10:39:20.383Z"
   },
   {
    "duration": 71,
    "start_time": "2024-08-24T10:39:20.570Z"
   },
   {
    "duration": 11,
    "start_time": "2024-08-24T10:39:20.643Z"
   },
   {
    "duration": 37,
    "start_time": "2024-08-24T10:39:20.655Z"
   },
   {
    "duration": 7035,
    "start_time": "2024-08-24T10:39:20.694Z"
   },
   {
    "duration": 5,
    "start_time": "2024-08-24T10:39:27.730Z"
   },
   {
    "duration": 3,
    "start_time": "2024-08-24T10:39:27.739Z"
   },
   {
    "duration": 1954,
    "start_time": "2024-08-24T10:39:27.752Z"
   },
   {
    "duration": 3,
    "start_time": "2024-08-24T10:39:29.708Z"
   },
   {
    "duration": 14,
    "start_time": "2024-08-24T10:39:29.713Z"
   },
   {
    "duration": 17,
    "start_time": "2024-08-24T10:39:29.729Z"
   },
   {
    "duration": 1800,
    "start_time": "2024-08-24T10:39:29.747Z"
   },
   {
    "duration": 16,
    "start_time": "2024-08-24T10:40:36.719Z"
   },
   {
    "duration": 1976,
    "start_time": "2024-08-24T10:40:43.871Z"
   },
   {
    "duration": 880,
    "start_time": "2024-08-24T10:40:45.849Z"
   },
   {
    "duration": 140,
    "start_time": "2024-08-24T10:40:46.731Z"
   },
   {
    "duration": 12,
    "start_time": "2024-08-24T10:40:46.873Z"
   },
   {
    "duration": 228,
    "start_time": "2024-08-24T10:40:46.886Z"
   },
   {
    "duration": 165,
    "start_time": "2024-08-24T10:40:47.116Z"
   },
   {
    "duration": 6,
    "start_time": "2024-08-24T10:40:47.282Z"
   },
   {
    "duration": 22,
    "start_time": "2024-08-24T10:40:47.290Z"
   },
   {
    "duration": 287,
    "start_time": "2024-08-24T10:40:47.313Z"
   },
   {
    "duration": 296,
    "start_time": "2024-08-24T10:40:47.602Z"
   },
   {
    "duration": 593,
    "start_time": "2024-08-24T10:40:47.900Z"
   },
   {
    "duration": 115,
    "start_time": "2024-08-24T10:40:48.495Z"
   },
   {
    "duration": 6,
    "start_time": "2024-08-24T10:40:48.612Z"
   },
   {
    "duration": 30,
    "start_time": "2024-08-24T10:40:48.619Z"
   },
   {
    "duration": 1032,
    "start_time": "2024-08-24T10:40:48.651Z"
   },
   {
    "duration": 97,
    "start_time": "2024-08-24T10:40:49.684Z"
   },
   {
    "duration": 31,
    "start_time": "2024-08-24T10:40:49.782Z"
   },
   {
    "duration": 40,
    "start_time": "2024-08-24T10:40:49.815Z"
   },
   {
    "duration": 34,
    "start_time": "2024-08-24T10:40:49.857Z"
   },
   {
    "duration": 18,
    "start_time": "2024-08-24T10:40:49.893Z"
   },
   {
    "duration": 66,
    "start_time": "2024-08-24T10:40:49.912Z"
   },
   {
    "duration": 179,
    "start_time": "2024-08-24T10:40:49.980Z"
   },
   {
    "duration": 70,
    "start_time": "2024-08-24T10:40:50.161Z"
   },
   {
    "duration": 3,
    "start_time": "2024-08-24T10:40:50.233Z"
   },
   {
    "duration": 20,
    "start_time": "2024-08-24T10:40:50.253Z"
   },
   {
    "duration": 6868,
    "start_time": "2024-08-24T10:40:50.275Z"
   },
   {
    "duration": 9,
    "start_time": "2024-08-24T10:40:57.144Z"
   },
   {
    "duration": 4,
    "start_time": "2024-08-24T10:40:57.157Z"
   },
   {
    "duration": 2145,
    "start_time": "2024-08-24T10:40:57.163Z"
   },
   {
    "duration": 4,
    "start_time": "2024-08-24T10:40:59.310Z"
   },
   {
    "duration": 23,
    "start_time": "2024-08-24T10:40:59.315Z"
   },
   {
    "duration": 8,
    "start_time": "2024-08-24T10:40:59.340Z"
   },
   {
    "duration": 1897,
    "start_time": "2024-08-24T10:40:59.350Z"
   },
   {
    "duration": 7,
    "start_time": "2024-08-24T10:42:26.347Z"
   },
   {
    "duration": 27,
    "start_time": "2024-08-24T10:42:38.129Z"
   },
   {
    "duration": 1409,
    "start_time": "2024-08-24T10:43:57.977Z"
   },
   {
    "duration": 937,
    "start_time": "2024-08-24T10:43:59.388Z"
   },
   {
    "duration": 149,
    "start_time": "2024-08-24T10:44:00.326Z"
   },
   {
    "duration": 4,
    "start_time": "2024-08-24T10:44:00.476Z"
   },
   {
    "duration": 242,
    "start_time": "2024-08-24T10:44:00.481Z"
   },
   {
    "duration": 142,
    "start_time": "2024-08-24T10:44:00.724Z"
   },
   {
    "duration": 5,
    "start_time": "2024-08-24T10:44:00.867Z"
   },
   {
    "duration": 17,
    "start_time": "2024-08-24T10:44:00.874Z"
   },
   {
    "duration": 305,
    "start_time": "2024-08-24T10:44:00.892Z"
   },
   {
    "duration": 293,
    "start_time": "2024-08-24T10:44:01.200Z"
   },
   {
    "duration": 586,
    "start_time": "2024-08-24T10:44:01.495Z"
   },
   {
    "duration": 108,
    "start_time": "2024-08-24T10:44:02.083Z"
   },
   {
    "duration": 13,
    "start_time": "2024-08-24T10:44:02.193Z"
   },
   {
    "duration": 25,
    "start_time": "2024-08-24T10:44:02.207Z"
   },
   {
    "duration": 1057,
    "start_time": "2024-08-24T10:44:02.233Z"
   },
   {
    "duration": 96,
    "start_time": "2024-08-24T10:44:03.291Z"
   },
   {
    "duration": 31,
    "start_time": "2024-08-24T10:44:03.389Z"
   },
   {
    "duration": 64,
    "start_time": "2024-08-24T10:44:03.422Z"
   },
   {
    "duration": 33,
    "start_time": "2024-08-24T10:44:03.488Z"
   },
   {
    "duration": 19,
    "start_time": "2024-08-24T10:44:03.522Z"
   },
   {
    "duration": 53,
    "start_time": "2024-08-24T10:44:03.543Z"
   },
   {
    "duration": 188,
    "start_time": "2024-08-24T10:44:03.597Z"
   },
   {
    "duration": 74,
    "start_time": "2024-08-24T10:44:03.787Z"
   },
   {
    "duration": 3,
    "start_time": "2024-08-24T10:44:03.862Z"
   },
   {
    "duration": 40,
    "start_time": "2024-08-24T10:44:03.867Z"
   },
   {
    "duration": 6402,
    "start_time": "2024-08-24T10:44:03.909Z"
   },
   {
    "duration": 5,
    "start_time": "2024-08-24T10:44:10.313Z"
   },
   {
    "duration": 3,
    "start_time": "2024-08-24T10:44:10.321Z"
   },
   {
    "duration": 1303,
    "start_time": "2024-08-24T10:44:10.325Z"
   },
   {
    "duration": 6,
    "start_time": "2024-08-24T10:44:11.630Z"
   },
   {
    "duration": 33,
    "start_time": "2024-08-24T10:44:11.637Z"
   },
   {
    "duration": 607,
    "start_time": "2024-08-24T10:44:11.672Z"
   },
   {
    "duration": 4,
    "start_time": "2024-08-24T10:44:12.281Z"
   },
   {
    "duration": 8,
    "start_time": "2024-08-24T10:44:12.287Z"
   },
   {
    "duration": 5,
    "start_time": "2024-08-24T10:44:12.297Z"
   },
   {
    "duration": 1713,
    "start_time": "2024-08-24T10:44:12.304Z"
   },
   {
    "duration": 1420,
    "start_time": "2024-08-24T10:44:36.604Z"
   },
   {
    "duration": 950,
    "start_time": "2024-08-24T10:44:38.026Z"
   },
   {
    "duration": 146,
    "start_time": "2024-08-24T10:44:38.978Z"
   },
   {
    "duration": 6,
    "start_time": "2024-08-24T10:44:39.126Z"
   },
   {
    "duration": 273,
    "start_time": "2024-08-24T10:44:39.134Z"
   },
   {
    "duration": 154,
    "start_time": "2024-08-24T10:44:39.409Z"
   },
   {
    "duration": 5,
    "start_time": "2024-08-24T10:44:39.566Z"
   },
   {
    "duration": 26,
    "start_time": "2024-08-24T10:44:39.573Z"
   },
   {
    "duration": 297,
    "start_time": "2024-08-24T10:44:39.601Z"
   },
   {
    "duration": 310,
    "start_time": "2024-08-24T10:44:39.902Z"
   },
   {
    "duration": 641,
    "start_time": "2024-08-24T10:44:40.214Z"
   },
   {
    "duration": 121,
    "start_time": "2024-08-24T10:44:40.857Z"
   },
   {
    "duration": 6,
    "start_time": "2024-08-24T10:44:40.980Z"
   },
   {
    "duration": 5,
    "start_time": "2024-08-24T10:44:40.987Z"
   },
   {
    "duration": 1126,
    "start_time": "2024-08-24T10:44:40.993Z"
   },
   {
    "duration": 88,
    "start_time": "2024-08-24T10:44:42.120Z"
   },
   {
    "duration": 29,
    "start_time": "2024-08-24T10:44:42.209Z"
   },
   {
    "duration": 35,
    "start_time": "2024-08-24T10:44:42.240Z"
   },
   {
    "duration": 33,
    "start_time": "2024-08-24T10:44:42.276Z"
   },
   {
    "duration": 18,
    "start_time": "2024-08-24T10:44:42.311Z"
   },
   {
    "duration": 66,
    "start_time": "2024-08-24T10:44:42.331Z"
   },
   {
    "duration": 189,
    "start_time": "2024-08-24T10:44:42.398Z"
   },
   {
    "duration": 77,
    "start_time": "2024-08-24T10:44:42.588Z"
   },
   {
    "duration": 3,
    "start_time": "2024-08-24T10:44:42.666Z"
   },
   {
    "duration": 25,
    "start_time": "2024-08-24T10:44:42.670Z"
   },
   {
    "duration": 6553,
    "start_time": "2024-08-24T10:44:42.697Z"
   },
   {
    "duration": 5,
    "start_time": "2024-08-24T10:44:49.252Z"
   },
   {
    "duration": 6,
    "start_time": "2024-08-24T10:44:49.260Z"
   },
   {
    "duration": 8364,
    "start_time": "2024-08-24T10:44:49.267Z"
   },
   {
    "duration": 0,
    "start_time": "2024-08-24T10:44:57.632Z"
   },
   {
    "duration": 0,
    "start_time": "2024-08-24T10:44:57.633Z"
   },
   {
    "duration": 0,
    "start_time": "2024-08-24T10:44:57.634Z"
   },
   {
    "duration": 0,
    "start_time": "2024-08-24T10:44:57.635Z"
   },
   {
    "duration": 0,
    "start_time": "2024-08-24T10:44:57.636Z"
   },
   {
    "duration": 0,
    "start_time": "2024-08-24T10:44:57.637Z"
   },
   {
    "duration": 0,
    "start_time": "2024-08-24T10:44:57.653Z"
   },
   {
    "duration": 1341,
    "start_time": "2024-08-24T10:47:09.134Z"
   },
   {
    "duration": 859,
    "start_time": "2024-08-24T10:47:10.477Z"
   },
   {
    "duration": 149,
    "start_time": "2024-08-24T10:47:11.338Z"
   },
   {
    "duration": 4,
    "start_time": "2024-08-24T10:47:11.488Z"
   },
   {
    "duration": 244,
    "start_time": "2024-08-24T10:47:11.495Z"
   },
   {
    "duration": 140,
    "start_time": "2024-08-24T10:47:11.741Z"
   },
   {
    "duration": 4,
    "start_time": "2024-08-24T10:47:11.883Z"
   },
   {
    "duration": 14,
    "start_time": "2024-08-24T10:47:11.889Z"
   },
   {
    "duration": 282,
    "start_time": "2024-08-24T10:47:11.905Z"
   },
   {
    "duration": 294,
    "start_time": "2024-08-24T10:47:12.188Z"
   },
   {
    "duration": 567,
    "start_time": "2024-08-24T10:47:12.484Z"
   },
   {
    "duration": 114,
    "start_time": "2024-08-24T10:47:13.053Z"
   },
   {
    "duration": 4,
    "start_time": "2024-08-24T10:47:13.168Z"
   },
   {
    "duration": 26,
    "start_time": "2024-08-24T10:47:13.176Z"
   },
   {
    "duration": 1041,
    "start_time": "2024-08-24T10:47:13.203Z"
   },
   {
    "duration": 93,
    "start_time": "2024-08-24T10:47:14.245Z"
   },
   {
    "duration": 40,
    "start_time": "2024-08-24T10:47:14.339Z"
   },
   {
    "duration": 25,
    "start_time": "2024-08-24T10:47:14.380Z"
   },
   {
    "duration": 58,
    "start_time": "2024-08-24T10:47:14.406Z"
   },
   {
    "duration": 20,
    "start_time": "2024-08-24T10:47:14.465Z"
   },
   {
    "duration": 68,
    "start_time": "2024-08-24T10:47:14.487Z"
   },
   {
    "duration": 189,
    "start_time": "2024-08-24T10:47:14.556Z"
   },
   {
    "duration": 83,
    "start_time": "2024-08-24T10:47:14.747Z"
   },
   {
    "duration": 3,
    "start_time": "2024-08-24T10:47:14.832Z"
   },
   {
    "duration": 40,
    "start_time": "2024-08-24T10:47:14.836Z"
   },
   {
    "duration": 6411,
    "start_time": "2024-08-24T10:47:14.879Z"
   },
   {
    "duration": 5,
    "start_time": "2024-08-24T10:47:21.292Z"
   },
   {
    "duration": 38,
    "start_time": "2024-08-24T10:47:21.299Z"
   },
   {
    "duration": 1287,
    "start_time": "2024-08-24T10:47:21.338Z"
   },
   {
    "duration": 6,
    "start_time": "2024-08-24T10:47:22.627Z"
   },
   {
    "duration": 28,
    "start_time": "2024-08-24T10:47:22.634Z"
   },
   {
    "duration": 1990,
    "start_time": "2024-08-24T10:47:22.664Z"
   },
   {
    "duration": 3,
    "start_time": "2024-08-24T10:47:24.656Z"
   },
   {
    "duration": 20,
    "start_time": "2024-08-24T10:47:24.660Z"
   },
   {
    "duration": 2,
    "start_time": "2024-08-24T10:47:24.682Z"
   },
   {
    "duration": 7279,
    "start_time": "2024-08-24T10:47:24.685Z"
   },
   {
    "duration": 966,
    "start_time": "2024-08-24T10:48:31.991Z"
   },
   {
    "duration": 6,
    "start_time": "2024-08-24T10:48:34.813Z"
   },
   {
    "duration": 1411,
    "start_time": "2024-08-24T11:01:01.841Z"
   },
   {
    "duration": 913,
    "start_time": "2024-08-24T11:01:03.254Z"
   },
   {
    "duration": 154,
    "start_time": "2024-08-24T11:01:04.168Z"
   },
   {
    "duration": 5,
    "start_time": "2024-08-24T11:01:04.324Z"
   },
   {
    "duration": 250,
    "start_time": "2024-08-24T11:01:04.332Z"
   },
   {
    "duration": 140,
    "start_time": "2024-08-24T11:01:04.583Z"
   },
   {
    "duration": 5,
    "start_time": "2024-08-24T11:01:04.724Z"
   },
   {
    "duration": 31,
    "start_time": "2024-08-24T11:01:04.731Z"
   },
   {
    "duration": 281,
    "start_time": "2024-08-24T11:01:04.764Z"
   },
   {
    "duration": 278,
    "start_time": "2024-08-24T11:01:05.046Z"
   },
   {
    "duration": 625,
    "start_time": "2024-08-24T11:01:05.326Z"
   },
   {
    "duration": 120,
    "start_time": "2024-08-24T11:01:05.953Z"
   },
   {
    "duration": 4,
    "start_time": "2024-08-24T11:01:06.075Z"
   },
   {
    "duration": 19,
    "start_time": "2024-08-24T11:01:06.081Z"
   },
   {
    "duration": 1112,
    "start_time": "2024-08-24T11:01:06.102Z"
   },
   {
    "duration": 103,
    "start_time": "2024-08-24T11:01:07.216Z"
   },
   {
    "duration": 40,
    "start_time": "2024-08-24T11:01:07.321Z"
   },
   {
    "duration": 26,
    "start_time": "2024-08-24T11:01:07.362Z"
   },
   {
    "duration": 32,
    "start_time": "2024-08-24T11:01:07.390Z"
   },
   {
    "duration": 37,
    "start_time": "2024-08-24T11:01:07.424Z"
   },
   {
    "duration": 51,
    "start_time": "2024-08-24T11:01:07.462Z"
   },
   {
    "duration": 200,
    "start_time": "2024-08-24T11:01:07.515Z"
   },
   {
    "duration": 80,
    "start_time": "2024-08-24T11:01:07.717Z"
   },
   {
    "duration": 2,
    "start_time": "2024-08-24T11:01:07.799Z"
   },
   {
    "duration": 38,
    "start_time": "2024-08-24T11:01:07.802Z"
   },
   {
    "duration": 6652,
    "start_time": "2024-08-24T11:01:07.841Z"
   },
   {
    "duration": 4,
    "start_time": "2024-08-24T11:01:14.495Z"
   },
   {
    "duration": 17,
    "start_time": "2024-08-24T11:01:14.501Z"
   },
   {
    "duration": 3573,
    "start_time": "2024-08-24T11:01:14.519Z"
   },
   {
    "duration": 3,
    "start_time": "2024-08-24T11:01:18.093Z"
   },
   {
    "duration": 1700,
    "start_time": "2024-08-24T11:02:33.799Z"
   },
   {
    "duration": 914,
    "start_time": "2024-08-24T11:02:35.501Z"
   },
   {
    "duration": 148,
    "start_time": "2024-08-24T11:02:36.417Z"
   },
   {
    "duration": 20,
    "start_time": "2024-08-24T11:02:36.566Z"
   },
   {
    "duration": 243,
    "start_time": "2024-08-24T11:02:36.588Z"
   },
   {
    "duration": 140,
    "start_time": "2024-08-24T11:02:36.833Z"
   },
   {
    "duration": 5,
    "start_time": "2024-08-24T11:02:36.974Z"
   },
   {
    "duration": 22,
    "start_time": "2024-08-24T11:02:36.981Z"
   },
   {
    "duration": 317,
    "start_time": "2024-08-24T11:02:37.004Z"
   },
   {
    "duration": 292,
    "start_time": "2024-08-24T11:02:37.323Z"
   },
   {
    "duration": 586,
    "start_time": "2024-08-24T11:02:37.616Z"
   },
   {
    "duration": 120,
    "start_time": "2024-08-24T11:02:38.204Z"
   },
   {
    "duration": 19,
    "start_time": "2024-08-24T11:02:38.326Z"
   },
   {
    "duration": 5,
    "start_time": "2024-08-24T11:02:38.348Z"
   },
   {
    "duration": 1093,
    "start_time": "2024-08-24T11:02:38.355Z"
   },
   {
    "duration": 100,
    "start_time": "2024-08-24T11:02:39.456Z"
   },
   {
    "duration": 30,
    "start_time": "2024-08-24T11:02:39.558Z"
   },
   {
    "duration": 26,
    "start_time": "2024-08-24T11:02:39.590Z"
   },
   {
    "duration": 52,
    "start_time": "2024-08-24T11:02:39.618Z"
   },
   {
    "duration": 19,
    "start_time": "2024-08-24T11:02:39.671Z"
   },
   {
    "duration": 46,
    "start_time": "2024-08-24T11:02:39.692Z"
   },
   {
    "duration": 192,
    "start_time": "2024-08-24T11:02:39.740Z"
   },
   {
    "duration": 76,
    "start_time": "2024-08-24T11:02:39.933Z"
   },
   {
    "duration": 3,
    "start_time": "2024-08-24T11:02:40.011Z"
   },
   {
    "duration": 27,
    "start_time": "2024-08-24T11:02:40.015Z"
   },
   {
    "duration": 6387,
    "start_time": "2024-08-24T11:02:40.043Z"
   },
   {
    "duration": 87,
    "start_time": "2024-08-24T11:02:46.431Z"
   },
   {
    "duration": 2,
    "start_time": "2024-08-24T11:02:46.520Z"
   },
   {
    "duration": 3441,
    "start_time": "2024-08-24T11:02:46.524Z"
   },
   {
    "duration": 3,
    "start_time": "2024-08-24T11:02:49.967Z"
   },
   {
    "duration": 1344,
    "start_time": "2024-08-24T11:03:34.583Z"
   },
   {
    "duration": 920,
    "start_time": "2024-08-24T11:03:35.929Z"
   },
   {
    "duration": 144,
    "start_time": "2024-08-24T11:03:36.850Z"
   },
   {
    "duration": 4,
    "start_time": "2024-08-24T11:03:36.996Z"
   },
   {
    "duration": 266,
    "start_time": "2024-08-24T11:03:37.001Z"
   },
   {
    "duration": 151,
    "start_time": "2024-08-24T11:03:37.269Z"
   },
   {
    "duration": 5,
    "start_time": "2024-08-24T11:03:37.422Z"
   },
   {
    "duration": 28,
    "start_time": "2024-08-24T11:03:37.429Z"
   },
   {
    "duration": 336,
    "start_time": "2024-08-24T11:03:37.459Z"
   },
   {
    "duration": 289,
    "start_time": "2024-08-24T11:03:37.798Z"
   },
   {
    "duration": 588,
    "start_time": "2024-08-24T11:03:38.088Z"
   },
   {
    "duration": 108,
    "start_time": "2024-08-24T11:03:38.678Z"
   },
   {
    "duration": 5,
    "start_time": "2024-08-24T11:03:38.787Z"
   },
   {
    "duration": 97,
    "start_time": "2024-08-24T11:03:38.794Z"
   },
   {
    "duration": 1047,
    "start_time": "2024-08-24T11:03:38.893Z"
   },
   {
    "duration": 87,
    "start_time": "2024-08-24T11:03:39.941Z"
   },
   {
    "duration": 41,
    "start_time": "2024-08-24T11:03:40.029Z"
   },
   {
    "duration": 25,
    "start_time": "2024-08-24T11:03:40.072Z"
   },
   {
    "duration": 34,
    "start_time": "2024-08-24T11:03:40.099Z"
   },
   {
    "duration": 35,
    "start_time": "2024-08-24T11:03:40.135Z"
   },
   {
    "duration": 51,
    "start_time": "2024-08-24T11:03:40.172Z"
   },
   {
    "duration": 208,
    "start_time": "2024-08-24T11:03:40.224Z"
   },
   {
    "duration": 76,
    "start_time": "2024-08-24T11:03:40.434Z"
   },
   {
    "duration": 4,
    "start_time": "2024-08-24T11:03:40.512Z"
   },
   {
    "duration": 37,
    "start_time": "2024-08-24T11:03:40.517Z"
   },
   {
    "duration": 6406,
    "start_time": "2024-08-24T11:03:40.555Z"
   },
   {
    "duration": 93,
    "start_time": "2024-08-24T11:03:46.962Z"
   },
   {
    "duration": 2,
    "start_time": "2024-08-24T11:03:47.058Z"
   },
   {
    "duration": 3375,
    "start_time": "2024-08-24T11:03:47.062Z"
   },
   {
    "duration": 3,
    "start_time": "2024-08-24T11:03:50.439Z"
   },
   {
    "duration": 11,
    "start_time": "2024-08-24T11:03:50.452Z"
   },
   {
    "duration": 97495,
    "start_time": "2024-08-24T11:03:50.464Z"
   },
   {
    "duration": 617,
    "start_time": "2024-08-24T11:05:27.960Z"
   },
   {
    "duration": 4,
    "start_time": "2024-08-24T11:05:28.579Z"
   },
   {
    "duration": 1433,
    "start_time": "2024-08-24T11:06:00.109Z"
   },
   {
    "duration": 933,
    "start_time": "2024-08-24T11:06:01.543Z"
   },
   {
    "duration": 176,
    "start_time": "2024-08-24T11:06:02.479Z"
   },
   {
    "duration": 5,
    "start_time": "2024-08-24T11:06:02.657Z"
   },
   {
    "duration": 267,
    "start_time": "2024-08-24T11:06:02.665Z"
   },
   {
    "duration": 160,
    "start_time": "2024-08-24T11:06:02.933Z"
   },
   {
    "duration": 40,
    "start_time": "2024-08-24T11:06:03.095Z"
   },
   {
    "duration": 28,
    "start_time": "2024-08-24T11:06:03.137Z"
   },
   {
    "duration": 309,
    "start_time": "2024-08-24T11:06:03.167Z"
   },
   {
    "duration": 323,
    "start_time": "2024-08-24T11:06:03.477Z"
   },
   {
    "duration": 647,
    "start_time": "2024-08-24T11:06:03.801Z"
   },
   {
    "duration": 133,
    "start_time": "2024-08-24T11:06:04.449Z"
   },
   {
    "duration": 4,
    "start_time": "2024-08-24T11:06:04.584Z"
   },
   {
    "duration": 10,
    "start_time": "2024-08-24T11:06:04.590Z"
   },
   {
    "duration": 1096,
    "start_time": "2024-08-24T11:06:04.601Z"
   },
   {
    "duration": 103,
    "start_time": "2024-08-24T11:06:05.698Z"
   },
   {
    "duration": 37,
    "start_time": "2024-08-24T11:06:05.803Z"
   },
   {
    "duration": 49,
    "start_time": "2024-08-24T11:06:05.842Z"
   },
   {
    "duration": 37,
    "start_time": "2024-08-24T11:06:05.892Z"
   },
   {
    "duration": 19,
    "start_time": "2024-08-24T11:06:05.931Z"
   },
   {
    "duration": 58,
    "start_time": "2024-08-24T11:06:05.951Z"
   },
   {
    "duration": 203,
    "start_time": "2024-08-24T11:06:06.010Z"
   },
   {
    "duration": 88,
    "start_time": "2024-08-24T11:06:06.216Z"
   },
   {
    "duration": 3,
    "start_time": "2024-08-24T11:06:06.306Z"
   },
   {
    "duration": 80,
    "start_time": "2024-08-24T11:06:06.310Z"
   },
   {
    "duration": 7094,
    "start_time": "2024-08-24T11:06:06.391Z"
   },
   {
    "duration": 101,
    "start_time": "2024-08-24T11:06:13.486Z"
   },
   {
    "duration": 191,
    "start_time": "2024-08-24T11:06:13.589Z"
   },
   {
    "duration": 3734,
    "start_time": "2024-08-24T11:06:13.782Z"
   },
   {
    "duration": 3,
    "start_time": "2024-08-24T11:06:17.518Z"
   },
   {
    "duration": 46,
    "start_time": "2024-08-24T11:06:17.522Z"
   },
   {
    "duration": 1405,
    "start_time": "2024-08-24T11:07:27.450Z"
   },
   {
    "duration": 900,
    "start_time": "2024-08-24T11:07:28.858Z"
   },
   {
    "duration": 162,
    "start_time": "2024-08-24T11:07:29.760Z"
   },
   {
    "duration": 4,
    "start_time": "2024-08-24T11:07:29.924Z"
   },
   {
    "duration": 259,
    "start_time": "2024-08-24T11:07:29.930Z"
   },
   {
    "duration": 149,
    "start_time": "2024-08-24T11:07:30.191Z"
   },
   {
    "duration": 30,
    "start_time": "2024-08-24T11:07:30.342Z"
   },
   {
    "duration": 37,
    "start_time": "2024-08-24T11:07:30.373Z"
   },
   {
    "duration": 318,
    "start_time": "2024-08-24T11:07:30.412Z"
   },
   {
    "duration": 277,
    "start_time": "2024-08-24T11:07:30.733Z"
   },
   {
    "duration": 588,
    "start_time": "2024-08-24T11:07:31.011Z"
   },
   {
    "duration": 116,
    "start_time": "2024-08-24T11:07:31.600Z"
   },
   {
    "duration": 5,
    "start_time": "2024-08-24T11:07:31.718Z"
   },
   {
    "duration": 11,
    "start_time": "2024-08-24T11:07:31.725Z"
   },
   {
    "duration": 1075,
    "start_time": "2024-08-24T11:07:31.737Z"
   },
   {
    "duration": 91,
    "start_time": "2024-08-24T11:07:32.814Z"
   },
   {
    "duration": 30,
    "start_time": "2024-08-24T11:07:32.907Z"
   },
   {
    "duration": 42,
    "start_time": "2024-08-24T11:07:32.938Z"
   },
   {
    "duration": 32,
    "start_time": "2024-08-24T11:07:32.981Z"
   },
   {
    "duration": 39,
    "start_time": "2024-08-24T11:07:33.014Z"
   },
   {
    "duration": 50,
    "start_time": "2024-08-24T11:07:33.055Z"
   },
   {
    "duration": 205,
    "start_time": "2024-08-24T11:07:33.107Z"
   },
   {
    "duration": 91,
    "start_time": "2024-08-24T11:07:33.314Z"
   },
   {
    "duration": 3,
    "start_time": "2024-08-24T11:07:33.407Z"
   },
   {
    "duration": 34,
    "start_time": "2024-08-24T11:07:33.411Z"
   },
   {
    "duration": 6788,
    "start_time": "2024-08-24T11:07:33.446Z"
   },
   {
    "duration": 102,
    "start_time": "2024-08-24T11:07:40.235Z"
   },
   {
    "duration": 3,
    "start_time": "2024-08-24T11:07:40.340Z"
   },
   {
    "duration": 3405,
    "start_time": "2024-08-24T11:07:40.344Z"
   },
   {
    "duration": 4,
    "start_time": "2024-08-24T11:07:43.750Z"
   },
   {
    "duration": 69,
    "start_time": "2024-08-24T11:07:43.755Z"
   },
   {
    "duration": 106844,
    "start_time": "2024-08-24T11:07:43.825Z"
   },
   {
    "duration": 797,
    "start_time": "2024-08-24T11:09:30.671Z"
   },
   {
    "duration": 6,
    "start_time": "2024-08-24T11:09:31.471Z"
   },
   {
    "duration": 1345,
    "start_time": "2024-08-24T11:19:17.904Z"
   },
   {
    "duration": 872,
    "start_time": "2024-08-24T11:19:19.251Z"
   },
   {
    "duration": 138,
    "start_time": "2024-08-24T11:19:20.124Z"
   },
   {
    "duration": 4,
    "start_time": "2024-08-24T11:19:20.264Z"
   },
   {
    "duration": 243,
    "start_time": "2024-08-24T11:19:20.270Z"
   },
   {
    "duration": 145,
    "start_time": "2024-08-24T11:19:20.514Z"
   },
   {
    "duration": 5,
    "start_time": "2024-08-24T11:19:20.660Z"
   },
   {
    "duration": 21,
    "start_time": "2024-08-24T11:19:20.667Z"
   },
   {
    "duration": 308,
    "start_time": "2024-08-24T11:19:20.690Z"
   },
   {
    "duration": 310,
    "start_time": "2024-08-24T11:19:21.001Z"
   },
   {
    "duration": 636,
    "start_time": "2024-08-24T11:19:21.312Z"
   },
   {
    "duration": 116,
    "start_time": "2024-08-24T11:19:21.952Z"
   },
   {
    "duration": 6,
    "start_time": "2024-08-24T11:19:22.069Z"
   },
   {
    "duration": 4,
    "start_time": "2024-08-24T11:19:22.076Z"
   },
   {
    "duration": 1089,
    "start_time": "2024-08-24T11:19:22.081Z"
   },
   {
    "duration": 93,
    "start_time": "2024-08-24T11:19:23.172Z"
   },
   {
    "duration": 30,
    "start_time": "2024-08-24T11:19:23.266Z"
   },
   {
    "duration": 25,
    "start_time": "2024-08-24T11:19:23.298Z"
   },
   {
    "duration": 51,
    "start_time": "2024-08-24T11:19:23.325Z"
   },
   {
    "duration": 19,
    "start_time": "2024-08-24T11:19:23.378Z"
   },
   {
    "duration": 64,
    "start_time": "2024-08-24T11:19:23.398Z"
   },
   {
    "duration": 176,
    "start_time": "2024-08-24T11:19:23.463Z"
   },
   {
    "duration": 72,
    "start_time": "2024-08-24T11:19:23.640Z"
   },
   {
    "duration": 3,
    "start_time": "2024-08-24T11:19:23.714Z"
   },
   {
    "duration": 24,
    "start_time": "2024-08-24T11:19:23.718Z"
   },
   {
    "duration": 6475,
    "start_time": "2024-08-24T11:19:23.744Z"
   },
   {
    "duration": 100,
    "start_time": "2024-08-24T11:19:30.220Z"
   },
   {
    "duration": 18,
    "start_time": "2024-08-24T11:19:30.323Z"
   },
   {
    "duration": 4078,
    "start_time": "2024-08-24T11:19:30.342Z"
   },
   {
    "duration": 3,
    "start_time": "2024-08-24T11:19:34.422Z"
   },
   {
    "duration": 8,
    "start_time": "2024-08-24T11:19:34.427Z"
   },
   {
    "duration": 129922,
    "start_time": "2024-08-24T11:19:34.436Z"
   },
   {
    "duration": 719,
    "start_time": "2024-08-24T11:21:44.360Z"
   },
   {
    "duration": 5,
    "start_time": "2024-08-24T11:21:45.081Z"
   },
   {
    "duration": 1354,
    "start_time": "2024-08-24T11:22:10.815Z"
   },
   {
    "duration": 892,
    "start_time": "2024-08-24T11:22:12.171Z"
   },
   {
    "duration": 136,
    "start_time": "2024-08-24T11:22:13.065Z"
   },
   {
    "duration": 4,
    "start_time": "2024-08-24T11:22:13.202Z"
   },
   {
    "duration": 238,
    "start_time": "2024-08-24T11:22:13.207Z"
   },
   {
    "duration": 164,
    "start_time": "2024-08-24T11:22:13.447Z"
   },
   {
    "duration": 5,
    "start_time": "2024-08-24T11:22:13.613Z"
   },
   {
    "duration": 34,
    "start_time": "2024-08-24T11:22:13.620Z"
   },
   {
    "duration": 304,
    "start_time": "2024-08-24T11:22:13.656Z"
   },
   {
    "duration": 294,
    "start_time": "2024-08-24T11:22:13.963Z"
   },
   {
    "duration": 572,
    "start_time": "2024-08-24T11:22:14.259Z"
   },
   {
    "duration": 120,
    "start_time": "2024-08-24T11:22:14.833Z"
   },
   {
    "duration": 5,
    "start_time": "2024-08-24T11:22:14.955Z"
   },
   {
    "duration": 8,
    "start_time": "2024-08-24T11:22:14.962Z"
   },
   {
    "duration": 1055,
    "start_time": "2024-08-24T11:22:14.971Z"
   },
   {
    "duration": 86,
    "start_time": "2024-08-24T11:22:16.028Z"
   },
   {
    "duration": 40,
    "start_time": "2024-08-24T11:22:16.116Z"
   },
   {
    "duration": 25,
    "start_time": "2024-08-24T11:22:16.157Z"
   },
   {
    "duration": 32,
    "start_time": "2024-08-24T11:22:16.183Z"
   },
   {
    "duration": 36,
    "start_time": "2024-08-24T11:22:16.217Z"
   },
   {
    "duration": 49,
    "start_time": "2024-08-24T11:22:16.255Z"
   },
   {
    "duration": 189,
    "start_time": "2024-08-24T11:22:16.306Z"
   },
   {
    "duration": 78,
    "start_time": "2024-08-24T11:22:16.497Z"
   },
   {
    "duration": 3,
    "start_time": "2024-08-24T11:22:16.577Z"
   },
   {
    "duration": 46,
    "start_time": "2024-08-24T11:22:16.582Z"
   },
   {
    "duration": 6520,
    "start_time": "2024-08-24T11:22:16.630Z"
   },
   {
    "duration": 90,
    "start_time": "2024-08-24T11:22:23.151Z"
   },
   {
    "duration": 3960,
    "start_time": "2024-08-24T11:22:23.244Z"
   },
   {
    "duration": 3,
    "start_time": "2024-08-24T11:22:27.206Z"
   },
   {
    "duration": 7,
    "start_time": "2024-08-24T11:22:27.211Z"
   },
   {
    "duration": 1347,
    "start_time": "2024-08-24T11:56:32.346Z"
   },
   {
    "duration": 938,
    "start_time": "2024-08-24T11:56:33.695Z"
   },
   {
    "duration": 143,
    "start_time": "2024-08-24T11:56:34.635Z"
   },
   {
    "duration": 4,
    "start_time": "2024-08-24T11:56:34.779Z"
   },
   {
    "duration": 232,
    "start_time": "2024-08-24T11:56:34.785Z"
   },
   {
    "duration": 137,
    "start_time": "2024-08-24T11:56:35.021Z"
   },
   {
    "duration": 5,
    "start_time": "2024-08-24T11:56:35.160Z"
   },
   {
    "duration": 15,
    "start_time": "2024-08-24T11:56:35.166Z"
   },
   {
    "duration": 284,
    "start_time": "2024-08-24T11:56:35.182Z"
   },
   {
    "duration": 298,
    "start_time": "2024-08-24T11:56:35.467Z"
   },
   {
    "duration": 612,
    "start_time": "2024-08-24T11:56:35.767Z"
   },
   {
    "duration": 124,
    "start_time": "2024-08-24T11:56:36.380Z"
   },
   {
    "duration": 4,
    "start_time": "2024-08-24T11:56:36.506Z"
   },
   {
    "duration": 127,
    "start_time": "2024-08-24T11:56:36.513Z"
   },
   {
    "duration": 1103,
    "start_time": "2024-08-24T11:56:36.642Z"
   },
   {
    "duration": 88,
    "start_time": "2024-08-24T11:56:37.747Z"
   },
   {
    "duration": 44,
    "start_time": "2024-08-24T11:56:37.836Z"
   },
   {
    "duration": 26,
    "start_time": "2024-08-24T11:56:37.881Z"
   },
   {
    "duration": 45,
    "start_time": "2024-08-24T11:56:37.908Z"
   },
   {
    "duration": 18,
    "start_time": "2024-08-24T11:56:37.955Z"
   },
   {
    "duration": 46,
    "start_time": "2024-08-24T11:56:37.974Z"
   },
   {
    "duration": 186,
    "start_time": "2024-08-24T11:56:38.022Z"
   },
   {
    "duration": 70,
    "start_time": "2024-08-24T11:56:38.210Z"
   },
   {
    "duration": 3,
    "start_time": "2024-08-24T11:56:38.282Z"
   },
   {
    "duration": 22,
    "start_time": "2024-08-24T11:56:38.287Z"
   },
   {
    "duration": 6384,
    "start_time": "2024-08-24T11:56:38.311Z"
   },
   {
    "duration": 91,
    "start_time": "2024-08-24T11:56:44.697Z"
   },
   {
    "duration": 3960,
    "start_time": "2024-08-24T11:56:44.790Z"
   },
   {
    "duration": 3,
    "start_time": "2024-08-24T11:56:48.753Z"
   },
   {
    "duration": 9,
    "start_time": "2024-08-24T11:56:48.757Z"
   },
   {
    "duration": 56591,
    "start_time": "2024-08-24T11:56:48.767Z"
   },
   {
    "duration": 793,
    "start_time": "2024-08-24T11:57:45.360Z"
   },
   {
    "duration": 5,
    "start_time": "2024-08-24T11:57:46.155Z"
   },
   {
    "duration": 3,
    "start_time": "2024-08-24T11:57:57.480Z"
   },
   {
    "duration": 78510,
    "start_time": "2024-08-24T11:57:57.655Z"
   },
   {
    "duration": 1090,
    "start_time": "2024-08-24T11:59:16.167Z"
   },
   {
    "duration": 6,
    "start_time": "2024-08-24T11:59:17.259Z"
   },
   {
    "duration": 3,
    "start_time": "2024-08-24T11:59:51.145Z"
   },
   {
    "duration": 38293,
    "start_time": "2024-08-24T11:59:51.372Z"
   },
   {
    "duration": 893,
    "start_time": "2024-08-24T12:00:29.668Z"
   },
   {
    "duration": 5,
    "start_time": "2024-08-24T12:00:30.563Z"
   },
   {
    "duration": 4,
    "start_time": "2024-08-24T12:09:37.829Z"
   },
   {
    "duration": 6154,
    "start_time": "2024-08-24T12:09:38.015Z"
   },
   {
    "duration": 720,
    "start_time": "2024-08-24T12:09:44.255Z"
   },
   {
    "duration": 5,
    "start_time": "2024-08-24T12:09:45.053Z"
   },
   {
    "duration": 3,
    "start_time": "2024-08-24T12:10:09.606Z"
   },
   {
    "duration": 44,
    "start_time": "2024-08-24T12:18:56.959Z"
   },
   {
    "duration": 0,
    "start_time": "2024-08-24T12:18:57.005Z"
   },
   {
    "duration": 0,
    "start_time": "2024-08-24T12:18:57.006Z"
   },
   {
    "duration": 0,
    "start_time": "2024-08-24T12:18:57.007Z"
   },
   {
    "duration": 1355,
    "start_time": "2024-08-24T12:18:57.355Z"
   },
   {
    "duration": 860,
    "start_time": "2024-08-24T12:18:58.712Z"
   },
   {
    "duration": 145,
    "start_time": "2024-08-24T12:18:59.574Z"
   },
   {
    "duration": 5,
    "start_time": "2024-08-24T12:18:59.721Z"
   },
   {
    "duration": 255,
    "start_time": "2024-08-24T12:18:59.727Z"
   },
   {
    "duration": 146,
    "start_time": "2024-08-24T12:18:59.984Z"
   },
   {
    "duration": 21,
    "start_time": "2024-08-24T12:19:00.131Z"
   },
   {
    "duration": 42,
    "start_time": "2024-08-24T12:19:00.154Z"
   },
   {
    "duration": 287,
    "start_time": "2024-08-24T12:19:00.198Z"
   },
   {
    "duration": 276,
    "start_time": "2024-08-24T12:19:00.487Z"
   },
   {
    "duration": 578,
    "start_time": "2024-08-24T12:19:00.765Z"
   },
   {
    "duration": 125,
    "start_time": "2024-08-24T12:19:01.345Z"
   },
   {
    "duration": 4,
    "start_time": "2024-08-24T12:19:01.472Z"
   },
   {
    "duration": 22,
    "start_time": "2024-08-24T12:19:01.477Z"
   },
   {
    "duration": 1063,
    "start_time": "2024-08-24T12:19:01.500Z"
   },
   {
    "duration": 95,
    "start_time": "2024-08-24T12:19:02.565Z"
   },
   {
    "duration": 37,
    "start_time": "2024-08-24T12:19:02.662Z"
   },
   {
    "duration": 27,
    "start_time": "2024-08-24T12:19:02.701Z"
   },
   {
    "duration": 43,
    "start_time": "2024-08-24T12:19:02.730Z"
   },
   {
    "duration": 19,
    "start_time": "2024-08-24T12:19:02.774Z"
   },
   {
    "duration": 59,
    "start_time": "2024-08-24T12:19:02.795Z"
   },
   {
    "duration": 177,
    "start_time": "2024-08-24T12:19:02.855Z"
   },
   {
    "duration": 78,
    "start_time": "2024-08-24T12:19:03.034Z"
   },
   {
    "duration": 4,
    "start_time": "2024-08-24T12:19:03.114Z"
   },
   {
    "duration": 32,
    "start_time": "2024-08-24T12:19:03.119Z"
   },
   {
    "duration": 6532,
    "start_time": "2024-08-24T12:19:03.153Z"
   },
   {
    "duration": 87,
    "start_time": "2024-08-24T12:19:09.687Z"
   },
   {
    "duration": 3643,
    "start_time": "2024-08-24T12:19:09.776Z"
   },
   {
    "duration": 3,
    "start_time": "2024-08-24T12:19:13.420Z"
   },
   {
    "duration": 16,
    "start_time": "2024-08-24T12:19:13.425Z"
   },
   {
    "duration": 86725,
    "start_time": "2024-08-24T12:19:13.442Z"
   },
   {
    "duration": 795,
    "start_time": "2024-08-24T12:20:40.168Z"
   },
   {
    "duration": 7,
    "start_time": "2024-08-24T12:20:40.965Z"
   },
   {
    "duration": 3,
    "start_time": "2024-08-24T12:20:49.271Z"
   },
   {
    "duration": 139849,
    "start_time": "2024-08-24T12:20:49.418Z"
   },
   {
    "duration": 805,
    "start_time": "2024-08-24T12:23:09.268Z"
   },
   {
    "duration": 5,
    "start_time": "2024-08-24T12:23:10.075Z"
   },
   {
    "duration": 4,
    "start_time": "2024-08-24T12:24:27.256Z"
   },
   {
    "duration": 35923,
    "start_time": "2024-08-24T12:24:27.443Z"
   },
   {
    "duration": 702,
    "start_time": "2024-08-24T12:25:03.368Z"
   },
   {
    "duration": 6,
    "start_time": "2024-08-24T12:25:04.072Z"
   },
   {
    "duration": 3,
    "start_time": "2024-08-24T12:25:13.186Z"
   },
   {
    "duration": 29911,
    "start_time": "2024-08-24T12:25:13.345Z"
   },
   {
    "duration": 594,
    "start_time": "2024-08-24T12:25:43.259Z"
   },
   {
    "duration": 5,
    "start_time": "2024-08-24T12:25:43.855Z"
   },
   {
    "duration": 2,
    "start_time": "2024-08-24T12:25:55.699Z"
   },
   {
    "duration": 27829,
    "start_time": "2024-08-24T12:25:55.840Z"
   },
   {
    "duration": 605,
    "start_time": "2024-08-24T12:26:23.671Z"
   },
   {
    "duration": 5,
    "start_time": "2024-08-24T12:26:24.278Z"
   },
   {
    "duration": 4,
    "start_time": "2024-08-24T12:26:39.571Z"
   },
   {
    "duration": 61137,
    "start_time": "2024-08-24T12:26:40.022Z"
   },
   {
    "duration": 627,
    "start_time": "2024-08-24T12:27:41.161Z"
   },
   {
    "duration": 5,
    "start_time": "2024-08-24T12:27:41.789Z"
   },
   {
    "duration": 3,
    "start_time": "2024-08-24T12:28:22.892Z"
   },
   {
    "duration": 63712,
    "start_time": "2024-08-24T12:28:23.048Z"
   },
   {
    "duration": 692,
    "start_time": "2024-08-24T12:29:26.761Z"
   },
   {
    "duration": 6,
    "start_time": "2024-08-24T12:29:27.455Z"
   },
   {
    "duration": 3,
    "start_time": "2024-08-24T12:30:07.598Z"
   },
   {
    "duration": 96568,
    "start_time": "2024-08-24T12:30:07.789Z"
   },
   {
    "duration": 712,
    "start_time": "2024-08-24T12:31:44.359Z"
   },
   {
    "duration": 6,
    "start_time": "2024-08-24T12:31:45.074Z"
   },
   {
    "duration": 3,
    "start_time": "2024-08-24T12:35:11.374Z"
   },
   {
    "duration": 48637,
    "start_time": "2024-08-24T12:35:11.532Z"
   },
   {
    "duration": 596,
    "start_time": "2024-08-24T12:36:00.172Z"
   },
   {
    "duration": 6,
    "start_time": "2024-08-24T12:36:00.769Z"
   },
   {
    "duration": 3,
    "start_time": "2024-08-24T12:36:10.346Z"
   },
   {
    "duration": 50951,
    "start_time": "2024-08-24T12:36:10.507Z"
   },
   {
    "duration": 593,
    "start_time": "2024-08-24T12:37:01.460Z"
   },
   {
    "duration": 5,
    "start_time": "2024-08-24T12:37:02.055Z"
   },
   {
    "duration": 3,
    "start_time": "2024-08-24T12:37:12.708Z"
   },
   {
    "duration": 62993,
    "start_time": "2024-08-24T12:37:12.871Z"
   },
   {
    "duration": 601,
    "start_time": "2024-08-24T12:38:15.866Z"
   },
   {
    "duration": 5,
    "start_time": "2024-08-24T12:38:16.469Z"
   },
   {
    "duration": 3,
    "start_time": "2024-08-24T12:38:38.757Z"
   },
   {
    "duration": 34562,
    "start_time": "2024-08-24T12:38:38.906Z"
   },
   {
    "duration": 602,
    "start_time": "2024-08-24T12:39:13.469Z"
   },
   {
    "duration": 6,
    "start_time": "2024-08-24T12:39:14.072Z"
   },
   {
    "duration": 3,
    "start_time": "2024-08-24T12:44:07.044Z"
   },
   {
    "duration": 37316,
    "start_time": "2024-08-24T12:44:07.349Z"
   },
   {
    "duration": 597,
    "start_time": "2024-08-24T12:44:44.666Z"
   },
   {
    "duration": 5,
    "start_time": "2024-08-24T12:44:45.264Z"
   },
   {
    "duration": 3,
    "start_time": "2024-08-24T12:45:17.036Z"
   },
   {
    "duration": 29524,
    "start_time": "2024-08-24T12:45:17.331Z"
   },
   {
    "duration": 528,
    "start_time": "2024-08-24T12:45:46.856Z"
   },
   {
    "duration": 5,
    "start_time": "2024-08-24T12:45:47.386Z"
   },
   {
    "duration": 3,
    "start_time": "2024-08-24T12:47:53.385Z"
   },
   {
    "duration": 13,
    "start_time": "2024-08-24T12:52:01.285Z"
   },
   {
    "duration": 2,
    "start_time": "2024-08-24T12:54:32.069Z"
   },
   {
    "duration": 15886,
    "start_time": "2024-08-24T12:54:32.073Z"
   },
   {
    "duration": 798,
    "start_time": "2024-08-24T12:54:47.960Z"
   },
   {
    "duration": 5,
    "start_time": "2024-08-24T12:54:48.759Z"
   },
   {
    "duration": 2,
    "start_time": "2024-08-24T12:55:00.030Z"
   },
   {
    "duration": 9232,
    "start_time": "2024-08-24T12:55:00.241Z"
   },
   {
    "duration": 720,
    "start_time": "2024-08-24T12:55:09.553Z"
   },
   {
    "duration": 79,
    "start_time": "2024-08-24T12:55:10.275Z"
   },
   {
    "duration": 3,
    "start_time": "2024-08-24T12:55:14.764Z"
   },
   {
    "duration": 7527,
    "start_time": "2024-08-24T12:55:14.944Z"
   },
   {
    "duration": 792,
    "start_time": "2024-08-24T12:55:22.473Z"
   },
   {
    "duration": 5,
    "start_time": "2024-08-24T12:55:23.266Z"
   },
   {
    "duration": 3,
    "start_time": "2024-08-24T12:55:57.069Z"
   },
   {
    "duration": 4916,
    "start_time": "2024-08-24T12:55:57.242Z"
   },
   {
    "duration": 698,
    "start_time": "2024-08-24T12:56:02.160Z"
   },
   {
    "duration": 4,
    "start_time": "2024-08-24T12:56:02.860Z"
   },
   {
    "duration": 2,
    "start_time": "2024-08-24T12:56:09.120Z"
   },
   {
    "duration": 4496,
    "start_time": "2024-08-24T12:56:09.266Z"
   },
   {
    "duration": 602,
    "start_time": "2024-08-24T12:56:13.764Z"
   },
   {
    "duration": 87,
    "start_time": "2024-08-24T12:56:14.367Z"
   },
   {
    "duration": 3,
    "start_time": "2024-08-24T12:56:20.217Z"
   },
   {
    "duration": 5588,
    "start_time": "2024-08-24T12:56:20.371Z"
   },
   {
    "duration": 796,
    "start_time": "2024-08-24T12:56:25.960Z"
   },
   {
    "duration": 5,
    "start_time": "2024-08-24T12:56:26.758Z"
   },
   {
    "duration": 3,
    "start_time": "2024-08-24T12:56:32.773Z"
   },
   {
    "duration": 5925,
    "start_time": "2024-08-24T12:56:32.931Z"
   },
   {
    "duration": 729,
    "start_time": "2024-08-24T12:56:38.857Z"
   },
   {
    "duration": 69,
    "start_time": "2024-08-24T12:56:39.588Z"
   },
   {
    "duration": 1296,
    "start_time": "2024-08-24T12:57:27.270Z"
   },
   {
    "duration": 879,
    "start_time": "2024-08-24T12:57:28.567Z"
   },
   {
    "duration": 145,
    "start_time": "2024-08-24T12:57:29.447Z"
   },
   {
    "duration": 3,
    "start_time": "2024-08-24T12:57:29.594Z"
   },
   {
    "duration": 234,
    "start_time": "2024-08-24T12:57:29.599Z"
   },
   {
    "duration": 145,
    "start_time": "2024-08-24T12:57:29.834Z"
   },
   {
    "duration": 5,
    "start_time": "2024-08-24T12:57:29.980Z"
   },
   {
    "duration": 64,
    "start_time": "2024-08-24T12:57:29.986Z"
   },
   {
    "duration": 289,
    "start_time": "2024-08-24T12:57:30.052Z"
   },
   {
    "duration": 283,
    "start_time": "2024-08-24T12:57:30.343Z"
   },
   {
    "duration": 554,
    "start_time": "2024-08-24T12:57:30.627Z"
   },
   {
    "duration": 115,
    "start_time": "2024-08-24T12:57:31.182Z"
   },
   {
    "duration": 4,
    "start_time": "2024-08-24T12:57:31.299Z"
   },
   {
    "duration": 10,
    "start_time": "2024-08-24T12:57:31.305Z"
   },
   {
    "duration": 1051,
    "start_time": "2024-08-24T12:57:31.316Z"
   },
   {
    "duration": 88,
    "start_time": "2024-08-24T12:57:32.369Z"
   },
   {
    "duration": 28,
    "start_time": "2024-08-24T12:57:32.459Z"
   },
   {
    "duration": 23,
    "start_time": "2024-08-24T12:57:32.489Z"
   },
   {
    "duration": 48,
    "start_time": "2024-08-24T12:57:32.514Z"
   },
   {
    "duration": 20,
    "start_time": "2024-08-24T12:57:32.564Z"
   },
   {
    "duration": 48,
    "start_time": "2024-08-24T12:57:32.585Z"
   },
   {
    "duration": 192,
    "start_time": "2024-08-24T12:57:32.635Z"
   },
   {
    "duration": 70,
    "start_time": "2024-08-24T12:57:32.829Z"
   },
   {
    "duration": 3,
    "start_time": "2024-08-24T12:57:32.900Z"
   },
   {
    "duration": 23,
    "start_time": "2024-08-24T12:57:32.904Z"
   },
   {
    "duration": 6437,
    "start_time": "2024-08-24T12:57:32.929Z"
   },
   {
    "duration": 89,
    "start_time": "2024-08-24T12:57:39.367Z"
   },
   {
    "duration": 3223,
    "start_time": "2024-08-24T12:57:39.458Z"
   },
   {
    "duration": 2,
    "start_time": "2024-08-24T12:57:42.683Z"
   },
   {
    "duration": 14,
    "start_time": "2024-08-24T12:57:42.687Z"
   },
   {
    "duration": 5762,
    "start_time": "2024-08-24T12:57:42.702Z"
   },
   {
    "duration": 793,
    "start_time": "2024-08-24T12:57:48.466Z"
   },
   {
    "duration": 5,
    "start_time": "2024-08-24T12:57:49.261Z"
   },
   {
    "duration": 39,
    "start_time": "2024-08-24T13:00:33.927Z"
   },
   {
    "duration": 1360,
    "start_time": "2024-08-24T13:03:02.569Z"
   },
   {
    "duration": 912,
    "start_time": "2024-08-24T13:03:03.931Z"
   },
   {
    "duration": 143,
    "start_time": "2024-08-24T13:03:04.844Z"
   },
   {
    "duration": 4,
    "start_time": "2024-08-24T13:03:04.989Z"
   },
   {
    "duration": 250,
    "start_time": "2024-08-24T13:03:04.995Z"
   },
   {
    "duration": 144,
    "start_time": "2024-08-24T13:03:05.247Z"
   },
   {
    "duration": 5,
    "start_time": "2024-08-24T13:03:05.393Z"
   },
   {
    "duration": 13,
    "start_time": "2024-08-24T13:03:05.400Z"
   },
   {
    "duration": 318,
    "start_time": "2024-08-24T13:03:05.415Z"
   },
   {
    "duration": 292,
    "start_time": "2024-08-24T13:03:05.735Z"
   },
   {
    "duration": 591,
    "start_time": "2024-08-24T13:03:06.028Z"
   },
   {
    "duration": 114,
    "start_time": "2024-08-24T13:03:06.621Z"
   },
   {
    "duration": 4,
    "start_time": "2024-08-24T13:03:06.737Z"
   },
   {
    "duration": 107,
    "start_time": "2024-08-24T13:03:06.754Z"
   },
   {
    "duration": 1117,
    "start_time": "2024-08-24T13:03:06.863Z"
   },
   {
    "duration": 97,
    "start_time": "2024-08-24T13:03:07.982Z"
   },
   {
    "duration": 30,
    "start_time": "2024-08-24T13:03:08.080Z"
   },
   {
    "duration": 26,
    "start_time": "2024-08-24T13:03:08.111Z"
   },
   {
    "duration": 31,
    "start_time": "2024-08-24T13:03:08.152Z"
   },
   {
    "duration": 17,
    "start_time": "2024-08-24T13:03:08.185Z"
   },
   {
    "duration": 66,
    "start_time": "2024-08-24T13:03:08.204Z"
   },
   {
    "duration": 177,
    "start_time": "2024-08-24T13:03:08.271Z"
   },
   {
    "duration": 66,
    "start_time": "2024-08-24T13:03:08.452Z"
   },
   {
    "duration": 2,
    "start_time": "2024-08-24T13:03:08.520Z"
   },
   {
    "duration": 37,
    "start_time": "2024-08-24T13:03:08.524Z"
   },
   {
    "duration": 6604,
    "start_time": "2024-08-24T13:03:08.563Z"
   },
   {
    "duration": 90,
    "start_time": "2024-08-24T13:03:15.168Z"
   },
   {
    "duration": 3421,
    "start_time": "2024-08-24T13:03:15.260Z"
   },
   {
    "duration": 3,
    "start_time": "2024-08-24T13:03:18.683Z"
   },
   {
    "duration": 24775,
    "start_time": "2024-08-24T13:03:18.688Z"
   },
   {
    "duration": 829,
    "start_time": "2024-08-24T13:03:43.465Z"
   },
   {
    "duration": 65,
    "start_time": "2024-08-24T13:03:44.295Z"
   },
   {
    "duration": 122,
    "start_time": "2024-08-24T13:03:44.366Z"
   },
   {
    "duration": 3,
    "start_time": "2024-08-24T13:04:04.669Z"
   },
   {
    "duration": 23136,
    "start_time": "2024-08-24T13:04:04.922Z"
   },
   {
    "duration": 716,
    "start_time": "2024-08-24T13:04:28.061Z"
   },
   {
    "duration": 9,
    "start_time": "2024-08-24T13:04:28.852Z"
   },
   {
    "duration": 3,
    "start_time": "2024-08-24T13:04:41.423Z"
   },
   {
    "duration": 7867,
    "start_time": "2024-08-24T13:04:41.596Z"
   },
   {
    "duration": 704,
    "start_time": "2024-08-24T13:04:49.465Z"
   },
   {
    "duration": 84,
    "start_time": "2024-08-24T13:04:50.170Z"
   },
   {
    "duration": 1394,
    "start_time": "2024-08-24T13:05:02.321Z"
   },
   {
    "duration": 886,
    "start_time": "2024-08-24T13:05:03.717Z"
   },
   {
    "duration": 143,
    "start_time": "2024-08-24T13:05:04.604Z"
   },
   {
    "duration": 6,
    "start_time": "2024-08-24T13:05:04.749Z"
   },
   {
    "duration": 336,
    "start_time": "2024-08-24T13:05:04.758Z"
   },
   {
    "duration": 158,
    "start_time": "2024-08-24T13:05:05.096Z"
   },
   {
    "duration": 8,
    "start_time": "2024-08-24T13:05:05.256Z"
   },
   {
    "duration": 74,
    "start_time": "2024-08-24T13:05:05.266Z"
   },
   {
    "duration": 304,
    "start_time": "2024-08-24T13:05:05.342Z"
   },
   {
    "duration": 283,
    "start_time": "2024-08-24T13:05:05.648Z"
   },
   {
    "duration": 594,
    "start_time": "2024-08-24T13:05:05.933Z"
   },
   {
    "duration": 124,
    "start_time": "2024-08-24T13:05:06.529Z"
   },
   {
    "duration": 5,
    "start_time": "2024-08-24T13:05:06.655Z"
   },
   {
    "duration": 8,
    "start_time": "2024-08-24T13:05:06.663Z"
   },
   {
    "duration": 1166,
    "start_time": "2024-08-24T13:05:06.673Z"
   },
   {
    "duration": 94,
    "start_time": "2024-08-24T13:05:07.841Z"
   },
   {
    "duration": 41,
    "start_time": "2024-08-24T13:05:07.936Z"
   },
   {
    "duration": 25,
    "start_time": "2024-08-24T13:05:07.979Z"
   },
   {
    "duration": 89,
    "start_time": "2024-08-24T13:05:08.006Z"
   },
   {
    "duration": 18,
    "start_time": "2024-08-24T13:05:08.097Z"
   },
   {
    "duration": 59,
    "start_time": "2024-08-24T13:05:08.116Z"
   },
   {
    "duration": 172,
    "start_time": "2024-08-24T13:05:08.176Z"
   },
   {
    "duration": 67,
    "start_time": "2024-08-24T13:05:08.349Z"
   },
   {
    "duration": 3,
    "start_time": "2024-08-24T13:05:08.417Z"
   },
   {
    "duration": 33,
    "start_time": "2024-08-24T13:05:08.421Z"
   },
   {
    "duration": 6422,
    "start_time": "2024-08-24T13:05:08.456Z"
   },
   {
    "duration": 93,
    "start_time": "2024-08-24T13:05:14.880Z"
   },
   {
    "duration": 3360,
    "start_time": "2024-08-24T13:05:14.975Z"
   },
   {
    "duration": 2,
    "start_time": "2024-08-24T13:05:18.337Z"
   },
   {
    "duration": 6316,
    "start_time": "2024-08-24T13:05:18.340Z"
   },
   {
    "duration": 700,
    "start_time": "2024-08-24T13:05:24.657Z"
   },
   {
    "duration": 4,
    "start_time": "2024-08-24T13:05:25.359Z"
   },
   {
    "duration": 105,
    "start_time": "2024-08-24T13:06:17.009Z"
   },
   {
    "duration": 10,
    "start_time": "2024-08-24T13:06:21.286Z"
   },
   {
    "duration": 3,
    "start_time": "2024-08-24T13:06:59.800Z"
   },
   {
    "duration": 5,
    "start_time": "2024-08-24T13:07:17.332Z"
   },
   {
    "duration": 7460,
    "start_time": "2024-08-24T13:07:19.737Z"
   },
   {
    "duration": 770,
    "start_time": "2024-08-24T13:07:27.199Z"
   },
   {
    "duration": 6,
    "start_time": "2024-08-24T13:07:27.971Z"
   },
   {
    "duration": 206,
    "start_time": "2024-08-24T13:07:35.313Z"
   },
   {
    "duration": 11,
    "start_time": "2024-08-24T13:07:37.660Z"
   },
   {
    "duration": 3,
    "start_time": "2024-08-24T13:07:48.499Z"
   },
   {
    "duration": 7794,
    "start_time": "2024-08-24T13:07:48.642Z"
   },
   {
    "duration": 206,
    "start_time": "2024-08-24T13:07:56.437Z"
   },
   {
    "duration": 15,
    "start_time": "2024-08-24T13:07:56.644Z"
   },
   {
    "duration": 3,
    "start_time": "2024-08-24T13:08:21.672Z"
   },
   {
    "duration": 498,
    "start_time": "2024-08-24T13:08:22.163Z"
   },
   {
    "duration": 146,
    "start_time": "2024-08-24T13:08:23.069Z"
   },
   {
    "duration": 3,
    "start_time": "2024-08-24T13:08:29.029Z"
   },
   {
    "duration": 6895,
    "start_time": "2024-08-24T13:08:29.323Z"
   },
   {
    "duration": 191,
    "start_time": "2024-08-24T13:08:36.220Z"
   },
   {
    "duration": 5,
    "start_time": "2024-08-24T13:08:36.413Z"
   },
   {
    "duration": 2,
    "start_time": "2024-08-24T13:08:57.324Z"
   },
   {
    "duration": 1771,
    "start_time": "2024-08-24T13:08:57.528Z"
   },
   {
    "duration": 145,
    "start_time": "2024-08-24T13:08:59.301Z"
   },
   {
    "duration": 8,
    "start_time": "2024-08-24T13:08:59.448Z"
   },
   {
    "duration": 2,
    "start_time": "2024-08-24T13:09:07.159Z"
   },
   {
    "duration": 3435,
    "start_time": "2024-08-24T13:09:07.321Z"
   },
   {
    "duration": 153,
    "start_time": "2024-08-24T13:09:10.758Z"
   },
   {
    "duration": 4,
    "start_time": "2024-08-24T13:09:10.913Z"
   },
   {
    "duration": 3,
    "start_time": "2024-08-24T13:09:16.579Z"
   },
   {
    "duration": 4004,
    "start_time": "2024-08-24T13:09:16.753Z"
   },
   {
    "duration": 157,
    "start_time": "2024-08-24T13:09:20.759Z"
   },
   {
    "duration": 4,
    "start_time": "2024-08-24T13:09:20.918Z"
   },
   {
    "duration": 3,
    "start_time": "2024-08-24T13:09:24.861Z"
   },
   {
    "duration": 3992,
    "start_time": "2024-08-24T13:09:25.017Z"
   },
   {
    "duration": 153,
    "start_time": "2024-08-24T13:09:29.010Z"
   },
   {
    "duration": 5,
    "start_time": "2024-08-24T13:09:29.164Z"
   },
   {
    "duration": 3,
    "start_time": "2024-08-24T13:09:33.009Z"
   },
   {
    "duration": 4083,
    "start_time": "2024-08-24T13:09:33.184Z"
   },
   {
    "duration": 156,
    "start_time": "2024-08-24T13:09:37.269Z"
   },
   {
    "duration": 5,
    "start_time": "2024-08-24T13:09:37.427Z"
   },
   {
    "duration": 2,
    "start_time": "2024-08-24T13:09:43.606Z"
   },
   {
    "duration": 3968,
    "start_time": "2024-08-24T13:09:43.764Z"
   },
   {
    "duration": 159,
    "start_time": "2024-08-24T13:09:47.733Z"
   },
   {
    "duration": 5,
    "start_time": "2024-08-24T13:09:47.893Z"
   },
   {
    "duration": 2,
    "start_time": "2024-08-24T13:09:55.039Z"
   },
   {
    "duration": 5025,
    "start_time": "2024-08-24T13:09:55.194Z"
   },
   {
    "duration": 169,
    "start_time": "2024-08-24T13:10:00.220Z"
   },
   {
    "duration": 5,
    "start_time": "2024-08-24T13:10:00.391Z"
   },
   {
    "duration": 3,
    "start_time": "2024-08-24T13:10:06.771Z"
   },
   {
    "duration": 5474,
    "start_time": "2024-08-24T13:10:06.935Z"
   },
   {
    "duration": 163,
    "start_time": "2024-08-24T13:10:12.410Z"
   },
   {
    "duration": 5,
    "start_time": "2024-08-24T13:10:12.575Z"
   },
   {
    "duration": 3,
    "start_time": "2024-08-24T13:10:17.909Z"
   },
   {
    "duration": 5664,
    "start_time": "2024-08-24T13:10:18.060Z"
   },
   {
    "duration": 169,
    "start_time": "2024-08-24T13:10:23.725Z"
   },
   {
    "duration": 5,
    "start_time": "2024-08-24T13:10:23.896Z"
   },
   {
    "duration": 2,
    "start_time": "2024-08-24T13:10:28.759Z"
   },
   {
    "duration": 5654,
    "start_time": "2024-08-24T13:10:28.940Z"
   },
   {
    "duration": 168,
    "start_time": "2024-08-24T13:10:34.596Z"
   },
   {
    "duration": 5,
    "start_time": "2024-08-24T13:10:34.765Z"
   },
   {
    "duration": 3,
    "start_time": "2024-08-24T13:10:41.074Z"
   },
   {
    "duration": 5639,
    "start_time": "2024-08-24T13:10:41.233Z"
   },
   {
    "duration": 167,
    "start_time": "2024-08-24T13:10:46.874Z"
   },
   {
    "duration": 11,
    "start_time": "2024-08-24T13:10:47.043Z"
   },
   {
    "duration": 3,
    "start_time": "2024-08-24T13:10:52.769Z"
   },
   {
    "duration": 5631,
    "start_time": "2024-08-24T13:10:52.930Z"
   },
   {
    "duration": 162,
    "start_time": "2024-08-24T13:10:58.563Z"
   },
   {
    "duration": 5,
    "start_time": "2024-08-24T13:10:58.726Z"
   },
   {
    "duration": 25,
    "start_time": "2024-08-24T15:02:26.020Z"
   },
   {
    "duration": 1402,
    "start_time": "2024-08-24T15:04:22.841Z"
   },
   {
    "duration": 922,
    "start_time": "2024-08-24T15:04:24.245Z"
   },
   {
    "duration": 130,
    "start_time": "2024-08-24T15:04:25.168Z"
   },
   {
    "duration": 3,
    "start_time": "2024-08-24T15:04:25.300Z"
   },
   {
    "duration": 224,
    "start_time": "2024-08-24T15:04:25.305Z"
   },
   {
    "duration": 143,
    "start_time": "2024-08-24T15:04:25.530Z"
   },
   {
    "duration": 30,
    "start_time": "2024-08-24T15:04:25.674Z"
   },
   {
    "duration": 14,
    "start_time": "2024-08-24T15:04:25.705Z"
   },
   {
    "duration": 264,
    "start_time": "2024-08-24T15:04:25.720Z"
   },
   {
    "duration": 283,
    "start_time": "2024-08-24T15:04:25.985Z"
   },
   {
    "duration": 590,
    "start_time": "2024-08-24T15:04:26.269Z"
   },
   {
    "duration": 116,
    "start_time": "2024-08-24T15:04:26.860Z"
   },
   {
    "duration": 3,
    "start_time": "2024-08-24T15:04:26.977Z"
   },
   {
    "duration": 3,
    "start_time": "2024-08-24T15:04:26.983Z"
   },
   {
    "duration": 1056,
    "start_time": "2024-08-24T15:04:26.987Z"
   },
   {
    "duration": 92,
    "start_time": "2024-08-24T15:04:28.045Z"
   },
   {
    "duration": 35,
    "start_time": "2024-08-24T15:04:28.152Z"
   },
   {
    "duration": 26,
    "start_time": "2024-08-24T15:04:28.189Z"
   },
   {
    "duration": 52,
    "start_time": "2024-08-24T15:04:28.217Z"
   },
   {
    "duration": 23,
    "start_time": "2024-08-24T15:04:28.271Z"
   },
   {
    "duration": 60,
    "start_time": "2024-08-24T15:04:28.295Z"
   },
   {
    "duration": 173,
    "start_time": "2024-08-24T15:04:28.357Z"
   },
   {
    "duration": 78,
    "start_time": "2024-08-24T15:04:28.532Z"
   },
   {
    "duration": 3,
    "start_time": "2024-08-24T15:04:28.612Z"
   },
   {
    "duration": 22,
    "start_time": "2024-08-24T15:04:28.616Z"
   },
   {
    "duration": 6463,
    "start_time": "2024-08-24T15:04:28.640Z"
   },
   {
    "duration": 89,
    "start_time": "2024-08-24T15:04:35.104Z"
   },
   {
    "duration": 3761,
    "start_time": "2024-08-24T15:04:35.195Z"
   },
   {
    "duration": 3,
    "start_time": "2024-08-24T15:04:38.957Z"
   },
   {
    "duration": 6102,
    "start_time": "2024-08-24T15:04:38.961Z"
   },
   {
    "duration": 696,
    "start_time": "2024-08-24T15:04:45.065Z"
   },
   {
    "duration": 5,
    "start_time": "2024-08-24T15:04:45.763Z"
   },
   {
    "duration": 3,
    "start_time": "2024-08-24T15:04:45.770Z"
   },
   {
    "duration": 5718,
    "start_time": "2024-08-24T15:04:45.774Z"
   },
   {
    "duration": 168,
    "start_time": "2024-08-24T15:04:51.494Z"
   },
   {
    "duration": 7,
    "start_time": "2024-08-24T15:04:51.663Z"
   },
   {
    "duration": 63,
    "start_time": "2024-08-24T15:04:51.671Z"
   },
   {
    "duration": 62,
    "start_time": "2024-08-24T15:05:03.720Z"
   },
   {
    "duration": 71,
    "start_time": "2024-08-24T15:06:29.537Z"
   },
   {
    "duration": 59,
    "start_time": "2024-08-24T15:06:33.575Z"
   },
   {
    "duration": 4,
    "start_time": "2024-08-24T15:06:36.484Z"
   },
   {
    "duration": 8,
    "start_time": "2024-08-24T15:06:45.795Z"
   },
   {
    "duration": 65,
    "start_time": "2024-08-24T15:07:58.535Z"
   },
   {
    "duration": 4,
    "start_time": "2024-08-24T15:08:04.490Z"
   },
   {
    "duration": 8,
    "start_time": "2024-08-24T15:08:05.152Z"
   },
   {
    "duration": 725,
    "start_time": "2024-08-24T15:09:29.929Z"
   },
   {
    "duration": 3,
    "start_time": "2024-08-24T15:10:29.370Z"
   },
   {
    "duration": 158,
    "start_time": "2024-08-24T15:10:31.822Z"
   },
   {
    "duration": 2309,
    "start_time": "2024-08-24T15:10:49.744Z"
   },
   {
    "duration": 1375,
    "start_time": "2024-08-24T15:11:05.596Z"
   },
   {
    "duration": 911,
    "start_time": "2024-08-24T15:11:06.972Z"
   },
   {
    "duration": 133,
    "start_time": "2024-08-24T15:11:07.885Z"
   },
   {
    "duration": 3,
    "start_time": "2024-08-24T15:11:08.020Z"
   },
   {
    "duration": 242,
    "start_time": "2024-08-24T15:11:08.025Z"
   },
   {
    "duration": 157,
    "start_time": "2024-08-24T15:11:08.269Z"
   },
   {
    "duration": 5,
    "start_time": "2024-08-24T15:11:08.427Z"
   },
   {
    "duration": 30,
    "start_time": "2024-08-24T15:11:08.433Z"
   },
   {
    "duration": 282,
    "start_time": "2024-08-24T15:11:08.464Z"
   },
   {
    "duration": 284,
    "start_time": "2024-08-24T15:11:08.747Z"
   },
   {
    "duration": 566,
    "start_time": "2024-08-24T15:11:09.033Z"
   },
   {
    "duration": 112,
    "start_time": "2024-08-24T15:11:09.601Z"
   },
   {
    "duration": 4,
    "start_time": "2024-08-24T15:11:09.715Z"
   },
   {
    "duration": 16,
    "start_time": "2024-08-24T15:11:09.721Z"
   },
   {
    "duration": 1026,
    "start_time": "2024-08-24T15:11:09.739Z"
   },
   {
    "duration": 93,
    "start_time": "2024-08-24T15:11:10.768Z"
   },
   {
    "duration": 30,
    "start_time": "2024-08-24T15:11:10.863Z"
   },
   {
    "duration": 27,
    "start_time": "2024-08-24T15:11:10.894Z"
   },
   {
    "duration": 59,
    "start_time": "2024-08-24T15:11:10.923Z"
   },
   {
    "duration": 19,
    "start_time": "2024-08-24T15:11:10.984Z"
   },
   {
    "duration": 66,
    "start_time": "2024-08-24T15:11:11.005Z"
   },
   {
    "duration": 171,
    "start_time": "2024-08-24T15:11:11.073Z"
   },
   {
    "duration": 69,
    "start_time": "2024-08-24T15:11:11.246Z"
   },
   {
    "duration": 3,
    "start_time": "2024-08-24T15:11:11.317Z"
   },
   {
    "duration": 35,
    "start_time": "2024-08-24T15:11:11.323Z"
   },
   {
    "duration": 6399,
    "start_time": "2024-08-24T15:11:11.360Z"
   },
   {
    "duration": 85,
    "start_time": "2024-08-24T15:11:17.761Z"
   },
   {
    "duration": 5,
    "start_time": "2024-08-24T15:11:17.852Z"
   },
   {
    "duration": 3515,
    "start_time": "2024-08-24T15:11:17.858Z"
   },
   {
    "duration": 2,
    "start_time": "2024-08-24T15:11:21.375Z"
   },
   {
    "duration": 5285,
    "start_time": "2024-08-24T15:11:21.379Z"
   },
   {
    "duration": 699,
    "start_time": "2024-08-24T15:11:26.665Z"
   },
   {
    "duration": 5,
    "start_time": "2024-08-24T15:11:27.365Z"
   },
   {
    "duration": 70,
    "start_time": "2024-08-24T15:11:27.371Z"
   },
   {
    "duration": 5677,
    "start_time": "2024-08-24T15:11:27.443Z"
   },
   {
    "duration": 171,
    "start_time": "2024-08-24T15:11:33.121Z"
   },
   {
    "duration": 5,
    "start_time": "2024-08-24T15:11:33.294Z"
   },
   {
    "duration": 125,
    "start_time": "2024-08-24T15:11:33.300Z"
   },
   {
    "duration": 0,
    "start_time": "2024-08-24T15:11:33.426Z"
   },
   {
    "duration": 4,
    "start_time": "2024-08-24T15:12:12.452Z"
   },
   {
    "duration": 9,
    "start_time": "2024-08-24T15:12:29.233Z"
   },
   {
    "duration": 1366,
    "start_time": "2024-08-24T15:33:18.482Z"
   },
   {
    "duration": 897,
    "start_time": "2024-08-24T15:33:19.850Z"
   },
   {
    "duration": 139,
    "start_time": "2024-08-24T15:33:20.752Z"
   },
   {
    "duration": 5,
    "start_time": "2024-08-24T15:33:20.893Z"
   },
   {
    "duration": 266,
    "start_time": "2024-08-24T15:33:20.899Z"
   },
   {
    "duration": 134,
    "start_time": "2024-08-24T15:33:21.167Z"
   },
   {
    "duration": 5,
    "start_time": "2024-08-24T15:33:21.302Z"
   },
   {
    "duration": 18,
    "start_time": "2024-08-24T15:33:21.309Z"
   },
   {
    "duration": 290,
    "start_time": "2024-08-24T15:33:21.329Z"
   },
   {
    "duration": 281,
    "start_time": "2024-08-24T15:33:21.621Z"
   },
   {
    "duration": 589,
    "start_time": "2024-08-24T15:33:21.904Z"
   },
   {
    "duration": 114,
    "start_time": "2024-08-24T15:33:22.495Z"
   },
   {
    "duration": 4,
    "start_time": "2024-08-24T15:33:22.611Z"
   },
   {
    "duration": 4,
    "start_time": "2024-08-24T15:33:22.616Z"
   },
   {
    "duration": 1057,
    "start_time": "2024-08-24T15:33:22.621Z"
   },
   {
    "duration": 88,
    "start_time": "2024-08-24T15:33:23.680Z"
   },
   {
    "duration": 30,
    "start_time": "2024-08-24T15:33:23.770Z"
   },
   {
    "duration": 25,
    "start_time": "2024-08-24T15:33:23.802Z"
   },
   {
    "duration": 52,
    "start_time": "2024-08-24T15:33:23.829Z"
   },
   {
    "duration": 18,
    "start_time": "2024-08-24T15:33:23.882Z"
   },
   {
    "duration": 54,
    "start_time": "2024-08-24T15:33:23.901Z"
   },
   {
    "duration": 164,
    "start_time": "2024-08-24T15:33:23.956Z"
   },
   {
    "duration": 85,
    "start_time": "2024-08-24T15:33:24.121Z"
   },
   {
    "duration": 3,
    "start_time": "2024-08-24T15:33:24.208Z"
   },
   {
    "duration": 19,
    "start_time": "2024-08-24T15:33:24.212Z"
   },
   {
    "duration": 6306,
    "start_time": "2024-08-24T15:33:24.232Z"
   },
   {
    "duration": 85,
    "start_time": "2024-08-24T15:33:30.539Z"
   },
   {
    "duration": 5,
    "start_time": "2024-08-24T15:33:30.627Z"
   },
   {
    "duration": 3467,
    "start_time": "2024-08-24T15:33:30.633Z"
   },
   {
    "duration": 2,
    "start_time": "2024-08-24T15:33:34.102Z"
   },
   {
    "duration": 5451,
    "start_time": "2024-08-24T15:33:34.106Z"
   },
   {
    "duration": 696,
    "start_time": "2024-08-24T15:33:39.558Z"
   },
   {
    "duration": 5,
    "start_time": "2024-08-24T15:33:40.255Z"
   },
   {
    "duration": 9,
    "start_time": "2024-08-24T15:33:40.261Z"
   },
   {
    "duration": 5743,
    "start_time": "2024-08-24T15:33:40.271Z"
   },
   {
    "duration": 168,
    "start_time": "2024-08-24T15:33:46.015Z"
   },
   {
    "duration": 4,
    "start_time": "2024-08-24T15:33:46.185Z"
   },
   {
    "duration": 6,
    "start_time": "2024-08-24T15:33:46.191Z"
   },
   {
    "duration": 9,
    "start_time": "2024-08-24T15:33:46.198Z"
   },
   {
    "duration": 2834,
    "start_time": "2024-08-24T16:22:44.641Z"
   },
   {
    "duration": 2819,
    "start_time": "2024-08-24T16:22:47.477Z"
   },
   {
    "duration": 92,
    "start_time": "2024-08-24T16:22:50.298Z"
   },
   {
    "duration": 4,
    "start_time": "2024-08-24T16:22:50.391Z"
   },
   {
    "duration": 179,
    "start_time": "2024-08-24T16:22:50.396Z"
   },
   {
    "duration": 132,
    "start_time": "2024-08-24T16:22:50.576Z"
   },
   {
    "duration": 5,
    "start_time": "2024-08-24T16:22:50.709Z"
   },
   {
    "duration": 14,
    "start_time": "2024-08-24T16:22:50.715Z"
   },
   {
    "duration": 229,
    "start_time": "2024-08-24T16:22:50.730Z"
   },
   {
    "duration": 264,
    "start_time": "2024-08-24T16:22:50.961Z"
   },
   {
    "duration": 476,
    "start_time": "2024-08-24T16:22:51.226Z"
   },
   {
    "duration": 102,
    "start_time": "2024-08-24T16:22:51.706Z"
   },
   {
    "duration": 28,
    "start_time": "2024-08-24T16:22:51.809Z"
   },
   {
    "duration": 9,
    "start_time": "2024-08-24T16:22:51.838Z"
   },
   {
    "duration": 843,
    "start_time": "2024-08-24T16:22:51.848Z"
   },
   {
    "duration": 84,
    "start_time": "2024-08-24T16:22:52.692Z"
   },
   {
    "duration": 36,
    "start_time": "2024-08-24T16:22:52.778Z"
   },
   {
    "duration": 24,
    "start_time": "2024-08-24T16:22:52.815Z"
   },
   {
    "duration": 32,
    "start_time": "2024-08-24T16:22:52.840Z"
   },
   {
    "duration": 39,
    "start_time": "2024-08-24T16:22:52.873Z"
   },
   {
    "duration": 42,
    "start_time": "2024-08-24T16:22:52.914Z"
   },
   {
    "duration": 162,
    "start_time": "2024-08-24T16:22:52.958Z"
   },
   {
    "duration": 52,
    "start_time": "2024-08-24T16:22:53.122Z"
   },
   {
    "duration": 2,
    "start_time": "2024-08-24T16:22:53.176Z"
   },
   {
    "duration": 57,
    "start_time": "2024-08-24T16:22:53.180Z"
   },
   {
    "duration": 5908,
    "start_time": "2024-08-24T16:22:53.239Z"
   },
   {
    "duration": 88,
    "start_time": "2024-08-24T16:22:59.148Z"
   },
   {
    "duration": 5,
    "start_time": "2024-08-24T16:22:59.238Z"
   },
   {
    "duration": 1917,
    "start_time": "2024-08-24T16:22:59.245Z"
   },
   {
    "duration": 3,
    "start_time": "2024-08-24T16:23:01.163Z"
   },
   {
    "duration": 7141,
    "start_time": "2024-08-24T16:23:01.167Z"
   },
   {
    "duration": 713,
    "start_time": "2024-08-24T16:23:08.309Z"
   },
   {
    "duration": 5,
    "start_time": "2024-08-24T16:23:09.024Z"
   },
   {
    "duration": 18,
    "start_time": "2024-08-24T16:23:09.030Z"
   },
   {
    "duration": 4923,
    "start_time": "2024-08-24T16:23:09.049Z"
   },
   {
    "duration": 137,
    "start_time": "2024-08-24T16:23:13.973Z"
   },
   {
    "duration": 4,
    "start_time": "2024-08-24T16:23:14.112Z"
   },
   {
    "duration": 20,
    "start_time": "2024-08-24T16:23:14.117Z"
   },
   {
    "duration": 10,
    "start_time": "2024-08-24T16:23:14.138Z"
   },
   {
    "duration": 2755,
    "start_time": "2024-08-24T16:23:22.455Z"
   },
   {
    "duration": 733,
    "start_time": "2024-08-24T16:23:25.212Z"
   },
   {
    "duration": 103,
    "start_time": "2024-08-24T16:23:25.946Z"
   },
   {
    "duration": 4,
    "start_time": "2024-08-24T16:23:26.050Z"
   },
   {
    "duration": 197,
    "start_time": "2024-08-24T16:23:26.055Z"
   },
   {
    "duration": 92,
    "start_time": "2024-08-24T16:23:26.253Z"
   },
   {
    "duration": 4,
    "start_time": "2024-08-24T16:23:26.346Z"
   },
   {
    "duration": 14,
    "start_time": "2024-08-24T16:23:26.351Z"
   },
   {
    "duration": 249,
    "start_time": "2024-08-24T16:23:26.366Z"
   },
   {
    "duration": 241,
    "start_time": "2024-08-24T16:23:26.617Z"
   },
   {
    "duration": 480,
    "start_time": "2024-08-24T16:23:26.859Z"
   },
   {
    "duration": 101,
    "start_time": "2024-08-24T16:23:27.340Z"
   },
   {
    "duration": 3,
    "start_time": "2024-08-24T16:23:27.443Z"
   },
   {
    "duration": 5,
    "start_time": "2024-08-24T16:23:27.447Z"
   },
   {
    "duration": 850,
    "start_time": "2024-08-24T16:23:27.453Z"
   },
   {
    "duration": 76,
    "start_time": "2024-08-24T16:23:28.306Z"
   },
   {
    "duration": 38,
    "start_time": "2024-08-24T16:23:28.384Z"
   },
   {
    "duration": 23,
    "start_time": "2024-08-24T16:23:28.423Z"
   },
   {
    "duration": 28,
    "start_time": "2024-08-24T16:23:28.448Z"
   },
   {
    "duration": 58,
    "start_time": "2024-08-24T16:23:28.478Z"
   },
   {
    "duration": 46,
    "start_time": "2024-08-24T16:23:28.537Z"
   },
   {
    "duration": 152,
    "start_time": "2024-08-24T16:23:28.584Z"
   },
   {
    "duration": 49,
    "start_time": "2024-08-24T16:23:28.737Z"
   },
   {
    "duration": 2,
    "start_time": "2024-08-24T16:23:28.788Z"
   },
   {
    "duration": 29,
    "start_time": "2024-08-24T16:23:28.791Z"
   },
   {
    "duration": 5929,
    "start_time": "2024-08-24T16:23:28.821Z"
   },
   {
    "duration": 82,
    "start_time": "2024-08-24T16:23:34.751Z"
   },
   {
    "duration": 4,
    "start_time": "2024-08-24T16:23:34.835Z"
   },
   {
    "duration": 1749,
    "start_time": "2024-08-24T16:23:34.840Z"
   },
   {
    "duration": 4,
    "start_time": "2024-08-24T16:23:36.590Z"
   },
   {
    "duration": 6320,
    "start_time": "2024-08-24T16:23:36.595Z"
   },
   {
    "duration": 696,
    "start_time": "2024-08-24T16:23:42.916Z"
   },
   {
    "duration": 5,
    "start_time": "2024-08-24T16:23:43.614Z"
   },
   {
    "duration": 76,
    "start_time": "2024-08-24T16:23:43.620Z"
   },
   {
    "duration": 4655,
    "start_time": "2024-08-24T16:23:43.697Z"
   },
   {
    "duration": 134,
    "start_time": "2024-08-24T16:23:48.354Z"
   },
   {
    "duration": 4,
    "start_time": "2024-08-24T16:23:48.489Z"
   },
   {
    "duration": 25,
    "start_time": "2024-08-24T16:23:48.494Z"
   },
   {
    "duration": 10,
    "start_time": "2024-08-24T16:23:48.520Z"
   },
   {
    "duration": 1534,
    "start_time": "2024-08-25T08:48:00.105Z"
   },
   {
    "duration": 2955,
    "start_time": "2024-08-25T08:48:01.641Z"
   },
   {
    "duration": 132,
    "start_time": "2024-08-25T08:48:04.597Z"
   },
   {
    "duration": 25,
    "start_time": "2024-08-25T08:48:04.730Z"
   },
   {
    "duration": 229,
    "start_time": "2024-08-25T08:48:04.756Z"
   },
   {
    "duration": 167,
    "start_time": "2024-08-25T08:48:04.986Z"
   },
   {
    "duration": 6,
    "start_time": "2024-08-25T08:48:05.154Z"
   },
   {
    "duration": 33,
    "start_time": "2024-08-25T08:48:05.161Z"
   },
   {
    "duration": 285,
    "start_time": "2024-08-25T08:48:05.196Z"
   },
   {
    "duration": 269,
    "start_time": "2024-08-25T08:48:05.483Z"
   },
   {
    "duration": 563,
    "start_time": "2024-08-25T08:48:05.753Z"
   },
   {
    "duration": 110,
    "start_time": "2024-08-25T08:48:06.318Z"
   },
   {
    "duration": 3,
    "start_time": "2024-08-25T08:48:06.430Z"
   },
   {
    "duration": 19,
    "start_time": "2024-08-25T08:48:06.435Z"
   },
   {
    "duration": 1065,
    "start_time": "2024-08-25T08:48:06.455Z"
   },
   {
    "duration": 85,
    "start_time": "2024-08-25T08:48:07.522Z"
   },
   {
    "duration": 29,
    "start_time": "2024-08-25T08:48:07.609Z"
   },
   {
    "duration": 36,
    "start_time": "2024-08-25T08:48:07.639Z"
   },
   {
    "duration": 31,
    "start_time": "2024-08-25T08:48:07.676Z"
   },
   {
    "duration": 17,
    "start_time": "2024-08-25T08:48:07.709Z"
   },
   {
    "duration": 64,
    "start_time": "2024-08-25T08:48:07.727Z"
   },
   {
    "duration": 170,
    "start_time": "2024-08-25T08:48:07.792Z"
   },
   {
    "duration": 64,
    "start_time": "2024-08-25T08:48:07.964Z"
   },
   {
    "duration": 2,
    "start_time": "2024-08-25T08:48:08.030Z"
   },
   {
    "duration": 37,
    "start_time": "2024-08-25T08:48:08.034Z"
   },
   {
    "duration": 6044,
    "start_time": "2024-08-25T08:48:08.072Z"
   },
   {
    "duration": 84,
    "start_time": "2024-08-25T08:48:14.118Z"
   },
   {
    "duration": 5,
    "start_time": "2024-08-25T08:48:14.205Z"
   },
   {
    "duration": 3113,
    "start_time": "2024-08-25T08:48:14.211Z"
   },
   {
    "duration": 3,
    "start_time": "2024-08-25T08:48:17.325Z"
   },
   {
    "duration": 5931,
    "start_time": "2024-08-25T08:48:17.329Z"
   },
   {
    "duration": 712,
    "start_time": "2024-08-25T08:48:23.261Z"
   },
   {
    "duration": 4,
    "start_time": "2024-08-25T08:48:23.975Z"
   },
   {
    "duration": 5,
    "start_time": "2024-08-25T08:48:23.981Z"
   },
   {
    "duration": 5585,
    "start_time": "2024-08-25T08:48:24.054Z"
   },
   {
    "duration": 167,
    "start_time": "2024-08-25T08:48:29.640Z"
   },
   {
    "duration": 5,
    "start_time": "2024-08-25T08:48:29.808Z"
   },
   {
    "duration": 76,
    "start_time": "2024-08-25T08:48:29.814Z"
   },
   {
    "duration": 31,
    "start_time": "2024-08-25T08:48:29.892Z"
   },
   {
    "duration": 870,
    "start_time": "2024-08-25T08:48:29.925Z"
   },
   {
    "duration": 5,
    "start_time": "2024-08-25T08:48:30.796Z"
   },
   {
    "duration": 969,
    "start_time": "2024-08-25T08:48:53.459Z"
   },
   {
    "duration": 4,
    "start_time": "2024-08-25T08:48:54.430Z"
   },
   {
    "duration": 4,
    "start_time": "2024-08-25T08:56:29.422Z"
   },
   {
    "duration": 117,
    "start_time": "2024-08-25T08:56:29.713Z"
   },
   {
    "duration": 25,
    "start_time": "2024-08-25T08:56:42.182Z"
   },
   {
    "duration": 4,
    "start_time": "2024-08-25T08:56:46.510Z"
   },
   {
    "duration": 1341,
    "start_time": "2024-08-25T08:57:08.600Z"
   },
   {
    "duration": 1001,
    "start_time": "2024-08-25T08:57:09.943Z"
   },
   {
    "duration": 108,
    "start_time": "2024-08-25T08:57:10.945Z"
   },
   {
    "duration": 4,
    "start_time": "2024-08-25T08:57:11.055Z"
   },
   {
    "duration": 238,
    "start_time": "2024-08-25T08:57:11.060Z"
   },
   {
    "duration": 98,
    "start_time": "2024-08-25T08:57:11.299Z"
   },
   {
    "duration": 4,
    "start_time": "2024-08-25T08:57:11.399Z"
   },
   {
    "duration": 27,
    "start_time": "2024-08-25T08:57:11.405Z"
   },
   {
    "duration": 261,
    "start_time": "2024-08-25T08:57:11.433Z"
   },
   {
    "duration": 561,
    "start_time": "2024-08-25T08:57:11.696Z"
   },
   {
    "duration": 121,
    "start_time": "2024-08-25T08:57:12.259Z"
   },
   {
    "duration": 3,
    "start_time": "2024-08-25T08:57:12.381Z"
   },
   {
    "duration": 7,
    "start_time": "2024-08-25T08:57:12.385Z"
   },
   {
    "duration": 123,
    "start_time": "2024-08-25T08:57:12.393Z"
   },
   {
    "duration": 0,
    "start_time": "2024-08-25T08:57:12.517Z"
   },
   {
    "duration": 0,
    "start_time": "2024-08-25T08:57:12.519Z"
   },
   {
    "duration": 0,
    "start_time": "2024-08-25T08:57:12.519Z"
   },
   {
    "duration": 0,
    "start_time": "2024-08-25T08:57:12.520Z"
   },
   {
    "duration": 0,
    "start_time": "2024-08-25T08:57:12.521Z"
   },
   {
    "duration": 0,
    "start_time": "2024-08-25T08:57:12.522Z"
   },
   {
    "duration": 0,
    "start_time": "2024-08-25T08:57:12.523Z"
   },
   {
    "duration": 0,
    "start_time": "2024-08-25T08:57:12.523Z"
   },
   {
    "duration": 0,
    "start_time": "2024-08-25T08:57:12.524Z"
   },
   {
    "duration": 0,
    "start_time": "2024-08-25T08:57:12.525Z"
   },
   {
    "duration": 0,
    "start_time": "2024-08-25T08:57:12.526Z"
   },
   {
    "duration": 0,
    "start_time": "2024-08-25T08:57:12.527Z"
   },
   {
    "duration": 0,
    "start_time": "2024-08-25T08:57:12.528Z"
   },
   {
    "duration": 0,
    "start_time": "2024-08-25T08:57:12.528Z"
   },
   {
    "duration": 0,
    "start_time": "2024-08-25T08:57:12.529Z"
   },
   {
    "duration": 0,
    "start_time": "2024-08-25T08:57:12.530Z"
   },
   {
    "duration": 0,
    "start_time": "2024-08-25T08:57:12.531Z"
   },
   {
    "duration": 0,
    "start_time": "2024-08-25T08:57:12.552Z"
   },
   {
    "duration": 0,
    "start_time": "2024-08-25T08:57:12.554Z"
   },
   {
    "duration": 0,
    "start_time": "2024-08-25T08:57:12.554Z"
   },
   {
    "duration": 0,
    "start_time": "2024-08-25T08:57:12.555Z"
   },
   {
    "duration": 0,
    "start_time": "2024-08-25T08:57:12.556Z"
   },
   {
    "duration": 0,
    "start_time": "2024-08-25T08:57:12.557Z"
   },
   {
    "duration": 0,
    "start_time": "2024-08-25T08:57:12.558Z"
   },
   {
    "duration": 3,
    "start_time": "2024-08-25T08:58:11.093Z"
   },
   {
    "duration": 461,
    "start_time": "2024-08-25T08:58:11.424Z"
   },
   {
    "duration": 3,
    "start_time": "2024-08-25T08:58:31.049Z"
   },
   {
    "duration": 3,
    "start_time": "2024-08-25T08:58:34.470Z"
   },
   {
    "duration": 1306,
    "start_time": "2024-08-25T08:58:47.704Z"
   },
   {
    "duration": 986,
    "start_time": "2024-08-25T08:58:49.012Z"
   },
   {
    "duration": 96,
    "start_time": "2024-08-25T08:58:50.000Z"
   },
   {
    "duration": 3,
    "start_time": "2024-08-25T08:58:50.097Z"
   },
   {
    "duration": 222,
    "start_time": "2024-08-25T08:58:50.102Z"
   },
   {
    "duration": 100,
    "start_time": "2024-08-25T08:58:50.325Z"
   },
   {
    "duration": 4,
    "start_time": "2024-08-25T08:58:50.426Z"
   },
   {
    "duration": 22,
    "start_time": "2024-08-25T08:58:50.432Z"
   },
   {
    "duration": 252,
    "start_time": "2024-08-25T08:58:50.455Z"
   },
   {
    "duration": 515,
    "start_time": "2024-08-25T08:58:50.710Z"
   },
   {
    "duration": 110,
    "start_time": "2024-08-25T08:58:51.227Z"
   },
   {
    "duration": 3,
    "start_time": "2024-08-25T08:58:51.339Z"
   },
   {
    "duration": 55,
    "start_time": "2024-08-25T08:58:51.353Z"
   },
   {
    "duration": 101,
    "start_time": "2024-08-25T09:00:00.211Z"
   },
   {
    "duration": 39,
    "start_time": "2024-08-25T09:00:00.314Z"
   },
   {
    "duration": 29,
    "start_time": "2024-08-25T09:00:00.355Z"
   },
   {
    "duration": 42,
    "start_time": "2024-08-25T09:00:00.386Z"
   },
   {
    "duration": 26,
    "start_time": "2024-08-25T09:00:00.430Z"
   },
   {
    "duration": 47,
    "start_time": "2024-08-25T09:00:00.458Z"
   },
   {
    "duration": 177,
    "start_time": "2024-08-25T09:00:00.506Z"
   },
   {
    "duration": 82,
    "start_time": "2024-08-25T09:00:00.685Z"
   },
   {
    "duration": 2,
    "start_time": "2024-08-25T09:00:00.769Z"
   },
   {
    "duration": 24,
    "start_time": "2024-08-25T09:00:00.773Z"
   },
   {
    "duration": 1408,
    "start_time": "2024-08-25T09:00:10.932Z"
   },
   {
    "duration": 1053,
    "start_time": "2024-08-25T09:00:12.342Z"
   },
   {
    "duration": 105,
    "start_time": "2024-08-25T09:00:13.396Z"
   },
   {
    "duration": 4,
    "start_time": "2024-08-25T09:00:13.503Z"
   },
   {
    "duration": 233,
    "start_time": "2024-08-25T09:00:13.508Z"
   },
   {
    "duration": 99,
    "start_time": "2024-08-25T09:00:13.743Z"
   },
   {
    "duration": 12,
    "start_time": "2024-08-25T09:00:13.843Z"
   },
   {
    "duration": 97,
    "start_time": "2024-08-25T09:00:13.857Z"
   },
   {
    "duration": 312,
    "start_time": "2024-08-25T09:00:13.956Z"
   },
   {
    "duration": 590,
    "start_time": "2024-08-25T09:00:14.270Z"
   },
   {
    "duration": 110,
    "start_time": "2024-08-25T09:00:14.862Z"
   },
   {
    "duration": 4,
    "start_time": "2024-08-25T09:00:14.974Z"
   },
   {
    "duration": 12,
    "start_time": "2024-08-25T09:00:14.979Z"
   },
   {
    "duration": 1389,
    "start_time": "2024-08-25T09:01:09.550Z"
   },
   {
    "duration": 1019,
    "start_time": "2024-08-25T09:01:10.940Z"
   },
   {
    "duration": 100,
    "start_time": "2024-08-25T09:01:11.961Z"
   },
   {
    "duration": 3,
    "start_time": "2024-08-25T09:01:12.063Z"
   },
   {
    "duration": 285,
    "start_time": "2024-08-25T09:01:12.068Z"
   },
   {
    "duration": 102,
    "start_time": "2024-08-25T09:01:12.355Z"
   },
   {
    "duration": 5,
    "start_time": "2024-08-25T09:01:12.459Z"
   },
   {
    "duration": 36,
    "start_time": "2024-08-25T09:01:12.466Z"
   },
   {
    "duration": 281,
    "start_time": "2024-08-25T09:01:12.504Z"
   },
   {
    "duration": 589,
    "start_time": "2024-08-25T09:01:12.787Z"
   },
   {
    "duration": 119,
    "start_time": "2024-08-25T09:01:13.378Z"
   },
   {
    "duration": 4,
    "start_time": "2024-08-25T09:01:13.498Z"
   },
   {
    "duration": 10,
    "start_time": "2024-08-25T09:01:13.504Z"
   },
   {
    "duration": 70284,
    "start_time": "2024-08-25T09:01:13.517Z"
   },
   {
    "duration": 91,
    "start_time": "2024-08-25T09:02:23.802Z"
   },
   {
    "duration": 32,
    "start_time": "2024-08-25T09:02:23.895Z"
   },
   {
    "duration": 84,
    "start_time": "2024-08-25T09:02:23.928Z"
   },
   {
    "duration": 33,
    "start_time": "2024-08-25T09:02:24.013Z"
   },
   {
    "duration": 16,
    "start_time": "2024-08-25T09:02:24.048Z"
   },
   {
    "duration": 49,
    "start_time": "2024-08-25T09:02:24.065Z"
   },
   {
    "duration": 191,
    "start_time": "2024-08-25T09:02:24.116Z"
   },
   {
    "duration": 74,
    "start_time": "2024-08-25T09:02:24.308Z"
   },
   {
    "duration": 3,
    "start_time": "2024-08-25T09:02:24.384Z"
   },
   {
    "duration": 17,
    "start_time": "2024-08-25T09:02:24.388Z"
   },
   {
    "duration": 6282,
    "start_time": "2024-08-25T09:02:24.406Z"
   },
   {
    "duration": 89,
    "start_time": "2024-08-25T09:02:30.690Z"
   },
   {
    "duration": 5,
    "start_time": "2024-08-25T09:02:30.780Z"
   },
   {
    "duration": 3585,
    "start_time": "2024-08-25T09:02:30.787Z"
   },
   {
    "duration": 3,
    "start_time": "2024-08-25T09:02:34.374Z"
   },
   {
    "duration": 5284,
    "start_time": "2024-08-25T09:02:34.378Z"
   },
   {
    "duration": 790,
    "start_time": "2024-08-25T09:02:39.663Z"
   },
   {
    "duration": 4,
    "start_time": "2024-08-25T09:02:40.455Z"
   },
   {
    "duration": 6,
    "start_time": "2024-08-25T09:02:40.460Z"
   },
   {
    "duration": 5602,
    "start_time": "2024-08-25T09:02:40.467Z"
   },
   {
    "duration": 166,
    "start_time": "2024-08-25T09:02:46.071Z"
   },
   {
    "duration": 4,
    "start_time": "2024-08-25T09:02:46.238Z"
   },
   {
    "duration": 4,
    "start_time": "2024-08-25T09:02:46.253Z"
   },
   {
    "duration": 19,
    "start_time": "2024-08-25T09:02:46.259Z"
   },
   {
    "duration": 4,
    "start_time": "2024-08-25T09:04:09.111Z"
   },
   {
    "duration": 1043,
    "start_time": "2024-08-25T09:04:09.284Z"
   },
   {
    "duration": 1374,
    "start_time": "2024-08-25T09:04:21.965Z"
   },
   {
    "duration": 1042,
    "start_time": "2024-08-25T09:04:23.341Z"
   },
   {
    "duration": 102,
    "start_time": "2024-08-25T09:04:24.385Z"
   },
   {
    "duration": 3,
    "start_time": "2024-08-25T09:04:24.489Z"
   },
   {
    "duration": 227,
    "start_time": "2024-08-25T09:04:24.495Z"
   },
   {
    "duration": 91,
    "start_time": "2024-08-25T09:04:24.723Z"
   },
   {
    "duration": 5,
    "start_time": "2024-08-25T09:04:24.815Z"
   },
   {
    "duration": 15,
    "start_time": "2024-08-25T09:04:24.821Z"
   },
   {
    "duration": 282,
    "start_time": "2024-08-25T09:04:24.837Z"
   },
   {
    "duration": 555,
    "start_time": "2024-08-25T09:04:25.123Z"
   },
   {
    "duration": 107,
    "start_time": "2024-08-25T09:04:25.679Z"
   },
   {
    "duration": 3,
    "start_time": "2024-08-25T09:04:25.788Z"
   },
   {
    "duration": 7,
    "start_time": "2024-08-25T09:04:25.793Z"
   },
   {
    "duration": 2141,
    "start_time": "2024-08-25T09:04:25.801Z"
   },
   {
    "duration": 87,
    "start_time": "2024-08-25T09:04:27.943Z"
   },
   {
    "duration": 52,
    "start_time": "2024-08-25T09:04:28.032Z"
   },
   {
    "duration": 36,
    "start_time": "2024-08-25T09:04:28.085Z"
   },
   {
    "duration": 42,
    "start_time": "2024-08-25T09:04:28.122Z"
   },
   {
    "duration": 24,
    "start_time": "2024-08-25T09:04:28.165Z"
   },
   {
    "duration": 76,
    "start_time": "2024-08-25T09:04:28.190Z"
   },
   {
    "duration": 175,
    "start_time": "2024-08-25T09:04:28.267Z"
   },
   {
    "duration": 72,
    "start_time": "2024-08-25T09:04:28.444Z"
   },
   {
    "duration": 3,
    "start_time": "2024-08-25T09:04:28.517Z"
   },
   {
    "duration": 34,
    "start_time": "2024-08-25T09:04:28.521Z"
   },
   {
    "duration": 6196,
    "start_time": "2024-08-25T09:04:28.556Z"
   },
   {
    "duration": 86,
    "start_time": "2024-08-25T09:04:34.753Z"
   },
   {
    "duration": 5,
    "start_time": "2024-08-25T09:04:34.852Z"
   },
   {
    "duration": 3603,
    "start_time": "2024-08-25T09:04:34.860Z"
   },
   {
    "duration": 2,
    "start_time": "2024-08-25T09:04:38.465Z"
   },
   {
    "duration": 5190,
    "start_time": "2024-08-25T09:04:38.469Z"
   },
   {
    "duration": 693,
    "start_time": "2024-08-25T09:04:43.661Z"
   },
   {
    "duration": 5,
    "start_time": "2024-08-25T09:04:44.355Z"
   },
   {
    "duration": 18,
    "start_time": "2024-08-25T09:04:44.361Z"
   },
   {
    "duration": 5499,
    "start_time": "2024-08-25T09:04:44.381Z"
   },
   {
    "duration": 169,
    "start_time": "2024-08-25T09:04:49.881Z"
   },
   {
    "duration": 4,
    "start_time": "2024-08-25T09:04:50.053Z"
   },
   {
    "duration": 16,
    "start_time": "2024-08-25T09:04:50.059Z"
   },
   {
    "duration": 9,
    "start_time": "2024-08-25T09:04:50.077Z"
   },
   {
    "duration": 5,
    "start_time": "2024-08-25T09:11:58.310Z"
   },
   {
    "duration": 4800,
    "start_time": "2024-08-25T09:12:07.662Z"
   },
   {
    "duration": 3,
    "start_time": "2024-08-25T09:13:48.983Z"
   },
   {
    "duration": 4678,
    "start_time": "2024-08-25T09:13:49.498Z"
   },
   {
    "duration": 4,
    "start_time": "2024-08-25T09:14:46.355Z"
   },
   {
    "duration": 399,
    "start_time": "2024-08-25T09:14:46.651Z"
   },
   {
    "duration": 3,
    "start_time": "2024-08-25T09:15:38.356Z"
   },
   {
    "duration": 2232,
    "start_time": "2024-08-25T09:15:38.401Z"
   },
   {
    "duration": 4,
    "start_time": "2024-08-25T09:15:56.473Z"
   },
   {
    "duration": 4865,
    "start_time": "2024-08-25T09:15:56.635Z"
   },
   {
    "duration": 5,
    "start_time": "2024-08-25T09:16:13.266Z"
   },
   {
    "duration": 4851,
    "start_time": "2024-08-25T09:16:13.402Z"
   },
   {
    "duration": 3,
    "start_time": "2024-08-25T09:17:01.219Z"
   },
   {
    "duration": 4814,
    "start_time": "2024-08-25T09:17:01.371Z"
   },
   {
    "duration": 4,
    "start_time": "2024-08-25T09:18:30.224Z"
   },
   {
    "duration": 4939,
    "start_time": "2024-08-25T09:18:30.389Z"
   },
   {
    "duration": 5,
    "start_time": "2024-08-25T09:19:08.464Z"
   },
   {
    "duration": 1358,
    "start_time": "2024-08-25T09:19:08.882Z"
   },
   {
    "duration": 1356,
    "start_time": "2024-08-25T09:19:34.580Z"
   },
   {
    "duration": 1001,
    "start_time": "2024-08-25T09:19:35.938Z"
   },
   {
    "duration": 96,
    "start_time": "2024-08-25T09:19:36.940Z"
   },
   {
    "duration": 4,
    "start_time": "2024-08-25T09:19:37.037Z"
   },
   {
    "duration": 256,
    "start_time": "2024-08-25T09:19:37.042Z"
   },
   {
    "duration": 100,
    "start_time": "2024-08-25T09:19:37.300Z"
   },
   {
    "duration": 4,
    "start_time": "2024-08-25T09:19:37.401Z"
   },
   {
    "duration": 84,
    "start_time": "2024-08-25T09:19:37.406Z"
   },
   {
    "duration": 260,
    "start_time": "2024-08-25T09:19:37.491Z"
   },
   {
    "duration": 562,
    "start_time": "2024-08-25T09:19:37.753Z"
   },
   {
    "duration": 106,
    "start_time": "2024-08-25T09:19:38.317Z"
   },
   {
    "duration": 4,
    "start_time": "2024-08-25T09:19:38.425Z"
   },
   {
    "duration": 10,
    "start_time": "2024-08-25T09:19:38.430Z"
   },
   {
    "duration": 2086,
    "start_time": "2024-08-25T09:19:38.441Z"
   },
   {
    "duration": 6,
    "start_time": "2024-08-25T09:19:40.529Z"
   },
   {
    "duration": 1575,
    "start_time": "2024-08-25T09:19:40.537Z"
   },
   {
    "duration": 0,
    "start_time": "2024-08-25T09:19:42.114Z"
   },
   {
    "duration": 0,
    "start_time": "2024-08-25T09:19:42.115Z"
   },
   {
    "duration": 0,
    "start_time": "2024-08-25T09:19:42.116Z"
   },
   {
    "duration": 0,
    "start_time": "2024-08-25T09:19:42.117Z"
   },
   {
    "duration": 0,
    "start_time": "2024-08-25T09:19:42.118Z"
   },
   {
    "duration": 0,
    "start_time": "2024-08-25T09:19:42.119Z"
   },
   {
    "duration": 0,
    "start_time": "2024-08-25T09:19:42.120Z"
   },
   {
    "duration": 0,
    "start_time": "2024-08-25T09:19:42.121Z"
   },
   {
    "duration": 0,
    "start_time": "2024-08-25T09:19:42.122Z"
   },
   {
    "duration": 0,
    "start_time": "2024-08-25T09:19:42.123Z"
   },
   {
    "duration": 0,
    "start_time": "2024-08-25T09:19:42.124Z"
   },
   {
    "duration": 0,
    "start_time": "2024-08-25T09:19:42.125Z"
   },
   {
    "duration": 0,
    "start_time": "2024-08-25T09:19:42.126Z"
   },
   {
    "duration": 0,
    "start_time": "2024-08-25T09:19:42.127Z"
   },
   {
    "duration": 0,
    "start_time": "2024-08-25T09:19:42.128Z"
   },
   {
    "duration": 0,
    "start_time": "2024-08-25T09:19:42.128Z"
   },
   {
    "duration": 0,
    "start_time": "2024-08-25T09:19:42.129Z"
   },
   {
    "duration": 0,
    "start_time": "2024-08-25T09:19:42.152Z"
   },
   {
    "duration": 0,
    "start_time": "2024-08-25T09:19:42.153Z"
   },
   {
    "duration": 0,
    "start_time": "2024-08-25T09:19:42.154Z"
   },
   {
    "duration": 0,
    "start_time": "2024-08-25T09:19:42.156Z"
   },
   {
    "duration": 0,
    "start_time": "2024-08-25T09:19:42.157Z"
   },
   {
    "duration": 0,
    "start_time": "2024-08-25T09:19:42.158Z"
   },
   {
    "duration": 0,
    "start_time": "2024-08-25T09:19:42.283Z"
   },
   {
    "duration": 3,
    "start_time": "2024-08-25T09:20:29.332Z"
   },
   {
    "duration": 30,
    "start_time": "2024-08-25T09:20:29.464Z"
   },
   {
    "duration": 3,
    "start_time": "2024-08-25T09:20:42.015Z"
   },
   {
    "duration": 5091,
    "start_time": "2024-08-25T09:20:42.276Z"
   },
   {
    "duration": 3,
    "start_time": "2024-08-25T09:21:30.073Z"
   },
   {
    "duration": 26,
    "start_time": "2024-08-25T09:21:30.221Z"
   },
   {
    "duration": 4,
    "start_time": "2024-08-25T09:21:33.343Z"
   },
   {
    "duration": 27,
    "start_time": "2024-08-25T09:21:33.485Z"
   },
   {
    "duration": 3,
    "start_time": "2024-08-25T09:21:41.655Z"
   },
   {
    "duration": 5141,
    "start_time": "2024-08-25T09:21:42.586Z"
   },
   {
    "duration": 4,
    "start_time": "2024-08-25T09:21:49.961Z"
   },
   {
    "duration": 1742,
    "start_time": "2024-08-25T09:21:50.380Z"
   },
   {
    "duration": 4,
    "start_time": "2024-08-25T09:22:01.514Z"
   },
   {
    "duration": 1921,
    "start_time": "2024-08-25T09:22:01.771Z"
   },
   {
    "duration": 33,
    "start_time": "2024-08-25T09:23:33.443Z"
   },
   {
    "duration": 1390,
    "start_time": "2024-08-25T09:23:39.631Z"
   },
   {
    "duration": 971,
    "start_time": "2024-08-25T09:23:41.023Z"
   },
   {
    "duration": 96,
    "start_time": "2024-08-25T09:23:41.995Z"
   },
   {
    "duration": 3,
    "start_time": "2024-08-25T09:23:42.093Z"
   },
   {
    "duration": 223,
    "start_time": "2024-08-25T09:23:42.097Z"
   },
   {
    "duration": 90,
    "start_time": "2024-08-25T09:23:42.321Z"
   },
   {
    "duration": 4,
    "start_time": "2024-08-25T09:23:42.413Z"
   },
   {
    "duration": 19,
    "start_time": "2024-08-25T09:23:42.419Z"
   },
   {
    "duration": 267,
    "start_time": "2024-08-25T09:23:42.440Z"
   },
   {
    "duration": 513,
    "start_time": "2024-08-25T09:23:42.710Z"
   },
   {
    "duration": 107,
    "start_time": "2024-08-25T09:23:43.225Z"
   },
   {
    "duration": 4,
    "start_time": "2024-08-25T09:23:43.334Z"
   },
   {
    "duration": 3,
    "start_time": "2024-08-25T09:23:43.353Z"
   },
   {
    "duration": 2113,
    "start_time": "2024-08-25T09:23:43.358Z"
   },
   {
    "duration": 4,
    "start_time": "2024-08-25T09:23:45.473Z"
   },
   {
    "duration": 1800,
    "start_time": "2024-08-25T09:23:45.479Z"
   },
   {
    "duration": 90,
    "start_time": "2024-08-25T09:23:47.280Z"
   },
   {
    "duration": 37,
    "start_time": "2024-08-25T09:23:47.371Z"
   },
   {
    "duration": 29,
    "start_time": "2024-08-25T09:23:47.409Z"
   },
   {
    "duration": 78,
    "start_time": "2024-08-25T09:23:47.439Z"
   },
   {
    "duration": 14,
    "start_time": "2024-08-25T09:23:47.519Z"
   },
   {
    "duration": 42,
    "start_time": "2024-08-25T09:23:47.535Z"
   },
   {
    "duration": 156,
    "start_time": "2024-08-25T09:23:47.578Z"
   },
   {
    "duration": 68,
    "start_time": "2024-08-25T09:23:47.735Z"
   },
   {
    "duration": 3,
    "start_time": "2024-08-25T09:23:47.804Z"
   },
   {
    "duration": 19,
    "start_time": "2024-08-25T09:23:47.808Z"
   },
   {
    "duration": 5954,
    "start_time": "2024-08-25T09:23:47.829Z"
   },
   {
    "duration": 80,
    "start_time": "2024-08-25T09:23:53.786Z"
   },
   {
    "duration": 4,
    "start_time": "2024-08-25T09:23:53.868Z"
   },
   {
    "duration": 3321,
    "start_time": "2024-08-25T09:23:53.873Z"
   },
   {
    "duration": 3,
    "start_time": "2024-08-25T09:23:57.196Z"
   },
   {
    "duration": 4964,
    "start_time": "2024-08-25T09:23:57.201Z"
   },
   {
    "duration": 697,
    "start_time": "2024-08-25T09:24:02.167Z"
   },
   {
    "duration": 5,
    "start_time": "2024-08-25T09:24:02.866Z"
   },
   {
    "duration": 21,
    "start_time": "2024-08-25T09:24:02.872Z"
   },
   {
    "duration": 5283,
    "start_time": "2024-08-25T09:24:02.895Z"
   },
   {
    "duration": 167,
    "start_time": "2024-08-25T09:24:08.179Z"
   },
   {
    "duration": 7,
    "start_time": "2024-08-25T09:24:08.348Z"
   },
   {
    "duration": 34,
    "start_time": "2024-08-25T09:24:08.357Z"
   },
   {
    "duration": 36,
    "start_time": "2024-08-25T09:24:08.392Z"
   },
   {
    "duration": 14,
    "start_time": "2024-08-25T09:38:39.175Z"
   },
   {
    "duration": 17,
    "start_time": "2024-08-25T09:38:53.948Z"
   },
   {
    "duration": 76,
    "start_time": "2024-08-25T09:39:13.707Z"
   },
   {
    "duration": 47,
    "start_time": "2024-08-25T11:02:07.718Z"
   },
   {
    "duration": 1753,
    "start_time": "2024-08-25T11:02:12.673Z"
   },
   {
    "duration": 3199,
    "start_time": "2024-08-25T11:02:14.428Z"
   },
   {
    "duration": 106,
    "start_time": "2024-08-25T11:02:17.628Z"
   },
   {
    "duration": 4,
    "start_time": "2024-08-25T11:02:17.736Z"
   },
   {
    "duration": 238,
    "start_time": "2024-08-25T11:02:17.742Z"
   },
   {
    "duration": 99,
    "start_time": "2024-08-25T11:02:17.982Z"
   },
   {
    "duration": 5,
    "start_time": "2024-08-25T11:02:18.082Z"
   },
   {
    "duration": 18,
    "start_time": "2024-08-25T11:02:18.088Z"
   },
   {
    "duration": 278,
    "start_time": "2024-08-25T11:02:18.108Z"
   },
   {
    "duration": 569,
    "start_time": "2024-08-25T11:02:18.388Z"
   },
   {
    "duration": 117,
    "start_time": "2024-08-25T11:02:18.959Z"
   },
   {
    "duration": 17,
    "start_time": "2024-08-25T11:02:19.077Z"
   },
   {
    "duration": 4,
    "start_time": "2024-08-25T11:02:19.095Z"
   },
   {
    "duration": 25,
    "start_time": "2024-08-25T11:02:19.101Z"
   },
   {
    "duration": 2332,
    "start_time": "2024-08-25T11:02:19.128Z"
   },
   {
    "duration": 4,
    "start_time": "2024-08-25T11:02:21.462Z"
   },
   {
    "duration": 1951,
    "start_time": "2024-08-25T11:02:21.467Z"
   },
   {
    "duration": 99,
    "start_time": "2024-08-25T11:02:23.419Z"
   },
   {
    "duration": 49,
    "start_time": "2024-08-25T11:02:23.519Z"
   },
   {
    "duration": 30,
    "start_time": "2024-08-25T11:02:23.569Z"
   },
   {
    "duration": 647,
    "start_time": "2024-08-25T11:02:23.601Z"
   },
   {
    "duration": 0,
    "start_time": "2024-08-25T11:02:24.250Z"
   },
   {
    "duration": 0,
    "start_time": "2024-08-25T11:02:24.251Z"
   },
   {
    "duration": 0,
    "start_time": "2024-08-25T11:02:24.252Z"
   },
   {
    "duration": 0,
    "start_time": "2024-08-25T11:02:24.253Z"
   },
   {
    "duration": 0,
    "start_time": "2024-08-25T11:02:24.255Z"
   },
   {
    "duration": 0,
    "start_time": "2024-08-25T11:02:24.256Z"
   },
   {
    "duration": 0,
    "start_time": "2024-08-25T11:02:24.257Z"
   },
   {
    "duration": 0,
    "start_time": "2024-08-25T11:02:24.258Z"
   },
   {
    "duration": 0,
    "start_time": "2024-08-25T11:02:24.259Z"
   },
   {
    "duration": 0,
    "start_time": "2024-08-25T11:02:24.260Z"
   },
   {
    "duration": 0,
    "start_time": "2024-08-25T11:02:24.262Z"
   },
   {
    "duration": 0,
    "start_time": "2024-08-25T11:02:24.263Z"
   },
   {
    "duration": 0,
    "start_time": "2024-08-25T11:02:24.264Z"
   },
   {
    "duration": 0,
    "start_time": "2024-08-25T11:02:24.265Z"
   },
   {
    "duration": 0,
    "start_time": "2024-08-25T11:02:24.267Z"
   },
   {
    "duration": 0,
    "start_time": "2024-08-25T11:02:24.268Z"
   },
   {
    "duration": 0,
    "start_time": "2024-08-25T11:02:24.269Z"
   },
   {
    "duration": 0,
    "start_time": "2024-08-25T11:02:24.270Z"
   },
   {
    "duration": 0,
    "start_time": "2024-08-25T11:02:24.271Z"
   },
   {
    "duration": 0,
    "start_time": "2024-08-25T11:02:24.272Z"
   },
   {
    "duration": 0,
    "start_time": "2024-08-25T11:02:24.273Z"
   },
   {
    "duration": 9,
    "start_time": "2024-08-25T11:03:58.122Z"
   },
   {
    "duration": 16,
    "start_time": "2024-08-25T11:04:00.652Z"
   },
   {
    "duration": 18,
    "start_time": "2024-08-25T11:04:08.891Z"
   },
   {
    "duration": 12,
    "start_time": "2024-08-25T11:05:33.358Z"
   },
   {
    "duration": 1377,
    "start_time": "2024-08-25T11:05:49.297Z"
   },
   {
    "duration": 1057,
    "start_time": "2024-08-25T11:05:50.676Z"
   },
   {
    "duration": 102,
    "start_time": "2024-08-25T11:05:51.734Z"
   },
   {
    "duration": 4,
    "start_time": "2024-08-25T11:05:51.838Z"
   },
   {
    "duration": 236,
    "start_time": "2024-08-25T11:05:51.844Z"
   },
   {
    "duration": 116,
    "start_time": "2024-08-25T11:05:52.082Z"
   },
   {
    "duration": 5,
    "start_time": "2024-08-25T11:05:52.200Z"
   },
   {
    "duration": 27,
    "start_time": "2024-08-25T11:05:52.207Z"
   },
   {
    "duration": 325,
    "start_time": "2024-08-25T11:05:52.236Z"
   },
   {
    "duration": 585,
    "start_time": "2024-08-25T11:05:52.565Z"
   },
   {
    "duration": 115,
    "start_time": "2024-08-25T11:05:53.152Z"
   },
   {
    "duration": 17,
    "start_time": "2024-08-25T11:05:53.269Z"
   },
   {
    "duration": 4,
    "start_time": "2024-08-25T11:05:53.287Z"
   },
   {
    "duration": 5,
    "start_time": "2024-08-25T11:05:53.293Z"
   },
   {
    "duration": 2273,
    "start_time": "2024-08-25T11:05:53.299Z"
   },
   {
    "duration": 4,
    "start_time": "2024-08-25T11:05:55.574Z"
   },
   {
    "duration": 1970,
    "start_time": "2024-08-25T11:05:55.580Z"
   },
   {
    "duration": 96,
    "start_time": "2024-08-25T11:05:57.552Z"
   },
   {
    "duration": 46,
    "start_time": "2024-08-25T11:05:57.650Z"
   },
   {
    "duration": 30,
    "start_time": "2024-08-25T11:05:57.697Z"
   },
   {
    "duration": 11,
    "start_time": "2024-08-25T11:05:57.729Z"
   },
   {
    "duration": 49,
    "start_time": "2024-08-25T11:05:57.741Z"
   },
   {
    "duration": 16,
    "start_time": "2024-08-25T11:05:57.792Z"
   },
   {
    "duration": 66,
    "start_time": "2024-08-25T11:05:57.810Z"
   },
   {
    "duration": 184,
    "start_time": "2024-08-25T11:05:57.877Z"
   },
   {
    "duration": 65,
    "start_time": "2024-08-25T11:05:58.063Z"
   },
   {
    "duration": 3,
    "start_time": "2024-08-25T11:05:58.129Z"
   },
   {
    "duration": 35,
    "start_time": "2024-08-25T11:05:58.135Z"
   },
   {
    "duration": 6474,
    "start_time": "2024-08-25T11:05:58.171Z"
   },
   {
    "duration": 88,
    "start_time": "2024-08-25T11:06:04.647Z"
   },
   {
    "duration": 5,
    "start_time": "2024-08-25T11:06:04.737Z"
   },
   {
    "duration": 3763,
    "start_time": "2024-08-25T11:06:04.743Z"
   },
   {
    "duration": 3,
    "start_time": "2024-08-25T11:06:08.507Z"
   },
   {
    "duration": 6050,
    "start_time": "2024-08-25T11:06:08.512Z"
   },
   {
    "duration": 609,
    "start_time": "2024-08-25T11:06:14.564Z"
   },
   {
    "duration": 5,
    "start_time": "2024-08-25T11:06:15.175Z"
   },
   {
    "duration": 80,
    "start_time": "2024-08-25T11:06:15.181Z"
   },
   {
    "duration": 5629,
    "start_time": "2024-08-25T11:06:15.263Z"
   },
   {
    "duration": 162,
    "start_time": "2024-08-25T11:06:20.893Z"
   },
   {
    "duration": 5,
    "start_time": "2024-08-25T11:06:21.060Z"
   },
   {
    "duration": 8,
    "start_time": "2024-08-25T11:06:21.066Z"
   },
   {
    "duration": 22,
    "start_time": "2024-08-25T11:06:21.075Z"
   },
   {
    "duration": 134,
    "start_time": "2024-08-25T11:10:04.250Z"
   },
   {
    "duration": 190,
    "start_time": "2024-08-25T12:23:08.258Z"
   },
   {
    "duration": 1421,
    "start_time": "2024-08-25T12:23:21.073Z"
   },
   {
    "duration": 1070,
    "start_time": "2024-08-25T12:23:22.496Z"
   },
   {
    "duration": 100,
    "start_time": "2024-08-25T12:23:23.568Z"
   },
   {
    "duration": 4,
    "start_time": "2024-08-25T12:23:23.670Z"
   },
   {
    "duration": 265,
    "start_time": "2024-08-25T12:23:23.676Z"
   },
   {
    "duration": 102,
    "start_time": "2024-08-25T12:23:23.943Z"
   },
   {
    "duration": 14,
    "start_time": "2024-08-25T12:23:24.047Z"
   },
   {
    "duration": 13,
    "start_time": "2024-08-25T12:23:24.063Z"
   },
   {
    "duration": 313,
    "start_time": "2024-08-25T12:23:24.078Z"
   },
   {
    "duration": 583,
    "start_time": "2024-08-25T12:23:24.393Z"
   },
   {
    "duration": 111,
    "start_time": "2024-08-25T12:23:24.978Z"
   },
   {
    "duration": 16,
    "start_time": "2024-08-25T12:23:25.091Z"
   },
   {
    "duration": 16,
    "start_time": "2024-08-25T12:23:25.109Z"
   },
   {
    "duration": 6,
    "start_time": "2024-08-25T12:23:25.129Z"
   },
   {
    "duration": 2287,
    "start_time": "2024-08-25T12:23:25.136Z"
   },
   {
    "duration": 4,
    "start_time": "2024-08-25T12:23:27.425Z"
   },
   {
    "duration": 1917,
    "start_time": "2024-08-25T12:23:27.431Z"
   },
   {
    "duration": 99,
    "start_time": "2024-08-25T12:23:29.349Z"
   },
   {
    "duration": 48,
    "start_time": "2024-08-25T12:23:29.449Z"
   },
   {
    "duration": 31,
    "start_time": "2024-08-25T12:23:29.498Z"
   },
   {
    "duration": 11,
    "start_time": "2024-08-25T12:23:29.531Z"
   },
   {
    "duration": 31,
    "start_time": "2024-08-25T12:23:29.560Z"
   },
   {
    "duration": 18,
    "start_time": "2024-08-25T12:23:29.592Z"
   },
   {
    "duration": 75,
    "start_time": "2024-08-25T12:23:29.611Z"
   },
   {
    "duration": 204,
    "start_time": "2024-08-25T12:23:29.688Z"
   },
   {
    "duration": 199,
    "start_time": "2024-08-25T12:23:29.894Z"
   },
   {
    "duration": 0,
    "start_time": "2024-08-25T12:23:30.095Z"
   },
   {
    "duration": 0,
    "start_time": "2024-08-25T12:23:30.096Z"
   },
   {
    "duration": 0,
    "start_time": "2024-08-25T12:23:30.097Z"
   },
   {
    "duration": 0,
    "start_time": "2024-08-25T12:23:30.098Z"
   },
   {
    "duration": 0,
    "start_time": "2024-08-25T12:23:30.099Z"
   },
   {
    "duration": 0,
    "start_time": "2024-08-25T12:23:30.100Z"
   },
   {
    "duration": 0,
    "start_time": "2024-08-25T12:23:30.101Z"
   },
   {
    "duration": 0,
    "start_time": "2024-08-25T12:23:30.102Z"
   },
   {
    "duration": 0,
    "start_time": "2024-08-25T12:23:30.103Z"
   },
   {
    "duration": 0,
    "start_time": "2024-08-25T12:23:30.104Z"
   },
   {
    "duration": 0,
    "start_time": "2024-08-25T12:23:30.105Z"
   },
   {
    "duration": 0,
    "start_time": "2024-08-25T12:23:30.106Z"
   },
   {
    "duration": 0,
    "start_time": "2024-08-25T12:23:30.107Z"
   },
   {
    "duration": 0,
    "start_time": "2024-08-25T12:23:30.108Z"
   },
   {
    "duration": 0,
    "start_time": "2024-08-25T12:23:30.109Z"
   },
   {
    "duration": 0,
    "start_time": "2024-08-25T12:23:30.110Z"
   },
   {
    "duration": 123,
    "start_time": "2024-08-25T12:23:47.326Z"
   },
   {
    "duration": 4,
    "start_time": "2024-08-25T12:23:50.479Z"
   },
   {
    "duration": 19,
    "start_time": "2024-08-25T12:23:50.970Z"
   },
   {
    "duration": 5346,
    "start_time": "2024-08-25T12:23:51.160Z"
   },
   {
    "duration": 72,
    "start_time": "2024-08-25T12:23:58.454Z"
   },
   {
    "duration": 4,
    "start_time": "2024-08-25T12:25:35.915Z"
   },
   {
    "duration": 2,
    "start_time": "2024-08-25T12:26:19.619Z"
   },
   {
    "duration": 14,
    "start_time": "2024-08-25T12:26:45.769Z"
   },
   {
    "duration": 2,
    "start_time": "2024-08-25T12:26:49.224Z"
   },
   {
    "duration": 71,
    "start_time": "2024-08-25T12:30:28.904Z"
   },
   {
    "duration": 24,
    "start_time": "2024-08-25T12:30:30.117Z"
   },
   {
    "duration": 11,
    "start_time": "2024-08-25T12:30:30.271Z"
   },
   {
    "duration": 6,
    "start_time": "2024-08-25T12:30:53.889Z"
   },
   {
    "duration": 4,
    "start_time": "2024-08-25T12:31:21.019Z"
   },
   {
    "duration": 15,
    "start_time": "2024-08-25T12:31:23.008Z"
   },
   {
    "duration": 4,
    "start_time": "2024-08-25T12:45:10.285Z"
   },
   {
    "duration": 4,
    "start_time": "2024-08-25T12:52:32.616Z"
   },
   {
    "duration": 438322,
    "start_time": "2024-08-25T12:52:32.622Z"
   },
   {
    "duration": 4,
    "start_time": "2024-08-25T13:01:43.052Z"
   },
   {
    "duration": 4,
    "start_time": "2024-08-25T13:02:10.341Z"
   },
   {
    "duration": 17,
    "start_time": "2024-08-25T13:02:10.559Z"
   },
   {
    "duration": 4,
    "start_time": "2024-08-25T13:02:20.099Z"
   },
   {
    "duration": 10,
    "start_time": "2024-08-25T13:03:12.954Z"
   },
   {
    "duration": 4,
    "start_time": "2024-08-25T13:03:46.458Z"
   },
   {
    "duration": 4,
    "start_time": "2024-08-25T13:13:20.662Z"
   },
   {
    "duration": 574536,
    "start_time": "2024-08-25T13:13:20.667Z"
   },
   {
    "duration": 4,
    "start_time": "2024-08-25T13:22:55.205Z"
   },
   {
    "duration": 4,
    "start_time": "2024-08-25T13:40:35.269Z"
   },
   {
    "duration": 103,
    "start_time": "2024-08-25T13:44:03.336Z"
   },
   {
    "duration": 12,
    "start_time": "2024-08-25T13:44:51.216Z"
   },
   {
    "duration": 3,
    "start_time": "2024-08-25T13:48:01.158Z"
   },
   {
    "duration": 3,
    "start_time": "2024-08-25T13:49:38.341Z"
   },
   {
    "duration": 5,
    "start_time": "2024-08-25T13:49:41.888Z"
   },
   {
    "duration": 4,
    "start_time": "2024-08-25T13:49:47.919Z"
   },
   {
    "duration": 9,
    "start_time": "2024-08-25T13:50:03.187Z"
   },
   {
    "duration": 3,
    "start_time": "2024-08-25T13:50:05.060Z"
   },
   {
    "duration": 4,
    "start_time": "2024-08-25T13:50:05.207Z"
   },
   {
    "duration": 4,
    "start_time": "2024-08-25T13:50:05.392Z"
   },
   {
    "duration": 3,
    "start_time": "2024-08-25T13:51:14.397Z"
   },
   {
    "duration": 4,
    "start_time": "2024-08-25T13:51:20.069Z"
   },
   {
    "duration": 3331,
    "start_time": "2024-08-25T13:53:32.026Z"
   },
   {
    "duration": 9,
    "start_time": "2024-08-25T13:57:19.708Z"
   },
   {
    "duration": 160,
    "start_time": "2024-08-25T13:57:32.421Z"
   },
   {
    "duration": 68,
    "start_time": "2024-08-25T13:58:26.930Z"
   },
   {
    "duration": 3,
    "start_time": "2024-08-25T13:58:41.859Z"
   },
   {
    "duration": 3,
    "start_time": "2024-08-25T13:58:43.048Z"
   },
   {
    "duration": 3,
    "start_time": "2024-08-25T13:59:17.766Z"
   },
   {
    "duration": 4,
    "start_time": "2024-08-25T14:01:24.433Z"
   },
   {
    "duration": 6327,
    "start_time": "2024-08-25T14:01:35.841Z"
   },
   {
    "duration": 6484,
    "start_time": "2024-08-25T14:02:12.673Z"
   },
   {
    "duration": 17,
    "start_time": "2024-08-25T14:02:57.359Z"
   },
   {
    "duration": 149,
    "start_time": "2024-08-25T14:02:57.640Z"
   },
   {
    "duration": 33,
    "start_time": "2024-08-25T14:02:57.973Z"
   },
   {
    "duration": 4,
    "start_time": "2024-08-25T14:02:59.022Z"
   },
   {
    "duration": 8,
    "start_time": "2024-08-25T14:05:00.198Z"
   },
   {
    "duration": 2281,
    "start_time": "2024-08-25T14:05:00.557Z"
   },
   {
    "duration": 3,
    "start_time": "2024-08-25T14:05:02.840Z"
   },
   {
    "duration": 1144,
    "start_time": "2024-08-25T14:05:02.844Z"
   },
   {
    "duration": 110,
    "start_time": "2024-08-25T14:05:03.989Z"
   },
   {
    "duration": 3,
    "start_time": "2024-08-25T14:05:04.101Z"
   },
   {
    "duration": 263,
    "start_time": "2024-08-25T14:05:04.106Z"
   },
   {
    "duration": 105,
    "start_time": "2024-08-25T14:05:04.370Z"
   },
   {
    "duration": 5,
    "start_time": "2024-08-25T14:05:04.476Z"
   },
   {
    "duration": 14,
    "start_time": "2024-08-25T14:05:04.482Z"
   },
   {
    "duration": 320,
    "start_time": "2024-08-25T14:05:04.500Z"
   },
   {
    "duration": 601,
    "start_time": "2024-08-25T14:05:04.822Z"
   },
   {
    "duration": 120,
    "start_time": "2024-08-25T14:05:05.425Z"
   },
   {
    "duration": 23,
    "start_time": "2024-08-25T14:05:05.546Z"
   },
   {
    "duration": 5,
    "start_time": "2024-08-25T14:05:05.571Z"
   },
   {
    "duration": 21,
    "start_time": "2024-08-25T14:05:05.578Z"
   },
   {
    "duration": 2265,
    "start_time": "2024-08-25T14:05:05.601Z"
   },
   {
    "duration": 4,
    "start_time": "2024-08-25T14:05:07.868Z"
   },
   {
    "duration": 1479,
    "start_time": "2024-08-25T14:05:23.155Z"
   },
   {
    "duration": 2,
    "start_time": "2024-08-25T14:05:24.636Z"
   },
   {
    "duration": 1112,
    "start_time": "2024-08-25T14:05:24.640Z"
   },
   {
    "duration": 115,
    "start_time": "2024-08-25T14:05:25.754Z"
   },
   {
    "duration": 5,
    "start_time": "2024-08-25T14:05:25.871Z"
   },
   {
    "duration": 283,
    "start_time": "2024-08-25T14:05:25.877Z"
   },
   {
    "duration": 99,
    "start_time": "2024-08-25T14:05:26.162Z"
   },
   {
    "duration": 5,
    "start_time": "2024-08-25T14:05:26.263Z"
   },
   {
    "duration": 23,
    "start_time": "2024-08-25T14:05:26.269Z"
   },
   {
    "duration": 285,
    "start_time": "2024-08-25T14:05:26.295Z"
   },
   {
    "duration": 579,
    "start_time": "2024-08-25T14:05:26.582Z"
   },
   {
    "duration": 114,
    "start_time": "2024-08-25T14:05:27.163Z"
   },
   {
    "duration": 16,
    "start_time": "2024-08-25T14:05:27.279Z"
   },
   {
    "duration": 5,
    "start_time": "2024-08-25T14:05:27.297Z"
   },
   {
    "duration": 7,
    "start_time": "2024-08-25T14:05:27.304Z"
   },
   {
    "duration": 2262,
    "start_time": "2024-08-25T14:05:27.312Z"
   },
   {
    "duration": 3,
    "start_time": "2024-08-25T14:05:29.576Z"
   },
   {
    "duration": 1987,
    "start_time": "2024-08-25T14:05:29.581Z"
   },
   {
    "duration": 102,
    "start_time": "2024-08-25T14:05:31.569Z"
   },
   {
    "duration": 41,
    "start_time": "2024-08-25T14:05:31.672Z"
   },
   {
    "duration": 47,
    "start_time": "2024-08-25T14:05:31.714Z"
   },
   {
    "duration": 12,
    "start_time": "2024-08-25T14:05:31.762Z"
   },
   {
    "duration": 36,
    "start_time": "2024-08-25T14:05:31.776Z"
   },
   {
    "duration": 18,
    "start_time": "2024-08-25T14:05:31.813Z"
   },
   {
    "duration": 72,
    "start_time": "2024-08-25T14:05:31.832Z"
   },
   {
    "duration": 193,
    "start_time": "2024-08-25T14:05:31.906Z"
   },
   {
    "duration": 68,
    "start_time": "2024-08-25T14:05:32.101Z"
   },
   {
    "duration": 20,
    "start_time": "2024-08-25T14:05:32.172Z"
   },
   {
    "duration": 9,
    "start_time": "2024-08-25T14:05:32.194Z"
   },
   {
    "duration": 570040,
    "start_time": "2024-08-25T14:05:32.205Z"
   },
   {
    "duration": 3,
    "start_time": "2024-08-25T14:15:02.247Z"
   },
   {
    "duration": 21,
    "start_time": "2024-08-25T14:15:02.252Z"
   },
   {
    "duration": 48,
    "start_time": "2024-08-25T14:15:02.275Z"
   },
   {
    "duration": 26,
    "start_time": "2024-08-25T14:15:02.325Z"
   },
   {
    "duration": 62,
    "start_time": "2024-08-25T14:15:02.353Z"
   },
   {
    "duration": 192,
    "start_time": "2024-08-25T14:15:02.416Z"
   },
   {
    "duration": 39,
    "start_time": "2024-08-25T14:15:02.610Z"
   },
   {
    "duration": 19,
    "start_time": "2024-08-25T14:15:02.651Z"
   },
   {
    "duration": 2123695,
    "start_time": "2024-08-25T14:15:02.672Z"
   },
   {
    "duration": 3,
    "start_time": "2024-08-25T14:50:26.369Z"
   },
   {
    "duration": 6504,
    "start_time": "2024-08-25T14:50:26.373Z"
   },
   {
    "duration": 603,
    "start_time": "2024-08-25T14:50:32.879Z"
   },
   {
    "duration": 78,
    "start_time": "2024-08-25T14:50:33.483Z"
   },
   {
    "duration": 3,
    "start_time": "2024-08-25T14:50:33.562Z"
   },
   {
    "duration": 224,
    "start_time": "2024-08-25T14:50:33.567Z"
   },
   {
    "duration": 69,
    "start_time": "2024-08-25T14:50:33.792Z"
   },
   {
    "duration": 5,
    "start_time": "2024-08-25T14:50:33.862Z"
   },
   {
    "duration": 14,
    "start_time": "2024-08-25T14:50:33.869Z"
   },
   {
    "duration": 11,
    "start_time": "2024-08-25T14:50:33.885Z"
   },
   {
    "duration": 3632,
    "start_time": "2024-08-25T14:50:33.898Z"
   },
   {
    "duration": 4,
    "start_time": "2024-08-25T14:51:11.665Z"
   },
   {
    "duration": 2,
    "start_time": "2024-08-25T14:51:43.624Z"
   },
   {
    "duration": 3,
    "start_time": "2024-08-25T14:51:52.039Z"
   },
   {
    "duration": 4,
    "start_time": "2024-08-25T14:52:02.091Z"
   },
   {
    "duration": 4,
    "start_time": "2024-08-25T14:57:02.163Z"
   },
   {
    "duration": 8,
    "start_time": "2024-08-25T15:16:28.839Z"
   },
   {
    "duration": 3,
    "start_time": "2024-08-25T15:16:32.306Z"
   },
   {
    "duration": 3,
    "start_time": "2024-08-25T15:17:08.803Z"
   },
   {
    "duration": 4,
    "start_time": "2024-08-25T15:17:41.371Z"
   },
   {
    "duration": 2,
    "start_time": "2024-08-25T15:17:46.616Z"
   },
   {
    "duration": 4,
    "start_time": "2024-08-25T15:18:02.262Z"
   },
   {
    "duration": 3,
    "start_time": "2024-08-25T15:20:47.714Z"
   },
   {
    "duration": 80,
    "start_time": "2024-08-25T15:21:32.051Z"
   },
   {
    "duration": 428862,
    "start_time": "2024-08-25T15:21:48.841Z"
   },
   {
    "duration": 3,
    "start_time": "2024-08-25T15:28:57.706Z"
   },
   {
    "duration": 5,
    "start_time": "2024-08-25T15:28:57.711Z"
   },
   {
    "duration": 8,
    "start_time": "2024-08-25T15:28:57.718Z"
   },
   {
    "duration": 6,
    "start_time": "2024-08-25T15:28:57.727Z"
   },
   {
    "duration": 4,
    "start_time": "2024-08-25T15:29:38.243Z"
   },
   {
    "duration": 3,
    "start_time": "2024-08-25T15:29:44.388Z"
   },
   {
    "duration": 15,
    "start_time": "2024-08-25T15:39:53.017Z"
   },
   {
    "duration": 138,
    "start_time": "2024-08-25T15:41:01.897Z"
   },
   {
    "duration": 113,
    "start_time": "2024-08-25T15:41:48.713Z"
   },
   {
    "duration": 111,
    "start_time": "2024-08-25T15:41:54.353Z"
   },
   {
    "duration": 15,
    "start_time": "2024-08-25T15:42:53.498Z"
   },
   {
    "duration": 71,
    "start_time": "2024-08-25T15:44:37.526Z"
   },
   {
    "duration": 89,
    "start_time": "2024-08-25T15:45:03.952Z"
   },
   {
    "duration": 3,
    "start_time": "2024-08-25T15:45:04.412Z"
   },
   {
    "duration": 3,
    "start_time": "2024-08-25T15:45:05.377Z"
   },
   {
    "duration": 4,
    "start_time": "2024-08-25T15:45:07.648Z"
   },
   {
    "duration": 212758,
    "start_time": "2024-08-25T15:45:08.680Z"
   },
   {
    "duration": 4,
    "start_time": "2024-08-25T15:48:41.440Z"
   },
   {
    "duration": 16,
    "start_time": "2024-08-25T15:48:41.445Z"
   },
   {
    "duration": 6,
    "start_time": "2024-08-25T15:48:41.464Z"
   },
   {
    "duration": 6,
    "start_time": "2024-08-25T15:48:41.472Z"
   },
   {
    "duration": 4,
    "start_time": "2024-08-25T15:48:41.479Z"
   },
   {
    "duration": 150,
    "start_time": "2024-08-25T15:48:41.485Z"
   },
   {
    "duration": 69,
    "start_time": "2024-08-25T15:51:59.291Z"
   },
   {
    "duration": 4,
    "start_time": "2024-08-25T15:55:35.807Z"
   },
   {
    "duration": 24570,
    "start_time": "2024-08-25T15:55:35.813Z"
   },
   {
    "duration": 0,
    "start_time": "2024-08-25T15:56:00.385Z"
   },
   {
    "duration": 0,
    "start_time": "2024-08-25T15:56:00.387Z"
   },
   {
    "duration": 0,
    "start_time": "2024-08-25T15:56:00.389Z"
   },
   {
    "duration": 0,
    "start_time": "2024-08-25T15:56:00.390Z"
   },
   {
    "duration": 0,
    "start_time": "2024-08-25T15:56:00.392Z"
   },
   {
    "duration": 0,
    "start_time": "2024-08-25T15:56:00.394Z"
   },
   {
    "duration": 5,
    "start_time": "2024-08-25T15:58:04.201Z"
   },
   {
    "duration": 211658,
    "start_time": "2024-08-25T15:58:04.524Z"
   },
   {
    "duration": 4,
    "start_time": "2024-08-25T16:01:36.184Z"
   },
   {
    "duration": 45,
    "start_time": "2024-08-25T16:01:36.189Z"
   },
   {
    "duration": 29,
    "start_time": "2024-08-25T16:01:36.236Z"
   },
   {
    "duration": 37,
    "start_time": "2024-08-25T16:01:36.267Z"
   },
   {
    "duration": 31,
    "start_time": "2024-08-25T16:01:36.305Z"
   },
   {
    "duration": 144,
    "start_time": "2024-08-25T16:01:36.337Z"
   },
   {
    "duration": 8842,
    "start_time": "2024-08-25T16:01:36.482Z"
   },
   {
    "duration": 4,
    "start_time": "2024-08-25T16:02:15.403Z"
   },
   {
    "duration": 3,
    "start_time": "2024-08-25T16:02:52.175Z"
   },
   {
    "duration": 32563,
    "start_time": "2024-08-25T16:02:52.668Z"
   },
   {
    "duration": 4,
    "start_time": "2024-08-25T16:03:25.234Z"
   },
   {
    "duration": 15,
    "start_time": "2024-08-25T16:03:25.240Z"
   },
   {
    "duration": 5,
    "start_time": "2024-08-25T16:03:25.257Z"
   },
   {
    "duration": 5,
    "start_time": "2024-08-25T16:03:25.265Z"
   },
   {
    "duration": 7,
    "start_time": "2024-08-25T16:03:25.271Z"
   },
   {
    "duration": 216,
    "start_time": "2024-08-25T16:03:25.280Z"
   },
   {
    "duration": 3,
    "start_time": "2024-08-25T16:04:21.686Z"
   },
   {
    "duration": 30913,
    "start_time": "2024-08-25T16:04:22.014Z"
   },
   {
    "duration": 4,
    "start_time": "2024-08-25T16:04:52.929Z"
   },
   {
    "duration": 6,
    "start_time": "2024-08-25T16:04:52.934Z"
   },
   {
    "duration": 4,
    "start_time": "2024-08-25T16:04:52.942Z"
   },
   {
    "duration": 15,
    "start_time": "2024-08-25T16:04:52.947Z"
   },
   {
    "duration": 7,
    "start_time": "2024-08-25T16:04:52.963Z"
   },
   {
    "duration": 122,
    "start_time": "2024-08-25T16:04:52.971Z"
   },
   {
    "duration": 157,
    "start_time": "2024-08-25T16:05:25.845Z"
   },
   {
    "duration": 6817,
    "start_time": "2024-08-25T16:07:56.971Z"
   },
   {
    "duration": 69,
    "start_time": "2024-08-25T16:08:12.348Z"
   },
   {
    "duration": 3,
    "start_time": "2024-08-25T16:08:12.757Z"
   },
   {
    "duration": 4,
    "start_time": "2024-08-25T16:08:13.111Z"
   },
   {
    "duration": 3,
    "start_time": "2024-08-25T16:08:13.524Z"
   },
   {
    "duration": 30797,
    "start_time": "2024-08-25T16:08:13.815Z"
   },
   {
    "duration": 4,
    "start_time": "2024-08-25T16:08:44.614Z"
   },
   {
    "duration": 12,
    "start_time": "2024-08-25T16:08:44.620Z"
   },
   {
    "duration": 6,
    "start_time": "2024-08-25T16:08:44.634Z"
   },
   {
    "duration": 21,
    "start_time": "2024-08-25T16:08:44.642Z"
   },
   {
    "duration": 6,
    "start_time": "2024-08-25T16:08:44.665Z"
   },
   {
    "duration": 151,
    "start_time": "2024-08-25T16:08:44.673Z"
   },
   {
    "duration": 17,
    "start_time": "2024-08-25T16:09:40.263Z"
   },
   {
    "duration": 18,
    "start_time": "2024-08-25T16:10:58.281Z"
   },
   {
    "duration": 22,
    "start_time": "2024-08-25T16:11:03.172Z"
   },
   {
    "duration": 13,
    "start_time": "2024-08-25T16:38:50.273Z"
   },
   {
    "duration": 4,
    "start_time": "2024-08-25T16:39:01.103Z"
   },
   {
    "duration": 63,
    "start_time": "2024-08-25T16:39:07.536Z"
   },
   {
    "duration": 4,
    "start_time": "2024-08-25T16:39:07.888Z"
   },
   {
    "duration": 3,
    "start_time": "2024-08-25T16:39:08.118Z"
   },
   {
    "duration": 4,
    "start_time": "2024-08-25T16:39:08.333Z"
   },
   {
    "duration": 6227,
    "start_time": "2024-08-25T16:39:08.498Z"
   },
   {
    "duration": 4,
    "start_time": "2024-08-25T16:39:14.727Z"
   },
   {
    "duration": 25,
    "start_time": "2024-08-25T16:39:14.733Z"
   },
   {
    "duration": 22,
    "start_time": "2024-08-25T16:39:14.760Z"
   },
   {
    "duration": 20,
    "start_time": "2024-08-25T16:39:14.783Z"
   },
   {
    "duration": 31,
    "start_time": "2024-08-25T16:39:14.805Z"
   },
   {
    "duration": 150,
    "start_time": "2024-08-25T16:39:14.838Z"
   },
   {
    "duration": 3,
    "start_time": "2024-08-25T16:39:34.599Z"
   },
   {
    "duration": 3,
    "start_time": "2024-08-25T16:39:34.781Z"
   },
   {
    "duration": 48223,
    "start_time": "2024-08-25T16:39:34.970Z"
   },
   {
    "duration": 4,
    "start_time": "2024-08-25T16:40:23.195Z"
   },
   {
    "duration": 19,
    "start_time": "2024-08-25T16:40:23.200Z"
   },
   {
    "duration": 4,
    "start_time": "2024-08-25T16:40:23.221Z"
   },
   {
    "duration": 4,
    "start_time": "2024-08-25T16:40:23.226Z"
   },
   {
    "duration": 4,
    "start_time": "2024-08-25T16:40:23.232Z"
   },
   {
    "duration": 123,
    "start_time": "2024-08-25T16:40:23.238Z"
   },
   {
    "duration": 4,
    "start_time": "2024-08-25T16:40:34.055Z"
   },
   {
    "duration": 5,
    "start_time": "2024-08-25T16:40:56.765Z"
   },
   {
    "duration": 6,
    "start_time": "2024-08-25T16:41:46.758Z"
   },
   {
    "duration": 5,
    "start_time": "2024-08-25T16:43:10.236Z"
   },
   {
    "duration": 9,
    "start_time": "2024-08-25T16:43:10.608Z"
   },
   {
    "duration": 4,
    "start_time": "2024-08-25T16:44:30.235Z"
   },
   {
    "duration": 10,
    "start_time": "2024-08-25T16:44:30.371Z"
   },
   {
    "duration": 4,
    "start_time": "2024-08-25T16:45:27.400Z"
   },
   {
    "duration": 9,
    "start_time": "2024-08-25T16:45:27.546Z"
   },
   {
    "duration": 4,
    "start_time": "2024-08-25T16:45:47.986Z"
   },
   {
    "duration": 47943,
    "start_time": "2024-08-25T16:45:48.249Z"
   },
   {
    "duration": 4,
    "start_time": "2024-08-25T16:46:36.194Z"
   },
   {
    "duration": 40,
    "start_time": "2024-08-25T16:46:36.200Z"
   },
   {
    "duration": 51,
    "start_time": "2024-08-25T16:46:36.242Z"
   },
   {
    "duration": 41,
    "start_time": "2024-08-25T16:46:36.294Z"
   },
   {
    "duration": 4,
    "start_time": "2024-08-25T16:47:14.138Z"
   },
   {
    "duration": 10,
    "start_time": "2024-08-25T16:47:14.195Z"
   },
   {
    "duration": 9,
    "start_time": "2024-08-25T16:47:31.233Z"
   },
   {
    "duration": 8,
    "start_time": "2024-08-25T16:48:23.194Z"
   },
   {
    "duration": 8,
    "start_time": "2024-08-25T16:49:00.940Z"
   },
   {
    "duration": 1424,
    "start_time": "2024-08-25T16:49:30.168Z"
   },
   {
    "duration": 3,
    "start_time": "2024-08-25T16:49:31.594Z"
   },
   {
    "duration": 3008,
    "start_time": "2024-08-25T16:49:31.598Z"
   },
   {
    "duration": 1158,
    "start_time": "2024-08-25T16:49:34.609Z"
   },
   {
    "duration": 118,
    "start_time": "2024-08-25T16:49:35.769Z"
   },
   {
    "duration": 5,
    "start_time": "2024-08-25T16:49:35.889Z"
   },
   {
    "duration": 262,
    "start_time": "2024-08-25T16:49:35.895Z"
   },
   {
    "duration": 104,
    "start_time": "2024-08-25T16:49:36.161Z"
   },
   {
    "duration": 5,
    "start_time": "2024-08-25T16:49:36.267Z"
   },
   {
    "duration": 21,
    "start_time": "2024-08-25T16:49:36.275Z"
   },
   {
    "duration": 305,
    "start_time": "2024-08-25T16:49:36.298Z"
   },
   {
    "duration": 616,
    "start_time": "2024-08-25T16:49:36.605Z"
   },
   {
    "duration": 129,
    "start_time": "2024-08-25T16:49:37.223Z"
   },
   {
    "duration": 23,
    "start_time": "2024-08-25T16:49:37.360Z"
   },
   {
    "duration": 7,
    "start_time": "2024-08-25T16:49:37.385Z"
   },
   {
    "duration": 6,
    "start_time": "2024-08-25T16:49:37.394Z"
   },
   {
    "duration": 2336,
    "start_time": "2024-08-25T16:49:37.403Z"
   },
   {
    "duration": 4,
    "start_time": "2024-08-25T16:49:39.741Z"
   },
   {
    "duration": 1996,
    "start_time": "2024-08-25T16:49:39.747Z"
   },
   {
    "duration": 102,
    "start_time": "2024-08-25T16:49:41.745Z"
   },
   {
    "duration": 42,
    "start_time": "2024-08-25T16:49:41.860Z"
   },
   {
    "duration": 37,
    "start_time": "2024-08-25T16:49:41.904Z"
   },
   {
    "duration": 22,
    "start_time": "2024-08-25T16:49:41.943Z"
   },
   {
    "duration": 34,
    "start_time": "2024-08-25T16:49:41.967Z"
   },
   {
    "duration": 22,
    "start_time": "2024-08-25T16:49:42.003Z"
   },
   {
    "duration": 68,
    "start_time": "2024-08-25T16:49:42.027Z"
   },
   {
    "duration": 178,
    "start_time": "2024-08-25T16:49:42.097Z"
   },
   {
    "duration": 66,
    "start_time": "2024-08-25T16:49:42.280Z"
   },
   {
    "duration": 29,
    "start_time": "2024-08-25T16:49:42.348Z"
   },
   {
    "duration": 5,
    "start_time": "2024-08-25T16:49:42.379Z"
   },
   {
    "duration": 572790,
    "start_time": "2024-08-25T16:49:42.386Z"
   },
   {
    "duration": 4,
    "start_time": "2024-08-25T16:59:15.178Z"
   },
   {
    "duration": 16,
    "start_time": "2024-08-25T16:59:15.183Z"
   },
   {
    "duration": 21,
    "start_time": "2024-08-25T16:59:15.201Z"
   },
   {
    "duration": 4,
    "start_time": "2024-08-25T16:59:15.223Z"
   },
   {
    "duration": 12,
    "start_time": "2024-08-25T16:59:15.229Z"
   },
   {
    "duration": 151,
    "start_time": "2024-08-25T16:59:15.243Z"
   },
   {
    "duration": 40,
    "start_time": "2024-08-25T16:59:15.396Z"
   },
   {
    "duration": 4,
    "start_time": "2024-08-25T16:59:15.438Z"
   },
   {
    "duration": 1276,
    "start_time": "2024-08-25T17:01:57.592Z"
   },
   {
    "duration": 3,
    "start_time": "2024-08-25T17:01:58.870Z"
   },
   {
    "duration": 3122,
    "start_time": "2024-08-25T17:01:58.874Z"
   },
   {
    "duration": 1108,
    "start_time": "2024-08-25T17:02:01.998Z"
   },
   {
    "duration": 109,
    "start_time": "2024-08-25T17:02:03.108Z"
   },
   {
    "duration": 5,
    "start_time": "2024-08-25T17:02:03.219Z"
   },
   {
    "duration": 270,
    "start_time": "2024-08-25T17:02:03.226Z"
   },
   {
    "duration": 97,
    "start_time": "2024-08-25T17:02:03.498Z"
   },
   {
    "duration": 5,
    "start_time": "2024-08-25T17:02:03.597Z"
   },
   {
    "duration": 30,
    "start_time": "2024-08-25T17:02:03.604Z"
   },
   {
    "duration": 325,
    "start_time": "2024-08-25T17:02:03.636Z"
   },
   {
    "duration": 606,
    "start_time": "2024-08-25T17:02:03.962Z"
   },
   {
    "duration": 117,
    "start_time": "2024-08-25T17:02:04.570Z"
   },
   {
    "duration": 16,
    "start_time": "2024-08-25T17:02:04.690Z"
   },
   {
    "duration": 12,
    "start_time": "2024-08-25T17:02:04.708Z"
   },
   {
    "duration": 21,
    "start_time": "2024-08-25T17:02:04.722Z"
   },
   {
    "duration": 2385,
    "start_time": "2024-08-25T17:02:04.745Z"
   },
   {
    "duration": 4,
    "start_time": "2024-08-25T17:02:07.132Z"
   },
   {
    "duration": 1977,
    "start_time": "2024-08-25T17:02:07.138Z"
   },
   {
    "duration": 114,
    "start_time": "2024-08-25T17:02:09.117Z"
   },
   {
    "duration": 49,
    "start_time": "2024-08-25T17:02:09.233Z"
   },
   {
    "duration": 35,
    "start_time": "2024-08-25T17:02:09.284Z"
   },
   {
    "duration": 10,
    "start_time": "2024-08-25T17:02:09.321Z"
   },
   {
    "duration": 113,
    "start_time": "2024-08-25T17:02:09.332Z"
   },
   {
    "duration": 20,
    "start_time": "2024-08-25T17:02:09.447Z"
   },
   {
    "duration": 54,
    "start_time": "2024-08-25T17:02:09.469Z"
   },
   {
    "duration": 172,
    "start_time": "2024-08-25T17:02:09.524Z"
   },
   {
    "duration": 83,
    "start_time": "2024-08-25T17:02:09.697Z"
   },
   {
    "duration": 22,
    "start_time": "2024-08-25T17:02:09.782Z"
   },
   {
    "duration": 16,
    "start_time": "2024-08-25T17:02:09.806Z"
   },
   {
    "duration": 586157,
    "start_time": "2024-08-25T17:02:09.824Z"
   },
   {
    "duration": 4,
    "start_time": "2024-08-25T17:11:55.983Z"
   },
   {
    "duration": 3,
    "start_time": "2024-08-25T17:11:55.988Z"
   },
   {
    "duration": 6,
    "start_time": "2024-08-25T17:11:55.993Z"
   },
   {
    "duration": 5,
    "start_time": "2024-08-25T17:11:56.001Z"
   },
   {
    "duration": 3,
    "start_time": "2024-08-25T17:11:56.008Z"
   },
   {
    "duration": 11,
    "start_time": "2024-08-25T17:11:56.013Z"
   },
   {
    "duration": 171,
    "start_time": "2024-08-25T17:11:56.026Z"
   },
   {
    "duration": 42,
    "start_time": "2024-08-25T17:11:56.199Z"
   },
   {
    "duration": 18,
    "start_time": "2024-08-25T17:11:56.243Z"
   },
   {
    "duration": 100,
    "start_time": "2024-08-25T18:41:14.510Z"
   },
   {
    "duration": 4,
    "start_time": "2024-08-25T18:41:14.611Z"
   },
   {
    "duration": 27,
    "start_time": "2024-08-25T18:41:14.616Z"
   },
   {
    "duration": 10,
    "start_time": "2024-08-25T18:41:14.644Z"
   },
   {
    "duration": 45903,
    "start_time": "2024-08-25T18:41:14.656Z"
   },
   {
    "duration": 4,
    "start_time": "2024-08-25T18:42:00.561Z"
   },
   {
    "duration": 35,
    "start_time": "2024-08-25T18:42:00.566Z"
   },
   {
    "duration": 6,
    "start_time": "2024-08-25T18:42:00.603Z"
   },
   {
    "duration": 10,
    "start_time": "2024-08-25T18:42:00.610Z"
   },
   {
    "duration": 3,
    "start_time": "2024-08-25T18:42:00.622Z"
   },
   {
    "duration": 0,
    "start_time": "2024-08-25T18:42:00.798Z"
   },
   {
    "duration": 0,
    "start_time": "2024-08-25T18:42:00.800Z"
   },
   {
    "duration": 0,
    "start_time": "2024-08-25T18:42:00.805Z"
   },
   {
    "duration": 0,
    "start_time": "2024-08-25T18:42:00.806Z"
   },
   {
    "duration": 0,
    "start_time": "2024-08-25T18:42:00.807Z"
   },
   {
    "duration": 0,
    "start_time": "2024-08-25T18:42:00.809Z"
   },
   {
    "duration": 1,
    "start_time": "2024-08-25T18:42:00.809Z"
   },
   {
    "duration": 0,
    "start_time": "2024-08-25T18:42:00.810Z"
   },
   {
    "duration": 5,
    "start_time": "2024-08-25T19:20:11.927Z"
   },
   {
    "duration": 2090,
    "start_time": "2024-08-25T19:20:13.582Z"
   },
   {
    "duration": 0,
    "start_time": "2024-08-25T19:20:15.674Z"
   },
   {
    "duration": 0,
    "start_time": "2024-08-25T19:20:15.675Z"
   },
   {
    "duration": 0,
    "start_time": "2024-08-25T19:20:15.676Z"
   },
   {
    "duration": 0,
    "start_time": "2024-08-25T19:20:15.677Z"
   },
   {
    "duration": 0,
    "start_time": "2024-08-25T19:20:15.678Z"
   },
   {
    "duration": 1366,
    "start_time": "2024-08-25T19:20:31.255Z"
   },
   {
    "duration": 2,
    "start_time": "2024-08-25T19:20:32.623Z"
   },
   {
    "duration": 3094,
    "start_time": "2024-08-25T19:20:32.627Z"
   },
   {
    "duration": 1188,
    "start_time": "2024-08-25T19:20:35.723Z"
   },
   {
    "duration": 103,
    "start_time": "2024-08-25T19:20:36.913Z"
   },
   {
    "duration": 4,
    "start_time": "2024-08-25T19:20:37.018Z"
   },
   {
    "duration": 243,
    "start_time": "2024-08-25T19:20:37.023Z"
   },
   {
    "duration": 101,
    "start_time": "2024-08-25T19:20:37.268Z"
   },
   {
    "duration": 5,
    "start_time": "2024-08-25T19:20:37.370Z"
   },
   {
    "duration": 38,
    "start_time": "2024-08-25T19:20:37.377Z"
   },
   {
    "duration": 350,
    "start_time": "2024-08-25T19:20:37.417Z"
   },
   {
    "duration": 653,
    "start_time": "2024-08-25T19:20:37.769Z"
   },
   {
    "duration": 120,
    "start_time": "2024-08-25T19:20:38.423Z"
   },
   {
    "duration": 19,
    "start_time": "2024-08-25T19:20:38.546Z"
   },
   {
    "duration": 17,
    "start_time": "2024-08-25T19:20:38.567Z"
   },
   {
    "duration": 23,
    "start_time": "2024-08-25T19:20:38.585Z"
   },
   {
    "duration": 2370,
    "start_time": "2024-08-25T19:20:38.609Z"
   },
   {
    "duration": 4,
    "start_time": "2024-08-25T19:20:40.980Z"
   },
   {
    "duration": 1952,
    "start_time": "2024-08-25T19:20:40.986Z"
   },
   {
    "duration": 105,
    "start_time": "2024-08-25T19:20:42.940Z"
   },
   {
    "duration": 45,
    "start_time": "2024-08-25T19:20:43.047Z"
   },
   {
    "duration": 44,
    "start_time": "2024-08-25T19:20:43.094Z"
   },
   {
    "duration": 26,
    "start_time": "2024-08-25T19:20:43.141Z"
   },
   {
    "duration": 41,
    "start_time": "2024-08-25T19:20:43.169Z"
   },
   {
    "duration": 50,
    "start_time": "2024-08-25T19:20:43.212Z"
   },
   {
    "duration": 49,
    "start_time": "2024-08-25T19:20:43.265Z"
   },
   {
    "duration": 183,
    "start_time": "2024-08-25T19:20:43.316Z"
   },
   {
    "duration": 71,
    "start_time": "2024-08-25T19:20:43.501Z"
   },
   {
    "duration": 22,
    "start_time": "2024-08-25T19:20:43.574Z"
   },
   {
    "duration": 5,
    "start_time": "2024-08-25T19:20:43.598Z"
   },
   {
    "duration": 578994,
    "start_time": "2024-08-25T19:20:43.605Z"
   },
   {
    "duration": 4,
    "start_time": "2024-08-25T19:30:22.601Z"
   },
   {
    "duration": 3,
    "start_time": "2024-08-25T19:30:22.607Z"
   },
   {
    "duration": 4,
    "start_time": "2024-08-25T19:30:22.612Z"
   },
   {
    "duration": 4,
    "start_time": "2024-08-25T19:30:22.618Z"
   },
   {
    "duration": 11,
    "start_time": "2024-08-25T19:30:22.623Z"
   },
   {
    "duration": 18,
    "start_time": "2024-08-25T19:30:22.635Z"
   },
   {
    "duration": 195,
    "start_time": "2024-08-25T19:30:22.655Z"
   },
   {
    "duration": 44,
    "start_time": "2024-08-25T19:30:22.852Z"
   },
   {
    "duration": 4,
    "start_time": "2024-08-25T19:30:22.898Z"
   },
   {
    "duration": 1333,
    "start_time": "2024-08-25T19:49:00.189Z"
   },
   {
    "duration": 4,
    "start_time": "2024-08-25T19:49:07.501Z"
   },
   {
    "duration": 3094,
    "start_time": "2024-08-25T19:49:07.867Z"
   },
   {
    "duration": 1185,
    "start_time": "2024-08-25T19:49:10.964Z"
   },
   {
    "duration": 38,
    "start_time": "2024-08-25T19:49:17.715Z"
   },
   {
    "duration": 123,
    "start_time": "2024-08-25T19:49:17.948Z"
   },
   {
    "duration": 39,
    "start_time": "2024-08-25T19:49:25.741Z"
   },
   {
    "duration": 46,
    "start_time": "2024-08-25T19:49:29.572Z"
   },
   {
    "duration": 395,
    "start_time": "2024-08-25T19:49:29.745Z"
   },
   {
    "duration": 66,
    "start_time": "2024-08-25T19:49:30.142Z"
   },
   {
    "duration": 3,
    "start_time": "2024-08-25T19:49:30.210Z"
   },
   {
    "duration": 1307,
    "start_time": "2024-08-25T19:55:44.108Z"
   },
   {
    "duration": 3,
    "start_time": "2024-08-25T19:55:46.291Z"
   },
   {
    "duration": 3004,
    "start_time": "2024-08-25T19:55:46.579Z"
   },
   {
    "duration": 1100,
    "start_time": "2024-08-25T19:55:49.585Z"
   },
   {
    "duration": 134,
    "start_time": "2024-08-25T19:55:50.687Z"
   },
   {
    "duration": 5,
    "start_time": "2024-08-25T19:55:50.824Z"
   },
   {
    "duration": 252,
    "start_time": "2024-08-25T19:55:50.831Z"
   },
   {
    "duration": 107,
    "start_time": "2024-08-25T19:55:51.085Z"
   },
   {
    "duration": 4,
    "start_time": "2024-08-25T19:55:51.194Z"
   },
   {
    "duration": 33,
    "start_time": "2024-08-25T19:55:51.199Z"
   },
   {
    "duration": 278,
    "start_time": "2024-08-25T19:55:51.234Z"
   },
   {
    "duration": 614,
    "start_time": "2024-08-25T19:55:51.514Z"
   },
   {
    "duration": 120,
    "start_time": "2024-08-25T19:55:52.130Z"
   },
   {
    "duration": 20,
    "start_time": "2024-08-25T19:55:52.251Z"
   },
   {
    "duration": 22,
    "start_time": "2024-08-25T19:55:52.272Z"
   },
   {
    "duration": 15,
    "start_time": "2024-08-25T19:55:52.296Z"
   },
   {
    "duration": 2389,
    "start_time": "2024-08-25T19:55:52.313Z"
   },
   {
    "duration": 6,
    "start_time": "2024-08-25T19:55:54.704Z"
   },
   {
    "duration": 1915,
    "start_time": "2024-08-25T19:55:54.713Z"
   },
   {
    "duration": 105,
    "start_time": "2024-08-25T19:55:56.630Z"
   },
   {
    "duration": 44,
    "start_time": "2024-08-25T19:55:56.736Z"
   },
   {
    "duration": 50,
    "start_time": "2024-08-25T19:55:57.739Z"
   },
   {
    "duration": 13,
    "start_time": "2024-08-25T19:55:57.927Z"
   },
   {
    "duration": 41,
    "start_time": "2024-08-25T19:55:59.806Z"
   },
   {
    "duration": 31,
    "start_time": "2024-08-25T19:56:01.582Z"
   },
   {
    "duration": 51,
    "start_time": "2024-08-25T19:56:02.556Z"
   },
   {
    "duration": 166,
    "start_time": "2024-08-25T19:56:05.060Z"
   },
   {
    "duration": 9,
    "start_time": "2024-08-25T19:56:13.460Z"
   },
   {
    "duration": 111,
    "start_time": "2024-08-25T19:56:14.258Z"
   },
   {
    "duration": 68,
    "start_time": "2024-08-25T19:56:14.672Z"
   },
   {
    "duration": 19,
    "start_time": "2024-08-25T19:56:20.187Z"
   },
   {
    "duration": 159,
    "start_time": "2024-08-25T19:56:24.675Z"
   },
   {
    "duration": 37,
    "start_time": "2024-08-25T19:56:25.662Z"
   },
   {
    "duration": 3,
    "start_time": "2024-08-25T19:56:26.146Z"
   },
   {
    "duration": 1362,
    "start_time": "2024-08-25T20:02:19.255Z"
   },
   {
    "duration": 4,
    "start_time": "2024-08-25T20:02:22.618Z"
   },
   {
    "duration": 2968,
    "start_time": "2024-08-25T20:02:23.307Z"
   },
   {
    "duration": 1057,
    "start_time": "2024-08-25T20:02:28.371Z"
   },
   {
    "duration": 104,
    "start_time": "2024-08-25T20:02:29.430Z"
   },
   {
    "duration": 4,
    "start_time": "2024-08-25T20:02:29.535Z"
   },
   {
    "duration": 267,
    "start_time": "2024-08-25T20:02:29.541Z"
   },
   {
    "duration": 97,
    "start_time": "2024-08-25T20:02:31.214Z"
   },
   {
    "duration": 6,
    "start_time": "2024-08-25T20:02:31.313Z"
   },
   {
    "duration": 16,
    "start_time": "2024-08-25T20:02:31.352Z"
   },
   {
    "duration": 330,
    "start_time": "2024-08-25T20:02:31.603Z"
   },
   {
    "duration": 624,
    "start_time": "2024-08-25T20:02:31.935Z"
   },
   {
    "duration": 121,
    "start_time": "2024-08-25T20:02:32.560Z"
   },
   {
    "duration": 17,
    "start_time": "2024-08-25T20:02:32.683Z"
   },
   {
    "duration": 3,
    "start_time": "2024-08-25T20:02:32.733Z"
   },
   {
    "duration": 4,
    "start_time": "2024-08-25T20:02:32.905Z"
   },
   {
    "duration": 2382,
    "start_time": "2024-08-25T20:02:32.979Z"
   },
   {
    "duration": 4,
    "start_time": "2024-08-25T20:02:35.364Z"
   },
   {
    "duration": 2045,
    "start_time": "2024-08-25T20:02:35.370Z"
   },
   {
    "duration": 113,
    "start_time": "2024-08-25T20:02:37.417Z"
   },
   {
    "duration": 52,
    "start_time": "2024-08-25T20:02:37.532Z"
   },
   {
    "duration": 36,
    "start_time": "2024-08-25T20:02:37.586Z"
   },
   {
    "duration": 11,
    "start_time": "2024-08-25T20:02:37.624Z"
   },
   {
    "duration": 52,
    "start_time": "2024-08-25T20:02:37.637Z"
   },
   {
    "duration": 25,
    "start_time": "2024-08-25T20:02:38.975Z"
   },
   {
    "duration": 56,
    "start_time": "2024-08-25T20:02:40.738Z"
   },
   {
    "duration": 175,
    "start_time": "2024-08-25T20:02:41.411Z"
   },
   {
    "duration": 11,
    "start_time": "2024-08-25T20:02:47.981Z"
   },
   {
    "duration": 111,
    "start_time": "2024-08-25T20:02:48.864Z"
   },
   {
    "duration": 68,
    "start_time": "2024-08-25T20:02:49.205Z"
   },
   {
    "duration": 4,
    "start_time": "2024-08-25T20:02:49.347Z"
   },
   {
    "duration": 28,
    "start_time": "2024-08-25T20:02:53.333Z"
   },
   {
    "duration": 135,
    "start_time": "2024-08-25T20:02:56.329Z"
   },
   {
    "duration": 39,
    "start_time": "2024-08-25T20:02:58.083Z"
   },
   {
    "duration": 4,
    "start_time": "2024-08-25T20:02:58.954Z"
   },
   {
    "duration": 0,
    "start_time": "2024-08-25T20:04:46.173Z"
   },
   {
    "duration": 0,
    "start_time": "2024-08-25T20:04:46.175Z"
   },
   {
    "duration": 4,
    "start_time": "2024-08-25T20:04:49.449Z"
   },
   {
    "duration": 0,
    "start_time": "2024-08-25T20:15:40.282Z"
   },
   {
    "duration": 0,
    "start_time": "2024-08-25T20:15:40.283Z"
   },
   {
    "duration": 4,
    "start_time": "2024-08-25T20:15:42.236Z"
   },
   {
    "duration": 252604,
    "start_time": "2024-08-25T20:15:43.169Z"
   },
   {
    "duration": 4,
    "start_time": "2024-08-25T20:20:01.119Z"
   },
   {
    "duration": 4,
    "start_time": "2024-08-25T20:20:02.996Z"
   },
   {
    "duration": 3,
    "start_time": "2024-08-25T20:20:03.977Z"
   },
   {
    "duration": 4,
    "start_time": "2024-08-25T20:20:04.561Z"
   },
   {
    "duration": 4,
    "start_time": "2024-08-25T20:20:05.187Z"
   },
   {
    "duration": 68,
    "start_time": "2024-08-25T20:20:11.068Z"
   },
   {
    "duration": 3,
    "start_time": "2024-08-25T20:20:11.306Z"
   },
   {
    "duration": 3,
    "start_time": "2024-08-25T20:20:11.534Z"
   },
   {
    "duration": 3,
    "start_time": "2024-08-25T20:20:11.761Z"
   },
   {
    "duration": 47839,
    "start_time": "2024-08-25T20:20:12.388Z"
   },
   {
    "duration": 4,
    "start_time": "2024-08-25T20:21:00.229Z"
   },
   {
    "duration": 31,
    "start_time": "2024-08-25T20:21:00.234Z"
   },
   {
    "duration": 18,
    "start_time": "2024-08-25T20:21:00.268Z"
   },
   {
    "duration": 19,
    "start_time": "2024-08-25T20:21:00.287Z"
   },
   {
    "duration": 16,
    "start_time": "2024-08-25T20:21:00.308Z"
   },
   {
    "duration": 4,
    "start_time": "2024-08-25T20:22:10.828Z"
   },
   {
    "duration": 10,
    "start_time": "2024-08-25T20:22:11.030Z"
   },
   {
    "duration": 5,
    "start_time": "2024-08-25T20:23:05.855Z"
   },
   {
    "duration": 9,
    "start_time": "2024-08-25T20:23:06.074Z"
   },
   {
    "duration": 65,
    "start_time": "2024-08-25T20:23:15.775Z"
   },
   {
    "duration": 14,
    "start_time": "2024-08-25T20:23:16.089Z"
   },
   {
    "duration": 4,
    "start_time": "2024-08-25T20:23:16.387Z"
   },
   {
    "duration": 574036,
    "start_time": "2024-08-25T20:23:16.686Z"
   },
   {
    "duration": 4,
    "start_time": "2024-08-25T20:32:50.723Z"
   },
   {
    "duration": 10,
    "start_time": "2024-08-25T20:32:50.729Z"
   },
   {
    "duration": 3,
    "start_time": "2024-08-25T20:32:50.741Z"
   },
   {
    "duration": 5,
    "start_time": "2024-08-25T20:32:50.746Z"
   },
   {
    "duration": 5,
    "start_time": "2024-08-25T20:32:50.753Z"
   },
   {
    "duration": 105,
    "start_time": "2024-08-25T20:33:36.964Z"
   },
   {
    "duration": 5,
    "start_time": "2024-08-25T20:34:14.059Z"
   },
   {
    "duration": 5,
    "start_time": "2024-08-25T20:34:18.490Z"
   },
   {
    "duration": 6,
    "start_time": "2024-08-25T20:35:08.877Z"
   },
   {
    "duration": 3557,
    "start_time": "2024-08-26T07:26:18.246Z"
   },
   {
    "duration": 3,
    "start_time": "2024-08-26T07:26:21.804Z"
   },
   {
    "duration": 6981,
    "start_time": "2024-08-26T07:26:21.809Z"
   },
   {
    "duration": 1147,
    "start_time": "2024-08-26T07:26:28.793Z"
   },
   {
    "duration": 126,
    "start_time": "2024-08-26T07:26:29.941Z"
   },
   {
    "duration": 4,
    "start_time": "2024-08-26T07:26:30.069Z"
   },
   {
    "duration": 279,
    "start_time": "2024-08-26T07:26:30.074Z"
   },
   {
    "duration": 103,
    "start_time": "2024-08-26T07:26:30.355Z"
   },
   {
    "duration": 5,
    "start_time": "2024-08-26T07:26:30.459Z"
   },
   {
    "duration": 24,
    "start_time": "2024-08-26T07:26:30.466Z"
   },
   {
    "duration": 407,
    "start_time": "2024-08-26T07:26:30.491Z"
   },
   {
    "duration": 617,
    "start_time": "2024-08-26T07:26:30.899Z"
   },
   {
    "duration": 126,
    "start_time": "2024-08-26T07:26:31.518Z"
   },
   {
    "duration": 21,
    "start_time": "2024-08-26T07:26:31.646Z"
   },
   {
    "duration": 4,
    "start_time": "2024-08-26T07:26:31.669Z"
   },
   {
    "duration": 7,
    "start_time": "2024-08-26T07:26:31.675Z"
   },
   {
    "duration": 3180,
    "start_time": "2024-08-26T07:26:31.684Z"
   },
   {
    "duration": 4,
    "start_time": "2024-08-26T07:26:34.866Z"
   },
   {
    "duration": 2048,
    "start_time": "2024-08-26T07:26:34.872Z"
   },
   {
    "duration": 101,
    "start_time": "2024-08-26T07:26:36.922Z"
   },
   {
    "duration": 43,
    "start_time": "2024-08-26T07:26:37.024Z"
   },
   {
    "duration": 32,
    "start_time": "2024-08-26T07:26:37.069Z"
   },
   {
    "duration": 11,
    "start_time": "2024-08-26T07:26:37.103Z"
   },
   {
    "duration": 42,
    "start_time": "2024-08-26T07:26:37.116Z"
   },
   {
    "duration": 17,
    "start_time": "2024-08-26T07:26:37.160Z"
   },
   {
    "duration": 70,
    "start_time": "2024-08-26T07:26:37.179Z"
   },
   {
    "duration": 180,
    "start_time": "2024-08-26T07:26:37.251Z"
   },
   {
    "duration": 69,
    "start_time": "2024-08-26T07:26:37.435Z"
   },
   {
    "duration": 14,
    "start_time": "2024-08-26T07:26:37.506Z"
   },
   {
    "duration": 27,
    "start_time": "2024-08-26T07:26:37.522Z"
   },
   {
    "duration": 645718,
    "start_time": "2024-08-26T07:26:37.551Z"
   },
   {
    "duration": 5,
    "start_time": "2024-08-26T07:37:23.271Z"
   },
   {
    "duration": 27,
    "start_time": "2024-08-26T07:37:23.277Z"
   },
   {
    "duration": 40,
    "start_time": "2024-08-26T07:37:23.306Z"
   },
   {
    "duration": 17,
    "start_time": "2024-08-26T07:37:23.347Z"
   },
   {
    "duration": 8,
    "start_time": "2024-08-26T07:37:23.366Z"
   },
   {
    "duration": 27,
    "start_time": "2024-08-26T07:37:23.375Z"
   },
   {
    "duration": 146,
    "start_time": "2024-08-26T07:37:23.404Z"
   },
   {
    "duration": 42,
    "start_time": "2024-08-26T07:37:23.552Z"
   },
   {
    "duration": 5,
    "start_time": "2024-08-26T07:37:23.595Z"
   },
   {
    "duration": 44963,
    "start_time": "2024-08-26T07:37:23.601Z"
   },
   {
    "duration": 4,
    "start_time": "2024-08-26T07:38:08.565Z"
   },
   {
    "duration": 5,
    "start_time": "2024-08-26T07:38:08.653Z"
   },
   {
    "duration": 15,
    "start_time": "2024-08-26T07:38:08.659Z"
   },
   {
    "duration": 13,
    "start_time": "2024-08-26T07:38:08.675Z"
   },
   {
    "duration": 5,
    "start_time": "2024-08-26T07:38:08.689Z"
   },
   {
    "duration": 71,
    "start_time": "2024-08-26T07:38:08.696Z"
   },
   {
    "duration": 3,
    "start_time": "2024-08-26T07:38:08.769Z"
   },
   {
    "duration": 6,
    "start_time": "2024-08-26T07:38:08.773Z"
   },
   {
    "duration": 34,
    "start_time": "2024-08-26T07:38:08.780Z"
   },
   {
    "duration": 49200,
    "start_time": "2024-08-26T07:38:08.815Z"
   },
   {
    "duration": 3,
    "start_time": "2024-08-26T07:38:58.017Z"
   },
   {
    "duration": 9,
    "start_time": "2024-08-26T07:38:58.022Z"
   },
   {
    "duration": 6,
    "start_time": "2024-08-26T07:38:58.032Z"
   },
   {
    "duration": 16,
    "start_time": "2024-08-26T07:38:58.040Z"
   },
   {
    "duration": 9,
    "start_time": "2024-08-26T07:38:58.058Z"
   },
   {
    "duration": 6,
    "start_time": "2024-08-26T07:38:58.068Z"
   },
   {
    "duration": 11,
    "start_time": "2024-08-26T07:38:58.075Z"
   },
   {
    "duration": 128,
    "start_time": "2024-08-26T07:38:58.088Z"
   },
   {
    "duration": 5,
    "start_time": "2024-08-26T07:38:58.218Z"
   },
   {
    "duration": 1832,
    "start_time": "2024-08-26T08:38:35.249Z"
   },
   {
    "duration": 3,
    "start_time": "2024-08-26T08:38:37.083Z"
   },
   {
    "duration": 8523,
    "start_time": "2024-08-26T08:38:37.088Z"
   },
   {
    "duration": 3149,
    "start_time": "2024-08-26T08:38:45.614Z"
   },
   {
    "duration": 104,
    "start_time": "2024-08-26T08:38:48.765Z"
   },
   {
    "duration": 4,
    "start_time": "2024-08-26T08:38:48.871Z"
   },
   {
    "duration": 267,
    "start_time": "2024-08-26T08:38:48.877Z"
   },
   {
    "duration": 107,
    "start_time": "2024-08-26T08:38:49.146Z"
   },
   {
    "duration": 5,
    "start_time": "2024-08-26T08:38:49.261Z"
   },
   {
    "duration": 14,
    "start_time": "2024-08-26T08:38:49.269Z"
   },
   {
    "duration": 307,
    "start_time": "2024-08-26T08:38:49.284Z"
   },
   {
    "duration": 634,
    "start_time": "2024-08-26T08:38:49.593Z"
   },
   {
    "duration": 121,
    "start_time": "2024-08-26T08:38:50.228Z"
   },
   {
    "duration": 24,
    "start_time": "2024-08-26T08:38:50.351Z"
   },
   {
    "duration": 27,
    "start_time": "2024-08-26T08:38:50.376Z"
   },
   {
    "duration": 15,
    "start_time": "2024-08-26T08:38:50.404Z"
   },
   {
    "duration": 2345,
    "start_time": "2024-08-26T08:38:50.421Z"
   },
   {
    "duration": 4,
    "start_time": "2024-08-26T08:38:52.768Z"
   },
   {
    "duration": 1991,
    "start_time": "2024-08-26T08:38:52.774Z"
   },
   {
    "duration": 104,
    "start_time": "2024-08-26T08:38:54.767Z"
   },
   {
    "duration": 40,
    "start_time": "2024-08-26T08:38:54.873Z"
   },
   {
    "duration": 53,
    "start_time": "2024-08-26T08:38:54.915Z"
   },
   {
    "duration": 13,
    "start_time": "2024-08-26T08:38:54.969Z"
   },
   {
    "duration": 32,
    "start_time": "2024-08-26T08:38:54.983Z"
   },
   {
    "duration": 21,
    "start_time": "2024-08-26T08:38:55.017Z"
   },
   {
    "duration": 86,
    "start_time": "2024-08-26T08:38:55.039Z"
   },
   {
    "duration": 169,
    "start_time": "2024-08-26T08:38:55.126Z"
   },
   {
    "duration": 70,
    "start_time": "2024-08-26T08:38:55.299Z"
   },
   {
    "duration": 19,
    "start_time": "2024-08-26T08:38:55.371Z"
   },
   {
    "duration": 6,
    "start_time": "2024-08-26T08:38:55.392Z"
   },
   {
    "duration": 595681,
    "start_time": "2024-08-26T08:38:55.399Z"
   },
   {
    "duration": 22,
    "start_time": "2024-08-26T08:48:51.087Z"
   },
   {
    "duration": 38,
    "start_time": "2024-08-26T08:48:51.110Z"
   },
   {
    "duration": 18,
    "start_time": "2024-08-26T08:48:51.149Z"
   },
   {
    "duration": 40,
    "start_time": "2024-08-26T08:48:51.169Z"
   },
   {
    "duration": 34,
    "start_time": "2024-08-26T08:48:51.210Z"
   },
   {
    "duration": 142,
    "start_time": "2024-08-26T08:48:51.246Z"
   },
   {
    "duration": 36,
    "start_time": "2024-08-26T08:48:51.390Z"
   },
   {
    "duration": 3,
    "start_time": "2024-08-26T08:48:51.428Z"
   },
   {
    "duration": 58540,
    "start_time": "2024-08-26T08:48:51.433Z"
   },
   {
    "duration": 84,
    "start_time": "2024-08-26T08:49:49.981Z"
   },
   {
    "duration": 20,
    "start_time": "2024-08-26T08:49:50.067Z"
   },
   {
    "duration": 29,
    "start_time": "2024-08-26T08:49:50.089Z"
   },
   {
    "duration": 21,
    "start_time": "2024-08-26T08:49:50.120Z"
   },
   {
    "duration": 88,
    "start_time": "2024-08-26T08:49:50.143Z"
   },
   {
    "duration": 3,
    "start_time": "2024-08-26T08:49:50.233Z"
   },
   {
    "duration": 24,
    "start_time": "2024-08-26T08:49:50.237Z"
   },
   {
    "duration": 64,
    "start_time": "2024-08-26T08:49:50.263Z"
   },
   {
    "duration": 1381,
    "start_time": "2024-08-26T08:50:28.987Z"
   },
   {
    "duration": 3,
    "start_time": "2024-08-26T08:50:30.370Z"
   },
   {
    "duration": 3043,
    "start_time": "2024-08-26T08:50:30.374Z"
   },
   {
    "duration": 1121,
    "start_time": "2024-08-26T08:50:33.419Z"
   },
   {
    "duration": 108,
    "start_time": "2024-08-26T08:50:34.542Z"
   },
   {
    "duration": 12,
    "start_time": "2024-08-26T08:50:34.652Z"
   },
   {
    "duration": 240,
    "start_time": "2024-08-26T08:50:34.665Z"
   },
   {
    "duration": 98,
    "start_time": "2024-08-26T08:50:34.906Z"
   },
   {
    "duration": 6,
    "start_time": "2024-08-26T08:50:35.006Z"
   },
   {
    "duration": 16,
    "start_time": "2024-08-26T08:50:35.013Z"
   },
   {
    "duration": 335,
    "start_time": "2024-08-26T08:50:35.031Z"
   },
   {
    "duration": 599,
    "start_time": "2024-08-26T08:50:35.367Z"
   },
   {
    "duration": 120,
    "start_time": "2024-08-26T08:50:35.968Z"
   },
   {
    "duration": 17,
    "start_time": "2024-08-26T08:50:36.091Z"
   },
   {
    "duration": 18,
    "start_time": "2024-08-26T08:50:36.109Z"
   },
   {
    "duration": 7,
    "start_time": "2024-08-26T08:50:36.128Z"
   },
   {
    "duration": 2327,
    "start_time": "2024-08-26T08:50:36.136Z"
   },
   {
    "duration": 4,
    "start_time": "2024-08-26T08:50:38.464Z"
   },
   {
    "duration": 1980,
    "start_time": "2024-08-26T08:50:38.470Z"
   },
   {
    "duration": 100,
    "start_time": "2024-08-26T08:50:40.452Z"
   },
   {
    "duration": 41,
    "start_time": "2024-08-26T08:50:40.562Z"
   },
   {
    "duration": 56,
    "start_time": "2024-08-26T08:50:40.605Z"
   },
   {
    "duration": 11,
    "start_time": "2024-08-26T08:50:40.663Z"
   },
   {
    "duration": 35,
    "start_time": "2024-08-26T08:50:40.675Z"
   },
   {
    "duration": 24,
    "start_time": "2024-08-26T08:50:40.712Z"
   },
   {
    "duration": 46,
    "start_time": "2024-08-26T08:50:40.761Z"
   },
   {
    "duration": 178,
    "start_time": "2024-08-26T08:50:40.809Z"
   },
   {
    "duration": 72,
    "start_time": "2024-08-26T08:50:40.989Z"
   },
   {
    "duration": 20,
    "start_time": "2024-08-26T08:50:41.063Z"
   },
   {
    "duration": 25,
    "start_time": "2024-08-26T08:50:41.085Z"
   },
   {
    "duration": 577005,
    "start_time": "2024-08-26T08:50:41.111Z"
   },
   {
    "duration": 3,
    "start_time": "2024-08-26T09:00:18.117Z"
   },
   {
    "duration": 6,
    "start_time": "2024-08-26T09:00:18.122Z"
   },
   {
    "duration": 4,
    "start_time": "2024-08-26T09:00:18.130Z"
   },
   {
    "duration": 7,
    "start_time": "2024-08-26T09:00:18.135Z"
   },
   {
    "duration": 5,
    "start_time": "2024-08-26T09:00:18.143Z"
   },
   {
    "duration": 21,
    "start_time": "2024-08-26T09:00:18.149Z"
   },
   {
    "duration": 144,
    "start_time": "2024-08-26T09:00:18.172Z"
   },
   {
    "duration": 42,
    "start_time": "2024-08-26T09:00:18.318Z"
   },
   {
    "duration": 3,
    "start_time": "2024-08-26T09:00:18.362Z"
   },
   {
    "duration": 54904,
    "start_time": "2024-08-26T09:00:18.369Z"
   },
   {
    "duration": 5,
    "start_time": "2024-08-26T09:01:13.275Z"
   },
   {
    "duration": 8,
    "start_time": "2024-08-26T09:01:13.282Z"
   },
   {
    "duration": 68,
    "start_time": "2024-08-26T09:01:13.292Z"
   },
   {
    "duration": 20,
    "start_time": "2024-08-26T09:01:13.363Z"
   },
   {
    "duration": 51,
    "start_time": "2024-08-26T09:01:13.386Z"
   },
   {
    "duration": 94,
    "start_time": "2024-08-26T09:01:13.439Z"
   },
   {
    "duration": 2,
    "start_time": "2024-08-26T09:01:13.535Z"
   },
   {
    "duration": 22,
    "start_time": "2024-08-26T09:01:13.539Z"
   },
   {
    "duration": 8,
    "start_time": "2024-08-26T09:01:13.562Z"
   },
   {
    "duration": 46740,
    "start_time": "2024-08-26T09:01:13.571Z"
   },
   {
    "duration": 3,
    "start_time": "2024-08-26T09:02:00.313Z"
   },
   {
    "duration": 69,
    "start_time": "2024-08-26T09:02:00.318Z"
   },
   {
    "duration": 29,
    "start_time": "2024-08-26T09:02:00.389Z"
   },
   {
    "duration": 19,
    "start_time": "2024-08-26T09:02:00.420Z"
   },
   {
    "duration": 14,
    "start_time": "2024-08-26T09:02:00.441Z"
   },
   {
    "duration": 20,
    "start_time": "2024-08-26T09:02:00.457Z"
   },
   {
    "duration": 104,
    "start_time": "2024-08-26T09:02:00.478Z"
   },
   {
    "duration": 6,
    "start_time": "2024-08-26T09:02:00.583Z"
   },
   {
    "duration": 65,
    "start_time": "2024-08-26T09:09:36.581Z"
   },
   {
    "duration": 78,
    "start_time": "2024-08-26T09:09:40.782Z"
   },
   {
    "duration": 116,
    "start_time": "2024-08-26T09:09:43.950Z"
   },
   {
    "duration": 6,
    "start_time": "2024-08-26T09:09:52.498Z"
   },
   {
    "duration": 9,
    "start_time": "2024-08-26T09:09:53.690Z"
   },
   {
    "duration": 4,
    "start_time": "2024-08-26T09:10:06.166Z"
   },
   {
    "duration": 8,
    "start_time": "2024-08-26T09:10:07.775Z"
   },
   {
    "duration": 3,
    "start_time": "2024-08-26T09:10:30.512Z"
   },
   {
    "duration": 4,
    "start_time": "2024-08-26T09:10:31.016Z"
   },
   {
    "duration": 10,
    "start_time": "2024-08-26T09:11:16.810Z"
   },
   {
    "duration": 24,
    "start_time": "2024-08-26T09:11:16.822Z"
   },
   {
    "duration": 45358,
    "start_time": "2024-08-26T09:11:16.847Z"
   },
   {
    "duration": 3,
    "start_time": "2024-08-26T09:12:02.207Z"
   },
   {
    "duration": 25,
    "start_time": "2024-08-26T09:12:02.211Z"
   },
   {
    "duration": 14,
    "start_time": "2024-08-26T09:12:02.238Z"
   },
   {
    "duration": 26,
    "start_time": "2024-08-26T09:12:02.253Z"
   },
   {
    "duration": 17,
    "start_time": "2024-08-26T09:12:02.281Z"
   },
   {
    "duration": 31,
    "start_time": "2024-08-26T09:12:02.299Z"
   },
   {
    "duration": 9,
    "start_time": "2024-08-26T09:13:26.316Z"
   },
   {
    "duration": 11,
    "start_time": "2024-08-26T09:13:27.357Z"
   },
   {
    "duration": 62,
    "start_time": "2024-08-26T09:13:45.273Z"
   },
   {
    "duration": 4,
    "start_time": "2024-08-26T09:13:49.019Z"
   },
   {
    "duration": 7,
    "start_time": "2024-08-26T09:14:21.159Z"
   },
   {
    "duration": 10,
    "start_time": "2024-08-26T09:14:22.484Z"
   },
   {
    "duration": 1423,
    "start_time": "2024-08-26T09:15:41.929Z"
   },
   {
    "duration": 3,
    "start_time": "2024-08-26T09:15:43.354Z"
   },
   {
    "duration": 3082,
    "start_time": "2024-08-26T09:15:43.360Z"
   },
   {
    "duration": 1119,
    "start_time": "2024-08-26T09:15:46.444Z"
   },
   {
    "duration": 103,
    "start_time": "2024-08-26T09:15:47.564Z"
   },
   {
    "duration": 4,
    "start_time": "2024-08-26T09:15:47.669Z"
   },
   {
    "duration": 251,
    "start_time": "2024-08-26T09:15:47.675Z"
   },
   {
    "duration": 148,
    "start_time": "2024-08-26T09:15:47.928Z"
   },
   {
    "duration": 5,
    "start_time": "2024-08-26T09:15:48.078Z"
   },
   {
    "duration": 22,
    "start_time": "2024-08-26T09:15:48.086Z"
   },
   {
    "duration": 312,
    "start_time": "2024-08-26T09:15:48.109Z"
   },
   {
    "duration": 650,
    "start_time": "2024-08-26T09:15:48.423Z"
   },
   {
    "duration": 120,
    "start_time": "2024-08-26T09:15:49.075Z"
   },
   {
    "duration": 16,
    "start_time": "2024-08-26T09:15:49.196Z"
   },
   {
    "duration": 4,
    "start_time": "2024-08-26T09:15:49.214Z"
   },
   {
    "duration": 4,
    "start_time": "2024-08-26T09:15:49.219Z"
   },
   {
    "duration": 2408,
    "start_time": "2024-08-26T09:15:49.225Z"
   },
   {
    "duration": 4,
    "start_time": "2024-08-26T09:15:51.634Z"
   },
   {
    "duration": 1966,
    "start_time": "2024-08-26T09:15:51.639Z"
   },
   {
    "duration": 97,
    "start_time": "2024-08-26T09:15:53.607Z"
   },
   {
    "duration": 40,
    "start_time": "2024-08-26T09:15:53.705Z"
   },
   {
    "duration": 48,
    "start_time": "2024-08-26T09:15:53.747Z"
   },
   {
    "duration": 12,
    "start_time": "2024-08-26T09:15:53.797Z"
   },
   {
    "duration": 53,
    "start_time": "2024-08-26T09:15:53.810Z"
   },
   {
    "duration": 31,
    "start_time": "2024-08-26T09:15:53.865Z"
   },
   {
    "duration": 70,
    "start_time": "2024-08-26T09:15:53.897Z"
   },
   {
    "duration": 178,
    "start_time": "2024-08-26T09:15:53.969Z"
   },
   {
    "duration": 72,
    "start_time": "2024-08-26T09:15:54.150Z"
   },
   {
    "duration": 37,
    "start_time": "2024-08-26T09:15:54.224Z"
   },
   {
    "duration": 9,
    "start_time": "2024-08-26T09:15:54.263Z"
   },
   {
    "duration": 579976,
    "start_time": "2024-08-26T09:15:54.273Z"
   },
   {
    "duration": 3,
    "start_time": "2024-08-26T09:25:34.251Z"
   },
   {
    "duration": 26,
    "start_time": "2024-08-26T09:25:34.255Z"
   },
   {
    "duration": 5,
    "start_time": "2024-08-26T09:25:34.282Z"
   },
   {
    "duration": 9,
    "start_time": "2024-08-26T09:25:34.288Z"
   },
   {
    "duration": 6,
    "start_time": "2024-08-26T09:25:34.298Z"
   },
   {
    "duration": 29,
    "start_time": "2024-08-26T09:25:34.305Z"
   },
   {
    "duration": 142,
    "start_time": "2024-08-26T09:25:34.335Z"
   },
   {
    "duration": 35,
    "start_time": "2024-08-26T09:25:34.478Z"
   },
   {
    "duration": 3,
    "start_time": "2024-08-26T09:25:34.515Z"
   },
   {
    "duration": 58651,
    "start_time": "2024-08-26T09:25:34.520Z"
   },
   {
    "duration": 3,
    "start_time": "2024-08-26T09:26:33.173Z"
   },
   {
    "duration": 102,
    "start_time": "2024-08-26T09:26:33.177Z"
   },
   {
    "duration": 13,
    "start_time": "2024-08-26T09:26:33.280Z"
   },
   {
    "duration": 18,
    "start_time": "2024-08-26T09:26:33.294Z"
   },
   {
    "duration": 10,
    "start_time": "2024-08-26T09:26:33.313Z"
   },
   {
    "duration": 87,
    "start_time": "2024-08-26T09:26:33.324Z"
   },
   {
    "duration": 3,
    "start_time": "2024-08-26T09:26:33.413Z"
   },
   {
    "duration": 20,
    "start_time": "2024-08-26T09:26:33.417Z"
   },
   {
    "duration": 44,
    "start_time": "2024-08-26T09:26:33.438Z"
   },
   {
    "duration": 45805,
    "start_time": "2024-08-26T09:26:33.483Z"
   },
   {
    "duration": 3,
    "start_time": "2024-08-26T09:27:19.289Z"
   },
   {
    "duration": 20,
    "start_time": "2024-08-26T09:27:19.294Z"
   },
   {
    "duration": 7,
    "start_time": "2024-08-26T09:27:19.315Z"
   },
   {
    "duration": 5,
    "start_time": "2024-08-26T09:27:19.323Z"
   },
   {
    "duration": 23,
    "start_time": "2024-08-26T09:27:19.330Z"
   },
   {
    "duration": 30,
    "start_time": "2024-08-26T09:27:19.360Z"
   },
   {
    "duration": 117,
    "start_time": "2024-08-26T09:27:19.392Z"
   },
   {
    "duration": 4,
    "start_time": "2024-08-26T09:27:19.511Z"
   },
   {
    "duration": 118,
    "start_time": "2024-08-26T09:52:55.641Z"
   },
   {
    "duration": 108,
    "start_time": "2024-08-26T09:54:09.678Z"
   },
   {
    "duration": 10,
    "start_time": "2024-08-26T09:54:09.789Z"
   },
   {
    "duration": 16,
    "start_time": "2024-08-26T09:54:15.918Z"
   },
   {
    "duration": 4,
    "start_time": "2024-08-26T09:54:16.302Z"
   },
   {
    "duration": 64,
    "start_time": "2024-08-26T09:54:49.374Z"
   },
   {
    "duration": 367,
    "start_time": "2024-08-26T09:54:50.093Z"
   },
   {
    "duration": 5,
    "start_time": "2024-08-26T09:54:51.532Z"
   }
  ],
  "kernelspec": {
   "display_name": "Python 3 (ipykernel)",
   "language": "python",
   "name": "python3"
  },
  "language_info": {
   "codemirror_mode": {
    "name": "ipython",
    "version": 3
   },
   "file_extension": ".py",
   "mimetype": "text/x-python",
   "name": "python",
   "nbconvert_exporter": "python",
   "pygments_lexer": "ipython3",
   "version": "3.12.0"
  },
  "toc": {
   "base_numbering": 1,
   "nav_menu": {},
   "number_sections": true,
   "sideBar": true,
   "skip_h1_title": true,
   "title_cell": "Table of Contents",
   "title_sidebar": "Contents",
   "toc_cell": false,
   "toc_position": {},
   "toc_section_display": true,
   "toc_window_display": false
  }
 },
 "nbformat": 4,
 "nbformat_minor": 2
}
