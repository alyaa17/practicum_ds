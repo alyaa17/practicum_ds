{
 "cells": [
  {
   "cell_type": "markdown",
   "id": "64e3fbf0",
   "metadata": {
    "deletable": false,
    "editable": false,
    "id": "c81daeeb"
   },
   "source": [
    "# Исследование надежности заемщиков\n"
   ]
  },
  {
   "cell_type": "markdown",
   "id": "694ec9bb",
   "metadata": {
    "deletable": false,
    "editable": false,
    "id": "827c20bf"
   },
   "source": [
    "Во второй части проекта вы выполните шаги 3 и 4. Их вручную проверит ревьюер.\n",
    "Чтобы вам не пришлось писать код заново для шагов 1 и 2, мы добавили авторские решения в ячейки с кодом. \n",
    "\n"
   ]
  },
  {
   "cell_type": "markdown",
   "id": "d8e6102e",
   "metadata": {
    "deletable": false,
    "editable": false,
    "id": "744d7639"
   },
   "source": [
    "## Откройте таблицу и изучите общую информацию о данных"
   ]
  },
  {
   "cell_type": "markdown",
   "id": "f874e0ac",
   "metadata": {
    "deletable": false,
    "editable": false,
    "id": "e7a14c31"
   },
   "source": [
    "**Задание 1. Импортируйте библиотеку pandas. Считайте данные из csv-файла в датафрейм и сохраните в переменную `data`. Путь к файлу:**\n",
    "\n",
    "`/datasets/data.csv`"
   ]
  },
  {
   "cell_type": "code",
   "execution_count": 1,
   "id": "44a71b3d",
   "metadata": {
    "deletable": false,
    "id": "7bcf75c9"
   },
   "outputs": [],
   "source": [
    "import pandas as pd\n",
    "\n",
    "try:\n",
    "    data = pd.read_csv('datasets/data_borrowers.csv')\n",
    "except:\n",
    "    data = pd.read_csv('https://code.s3.yandex.net/datasets/data.csv')"
   ]
  },
  {
   "cell_type": "markdown",
   "id": "2117b9c9",
   "metadata": {
    "deletable": false,
    "editable": false,
    "id": "b8038fe3"
   },
   "source": [
    "**Задание 2. Выведите первые 20 строчек датафрейма `data` на экран.**"
   ]
  },
  {
   "cell_type": "code",
   "execution_count": 2,
   "id": "4ddcce85",
   "metadata": {
    "deletable": false,
    "id": "2a7cab99",
    "outputId": "1a8f3ef2-d323-4ec2-ddf7-89670b5944c4"
   },
   "outputs": [
    {
     "data": {
      "text/html": [
       "<div>\n",
       "<style scoped>\n",
       "    .dataframe tbody tr th:only-of-type {\n",
       "        vertical-align: middle;\n",
       "    }\n",
       "\n",
       "    .dataframe tbody tr th {\n",
       "        vertical-align: top;\n",
       "    }\n",
       "\n",
       "    .dataframe thead th {\n",
       "        text-align: right;\n",
       "    }\n",
       "</style>\n",
       "<table border=\"1\" class=\"dataframe\">\n",
       "  <thead>\n",
       "    <tr style=\"text-align: right;\">\n",
       "      <th></th>\n",
       "      <th>children</th>\n",
       "      <th>days_employed</th>\n",
       "      <th>dob_years</th>\n",
       "      <th>education</th>\n",
       "      <th>education_id</th>\n",
       "      <th>family_status</th>\n",
       "      <th>family_status_id</th>\n",
       "      <th>gender</th>\n",
       "      <th>income_type</th>\n",
       "      <th>debt</th>\n",
       "      <th>total_income</th>\n",
       "      <th>purpose</th>\n",
       "    </tr>\n",
       "  </thead>\n",
       "  <tbody>\n",
       "    <tr>\n",
       "      <th>0</th>\n",
       "      <td>1</td>\n",
       "      <td>-8437.673028</td>\n",
       "      <td>42</td>\n",
       "      <td>высшее</td>\n",
       "      <td>0</td>\n",
       "      <td>женат / замужем</td>\n",
       "      <td>0</td>\n",
       "      <td>F</td>\n",
       "      <td>сотрудник</td>\n",
       "      <td>0</td>\n",
       "      <td>253875.639453</td>\n",
       "      <td>покупка жилья</td>\n",
       "    </tr>\n",
       "    <tr>\n",
       "      <th>1</th>\n",
       "      <td>1</td>\n",
       "      <td>-4024.803754</td>\n",
       "      <td>36</td>\n",
       "      <td>среднее</td>\n",
       "      <td>1</td>\n",
       "      <td>женат / замужем</td>\n",
       "      <td>0</td>\n",
       "      <td>F</td>\n",
       "      <td>сотрудник</td>\n",
       "      <td>0</td>\n",
       "      <td>112080.014102</td>\n",
       "      <td>приобретение автомобиля</td>\n",
       "    </tr>\n",
       "    <tr>\n",
       "      <th>2</th>\n",
       "      <td>0</td>\n",
       "      <td>-5623.422610</td>\n",
       "      <td>33</td>\n",
       "      <td>Среднее</td>\n",
       "      <td>1</td>\n",
       "      <td>женат / замужем</td>\n",
       "      <td>0</td>\n",
       "      <td>M</td>\n",
       "      <td>сотрудник</td>\n",
       "      <td>0</td>\n",
       "      <td>145885.952297</td>\n",
       "      <td>покупка жилья</td>\n",
       "    </tr>\n",
       "    <tr>\n",
       "      <th>3</th>\n",
       "      <td>3</td>\n",
       "      <td>-4124.747207</td>\n",
       "      <td>32</td>\n",
       "      <td>среднее</td>\n",
       "      <td>1</td>\n",
       "      <td>женат / замужем</td>\n",
       "      <td>0</td>\n",
       "      <td>M</td>\n",
       "      <td>сотрудник</td>\n",
       "      <td>0</td>\n",
       "      <td>267628.550329</td>\n",
       "      <td>дополнительное образование</td>\n",
       "    </tr>\n",
       "    <tr>\n",
       "      <th>4</th>\n",
       "      <td>0</td>\n",
       "      <td>340266.072047</td>\n",
       "      <td>53</td>\n",
       "      <td>среднее</td>\n",
       "      <td>1</td>\n",
       "      <td>гражданский брак</td>\n",
       "      <td>1</td>\n",
       "      <td>F</td>\n",
       "      <td>пенсионер</td>\n",
       "      <td>0</td>\n",
       "      <td>158616.077870</td>\n",
       "      <td>сыграть свадьбу</td>\n",
       "    </tr>\n",
       "    <tr>\n",
       "      <th>5</th>\n",
       "      <td>0</td>\n",
       "      <td>-926.185831</td>\n",
       "      <td>27</td>\n",
       "      <td>высшее</td>\n",
       "      <td>0</td>\n",
       "      <td>гражданский брак</td>\n",
       "      <td>1</td>\n",
       "      <td>M</td>\n",
       "      <td>компаньон</td>\n",
       "      <td>0</td>\n",
       "      <td>255763.565419</td>\n",
       "      <td>покупка жилья</td>\n",
       "    </tr>\n",
       "    <tr>\n",
       "      <th>6</th>\n",
       "      <td>0</td>\n",
       "      <td>-2879.202052</td>\n",
       "      <td>43</td>\n",
       "      <td>высшее</td>\n",
       "      <td>0</td>\n",
       "      <td>женат / замужем</td>\n",
       "      <td>0</td>\n",
       "      <td>F</td>\n",
       "      <td>компаньон</td>\n",
       "      <td>0</td>\n",
       "      <td>240525.971920</td>\n",
       "      <td>операции с жильем</td>\n",
       "    </tr>\n",
       "    <tr>\n",
       "      <th>7</th>\n",
       "      <td>0</td>\n",
       "      <td>-152.779569</td>\n",
       "      <td>50</td>\n",
       "      <td>СРЕДНЕЕ</td>\n",
       "      <td>1</td>\n",
       "      <td>женат / замужем</td>\n",
       "      <td>0</td>\n",
       "      <td>M</td>\n",
       "      <td>сотрудник</td>\n",
       "      <td>0</td>\n",
       "      <td>135823.934197</td>\n",
       "      <td>образование</td>\n",
       "    </tr>\n",
       "    <tr>\n",
       "      <th>8</th>\n",
       "      <td>2</td>\n",
       "      <td>-6929.865299</td>\n",
       "      <td>35</td>\n",
       "      <td>ВЫСШЕЕ</td>\n",
       "      <td>0</td>\n",
       "      <td>гражданский брак</td>\n",
       "      <td>1</td>\n",
       "      <td>F</td>\n",
       "      <td>сотрудник</td>\n",
       "      <td>0</td>\n",
       "      <td>95856.832424</td>\n",
       "      <td>на проведение свадьбы</td>\n",
       "    </tr>\n",
       "    <tr>\n",
       "      <th>9</th>\n",
       "      <td>0</td>\n",
       "      <td>-2188.756445</td>\n",
       "      <td>41</td>\n",
       "      <td>среднее</td>\n",
       "      <td>1</td>\n",
       "      <td>женат / замужем</td>\n",
       "      <td>0</td>\n",
       "      <td>M</td>\n",
       "      <td>сотрудник</td>\n",
       "      <td>0</td>\n",
       "      <td>144425.938277</td>\n",
       "      <td>покупка жилья для семьи</td>\n",
       "    </tr>\n",
       "    <tr>\n",
       "      <th>10</th>\n",
       "      <td>2</td>\n",
       "      <td>-4171.483647</td>\n",
       "      <td>36</td>\n",
       "      <td>высшее</td>\n",
       "      <td>0</td>\n",
       "      <td>женат / замужем</td>\n",
       "      <td>0</td>\n",
       "      <td>M</td>\n",
       "      <td>компаньон</td>\n",
       "      <td>0</td>\n",
       "      <td>113943.491460</td>\n",
       "      <td>покупка недвижимости</td>\n",
       "    </tr>\n",
       "    <tr>\n",
       "      <th>11</th>\n",
       "      <td>0</td>\n",
       "      <td>-792.701887</td>\n",
       "      <td>40</td>\n",
       "      <td>среднее</td>\n",
       "      <td>1</td>\n",
       "      <td>женат / замужем</td>\n",
       "      <td>0</td>\n",
       "      <td>F</td>\n",
       "      <td>сотрудник</td>\n",
       "      <td>0</td>\n",
       "      <td>77069.234271</td>\n",
       "      <td>покупка коммерческой недвижимости</td>\n",
       "    </tr>\n",
       "    <tr>\n",
       "      <th>12</th>\n",
       "      <td>0</td>\n",
       "      <td>NaN</td>\n",
       "      <td>65</td>\n",
       "      <td>среднее</td>\n",
       "      <td>1</td>\n",
       "      <td>гражданский брак</td>\n",
       "      <td>1</td>\n",
       "      <td>M</td>\n",
       "      <td>пенсионер</td>\n",
       "      <td>0</td>\n",
       "      <td>NaN</td>\n",
       "      <td>сыграть свадьбу</td>\n",
       "    </tr>\n",
       "    <tr>\n",
       "      <th>13</th>\n",
       "      <td>0</td>\n",
       "      <td>-1846.641941</td>\n",
       "      <td>54</td>\n",
       "      <td>неоконченное высшее</td>\n",
       "      <td>2</td>\n",
       "      <td>женат / замужем</td>\n",
       "      <td>0</td>\n",
       "      <td>F</td>\n",
       "      <td>сотрудник</td>\n",
       "      <td>0</td>\n",
       "      <td>130458.228857</td>\n",
       "      <td>приобретение автомобиля</td>\n",
       "    </tr>\n",
       "    <tr>\n",
       "      <th>14</th>\n",
       "      <td>0</td>\n",
       "      <td>-1844.956182</td>\n",
       "      <td>56</td>\n",
       "      <td>высшее</td>\n",
       "      <td>0</td>\n",
       "      <td>гражданский брак</td>\n",
       "      <td>1</td>\n",
       "      <td>F</td>\n",
       "      <td>компаньон</td>\n",
       "      <td>1</td>\n",
       "      <td>165127.911772</td>\n",
       "      <td>покупка жилой недвижимости</td>\n",
       "    </tr>\n",
       "    <tr>\n",
       "      <th>15</th>\n",
       "      <td>1</td>\n",
       "      <td>-972.364419</td>\n",
       "      <td>26</td>\n",
       "      <td>среднее</td>\n",
       "      <td>1</td>\n",
       "      <td>женат / замужем</td>\n",
       "      <td>0</td>\n",
       "      <td>F</td>\n",
       "      <td>сотрудник</td>\n",
       "      <td>0</td>\n",
       "      <td>116820.904450</td>\n",
       "      <td>строительство собственной недвижимости</td>\n",
       "    </tr>\n",
       "    <tr>\n",
       "      <th>16</th>\n",
       "      <td>0</td>\n",
       "      <td>-1719.934226</td>\n",
       "      <td>35</td>\n",
       "      <td>среднее</td>\n",
       "      <td>1</td>\n",
       "      <td>женат / замужем</td>\n",
       "      <td>0</td>\n",
       "      <td>F</td>\n",
       "      <td>сотрудник</td>\n",
       "      <td>0</td>\n",
       "      <td>289202.704229</td>\n",
       "      <td>недвижимость</td>\n",
       "    </tr>\n",
       "    <tr>\n",
       "      <th>17</th>\n",
       "      <td>0</td>\n",
       "      <td>-2369.999720</td>\n",
       "      <td>33</td>\n",
       "      <td>высшее</td>\n",
       "      <td>0</td>\n",
       "      <td>гражданский брак</td>\n",
       "      <td>1</td>\n",
       "      <td>M</td>\n",
       "      <td>сотрудник</td>\n",
       "      <td>0</td>\n",
       "      <td>90410.586745</td>\n",
       "      <td>строительство недвижимости</td>\n",
       "    </tr>\n",
       "    <tr>\n",
       "      <th>18</th>\n",
       "      <td>0</td>\n",
       "      <td>400281.136913</td>\n",
       "      <td>53</td>\n",
       "      <td>среднее</td>\n",
       "      <td>1</td>\n",
       "      <td>вдовец / вдова</td>\n",
       "      <td>2</td>\n",
       "      <td>F</td>\n",
       "      <td>пенсионер</td>\n",
       "      <td>0</td>\n",
       "      <td>56823.777243</td>\n",
       "      <td>на покупку подержанного автомобиля</td>\n",
       "    </tr>\n",
       "    <tr>\n",
       "      <th>19</th>\n",
       "      <td>0</td>\n",
       "      <td>-10038.818549</td>\n",
       "      <td>48</td>\n",
       "      <td>СРЕДНЕЕ</td>\n",
       "      <td>1</td>\n",
       "      <td>в разводе</td>\n",
       "      <td>3</td>\n",
       "      <td>F</td>\n",
       "      <td>сотрудник</td>\n",
       "      <td>0</td>\n",
       "      <td>242831.107982</td>\n",
       "      <td>на покупку своего автомобиля</td>\n",
       "    </tr>\n",
       "  </tbody>\n",
       "</table>\n",
       "</div>"
      ],
      "text/plain": [
       "    children  days_employed  dob_years            education  education_id  \\\n",
       "0          1   -8437.673028         42               высшее             0   \n",
       "1          1   -4024.803754         36              среднее             1   \n",
       "2          0   -5623.422610         33              Среднее             1   \n",
       "3          3   -4124.747207         32              среднее             1   \n",
       "4          0  340266.072047         53              среднее             1   \n",
       "5          0    -926.185831         27               высшее             0   \n",
       "6          0   -2879.202052         43               высшее             0   \n",
       "7          0    -152.779569         50              СРЕДНЕЕ             1   \n",
       "8          2   -6929.865299         35               ВЫСШЕЕ             0   \n",
       "9          0   -2188.756445         41              среднее             1   \n",
       "10         2   -4171.483647         36               высшее             0   \n",
       "11         0    -792.701887         40              среднее             1   \n",
       "12         0            NaN         65              среднее             1   \n",
       "13         0   -1846.641941         54  неоконченное высшее             2   \n",
       "14         0   -1844.956182         56               высшее             0   \n",
       "15         1    -972.364419         26              среднее             1   \n",
       "16         0   -1719.934226         35              среднее             1   \n",
       "17         0   -2369.999720         33               высшее             0   \n",
       "18         0  400281.136913         53              среднее             1   \n",
       "19         0  -10038.818549         48              СРЕДНЕЕ             1   \n",
       "\n",
       "       family_status  family_status_id gender income_type  debt  \\\n",
       "0    женат / замужем                 0      F   сотрудник     0   \n",
       "1    женат / замужем                 0      F   сотрудник     0   \n",
       "2    женат / замужем                 0      M   сотрудник     0   \n",
       "3    женат / замужем                 0      M   сотрудник     0   \n",
       "4   гражданский брак                 1      F   пенсионер     0   \n",
       "5   гражданский брак                 1      M   компаньон     0   \n",
       "6    женат / замужем                 0      F   компаньон     0   \n",
       "7    женат / замужем                 0      M   сотрудник     0   \n",
       "8   гражданский брак                 1      F   сотрудник     0   \n",
       "9    женат / замужем                 0      M   сотрудник     0   \n",
       "10   женат / замужем                 0      M   компаньон     0   \n",
       "11   женат / замужем                 0      F   сотрудник     0   \n",
       "12  гражданский брак                 1      M   пенсионер     0   \n",
       "13   женат / замужем                 0      F   сотрудник     0   \n",
       "14  гражданский брак                 1      F   компаньон     1   \n",
       "15   женат / замужем                 0      F   сотрудник     0   \n",
       "16   женат / замужем                 0      F   сотрудник     0   \n",
       "17  гражданский брак                 1      M   сотрудник     0   \n",
       "18    вдовец / вдова                 2      F   пенсионер     0   \n",
       "19         в разводе                 3      F   сотрудник     0   \n",
       "\n",
       "     total_income                                 purpose  \n",
       "0   253875.639453                           покупка жилья  \n",
       "1   112080.014102                 приобретение автомобиля  \n",
       "2   145885.952297                           покупка жилья  \n",
       "3   267628.550329              дополнительное образование  \n",
       "4   158616.077870                         сыграть свадьбу  \n",
       "5   255763.565419                           покупка жилья  \n",
       "6   240525.971920                       операции с жильем  \n",
       "7   135823.934197                             образование  \n",
       "8    95856.832424                   на проведение свадьбы  \n",
       "9   144425.938277                 покупка жилья для семьи  \n",
       "10  113943.491460                    покупка недвижимости  \n",
       "11   77069.234271       покупка коммерческой недвижимости  \n",
       "12            NaN                         сыграть свадьбу  \n",
       "13  130458.228857                 приобретение автомобиля  \n",
       "14  165127.911772              покупка жилой недвижимости  \n",
       "15  116820.904450  строительство собственной недвижимости  \n",
       "16  289202.704229                            недвижимость  \n",
       "17   90410.586745              строительство недвижимости  \n",
       "18   56823.777243      на покупку подержанного автомобиля  \n",
       "19  242831.107982            на покупку своего автомобиля  "
      ]
     },
     "execution_count": 2,
     "metadata": {},
     "output_type": "execute_result"
    }
   ],
   "source": [
    "data.head(20)"
   ]
  },
  {
   "cell_type": "markdown",
   "id": "b385429b",
   "metadata": {
    "deletable": false,
    "editable": false,
    "id": "1c12e233"
   },
   "source": [
    "**Задание 3. Выведите основную информацию о датафрейме с помощью метода `info()`.**"
   ]
  },
  {
   "cell_type": "code",
   "execution_count": 3,
   "id": "be9d7201",
   "metadata": {
    "deletable": false,
    "id": "2b757bca",
    "outputId": "15376089-8dad-46c9-b520-c05248d43158"
   },
   "outputs": [
    {
     "name": "stdout",
     "output_type": "stream",
     "text": [
      "<class 'pandas.core.frame.DataFrame'>\n",
      "RangeIndex: 21525 entries, 0 to 21524\n",
      "Data columns (total 12 columns):\n",
      " #   Column            Non-Null Count  Dtype  \n",
      "---  ------            --------------  -----  \n",
      " 0   children          21525 non-null  int64  \n",
      " 1   days_employed     19351 non-null  float64\n",
      " 2   dob_years         21525 non-null  int64  \n",
      " 3   education         21525 non-null  object \n",
      " 4   education_id      21525 non-null  int64  \n",
      " 5   family_status     21525 non-null  object \n",
      " 6   family_status_id  21525 non-null  int64  \n",
      " 7   gender            21525 non-null  object \n",
      " 8   income_type       21525 non-null  object \n",
      " 9   debt              21525 non-null  int64  \n",
      " 10  total_income      19351 non-null  float64\n",
      " 11  purpose           21525 non-null  object \n",
      "dtypes: float64(2), int64(5), object(5)\n",
      "memory usage: 2.0+ MB\n"
     ]
    }
   ],
   "source": [
    "data.info()"
   ]
  },
  {
   "cell_type": "markdown",
   "id": "b0e5a1fe",
   "metadata": {},
   "source": [
    "Имеем колонки со следующей информацией: \n",
    "* children - количество детей;\n",
    "* days_employed - количество занятых дней;\n",
    "* dob_years - возраст;\n",
    "* education - образование;\n",
    "* education_id - категория образования;\n",
    "* family_status - семейное положение;\n",
    "* family_status_id - идентификатор семейного положения;\n",
    "* gender - пол;\n",
    "* income_type - должность;\n",
    "* debt - наличие долга;\n",
    "* total_income - доход;\n",
    "* purpose - цель кредита.\n",
    "\n",
    "Для решения поставленной задачи необходимо поработать над данными: заполнить пропуски, обработать дубликаты, удалить аномальные значения, добавить категории для некоторых данных.  "
   ]
  },
  {
   "cell_type": "markdown",
   "id": "78b2bd43",
   "metadata": {
    "deletable": false,
    "editable": false,
    "id": "333ec665"
   },
   "source": [
    "## Предобработка данных"
   ]
  },
  {
   "cell_type": "markdown",
   "id": "81cf0a6c",
   "metadata": {
    "deletable": false,
    "editable": false,
    "id": "02d92d53"
   },
   "source": [
    "### Удаление пропусков"
   ]
  },
  {
   "cell_type": "markdown",
   "id": "fd3f3a0f",
   "metadata": {
    "deletable": false,
    "editable": false,
    "id": "cd84967c"
   },
   "source": [
    "**Задание 4. Выведите количество пропущенных значений для каждого столбца. Используйте комбинацию двух методов.**"
   ]
  },
  {
   "cell_type": "code",
   "execution_count": 4,
   "id": "62c03b29",
   "metadata": {
    "deletable": false,
    "id": "7f9b2309",
    "outputId": "81f4d817-781c-465c-ed15-91ce4446810d"
   },
   "outputs": [
    {
     "data": {
      "text/plain": [
       "children               0\n",
       "days_employed       2174\n",
       "dob_years              0\n",
       "education              0\n",
       "education_id           0\n",
       "family_status          0\n",
       "family_status_id       0\n",
       "gender                 0\n",
       "income_type            0\n",
       "debt                   0\n",
       "total_income        2174\n",
       "purpose                0\n",
       "dtype: int64"
      ]
     },
     "execution_count": 4,
     "metadata": {},
     "output_type": "execute_result"
    }
   ],
   "source": [
    "data.isna().sum()"
   ]
  },
  {
   "cell_type": "markdown",
   "id": "bb5b9fc2",
   "metadata": {
    "deletable": false,
    "editable": false,
    "id": "db86e27b"
   },
   "source": [
    "**Задание 5. В двух столбцах есть пропущенные значения. Один из них — `days_employed`. Пропуски в этом столбце вы обработаете на следующем этапе. Другой столбец с пропущенными значениями — `total_income` — хранит данные о доходах. На сумму дохода сильнее всего влияет тип занятости, поэтому заполнить пропуски в этом столбце нужно медианным значением по каждому типу из столбца `income_type`. Например, у человека с типом занятости `сотрудник` пропуск в столбце `total_income` должен быть заполнен медианным доходом среди всех записей с тем же типом.**"
   ]
  },
  {
   "cell_type": "code",
   "execution_count": 5,
   "id": "95943408",
   "metadata": {
    "deletable": false,
    "id": "42006a93"
   },
   "outputs": [],
   "source": [
    "for t in data['income_type'].unique():\n",
    "    data.loc[(data['income_type'] == t) & (data['total_income'].isna()), 'total_income'] = \\\n",
    "    data.loc[(data['income_type'] == t), 'total_income'].median()"
   ]
  },
  {
   "cell_type": "markdown",
   "id": "2c2465ec",
   "metadata": {
    "deletable": false,
    "editable": false,
    "id": "89da5ece"
   },
   "source": [
    "### Обработка аномальных значений"
   ]
  },
  {
   "cell_type": "markdown",
   "id": "7145fbb8",
   "metadata": {
    "deletable": false,
    "editable": false,
    "id": "57964554"
   },
   "source": [
    "**Задание 6. В данных могут встречаться артефакты (аномалии) — значения, которые не отражают действительность и появились по какой-то ошибке. таким артефактом будет отрицательное количество дней трудового стажа в столбце `days_employed`. Для реальных данных это нормально. Обработайте значения в этом столбце: замените все отрицательные значения положительными с помощью метода `abs()`.**"
   ]
  },
  {
   "cell_type": "code",
   "execution_count": 6,
   "id": "bb61e852",
   "metadata": {
    "deletable": false,
    "id": "f6f055bf"
   },
   "outputs": [],
   "source": [
    "data['days_employed'] = data['days_employed'].abs()"
   ]
  },
  {
   "cell_type": "markdown",
   "id": "5e00b738",
   "metadata": {
    "deletable": false,
    "editable": false,
    "id": "6107dd2f"
   },
   "source": [
    "**Задание 7. Для каждого типа занятости выведите медианное значение трудового стажа `days_employed` в днях.**"
   ]
  },
  {
   "cell_type": "code",
   "execution_count": 7,
   "id": "fa64d140",
   "metadata": {
    "deletable": false,
    "id": "85a5faf6",
    "outputId": "801ef80e-522b-4668-f34e-565af7432bcf"
   },
   "outputs": [
    {
     "data": {
      "text/plain": [
       "income_type\n",
       "безработный        366413.652744\n",
       "в декрете            3296.759962\n",
       "госслужащий          2689.368353\n",
       "компаньон            1547.382223\n",
       "пенсионер          365213.306266\n",
       "предприниматель       520.848083\n",
       "сотрудник            1574.202821\n",
       "студент               578.751554\n",
       "Name: days_employed, dtype: float64"
      ]
     },
     "execution_count": 7,
     "metadata": {},
     "output_type": "execute_result"
    }
   ],
   "source": [
    "data.groupby('income_type')['days_employed'].agg('median')"
   ]
  },
  {
   "cell_type": "markdown",
   "id": "e43321b6",
   "metadata": {
    "deletable": false,
    "editable": false,
    "id": "38d1a030"
   },
   "source": [
    "У двух типов (безработные и пенсионеры) получатся аномально большие значения. Исправить такие значения сложно, поэтому оставьте их как есть. Тем более этот столбец не понадобится вам для исследования."
   ]
  },
  {
   "cell_type": "markdown",
   "id": "30080ed2",
   "metadata": {
    "deletable": false,
    "editable": false,
    "id": "d8a9f147"
   },
   "source": [
    "**Задание 8. Выведите перечень уникальных значений столбца `children`.**"
   ]
  },
  {
   "cell_type": "code",
   "execution_count": 8,
   "id": "7f1678bb",
   "metadata": {
    "deletable": false,
    "id": "ef5056eb",
    "outputId": "6975b15c-7f95-4697-d16d-a0c79b657b03"
   },
   "outputs": [
    {
     "data": {
      "text/plain": [
       "array([ 1,  0,  3,  2, -1,  4, 20,  5])"
      ]
     },
     "execution_count": 8,
     "metadata": {},
     "output_type": "execute_result"
    }
   ],
   "source": [
    "data['children'].unique()"
   ]
  },
  {
   "cell_type": "markdown",
   "id": "cc5e6e0b",
   "metadata": {
    "deletable": false,
    "editable": false,
    "id": "40b9ebf2"
   },
   "source": [
    "**Задание 9. В столбце `children` есть два аномальных значения. Удалите строки, в которых встречаются такие аномальные значения из датафрейма `data`.**"
   ]
  },
  {
   "cell_type": "code",
   "execution_count": 9,
   "id": "924f706d",
   "metadata": {
    "deletable": false,
    "id": "3ff9801d"
   },
   "outputs": [],
   "source": [
    "data = data[(data['children'] != -1) & (data['children'] != 20)]"
   ]
  },
  {
   "cell_type": "markdown",
   "id": "e7616fec",
   "metadata": {
    "deletable": false,
    "editable": false,
    "id": "bbc4d0ce"
   },
   "source": [
    "**Задание 10. Ещё раз выведите перечень уникальных значений столбца `children`, чтобы убедиться, что артефакты удалены.**"
   ]
  },
  {
   "cell_type": "code",
   "execution_count": 10,
   "id": "5a8937a8",
   "metadata": {
    "deletable": false,
    "id": "ad4fa8b7",
    "outputId": "b2097101-d49d-44d9-901b-32a65c9463d1"
   },
   "outputs": [
    {
     "data": {
      "text/plain": [
       "array([1, 0, 3, 2, 4, 5])"
      ]
     },
     "execution_count": 10,
     "metadata": {},
     "output_type": "execute_result"
    }
   ],
   "source": [
    "data['children'].unique()"
   ]
  },
  {
   "cell_type": "markdown",
   "id": "a88ebac0",
   "metadata": {
    "deletable": false,
    "editable": false,
    "id": "75440b63"
   },
   "source": [
    "### Удаление пропусков (продолжение)"
   ]
  },
  {
   "cell_type": "markdown",
   "id": "395c6f2f",
   "metadata": {
    "deletable": false,
    "editable": false,
    "id": "f4ea573f"
   },
   "source": [
    "**Задание 11. Заполните пропуски в столбце `days_employed` медианными значениями по каждого типа занятости `income_type`.**"
   ]
  },
  {
   "cell_type": "code",
   "execution_count": 11,
   "id": "760e7e4d",
   "metadata": {
    "deletable": false,
    "id": "af6b1a7e"
   },
   "outputs": [],
   "source": [
    "for t in data['income_type'].unique():\n",
    "    data.loc[(data['income_type'] == t) & (data['days_employed'].isna()), 'days_employed'] = \\\n",
    "    data.loc[(data['income_type'] == t), 'days_employed'].median()"
   ]
  },
  {
   "cell_type": "markdown",
   "id": "8bb43024",
   "metadata": {
    "deletable": false,
    "editable": false,
    "id": "2753f40d"
   },
   "source": [
    "**Задание 12. Убедитесь, что все пропуски заполнены. Проверьте себя и ещё раз выведите количество пропущенных значений для каждого столбца с помощью двух методов.**"
   ]
  },
  {
   "cell_type": "code",
   "execution_count": 12,
   "id": "e79591fd",
   "metadata": {
    "deletable": false,
    "id": "55f78bc2",
    "outputId": "8da1e4e1-358e-4e87-98c9-f261bce0a7b2"
   },
   "outputs": [
    {
     "data": {
      "text/plain": [
       "children            0\n",
       "days_employed       0\n",
       "dob_years           0\n",
       "education           0\n",
       "education_id        0\n",
       "family_status       0\n",
       "family_status_id    0\n",
       "gender              0\n",
       "income_type         0\n",
       "debt                0\n",
       "total_income        0\n",
       "purpose             0\n",
       "dtype: int64"
      ]
     },
     "execution_count": 12,
     "metadata": {},
     "output_type": "execute_result"
    }
   ],
   "source": [
    "data.isna().sum()"
   ]
  },
  {
   "cell_type": "markdown",
   "id": "0d40ac9b",
   "metadata": {
    "deletable": false,
    "editable": false,
    "id": "ddc81e43"
   },
   "source": [
    "### Изменение типов данных"
   ]
  },
  {
   "cell_type": "markdown",
   "id": "c8c737bc",
   "metadata": {
    "deletable": false,
    "editable": false,
    "id": "42d19d24"
   },
   "source": [
    "**Задание 13. Замените вещественный тип данных в столбце `total_income` на целочисленный с помощью метода `astype()`.**"
   ]
  },
  {
   "cell_type": "code",
   "execution_count": 13,
   "id": "02ddaece",
   "metadata": {
    "deletable": false,
    "id": "920b65ad"
   },
   "outputs": [],
   "source": [
    "data['total_income'] = data['total_income'].astype(int)"
   ]
  },
  {
   "cell_type": "markdown",
   "id": "b0b21048",
   "metadata": {
    "deletable": false,
    "editable": false,
    "id": "80c420ba"
   },
   "source": [
    "### Обработка дубликатов"
   ]
  },
  {
   "cell_type": "markdown",
   "id": "7182b817",
   "metadata": {
    "deletable": false,
    "editable": false
   },
   "source": [
    "**Задание 14. Обработайте неявные дубликаты в столбце `education`. В этом столбце есть одни и те же значения, но записанные по-разному: с использованием заглавных и строчных букв. Приведите их к нижнему регистру. Проверьте остальные столбцы.**"
   ]
  },
  {
   "cell_type": "code",
   "execution_count": 14,
   "id": "9b15992b",
   "metadata": {
    "deletable": false
   },
   "outputs": [],
   "source": [
    "data['education'] = data['education'].str.lower()"
   ]
  },
  {
   "cell_type": "markdown",
   "id": "3d966ec3",
   "metadata": {
    "deletable": false,
    "editable": false,
    "id": "dc587695"
   },
   "source": [
    "**Задание 15. Выведите на экран количество строк-дубликатов в данных. Если такие строки присутствуют, удалите их.**"
   ]
  },
  {
   "cell_type": "code",
   "execution_count": 15,
   "id": "7a3ad397",
   "metadata": {
    "deletable": false,
    "id": "3ee445e4",
    "outputId": "9684deba-1934-42d1-99e1-cda61740f822"
   },
   "outputs": [
    {
     "data": {
      "text/plain": [
       "71"
      ]
     },
     "execution_count": 15,
     "metadata": {},
     "output_type": "execute_result"
    }
   ],
   "source": [
    "data.duplicated().sum()"
   ]
  },
  {
   "cell_type": "code",
   "execution_count": 16,
   "id": "cb966c2a",
   "metadata": {
    "deletable": false,
    "id": "8575fe05"
   },
   "outputs": [],
   "source": [
    "data = data.drop_duplicates()"
   ]
  },
  {
   "cell_type": "markdown",
   "id": "061c5adb",
   "metadata": {
    "deletable": false,
    "editable": false,
    "id": "9904cf55"
   },
   "source": [
    "### Категоризация данных"
   ]
  },
  {
   "cell_type": "markdown",
   "id": "78d7e56f",
   "metadata": {
    "deletable": false,
    "editable": false,
    "id": "72fcc8a2"
   },
   "source": [
    "**Задание 16. На основании диапазонов, указанных ниже, создайте в датафрейме `data` столбец `total_income_category` с категориями:**\n",
    "\n",
    "- 0–30000 — `'E'`;\n",
    "- 30001–50000 — `'D'`;\n",
    "- 50001–200000 — `'C'`;\n",
    "- 200001–1000000 — `'B'`;\n",
    "- 1000001 и выше — `'A'`.\n",
    "\n",
    "\n",
    "**Например, кредитополучателю с доходом 25000 нужно назначить категорию `'E'`, а клиенту, получающему 235000, — `'B'`. Используйте собственную функцию с именем `categorize_income()` и метод `apply()`.**"
   ]
  },
  {
   "cell_type": "code",
   "execution_count": 17,
   "id": "854045c7",
   "metadata": {
    "deletable": false,
    "id": "e1771346"
   },
   "outputs": [],
   "source": [
    "def categorize_income(income):\n",
    "    try:\n",
    "        if 0 <= income <= 30000:\n",
    "            return 'E'\n",
    "        elif 30001 <= income <= 50000:\n",
    "            return 'D'\n",
    "        elif 50001 <= income <= 200000:\n",
    "            return 'C'\n",
    "        elif 200001 <= income <= 1000000:\n",
    "            return 'B'\n",
    "        elif income >= 1000001:\n",
    "            return 'A'\n",
    "    except:\n",
    "        pass"
   ]
  },
  {
   "cell_type": "code",
   "execution_count": 18,
   "id": "dd2d7525",
   "metadata": {
    "deletable": false,
    "id": "d5f3586d"
   },
   "outputs": [],
   "source": [
    "data['total_income_category'] = data['total_income'].apply(categorize_income)"
   ]
  },
  {
   "cell_type": "markdown",
   "id": "bd17e7e8",
   "metadata": {
    "deletable": false,
    "editable": false,
    "id": "dde49b5c"
   },
   "source": [
    "**Задание 17. Выведите на экран перечень уникальных целей взятия кредита из столбца `purpose`.**"
   ]
  },
  {
   "cell_type": "code",
   "execution_count": 19,
   "id": "847fec19",
   "metadata": {
    "deletable": false,
    "id": "f67ce9b3",
    "outputId": "673c12d9-7d7e-4ae0-9812-c622c89dd244"
   },
   "outputs": [
    {
     "data": {
      "text/plain": [
       "array(['покупка жилья', 'приобретение автомобиля',\n",
       "       'дополнительное образование', 'сыграть свадьбу',\n",
       "       'операции с жильем', 'образование', 'на проведение свадьбы',\n",
       "       'покупка жилья для семьи', 'покупка недвижимости',\n",
       "       'покупка коммерческой недвижимости', 'покупка жилой недвижимости',\n",
       "       'строительство собственной недвижимости', 'недвижимость',\n",
       "       'строительство недвижимости', 'на покупку подержанного автомобиля',\n",
       "       'на покупку своего автомобиля',\n",
       "       'операции с коммерческой недвижимостью',\n",
       "       'строительство жилой недвижимости', 'жилье',\n",
       "       'операции со своей недвижимостью', 'автомобили',\n",
       "       'заняться образованием', 'сделка с подержанным автомобилем',\n",
       "       'получение образования', 'автомобиль', 'свадьба',\n",
       "       'получение дополнительного образования', 'покупка своего жилья',\n",
       "       'операции с недвижимостью', 'получение высшего образования',\n",
       "       'свой автомобиль', 'сделка с автомобилем',\n",
       "       'профильное образование', 'высшее образование',\n",
       "       'покупка жилья для сдачи', 'на покупку автомобиля', 'ремонт жилью',\n",
       "       'заняться высшим образованием'], dtype=object)"
      ]
     },
     "execution_count": 19,
     "metadata": {},
     "output_type": "execute_result"
    }
   ],
   "source": [
    "data['purpose'].unique()"
   ]
  },
  {
   "cell_type": "markdown",
   "id": "250471cb",
   "metadata": {
    "deletable": false,
    "editable": false,
    "id": "85d0aef0"
   },
   "source": [
    "**Задание 18. Создайте функцию, которая на основании данных из столбца `purpose` сформирует новый столбец `purpose_category`, в который войдут следующие категории:**\n",
    "\n",
    "- `'операции с автомобилем'`,\n",
    "- `'операции с недвижимостью'`,\n",
    "- `'проведение свадьбы'`,\n",
    "- `'получение образования'`.\n",
    "\n",
    "**Например, если в столбце `purpose` находится подстрока `'на покупку автомобиля'`, то в столбце `purpose_category` должна появиться строка `'операции с автомобилем'`.**\n",
    "\n",
    "**Используйте собственную функцию с именем `categorize_purpose()` и метод `apply()`. Изучите данные в столбце `purpose` и определите, какие подстроки помогут вам правильно определить категорию.**"
   ]
  },
  {
   "cell_type": "code",
   "execution_count": 20,
   "id": "b137211a",
   "metadata": {
    "deletable": false,
    "id": "e149fab4"
   },
   "outputs": [],
   "source": [
    "def categorize_purpose(row):\n",
    "    try:\n",
    "        if 'автом' in row:\n",
    "            return 'операции с автомобилем'\n",
    "        elif 'жил' in row or 'недвиж' in row:\n",
    "            return 'операции с недвижимостью'\n",
    "        elif 'свад' in row:\n",
    "            return 'проведение свадьбы'\n",
    "        elif 'образов' in row:\n",
    "            return 'получение образования'\n",
    "    except:\n",
    "        return 'нет категории'"
   ]
  },
  {
   "cell_type": "code",
   "execution_count": 21,
   "id": "7e3c1f6b",
   "metadata": {
    "deletable": false,
    "id": "bf36e69b"
   },
   "outputs": [],
   "source": [
    "data['purpose_category'] = data['purpose'].apply(categorize_purpose)"
   ]
  },
  {
   "cell_type": "markdown",
   "id": "c94b2b2c",
   "metadata": {},
   "source": [
    "В этом разделе мы выполнили предобработку данных в таблице. Теперь можем считать их \"чистыми\" и смело проводить анализ на их основе"
   ]
  },
  {
   "cell_type": "markdown",
   "id": "b874d670",
   "metadata": {
    "deletable": false,
    "editable": false,
    "id": "09b242bf"
   },
   "source": [
    "### Шаг 3. Исследуйте данные и ответьте на вопросы"
   ]
  },
  {
   "cell_type": "code",
   "execution_count": 22,
   "id": "f2f41396",
   "metadata": {
    "deletable": false,
    "id": "2cacfc4a"
   },
   "outputs": [
    {
     "data": {
      "text/html": [
       "<div>\n",
       "<style scoped>\n",
       "    .dataframe tbody tr th:only-of-type {\n",
       "        vertical-align: middle;\n",
       "    }\n",
       "\n",
       "    .dataframe tbody tr th {\n",
       "        vertical-align: top;\n",
       "    }\n",
       "\n",
       "    .dataframe thead th {\n",
       "        text-align: right;\n",
       "    }\n",
       "</style>\n",
       "<table border=\"1\" class=\"dataframe\">\n",
       "  <thead>\n",
       "    <tr style=\"text-align: right;\">\n",
       "      <th></th>\n",
       "      <th>children</th>\n",
       "      <th>days_employed</th>\n",
       "      <th>dob_years</th>\n",
       "      <th>education</th>\n",
       "      <th>education_id</th>\n",
       "      <th>family_status</th>\n",
       "      <th>family_status_id</th>\n",
       "      <th>gender</th>\n",
       "      <th>income_type</th>\n",
       "      <th>debt</th>\n",
       "      <th>total_income</th>\n",
       "      <th>purpose</th>\n",
       "      <th>total_income_category</th>\n",
       "      <th>purpose_category</th>\n",
       "    </tr>\n",
       "  </thead>\n",
       "  <tbody>\n",
       "    <tr>\n",
       "      <th>0</th>\n",
       "      <td>1</td>\n",
       "      <td>8437.673028</td>\n",
       "      <td>42</td>\n",
       "      <td>высшее</td>\n",
       "      <td>0</td>\n",
       "      <td>женат / замужем</td>\n",
       "      <td>0</td>\n",
       "      <td>F</td>\n",
       "      <td>сотрудник</td>\n",
       "      <td>0</td>\n",
       "      <td>253875</td>\n",
       "      <td>покупка жилья</td>\n",
       "      <td>B</td>\n",
       "      <td>операции с недвижимостью</td>\n",
       "    </tr>\n",
       "    <tr>\n",
       "      <th>1</th>\n",
       "      <td>1</td>\n",
       "      <td>4024.803754</td>\n",
       "      <td>36</td>\n",
       "      <td>среднее</td>\n",
       "      <td>1</td>\n",
       "      <td>женат / замужем</td>\n",
       "      <td>0</td>\n",
       "      <td>F</td>\n",
       "      <td>сотрудник</td>\n",
       "      <td>0</td>\n",
       "      <td>112080</td>\n",
       "      <td>приобретение автомобиля</td>\n",
       "      <td>C</td>\n",
       "      <td>операции с автомобилем</td>\n",
       "    </tr>\n",
       "    <tr>\n",
       "      <th>2</th>\n",
       "      <td>0</td>\n",
       "      <td>5623.422610</td>\n",
       "      <td>33</td>\n",
       "      <td>среднее</td>\n",
       "      <td>1</td>\n",
       "      <td>женат / замужем</td>\n",
       "      <td>0</td>\n",
       "      <td>M</td>\n",
       "      <td>сотрудник</td>\n",
       "      <td>0</td>\n",
       "      <td>145885</td>\n",
       "      <td>покупка жилья</td>\n",
       "      <td>C</td>\n",
       "      <td>операции с недвижимостью</td>\n",
       "    </tr>\n",
       "    <tr>\n",
       "      <th>3</th>\n",
       "      <td>3</td>\n",
       "      <td>4124.747207</td>\n",
       "      <td>32</td>\n",
       "      <td>среднее</td>\n",
       "      <td>1</td>\n",
       "      <td>женат / замужем</td>\n",
       "      <td>0</td>\n",
       "      <td>M</td>\n",
       "      <td>сотрудник</td>\n",
       "      <td>0</td>\n",
       "      <td>267628</td>\n",
       "      <td>дополнительное образование</td>\n",
       "      <td>B</td>\n",
       "      <td>получение образования</td>\n",
       "    </tr>\n",
       "    <tr>\n",
       "      <th>4</th>\n",
       "      <td>0</td>\n",
       "      <td>340266.072047</td>\n",
       "      <td>53</td>\n",
       "      <td>среднее</td>\n",
       "      <td>1</td>\n",
       "      <td>гражданский брак</td>\n",
       "      <td>1</td>\n",
       "      <td>F</td>\n",
       "      <td>пенсионер</td>\n",
       "      <td>0</td>\n",
       "      <td>158616</td>\n",
       "      <td>сыграть свадьбу</td>\n",
       "      <td>C</td>\n",
       "      <td>проведение свадьбы</td>\n",
       "    </tr>\n",
       "    <tr>\n",
       "      <th>...</th>\n",
       "      <td>...</td>\n",
       "      <td>...</td>\n",
       "      <td>...</td>\n",
       "      <td>...</td>\n",
       "      <td>...</td>\n",
       "      <td>...</td>\n",
       "      <td>...</td>\n",
       "      <td>...</td>\n",
       "      <td>...</td>\n",
       "      <td>...</td>\n",
       "      <td>...</td>\n",
       "      <td>...</td>\n",
       "      <td>...</td>\n",
       "      <td>...</td>\n",
       "    </tr>\n",
       "    <tr>\n",
       "      <th>21520</th>\n",
       "      <td>1</td>\n",
       "      <td>4529.316663</td>\n",
       "      <td>43</td>\n",
       "      <td>среднее</td>\n",
       "      <td>1</td>\n",
       "      <td>гражданский брак</td>\n",
       "      <td>1</td>\n",
       "      <td>F</td>\n",
       "      <td>компаньон</td>\n",
       "      <td>0</td>\n",
       "      <td>224791</td>\n",
       "      <td>операции с жильем</td>\n",
       "      <td>B</td>\n",
       "      <td>операции с недвижимостью</td>\n",
       "    </tr>\n",
       "    <tr>\n",
       "      <th>21521</th>\n",
       "      <td>0</td>\n",
       "      <td>343937.404131</td>\n",
       "      <td>67</td>\n",
       "      <td>среднее</td>\n",
       "      <td>1</td>\n",
       "      <td>женат / замужем</td>\n",
       "      <td>0</td>\n",
       "      <td>F</td>\n",
       "      <td>пенсионер</td>\n",
       "      <td>0</td>\n",
       "      <td>155999</td>\n",
       "      <td>сделка с автомобилем</td>\n",
       "      <td>C</td>\n",
       "      <td>операции с автомобилем</td>\n",
       "    </tr>\n",
       "    <tr>\n",
       "      <th>21522</th>\n",
       "      <td>1</td>\n",
       "      <td>2113.346888</td>\n",
       "      <td>38</td>\n",
       "      <td>среднее</td>\n",
       "      <td>1</td>\n",
       "      <td>гражданский брак</td>\n",
       "      <td>1</td>\n",
       "      <td>M</td>\n",
       "      <td>сотрудник</td>\n",
       "      <td>1</td>\n",
       "      <td>89672</td>\n",
       "      <td>недвижимость</td>\n",
       "      <td>C</td>\n",
       "      <td>операции с недвижимостью</td>\n",
       "    </tr>\n",
       "    <tr>\n",
       "      <th>21523</th>\n",
       "      <td>3</td>\n",
       "      <td>3112.481705</td>\n",
       "      <td>38</td>\n",
       "      <td>среднее</td>\n",
       "      <td>1</td>\n",
       "      <td>женат / замужем</td>\n",
       "      <td>0</td>\n",
       "      <td>M</td>\n",
       "      <td>сотрудник</td>\n",
       "      <td>1</td>\n",
       "      <td>244093</td>\n",
       "      <td>на покупку своего автомобиля</td>\n",
       "      <td>B</td>\n",
       "      <td>операции с автомобилем</td>\n",
       "    </tr>\n",
       "    <tr>\n",
       "      <th>21524</th>\n",
       "      <td>2</td>\n",
       "      <td>1984.507589</td>\n",
       "      <td>40</td>\n",
       "      <td>среднее</td>\n",
       "      <td>1</td>\n",
       "      <td>женат / замужем</td>\n",
       "      <td>0</td>\n",
       "      <td>F</td>\n",
       "      <td>сотрудник</td>\n",
       "      <td>0</td>\n",
       "      <td>82047</td>\n",
       "      <td>на покупку автомобиля</td>\n",
       "      <td>C</td>\n",
       "      <td>операции с автомобилем</td>\n",
       "    </tr>\n",
       "  </tbody>\n",
       "</table>\n",
       "<p>21331 rows × 14 columns</p>\n",
       "</div>"
      ],
      "text/plain": [
       "       children  days_employed  dob_years education  education_id  \\\n",
       "0             1    8437.673028         42    высшее             0   \n",
       "1             1    4024.803754         36   среднее             1   \n",
       "2             0    5623.422610         33   среднее             1   \n",
       "3             3    4124.747207         32   среднее             1   \n",
       "4             0  340266.072047         53   среднее             1   \n",
       "...         ...            ...        ...       ...           ...   \n",
       "21520         1    4529.316663         43   среднее             1   \n",
       "21521         0  343937.404131         67   среднее             1   \n",
       "21522         1    2113.346888         38   среднее             1   \n",
       "21523         3    3112.481705         38   среднее             1   \n",
       "21524         2    1984.507589         40   среднее             1   \n",
       "\n",
       "          family_status  family_status_id gender income_type  debt  \\\n",
       "0       женат / замужем                 0      F   сотрудник     0   \n",
       "1       женат / замужем                 0      F   сотрудник     0   \n",
       "2       женат / замужем                 0      M   сотрудник     0   \n",
       "3       женат / замужем                 0      M   сотрудник     0   \n",
       "4      гражданский брак                 1      F   пенсионер     0   \n",
       "...                 ...               ...    ...         ...   ...   \n",
       "21520  гражданский брак                 1      F   компаньон     0   \n",
       "21521   женат / замужем                 0      F   пенсионер     0   \n",
       "21522  гражданский брак                 1      M   сотрудник     1   \n",
       "21523   женат / замужем                 0      M   сотрудник     1   \n",
       "21524   женат / замужем                 0      F   сотрудник     0   \n",
       "\n",
       "       total_income                       purpose total_income_category  \\\n",
       "0            253875                 покупка жилья                     B   \n",
       "1            112080       приобретение автомобиля                     C   \n",
       "2            145885                 покупка жилья                     C   \n",
       "3            267628    дополнительное образование                     B   \n",
       "4            158616               сыграть свадьбу                     C   \n",
       "...             ...                           ...                   ...   \n",
       "21520        224791             операции с жильем                     B   \n",
       "21521        155999          сделка с автомобилем                     C   \n",
       "21522         89672                  недвижимость                     C   \n",
       "21523        244093  на покупку своего автомобиля                     B   \n",
       "21524         82047         на покупку автомобиля                     C   \n",
       "\n",
       "               purpose_category  \n",
       "0      операции с недвижимостью  \n",
       "1        операции с автомобилем  \n",
       "2      операции с недвижимостью  \n",
       "3         получение образования  \n",
       "4            проведение свадьбы  \n",
       "...                         ...  \n",
       "21520  операции с недвижимостью  \n",
       "21521    операции с автомобилем  \n",
       "21522  операции с недвижимостью  \n",
       "21523    операции с автомобилем  \n",
       "21524    операции с автомобилем  \n",
       "\n",
       "[21331 rows x 14 columns]"
      ]
     },
     "execution_count": 22,
     "metadata": {},
     "output_type": "execute_result"
    }
   ],
   "source": [
    "data"
   ]
  },
  {
   "cell_type": "markdown",
   "id": "a4a0f918",
   "metadata": {
    "deletable": false,
    "editable": false,
    "id": "c5d66278"
   },
   "source": [
    "#### 3.1 Есть ли зависимость между количеством детей и возвратом кредита в срок?"
   ]
  },
  {
   "cell_type": "code",
   "execution_count": 23,
   "id": "352bef92",
   "metadata": {},
   "outputs": [
    {
     "data": {
      "text/html": [
       "<div>\n",
       "<style scoped>\n",
       "    .dataframe tbody tr th:only-of-type {\n",
       "        vertical-align: middle;\n",
       "    }\n",
       "\n",
       "    .dataframe tbody tr th {\n",
       "        vertical-align: top;\n",
       "    }\n",
       "\n",
       "    .dataframe thead tr th {\n",
       "        text-align: left;\n",
       "    }\n",
       "\n",
       "    .dataframe thead tr:last-of-type th {\n",
       "        text-align: right;\n",
       "    }\n",
       "</style>\n",
       "<table border=\"1\" class=\"dataframe\">\n",
       "  <thead>\n",
       "    <tr>\n",
       "      <th></th>\n",
       "      <th>sum</th>\n",
       "      <th>count</th>\n",
       "      <th>mean</th>\n",
       "    </tr>\n",
       "    <tr>\n",
       "      <th></th>\n",
       "      <th>debt</th>\n",
       "      <th>debt</th>\n",
       "      <th>debt</th>\n",
       "    </tr>\n",
       "    <tr>\n",
       "      <th>children</th>\n",
       "      <th></th>\n",
       "      <th></th>\n",
       "      <th></th>\n",
       "    </tr>\n",
       "  </thead>\n",
       "  <tbody>\n",
       "    <tr>\n",
       "      <th>0</th>\n",
       "      <td>1063</td>\n",
       "      <td>14091</td>\n",
       "      <td>7.54</td>\n",
       "    </tr>\n",
       "    <tr>\n",
       "      <th>1</th>\n",
       "      <td>444</td>\n",
       "      <td>4808</td>\n",
       "      <td>9.23</td>\n",
       "    </tr>\n",
       "    <tr>\n",
       "      <th>2</th>\n",
       "      <td>194</td>\n",
       "      <td>2052</td>\n",
       "      <td>9.45</td>\n",
       "    </tr>\n",
       "    <tr>\n",
       "      <th>3</th>\n",
       "      <td>27</td>\n",
       "      <td>330</td>\n",
       "      <td>8.18</td>\n",
       "    </tr>\n",
       "    <tr>\n",
       "      <th>4</th>\n",
       "      <td>4</td>\n",
       "      <td>41</td>\n",
       "      <td>9.76</td>\n",
       "    </tr>\n",
       "    <tr>\n",
       "      <th>5</th>\n",
       "      <td>0</td>\n",
       "      <td>9</td>\n",
       "      <td>0.00</td>\n",
       "    </tr>\n",
       "  </tbody>\n",
       "</table>\n",
       "</div>"
      ],
      "text/plain": [
       "           sum  count  mean\n",
       "          debt   debt  debt\n",
       "children                   \n",
       "0         1063  14091  7.54\n",
       "1          444   4808  9.23\n",
       "2          194   2052  9.45\n",
       "3           27    330  8.18\n",
       "4            4     41  9.76\n",
       "5            0      9  0.00"
      ]
     },
     "execution_count": 23,
     "metadata": {},
     "output_type": "execute_result"
    }
   ],
   "source": [
    "children_pivot = data.pivot_table(index=['children'], values='debt', aggfunc=['sum', 'count', 'mean'])\n",
    "children_pivot['mean'] = round(children_pivot['mean'] * 100, 2)\n",
    "children_pivot"
   ]
  },
  {
   "cell_type": "markdown",
   "id": "77ebcfb7",
   "metadata": {
    "deletable": false,
    "id": "3a6b99ec"
   },
   "source": [
    "**Вывод:** Люди, не имеющие детей чаще возвращают кредит в срок. Далее с увеличением количества детей, растет количество должников."
   ]
  },
  {
   "cell_type": "markdown",
   "id": "76cfe3e7",
   "metadata": {
    "deletable": false,
    "editable": false,
    "id": "97be82ca"
   },
   "source": [
    "#### 3.2 Есть ли зависимость между семейным положением и возвратом кредита в срок?"
   ]
  },
  {
   "cell_type": "code",
   "execution_count": 24,
   "id": "e61918de",
   "metadata": {
    "deletable": false,
    "id": "dc3f7ee8"
   },
   "outputs": [
    {
     "data": {
      "text/html": [
       "<div>\n",
       "<style scoped>\n",
       "    .dataframe tbody tr th:only-of-type {\n",
       "        vertical-align: middle;\n",
       "    }\n",
       "\n",
       "    .dataframe tbody tr th {\n",
       "        vertical-align: top;\n",
       "    }\n",
       "\n",
       "    .dataframe thead tr th {\n",
       "        text-align: left;\n",
       "    }\n",
       "\n",
       "    .dataframe thead tr:last-of-type th {\n",
       "        text-align: right;\n",
       "    }\n",
       "</style>\n",
       "<table border=\"1\" class=\"dataframe\">\n",
       "  <thead>\n",
       "    <tr>\n",
       "      <th></th>\n",
       "      <th>sum</th>\n",
       "      <th>count</th>\n",
       "      <th>mean</th>\n",
       "    </tr>\n",
       "    <tr>\n",
       "      <th></th>\n",
       "      <th>debt</th>\n",
       "      <th>debt</th>\n",
       "      <th>debt</th>\n",
       "    </tr>\n",
       "    <tr>\n",
       "      <th>family_status</th>\n",
       "      <th></th>\n",
       "      <th></th>\n",
       "      <th></th>\n",
       "    </tr>\n",
       "  </thead>\n",
       "  <tbody>\n",
       "    <tr>\n",
       "      <th>Не женат / не замужем</th>\n",
       "      <td>273</td>\n",
       "      <td>2796</td>\n",
       "      <td>9.76</td>\n",
       "    </tr>\n",
       "    <tr>\n",
       "      <th>в разводе</th>\n",
       "      <td>84</td>\n",
       "      <td>1189</td>\n",
       "      <td>7.06</td>\n",
       "    </tr>\n",
       "    <tr>\n",
       "      <th>вдовец / вдова</th>\n",
       "      <td>63</td>\n",
       "      <td>951</td>\n",
       "      <td>6.62</td>\n",
       "    </tr>\n",
       "    <tr>\n",
       "      <th>гражданский брак</th>\n",
       "      <td>385</td>\n",
       "      <td>4134</td>\n",
       "      <td>9.31</td>\n",
       "    </tr>\n",
       "    <tr>\n",
       "      <th>женат / замужем</th>\n",
       "      <td>927</td>\n",
       "      <td>12261</td>\n",
       "      <td>7.56</td>\n",
       "    </tr>\n",
       "  </tbody>\n",
       "</table>\n",
       "</div>"
      ],
      "text/plain": [
       "                       sum  count  mean\n",
       "                      debt   debt  debt\n",
       "family_status                          \n",
       "Не женат / не замужем  273   2796  9.76\n",
       "в разводе               84   1189  7.06\n",
       "вдовец / вдова          63    951  6.62\n",
       "гражданский брак       385   4134  9.31\n",
       "женат / замужем        927  12261  7.56"
      ]
     },
     "execution_count": 24,
     "metadata": {},
     "output_type": "execute_result"
    }
   ],
   "source": [
    "family_pivot = data.pivot_table(index=['family_status'], values='debt', aggfunc=['sum', 'count', 'mean'])\n",
    "family_pivot['mean'] = round(family_pivot['mean'] * 100, 2)\n",
    "family_pivot"
   ]
  },
  {
   "cell_type": "markdown",
   "id": "35ccba6e",
   "metadata": {
    "deletable": false,
    "id": "1cef7837"
   },
   "source": [
    "**Вывод:** Люди, находящиеся в разводе и являющиеся вдовцами/вдовами реже являются должниками, чем остальные категории людей. "
   ]
  },
  {
   "cell_type": "markdown",
   "id": "0448b75d",
   "metadata": {
    "deletable": false,
    "editable": false,
    "id": "1e8b2fca"
   },
   "source": [
    "#### 3.3 Есть ли зависимость между уровнем дохода и возвратом кредита в срок?"
   ]
  },
  {
   "cell_type": "code",
   "execution_count": 25,
   "id": "d06d03e9",
   "metadata": {
    "deletable": false,
    "id": "cd7e3720"
   },
   "outputs": [
    {
     "data": {
      "text/html": [
       "<div>\n",
       "<style scoped>\n",
       "    .dataframe tbody tr th:only-of-type {\n",
       "        vertical-align: middle;\n",
       "    }\n",
       "\n",
       "    .dataframe tbody tr th {\n",
       "        vertical-align: top;\n",
       "    }\n",
       "\n",
       "    .dataframe thead tr th {\n",
       "        text-align: left;\n",
       "    }\n",
       "\n",
       "    .dataframe thead tr:last-of-type th {\n",
       "        text-align: right;\n",
       "    }\n",
       "</style>\n",
       "<table border=\"1\" class=\"dataframe\">\n",
       "  <thead>\n",
       "    <tr>\n",
       "      <th></th>\n",
       "      <th>sum</th>\n",
       "      <th>count</th>\n",
       "      <th>mean</th>\n",
       "    </tr>\n",
       "    <tr>\n",
       "      <th></th>\n",
       "      <th>debt</th>\n",
       "      <th>debt</th>\n",
       "      <th>debt</th>\n",
       "    </tr>\n",
       "    <tr>\n",
       "      <th>total_income_category</th>\n",
       "      <th></th>\n",
       "      <th></th>\n",
       "      <th></th>\n",
       "    </tr>\n",
       "  </thead>\n",
       "  <tbody>\n",
       "    <tr>\n",
       "      <th>A</th>\n",
       "      <td>2</td>\n",
       "      <td>25</td>\n",
       "      <td>8.00</td>\n",
       "    </tr>\n",
       "    <tr>\n",
       "      <th>B</th>\n",
       "      <td>354</td>\n",
       "      <td>5014</td>\n",
       "      <td>7.06</td>\n",
       "    </tr>\n",
       "    <tr>\n",
       "      <th>C</th>\n",
       "      <td>1353</td>\n",
       "      <td>15921</td>\n",
       "      <td>8.50</td>\n",
       "    </tr>\n",
       "    <tr>\n",
       "      <th>D</th>\n",
       "      <td>21</td>\n",
       "      <td>349</td>\n",
       "      <td>6.02</td>\n",
       "    </tr>\n",
       "    <tr>\n",
       "      <th>E</th>\n",
       "      <td>2</td>\n",
       "      <td>22</td>\n",
       "      <td>9.09</td>\n",
       "    </tr>\n",
       "  </tbody>\n",
       "</table>\n",
       "</div>"
      ],
      "text/plain": [
       "                        sum  count  mean\n",
       "                       debt   debt  debt\n",
       "total_income_category                   \n",
       "A                         2     25  8.00\n",
       "B                       354   5014  7.06\n",
       "C                      1353  15921  8.50\n",
       "D                        21    349  6.02\n",
       "E                         2     22  9.09"
      ]
     },
     "execution_count": 25,
     "metadata": {},
     "output_type": "execute_result"
    }
   ],
   "source": [
    "income_pivot = data.pivot_table(index=['total_income_category'], values='debt', aggfunc=['sum', 'count', 'mean'])\n",
    "income_pivot['mean'] = round(income_pivot['mean'] * 100, 2)\n",
    "income_pivot"
   ]
  },
  {
   "cell_type": "markdown",
   "id": "bd385627",
   "metadata": {
    "deletable": false,
    "id": "e8593def"
   },
   "source": [
    "**Вывод:** \\\n",
    "Категории уровней дохода: \\\n",
    "0–30000 — 'E'; \\\n",
    "30001–50000 — 'D'; \\\n",
    "50001–200000 — 'C'; \\\n",
    "200001–1000000 — 'B'; \\\n",
    "1000001 и выше — 'A' \n",
    "\n",
    "Будем рассматривать категории 'B' и 'C', так как по ним достаточно данных. Исходя из них можно сказать, что люди с меньшим доходом чаще являются должниками. "
   ]
  },
  {
   "cell_type": "markdown",
   "id": "1a5bc3a0",
   "metadata": {
    "deletable": false,
    "editable": false,
    "id": "99ecbd1f"
   },
   "source": [
    "#### 3.4 Как разные цели кредита влияют на его возврат в срок?"
   ]
  },
  {
   "cell_type": "code",
   "execution_count": 26,
   "id": "df4af62a",
   "metadata": {
    "deletable": false,
    "id": "2b687290"
   },
   "outputs": [
    {
     "data": {
      "text/html": [
       "<div>\n",
       "<style scoped>\n",
       "    .dataframe tbody tr th:only-of-type {\n",
       "        vertical-align: middle;\n",
       "    }\n",
       "\n",
       "    .dataframe tbody tr th {\n",
       "        vertical-align: top;\n",
       "    }\n",
       "\n",
       "    .dataframe thead tr th {\n",
       "        text-align: left;\n",
       "    }\n",
       "\n",
       "    .dataframe thead tr:last-of-type th {\n",
       "        text-align: right;\n",
       "    }\n",
       "</style>\n",
       "<table border=\"1\" class=\"dataframe\">\n",
       "  <thead>\n",
       "    <tr>\n",
       "      <th></th>\n",
       "      <th>sum</th>\n",
       "      <th>count</th>\n",
       "      <th>mean</th>\n",
       "    </tr>\n",
       "    <tr>\n",
       "      <th></th>\n",
       "      <th>debt</th>\n",
       "      <th>debt</th>\n",
       "      <th>debt</th>\n",
       "    </tr>\n",
       "    <tr>\n",
       "      <th>purpose_category</th>\n",
       "      <th></th>\n",
       "      <th></th>\n",
       "      <th></th>\n",
       "    </tr>\n",
       "  </thead>\n",
       "  <tbody>\n",
       "    <tr>\n",
       "      <th>операции с автомобилем</th>\n",
       "      <td>400</td>\n",
       "      <td>4279</td>\n",
       "      <td>9.35</td>\n",
       "    </tr>\n",
       "    <tr>\n",
       "      <th>операции с недвижимостью</th>\n",
       "      <td>780</td>\n",
       "      <td>10751</td>\n",
       "      <td>7.26</td>\n",
       "    </tr>\n",
       "    <tr>\n",
       "      <th>получение образования</th>\n",
       "      <td>369</td>\n",
       "      <td>3988</td>\n",
       "      <td>9.25</td>\n",
       "    </tr>\n",
       "    <tr>\n",
       "      <th>проведение свадьбы</th>\n",
       "      <td>183</td>\n",
       "      <td>2313</td>\n",
       "      <td>7.91</td>\n",
       "    </tr>\n",
       "  </tbody>\n",
       "</table>\n",
       "</div>"
      ],
      "text/plain": [
       "                          sum  count  mean\n",
       "                         debt   debt  debt\n",
       "purpose_category                          \n",
       "операции с автомобилем    400   4279  9.35\n",
       "операции с недвижимостью  780  10751  7.26\n",
       "получение образования     369   3988  9.25\n",
       "проведение свадьбы        183   2313  7.91"
      ]
     },
     "execution_count": 26,
     "metadata": {},
     "output_type": "execute_result"
    }
   ],
   "source": [
    "purpose_pivot = data.pivot_table(index=['purpose_category'], values='debt', aggfunc=['sum', 'count', 'mean'])\n",
    "purpose_pivot['mean'] = round(purpose_pivot['mean'] * 100, 2)\n",
    "purpose_pivot"
   ]
  },
  {
   "cell_type": "markdown",
   "id": "9c712bfb",
   "metadata": {
    "deletable": false,
    "id": "b4bb2ce6"
   },
   "source": [
    "**Вывод:** Люди, которые берут кредит на покупку недвижимости и проведение свадьбы чаще возвращают его в срок, в отличие от тех, которые берут с целью получения образования или покупки автомобиля. "
   ]
  },
  {
   "cell_type": "markdown",
   "id": "5b174219",
   "metadata": {
    "deletable": false,
    "editable": false,
    "id": "09c3ac4c"
   },
   "source": [
    "#### 3.5 Приведите возможные причины появления пропусков в исходных данных."
   ]
  },
  {
   "cell_type": "markdown",
   "id": "91102e3b",
   "metadata": {
    "deletable": false,
    "id": "9da2ceda"
   },
   "source": [
    "*Ответ:*\n",
    "* Случайные пропуски - обычно причиной их возникновения является человеческий фактор, например, забыли заполнить значение.                            \n",
    "* Неслучайные пропуски - данные не были записаны специально. Обычно закономерность таких пропусков можно проанализировать."
   ]
  },
  {
   "cell_type": "markdown",
   "id": "62ff945e",
   "metadata": {
    "deletable": false,
    "editable": false,
    "id": "7b0487d6"
   },
   "source": [
    "#### 3.6 Объясните, почему заполнить пропуски медианным значением — лучшее решение для количественных переменных."
   ]
  },
  {
   "cell_type": "markdown",
   "id": "4fc7ee27",
   "metadata": {
    "deletable": false,
    "id": "7ecf2b8e"
   },
   "source": [
    "*Ответ:* На медиану в данных не влияют выбросы (сильно отклоняющиеся от остальных значения) и шум, потому что она находится как средний элемент в отсортированных данных."
   ]
  },
  {
   "cell_type": "markdown",
   "id": "a9daf0be",
   "metadata": {
    "deletable": false,
    "editable": false,
    "id": "6db5255a"
   },
   "source": [
    "### Шаг 4: общий вывод."
   ]
  },
  {
   "cell_type": "markdown",
   "id": "2000f952",
   "metadata": {
    "deletable": false,
    "id": "bad65432"
   },
   "source": [
    "В ходе предобработки данных были заполнены пропуски, обработаны дубликаты, удалены аномальные значения, добавлены категории для некоторых данных. Это помогло улучшить результаты исследования.\n",
    "\n",
    "В ходе выявления зависимости различных факторов на возврат кредита в срок, были сделаны следующие выводы:\n",
    "* С увеличением количества детей, растет число должников;\n",
    "* Люди с меньшим уровнем дохода, чаще являются должниками;\n",
    "* Вдовы и разведенные люди реже имеют долг;\n",
    "* Лица, которые брали кредит на проведение свадьбы или покупку недвижимости, лучше его выплачивают.\n",
    "         \n",
    "Самыми надежными заемщиками являются люди без детей, разведенные, вдовы. Обычно цели надежных заемщиков - проведение свадьбы, покупка недвижимости. \n",
    "\n",
    "Самые рискованные заемщики - лица с детьми, не женатые. Обычно цели таких заемщиков - покупка автомобиля, получение образования. \n",
    "\n",
    "Рекомендую обратить внимание на выводы по каждой зависимости. "
   ]
  }
 ],
 "metadata": {
  "ExecuteTimeLog": [
   {
    "duration": 710,
    "start_time": "2023-12-29T19:43:59.195Z"
   },
   {
    "duration": 20,
    "start_time": "2023-12-29T19:43:59.906Z"
   },
   {
    "duration": 15,
    "start_time": "2023-12-29T19:43:59.927Z"
   },
   {
    "duration": 9,
    "start_time": "2023-12-29T19:43:59.943Z"
   },
   {
    "duration": 34,
    "start_time": "2023-12-29T19:44:00.036Z"
   },
   {
    "duration": 5,
    "start_time": "2023-12-29T19:44:00.283Z"
   },
   {
    "duration": 7,
    "start_time": "2023-12-29T19:44:00.451Z"
   },
   {
    "duration": 5,
    "start_time": "2023-12-29T19:44:00.699Z"
   },
   {
    "duration": 7,
    "start_time": "2023-12-29T19:44:00.866Z"
   },
   {
    "duration": 5,
    "start_time": "2023-12-29T19:44:01.032Z"
   },
   {
    "duration": 35,
    "start_time": "2023-12-29T19:44:01.284Z"
   },
   {
    "duration": 10,
    "start_time": "2023-12-29T19:44:01.449Z"
   },
   {
    "duration": 3,
    "start_time": "2023-12-29T19:44:01.700Z"
   },
   {
    "duration": 11,
    "start_time": "2023-12-29T19:44:01.949Z"
   },
   {
    "duration": 19,
    "start_time": "2023-12-29T19:44:02.117Z"
   },
   {
    "duration": 16,
    "start_time": "2023-12-29T19:44:02.197Z"
   },
   {
    "duration": 3,
    "start_time": "2023-12-29T19:44:02.449Z"
   },
   {
    "duration": 13,
    "start_time": "2023-12-29T19:44:02.533Z"
   },
   {
    "duration": 6,
    "start_time": "2023-12-29T19:44:02.699Z"
   },
   {
    "duration": 4,
    "start_time": "2023-12-29T19:44:02.867Z"
   },
   {
    "duration": 8,
    "start_time": "2023-12-29T19:44:02.949Z"
   },
   {
    "duration": 2,
    "start_time": "2023-12-29T19:44:03.200Z"
   },
   {
    "duration": 2,
    "start_time": "2023-12-29T19:44:03.451Z"
   },
   {
    "duration": 3,
    "start_time": "2023-12-29T19:44:08.516Z"
   },
   {
    "duration": 16,
    "start_time": "2023-12-29T19:44:08.870Z"
   },
   {
    "duration": 21,
    "start_time": "2023-12-29T19:44:39.705Z"
   },
   {
    "duration": 4,
    "start_time": "2023-12-29T19:48:13.341Z"
   },
   {
    "duration": 4,
    "start_time": "2023-12-29T19:48:22.688Z"
   },
   {
    "duration": 77,
    "start_time": "2023-12-29T19:48:25.741Z"
   },
   {
    "duration": 8,
    "start_time": "2023-12-29T19:48:31.447Z"
   },
   {
    "duration": 14,
    "start_time": "2023-12-29T19:48:34.572Z"
   },
   {
    "duration": 12,
    "start_time": "2023-12-29T19:49:20.563Z"
   },
   {
    "duration": 10,
    "start_time": "2023-12-29T19:49:58.364Z"
   },
   {
    "duration": 7,
    "start_time": "2023-12-29T19:50:33.137Z"
   },
   {
    "duration": 7,
    "start_time": "2023-12-29T19:51:06.119Z"
   },
   {
    "duration": 4,
    "start_time": "2023-12-29T19:51:35.312Z"
   },
   {
    "duration": 20,
    "start_time": "2023-12-29T19:51:40.619Z"
   },
   {
    "duration": 7,
    "start_time": "2023-12-29T19:51:52.817Z"
   },
   {
    "duration": 7,
    "start_time": "2023-12-29T19:53:26.388Z"
   },
   {
    "duration": 7,
    "start_time": "2023-12-29T19:53:44.877Z"
   },
   {
    "duration": 416,
    "start_time": "2023-12-29T19:54:44.119Z"
   },
   {
    "duration": 21,
    "start_time": "2023-12-29T19:54:44.536Z"
   },
   {
    "duration": 42,
    "start_time": "2023-12-29T19:54:44.559Z"
   },
   {
    "duration": 9,
    "start_time": "2023-12-29T19:54:44.603Z"
   },
   {
    "duration": 33,
    "start_time": "2023-12-29T19:54:44.613Z"
   },
   {
    "duration": 3,
    "start_time": "2023-12-29T19:54:44.648Z"
   },
   {
    "duration": 9,
    "start_time": "2023-12-29T19:54:44.652Z"
   },
   {
    "duration": 6,
    "start_time": "2023-12-29T19:54:44.663Z"
   },
   {
    "duration": 23,
    "start_time": "2023-12-29T19:54:44.671Z"
   },
   {
    "duration": 10,
    "start_time": "2023-12-29T19:54:44.697Z"
   },
   {
    "duration": 40,
    "start_time": "2023-12-29T19:54:44.708Z"
   },
   {
    "duration": 11,
    "start_time": "2023-12-29T19:54:44.750Z"
   },
   {
    "duration": 16,
    "start_time": "2023-12-29T19:54:44.762Z"
   },
   {
    "duration": 17,
    "start_time": "2023-12-29T19:54:44.780Z"
   },
   {
    "duration": 19,
    "start_time": "2023-12-29T19:54:44.798Z"
   },
   {
    "duration": 16,
    "start_time": "2023-12-29T19:54:44.819Z"
   },
   {
    "duration": 4,
    "start_time": "2023-12-29T19:54:44.837Z"
   },
   {
    "duration": 24,
    "start_time": "2023-12-29T19:54:44.842Z"
   },
   {
    "duration": 8,
    "start_time": "2023-12-29T19:54:44.868Z"
   },
   {
    "duration": 8,
    "start_time": "2023-12-29T19:54:44.877Z"
   },
   {
    "duration": 9,
    "start_time": "2023-12-29T19:54:44.887Z"
   },
   {
    "duration": 4,
    "start_time": "2023-12-29T19:54:44.897Z"
   },
   {
    "duration": 7,
    "start_time": "2023-12-29T19:54:44.902Z"
   },
   {
    "duration": 4,
    "start_time": "2023-12-29T19:54:44.910Z"
   },
   {
    "duration": 8,
    "start_time": "2023-12-29T19:54:56.013Z"
   },
   {
    "duration": 4,
    "start_time": "2023-12-29T19:55:03.446Z"
   },
   {
    "duration": 6,
    "start_time": "2023-12-29T19:55:08.161Z"
   },
   {
    "duration": 6,
    "start_time": "2023-12-29T19:55:19.935Z"
   },
   {
    "duration": 6,
    "start_time": "2023-12-29T19:55:24.298Z"
   },
   {
    "duration": 5,
    "start_time": "2023-12-29T19:55:35.480Z"
   },
   {
    "duration": 15,
    "start_time": "2023-12-29T20:00:14.864Z"
   },
   {
    "duration": 3,
    "start_time": "2023-12-29T20:01:01.681Z"
   },
   {
    "duration": 4,
    "start_time": "2023-12-29T20:01:11.319Z"
   },
   {
    "duration": 6,
    "start_time": "2023-12-29T20:01:15.347Z"
   },
   {
    "duration": 5,
    "start_time": "2023-12-29T20:01:48.834Z"
   },
   {
    "duration": 6,
    "start_time": "2023-12-29T20:02:09.252Z"
   },
   {
    "duration": 9,
    "start_time": "2023-12-29T20:04:28.732Z"
   },
   {
    "duration": 7,
    "start_time": "2023-12-29T20:04:35.994Z"
   },
   {
    "duration": 71,
    "start_time": "2023-12-29T20:06:12.931Z"
   },
   {
    "duration": 5,
    "start_time": "2023-12-29T20:06:15.783Z"
   },
   {
    "duration": 7,
    "start_time": "2023-12-29T20:06:19.636Z"
   },
   {
    "duration": 20,
    "start_time": "2023-12-29T20:06:42.841Z"
   },
   {
    "duration": 7,
    "start_time": "2023-12-29T20:24:20.438Z"
   },
   {
    "duration": 9,
    "start_time": "2023-12-29T20:25:45.487Z"
   },
   {
    "duration": 8,
    "start_time": "2023-12-29T20:25:53.548Z"
   },
   {
    "duration": 7,
    "start_time": "2023-12-29T20:28:10.009Z"
   },
   {
    "duration": 7,
    "start_time": "2023-12-29T20:28:31.156Z"
   },
   {
    "duration": 8,
    "start_time": "2023-12-29T20:28:34.848Z"
   },
   {
    "duration": 8,
    "start_time": "2023-12-29T20:34:28.915Z"
   },
   {
    "duration": 5,
    "start_time": "2023-12-29T20:34:36.556Z"
   },
   {
    "duration": 71,
    "start_time": "2023-12-29T20:35:14.677Z"
   },
   {
    "duration": 11,
    "start_time": "2023-12-29T20:35:25.517Z"
   },
   {
    "duration": 8,
    "start_time": "2023-12-29T20:37:10.882Z"
   },
   {
    "duration": 9,
    "start_time": "2023-12-29T20:37:43.588Z"
   },
   {
    "duration": 11,
    "start_time": "2023-12-29T20:39:09.787Z"
   },
   {
    "duration": 17,
    "start_time": "2023-12-29T20:39:46.055Z"
   },
   {
    "duration": 9,
    "start_time": "2023-12-29T20:40:05.897Z"
   },
   {
    "duration": 515,
    "start_time": "2023-12-29T20:46:45.564Z"
   },
   {
    "duration": 23,
    "start_time": "2023-12-29T20:46:46.082Z"
   },
   {
    "duration": 15,
    "start_time": "2023-12-29T20:46:46.106Z"
   },
   {
    "duration": 10,
    "start_time": "2023-12-29T20:46:46.123Z"
   },
   {
    "duration": 62,
    "start_time": "2023-12-29T20:46:46.134Z"
   },
   {
    "duration": 8,
    "start_time": "2023-12-29T20:46:46.199Z"
   },
   {
    "duration": 7,
    "start_time": "2023-12-29T20:46:46.209Z"
   },
   {
    "duration": 4,
    "start_time": "2023-12-29T20:46:46.218Z"
   },
   {
    "duration": 12,
    "start_time": "2023-12-29T20:46:46.223Z"
   },
   {
    "duration": 4,
    "start_time": "2023-12-29T20:46:46.239Z"
   },
   {
    "duration": 60,
    "start_time": "2023-12-29T20:46:46.244Z"
   },
   {
    "duration": 9,
    "start_time": "2023-12-29T20:46:46.305Z"
   },
   {
    "duration": 4,
    "start_time": "2023-12-29T20:46:46.316Z"
   },
   {
    "duration": 12,
    "start_time": "2023-12-29T20:46:46.321Z"
   },
   {
    "duration": 47,
    "start_time": "2023-12-29T20:46:46.334Z"
   },
   {
    "duration": 19,
    "start_time": "2023-12-29T20:46:46.383Z"
   },
   {
    "duration": 5,
    "start_time": "2023-12-29T20:46:46.403Z"
   },
   {
    "duration": 11,
    "start_time": "2023-12-29T20:46:46.409Z"
   },
   {
    "duration": 6,
    "start_time": "2023-12-29T20:46:46.421Z"
   },
   {
    "duration": 7,
    "start_time": "2023-12-29T20:46:46.428Z"
   },
   {
    "duration": 36,
    "start_time": "2023-12-29T20:46:46.437Z"
   },
   {
    "duration": 28,
    "start_time": "2023-12-29T20:46:46.477Z"
   },
   {
    "duration": 16,
    "start_time": "2023-12-29T20:46:46.507Z"
   },
   {
    "duration": 66,
    "start_time": "2023-12-29T20:46:46.525Z"
   },
   {
    "duration": 0,
    "start_time": "2023-12-29T20:46:46.593Z"
   },
   {
    "duration": 0,
    "start_time": "2023-12-29T20:46:46.595Z"
   },
   {
    "duration": 8,
    "start_time": "2023-12-29T20:47:22.423Z"
   },
   {
    "duration": 3,
    "start_time": "2023-12-29T20:47:39.508Z"
   },
   {
    "duration": 2,
    "start_time": "2023-12-29T20:47:41.233Z"
   },
   {
    "duration": 2,
    "start_time": "2023-12-29T20:47:42.944Z"
   },
   {
    "duration": 68,
    "start_time": "2023-12-29T20:52:48.685Z"
   },
   {
    "duration": 66,
    "start_time": "2023-12-29T20:52:56.518Z"
   },
   {
    "duration": 11,
    "start_time": "2023-12-29T20:53:08.678Z"
   },
   {
    "duration": 19,
    "start_time": "2023-12-29T20:53:33.291Z"
   },
   {
    "duration": 31,
    "start_time": "2023-12-29T20:53:45.862Z"
   },
   {
    "duration": 10,
    "start_time": "2023-12-29T20:53:53.383Z"
   },
   {
    "duration": 5,
    "start_time": "2023-12-29T20:54:45.232Z"
   },
   {
    "duration": 884,
    "start_time": "2023-12-29T20:55:58.599Z"
   },
   {
    "duration": 19,
    "start_time": "2023-12-29T20:56:05.211Z"
   },
   {
    "duration": 8,
    "start_time": "2023-12-29T20:56:07.222Z"
   },
   {
    "duration": 12,
    "start_time": "2023-12-29T20:56:27.575Z"
   },
   {
    "duration": 11,
    "start_time": "2023-12-29T20:56:36.101Z"
   },
   {
    "duration": 10,
    "start_time": "2023-12-29T20:56:46.012Z"
   },
   {
    "duration": 15,
    "start_time": "2023-12-29T20:57:59.721Z"
   },
   {
    "duration": 13,
    "start_time": "2023-12-29T20:58:18.971Z"
   },
   {
    "duration": 9,
    "start_time": "2023-12-29T21:07:56.028Z"
   },
   {
    "duration": 11,
    "start_time": "2023-12-29T21:14:40.734Z"
   },
   {
    "duration": 11,
    "start_time": "2023-12-29T21:14:41.541Z"
   },
   {
    "duration": 16,
    "start_time": "2023-12-29T21:16:03.375Z"
   },
   {
    "duration": 11,
    "start_time": "2023-12-29T21:16:09.534Z"
   },
   {
    "duration": 11,
    "start_time": "2023-12-29T21:16:31.344Z"
   },
   {
    "duration": 10,
    "start_time": "2023-12-29T21:16:59.493Z"
   },
   {
    "duration": 10,
    "start_time": "2023-12-29T21:17:15.288Z"
   },
   {
    "duration": 9,
    "start_time": "2023-12-29T21:27:20.376Z"
   },
   {
    "duration": 93,
    "start_time": "2023-12-29T21:27:51.984Z"
   },
   {
    "duration": 12,
    "start_time": "2023-12-29T21:27:59.470Z"
   },
   {
    "duration": 11,
    "start_time": "2023-12-29T21:28:35.156Z"
   },
   {
    "duration": 11,
    "start_time": "2023-12-29T21:29:18.759Z"
   },
   {
    "duration": 11,
    "start_time": "2023-12-29T21:29:27.831Z"
   },
   {
    "duration": 10,
    "start_time": "2023-12-29T21:29:38.094Z"
   },
   {
    "duration": 11,
    "start_time": "2023-12-29T21:29:51.075Z"
   },
   {
    "duration": 10,
    "start_time": "2023-12-29T21:30:00.376Z"
   },
   {
    "duration": 665,
    "start_time": "2023-12-30T00:36:35.665Z"
   },
   {
    "duration": 23,
    "start_time": "2023-12-30T00:36:36.332Z"
   },
   {
    "duration": 16,
    "start_time": "2023-12-30T00:36:36.356Z"
   },
   {
    "duration": 10,
    "start_time": "2023-12-30T00:36:36.374Z"
   },
   {
    "duration": 49,
    "start_time": "2023-12-30T00:36:36.385Z"
   },
   {
    "duration": 4,
    "start_time": "2023-12-30T00:36:36.436Z"
   },
   {
    "duration": 10,
    "start_time": "2023-12-30T00:36:36.441Z"
   },
   {
    "duration": 5,
    "start_time": "2023-12-30T00:36:36.452Z"
   },
   {
    "duration": 16,
    "start_time": "2023-12-30T00:36:36.458Z"
   },
   {
    "duration": 4,
    "start_time": "2023-12-30T00:36:36.477Z"
   },
   {
    "duration": 55,
    "start_time": "2023-12-30T00:36:36.482Z"
   },
   {
    "duration": 10,
    "start_time": "2023-12-30T00:36:36.539Z"
   },
   {
    "duration": 4,
    "start_time": "2023-12-30T00:36:36.550Z"
   },
   {
    "duration": 22,
    "start_time": "2023-12-30T00:36:36.555Z"
   },
   {
    "duration": 22,
    "start_time": "2023-12-30T00:36:36.578Z"
   },
   {
    "duration": 18,
    "start_time": "2023-12-30T00:36:36.614Z"
   },
   {
    "duration": 4,
    "start_time": "2023-12-30T00:36:36.634Z"
   },
   {
    "duration": 12,
    "start_time": "2023-12-30T00:36:36.639Z"
   },
   {
    "duration": 6,
    "start_time": "2023-12-30T00:36:36.652Z"
   },
   {
    "duration": 4,
    "start_time": "2023-12-30T00:36:36.659Z"
   },
   {
    "duration": 11,
    "start_time": "2023-12-30T00:36:36.665Z"
   },
   {
    "duration": 54,
    "start_time": "2023-12-30T00:36:36.678Z"
   },
   {
    "duration": 10,
    "start_time": "2023-12-30T00:36:36.734Z"
   },
   {
    "duration": 12,
    "start_time": "2023-12-30T00:36:36.745Z"
   },
   {
    "duration": 13,
    "start_time": "2023-12-30T00:36:36.759Z"
   },
   {
    "duration": 41,
    "start_time": "2023-12-30T00:36:36.774Z"
   },
   {
    "duration": 76,
    "start_time": "2023-12-31T19:56:51.606Z"
   },
   {
    "duration": 74,
    "start_time": "2023-12-31T19:58:41.774Z"
   },
   {
    "duration": 46,
    "start_time": "2023-12-31T20:19:39.272Z"
   },
   {
    "duration": 1095,
    "start_time": "2023-12-31T20:19:55.527Z"
   },
   {
    "duration": 22,
    "start_time": "2023-12-31T20:19:56.624Z"
   },
   {
    "duration": 14,
    "start_time": "2023-12-31T20:19:56.647Z"
   },
   {
    "duration": 17,
    "start_time": "2023-12-31T20:19:56.663Z"
   },
   {
    "duration": 35,
    "start_time": "2023-12-31T20:19:56.682Z"
   },
   {
    "duration": 3,
    "start_time": "2023-12-31T20:19:56.718Z"
   },
   {
    "duration": 8,
    "start_time": "2023-12-31T20:19:56.723Z"
   },
   {
    "duration": 21,
    "start_time": "2023-12-31T20:19:56.732Z"
   },
   {
    "duration": 19,
    "start_time": "2023-12-31T20:19:56.754Z"
   },
   {
    "duration": 25,
    "start_time": "2023-12-31T20:19:56.777Z"
   },
   {
    "duration": 48,
    "start_time": "2023-12-31T20:19:56.804Z"
   },
   {
    "duration": 9,
    "start_time": "2023-12-31T20:19:56.853Z"
   },
   {
    "duration": 9,
    "start_time": "2023-12-31T20:19:56.863Z"
   },
   {
    "duration": 17,
    "start_time": "2023-12-31T20:19:56.875Z"
   },
   {
    "duration": 23,
    "start_time": "2023-12-31T20:19:56.893Z"
   },
   {
    "duration": 16,
    "start_time": "2023-12-31T20:19:56.918Z"
   },
   {
    "duration": 4,
    "start_time": "2023-12-31T20:19:56.935Z"
   },
   {
    "duration": 32,
    "start_time": "2023-12-31T20:19:56.940Z"
   },
   {
    "duration": 15,
    "start_time": "2023-12-31T20:19:56.975Z"
   },
   {
    "duration": 3,
    "start_time": "2023-12-31T20:19:56.991Z"
   },
   {
    "duration": 17,
    "start_time": "2023-12-31T20:19:56.995Z"
   },
   {
    "duration": 20,
    "start_time": "2023-12-31T20:19:57.013Z"
   },
   {
    "duration": 39,
    "start_time": "2023-12-31T20:19:57.035Z"
   },
   {
    "duration": 16,
    "start_time": "2023-12-31T20:19:57.076Z"
   },
   {
    "duration": 13,
    "start_time": "2023-12-31T20:19:57.093Z"
   },
   {
    "duration": 10,
    "start_time": "2023-12-31T20:19:57.107Z"
   },
   {
    "duration": 24,
    "start_time": "2023-12-31T20:20:46.582Z"
   },
   {
    "duration": 8,
    "start_time": "2023-12-31T20:20:54.915Z"
   },
   {
    "duration": 20,
    "start_time": "2023-12-31T20:22:48.711Z"
   },
   {
    "duration": 27,
    "start_time": "2023-12-31T20:22:55.714Z"
   },
   {
    "duration": 36,
    "start_time": "2023-12-31T20:23:05.535Z"
   },
   {
    "duration": 61,
    "start_time": "2023-12-31T21:40:03.025Z"
   },
   {
    "duration": 3,
    "start_time": "2023-12-31T21:40:08.514Z"
   },
   {
    "duration": 24,
    "start_time": "2023-12-31T21:40:15.715Z"
   },
   {
    "duration": 12,
    "start_time": "2023-12-31T21:40:26.750Z"
   },
   {
    "duration": 3,
    "start_time": "2023-12-31T21:40:28.795Z"
   },
   {
    "duration": 15,
    "start_time": "2023-12-31T21:40:31.065Z"
   },
   {
    "duration": 3,
    "start_time": "2023-12-31T21:41:07.032Z"
   },
   {
    "duration": 12,
    "start_time": "2023-12-31T21:41:08.143Z"
   },
   {
    "duration": 12,
    "start_time": "2023-12-31T21:41:48.942Z"
   },
   {
    "duration": 26,
    "start_time": "2023-12-31T21:42:14.839Z"
   },
   {
    "duration": 31,
    "start_time": "2023-12-31T21:44:04.165Z"
   },
   {
    "duration": 25,
    "start_time": "2023-12-31T21:44:14.997Z"
   },
   {
    "duration": 25,
    "start_time": "2023-12-31T21:49:39.168Z"
   },
   {
    "duration": 29,
    "start_time": "2023-12-31T21:49:54.126Z"
   },
   {
    "duration": 29,
    "start_time": "2023-12-31T21:57:47.513Z"
   },
   {
    "duration": 31,
    "start_time": "2023-12-31T22:12:09.724Z"
   },
   {
    "duration": 31,
    "start_time": "2023-12-31T22:12:25.127Z"
   },
   {
    "duration": 522,
    "start_time": "2024-01-01T11:12:05.348Z"
   },
   {
    "duration": 24,
    "start_time": "2024-01-01T11:12:05.871Z"
   },
   {
    "duration": 14,
    "start_time": "2024-01-01T11:12:05.897Z"
   },
   {
    "duration": 30,
    "start_time": "2024-01-01T11:12:05.912Z"
   },
   {
    "duration": 34,
    "start_time": "2024-01-01T11:12:05.944Z"
   },
   {
    "duration": 4,
    "start_time": "2024-01-01T11:12:05.980Z"
   },
   {
    "duration": 10,
    "start_time": "2024-01-01T11:12:05.985Z"
   },
   {
    "duration": 5,
    "start_time": "2024-01-01T11:12:05.997Z"
   },
   {
    "duration": 31,
    "start_time": "2024-01-01T11:12:06.004Z"
   },
   {
    "duration": 5,
    "start_time": "2024-01-01T11:12:06.038Z"
   },
   {
    "duration": 34,
    "start_time": "2024-01-01T11:12:06.045Z"
   },
   {
    "duration": 12,
    "start_time": "2024-01-01T11:12:06.080Z"
   },
   {
    "duration": 5,
    "start_time": "2024-01-01T11:12:06.094Z"
   },
   {
    "duration": 12,
    "start_time": "2024-01-01T11:12:06.130Z"
   },
   {
    "duration": 28,
    "start_time": "2024-01-01T11:12:06.144Z"
   },
   {
    "duration": 16,
    "start_time": "2024-01-01T11:12:06.174Z"
   },
   {
    "duration": 3,
    "start_time": "2024-01-01T11:12:06.192Z"
   },
   {
    "duration": 20,
    "start_time": "2024-01-01T11:12:06.197Z"
   },
   {
    "duration": 18,
    "start_time": "2024-01-01T11:12:06.219Z"
   },
   {
    "duration": 14,
    "start_time": "2024-01-01T11:12:06.238Z"
   },
   {
    "duration": 26,
    "start_time": "2024-01-01T11:12:06.253Z"
   },
   {
    "duration": 23,
    "start_time": "2024-01-01T11:12:06.281Z"
   },
   {
    "duration": 32,
    "start_time": "2024-01-01T11:12:06.306Z"
   },
   {
    "duration": 30,
    "start_time": "2024-01-01T11:12:06.339Z"
   },
   {
    "duration": 29,
    "start_time": "2024-01-01T11:12:06.370Z"
   },
   {
    "duration": 54,
    "start_time": "2024-01-01T11:12:06.400Z"
   }
  ],
  "colab": {
   "name": "dpp_template_part2.ipynb",
   "provenance": []
  },
  "kernelspec": {
   "display_name": "Python 3 (ipykernel)",
   "language": "python",
   "name": "python3"
  },
  "language_info": {
   "codemirror_mode": {
    "name": "ipython",
    "version": 3
   },
   "file_extension": ".py",
   "mimetype": "text/x-python",
   "name": "python",
   "nbconvert_exporter": "python",
   "pygments_lexer": "ipython3",
   "version": "3.11.4"
  },
  "toc": {
   "base_numbering": 1,
   "nav_menu": {},
   "number_sections": true,
   "sideBar": true,
   "skip_h1_title": true,
   "title_cell": "Table of Contents",
   "title_sidebar": "Contents",
   "toc_cell": false,
   "toc_position": {},
   "toc_section_display": true,
   "toc_window_display": false
  }
 },
 "nbformat": 4,
 "nbformat_minor": 5
}
